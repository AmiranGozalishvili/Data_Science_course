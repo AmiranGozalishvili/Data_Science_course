{
  "nbformat": 4,
  "nbformat_minor": 0,
  "metadata": {
    "colab": {
      "provenance": [],
      "authorship_tag": "ABX9TyPXbImlwgmbDJ/iRKWU0n21",
      "include_colab_link": true
    },
    "kernelspec": {
      "name": "python3",
      "display_name": "Python 3"
    },
    "language_info": {
      "name": "python"
    },
    "widgets": {
      "application/vnd.jupyter.widget-state+json": {
        "a7f29c1379cb43bc8ad69be37abc0497": {
          "model_module": "@jupyter-widgets/controls",
          "model_name": "HBoxModel",
          "model_module_version": "1.5.0",
          "state": {
            "_dom_classes": [],
            "_model_module": "@jupyter-widgets/controls",
            "_model_module_version": "1.5.0",
            "_model_name": "HBoxModel",
            "_view_count": null,
            "_view_module": "@jupyter-widgets/controls",
            "_view_module_version": "1.5.0",
            "_view_name": "HBoxView",
            "box_style": "",
            "children": [
              "IPY_MODEL_94074571628b44868cd9e25074a5d43d",
              "IPY_MODEL_e9c05a261dec4674862d1572f8dc4790",
              "IPY_MODEL_e68b8a9d80894c5886341d622ccfd39d"
            ],
            "layout": "IPY_MODEL_abe28c52edee43a0966e98fef3c2d322"
          }
        },
        "94074571628b44868cd9e25074a5d43d": {
          "model_module": "@jupyter-widgets/controls",
          "model_name": "HTMLModel",
          "model_module_version": "1.5.0",
          "state": {
            "_dom_classes": [],
            "_model_module": "@jupyter-widgets/controls",
            "_model_module_version": "1.5.0",
            "_model_name": "HTMLModel",
            "_view_count": null,
            "_view_module": "@jupyter-widgets/controls",
            "_view_module_version": "1.5.0",
            "_view_name": "HTMLView",
            "description": "",
            "description_tooltip": null,
            "layout": "IPY_MODEL_9067cad9e46c4ff092749a10a3af4b5a",
            "placeholder": "​",
            "style": "IPY_MODEL_43e8c4086f4d48de8e875aecd968b60d",
            "value": "100%"
          }
        },
        "e9c05a261dec4674862d1572f8dc4790": {
          "model_module": "@jupyter-widgets/controls",
          "model_name": "FloatProgressModel",
          "model_module_version": "1.5.0",
          "state": {
            "_dom_classes": [],
            "_model_module": "@jupyter-widgets/controls",
            "_model_module_version": "1.5.0",
            "_model_name": "FloatProgressModel",
            "_view_count": null,
            "_view_module": "@jupyter-widgets/controls",
            "_view_module_version": "1.5.0",
            "_view_name": "ProgressView",
            "bar_style": "success",
            "description": "",
            "description_tooltip": null,
            "layout": "IPY_MODEL_31c918c13c9b44f0b0131bea418da78c",
            "max": 3000,
            "min": 0,
            "orientation": "horizontal",
            "style": "IPY_MODEL_86511fedc2734d908e34e3baa2d16008",
            "value": 3000
          }
        },
        "e68b8a9d80894c5886341d622ccfd39d": {
          "model_module": "@jupyter-widgets/controls",
          "model_name": "HTMLModel",
          "model_module_version": "1.5.0",
          "state": {
            "_dom_classes": [],
            "_model_module": "@jupyter-widgets/controls",
            "_model_module_version": "1.5.0",
            "_model_name": "HTMLModel",
            "_view_count": null,
            "_view_module": "@jupyter-widgets/controls",
            "_view_module_version": "1.5.0",
            "_view_name": "HTMLView",
            "description": "",
            "description_tooltip": null,
            "layout": "IPY_MODEL_9a0fddc5a4d14548bf6f081f027073d5",
            "placeholder": "​",
            "style": "IPY_MODEL_512232a1898448bb9897eea8727a5ed5",
            "value": " 3000/3000 [04:35&lt;00:00, 19.84it/s]"
          }
        },
        "abe28c52edee43a0966e98fef3c2d322": {
          "model_module": "@jupyter-widgets/base",
          "model_name": "LayoutModel",
          "model_module_version": "1.2.0",
          "state": {
            "_model_module": "@jupyter-widgets/base",
            "_model_module_version": "1.2.0",
            "_model_name": "LayoutModel",
            "_view_count": null,
            "_view_module": "@jupyter-widgets/base",
            "_view_module_version": "1.2.0",
            "_view_name": "LayoutView",
            "align_content": null,
            "align_items": null,
            "align_self": null,
            "border": null,
            "bottom": null,
            "display": null,
            "flex": null,
            "flex_flow": null,
            "grid_area": null,
            "grid_auto_columns": null,
            "grid_auto_flow": null,
            "grid_auto_rows": null,
            "grid_column": null,
            "grid_gap": null,
            "grid_row": null,
            "grid_template_areas": null,
            "grid_template_columns": null,
            "grid_template_rows": null,
            "height": null,
            "justify_content": null,
            "justify_items": null,
            "left": null,
            "margin": null,
            "max_height": null,
            "max_width": null,
            "min_height": null,
            "min_width": null,
            "object_fit": null,
            "object_position": null,
            "order": null,
            "overflow": null,
            "overflow_x": null,
            "overflow_y": null,
            "padding": null,
            "right": null,
            "top": null,
            "visibility": null,
            "width": null
          }
        },
        "9067cad9e46c4ff092749a10a3af4b5a": {
          "model_module": "@jupyter-widgets/base",
          "model_name": "LayoutModel",
          "model_module_version": "1.2.0",
          "state": {
            "_model_module": "@jupyter-widgets/base",
            "_model_module_version": "1.2.0",
            "_model_name": "LayoutModel",
            "_view_count": null,
            "_view_module": "@jupyter-widgets/base",
            "_view_module_version": "1.2.0",
            "_view_name": "LayoutView",
            "align_content": null,
            "align_items": null,
            "align_self": null,
            "border": null,
            "bottom": null,
            "display": null,
            "flex": null,
            "flex_flow": null,
            "grid_area": null,
            "grid_auto_columns": null,
            "grid_auto_flow": null,
            "grid_auto_rows": null,
            "grid_column": null,
            "grid_gap": null,
            "grid_row": null,
            "grid_template_areas": null,
            "grid_template_columns": null,
            "grid_template_rows": null,
            "height": null,
            "justify_content": null,
            "justify_items": null,
            "left": null,
            "margin": null,
            "max_height": null,
            "max_width": null,
            "min_height": null,
            "min_width": null,
            "object_fit": null,
            "object_position": null,
            "order": null,
            "overflow": null,
            "overflow_x": null,
            "overflow_y": null,
            "padding": null,
            "right": null,
            "top": null,
            "visibility": null,
            "width": null
          }
        },
        "43e8c4086f4d48de8e875aecd968b60d": {
          "model_module": "@jupyter-widgets/controls",
          "model_name": "DescriptionStyleModel",
          "model_module_version": "1.5.0",
          "state": {
            "_model_module": "@jupyter-widgets/controls",
            "_model_module_version": "1.5.0",
            "_model_name": "DescriptionStyleModel",
            "_view_count": null,
            "_view_module": "@jupyter-widgets/base",
            "_view_module_version": "1.2.0",
            "_view_name": "StyleView",
            "description_width": ""
          }
        },
        "31c918c13c9b44f0b0131bea418da78c": {
          "model_module": "@jupyter-widgets/base",
          "model_name": "LayoutModel",
          "model_module_version": "1.2.0",
          "state": {
            "_model_module": "@jupyter-widgets/base",
            "_model_module_version": "1.2.0",
            "_model_name": "LayoutModel",
            "_view_count": null,
            "_view_module": "@jupyter-widgets/base",
            "_view_module_version": "1.2.0",
            "_view_name": "LayoutView",
            "align_content": null,
            "align_items": null,
            "align_self": null,
            "border": null,
            "bottom": null,
            "display": null,
            "flex": null,
            "flex_flow": null,
            "grid_area": null,
            "grid_auto_columns": null,
            "grid_auto_flow": null,
            "grid_auto_rows": null,
            "grid_column": null,
            "grid_gap": null,
            "grid_row": null,
            "grid_template_areas": null,
            "grid_template_columns": null,
            "grid_template_rows": null,
            "height": null,
            "justify_content": null,
            "justify_items": null,
            "left": null,
            "margin": null,
            "max_height": null,
            "max_width": null,
            "min_height": null,
            "min_width": null,
            "object_fit": null,
            "object_position": null,
            "order": null,
            "overflow": null,
            "overflow_x": null,
            "overflow_y": null,
            "padding": null,
            "right": null,
            "top": null,
            "visibility": null,
            "width": null
          }
        },
        "86511fedc2734d908e34e3baa2d16008": {
          "model_module": "@jupyter-widgets/controls",
          "model_name": "ProgressStyleModel",
          "model_module_version": "1.5.0",
          "state": {
            "_model_module": "@jupyter-widgets/controls",
            "_model_module_version": "1.5.0",
            "_model_name": "ProgressStyleModel",
            "_view_count": null,
            "_view_module": "@jupyter-widgets/base",
            "_view_module_version": "1.2.0",
            "_view_name": "StyleView",
            "bar_color": null,
            "description_width": ""
          }
        },
        "9a0fddc5a4d14548bf6f081f027073d5": {
          "model_module": "@jupyter-widgets/base",
          "model_name": "LayoutModel",
          "model_module_version": "1.2.0",
          "state": {
            "_model_module": "@jupyter-widgets/base",
            "_model_module_version": "1.2.0",
            "_model_name": "LayoutModel",
            "_view_count": null,
            "_view_module": "@jupyter-widgets/base",
            "_view_module_version": "1.2.0",
            "_view_name": "LayoutView",
            "align_content": null,
            "align_items": null,
            "align_self": null,
            "border": null,
            "bottom": null,
            "display": null,
            "flex": null,
            "flex_flow": null,
            "grid_area": null,
            "grid_auto_columns": null,
            "grid_auto_flow": null,
            "grid_auto_rows": null,
            "grid_column": null,
            "grid_gap": null,
            "grid_row": null,
            "grid_template_areas": null,
            "grid_template_columns": null,
            "grid_template_rows": null,
            "height": null,
            "justify_content": null,
            "justify_items": null,
            "left": null,
            "margin": null,
            "max_height": null,
            "max_width": null,
            "min_height": null,
            "min_width": null,
            "object_fit": null,
            "object_position": null,
            "order": null,
            "overflow": null,
            "overflow_x": null,
            "overflow_y": null,
            "padding": null,
            "right": null,
            "top": null,
            "visibility": null,
            "width": null
          }
        },
        "512232a1898448bb9897eea8727a5ed5": {
          "model_module": "@jupyter-widgets/controls",
          "model_name": "DescriptionStyleModel",
          "model_module_version": "1.5.0",
          "state": {
            "_model_module": "@jupyter-widgets/controls",
            "_model_module_version": "1.5.0",
            "_model_name": "DescriptionStyleModel",
            "_view_count": null,
            "_view_module": "@jupyter-widgets/base",
            "_view_module_version": "1.2.0",
            "_view_name": "StyleView",
            "description_width": ""
          }
        }
      }
    }
  },
  "cells": [
    {
      "cell_type": "markdown",
      "metadata": {
        "id": "view-in-github",
        "colab_type": "text"
      },
      "source": [
        "<a href=\"https://colab.research.google.com/github/AmiranGozalishvili/Data_Science_course/blob/main/Earthquake_dataset_Unsupervized_learning.ipynb\" target=\"_parent\"><img src=\"https://colab.research.google.com/assets/colab-badge.svg\" alt=\"Open In Colab\"/></a>"
      ]
    },
    {
      "cell_type": "code",
      "execution_count": null,
      "metadata": {
        "colab": {
          "base_uri": "https://localhost:8080/"
        },
        "id": "ZXl8rCNMVeme",
        "outputId": "2013d67e-2d7b-482f-f77e-78628a4280bb"
      },
      "outputs": [
        {
          "output_type": "stream",
          "name": "stdout",
          "text": [
            "Dataset names: dict_keys(['suicide_rates', 'car_perfs', 'brain', 'bank', 'air_quality', 'hypothyroid', 'movies', 'bike_sharing_day', 'bike_sharing_hour', 'quake'])\n",
            "(2178, 4)\n"
          ]
        }
      ],
      "source": [
        "# !pip install plotly --upgrade\n",
        "# !pip install bds_courseware\n",
        "# !pip install geopandas\n",
        "\n",
        "from bds_courseware import read_drive_dataset\n",
        "from bds_courseware import print_dataset_description, print_module_datasets\n",
        "from bds_courseware import HOMEWORK_DATASETS\n",
        "print(\"Dataset names:\", HOMEWORK_DATASETS.keys())\n",
        "name = \"quake\"\n",
        "data = read_drive_dataset(*HOMEWORK_DATASETS[name])\n",
        "print(data.shape)"
      ]
    },
    {
      "cell_type": "code",
      "source": [
        "import numpy as np\n",
        "import pandas as pd\n",
        "\n",
        "import itertools\n",
        "\n",
        "from tqdm.notebook import tqdm as tqdm\n",
        "\n",
        "from matplotlib import pyplot as plt\n",
        "import matplotlib.cm as cm\n",
        "import plotly.express as px\n",
        "import plotly\n",
        "print(f\"plotly.__version__: {plotly.__version__}\")\n",
        "\n",
        "from sklearn.datasets import load_wine\n",
        "from sklearn.decomposition import PCA\n",
        "from sklearn.preprocessing import StandardScaler\n",
        "from sklearn.neighbors import NearestNeighbors\n",
        "\n",
        "from sklearn.cluster import KMeans\n",
        "from sklearn.cluster import DBSCAN\n",
        "from sklearn.cluster import AgglomerativeClustering\n",
        "from scipy.cluster.hierarchy import dendrogram\n",
        "from sklearn.metrics import calinski_harabasz_score, adjusted_rand_score, adjusted_mutual_info_score, silhouette_score, silhouette_samples\n",
        "\n",
        "\n",
        "# from shapely.geometry import Point\n",
        "# import geopandas as gpd\n",
        "# from geopandas import GeoDataFrame"
      ],
      "metadata": {
        "colab": {
          "base_uri": "https://localhost:8080/"
        },
        "id": "TSDZOc4CQ0Ma",
        "outputId": "418042db-bce9-44e2-e175-4bed49ed36a1"
      },
      "execution_count": null,
      "outputs": [
        {
          "output_type": "stream",
          "name": "stdout",
          "text": [
            "plotly.__version__: 5.13.1\n"
          ]
        }
      ]
    },
    {
      "cell_type": "markdown",
      "source": [
        "## EDA"
      ],
      "metadata": {
        "id": "1evWOwxhINfT"
      }
    },
    {
      "cell_type": "code",
      "source": [
        "data.columns"
      ],
      "metadata": {
        "colab": {
          "base_uri": "https://localhost:8080/"
        },
        "id": "bEUY8sYlQq2B",
        "outputId": "4654e6e2-e9e9-43dd-b3eb-fcf352f4939d"
      },
      "execution_count": null,
      "outputs": [
        {
          "output_type": "execute_result",
          "data": {
            "text/plain": [
              "Index(['Focal depth', 'Latitude', 'Longitude', 'Richter'], dtype='object')"
            ]
          },
          "metadata": {},
          "execution_count": 5
        }
      ]
    },
    {
      "cell_type": "code",
      "source": [
        "df = data\n",
        "df_location = data[['Latitude', 'Longitude']]\n",
        "df_magnitude =data[['Focal depth', 'Richter']]\n",
        "df.head()"
      ],
      "metadata": {
        "colab": {
          "base_uri": "https://localhost:8080/",
          "height": 206
        },
        "id": "qlz4PQFrVtXR",
        "outputId": "63c6ff96-4c64-430b-e177-d320fcf86e47"
      },
      "execution_count": null,
      "outputs": [
        {
          "output_type": "execute_result",
          "data": {
            "text/plain": [
              "   Focal depth  Latitude  Longitude  Richter\n",
              "0           33    -52.26      28.30      6.7\n",
              "1           36     45.53     150.93      5.8\n",
              "2           57     41.85     142.78      5.8\n",
              "3           67     29.19     141.15      6.2\n",
              "4           30    -21.66     169.81      6.0"
            ],
            "text/html": [
              "\n",
              "  <div id=\"df-a0654da1-c4d1-4dd2-bca9-3efec7dd896a\">\n",
              "    <div class=\"colab-df-container\">\n",
              "      <div>\n",
              "<style scoped>\n",
              "    .dataframe tbody tr th:only-of-type {\n",
              "        vertical-align: middle;\n",
              "    }\n",
              "\n",
              "    .dataframe tbody tr th {\n",
              "        vertical-align: top;\n",
              "    }\n",
              "\n",
              "    .dataframe thead th {\n",
              "        text-align: right;\n",
              "    }\n",
              "</style>\n",
              "<table border=\"1\" class=\"dataframe\">\n",
              "  <thead>\n",
              "    <tr style=\"text-align: right;\">\n",
              "      <th></th>\n",
              "      <th>Focal depth</th>\n",
              "      <th>Latitude</th>\n",
              "      <th>Longitude</th>\n",
              "      <th>Richter</th>\n",
              "    </tr>\n",
              "  </thead>\n",
              "  <tbody>\n",
              "    <tr>\n",
              "      <th>0</th>\n",
              "      <td>33</td>\n",
              "      <td>-52.26</td>\n",
              "      <td>28.30</td>\n",
              "      <td>6.7</td>\n",
              "    </tr>\n",
              "    <tr>\n",
              "      <th>1</th>\n",
              "      <td>36</td>\n",
              "      <td>45.53</td>\n",
              "      <td>150.93</td>\n",
              "      <td>5.8</td>\n",
              "    </tr>\n",
              "    <tr>\n",
              "      <th>2</th>\n",
              "      <td>57</td>\n",
              "      <td>41.85</td>\n",
              "      <td>142.78</td>\n",
              "      <td>5.8</td>\n",
              "    </tr>\n",
              "    <tr>\n",
              "      <th>3</th>\n",
              "      <td>67</td>\n",
              "      <td>29.19</td>\n",
              "      <td>141.15</td>\n",
              "      <td>6.2</td>\n",
              "    </tr>\n",
              "    <tr>\n",
              "      <th>4</th>\n",
              "      <td>30</td>\n",
              "      <td>-21.66</td>\n",
              "      <td>169.81</td>\n",
              "      <td>6.0</td>\n",
              "    </tr>\n",
              "  </tbody>\n",
              "</table>\n",
              "</div>\n",
              "      <button class=\"colab-df-convert\" onclick=\"convertToInteractive('df-a0654da1-c4d1-4dd2-bca9-3efec7dd896a')\"\n",
              "              title=\"Convert this dataframe to an interactive table.\"\n",
              "              style=\"display:none;\">\n",
              "        \n",
              "  <svg xmlns=\"http://www.w3.org/2000/svg\" height=\"24px\"viewBox=\"0 0 24 24\"\n",
              "       width=\"24px\">\n",
              "    <path d=\"M0 0h24v24H0V0z\" fill=\"none\"/>\n",
              "    <path d=\"M18.56 5.44l.94 2.06.94-2.06 2.06-.94-2.06-.94-.94-2.06-.94 2.06-2.06.94zm-11 1L8.5 8.5l.94-2.06 2.06-.94-2.06-.94L8.5 2.5l-.94 2.06-2.06.94zm10 10l.94 2.06.94-2.06 2.06-.94-2.06-.94-.94-2.06-.94 2.06-2.06.94z\"/><path d=\"M17.41 7.96l-1.37-1.37c-.4-.4-.92-.59-1.43-.59-.52 0-1.04.2-1.43.59L10.3 9.45l-7.72 7.72c-.78.78-.78 2.05 0 2.83L4 21.41c.39.39.9.59 1.41.59.51 0 1.02-.2 1.41-.59l7.78-7.78 2.81-2.81c.8-.78.8-2.07 0-2.86zM5.41 20L4 18.59l7.72-7.72 1.47 1.35L5.41 20z\"/>\n",
              "  </svg>\n",
              "      </button>\n",
              "      \n",
              "  <style>\n",
              "    .colab-df-container {\n",
              "      display:flex;\n",
              "      flex-wrap:wrap;\n",
              "      gap: 12px;\n",
              "    }\n",
              "\n",
              "    .colab-df-convert {\n",
              "      background-color: #E8F0FE;\n",
              "      border: none;\n",
              "      border-radius: 50%;\n",
              "      cursor: pointer;\n",
              "      display: none;\n",
              "      fill: #1967D2;\n",
              "      height: 32px;\n",
              "      padding: 0 0 0 0;\n",
              "      width: 32px;\n",
              "    }\n",
              "\n",
              "    .colab-df-convert:hover {\n",
              "      background-color: #E2EBFA;\n",
              "      box-shadow: 0px 1px 2px rgba(60, 64, 67, 0.3), 0px 1px 3px 1px rgba(60, 64, 67, 0.15);\n",
              "      fill: #174EA6;\n",
              "    }\n",
              "\n",
              "    [theme=dark] .colab-df-convert {\n",
              "      background-color: #3B4455;\n",
              "      fill: #D2E3FC;\n",
              "    }\n",
              "\n",
              "    [theme=dark] .colab-df-convert:hover {\n",
              "      background-color: #434B5C;\n",
              "      box-shadow: 0px 1px 3px 1px rgba(0, 0, 0, 0.15);\n",
              "      filter: drop-shadow(0px 1px 2px rgba(0, 0, 0, 0.3));\n",
              "      fill: #FFFFFF;\n",
              "    }\n",
              "  </style>\n",
              "\n",
              "      <script>\n",
              "        const buttonEl =\n",
              "          document.querySelector('#df-a0654da1-c4d1-4dd2-bca9-3efec7dd896a button.colab-df-convert');\n",
              "        buttonEl.style.display =\n",
              "          google.colab.kernel.accessAllowed ? 'block' : 'none';\n",
              "\n",
              "        async function convertToInteractive(key) {\n",
              "          const element = document.querySelector('#df-a0654da1-c4d1-4dd2-bca9-3efec7dd896a');\n",
              "          const dataTable =\n",
              "            await google.colab.kernel.invokeFunction('convertToInteractive',\n",
              "                                                     [key], {});\n",
              "          if (!dataTable) return;\n",
              "\n",
              "          const docLinkHtml = 'Like what you see? Visit the ' +\n",
              "            '<a target=\"_blank\" href=https://colab.research.google.com/notebooks/data_table.ipynb>data table notebook</a>'\n",
              "            + ' to learn more about interactive tables.';\n",
              "          element.innerHTML = '';\n",
              "          dataTable['output_type'] = 'display_data';\n",
              "          await google.colab.output.renderOutput(dataTable, element);\n",
              "          const docLink = document.createElement('div');\n",
              "          docLink.innerHTML = docLinkHtml;\n",
              "          element.appendChild(docLink);\n",
              "        }\n",
              "      </script>\n",
              "    </div>\n",
              "  </div>\n",
              "  "
            ]
          },
          "metadata": {},
          "execution_count": 6
        }
      ]
    },
    {
      "cell_type": "code",
      "source": [
        "df.describe()"
      ],
      "metadata": {
        "colab": {
          "base_uri": "https://localhost:8080/",
          "height": 300
        },
        "id": "UmfSpHg7Wj1f",
        "outputId": "2f62b7f9-f3e5-493a-f90a-4e19aae92c4b"
      },
      "execution_count": null,
      "outputs": [
        {
          "output_type": "execute_result",
          "data": {
            "text/plain": [
              "       Focal depth     Latitude    Longitude      Richter\n",
              "count  2178.000000  2178.000000  2178.000000  2178.000000\n",
              "mean     74.359963     7.961997    54.914835     5.977181\n",
              "std     116.467797    30.545583   118.875581     0.189426\n",
              "min       0.000000   -66.490000  -179.960000     5.800000\n",
              "25%      21.000000   -12.432500   -67.782500     5.800000\n",
              "50%      39.000000     0.210000   122.100000     5.900000\n",
              "75%      68.000000    36.480000   146.860000     6.100000\n",
              "max     656.000000    78.150000   180.000000     6.900000"
            ],
            "text/html": [
              "\n",
              "  <div id=\"df-3235ad74-8781-4d66-82ca-75a836eed2aa\">\n",
              "    <div class=\"colab-df-container\">\n",
              "      <div>\n",
              "<style scoped>\n",
              "    .dataframe tbody tr th:only-of-type {\n",
              "        vertical-align: middle;\n",
              "    }\n",
              "\n",
              "    .dataframe tbody tr th {\n",
              "        vertical-align: top;\n",
              "    }\n",
              "\n",
              "    .dataframe thead th {\n",
              "        text-align: right;\n",
              "    }\n",
              "</style>\n",
              "<table border=\"1\" class=\"dataframe\">\n",
              "  <thead>\n",
              "    <tr style=\"text-align: right;\">\n",
              "      <th></th>\n",
              "      <th>Focal depth</th>\n",
              "      <th>Latitude</th>\n",
              "      <th>Longitude</th>\n",
              "      <th>Richter</th>\n",
              "    </tr>\n",
              "  </thead>\n",
              "  <tbody>\n",
              "    <tr>\n",
              "      <th>count</th>\n",
              "      <td>2178.000000</td>\n",
              "      <td>2178.000000</td>\n",
              "      <td>2178.000000</td>\n",
              "      <td>2178.000000</td>\n",
              "    </tr>\n",
              "    <tr>\n",
              "      <th>mean</th>\n",
              "      <td>74.359963</td>\n",
              "      <td>7.961997</td>\n",
              "      <td>54.914835</td>\n",
              "      <td>5.977181</td>\n",
              "    </tr>\n",
              "    <tr>\n",
              "      <th>std</th>\n",
              "      <td>116.467797</td>\n",
              "      <td>30.545583</td>\n",
              "      <td>118.875581</td>\n",
              "      <td>0.189426</td>\n",
              "    </tr>\n",
              "    <tr>\n",
              "      <th>min</th>\n",
              "      <td>0.000000</td>\n",
              "      <td>-66.490000</td>\n",
              "      <td>-179.960000</td>\n",
              "      <td>5.800000</td>\n",
              "    </tr>\n",
              "    <tr>\n",
              "      <th>25%</th>\n",
              "      <td>21.000000</td>\n",
              "      <td>-12.432500</td>\n",
              "      <td>-67.782500</td>\n",
              "      <td>5.800000</td>\n",
              "    </tr>\n",
              "    <tr>\n",
              "      <th>50%</th>\n",
              "      <td>39.000000</td>\n",
              "      <td>0.210000</td>\n",
              "      <td>122.100000</td>\n",
              "      <td>5.900000</td>\n",
              "    </tr>\n",
              "    <tr>\n",
              "      <th>75%</th>\n",
              "      <td>68.000000</td>\n",
              "      <td>36.480000</td>\n",
              "      <td>146.860000</td>\n",
              "      <td>6.100000</td>\n",
              "    </tr>\n",
              "    <tr>\n",
              "      <th>max</th>\n",
              "      <td>656.000000</td>\n",
              "      <td>78.150000</td>\n",
              "      <td>180.000000</td>\n",
              "      <td>6.900000</td>\n",
              "    </tr>\n",
              "  </tbody>\n",
              "</table>\n",
              "</div>\n",
              "      <button class=\"colab-df-convert\" onclick=\"convertToInteractive('df-3235ad74-8781-4d66-82ca-75a836eed2aa')\"\n",
              "              title=\"Convert this dataframe to an interactive table.\"\n",
              "              style=\"display:none;\">\n",
              "        \n",
              "  <svg xmlns=\"http://www.w3.org/2000/svg\" height=\"24px\"viewBox=\"0 0 24 24\"\n",
              "       width=\"24px\">\n",
              "    <path d=\"M0 0h24v24H0V0z\" fill=\"none\"/>\n",
              "    <path d=\"M18.56 5.44l.94 2.06.94-2.06 2.06-.94-2.06-.94-.94-2.06-.94 2.06-2.06.94zm-11 1L8.5 8.5l.94-2.06 2.06-.94-2.06-.94L8.5 2.5l-.94 2.06-2.06.94zm10 10l.94 2.06.94-2.06 2.06-.94-2.06-.94-.94-2.06-.94 2.06-2.06.94z\"/><path d=\"M17.41 7.96l-1.37-1.37c-.4-.4-.92-.59-1.43-.59-.52 0-1.04.2-1.43.59L10.3 9.45l-7.72 7.72c-.78.78-.78 2.05 0 2.83L4 21.41c.39.39.9.59 1.41.59.51 0 1.02-.2 1.41-.59l7.78-7.78 2.81-2.81c.8-.78.8-2.07 0-2.86zM5.41 20L4 18.59l7.72-7.72 1.47 1.35L5.41 20z\"/>\n",
              "  </svg>\n",
              "      </button>\n",
              "      \n",
              "  <style>\n",
              "    .colab-df-container {\n",
              "      display:flex;\n",
              "      flex-wrap:wrap;\n",
              "      gap: 12px;\n",
              "    }\n",
              "\n",
              "    .colab-df-convert {\n",
              "      background-color: #E8F0FE;\n",
              "      border: none;\n",
              "      border-radius: 50%;\n",
              "      cursor: pointer;\n",
              "      display: none;\n",
              "      fill: #1967D2;\n",
              "      height: 32px;\n",
              "      padding: 0 0 0 0;\n",
              "      width: 32px;\n",
              "    }\n",
              "\n",
              "    .colab-df-convert:hover {\n",
              "      background-color: #E2EBFA;\n",
              "      box-shadow: 0px 1px 2px rgba(60, 64, 67, 0.3), 0px 1px 3px 1px rgba(60, 64, 67, 0.15);\n",
              "      fill: #174EA6;\n",
              "    }\n",
              "\n",
              "    [theme=dark] .colab-df-convert {\n",
              "      background-color: #3B4455;\n",
              "      fill: #D2E3FC;\n",
              "    }\n",
              "\n",
              "    [theme=dark] .colab-df-convert:hover {\n",
              "      background-color: #434B5C;\n",
              "      box-shadow: 0px 1px 3px 1px rgba(0, 0, 0, 0.15);\n",
              "      filter: drop-shadow(0px 1px 2px rgba(0, 0, 0, 0.3));\n",
              "      fill: #FFFFFF;\n",
              "    }\n",
              "  </style>\n",
              "\n",
              "      <script>\n",
              "        const buttonEl =\n",
              "          document.querySelector('#df-3235ad74-8781-4d66-82ca-75a836eed2aa button.colab-df-convert');\n",
              "        buttonEl.style.display =\n",
              "          google.colab.kernel.accessAllowed ? 'block' : 'none';\n",
              "\n",
              "        async function convertToInteractive(key) {\n",
              "          const element = document.querySelector('#df-3235ad74-8781-4d66-82ca-75a836eed2aa');\n",
              "          const dataTable =\n",
              "            await google.colab.kernel.invokeFunction('convertToInteractive',\n",
              "                                                     [key], {});\n",
              "          if (!dataTable) return;\n",
              "\n",
              "          const docLinkHtml = 'Like what you see? Visit the ' +\n",
              "            '<a target=\"_blank\" href=https://colab.research.google.com/notebooks/data_table.ipynb>data table notebook</a>'\n",
              "            + ' to learn more about interactive tables.';\n",
              "          element.innerHTML = '';\n",
              "          dataTable['output_type'] = 'display_data';\n",
              "          await google.colab.output.renderOutput(dataTable, element);\n",
              "          const docLink = document.createElement('div');\n",
              "          docLink.innerHTML = docLinkHtml;\n",
              "          element.appendChild(docLink);\n",
              "        }\n",
              "      </script>\n",
              "    </div>\n",
              "  </div>\n",
              "  "
            ]
          },
          "metadata": {},
          "execution_count": 7
        }
      ]
    },
    {
      "cell_type": "markdown",
      "source": [
        "I can't understand how can i generate new feature with this dataframe\n",
        "\n",
        "Question: what will be best new feature and how it is possible to generate?"
      ],
      "metadata": {
        "id": "K0IltRZ4Lifl"
      }
    },
    {
      "cell_type": "code",
      "source": [
        "df.isna().sum()"
      ],
      "metadata": {
        "colab": {
          "base_uri": "https://localhost:8080/"
        },
        "id": "SYCrOShIZr4G",
        "outputId": "d829de40-14ca-4af3-f7b9-df7ff71696c8"
      },
      "execution_count": null,
      "outputs": [
        {
          "output_type": "execute_result",
          "data": {
            "text/plain": [
              "Focal depth    0\n",
              "Latitude       0\n",
              "Longitude      0\n",
              "Richter        0\n",
              "dtype: int64"
            ]
          },
          "metadata": {},
          "execution_count": 8
        }
      ]
    },
    {
      "cell_type": "markdown",
      "source": [
        "plot location of earthquakes with respect to depth"
      ],
      "metadata": {
        "id": "XowZ-F3SNTkt"
      }
    },
    {
      "cell_type": "code",
      "source": [
        "fig = px.scatter_geo(df, lat='Latitude',\n",
        "                     lon='Longitude',\n",
        "                     color='Focal depth',\n",
        "                     width = 1366,\n",
        "                     height = 768,\n",
        "                     title='Earthquake locations with respect of epicenter depth'\n",
        "                     )\n",
        "fig.show()"
      ],
      "metadata": {
        "colab": {
          "base_uri": "https://localhost:8080/",
          "height": 785
        },
        "id": "9xhSXAN1iqPL",
        "outputId": "6050b7f6-17d6-47fb-e98d-56150f28dd26"
      },
      "execution_count": null,
      "outputs": [
        {
          "output_type": "display_data",
          "data": {
            "text/html": [
              "<html>\n",
              "<head><meta charset=\"utf-8\" /></head>\n",
              "<body>\n",
              "    <div>            <script src=\"https://cdnjs.cloudflare.com/ajax/libs/mathjax/2.7.5/MathJax.js?config=TeX-AMS-MML_SVG\"></script><script type=\"text/javascript\">if (window.MathJax && window.MathJax.Hub && window.MathJax.Hub.Config) {window.MathJax.Hub.Config({SVG: {font: \"STIX-Web\"}});}</script>                <script type=\"text/javascript\">window.PlotlyConfig = {MathJaxConfig: 'local'};</script>\n",
              "        <script src=\"https://cdn.plot.ly/plotly-2.18.2.min.js\"></script>                <div id=\"99bf19d3-e5e3-4c5c-8a57-122e813070b4\" class=\"plotly-graph-div\" style=\"height:768px; width:1366px;\"></div>            <script type=\"text/javascript\">                                    window.PLOTLYENV=window.PLOTLYENV || {};                                    if (document.getElementById(\"99bf19d3-e5e3-4c5c-8a57-122e813070b4\")) {                    Plotly.newPlot(                        \"99bf19d3-e5e3-4c5c-8a57-122e813070b4\",                        [{\"geo\":\"geo\",\"hovertemplate\":\"Latitude=%{lat}<br>Longitude=%{lon}<br>Focal depth=%{marker.color}<extra></extra>\",\"lat\":[-52.26,45.53,41.85,29.19,-21.66,23.09,-20.7,22.33,-13.64,-16.31,36.48,55.72,55.75,-5.14,-44.6,-44.2,36.23,36.95,14.42,-6.44,59.79,57.2,58.26,58.83,56.42,57.17,60.05,0.4,56.45,60.36,60.51,59.79,56.65,3.91,61.62,60.11,56.85,56.3,60.25,0.02,56.6,61.51,-5.42,-5.07,45.35,-3.88,40.39,40.55,-2.73,-56.45,-56.09,-56.17,43.43,38.4,43.16,-1.76,-0.5,11.7,18.31,-5.54,-15.56,47.09,46.96,47.09,-27.82,14.17,-41.13,-5.48,-26.37,78.15,-4.42,-48.95,8.9,29.96,-10.42,40.3,-31.4,-7.17,28.04,19.8,-45.6,3.11,-31.78,-5.75,-20.46,-6.0,-4.34,-27.46,40.49,-20.45,-13.49,27.4,49.88,-56.46,-2.4,-2.64,-51.7,51.29,51.39,52.74,53.05,52.37,53.14,52.05,53.26,51.34,28.62,52.73,2.97,-25.67,-5.43,-5.36,53.02,36.42,40.75,-1.47,-31.81,55.2,-32.42,40.73,50.32,38.38,35.06,-42.66,64.69,54.25,21.0,-7.02,47.41,-55.99,-6.2,22.41,-14.6,52.17,-56.24,-7.53,15.93,44.45,7.21,-54.59,53.03,38.37,51.11,-55.9,-7.31,-5.21,-15.47,-15.75,-15.86,-5.25,-0.47,-5.74,-18.84,-22.91,16.33,58.29,6.51,-5.33,-6.37,-6.46,7.13,-1.4,36.35,28.96,36.44,-54.74,50.02,49.45,-42.9,12.46,44.21,-9.04,-22.34,30.68,43.87,-29.34,31.0,53.89,-7.28,-6.21,51.32,-9.61,-6.39,17.35,58.35,50.04,20.73,49.77,-17.66,-32.2,-5.41,48.29,31.49,1.85,24.24,-21.08,0.81,49.72,37.49,23.86,23.72,51.24,57.37,-0.78,-0.52,-52.77,-23.4,36.43,11.26,-12.23,-10.43,-10.15,-7.21,29.62,29.71,24.86,51.99,50.57,-0.1,-0.05,39.17,8.48,2.34,-23.0,-60.33,27.87,-21.59,-60.44,-10.74,-1.52,73.4,22.11,38.9,-31.95,41.68,-14.03,49.92,-26.06,-7.11,-25.51,-15.16,48.22,38.33,56.68,-14.83,48.08,52.4,24.0,2.93,-9.05,-23.79,-9.12,-0.09,-0.13,49.79,-0.16,39.25,-10.64,-10.75,-10.77,-40.12,-6.73,45.53,-6.01,-11.14,45.56,20.0,5.16,27.32,51.47,-20.25,-0.96,51.86,-15.33,-58.36,52.76,-25.18,54.44,52.58,40.67,6.84,35.43,10.36,3.72,-60.84,12.18,31.61,-10.59,-27.62,27.42,42.92,-57.82,-49.57,-20.78,19.5,-6.59,-5.66,-21.1,-7.15,11.91,73.4,24.43,-7.02,-28.78,14.48,41.41,49.45,17.54,-21.89,17.42,17.61,-5.25,-21.29,-22.46,-7.53,-9.29,-8.93,43.52,-6.1,-5.54,39.4,22.76,-16.13,-6.59,32.48,32.24,33.22,58.69,43.58,29.93,40.86,41.52,40.78,39.83,-30.86,-30.84,44.67,41.47,-41.72,-6.84,-2.98,44.48,-1.86,39.47,5.64,41.06,-5.55,-5.51,36.01,-2.7,38.54,39.54,-30.97,-0.27,-6.86,16.3,16.56,25.73,16.45,6.6,33.31,1.38,1.4,0.06,-10.2,1.17,34.15,34.09,-3.74,-8.62,-21.57,28.3,-6.08,10.76,42.08,15.54,-30.52,-6.89,-3.65,-13.1,49.82,-56.27,-7.6,26.29,-39.85,-31.54,-3.38,-12.41,65.46,1.2,-14.2,73.39,9.57,40.3,-14.01,51.56,60.15,-56.03,-8.03,-10.57,-56.81,44.89,-14.89,54.84,-21.87,0.77,-17.15,4.77,4.81,-8.07,-22.75,41.42,-6.76,3.5,-3.17,35.97,8.69,4.72,38.55,11.91,27.61,12.0,-6.11,-13.57,32.15,-30.5,-16.71,51.29,34.43,49.41,-7.93,-52.53,53.31,51.46,52.21,38.43,-17.3,-11.84,-5.71,1.26,36.44,-6.14,43.46,43.59,43.44,43.61,43.63,43.72,43.78,1.81,43.45,43.14,21.57,43.17,25.12,47.88,-8.89,-8.98,51.27,31.08,15.3,-60.9,-11.75,73.39,23.09,51.31,34.77,-16.11,-53.37,51.26,34.72,27.8,1.94,57.7,37.16,49.94,43.79,1.99,8.2,46.21,15.79,16.08,28.55,24.12,-34.85,6.8,-25.85,42.48,7.03,15.57,12.58,-9.84,9.8,30.61,50.13,52.59,12.15,-19.07,44.65,57.39,-29.6,51.34,-22.08,0.28,-6.26,39.21,-17.07,6.78,39.78,15.78,38.34,15.08,-18.79,52.93,14.65,14.61,-4.37,50.19,-55.92,27.22,-11.73,-9.15,-9.93,-9.28,-10.22,-9.88,42.48,44.72,-24.47,-58.86,-2.9,-51.94,-16.0,-22.28,-7.9,-8.75,-21.66,-10.14,18.0,51.35,32.26,32.31,-37.73,26.02,-1.46,1.16,-13.92,-14.13,-60.63,-13.89,-9.0,60.7,-56.46,-4.6,52.36,17.7,13.0,-6.5,6.37,6.52,-13.52,-3.56,-31.94,-32.0,-4.1,73.31,39.25,-4.97,-3.43,-5.1,-6.05,43.46,-20.94,-4.11,-11.02,-11.03,-23.19,41.79,29.79,-30.81,-3.97,43.87,-1.59,43.81,-5.23,-10.58,-3.21,-2.95,-3.06,-3.31,-3.01,-3.24,-3.31,-3.37,-3.08,-3.41,-3.63,-9.65,51.46,51.69,-2.89,0.53,51.47,-63.43,34.4,-23.81,-5.75,-10.93,8.43,-22.96,70.97,41.42,4.76,60.33,37.3,38.41,-0.36,53.26,2.45,-4.42,28.3,49.77,51.41,-6.54,-42.28,-39.78,7.99,63.92,38.85,18.02,51.67,-25.4,-5.26,-6.23,-5.18,-5.97,-7.03,-32.51,-32.19,-5.52,-4.86,-5.78,52.13,-4.93,39.81,-5.4,-5.53,-5.16,-5.7,-5.81,-5.86,-2.79,-4.89,-5.14,41.37,-0.85,-5.88,-5.74,49.29,13.3,-55.73,46.54,46.76,46.28,44.34,-20.41,-6.46,-6.79,39.17,-5.93,-6.54,-0.02,73.39,46.41,3.63,-0.45,-6.55,-5.42,11.83,-6.49,11.86,11.86,-15.57,-5.93,-5.57,-5.95,10.11,-23.45,-11.87,-11.94,52.85,-55.19,-29.86,44.77,-6.02,56.04,47.9,-4.75,-16.85,22.5,-4.6,-30.65,-2.09,20.95,-55.72,-4.84,-4.74,36.4,-13.18,-3.54,22.55,23.05,-19.38,19.36,-15.36,-11.43,-17.62,-60.59,33.38,33.48,-18.94,33.45,-28.25,-3.74,33.6,40.84,-6.79,51.27,49.05,-45.1,56.14,48.04,43.33,-25.69,-49.35,-16.05,-7.47,-53.52,42.09,28.39,0.99,24.1,53.95,-31.4,23.6,13.38,-5.13,5.22,-15.94,35.16,-4.21,-17.82,-27.74,16.61,-17.76,-11.05,-30.34,3.86,53.25,-7.12,36.28,50.1,56.77,30.71,2.35,49.13,-11.1,-16.66,51.34,-6.29,-6.04,-6.05,-5.15,49.47,-33.49,73.39,-14.99,29.41,35.94,-11.78,1.9,-19.89,-2.52,71.42,-15.35,37.96,-20.36,15.23,-9.93,19.55,-6.22,-6.56,-30.91,-16.47,7.46,1.81,52.89,-8.79,27.48,-7.33,49.91,-20.03,23.87,38.33,-6.72,6.41,33.34,-1.52,49.97,44.68,-7.0,-7.5,-4.35,-30.51,-39.02,-14.66,-6.88,-12.1,-0.14,18.53,28.22,-22.53,31.33,31.5,22.27,-19.16,-61.1,50.51,54.73,6.32,-3.01,50.78,2.18,-19.41,13.41,2.09,29.3,4.7,7.0,-15.81,-9.81,50.86,4.96,-59.38,20.05,-10.01,2.25,-1.46,-6.34,-6.26,53.97,24.31,-54.0,-10.31,-6.73,-7.27,53.61,51.27,44.98,43.12,42.92,42.65,-5.88,43.28,43.14,19.11,43.01,43.28,57.86,12.21,57.99,35.16,36.45,-24.83,49.94,-14.33,-16.22,43.38,-4.5,-31.38,57.09,-7.22,18.25,-0.15,-37.27,7.15,42.48,73.32,9.2,-7.02,9.23,-4.4,-4.37,-54.97,70.8,41.93,35.67,-32.98,-61.05,-14.34,0.52,19.42,-21.95,70.8,-2.96,-25.98,51.52,49.99,-31.2,49.99,38.98,53.61,-15.18,-35.59,43.25,-19.9,50.03,51.38,-9.52,-20.61,-23.88,-14.56,-15.13,-14.92,-15.37,-22.49,-12.28,-38.84,-14.45,42.03,-5.15,-7.39,-7.0,-7.28,18.93,-5.13,-7.35,53.74,-3.79,33.17,44.01,1.27,9.51,-20.02,-7.48,-7.48,48.31,-14.91,-23.93,12.57,57.56,55.15,55.05,-26.28,-31.55,-33.49,34.57,-4.3,28.19,1.87,19.73,49.98,-11.17,-6.55,-17.68,-17.62,49.91,-15.89,-31.88,-56.03,-2.25,-26.02,-4.72,-29.22,-29.37,45.2,36.44,7.76,7.74,46.22,46.01,36.42,39.34,39.46,-38.34,32.18,73.41,18.27,-4.26,-9.8,55.25,-30.54,-6.2,-0.28,43.12,-12.24,17.37,44.64,-17.97,-8.4,-15.49,-6.93,70.81,42.53,-12.44,-6.44,-15.91,2.27,35.85,-15.12,-53.59,-6.06,-15.24,30.71,-6.15,-5.04,0.51,-7.65,-2.3,51.66,35.05,61.92,-2.99,-4.93,-17.86,32.38,31.94,35.05,7.18,53.0,53.08,40.66,-7.24,51.32,-24.98,-6.07,-17.84,-2.39,27.47,-29.89,-21.75,-4.26,22.68,-32.36,42.04,-4.06,-50.84,-14.79,71.49,-36.41,16.47,-31.79,35.8,37.2,-38.03,1.03,22.7,35.98,0.75,-20.61,-4.5,44.39,43.26,36.31,43.51,-3.1,30.07,38.78,21.42,32.84,6.51,-10.34,-6.64,-7.15,-6.63,-6.84,-9.84,53.48,-2.51,-22.73,-6.9,54.92,73.34,10.04,-10.13,38.51,7.05,-34.74,-20.45,-9.49,-4.83,-4.83,-12.54,0.91,-15.4,-24.91,-24.2,-7.54,70.84,73.33,6.54,-22.91,49.91,42.05,12.47,13.82,-18.39,12.5,13.83,12.91,-12.25,7.55,-33.02,-57.78,19.46,-14.92,-11.54,-7.01,-11.74,51.93,-4.07,-16.22,-56.8,-28.78,-13.31,66.25,-29.48,-29.02,-29.64,-30.01,-32.67,-32.65,44.74,-7.46,-28.65,44.62,-29.35,17.15,54.52,15.28,-5.96,-57.39,12.98,-6.36,-39.93,-8.36,-14.77,-10.62,-29.92,-30.6,3.96,-3.94,40.31,40.18,0.85,28.7,-44.58,-29.93,46.35,-7.47,-7.58,-51.6,-32.63,-37.28,-11.62,40.35,4.49,-31.3,3.69,-5.91,-5.6,-5.6,-5.02,-10.51,24.51,-41.5,-5.13,-10.08,-7.38,14.06,17.45,0.52,24.79,3.4,0.53,-4.58,-4.34,3.78,-4.52,-33.78,-29.51,49.85,-50.01,47.31,7.48,7.41,-8.21,-8.17,-4.18,39.56,39.71,47.81,-30.32,-20.59,26.7,32.78,-34.28,6.22,7.18,7.33,7.35,10.09,7.22,-6.77,32.59,32.49,6.52,49.95,1.03,-9.2,44.78,73.41,6.93,-30.48,-6.43,-10.45,36.5,-4.54,-29.36,8.52,6.98,38.12,39.5,-8.84,7.09,49.97,39.05,-19.5,41.33,36.52,-20.57,49.87,-31.95,28.04,28.27,48.84,23.41,-7.9,-2.51,38.19,-3.65,-24.93,-41.74,37.02,5.04,40.11,-24.66,-66.49,-60.96,0.54,33.15,-41.31,53.54,-6.26,6.74,45.83,41.66,-4.96,16.73,44.16,-21.89,27.59,-14.76,27.57,-16.79,-9.9,-9.97,-9.94,-9.76,-9.73,-10.0,-10.21,-10.31,-1.81,49.86,-14.02,-22.91,22.68,-7.73,1.42,-56.17,-53.82,16.86,-33.79,-15.29,-8.04,-56.11,-10.58,-17.58,-6.55,-7.89,46.76,-11.21,-11.16,-10.94,-10.89,-11.1,-10.88,-59.54,-8.1,17.46,-11.04,-13.74,51.31,50.05,34.95,11.8,-1.92,-11.29,-9.99,-25.87,-15.78,-27.93,-27.96,-6.21,-11.48,-10.2,-31.04,-31.02,-21.86,-31.37,-31.44,49.93,-5.01,3.52,-31.24,25.54,16.54,-5.13,-15.37,18.79,44.56,34.8,-31.25,-34.29,-4.2,-5.39,-26.0,-0.07,-30.63,-8.7,38.83,-4.94,-4.88,29.33,-26.6,-4.66,31.93,31.99,26.45,-22.91,43.86,43.99,44.22,44.09,44.27,44.7,44.41,44.3,29.68,44.11,42.84,-8.62,-27.97,-19.63,-4.94,10.06,44.38,-11.39,-9.43,56.52,5.14,36.64,4.69,-5.92,-9.88,-37.84,-14.6,-0.74,31.07,51.24,24.29,-1.05,40.4,49.88,38.23,38.38,8.28,8.24,7.85,-17.06,40.78,48.27,-5.05,-5.07,-15.27,-18.27,49.84,0.55,52.26,-14.95,-4.2,22.19,-20.64,-26.52,-0.14,73.31,-59.8,-30.62,-47.53,49.98,-7.53,24.81,-13.35,-30.57,49.91,48.21,33.37,-13.94,-14.92,39.4,33.47,47.81,-5.45,39.34,37.71,-11.21,-11.14,47.79,-10.92,49.93,16.07,-21.85,-10.22,44.55,-7.08,7.33,0.55,47.78,-8.27,23.17,33.96,47.87,-30.02,17.53,-18.52,54.8,0.02,5.23,6.01,-15.57,-13.61,-16.52,40.22,60.73,1.02,17.76,18.02,41.95,3.02,42.05,5.66,-0.05,-20.82,9.3,-21.22,-6.38,19.0,-22.95,24.13,0.66,56.65,-15.44,52.68,36.45,-24.6,-8.32,-30.73,8.14,-56.02,-6.55,38.79,17.04,49.88,-5.0,-19.86,7.11,43.88,-32.16,50.05,33.87,-11.16,-21.86,49.86,-22.86,34.57,-4.86,41.85,49.93,36.48,8.95,10.72,19.05,53.97,-1.71,-1.18,53.64,3.48,42.8,52.23,-60.57,45.09,-19.09,-2.84,1.16,-7.17,-46.54,18.49,-1.18,51.82,73.34,-8.4,0.66,-10.68,-10.58,47.79,49.96,-1.2,-13.4,-7.76,17.89,-9.5,-13.32,-4.43,-23.61,34.03,-16.73,-1.94,5.89,-31.34,4.81,-18.93,34.08,49.88,34.14,28.95,1.62,-3.41,49.92,3.56,-4.69,1.0,38.75,6.0,51.31,-17.62,-7.89,-54.21,-4.7,36.47,44.51,-10.68,43.47,43.14,43.22,-6.02,-6.04,6.33,-22.67,52.94,52.78,23.86,-4.63,16.09,9.0,-23.53,-10.87,-8.05,51.21,34.5,-14.52,-6.03,-5.96,37.59,-19.42,-18.61,-7.37,-5.19,-15.25,9.5,-30.18,-58.07,-5.24,34.81,6.63,-12.49,39.29,-29.32,-4.45,-29.0,-21.86,-17.89,-12.3,-20.3,-13.09,29.63,15.93,-15.22,49.94,35.53,-3.25,-15.09,-6.3,-5.34,36.16,36.25,49.94,-6.11,-6.22,-21.95,18.22,-22.3,11.78,-22.25,41.15,-51.49,19.57,27.4,40.86,-19.44,-21.35,49.87,-17.59,-21.4,49.44,-21.25,30.63,-16.29,50.01,45.98,29.28,-61.11,38.61,38.71,-4.56,38.28,42.48,38.18,-29.68,51.82,53.02,44.61,-22.11,-6.04,38.23,-13.77,38.24,3.93,18.82,-5.43,-19.52,3.43,-27.28,45.59,14.23,37.28,49.87,-13.4,-23.7,43.23,36.41,-1.96,42.65,-5.14,5.82,-48.55,-14.75,-5.68,-49.13,-36.0,44.66,16.57,29.89,-22.29,-15.44,29.99,-21.61,-5.18,-2.76,-22.09,48.71,-22.89,-5.32,-15.08,43.53,-21.5,30.66,35.68,49.89,24.84,18.34,-6.39,-22.22,-30.18,-29.41,-4.76,73.32,-33.82,50.72,-4.52,-9.42,-20.7,-6.43,-11.4,-9.98,40.3,-33.15,-7.11,49.88,18.18,-31.38,43.56,-20.01,-3.52,-32.17,-2.3,18.75,42.98,-20.81,-37.23,-6.14,23.96,-6.39,-56.4,39.22,-30.01,-30.03,49.9,-2.11,26.84,18.0,-23.1,-12.11,-3.41,46.99,13.85,14.01,13.15,-9.53,-9.55,39.96,31.68,53.26,16.73,-22.69,-10.89,33.67,22.33,-25.19,-56.05,-9.52,42.23,-18.54,-52.89,-31.55,-12.74,-6.41,0.09,-15.86,19.89,-28.21,19.9,49.87,-0.61,-60.75,-20.24,-3.36,48.82,55.07,7.79,38.76,-41.41,-18.11,51.57,16.51,16.58,-5.66,-17.61,-4.7,13.29,-7.33,-55.42,44.56,51.39,49.97,27.9,-51.15,36.36,51.76,13.81,-12.59,-11.16,-4.34,-5.05,33.71,6.75,36.4,-2.71,43.85,-15.36,-25.55,29.4,-14.53,-23.45,-24.39,-15.61,-7.17,-6.61,-1.73,-10.61,-3.72,49.89,-9.87,-9.28,14.67,36.13,24.56,-24.15,-57.44,33.9,19.93,-15.43,-5.45,38.07,-57.98,16.14,12.91,-30.44,-29.69,10.54,55.03,54.99,8.73,5.6,-18.65,49.23,44.06,-3.49,43.76,-6.99,-4.05,-4.07,-4.89,-4.67,-21.59,-6.48,8.8,5.71,52.92,49.41,-15.04,11.4,10.43,-4.84,-6.52,53.38,-10.19,27.78,14.92,-24.01,41.5,46.41,36.24,-33.89,-5.39,47.41,-21.85,40.48,40.83,-16.96,-9.52,40.25,40.22,51.42,49.91,1.55,41.35,24.13,29.74,21.77,24.17,60.22,20.19,-22.59,-7.41,-60.91,61.04,5.54,36.21,53.91,-20.13,20.45,40.14,35.48,1.8,-8.69,55.79,18.23,73.38,3.73,33.51,-16.68,-17.44,60.97,36.52,18.12,-23.98,-16.64,24.08,24.02,-3.61,73.35,33.95,-26.55,49.91,-26.16,-8.12,1.09,-23.74,-20.57,37.59,-60.75,-60.46,-60.69,1.16,49.89,44.1,40.35,-9.1,-4.0,19.5,43.75,-7.49,0.48,-7.47,-40.45,41.8,-6.85,-6.61,14.07,-15.37,-6.5,3.74,8.14,-7.63,-33.09,-3.21,-2.38,-28.14,-27.97,-5.51,11.85,36.42,33.62,45.4,-2.83,-3.88,36.47,-3.92,-23.68,29.28,36.48,49.05,34.57,-9.96,36.47,-6.6,49.86,-17.32,8.17,29.35,-38.27,40.35,49.16,49.87,17.38,-18.95,-21.05,-15.88,50.06,47.44,30.89,49.91,-6.79,-51.88,49.92,-10.83,-4.86,-30.68,-15.83,-15.66,35.31,-58.47,18.02,16.82,-6.1,-5.76,49.85,-56.44,28.11,-6.55,1.35,50.33,-0.07,32.39,27.47,-33.28,-17.9,40.39,35.78,34.01,16.8,34.02,13.84,-25.88,-31.6,15.05,-15.75,-24.05,73.37,1.65,39.16,49.92,5.76,-17.15,8.16,55.18,-18.85,-22.0,0.22,-18.7,5.13,-30.9,-17.74,-7.97,-14.32,-8.16,49.95,20.33,44.15,-1.39,49.88,49.83,56.19,-36.67,10.21,0.2,24.11,-3.66,-0.95,-7.49,-33.07,32.55,-46.01,-17.54,-20.54,49.87,-10.25,27.49,-33.14,-32.95,-33.24,-33.76,55.2,66.22,43.5,16.98,-32.68,7.76,-33.15,-6.61,-34.14,44.38,40.32,-32.64,28.27,-4.1,-34.0,-35.63,-9.19,1.65,-5.16,15.32,49.88,-39.71,-9.21,-37.62,-5.59,-29.04,53.57,54.04,-15.3,4.92,0.97,49.85,30.29,49.84,-4.44,-17.23,-29.7,49.92,-6.24,-60.3,36.21,36.19,7.46,16.93,11.15,54.15,37.77,-9.16,39.49,-21.0,-15.35,39.36,17.98,18.54,17.81,-34.61,-9.81,-22.08,62.22,-6.76,54.73,-21.55,40.32,37.65,46.29,-11.12,-31.37,-7.08,36.74,-9.57,53.21,-35.21,7.73,27.94,-1.83,-21.86,-14.03,-13.98,26.96,3.69,11.71,-14.06,-13.98,-30.67,62.19,-35.1,-5.75,-5.53,-5.61,-21.37,51.54,-10.16,27.87,36.43,24.02],\"legendgroup\":\"\",\"lon\":[28.3,150.93,142.78,141.15,169.81,120.58,169.92,93.58,165.96,-71.66,70.95,-155.95,-155.88,151.77,37.34,167.96,-7.61,95.5,56.36,127.96,-149.3,-153.0,-151.25,-149.29,-152.01,-152.45,-148.39,122.11,-153.94,-146.61,-146.7,-148.67,-152.82,96.56,-147.39,-146.71,-152.69,-154.4,-146.71,123.18,-152.21,-147.2,133.99,144.2,150.5,35.06,139.05,139.21,139.33,-27.7,-27.55,-27.66,147.05,139.26,146.17,149.75,122.61,144.57,-100.5,129.79,167.62,153.77,153.8,153.72,-71.1,96.12,-74.99,154.25,-71.78,126.65,144.08,164.46,93.03,80.46,162.42,28.23,-110.84,123.86,93.75,-56.11,96.19,128.06,57.32,150.74,-173.89,150.75,122.14,-63.23,139.05,-174.04,166.54,87.84,78.96,-27.05,125.98,126.04,139.8,178.55,179.59,172.05,170.83,174.33,-161.85,175.6,-161.74,173.44,142.42,171.99,125.91,-70.63,151.97,151.86,171.35,70.73,142.96,126.5,-71.26,162.0,-71.1,142.85,177.93,22.26,24.31,174.02,-160.23,-162.51,120.68,129.61,-122.29,-27.62,130.33,121.26,167.41,175.17,-27.9,128.6,-46.69,148.84,123.53,5.4,-167.55,22.4,-171.3,157.7,-81.27,151.65,166.91,167.12,167.36,152.13,-19.93,128.63,-68.75,-176.05,-95.8,-152.5,-84.44,153.08,151.66,70.76,126.58,-77.7,141.38,128.23,141.37,-38.3,178.28,156.58,-75.13,114.45,145.45,-71.32,-113.98,140.22,87.74,-68.09,-41.53,160.68,129.16,130.39,-179.67,159.77,146.31,-100.04,-153.13,155.38,146.29,78.1,167.96,78.93,151.57,154.36,80.5,126.4,122.67,-179.15,29.9,78.07,115.06,122.97,142.18,157.76,-152.27,122.22,122.21,160.17,-174.72,71.12,139.57,167.02,160.89,161.01,124.69,80.83,80.89,122.56,179.95,-171.22,125.01,125.06,41.56,126.62,128.4,170.6,-27.25,54.3,170.56,-26.44,-78.63,-15.37,54.57,145.9,21.1,-68.4,144.26,167.04,77.76,-63.1,148.31,-70.74,-173.64,102.9,142.2,120.95,-178.75,103.02,-169.54,-65.7,-74.83,-71.34,-175.14,113.04,123.95,123.95,78.14,-78.6,24.6,166.29,166.34,166.25,-74.68,129.84,151.11,112.33,115.36,151.62,147.27,96.31,128.66,-178.32,-68.83,101.39,176.09,-173.48,-26.83,-166.9,-70.54,-157.94,-168.13,30.69,-73.09,135.49,125.87,95.74,-24.33,140.8,100.26,-79.67,-63.15,91.86,145.33,-23.54,163.93,169.85,-60.0,153.47,153.92,-179.18,129.83,-85.98,54.42,122.25,30.9,-71.19,51.98,20.44,154.4,73.84,-70.07,-61.19,-61.26,153.7,-68.2,-174.61,127.91,158.46,120.32,146.72,113.36,153.36,24.94,121.47,-173.95,116.18,132.28,132.21,-116.19,-149.93,-127.89,129.39,143.38,142.82,142.15,143.16,-178.21,-178.2,150.28,142.88,172.03,118.91,139.34,150.19,120.1,142.89,-82.6,143.1,-77.2,-77.3,139.33,139.01,142.14,143.2,-178.13,133.47,-80.42,122.11,-97.79,128.5,122.31,126.77,132.31,126.24,126.27,119.73,159.9,126.14,59.01,58.24,143.01,-74.55,-179.35,53.17,148.77,-62.7,142.65,-92.65,-178.01,129.21,143.37,-76.37,78.18,-27.07,126.26,140.7,87.74,117.0,143.29,166.43,-150.07,126.34,172.02,54.58,-72.63,142.39,23.82,175.86,-152.82,-27.57,158.94,164.46,-26.93,143.21,167.22,166.0,-179.54,126.02,-171.57,127.5,127.54,-80.09,178.76,79.24,126.74,128.41,118.91,-10.58,127.35,127.65,28.46,41.21,33.91,41.35,129.91,166.2,131.98,-71.38,-174.66,-179.85,25.04,155.54,159.05,159.7,-162.41,-179.95,158.95,119.47,-72.48,-75.1,125.42,126.23,70.86,129.69,147.91,147.63,147.82,147.18,146.5,147.8,147.48,126.41,147.98,147.44,143.1,147.46,-109.55,153.75,157.95,157.91,-179.17,131.43,-45.78,-55.9,-75.15,54.5,94.7,-179.23,-121.35,-173.87,23.6,-178.95,-121.28,60.02,94.61,163.56,71.64,78.98,54.75,126.94,58.49,142.45,-59.64,-59.79,129.15,102.49,178.79,126.75,-177.29,143.04,-104.24,-99.48,122.09,-75.55,125.91,103.05,-179.59,-175.04,143.82,168.54,148.99,-153.97,-69.42,173.75,126.65,119.37,154.62,29.51,168.56,126.66,141.91,121.71,22.56,122.01,169.29,171.45,-92.59,-93.29,151.81,91.24,-28.07,140.29,166.38,-78.83,-78.46,-79.05,-78.69,-78.69,78.71,149.46,-68.46,157.6,139.08,-74.14,-71.88,-70.55,158.68,124.04,-179.42,-78.6,-64.67,-178.51,131.78,131.83,177.66,95.37,-72.56,126.2,166.65,166.56,-25.27,166.53,117.95,-145.38,-142.61,153.22,151.64,147.65,144.5,154.63,-77.48,-77.4,166.59,86.19,-177.89,-178.1,143.1,54.89,140.71,145.45,135.65,145.13,148.55,146.94,-69.81,142.88,163.45,163.41,-70.11,143.5,140.11,-71.16,-80.66,54.78,99.95,54.82,153.59,161.39,139.69,139.64,139.62,139.76,139.62,139.84,139.91,139.91,139.45,139.55,139.44,151.4,-177.71,150.97,139.38,98.72,-176.81,-61.36,-118.43,-67.2,145.39,163.8,127.23,-176.14,-6.86,79.2,126.52,-140.94,71.07,142.18,124.73,-170.53,129.13,102.32,55.61,78.08,-177.21,105.37,-71.79,-104.87,126.95,146.1,40.52,-69.79,176.04,-69.06,153.46,154.45,96.89,144.38,129.7,-71.21,-71.72,153.87,153.32,153.8,173.03,153.18,77.22,152.07,151.84,152.26,151.96,151.55,151.31,-77.35,153.34,152.87,143.44,-22.07,154.31,152.13,155.49,-92.41,-26.04,141.15,141.39,141.03,150.85,-174.17,151.55,151.8,143.4,130.68,146.64,124.84,54.91,141.16,125.92,-4.89,154.97,154.28,142.52,151.18,142.38,142.35,167.24,154.05,153.99,153.84,92.93,-179.88,166.55,166.57,159.22,-128.87,-69.5,153.33,154.56,163.17,48.07,151.84,174.9,122.08,151.86,-177.82,138.96,120.26,-28.75,145.1,145.0,70.72,166.32,151.29,122.37,122.14,169.13,122.06,-173.3,166.37,-71.27,-25.5,140.97,141.05,-173.72,141.0,-178.27,131.39,141.38,141.98,-76.76,-179.21,153.6,166.68,-157.14,153.13,146.03,179.58,164.09,-173.0,125.56,159.08,84.58,52.78,-28.3,122.44,-166.82,-110.99,121.55,120.34,154.23,-100.32,167.53,23.56,152.71,-178.79,-178.99,122.19,-175.06,116.97,-71.58,124.26,-166.78,155.87,69.69,-129.3,-135.91,141.82,127.56,155.97,162.17,-172.01,-179.29,144.46,152.9,152.63,134.09,147.08,-179.4,54.65,167.3,130.64,73.33,166.31,128.2,169.08,119.22,-10.39,-175.6,22.38,168.89,-96.26,119.6,-70.22,131.15,131.3,-68.21,-172.17,123.77,127.45,-162.98,124.98,128.57,146.83,78.85,168.91,121.61,73.17,154.53,126.62,140.82,136.67,78.95,149.37,155.81,127.83,153.45,-71.08,175.23,166.41,150.03,166.52,124.0,-102.93,139.3,-66.19,100.49,100.33,121.52,168.69,-38.01,156.58,161.7,127.38,139.08,157.19,126.65,169.39,122.87,126.55,130.41,-75.67,91.33,167.24,119.29,157.43,-78.12,-26.12,-155.16,150.2,126.74,99.8,151.18,151.86,-163.71,93.52,159.35,161.42,154.81,156.14,161.38,-179.38,-125.87,145.74,146.39,146.08,151.86,146.43,146.89,121.19,146.66,145.81,-137.42,125.29,-138.04,86.4,141.05,-179.19,78.85,167.29,-173.08,146.46,144.1,-179.38,-154.12,156.08,-96.58,-17.97,179.32,84.33,131.05,54.97,126.19,-76.19,123.92,-102.1,-102.04,146.25,53.42,130.99,140.64,-71.87,-21.7,167.06,-29.47,-104.98,-63.65,53.92,139.34,-67.72,-175.27,156.33,-179.47,156.31,141.93,160.49,167.43,-74.54,146.75,169.66,79.02,-177.85,119.39,-176.32,180.0,166.8,166.91,166.48,166.54,-68.26,-76.3,46.43,166.87,143.89,134.15,155.92,155.78,155.63,120.13,133.91,155.82,-164.7,134.01,136.98,147.78,97.63,-83.95,169.77,156.2,156.01,153.16,-172.83,179.88,144.24,-153.92,-160.57,-160.51,-175.78,179.79,-177.31,138.75,-102.07,103.98,126.48,147.34,156.22,-75.01,106.77,167.8,167.53,78.91,-175.04,179.94,-27.47,141.1,84.3,152.56,-175.94,-176.13,93.86,141.17,-77.57,-77.54,153.14,152.88,70.76,73.77,73.63,-73.27,142.37,54.93,119.2,143.55,108.49,162.0,-178.03,146.1,12.83,146.56,-77.58,-61.99,150.09,-178.49,154.03,167.1,129.52,53.91,141.75,-77.46,105.38,-178.47,121.06,141.1,167.16,-28.26,154.23,167.3,138.44,153.05,129.99,97.89,-74.46,99.01,174.59,72.91,-149.72,101.68,130.09,-174.57,78.5,78.53,141.37,-77.76,173.47,173.58,122.63,149.58,-179.44,-178.88,148.21,-178.53,126.15,56.24,-71.4,170.53,-77.01,122.84,179.88,-112.41,152.75,139.19,-72.66,-10.36,-98.82,-98.86,-179.51,79.86,142.09,-72.78,126.02,122.61,-17.56,122.61,-179.14,153.53,146.87,147.39,143.3,147.65,148.0,142.15,130.09,94.62,142.43,126.65,161.2,155.09,155.21,154.66,155.41,123.96,-161.39,146.03,-66.62,147.77,167.87,54.5,125.86,121.7,40.77,-104.18,81.88,-173.96,-74.65,102.24,102.04,166.47,-26.71,167.55,-175.16,-175.1,128.76,53.53,54.93,126.81,-70.48,78.92,142.66,126.01,144.79,-177.88,126.06,125.07,125.89,166.61,-77.5,-179.96,-25.52,-155.14,-172.88,-74.52,155.75,164.81,151.57,142.11,-172.47,-68.42,-177.39,-74.94,-16.54,-177.57,-177.42,-176.76,-176.85,-178.21,-177.81,149.15,119.89,-177.38,149.69,-177.29,-100.23,162.02,-89.19,146.33,-64.46,125.74,154.84,-74.89,121.46,167.12,165.06,-177.8,-178.21,-85.88,152.04,63.72,63.79,-79.63,52.12,167.64,-177.62,13.26,154.68,154.61,139.76,-178.19,177.16,-74.45,63.45,-75.77,-177.67,125.14,145.88,154.29,148.35,153.65,-78.3,98.95,-75.34,153.55,161.06,154.69,124.87,-100.65,134.75,125.98,96.28,134.84,140.13,139.86,126.81,140.24,-177.83,25.17,78.97,-115.1,145.75,-78.28,-78.05,114.87,114.84,152.76,117.87,118.37,48.1,-177.87,169.31,97.04,104.09,-176.53,124.11,123.55,123.54,123.42,125.9,122.99,129.62,104.25,104.18,124.07,78.98,147.56,148.17,149.21,54.5,124.04,-177.42,153.0,161.34,70.58,139.93,77.65,126.41,123.89,142.26,117.73,156.97,123.59,79.01,44.04,-177.7,-125.66,71.05,-68.93,78.89,179.18,139.67,130.67,-129.13,143.71,109.0,126.68,90.97,144.5,-68.68,174.3,95.73,126.63,70.86,-63.39,-82.45,-22.96,126.05,141.06,80.52,169.96,147.59,123.74,26.72,131.05,131.03,122.29,148.23,-138.96,56.38,167.11,56.3,-172.02,160.44,160.59,160.48,160.69,160.17,160.77,160.74,160.74,120.46,78.84,-14.49,-175.74,-45.11,127.77,126.36,-27.7,158.84,122.39,-179.58,-173.07,155.56,-27.83,161.35,-174.39,155.0,107.55,153.63,118.43,118.41,118.4,119.17,119.09,119.26,-20.59,125.38,119.8,119.17,166.74,177.91,78.93,23.05,143.12,126.64,118.1,117.29,-175.37,-173.01,173.13,-62.82,146.66,118.21,161.16,-67.76,-67.51,-138.94,-67.79,-67.44,78.89,145.1,95.91,-67.9,143.25,40.32,151.79,-71.71,121.91,149.58,139.22,-68.0,-70.38,123.37,151.73,-177.24,124.1,-177.6,124.0,142.03,125.25,125.35,130.53,-114.59,153.06,137.62,137.61,140.76,-175.3,148.84,148.91,148.87,148.68,148.9,148.17,149.58,149.6,-67.45,148.62,78.6,125.07,-70.3,169.1,133.99,-77.89,149.42,116.68,148.94,-152.61,127.44,71.26,124.61,103.92,160.5,176.73,167.31,127.33,130.1,-179.25,142.7,146.48,63.66,78.81,142.02,142.41,122.43,122.36,126.38,-172.28,23.24,148.66,102.38,102.33,-175.45,167.99,78.92,126.24,-168.84,-175.81,152.84,121.42,172.57,-70.66,131.79,54.7,-26.33,-178.07,32.26,79.02,156.5,121.87,167.13,-178.06,78.94,154.33,57.44,167.18,167.14,74.76,140.95,48.09,152.02,72.56,48.95,162.13,162.16,146.54,162.16,78.77,-96.55,-139.0,161.48,146.67,117.95,123.4,126.06,48.14,121.38,122.0,59.53,48.06,-177.47,-100.79,168.15,-161.29,126.01,127.36,126.01,167.57,166.66,-72.6,143.55,-141.55,120.4,-101.3,-69.03,83.38,127.01,19.05,123.59,123.03,-178.67,125.57,169.72,105.93,145.42,-69.09,142.41,126.08,-156.72,-70.05,-166.97,31.72,-70.18,115.92,117.21,-38.12,-27.98,147.28,26.57,-94.61,78.92,145.58,-173.04,-82.31,146.72,-71.4,79.06,131.91,107.72,-139.0,78.94,-177.47,140.37,153.5,130.87,78.98,70.15,-83.49,-41.68,122.12,-165.22,136.05,136.49,169.74,128.06,13.04,174.0,-50.35,76.96,168.71,119.57,94.2,106.1,165.91,145.39,136.59,177.12,54.73,115.83,126.0,161.35,161.75,48.11,79.07,136.61,166.7,108.18,-68.61,159.26,166.69,102.0,-174.85,59.81,179.99,134.17,125.33,-178.72,-76.2,-176.52,59.8,78.84,59.92,140.94,-79.34,102.58,78.8,126.86,-105.74,126.02,-27.75,126.13,-178.5,-171.16,156.24,158.78,153.17,76.86,149.55,161.66,146.59,146.88,146.9,150.12,150.01,126.9,171.42,-167.7,-167.8,-45.57,154.89,121.94,126.27,-177.27,164.22,108.79,173.62,140.42,167.93,154.56,154.43,-118.8,-69.33,-174.7,128.58,152.19,-173.53,126.6,-177.91,-10.68,151.71,139.29,125.77,166.37,22.91,-177.24,143.53,-69.69,-139.0,-178.6,166.5,169.61,166.34,81.09,-88.52,-173.52,78.86,140.15,142.33,167.31,154.81,103.12,1.4,1.61,79.1,145.54,154.85,170.09,-98.2,170.39,125.5,169.55,-124.3,28.98,-69.58,88.8,15.33,-175.83,-68.1,78.97,-172.31,169.87,-129.57,-174.41,140.85,178.2,79.03,151.47,128.1,-55.54,142.91,142.75,139.28,142.71,142.15,142.87,60.83,176.15,162.41,149.38,174.76,148.77,22.97,166.5,23.26,-85.88,-103.95,146.76,-69.01,128.01,-63.27,152.24,119.13,142.28,78.9,166.44,179.99,149.94,71.15,-80.99,139.2,154.74,126.98,164.7,167.28,151.47,164.63,-17.08,148.92,145.48,57.72,171.65,167.48,57.77,169.66,151.75,139.18,170.9,157.37,-175.82,151.52,-173.12,147.04,169.61,141.78,73.6,78.98,-46.29,-68.86,130.72,170.48,-177.96,-179.03,-112.01,54.55,-179.44,160.4,146.2,159.34,-178.65,154.88,66.3,162.06,142.33,-73.1,129.06,78.89,-102.01,-110.79,-127.7,-174.23,143.86,-71.43,22.83,120.86,146.2,-178.87,179.81,152.03,125.92,154.92,-26.54,25.25,-177.63,-177.73,78.86,139.79,142.74,145.67,-177.27,166.67,177.55,-66.65,124.32,124.37,-87.56,152.21,152.21,24.39,82.28,-165.65,-61.44,-66.62,166.01,141.17,143.59,-175.55,-27.37,118.35,142.46,-175.12,-46.98,-178.6,-76.04,147.65,123.31,-172.97,120.54,-114.06,120.49,78.92,123.28,-20.95,168.2,177.4,154.93,165.4,135.76,142.22,-74.97,-172.51,-177.37,-98.25,-98.34,150.99,-174.45,103.04,-89.39,126.08,160.23,151.03,-179.94,78.86,137.04,160.64,141.63,176.08,146.36,166.11,115.42,153.12,143.96,22.94,-82.72,141.44,-79.88,148.32,-173.09,-176.24,140.43,-70.8,-179.87,-176.65,168.01,125.81,101.7,-76.73,-74.69,140.0,78.86,161.18,158.21,44.23,68.98,122.53,-175.97,-25.77,139.45,121.34,-173.3,147.05,20.25,-24.35,-95.25,93.59,-179.3,-177.73,140.96,-159.19,-159.24,124.03,126.3,-69.38,155.56,148.09,177.64,147.45,147.39,127.9,127.9,153.57,153.25,-175.32,154.64,-83.11,94.72,159.81,155.58,167.28,57.52,-62.71,-78.09,154.94,160.3,110.84,62.07,99.05,-175.9,143.84,153.39,-120.27,179.52,150.94,152.26,-138.94,139.09,139.33,-174.61,-71.22,139.01,139.04,-174.11,78.97,127.32,139.1,122.39,129.38,103.31,122.39,-141.27,122.41,171.02,27.88,-53.1,-147.37,126.47,-120.36,158.36,-126.94,122.14,24.75,139.05,127.28,111.17,161.33,120.8,54.87,126.64,131.51,-172.05,-69.96,-147.47,71.1,145.83,-179.8,-177.38,122.16,122.26,151.2,54.38,139.51,-70.62,78.83,-70.59,156.35,121.0,-70.23,-173.84,-17.41,-25.6,-24.91,-25.41,120.89,78.9,-113.81,42.18,119.09,-79.4,-155.44,148.35,130.59,-79.79,128.2,155.57,142.77,72.04,71.41,-91.95,-173.03,71.4,148.97,137.21,127.34,-70.15,145.43,145.06,-63.15,-62.9,151.91,-13.51,70.75,136.8,151.31,118.76,-78.47,141.24,-81.41,-178.3,130.44,71.05,146.63,70.47,160.5,70.86,130.15,78.81,-70.53,123.77,138.92,177.22,63.36,155.31,78.97,-59.63,168.89,168.71,-174.35,148.77,146.73,138.48,78.91,71.48,161.08,79.03,164.23,151.55,-71.2,-174.8,-72.45,23.29,-15.97,-69.3,-98.46,154.44,111.29,78.92,-27.43,129.52,154.98,126.4,-176.86,122.52,131.96,128.58,-179.28,172.12,-126.8,137.49,141.64,147.17,141.66,145.38,-175.9,-110.85,-94.28,-173.65,-66.84,54.84,126.32,71.35,78.83,125.61,-174.07,-38.77,163.57,67.33,170.91,98.05,-178.04,125.17,-13.53,-178.05,102.27,171.29,-76.12,79.03,-115.79,148.2,-15.02,78.82,78.71,163.31,177.64,-80.03,123.63,122.48,141.74,128.47,130.18,-68.58,131.19,165.16,-174.44,-174.0,78.84,161.11,128.48,-71.84,-71.6,-71.78,-71.19,161.95,-149.98,-127.62,-62.46,-71.63,123.52,-71.69,105.4,-72.1,146.71,140.38,-71.67,139.55,136.28,-71.45,179.01,114.26,126.5,130.45,120.63,78.96,-75.7,-71.22,179.46,151.07,77.78,160.53,160.93,-173.47,127.53,-28.44,78.87,132.72,78.69,152.81,167.83,-177.78,78.8,148.74,-27.0,70.9,70.81,123.47,120.19,140.23,168.69,141.77,-78.88,75.27,-178.99,-173.54,75.44,-97.16,-102.32,-101.69,-178.57,159.85,-174.6,-124.27,107.04,-159.65,-176.39,69.82,136.9,146.27,125.15,-68.61,124.28,54.81,150.97,-166.92,-179.32,137.02,140.61,134.84,-138.92,166.22,166.19,140.48,126.65,-85.86,166.23,166.51,-178.03,-124.27,54.26,104.18,150.69,131.43,170.31,-173.11,161.01,139.51,140.98,122.23],\"marker\":{\"color\":[33,36,57,67,30,0,139,60,50,119,197,13,26,58,33,0,27,50,46,373,44,33,4,17,23,26,32,160,25,12,10,35,22,51,41,36,14,24,2,184,22,6,33,99,23,49,22,16,49,114,101,54,42,12,76,7,15,26,96,189,127,20,7,4,4,22,7,392,32,34,107,33,89,50,41,34,14,585,37,43,2,77,33,60,31,3,607,578,25,33,32,23,0,94,6,23,33,36,40,30,40,16,43,32,33,45,17,28,91,36,41,33,14,205,36,37,58,22,68,41,20,45,39,12,5,51,29,116,60,88,136,80,3,31,98,19,27,58,58,33,40,18,18,33,50,59,14,31,26,38,36,328,79,64,29,30,22,55,30,62,178,161,41,195,45,33,5,52,28,26,159,587,35,50,29,46,21,50,122,101,41,19,118,58,38,121,29,0,35,7,59,53,50,17,42,627,34,0,28,40,61,61,23,27,75,33,22,214,37,242,34,20,523,33,36,102,16,29,59,11,26,39,90,17,27,39,165,35,38,42,0,44,1,110,16,136,0,571,46,23,23,24,39,5,33,21,42,1,36,598,21,88,105,126,0,122,60,38,50,48,33,80,38,606,33,36,12,63,51,48,109,184,11,39,136,44,28,38,49,33,160,367,60,40,33,78,24,29,577,19,85,34,34,126,0,20,44,605,60,181,0,73,0,35,28,21,144,27,20,42,5,55,91,33,80,13,29,20,599,46,7,8,87,528,37,40,12,22,30,162,9,26,60,32,45,33,44,47,21,618,73,45,27,31,16,26,33,33,68,72,44,30,17,25,36,31,36,43,52,96,48,1,41,22,534,33,25,14,32,122,640,3,49,103,57,114,12,151,12,66,0,45,10,518,33,18,21,49,7,1,596,0,150,49,15,33,82,79,71,32,138,238,114,17,587,24,35,72,46,27,635,3,425,74,53,14,43,32,4,35,33,19,170,38,39,34,200,22,22,52,66,33,41,56,44,6,54,1,531,21,193,193,8,45,41,38,0,0,33,44,70,46,320,49,34,111,31,17,38,39,37,36,43,0,124,43,7,57,31,22,11,74,20,51,113,0,0,51,31,329,1,6,62,15,189,68,82,25,23,18,8,36,83,24,7,161,21,39,44,16,99,8,3,11,59,18,232,82,75,40,23,25,243,12,56,37,196,12,6,406,85,48,54,45,43,48,24,53,87,64,32,10,99,44,72,50,587,55,148,44,47,47,73,68,653,17,46,20,45,43,92,30,33,76,643,39,50,42,8,6,60,32,7,33,124,0,37,45,33,22,80,39,16,119,10,25,29,39,183,46,15,0,46,0,63,70,41,3,40,34,39,52,18,22,55,33,134,31,45,515,57,40,40,12,9,166,115,21,20,49,29,14,92,0,33,49,67,150,29,74,37,0,38,46,146,29,42,0,3,35,19,76,34,54,0,58,92,40,36,43,48,37,36,43,41,74,33,77,48,23,49,88,59,25,45,43,60,43,32,9,33,14,21,27,7,29,22,4,30,107,111,70,0,27,148,30,52,111,26,50,21,21,49,45,107,66,53,533,119,135,99,33,99,38,77,39,0,116,11,6,166,29,12,36,56,23,37,214,33,12,29,34,127,45,5,101,60,40,50,52,12,54,181,29,37,72,52,43,135,33,43,124,40,479,33,1,376,33,21,11,0,48,91,116,29,38,413,30,46,14,38,565,342,36,208,45,39,336,27,66,47,31,29,19,92,47,10,20,45,43,26,22,53,573,115,0,122,51,45,64,154,49,107,0,48,75,30,20,23,0,33,33,7,10,632,119,35,33,63,2,0,37,22,111,0,73,62,0,0,16,83,139,159,61,147,24,38,90,112,48,508,214,5,35,42,53,41,62,24,25,56,62,11,193,44,33,51,146,39,38,15,46,20,19,9,15,33,48,0,23,0,1,33,91,0,55,33,44,0,41,39,11,0,26,19,45,10,56,30,56,0,22,49,373,0,203,33,44,109,346,33,55,75,77,45,43,552,0,64,128,542,33,33,33,0,567,56,33,33,28,32,56,517,0,48,7,18,60,270,62,56,45,124,23,42,26,0,52,42,191,517,13,43,41,10,83,92,24,36,27,51,32,33,12,21,39,46,7,10,391,46,37,34,19,47,57,154,25,504,74,23,8,6,44,386,33,10,33,17,43,26,58,100,141,13,7,0,256,397,52,0,20,68,33,77,16,45,12,10,50,46,210,7,26,19,45,0,34,62,60,40,331,105,41,5,9,41,34,596,18,33,156,0,125,6,55,31,58,44,62,36,29,58,429,32,32,20,156,32,7,45,58,74,82,99,1,49,6,40,2,10,16,9,43,333,72,574,7,31,28,86,111,29,429,5,131,33,93,15,31,17,472,33,24,30,37,1,34,97,647,59,0,72,42,65,39,53,549,112,20,81,88,54,49,58,63,93,46,33,187,53,41,0,68,65,32,66,27,12,123,47,19,69,23,128,11,33,106,0,0,61,39,0,62,48,117,405,30,44,35,69,0,411,51,11,49,94,69,33,546,102,33,18,23,101,5,29,56,42,64,33,11,5,615,54,48,68,48,38,5,37,40,0,71,9,50,98,25,75,3,35,21,10,5,19,19,19,10,12,21,21,40,32,146,5,14,161,72,198,112,107,164,122,56,3,27,96,79,36,28,48,36,21,1,35,33,35,26,33,20,29,0,33,402,25,3,37,41,62,10,37,0,6,43,31,9,146,8,33,52,44,33,17,165,15,18,55,0,51,12,51,0,40,16,20,115,196,33,47,64,32,44,27,33,52,0,10,424,11,190,70,0,370,503,11,6,47,112,27,43,33,67,22,15,55,20,555,31,33,49,46,33,44,54,52,86,556,56,40,43,0,24,119,23,33,49,33,33,33,33,31,63,42,53,0,21,69,31,109,44,120,33,37,48,17,3,103,45,53,62,60,36,54,33,39,33,33,51,33,4,11,74,59,24,0,4,43,26,34,29,24,33,33,592,103,33,95,4,33,0,26,17,0,64,22,21,42,10,86,125,19,50,24,20,112,46,64,81,80,34,99,60,537,517,49,33,75,436,441,278,47,60,53,36,45,56,82,48,48,28,62,34,70,33,97,62,51,2,59,12,10,118,230,37,54,49,70,182,43,160,28,30,22,33,0,48,39,29,41,153,0,3,380,37,0,25,27,0,43,11,305,45,34,37,49,16,0,57,39,8,0,37,116,215,44,0,48,34,217,138,50,50,0,61,7,37,42,39,27,63,0,23,0,85,118,465,36,40,0,7,47,10,0,38,45,35,12,54,114,149,135,48,42,46,17,4,3,75,24,38,4,545,108,596,30,77,123,256,51,598,27,55,209,46,111,54,40,6,31,109,87,15,108,9,190,30,0,62,51,0,74,32,0,0,204,56,73,566,0,231,43,13,43,56,33,28,28,50,6,38,3,46,54,35,10,69,33,601,24,60,0,37,26,17,33,0,0,25,71,94,92,24,62,50,32,3,36,19,115,120,105,1,9,0,0,126,28,30,0,56,33,64,0,72,42,36,45,0,62,74,54,54,49,35,2,52,55,112,36,25,33,0,494,46,66,102,33,75,38,57,38,62,70,0,73,55,168,56,37,29,16,0,59,19,185,29,48,55,88,97,0,588,76,131,53,23,9,39,0,69,52,128,64,44,0,3,0,117,74,46,65,32,60,37,5,0,33,1,0,221,77,0,30,84,0,31,82,33,0,45,229,27,38,49,24,35,110,30,10,22,6,23,41,79,18,59,32,33,53,228,109,45,544,22,0,28,0,45,522,49,217,36,223,75,140,0,139,81,0,10,54,316,31,114,140,11,41,76,67,102,3,33,74,20,21,37,18,30,0,10,172,101,45,23,274,10,0,12,15,18,38,606,62,31,62,53,18,189,0,28,10,10,21,15,57,7,39,38,594,43,35,10,64,90,10,20,8,0,0,30,607,192,177,36,10,38,36,10,23,21,10,25,62,65,200,34,46,117,12,105,33,27,196,10,36,85,55,199,86,43,42,9,0,101,10,26,15,40,46,22,47,44,33,56,19,20,80,125,59,83,449,10,45,51,0,554,10,37,18,43,28,55,58,106,1,10,43,52,42,42,45,179,153,543,42,40,511,96,190,14,34,0,103,38,18,35,88,40,49,20,13,55,228,14,55,50,81,208,40,41,46,37,569,68,103,48,26,29,21,72,25,26,94,74,83,36,44,82,52,51,137,32,38,102,64,56,11,45,32,33,9,24,7,25,116,33,0,16,35,135,600,22,31,46,0,125,6,43,159,18,48,14,222,38,10,10,37,46,9,190,10,175,2,43,108,64,94,26,0,56,128,20,73,43,205,167,515,16,44,35,10,0,12,5,0,13,7,8,55,30,10,24,33,44,7,0,10,16,57,89,4,5,34,39,183,19,52,10,33,68,18,34,44,33,158,103,63,10,592,599,42,11,209,386,0,43,112,48,26,326,38,164,568,45,4,192,164,0,88,656,454,89,15,41,0,15,185,33,135,578,399,398,0,21,10,0,19,171,50,267,95,25,10,20,46,53,537,0,93,41,58,26,0,260,45,49,27,15,5,18,20,41,10,107,21,10,26,80,180,0,58,7,0,162,177,10,0,10,119,42,422,218,10,647,33,25,114,0,10,36,10,0,0,0,12,25,179,47,27,3,2,41,123,10,61,37,0,113,56,44,33,33,77,36,12,10,20,40,14,40,45,48,138,165,46,475,14,61,97,88,36,75,181,0,10,613,0,27,30,54,49,33,110,10,0,17,0,46,28,45,0,17,33,102,107,34,22,24,29,52,45,7,629,30,27,63,29,42,16,33,11,10,104,30,103,10,25,254,14,107,595,13,20,0,49,17,52,10,0,33,43,441,25,31,44,52,51,6,10,25,116,33,144,13,97,527,51,41],\"coloraxis\":\"coloraxis\",\"symbol\":\"circle\"},\"mode\":\"markers\",\"name\":\"\",\"showlegend\":false,\"type\":\"scattergeo\"}],                        {\"template\":{\"data\":{\"histogram2dcontour\":[{\"type\":\"histogram2dcontour\",\"colorbar\":{\"outlinewidth\":0,\"ticks\":\"\"},\"colorscale\":[[0.0,\"#0d0887\"],[0.1111111111111111,\"#46039f\"],[0.2222222222222222,\"#7201a8\"],[0.3333333333333333,\"#9c179e\"],[0.4444444444444444,\"#bd3786\"],[0.5555555555555556,\"#d8576b\"],[0.6666666666666666,\"#ed7953\"],[0.7777777777777778,\"#fb9f3a\"],[0.8888888888888888,\"#fdca26\"],[1.0,\"#f0f921\"]]}],\"choropleth\":[{\"type\":\"choropleth\",\"colorbar\":{\"outlinewidth\":0,\"ticks\":\"\"}}],\"histogram2d\":[{\"type\":\"histogram2d\",\"colorbar\":{\"outlinewidth\":0,\"ticks\":\"\"},\"colorscale\":[[0.0,\"#0d0887\"],[0.1111111111111111,\"#46039f\"],[0.2222222222222222,\"#7201a8\"],[0.3333333333333333,\"#9c179e\"],[0.4444444444444444,\"#bd3786\"],[0.5555555555555556,\"#d8576b\"],[0.6666666666666666,\"#ed7953\"],[0.7777777777777778,\"#fb9f3a\"],[0.8888888888888888,\"#fdca26\"],[1.0,\"#f0f921\"]]}],\"heatmap\":[{\"type\":\"heatmap\",\"colorbar\":{\"outlinewidth\":0,\"ticks\":\"\"},\"colorscale\":[[0.0,\"#0d0887\"],[0.1111111111111111,\"#46039f\"],[0.2222222222222222,\"#7201a8\"],[0.3333333333333333,\"#9c179e\"],[0.4444444444444444,\"#bd3786\"],[0.5555555555555556,\"#d8576b\"],[0.6666666666666666,\"#ed7953\"],[0.7777777777777778,\"#fb9f3a\"],[0.8888888888888888,\"#fdca26\"],[1.0,\"#f0f921\"]]}],\"heatmapgl\":[{\"type\":\"heatmapgl\",\"colorbar\":{\"outlinewidth\":0,\"ticks\":\"\"},\"colorscale\":[[0.0,\"#0d0887\"],[0.1111111111111111,\"#46039f\"],[0.2222222222222222,\"#7201a8\"],[0.3333333333333333,\"#9c179e\"],[0.4444444444444444,\"#bd3786\"],[0.5555555555555556,\"#d8576b\"],[0.6666666666666666,\"#ed7953\"],[0.7777777777777778,\"#fb9f3a\"],[0.8888888888888888,\"#fdca26\"],[1.0,\"#f0f921\"]]}],\"contourcarpet\":[{\"type\":\"contourcarpet\",\"colorbar\":{\"outlinewidth\":0,\"ticks\":\"\"}}],\"contour\":[{\"type\":\"contour\",\"colorbar\":{\"outlinewidth\":0,\"ticks\":\"\"},\"colorscale\":[[0.0,\"#0d0887\"],[0.1111111111111111,\"#46039f\"],[0.2222222222222222,\"#7201a8\"],[0.3333333333333333,\"#9c179e\"],[0.4444444444444444,\"#bd3786\"],[0.5555555555555556,\"#d8576b\"],[0.6666666666666666,\"#ed7953\"],[0.7777777777777778,\"#fb9f3a\"],[0.8888888888888888,\"#fdca26\"],[1.0,\"#f0f921\"]]}],\"surface\":[{\"type\":\"surface\",\"colorbar\":{\"outlinewidth\":0,\"ticks\":\"\"},\"colorscale\":[[0.0,\"#0d0887\"],[0.1111111111111111,\"#46039f\"],[0.2222222222222222,\"#7201a8\"],[0.3333333333333333,\"#9c179e\"],[0.4444444444444444,\"#bd3786\"],[0.5555555555555556,\"#d8576b\"],[0.6666666666666666,\"#ed7953\"],[0.7777777777777778,\"#fb9f3a\"],[0.8888888888888888,\"#fdca26\"],[1.0,\"#f0f921\"]]}],\"mesh3d\":[{\"type\":\"mesh3d\",\"colorbar\":{\"outlinewidth\":0,\"ticks\":\"\"}}],\"scatter\":[{\"fillpattern\":{\"fillmode\":\"overlay\",\"size\":10,\"solidity\":0.2},\"type\":\"scatter\"}],\"parcoords\":[{\"type\":\"parcoords\",\"line\":{\"colorbar\":{\"outlinewidth\":0,\"ticks\":\"\"}}}],\"scatterpolargl\":[{\"type\":\"scatterpolargl\",\"marker\":{\"colorbar\":{\"outlinewidth\":0,\"ticks\":\"\"}}}],\"bar\":[{\"error_x\":{\"color\":\"#2a3f5f\"},\"error_y\":{\"color\":\"#2a3f5f\"},\"marker\":{\"line\":{\"color\":\"#E5ECF6\",\"width\":0.5},\"pattern\":{\"fillmode\":\"overlay\",\"size\":10,\"solidity\":0.2}},\"type\":\"bar\"}],\"scattergeo\":[{\"type\":\"scattergeo\",\"marker\":{\"colorbar\":{\"outlinewidth\":0,\"ticks\":\"\"}}}],\"scatterpolar\":[{\"type\":\"scatterpolar\",\"marker\":{\"colorbar\":{\"outlinewidth\":0,\"ticks\":\"\"}}}],\"histogram\":[{\"marker\":{\"pattern\":{\"fillmode\":\"overlay\",\"size\":10,\"solidity\":0.2}},\"type\":\"histogram\"}],\"scattergl\":[{\"type\":\"scattergl\",\"marker\":{\"colorbar\":{\"outlinewidth\":0,\"ticks\":\"\"}}}],\"scatter3d\":[{\"type\":\"scatter3d\",\"line\":{\"colorbar\":{\"outlinewidth\":0,\"ticks\":\"\"}},\"marker\":{\"colorbar\":{\"outlinewidth\":0,\"ticks\":\"\"}}}],\"scattermapbox\":[{\"type\":\"scattermapbox\",\"marker\":{\"colorbar\":{\"outlinewidth\":0,\"ticks\":\"\"}}}],\"scatterternary\":[{\"type\":\"scatterternary\",\"marker\":{\"colorbar\":{\"outlinewidth\":0,\"ticks\":\"\"}}}],\"scattercarpet\":[{\"type\":\"scattercarpet\",\"marker\":{\"colorbar\":{\"outlinewidth\":0,\"ticks\":\"\"}}}],\"carpet\":[{\"aaxis\":{\"endlinecolor\":\"#2a3f5f\",\"gridcolor\":\"white\",\"linecolor\":\"white\",\"minorgridcolor\":\"white\",\"startlinecolor\":\"#2a3f5f\"},\"baxis\":{\"endlinecolor\":\"#2a3f5f\",\"gridcolor\":\"white\",\"linecolor\":\"white\",\"minorgridcolor\":\"white\",\"startlinecolor\":\"#2a3f5f\"},\"type\":\"carpet\"}],\"table\":[{\"cells\":{\"fill\":{\"color\":\"#EBF0F8\"},\"line\":{\"color\":\"white\"}},\"header\":{\"fill\":{\"color\":\"#C8D4E3\"},\"line\":{\"color\":\"white\"}},\"type\":\"table\"}],\"barpolar\":[{\"marker\":{\"line\":{\"color\":\"#E5ECF6\",\"width\":0.5},\"pattern\":{\"fillmode\":\"overlay\",\"size\":10,\"solidity\":0.2}},\"type\":\"barpolar\"}],\"pie\":[{\"automargin\":true,\"type\":\"pie\"}]},\"layout\":{\"autotypenumbers\":\"strict\",\"colorway\":[\"#636efa\",\"#EF553B\",\"#00cc96\",\"#ab63fa\",\"#FFA15A\",\"#19d3f3\",\"#FF6692\",\"#B6E880\",\"#FF97FF\",\"#FECB52\"],\"font\":{\"color\":\"#2a3f5f\"},\"hovermode\":\"closest\",\"hoverlabel\":{\"align\":\"left\"},\"paper_bgcolor\":\"white\",\"plot_bgcolor\":\"#E5ECF6\",\"polar\":{\"bgcolor\":\"#E5ECF6\",\"angularaxis\":{\"gridcolor\":\"white\",\"linecolor\":\"white\",\"ticks\":\"\"},\"radialaxis\":{\"gridcolor\":\"white\",\"linecolor\":\"white\",\"ticks\":\"\"}},\"ternary\":{\"bgcolor\":\"#E5ECF6\",\"aaxis\":{\"gridcolor\":\"white\",\"linecolor\":\"white\",\"ticks\":\"\"},\"baxis\":{\"gridcolor\":\"white\",\"linecolor\":\"white\",\"ticks\":\"\"},\"caxis\":{\"gridcolor\":\"white\",\"linecolor\":\"white\",\"ticks\":\"\"}},\"coloraxis\":{\"colorbar\":{\"outlinewidth\":0,\"ticks\":\"\"}},\"colorscale\":{\"sequential\":[[0.0,\"#0d0887\"],[0.1111111111111111,\"#46039f\"],[0.2222222222222222,\"#7201a8\"],[0.3333333333333333,\"#9c179e\"],[0.4444444444444444,\"#bd3786\"],[0.5555555555555556,\"#d8576b\"],[0.6666666666666666,\"#ed7953\"],[0.7777777777777778,\"#fb9f3a\"],[0.8888888888888888,\"#fdca26\"],[1.0,\"#f0f921\"]],\"sequentialminus\":[[0.0,\"#0d0887\"],[0.1111111111111111,\"#46039f\"],[0.2222222222222222,\"#7201a8\"],[0.3333333333333333,\"#9c179e\"],[0.4444444444444444,\"#bd3786\"],[0.5555555555555556,\"#d8576b\"],[0.6666666666666666,\"#ed7953\"],[0.7777777777777778,\"#fb9f3a\"],[0.8888888888888888,\"#fdca26\"],[1.0,\"#f0f921\"]],\"diverging\":[[0,\"#8e0152\"],[0.1,\"#c51b7d\"],[0.2,\"#de77ae\"],[0.3,\"#f1b6da\"],[0.4,\"#fde0ef\"],[0.5,\"#f7f7f7\"],[0.6,\"#e6f5d0\"],[0.7,\"#b8e186\"],[0.8,\"#7fbc41\"],[0.9,\"#4d9221\"],[1,\"#276419\"]]},\"xaxis\":{\"gridcolor\":\"white\",\"linecolor\":\"white\",\"ticks\":\"\",\"title\":{\"standoff\":15},\"zerolinecolor\":\"white\",\"automargin\":true,\"zerolinewidth\":2},\"yaxis\":{\"gridcolor\":\"white\",\"linecolor\":\"white\",\"ticks\":\"\",\"title\":{\"standoff\":15},\"zerolinecolor\":\"white\",\"automargin\":true,\"zerolinewidth\":2},\"scene\":{\"xaxis\":{\"backgroundcolor\":\"#E5ECF6\",\"gridcolor\":\"white\",\"linecolor\":\"white\",\"showbackground\":true,\"ticks\":\"\",\"zerolinecolor\":\"white\",\"gridwidth\":2},\"yaxis\":{\"backgroundcolor\":\"#E5ECF6\",\"gridcolor\":\"white\",\"linecolor\":\"white\",\"showbackground\":true,\"ticks\":\"\",\"zerolinecolor\":\"white\",\"gridwidth\":2},\"zaxis\":{\"backgroundcolor\":\"#E5ECF6\",\"gridcolor\":\"white\",\"linecolor\":\"white\",\"showbackground\":true,\"ticks\":\"\",\"zerolinecolor\":\"white\",\"gridwidth\":2}},\"shapedefaults\":{\"line\":{\"color\":\"#2a3f5f\"}},\"annotationdefaults\":{\"arrowcolor\":\"#2a3f5f\",\"arrowhead\":0,\"arrowwidth\":1},\"geo\":{\"bgcolor\":\"white\",\"landcolor\":\"#E5ECF6\",\"subunitcolor\":\"white\",\"showland\":true,\"showlakes\":true,\"lakecolor\":\"white\"},\"title\":{\"x\":0.05},\"mapbox\":{\"style\":\"light\"}}},\"geo\":{\"domain\":{\"x\":[0.0,1.0],\"y\":[0.0,1.0]},\"center\":{}},\"coloraxis\":{\"colorbar\":{\"title\":{\"text\":\"Focal depth\"}},\"colorscale\":[[0.0,\"#0d0887\"],[0.1111111111111111,\"#46039f\"],[0.2222222222222222,\"#7201a8\"],[0.3333333333333333,\"#9c179e\"],[0.4444444444444444,\"#bd3786\"],[0.5555555555555556,\"#d8576b\"],[0.6666666666666666,\"#ed7953\"],[0.7777777777777778,\"#fb9f3a\"],[0.8888888888888888,\"#fdca26\"],[1.0,\"#f0f921\"]]},\"legend\":{\"tracegroupgap\":0},\"title\":{\"text\":\"Earthquake locations with respect of epicenter depth\"},\"height\":768,\"width\":1366},                        {\"responsive\": true}                    ).then(function(){\n",
              "                            \n",
              "var gd = document.getElementById('99bf19d3-e5e3-4c5c-8a57-122e813070b4');\n",
              "var x = new MutationObserver(function (mutations, observer) {{\n",
              "        var display = window.getComputedStyle(gd).display;\n",
              "        if (!display || display === 'none') {{\n",
              "            console.log([gd, 'removed!']);\n",
              "            Plotly.purge(gd);\n",
              "            observer.disconnect();\n",
              "        }}\n",
              "}});\n",
              "\n",
              "// Listen for the removal of the full notebook cells\n",
              "var notebookContainer = gd.closest('#notebook-container');\n",
              "if (notebookContainer) {{\n",
              "    x.observe(notebookContainer, {childList: true});\n",
              "}}\n",
              "\n",
              "// Listen for the clearing of the current output cell\n",
              "var outputEl = gd.closest('.output');\n",
              "if (outputEl) {{\n",
              "    x.observe(outputEl, {childList: true});\n",
              "}}\n",
              "\n",
              "                        })                };                            </script>        </div>\n",
              "</body>\n",
              "</html>"
            ]
          },
          "metadata": {}
        }
      ]
    },
    {
      "cell_type": "markdown",
      "source": [
        "plot location of earthquakes with respect to magnitude of Richter"
      ],
      "metadata": {
        "id": "oBADRK3XN8w0"
      }
    },
    {
      "cell_type": "code",
      "source": [
        "fig = px.scatter_geo(df, lat='Latitude',\n",
        "                     lon='Longitude',\n",
        "                     color='Richter',\n",
        "                     width = 1366,\n",
        "                     height = 768,\n",
        "                     title='Earthquake locations with respect of magnitude strength'\n",
        "                     )\n",
        "fig.show()"
      ],
      "metadata": {
        "colab": {
          "base_uri": "https://localhost:8080/",
          "height": 785
        },
        "id": "FVzTxcxS1nS-",
        "outputId": "1f542a9e-a608-4760-db24-169d271ccc23"
      },
      "execution_count": null,
      "outputs": [
        {
          "output_type": "display_data",
          "data": {
            "text/html": [
              "<html>\n",
              "<head><meta charset=\"utf-8\" /></head>\n",
              "<body>\n",
              "    <div>            <script src=\"https://cdnjs.cloudflare.com/ajax/libs/mathjax/2.7.5/MathJax.js?config=TeX-AMS-MML_SVG\"></script><script type=\"text/javascript\">if (window.MathJax && window.MathJax.Hub && window.MathJax.Hub.Config) {window.MathJax.Hub.Config({SVG: {font: \"STIX-Web\"}});}</script>                <script type=\"text/javascript\">window.PlotlyConfig = {MathJaxConfig: 'local'};</script>\n",
              "        <script src=\"https://cdn.plot.ly/plotly-2.18.2.min.js\"></script>                <div id=\"cb9b49ab-3a8c-4d8a-8578-3e0b0423de9b\" class=\"plotly-graph-div\" style=\"height:768px; width:1366px;\"></div>            <script type=\"text/javascript\">                                    window.PLOTLYENV=window.PLOTLYENV || {};                                    if (document.getElementById(\"cb9b49ab-3a8c-4d8a-8578-3e0b0423de9b\")) {                    Plotly.newPlot(                        \"cb9b49ab-3a8c-4d8a-8578-3e0b0423de9b\",                        [{\"geo\":\"geo\",\"hovertemplate\":\"Latitude=%{lat}<br>Longitude=%{lon}<br>Richter=%{marker.color}<extra></extra>\",\"lat\":[-52.26,45.53,41.85,29.19,-21.66,23.09,-20.7,22.33,-13.64,-16.31,36.48,55.72,55.75,-5.14,-44.6,-44.2,36.23,36.95,14.42,-6.44,59.79,57.2,58.26,58.83,56.42,57.17,60.05,0.4,56.45,60.36,60.51,59.79,56.65,3.91,61.62,60.11,56.85,56.3,60.25,0.02,56.6,61.51,-5.42,-5.07,45.35,-3.88,40.39,40.55,-2.73,-56.45,-56.09,-56.17,43.43,38.4,43.16,-1.76,-0.5,11.7,18.31,-5.54,-15.56,47.09,46.96,47.09,-27.82,14.17,-41.13,-5.48,-26.37,78.15,-4.42,-48.95,8.9,29.96,-10.42,40.3,-31.4,-7.17,28.04,19.8,-45.6,3.11,-31.78,-5.75,-20.46,-6.0,-4.34,-27.46,40.49,-20.45,-13.49,27.4,49.88,-56.46,-2.4,-2.64,-51.7,51.29,51.39,52.74,53.05,52.37,53.14,52.05,53.26,51.34,28.62,52.73,2.97,-25.67,-5.43,-5.36,53.02,36.42,40.75,-1.47,-31.81,55.2,-32.42,40.73,50.32,38.38,35.06,-42.66,64.69,54.25,21.0,-7.02,47.41,-55.99,-6.2,22.41,-14.6,52.17,-56.24,-7.53,15.93,44.45,7.21,-54.59,53.03,38.37,51.11,-55.9,-7.31,-5.21,-15.47,-15.75,-15.86,-5.25,-0.47,-5.74,-18.84,-22.91,16.33,58.29,6.51,-5.33,-6.37,-6.46,7.13,-1.4,36.35,28.96,36.44,-54.74,50.02,49.45,-42.9,12.46,44.21,-9.04,-22.34,30.68,43.87,-29.34,31.0,53.89,-7.28,-6.21,51.32,-9.61,-6.39,17.35,58.35,50.04,20.73,49.77,-17.66,-32.2,-5.41,48.29,31.49,1.85,24.24,-21.08,0.81,49.72,37.49,23.86,23.72,51.24,57.37,-0.78,-0.52,-52.77,-23.4,36.43,11.26,-12.23,-10.43,-10.15,-7.21,29.62,29.71,24.86,51.99,50.57,-0.1,-0.05,39.17,8.48,2.34,-23.0,-60.33,27.87,-21.59,-60.44,-10.74,-1.52,73.4,22.11,38.9,-31.95,41.68,-14.03,49.92,-26.06,-7.11,-25.51,-15.16,48.22,38.33,56.68,-14.83,48.08,52.4,24.0,2.93,-9.05,-23.79,-9.12,-0.09,-0.13,49.79,-0.16,39.25,-10.64,-10.75,-10.77,-40.12,-6.73,45.53,-6.01,-11.14,45.56,20.0,5.16,27.32,51.47,-20.25,-0.96,51.86,-15.33,-58.36,52.76,-25.18,54.44,52.58,40.67,6.84,35.43,10.36,3.72,-60.84,12.18,31.61,-10.59,-27.62,27.42,42.92,-57.82,-49.57,-20.78,19.5,-6.59,-5.66,-21.1,-7.15,11.91,73.4,24.43,-7.02,-28.78,14.48,41.41,49.45,17.54,-21.89,17.42,17.61,-5.25,-21.29,-22.46,-7.53,-9.29,-8.93,43.52,-6.1,-5.54,39.4,22.76,-16.13,-6.59,32.48,32.24,33.22,58.69,43.58,29.93,40.86,41.52,40.78,39.83,-30.86,-30.84,44.67,41.47,-41.72,-6.84,-2.98,44.48,-1.86,39.47,5.64,41.06,-5.55,-5.51,36.01,-2.7,38.54,39.54,-30.97,-0.27,-6.86,16.3,16.56,25.73,16.45,6.6,33.31,1.38,1.4,0.06,-10.2,1.17,34.15,34.09,-3.74,-8.62,-21.57,28.3,-6.08,10.76,42.08,15.54,-30.52,-6.89,-3.65,-13.1,49.82,-56.27,-7.6,26.29,-39.85,-31.54,-3.38,-12.41,65.46,1.2,-14.2,73.39,9.57,40.3,-14.01,51.56,60.15,-56.03,-8.03,-10.57,-56.81,44.89,-14.89,54.84,-21.87,0.77,-17.15,4.77,4.81,-8.07,-22.75,41.42,-6.76,3.5,-3.17,35.97,8.69,4.72,38.55,11.91,27.61,12.0,-6.11,-13.57,32.15,-30.5,-16.71,51.29,34.43,49.41,-7.93,-52.53,53.31,51.46,52.21,38.43,-17.3,-11.84,-5.71,1.26,36.44,-6.14,43.46,43.59,43.44,43.61,43.63,43.72,43.78,1.81,43.45,43.14,21.57,43.17,25.12,47.88,-8.89,-8.98,51.27,31.08,15.3,-60.9,-11.75,73.39,23.09,51.31,34.77,-16.11,-53.37,51.26,34.72,27.8,1.94,57.7,37.16,49.94,43.79,1.99,8.2,46.21,15.79,16.08,28.55,24.12,-34.85,6.8,-25.85,42.48,7.03,15.57,12.58,-9.84,9.8,30.61,50.13,52.59,12.15,-19.07,44.65,57.39,-29.6,51.34,-22.08,0.28,-6.26,39.21,-17.07,6.78,39.78,15.78,38.34,15.08,-18.79,52.93,14.65,14.61,-4.37,50.19,-55.92,27.22,-11.73,-9.15,-9.93,-9.28,-10.22,-9.88,42.48,44.72,-24.47,-58.86,-2.9,-51.94,-16.0,-22.28,-7.9,-8.75,-21.66,-10.14,18.0,51.35,32.26,32.31,-37.73,26.02,-1.46,1.16,-13.92,-14.13,-60.63,-13.89,-9.0,60.7,-56.46,-4.6,52.36,17.7,13.0,-6.5,6.37,6.52,-13.52,-3.56,-31.94,-32.0,-4.1,73.31,39.25,-4.97,-3.43,-5.1,-6.05,43.46,-20.94,-4.11,-11.02,-11.03,-23.19,41.79,29.79,-30.81,-3.97,43.87,-1.59,43.81,-5.23,-10.58,-3.21,-2.95,-3.06,-3.31,-3.01,-3.24,-3.31,-3.37,-3.08,-3.41,-3.63,-9.65,51.46,51.69,-2.89,0.53,51.47,-63.43,34.4,-23.81,-5.75,-10.93,8.43,-22.96,70.97,41.42,4.76,60.33,37.3,38.41,-0.36,53.26,2.45,-4.42,28.3,49.77,51.41,-6.54,-42.28,-39.78,7.99,63.92,38.85,18.02,51.67,-25.4,-5.26,-6.23,-5.18,-5.97,-7.03,-32.51,-32.19,-5.52,-4.86,-5.78,52.13,-4.93,39.81,-5.4,-5.53,-5.16,-5.7,-5.81,-5.86,-2.79,-4.89,-5.14,41.37,-0.85,-5.88,-5.74,49.29,13.3,-55.73,46.54,46.76,46.28,44.34,-20.41,-6.46,-6.79,39.17,-5.93,-6.54,-0.02,73.39,46.41,3.63,-0.45,-6.55,-5.42,11.83,-6.49,11.86,11.86,-15.57,-5.93,-5.57,-5.95,10.11,-23.45,-11.87,-11.94,52.85,-55.19,-29.86,44.77,-6.02,56.04,47.9,-4.75,-16.85,22.5,-4.6,-30.65,-2.09,20.95,-55.72,-4.84,-4.74,36.4,-13.18,-3.54,22.55,23.05,-19.38,19.36,-15.36,-11.43,-17.62,-60.59,33.38,33.48,-18.94,33.45,-28.25,-3.74,33.6,40.84,-6.79,51.27,49.05,-45.1,56.14,48.04,43.33,-25.69,-49.35,-16.05,-7.47,-53.52,42.09,28.39,0.99,24.1,53.95,-31.4,23.6,13.38,-5.13,5.22,-15.94,35.16,-4.21,-17.82,-27.74,16.61,-17.76,-11.05,-30.34,3.86,53.25,-7.12,36.28,50.1,56.77,30.71,2.35,49.13,-11.1,-16.66,51.34,-6.29,-6.04,-6.05,-5.15,49.47,-33.49,73.39,-14.99,29.41,35.94,-11.78,1.9,-19.89,-2.52,71.42,-15.35,37.96,-20.36,15.23,-9.93,19.55,-6.22,-6.56,-30.91,-16.47,7.46,1.81,52.89,-8.79,27.48,-7.33,49.91,-20.03,23.87,38.33,-6.72,6.41,33.34,-1.52,49.97,44.68,-7.0,-7.5,-4.35,-30.51,-39.02,-14.66,-6.88,-12.1,-0.14,18.53,28.22,-22.53,31.33,31.5,22.27,-19.16,-61.1,50.51,54.73,6.32,-3.01,50.78,2.18,-19.41,13.41,2.09,29.3,4.7,7.0,-15.81,-9.81,50.86,4.96,-59.38,20.05,-10.01,2.25,-1.46,-6.34,-6.26,53.97,24.31,-54.0,-10.31,-6.73,-7.27,53.61,51.27,44.98,43.12,42.92,42.65,-5.88,43.28,43.14,19.11,43.01,43.28,57.86,12.21,57.99,35.16,36.45,-24.83,49.94,-14.33,-16.22,43.38,-4.5,-31.38,57.09,-7.22,18.25,-0.15,-37.27,7.15,42.48,73.32,9.2,-7.02,9.23,-4.4,-4.37,-54.97,70.8,41.93,35.67,-32.98,-61.05,-14.34,0.52,19.42,-21.95,70.8,-2.96,-25.98,51.52,49.99,-31.2,49.99,38.98,53.61,-15.18,-35.59,43.25,-19.9,50.03,51.38,-9.52,-20.61,-23.88,-14.56,-15.13,-14.92,-15.37,-22.49,-12.28,-38.84,-14.45,42.03,-5.15,-7.39,-7.0,-7.28,18.93,-5.13,-7.35,53.74,-3.79,33.17,44.01,1.27,9.51,-20.02,-7.48,-7.48,48.31,-14.91,-23.93,12.57,57.56,55.15,55.05,-26.28,-31.55,-33.49,34.57,-4.3,28.19,1.87,19.73,49.98,-11.17,-6.55,-17.68,-17.62,49.91,-15.89,-31.88,-56.03,-2.25,-26.02,-4.72,-29.22,-29.37,45.2,36.44,7.76,7.74,46.22,46.01,36.42,39.34,39.46,-38.34,32.18,73.41,18.27,-4.26,-9.8,55.25,-30.54,-6.2,-0.28,43.12,-12.24,17.37,44.64,-17.97,-8.4,-15.49,-6.93,70.81,42.53,-12.44,-6.44,-15.91,2.27,35.85,-15.12,-53.59,-6.06,-15.24,30.71,-6.15,-5.04,0.51,-7.65,-2.3,51.66,35.05,61.92,-2.99,-4.93,-17.86,32.38,31.94,35.05,7.18,53.0,53.08,40.66,-7.24,51.32,-24.98,-6.07,-17.84,-2.39,27.47,-29.89,-21.75,-4.26,22.68,-32.36,42.04,-4.06,-50.84,-14.79,71.49,-36.41,16.47,-31.79,35.8,37.2,-38.03,1.03,22.7,35.98,0.75,-20.61,-4.5,44.39,43.26,36.31,43.51,-3.1,30.07,38.78,21.42,32.84,6.51,-10.34,-6.64,-7.15,-6.63,-6.84,-9.84,53.48,-2.51,-22.73,-6.9,54.92,73.34,10.04,-10.13,38.51,7.05,-34.74,-20.45,-9.49,-4.83,-4.83,-12.54,0.91,-15.4,-24.91,-24.2,-7.54,70.84,73.33,6.54,-22.91,49.91,42.05,12.47,13.82,-18.39,12.5,13.83,12.91,-12.25,7.55,-33.02,-57.78,19.46,-14.92,-11.54,-7.01,-11.74,51.93,-4.07,-16.22,-56.8,-28.78,-13.31,66.25,-29.48,-29.02,-29.64,-30.01,-32.67,-32.65,44.74,-7.46,-28.65,44.62,-29.35,17.15,54.52,15.28,-5.96,-57.39,12.98,-6.36,-39.93,-8.36,-14.77,-10.62,-29.92,-30.6,3.96,-3.94,40.31,40.18,0.85,28.7,-44.58,-29.93,46.35,-7.47,-7.58,-51.6,-32.63,-37.28,-11.62,40.35,4.49,-31.3,3.69,-5.91,-5.6,-5.6,-5.02,-10.51,24.51,-41.5,-5.13,-10.08,-7.38,14.06,17.45,0.52,24.79,3.4,0.53,-4.58,-4.34,3.78,-4.52,-33.78,-29.51,49.85,-50.01,47.31,7.48,7.41,-8.21,-8.17,-4.18,39.56,39.71,47.81,-30.32,-20.59,26.7,32.78,-34.28,6.22,7.18,7.33,7.35,10.09,7.22,-6.77,32.59,32.49,6.52,49.95,1.03,-9.2,44.78,73.41,6.93,-30.48,-6.43,-10.45,36.5,-4.54,-29.36,8.52,6.98,38.12,39.5,-8.84,7.09,49.97,39.05,-19.5,41.33,36.52,-20.57,49.87,-31.95,28.04,28.27,48.84,23.41,-7.9,-2.51,38.19,-3.65,-24.93,-41.74,37.02,5.04,40.11,-24.66,-66.49,-60.96,0.54,33.15,-41.31,53.54,-6.26,6.74,45.83,41.66,-4.96,16.73,44.16,-21.89,27.59,-14.76,27.57,-16.79,-9.9,-9.97,-9.94,-9.76,-9.73,-10.0,-10.21,-10.31,-1.81,49.86,-14.02,-22.91,22.68,-7.73,1.42,-56.17,-53.82,16.86,-33.79,-15.29,-8.04,-56.11,-10.58,-17.58,-6.55,-7.89,46.76,-11.21,-11.16,-10.94,-10.89,-11.1,-10.88,-59.54,-8.1,17.46,-11.04,-13.74,51.31,50.05,34.95,11.8,-1.92,-11.29,-9.99,-25.87,-15.78,-27.93,-27.96,-6.21,-11.48,-10.2,-31.04,-31.02,-21.86,-31.37,-31.44,49.93,-5.01,3.52,-31.24,25.54,16.54,-5.13,-15.37,18.79,44.56,34.8,-31.25,-34.29,-4.2,-5.39,-26.0,-0.07,-30.63,-8.7,38.83,-4.94,-4.88,29.33,-26.6,-4.66,31.93,31.99,26.45,-22.91,43.86,43.99,44.22,44.09,44.27,44.7,44.41,44.3,29.68,44.11,42.84,-8.62,-27.97,-19.63,-4.94,10.06,44.38,-11.39,-9.43,56.52,5.14,36.64,4.69,-5.92,-9.88,-37.84,-14.6,-0.74,31.07,51.24,24.29,-1.05,40.4,49.88,38.23,38.38,8.28,8.24,7.85,-17.06,40.78,48.27,-5.05,-5.07,-15.27,-18.27,49.84,0.55,52.26,-14.95,-4.2,22.19,-20.64,-26.52,-0.14,73.31,-59.8,-30.62,-47.53,49.98,-7.53,24.81,-13.35,-30.57,49.91,48.21,33.37,-13.94,-14.92,39.4,33.47,47.81,-5.45,39.34,37.71,-11.21,-11.14,47.79,-10.92,49.93,16.07,-21.85,-10.22,44.55,-7.08,7.33,0.55,47.78,-8.27,23.17,33.96,47.87,-30.02,17.53,-18.52,54.8,0.02,5.23,6.01,-15.57,-13.61,-16.52,40.22,60.73,1.02,17.76,18.02,41.95,3.02,42.05,5.66,-0.05,-20.82,9.3,-21.22,-6.38,19.0,-22.95,24.13,0.66,56.65,-15.44,52.68,36.45,-24.6,-8.32,-30.73,8.14,-56.02,-6.55,38.79,17.04,49.88,-5.0,-19.86,7.11,43.88,-32.16,50.05,33.87,-11.16,-21.86,49.86,-22.86,34.57,-4.86,41.85,49.93,36.48,8.95,10.72,19.05,53.97,-1.71,-1.18,53.64,3.48,42.8,52.23,-60.57,45.09,-19.09,-2.84,1.16,-7.17,-46.54,18.49,-1.18,51.82,73.34,-8.4,0.66,-10.68,-10.58,47.79,49.96,-1.2,-13.4,-7.76,17.89,-9.5,-13.32,-4.43,-23.61,34.03,-16.73,-1.94,5.89,-31.34,4.81,-18.93,34.08,49.88,34.14,28.95,1.62,-3.41,49.92,3.56,-4.69,1.0,38.75,6.0,51.31,-17.62,-7.89,-54.21,-4.7,36.47,44.51,-10.68,43.47,43.14,43.22,-6.02,-6.04,6.33,-22.67,52.94,52.78,23.86,-4.63,16.09,9.0,-23.53,-10.87,-8.05,51.21,34.5,-14.52,-6.03,-5.96,37.59,-19.42,-18.61,-7.37,-5.19,-15.25,9.5,-30.18,-58.07,-5.24,34.81,6.63,-12.49,39.29,-29.32,-4.45,-29.0,-21.86,-17.89,-12.3,-20.3,-13.09,29.63,15.93,-15.22,49.94,35.53,-3.25,-15.09,-6.3,-5.34,36.16,36.25,49.94,-6.11,-6.22,-21.95,18.22,-22.3,11.78,-22.25,41.15,-51.49,19.57,27.4,40.86,-19.44,-21.35,49.87,-17.59,-21.4,49.44,-21.25,30.63,-16.29,50.01,45.98,29.28,-61.11,38.61,38.71,-4.56,38.28,42.48,38.18,-29.68,51.82,53.02,44.61,-22.11,-6.04,38.23,-13.77,38.24,3.93,18.82,-5.43,-19.52,3.43,-27.28,45.59,14.23,37.28,49.87,-13.4,-23.7,43.23,36.41,-1.96,42.65,-5.14,5.82,-48.55,-14.75,-5.68,-49.13,-36.0,44.66,16.57,29.89,-22.29,-15.44,29.99,-21.61,-5.18,-2.76,-22.09,48.71,-22.89,-5.32,-15.08,43.53,-21.5,30.66,35.68,49.89,24.84,18.34,-6.39,-22.22,-30.18,-29.41,-4.76,73.32,-33.82,50.72,-4.52,-9.42,-20.7,-6.43,-11.4,-9.98,40.3,-33.15,-7.11,49.88,18.18,-31.38,43.56,-20.01,-3.52,-32.17,-2.3,18.75,42.98,-20.81,-37.23,-6.14,23.96,-6.39,-56.4,39.22,-30.01,-30.03,49.9,-2.11,26.84,18.0,-23.1,-12.11,-3.41,46.99,13.85,14.01,13.15,-9.53,-9.55,39.96,31.68,53.26,16.73,-22.69,-10.89,33.67,22.33,-25.19,-56.05,-9.52,42.23,-18.54,-52.89,-31.55,-12.74,-6.41,0.09,-15.86,19.89,-28.21,19.9,49.87,-0.61,-60.75,-20.24,-3.36,48.82,55.07,7.79,38.76,-41.41,-18.11,51.57,16.51,16.58,-5.66,-17.61,-4.7,13.29,-7.33,-55.42,44.56,51.39,49.97,27.9,-51.15,36.36,51.76,13.81,-12.59,-11.16,-4.34,-5.05,33.71,6.75,36.4,-2.71,43.85,-15.36,-25.55,29.4,-14.53,-23.45,-24.39,-15.61,-7.17,-6.61,-1.73,-10.61,-3.72,49.89,-9.87,-9.28,14.67,36.13,24.56,-24.15,-57.44,33.9,19.93,-15.43,-5.45,38.07,-57.98,16.14,12.91,-30.44,-29.69,10.54,55.03,54.99,8.73,5.6,-18.65,49.23,44.06,-3.49,43.76,-6.99,-4.05,-4.07,-4.89,-4.67,-21.59,-6.48,8.8,5.71,52.92,49.41,-15.04,11.4,10.43,-4.84,-6.52,53.38,-10.19,27.78,14.92,-24.01,41.5,46.41,36.24,-33.89,-5.39,47.41,-21.85,40.48,40.83,-16.96,-9.52,40.25,40.22,51.42,49.91,1.55,41.35,24.13,29.74,21.77,24.17,60.22,20.19,-22.59,-7.41,-60.91,61.04,5.54,36.21,53.91,-20.13,20.45,40.14,35.48,1.8,-8.69,55.79,18.23,73.38,3.73,33.51,-16.68,-17.44,60.97,36.52,18.12,-23.98,-16.64,24.08,24.02,-3.61,73.35,33.95,-26.55,49.91,-26.16,-8.12,1.09,-23.74,-20.57,37.59,-60.75,-60.46,-60.69,1.16,49.89,44.1,40.35,-9.1,-4.0,19.5,43.75,-7.49,0.48,-7.47,-40.45,41.8,-6.85,-6.61,14.07,-15.37,-6.5,3.74,8.14,-7.63,-33.09,-3.21,-2.38,-28.14,-27.97,-5.51,11.85,36.42,33.62,45.4,-2.83,-3.88,36.47,-3.92,-23.68,29.28,36.48,49.05,34.57,-9.96,36.47,-6.6,49.86,-17.32,8.17,29.35,-38.27,40.35,49.16,49.87,17.38,-18.95,-21.05,-15.88,50.06,47.44,30.89,49.91,-6.79,-51.88,49.92,-10.83,-4.86,-30.68,-15.83,-15.66,35.31,-58.47,18.02,16.82,-6.1,-5.76,49.85,-56.44,28.11,-6.55,1.35,50.33,-0.07,32.39,27.47,-33.28,-17.9,40.39,35.78,34.01,16.8,34.02,13.84,-25.88,-31.6,15.05,-15.75,-24.05,73.37,1.65,39.16,49.92,5.76,-17.15,8.16,55.18,-18.85,-22.0,0.22,-18.7,5.13,-30.9,-17.74,-7.97,-14.32,-8.16,49.95,20.33,44.15,-1.39,49.88,49.83,56.19,-36.67,10.21,0.2,24.11,-3.66,-0.95,-7.49,-33.07,32.55,-46.01,-17.54,-20.54,49.87,-10.25,27.49,-33.14,-32.95,-33.24,-33.76,55.2,66.22,43.5,16.98,-32.68,7.76,-33.15,-6.61,-34.14,44.38,40.32,-32.64,28.27,-4.1,-34.0,-35.63,-9.19,1.65,-5.16,15.32,49.88,-39.71,-9.21,-37.62,-5.59,-29.04,53.57,54.04,-15.3,4.92,0.97,49.85,30.29,49.84,-4.44,-17.23,-29.7,49.92,-6.24,-60.3,36.21,36.19,7.46,16.93,11.15,54.15,37.77,-9.16,39.49,-21.0,-15.35,39.36,17.98,18.54,17.81,-34.61,-9.81,-22.08,62.22,-6.76,54.73,-21.55,40.32,37.65,46.29,-11.12,-31.37,-7.08,36.74,-9.57,53.21,-35.21,7.73,27.94,-1.83,-21.86,-14.03,-13.98,26.96,3.69,11.71,-14.06,-13.98,-30.67,62.19,-35.1,-5.75,-5.53,-5.61,-21.37,51.54,-10.16,27.87,36.43,24.02],\"legendgroup\":\"\",\"lon\":[28.3,150.93,142.78,141.15,169.81,120.58,169.92,93.58,165.96,-71.66,70.95,-155.95,-155.88,151.77,37.34,167.96,-7.61,95.5,56.36,127.96,-149.3,-153.0,-151.25,-149.29,-152.01,-152.45,-148.39,122.11,-153.94,-146.61,-146.7,-148.67,-152.82,96.56,-147.39,-146.71,-152.69,-154.4,-146.71,123.18,-152.21,-147.2,133.99,144.2,150.5,35.06,139.05,139.21,139.33,-27.7,-27.55,-27.66,147.05,139.26,146.17,149.75,122.61,144.57,-100.5,129.79,167.62,153.77,153.8,153.72,-71.1,96.12,-74.99,154.25,-71.78,126.65,144.08,164.46,93.03,80.46,162.42,28.23,-110.84,123.86,93.75,-56.11,96.19,128.06,57.32,150.74,-173.89,150.75,122.14,-63.23,139.05,-174.04,166.54,87.84,78.96,-27.05,125.98,126.04,139.8,178.55,179.59,172.05,170.83,174.33,-161.85,175.6,-161.74,173.44,142.42,171.99,125.91,-70.63,151.97,151.86,171.35,70.73,142.96,126.5,-71.26,162.0,-71.1,142.85,177.93,22.26,24.31,174.02,-160.23,-162.51,120.68,129.61,-122.29,-27.62,130.33,121.26,167.41,175.17,-27.9,128.6,-46.69,148.84,123.53,5.4,-167.55,22.4,-171.3,157.7,-81.27,151.65,166.91,167.12,167.36,152.13,-19.93,128.63,-68.75,-176.05,-95.8,-152.5,-84.44,153.08,151.66,70.76,126.58,-77.7,141.38,128.23,141.37,-38.3,178.28,156.58,-75.13,114.45,145.45,-71.32,-113.98,140.22,87.74,-68.09,-41.53,160.68,129.16,130.39,-179.67,159.77,146.31,-100.04,-153.13,155.38,146.29,78.1,167.96,78.93,151.57,154.36,80.5,126.4,122.67,-179.15,29.9,78.07,115.06,122.97,142.18,157.76,-152.27,122.22,122.21,160.17,-174.72,71.12,139.57,167.02,160.89,161.01,124.69,80.83,80.89,122.56,179.95,-171.22,125.01,125.06,41.56,126.62,128.4,170.6,-27.25,54.3,170.56,-26.44,-78.63,-15.37,54.57,145.9,21.1,-68.4,144.26,167.04,77.76,-63.1,148.31,-70.74,-173.64,102.9,142.2,120.95,-178.75,103.02,-169.54,-65.7,-74.83,-71.34,-175.14,113.04,123.95,123.95,78.14,-78.6,24.6,166.29,166.34,166.25,-74.68,129.84,151.11,112.33,115.36,151.62,147.27,96.31,128.66,-178.32,-68.83,101.39,176.09,-173.48,-26.83,-166.9,-70.54,-157.94,-168.13,30.69,-73.09,135.49,125.87,95.74,-24.33,140.8,100.26,-79.67,-63.15,91.86,145.33,-23.54,163.93,169.85,-60.0,153.47,153.92,-179.18,129.83,-85.98,54.42,122.25,30.9,-71.19,51.98,20.44,154.4,73.84,-70.07,-61.19,-61.26,153.7,-68.2,-174.61,127.91,158.46,120.32,146.72,113.36,153.36,24.94,121.47,-173.95,116.18,132.28,132.21,-116.19,-149.93,-127.89,129.39,143.38,142.82,142.15,143.16,-178.21,-178.2,150.28,142.88,172.03,118.91,139.34,150.19,120.1,142.89,-82.6,143.1,-77.2,-77.3,139.33,139.01,142.14,143.2,-178.13,133.47,-80.42,122.11,-97.79,128.5,122.31,126.77,132.31,126.24,126.27,119.73,159.9,126.14,59.01,58.24,143.01,-74.55,-179.35,53.17,148.77,-62.7,142.65,-92.65,-178.01,129.21,143.37,-76.37,78.18,-27.07,126.26,140.7,87.74,117.0,143.29,166.43,-150.07,126.34,172.02,54.58,-72.63,142.39,23.82,175.86,-152.82,-27.57,158.94,164.46,-26.93,143.21,167.22,166.0,-179.54,126.02,-171.57,127.5,127.54,-80.09,178.76,79.24,126.74,128.41,118.91,-10.58,127.35,127.65,28.46,41.21,33.91,41.35,129.91,166.2,131.98,-71.38,-174.66,-179.85,25.04,155.54,159.05,159.7,-162.41,-179.95,158.95,119.47,-72.48,-75.1,125.42,126.23,70.86,129.69,147.91,147.63,147.82,147.18,146.5,147.8,147.48,126.41,147.98,147.44,143.1,147.46,-109.55,153.75,157.95,157.91,-179.17,131.43,-45.78,-55.9,-75.15,54.5,94.7,-179.23,-121.35,-173.87,23.6,-178.95,-121.28,60.02,94.61,163.56,71.64,78.98,54.75,126.94,58.49,142.45,-59.64,-59.79,129.15,102.49,178.79,126.75,-177.29,143.04,-104.24,-99.48,122.09,-75.55,125.91,103.05,-179.59,-175.04,143.82,168.54,148.99,-153.97,-69.42,173.75,126.65,119.37,154.62,29.51,168.56,126.66,141.91,121.71,22.56,122.01,169.29,171.45,-92.59,-93.29,151.81,91.24,-28.07,140.29,166.38,-78.83,-78.46,-79.05,-78.69,-78.69,78.71,149.46,-68.46,157.6,139.08,-74.14,-71.88,-70.55,158.68,124.04,-179.42,-78.6,-64.67,-178.51,131.78,131.83,177.66,95.37,-72.56,126.2,166.65,166.56,-25.27,166.53,117.95,-145.38,-142.61,153.22,151.64,147.65,144.5,154.63,-77.48,-77.4,166.59,86.19,-177.89,-178.1,143.1,54.89,140.71,145.45,135.65,145.13,148.55,146.94,-69.81,142.88,163.45,163.41,-70.11,143.5,140.11,-71.16,-80.66,54.78,99.95,54.82,153.59,161.39,139.69,139.64,139.62,139.76,139.62,139.84,139.91,139.91,139.45,139.55,139.44,151.4,-177.71,150.97,139.38,98.72,-176.81,-61.36,-118.43,-67.2,145.39,163.8,127.23,-176.14,-6.86,79.2,126.52,-140.94,71.07,142.18,124.73,-170.53,129.13,102.32,55.61,78.08,-177.21,105.37,-71.79,-104.87,126.95,146.1,40.52,-69.79,176.04,-69.06,153.46,154.45,96.89,144.38,129.7,-71.21,-71.72,153.87,153.32,153.8,173.03,153.18,77.22,152.07,151.84,152.26,151.96,151.55,151.31,-77.35,153.34,152.87,143.44,-22.07,154.31,152.13,155.49,-92.41,-26.04,141.15,141.39,141.03,150.85,-174.17,151.55,151.8,143.4,130.68,146.64,124.84,54.91,141.16,125.92,-4.89,154.97,154.28,142.52,151.18,142.38,142.35,167.24,154.05,153.99,153.84,92.93,-179.88,166.55,166.57,159.22,-128.87,-69.5,153.33,154.56,163.17,48.07,151.84,174.9,122.08,151.86,-177.82,138.96,120.26,-28.75,145.1,145.0,70.72,166.32,151.29,122.37,122.14,169.13,122.06,-173.3,166.37,-71.27,-25.5,140.97,141.05,-173.72,141.0,-178.27,131.39,141.38,141.98,-76.76,-179.21,153.6,166.68,-157.14,153.13,146.03,179.58,164.09,-173.0,125.56,159.08,84.58,52.78,-28.3,122.44,-166.82,-110.99,121.55,120.34,154.23,-100.32,167.53,23.56,152.71,-178.79,-178.99,122.19,-175.06,116.97,-71.58,124.26,-166.78,155.87,69.69,-129.3,-135.91,141.82,127.56,155.97,162.17,-172.01,-179.29,144.46,152.9,152.63,134.09,147.08,-179.4,54.65,167.3,130.64,73.33,166.31,128.2,169.08,119.22,-10.39,-175.6,22.38,168.89,-96.26,119.6,-70.22,131.15,131.3,-68.21,-172.17,123.77,127.45,-162.98,124.98,128.57,146.83,78.85,168.91,121.61,73.17,154.53,126.62,140.82,136.67,78.95,149.37,155.81,127.83,153.45,-71.08,175.23,166.41,150.03,166.52,124.0,-102.93,139.3,-66.19,100.49,100.33,121.52,168.69,-38.01,156.58,161.7,127.38,139.08,157.19,126.65,169.39,122.87,126.55,130.41,-75.67,91.33,167.24,119.29,157.43,-78.12,-26.12,-155.16,150.2,126.74,99.8,151.18,151.86,-163.71,93.52,159.35,161.42,154.81,156.14,161.38,-179.38,-125.87,145.74,146.39,146.08,151.86,146.43,146.89,121.19,146.66,145.81,-137.42,125.29,-138.04,86.4,141.05,-179.19,78.85,167.29,-173.08,146.46,144.1,-179.38,-154.12,156.08,-96.58,-17.97,179.32,84.33,131.05,54.97,126.19,-76.19,123.92,-102.1,-102.04,146.25,53.42,130.99,140.64,-71.87,-21.7,167.06,-29.47,-104.98,-63.65,53.92,139.34,-67.72,-175.27,156.33,-179.47,156.31,141.93,160.49,167.43,-74.54,146.75,169.66,79.02,-177.85,119.39,-176.32,180.0,166.8,166.91,166.48,166.54,-68.26,-76.3,46.43,166.87,143.89,134.15,155.92,155.78,155.63,120.13,133.91,155.82,-164.7,134.01,136.98,147.78,97.63,-83.95,169.77,156.2,156.01,153.16,-172.83,179.88,144.24,-153.92,-160.57,-160.51,-175.78,179.79,-177.31,138.75,-102.07,103.98,126.48,147.34,156.22,-75.01,106.77,167.8,167.53,78.91,-175.04,179.94,-27.47,141.1,84.3,152.56,-175.94,-176.13,93.86,141.17,-77.57,-77.54,153.14,152.88,70.76,73.77,73.63,-73.27,142.37,54.93,119.2,143.55,108.49,162.0,-178.03,146.1,12.83,146.56,-77.58,-61.99,150.09,-178.49,154.03,167.1,129.52,53.91,141.75,-77.46,105.38,-178.47,121.06,141.1,167.16,-28.26,154.23,167.3,138.44,153.05,129.99,97.89,-74.46,99.01,174.59,72.91,-149.72,101.68,130.09,-174.57,78.5,78.53,141.37,-77.76,173.47,173.58,122.63,149.58,-179.44,-178.88,148.21,-178.53,126.15,56.24,-71.4,170.53,-77.01,122.84,179.88,-112.41,152.75,139.19,-72.66,-10.36,-98.82,-98.86,-179.51,79.86,142.09,-72.78,126.02,122.61,-17.56,122.61,-179.14,153.53,146.87,147.39,143.3,147.65,148.0,142.15,130.09,94.62,142.43,126.65,161.2,155.09,155.21,154.66,155.41,123.96,-161.39,146.03,-66.62,147.77,167.87,54.5,125.86,121.7,40.77,-104.18,81.88,-173.96,-74.65,102.24,102.04,166.47,-26.71,167.55,-175.16,-175.1,128.76,53.53,54.93,126.81,-70.48,78.92,142.66,126.01,144.79,-177.88,126.06,125.07,125.89,166.61,-77.5,-179.96,-25.52,-155.14,-172.88,-74.52,155.75,164.81,151.57,142.11,-172.47,-68.42,-177.39,-74.94,-16.54,-177.57,-177.42,-176.76,-176.85,-178.21,-177.81,149.15,119.89,-177.38,149.69,-177.29,-100.23,162.02,-89.19,146.33,-64.46,125.74,154.84,-74.89,121.46,167.12,165.06,-177.8,-178.21,-85.88,152.04,63.72,63.79,-79.63,52.12,167.64,-177.62,13.26,154.68,154.61,139.76,-178.19,177.16,-74.45,63.45,-75.77,-177.67,125.14,145.88,154.29,148.35,153.65,-78.3,98.95,-75.34,153.55,161.06,154.69,124.87,-100.65,134.75,125.98,96.28,134.84,140.13,139.86,126.81,140.24,-177.83,25.17,78.97,-115.1,145.75,-78.28,-78.05,114.87,114.84,152.76,117.87,118.37,48.1,-177.87,169.31,97.04,104.09,-176.53,124.11,123.55,123.54,123.42,125.9,122.99,129.62,104.25,104.18,124.07,78.98,147.56,148.17,149.21,54.5,124.04,-177.42,153.0,161.34,70.58,139.93,77.65,126.41,123.89,142.26,117.73,156.97,123.59,79.01,44.04,-177.7,-125.66,71.05,-68.93,78.89,179.18,139.67,130.67,-129.13,143.71,109.0,126.68,90.97,144.5,-68.68,174.3,95.73,126.63,70.86,-63.39,-82.45,-22.96,126.05,141.06,80.52,169.96,147.59,123.74,26.72,131.05,131.03,122.29,148.23,-138.96,56.38,167.11,56.3,-172.02,160.44,160.59,160.48,160.69,160.17,160.77,160.74,160.74,120.46,78.84,-14.49,-175.74,-45.11,127.77,126.36,-27.7,158.84,122.39,-179.58,-173.07,155.56,-27.83,161.35,-174.39,155.0,107.55,153.63,118.43,118.41,118.4,119.17,119.09,119.26,-20.59,125.38,119.8,119.17,166.74,177.91,78.93,23.05,143.12,126.64,118.1,117.29,-175.37,-173.01,173.13,-62.82,146.66,118.21,161.16,-67.76,-67.51,-138.94,-67.79,-67.44,78.89,145.1,95.91,-67.9,143.25,40.32,151.79,-71.71,121.91,149.58,139.22,-68.0,-70.38,123.37,151.73,-177.24,124.1,-177.6,124.0,142.03,125.25,125.35,130.53,-114.59,153.06,137.62,137.61,140.76,-175.3,148.84,148.91,148.87,148.68,148.9,148.17,149.58,149.6,-67.45,148.62,78.6,125.07,-70.3,169.1,133.99,-77.89,149.42,116.68,148.94,-152.61,127.44,71.26,124.61,103.92,160.5,176.73,167.31,127.33,130.1,-179.25,142.7,146.48,63.66,78.81,142.02,142.41,122.43,122.36,126.38,-172.28,23.24,148.66,102.38,102.33,-175.45,167.99,78.92,126.24,-168.84,-175.81,152.84,121.42,172.57,-70.66,131.79,54.7,-26.33,-178.07,32.26,79.02,156.5,121.87,167.13,-178.06,78.94,154.33,57.44,167.18,167.14,74.76,140.95,48.09,152.02,72.56,48.95,162.13,162.16,146.54,162.16,78.77,-96.55,-139.0,161.48,146.67,117.95,123.4,126.06,48.14,121.38,122.0,59.53,48.06,-177.47,-100.79,168.15,-161.29,126.01,127.36,126.01,167.57,166.66,-72.6,143.55,-141.55,120.4,-101.3,-69.03,83.38,127.01,19.05,123.59,123.03,-178.67,125.57,169.72,105.93,145.42,-69.09,142.41,126.08,-156.72,-70.05,-166.97,31.72,-70.18,115.92,117.21,-38.12,-27.98,147.28,26.57,-94.61,78.92,145.58,-173.04,-82.31,146.72,-71.4,79.06,131.91,107.72,-139.0,78.94,-177.47,140.37,153.5,130.87,78.98,70.15,-83.49,-41.68,122.12,-165.22,136.05,136.49,169.74,128.06,13.04,174.0,-50.35,76.96,168.71,119.57,94.2,106.1,165.91,145.39,136.59,177.12,54.73,115.83,126.0,161.35,161.75,48.11,79.07,136.61,166.7,108.18,-68.61,159.26,166.69,102.0,-174.85,59.81,179.99,134.17,125.33,-178.72,-76.2,-176.52,59.8,78.84,59.92,140.94,-79.34,102.58,78.8,126.86,-105.74,126.02,-27.75,126.13,-178.5,-171.16,156.24,158.78,153.17,76.86,149.55,161.66,146.59,146.88,146.9,150.12,150.01,126.9,171.42,-167.7,-167.8,-45.57,154.89,121.94,126.27,-177.27,164.22,108.79,173.62,140.42,167.93,154.56,154.43,-118.8,-69.33,-174.7,128.58,152.19,-173.53,126.6,-177.91,-10.68,151.71,139.29,125.77,166.37,22.91,-177.24,143.53,-69.69,-139.0,-178.6,166.5,169.61,166.34,81.09,-88.52,-173.52,78.86,140.15,142.33,167.31,154.81,103.12,1.4,1.61,79.1,145.54,154.85,170.09,-98.2,170.39,125.5,169.55,-124.3,28.98,-69.58,88.8,15.33,-175.83,-68.1,78.97,-172.31,169.87,-129.57,-174.41,140.85,178.2,79.03,151.47,128.1,-55.54,142.91,142.75,139.28,142.71,142.15,142.87,60.83,176.15,162.41,149.38,174.76,148.77,22.97,166.5,23.26,-85.88,-103.95,146.76,-69.01,128.01,-63.27,152.24,119.13,142.28,78.9,166.44,179.99,149.94,71.15,-80.99,139.2,154.74,126.98,164.7,167.28,151.47,164.63,-17.08,148.92,145.48,57.72,171.65,167.48,57.77,169.66,151.75,139.18,170.9,157.37,-175.82,151.52,-173.12,147.04,169.61,141.78,73.6,78.98,-46.29,-68.86,130.72,170.48,-177.96,-179.03,-112.01,54.55,-179.44,160.4,146.2,159.34,-178.65,154.88,66.3,162.06,142.33,-73.1,129.06,78.89,-102.01,-110.79,-127.7,-174.23,143.86,-71.43,22.83,120.86,146.2,-178.87,179.81,152.03,125.92,154.92,-26.54,25.25,-177.63,-177.73,78.86,139.79,142.74,145.67,-177.27,166.67,177.55,-66.65,124.32,124.37,-87.56,152.21,152.21,24.39,82.28,-165.65,-61.44,-66.62,166.01,141.17,143.59,-175.55,-27.37,118.35,142.46,-175.12,-46.98,-178.6,-76.04,147.65,123.31,-172.97,120.54,-114.06,120.49,78.92,123.28,-20.95,168.2,177.4,154.93,165.4,135.76,142.22,-74.97,-172.51,-177.37,-98.25,-98.34,150.99,-174.45,103.04,-89.39,126.08,160.23,151.03,-179.94,78.86,137.04,160.64,141.63,176.08,146.36,166.11,115.42,153.12,143.96,22.94,-82.72,141.44,-79.88,148.32,-173.09,-176.24,140.43,-70.8,-179.87,-176.65,168.01,125.81,101.7,-76.73,-74.69,140.0,78.86,161.18,158.21,44.23,68.98,122.53,-175.97,-25.77,139.45,121.34,-173.3,147.05,20.25,-24.35,-95.25,93.59,-179.3,-177.73,140.96,-159.19,-159.24,124.03,126.3,-69.38,155.56,148.09,177.64,147.45,147.39,127.9,127.9,153.57,153.25,-175.32,154.64,-83.11,94.72,159.81,155.58,167.28,57.52,-62.71,-78.09,154.94,160.3,110.84,62.07,99.05,-175.9,143.84,153.39,-120.27,179.52,150.94,152.26,-138.94,139.09,139.33,-174.61,-71.22,139.01,139.04,-174.11,78.97,127.32,139.1,122.39,129.38,103.31,122.39,-141.27,122.41,171.02,27.88,-53.1,-147.37,126.47,-120.36,158.36,-126.94,122.14,24.75,139.05,127.28,111.17,161.33,120.8,54.87,126.64,131.51,-172.05,-69.96,-147.47,71.1,145.83,-179.8,-177.38,122.16,122.26,151.2,54.38,139.51,-70.62,78.83,-70.59,156.35,121.0,-70.23,-173.84,-17.41,-25.6,-24.91,-25.41,120.89,78.9,-113.81,42.18,119.09,-79.4,-155.44,148.35,130.59,-79.79,128.2,155.57,142.77,72.04,71.41,-91.95,-173.03,71.4,148.97,137.21,127.34,-70.15,145.43,145.06,-63.15,-62.9,151.91,-13.51,70.75,136.8,151.31,118.76,-78.47,141.24,-81.41,-178.3,130.44,71.05,146.63,70.47,160.5,70.86,130.15,78.81,-70.53,123.77,138.92,177.22,63.36,155.31,78.97,-59.63,168.89,168.71,-174.35,148.77,146.73,138.48,78.91,71.48,161.08,79.03,164.23,151.55,-71.2,-174.8,-72.45,23.29,-15.97,-69.3,-98.46,154.44,111.29,78.92,-27.43,129.52,154.98,126.4,-176.86,122.52,131.96,128.58,-179.28,172.12,-126.8,137.49,141.64,147.17,141.66,145.38,-175.9,-110.85,-94.28,-173.65,-66.84,54.84,126.32,71.35,78.83,125.61,-174.07,-38.77,163.57,67.33,170.91,98.05,-178.04,125.17,-13.53,-178.05,102.27,171.29,-76.12,79.03,-115.79,148.2,-15.02,78.82,78.71,163.31,177.64,-80.03,123.63,122.48,141.74,128.47,130.18,-68.58,131.19,165.16,-174.44,-174.0,78.84,161.11,128.48,-71.84,-71.6,-71.78,-71.19,161.95,-149.98,-127.62,-62.46,-71.63,123.52,-71.69,105.4,-72.1,146.71,140.38,-71.67,139.55,136.28,-71.45,179.01,114.26,126.5,130.45,120.63,78.96,-75.7,-71.22,179.46,151.07,77.78,160.53,160.93,-173.47,127.53,-28.44,78.87,132.72,78.69,152.81,167.83,-177.78,78.8,148.74,-27.0,70.9,70.81,123.47,120.19,140.23,168.69,141.77,-78.88,75.27,-178.99,-173.54,75.44,-97.16,-102.32,-101.69,-178.57,159.85,-174.6,-124.27,107.04,-159.65,-176.39,69.82,136.9,146.27,125.15,-68.61,124.28,54.81,150.97,-166.92,-179.32,137.02,140.61,134.84,-138.92,166.22,166.19,140.48,126.65,-85.86,166.23,166.51,-178.03,-124.27,54.26,104.18,150.69,131.43,170.31,-173.11,161.01,139.51,140.98,122.23],\"marker\":{\"color\":[6.7,5.8,5.8,6.2,6.0,6.2,6.1,6.0,6.0,6.0,6.3,6.1,5.9,6.0,6.0,5.8,6.2,5.9,5.8,5.8,6.1,5.8,6.1,6.0,6.1,6.0,5.9,6.1,6.1,6.0,6.0,6.2,5.8,5.8,5.8,5.9,5.8,5.8,5.8,5.8,5.8,5.9,6.5,6.3,5.9,6.3,6.3,5.9,5.9,5.8,5.8,6.0,6.5,6.2,6.4,5.9,5.8,6.0,6.3,6.5,6.4,5.9,5.8,5.8,6.0,5.9,6.1,5.8,6.1,6.2,6.0,6.1,6.3,5.8,5.9,5.9,5.9,5.8,5.9,6.2,5.8,5.8,5.8,6.3,5.8,5.9,5.8,5.8,5.9,5.9,5.9,5.8,5.8,5.8,6.5,5.8,5.8,6.1,6.1,5.8,5.9,5.9,6.5,5.8,6.1,5.8,5.9,5.8,5.9,6.3,5.9,6.0,5.9,6.4,5.8,5.9,6.0,5.8,6.4,6.1,6.5,6.3,5.9,5.8,5.8,5.8,5.8,5.8,6.3,5.8,5.8,6.0,5.9,5.9,5.8,5.8,5.8,6.0,5.8,5.8,6.7,5.8,6.3,6.2,5.8,5.8,5.9,6.2,5.9,5.8,6.0,6.1,5.9,5.9,6.5,6.1,5.8,6.0,5.9,6.1,5.9,5.9,6.1,6.0,5.8,5.9,6.2,5.9,6.0,5.8,6.1,5.9,5.8,5.9,6.2,5.9,5.9,6.1,5.9,6.3,5.8,5.8,5.9,5.9,6.4,5.8,5.8,6.1,6.1,6.0,6.0,5.8,6.0,5.8,6.5,5.9,6.0,6.0,5.9,6.2,5.9,6.0,5.8,6.0,5.8,6.0,5.8,6.1,6.3,6.0,6.0,6.1,6.1,6.0,6.0,6.1,5.9,6.3,6.0,6.0,5.8,5.8,6.6,5.9,5.9,5.9,6.0,5.8,6.3,6.0,6.4,6.0,5.8,5.9,5.9,6.0,5.8,5.8,6.1,6.6,5.9,6.1,5.9,6.0,6.3,6.3,6.0,6.3,6.3,6.1,6.1,5.9,5.8,5.8,6.0,5.8,6.0,5.8,5.9,5.9,5.8,6.0,5.8,5.9,6.0,5.8,5.8,6.1,5.9,6.0,5.9,6.2,5.9,5.8,5.9,5.9,5.8,6.2,5.9,6.0,5.9,6.0,6.0,6.1,6.1,6.1,6.1,6.2,5.9,5.8,5.9,6.0,5.8,5.9,5.8,5.8,5.8,6.2,6.0,6.2,5.9,6.0,6.0,5.9,5.9,5.9,5.9,5.9,6.0,6.1,5.9,5.8,6.3,5.8,6.0,6.0,6.0,6.3,6.0,6.2,6.0,6.0,5.9,5.8,6.2,5.9,6.0,6.2,6.1,5.9,6.1,6.4,5.8,5.9,6.0,6.0,5.9,5.8,6.1,5.8,6.2,5.8,5.9,6.0,5.8,5.8,6.1,5.8,5.8,5.8,6.0,5.8,6.5,6.1,5.8,5.9,6.3,6.5,6.1,5.9,6.2,6.3,6.1,6.1,6.1,5.8,5.9,5.9,6.0,5.9,5.8,5.8,5.9,6.2,5.9,5.8,5.8,5.9,5.8,5.9,5.8,6.1,5.8,6.1,5.8,5.9,6.2,5.9,6.0,6.1,5.8,6.1,5.8,5.9,5.9,5.8,6.0,5.8,6.2,6.2,6.0,6.3,6.2,6.0,5.9,5.9,6.0,5.9,6.1,5.9,6.0,5.8,6.0,5.8,5.8,6.5,6.1,5.8,5.9,5.9,6.1,5.8,5.8,5.9,6.1,5.8,5.9,6.2,5.8,6.0,5.8,5.8,5.8,6.1,5.8,5.9,5.8,5.9,6.3,6.1,5.8,5.8,5.8,5.9,6.5,6.5,6.0,5.9,6.0,6.0,6.0,6.2,5.9,5.8,5.8,6.0,5.8,5.8,5.9,6.1,5.8,5.8,5.8,6.3,6.1,6.0,5.9,5.8,5.8,6.0,5.8,6.1,6.4,6.2,5.8,6.0,5.8,6.0,5.9,5.9,6.4,5.8,5.8,5.8,6.1,5.9,6.2,6.3,6.1,5.9,5.9,5.8,5.8,5.8,6.0,6.0,6.0,6.0,6.2,6.1,5.8,5.8,6.1,6.0,5.8,6.0,6.0,5.8,5.8,6.5,5.8,5.8,6.2,5.8,5.8,5.8,5.9,5.9,6.1,6.0,5.9,6.4,6.0,5.9,5.8,5.8,5.9,5.9,6.2,6.0,5.9,5.9,5.8,6.1,5.9,6.2,5.8,5.8,5.8,5.8,6.1,6.0,5.8,6.4,6.5,5.8,5.9,6.1,5.8,5.8,5.9,5.8,5.8,6.0,6.5,6.2,5.8,5.8,6.0,5.8,6.0,5.8,6.0,5.8,5.9,6.6,5.8,6.0,6.2,6.2,5.8,5.8,5.8,5.9,6.0,5.8,5.9,5.8,6.0,5.8,6.3,6.0,5.8,6.0,6.2,6.0,6.5,5.9,6.2,5.8,5.9,5.8,6.2,5.8,6.0,5.9,5.8,5.9,5.9,6.0,5.8,6.2,5.8,6.0,6.2,6.0,6.2,5.9,5.8,6.1,5.9,5.8,6.0,5.8,5.9,5.8,6.0,5.8,6.3,6.3,6.0,5.9,6.0,5.9,5.8,6.0,5.9,5.9,5.9,6.0,5.8,6.0,5.8,6.2,5.9,6.3,6.1,6.5,5.8,6.0,5.8,5.9,5.8,6.6,5.8,5.9,5.8,6.1,6.2,6.0,6.1,6.4,5.8,5.8,6.5,6.0,5.9,5.9,6.1,5.8,5.9,6.0,6.1,5.8,6.0,5.8,6.1,5.9,5.8,6.4,6.3,5.8,6.5,5.8,5.9,6.0,5.9,5.8,5.8,5.9,6.1,6.2,6.3,6.4,5.8,5.8,5.9,6.0,6.5,5.8,6.4,5.8,5.8,6.2,5.9,6.2,6.0,5.9,5.8,5.9,5.9,5.9,5.9,6.1,6.2,5.8,5.9,5.8,5.8,5.8,6.2,6.0,6.1,5.8,5.8,6.2,5.8,5.9,6.5,5.9,5.9,5.8,6.1,5.9,5.9,5.9,6.1,6.0,6.2,5.8,6.0,5.8,5.9,6.1,6.2,5.9,6.1,5.9,5.8,6.0,6.0,5.8,5.8,5.8,6.1,6.4,6.0,5.9,6.3,5.9,5.8,5.8,5.8,5.9,6.1,6.1,5.9,6.2,5.8,5.9,5.9,5.8,6.2,5.8,5.8,5.8,5.9,5.8,5.8,5.9,6.3,5.8,6.1,5.9,5.9,6.3,5.8,6.1,6.2,6.1,5.9,6.1,5.8,5.9,5.9,5.8,5.8,6.0,5.8,5.8,6.0,5.9,5.8,5.8,6.0,5.8,6.0,6.3,6.0,5.8,6.1,6.0,5.9,5.9,5.8,6.0,6.7,6.1,6.0,5.9,5.9,6.0,6.9,5.9,6.4,6.0,6.3,6.0,5.9,6.1,5.9,6.0,5.9,5.9,5.9,5.8,6.2,6.0,5.9,5.9,5.8,6.0,5.9,5.9,5.9,5.9,5.9,6.1,5.8,5.8,5.8,6.1,6.4,6.0,5.9,6.0,5.8,5.8,5.8,5.8,6.1,5.8,5.8,6.2,5.8,5.9,5.9,5.8,5.8,6.5,5.8,6.0,6.5,6.3,5.8,5.8,5.8,5.9,6.2,6.0,6.1,5.9,5.8,5.9,6.1,6.1,6.0,5.9,5.9,6.0,5.8,5.9,6.6,5.8,5.9,5.8,5.8,6.8,5.8,5.8,5.9,6.0,6.0,5.8,5.9,6.3,5.9,5.8,6.2,5.9,5.9,6.0,6.1,6.9,5.9,5.8,5.8,5.9,5.8,5.9,6.1,5.9,6.2,5.8,5.8,5.9,5.8,5.8,6.0,5.9,6.2,6.3,6.2,5.8,5.8,6.6,6.1,5.9,6.3,5.8,5.9,5.9,5.8,6.2,5.8,5.8,5.8,5.9,5.8,5.9,5.8,6.0,5.8,6.0,5.8,5.8,5.8,5.9,6.0,5.8,5.8,5.8,6.0,6.1,6.2,6.0,5.8,5.9,5.8,6.1,6.2,6.0,5.9,5.8,5.8,6.2,5.9,6.1,6.0,5.9,5.8,6.1,5.9,6.5,6.0,5.9,6.0,6.4,5.8,6.0,5.9,6.3,6.2,5.8,5.9,5.9,6.4,5.9,5.8,6.0,5.8,5.9,5.8,5.9,6.0,6.2,6.4,6.3,5.9,6.2,6.3,6.3,6.4,5.9,6.0,6.1,5.8,5.8,5.8,6.2,5.8,6.1,5.8,6.1,5.9,6.0,5.8,6.0,5.9,5.8,5.9,5.9,5.9,6.0,5.8,6.2,5.8,5.8,6.0,5.9,6.0,6.1,6.2,6.3,6.1,5.8,5.8,6.1,5.8,6.1,6.0,6.2,6.1,5.9,5.8,6.1,5.8,5.8,6.0,5.8,5.9,5.8,5.8,5.8,6.2,5.8,5.8,6.5,6.0,5.8,5.8,5.8,5.9,6.0,6.0,6.2,5.9,6.1,5.9,5.8,5.9,5.8,6.5,6.1,6.3,6.2,5.8,6.0,6.2,6.1,5.8,5.8,6.3,5.8,5.9,6.0,6.3,5.9,6.1,5.8,6.0,5.8,6.0,6.2,6.0,6.4,6.0,6.1,6.7,6.6,5.9,5.8,5.8,5.9,6.5,6.0,5.8,6.1,5.8,6.0,5.9,5.8,5.8,5.8,5.9,6.0,5.8,5.8,5.9,6.0,6.4,6.3,5.9,6.2,5.9,5.9,6.4,6.5,5.9,6.0,5.8,6.0,6.2,6.2,5.9,5.8,6.0,5.8,5.9,6.0,5.9,5.9,6.2,5.8,5.8,5.9,6.3,6.0,6.2,5.8,5.8,5.8,6.2,6.0,6.0,5.9,5.8,6.2,5.9,5.9,5.8,5.9,5.9,6.1,5.9,6.2,5.8,5.8,5.8,5.8,6.0,5.9,5.9,5.8,5.9,6.0,6.1,6.0,5.8,6.0,6.0,5.9,5.8,6.3,5.9,6.3,5.8,6.0,5.9,6.2,5.9,5.8,5.9,5.8,6.2,6.1,6.1,5.9,6.1,6.1,6.1,5.9,5.8,6.0,6.2,6.1,6.0,6.4,5.8,5.8,5.8,6.0,6.2,5.9,6.0,6.2,5.9,5.8,5.8,5.9,6.1,5.8,5.9,6.0,6.1,5.9,5.8,6.0,5.8,6.1,5.9,5.9,6.0,6.1,6.0,5.8,6.1,6.0,5.8,6.2,6.5,5.9,5.8,5.8,6.3,5.8,5.8,5.8,5.9,5.8,5.9,6.0,5.9,5.8,5.8,6.0,5.9,6.1,6.1,6.1,6.0,5.8,6.1,5.9,6.3,6.1,5.9,5.8,6.2,6.0,5.8,6.2,5.8,5.9,6.4,6.3,5.9,6.1,6.7,6.0,6.4,5.8,5.8,5.9,5.8,5.8,6.3,5.9,5.8,6.0,6.1,6.2,6.0,6.0,6.0,6.3,6.0,5.8,6.2,5.9,5.8,5.8,5.8,6.8,5.9,5.8,5.9,6.0,6.3,6.2,6.0,5.8,6.0,5.8,5.8,5.8,5.8,5.9,5.8,5.9,6.4,5.9,6.2,6.0,5.9,6.3,5.9,6.4,6.0,6.0,5.8,5.9,6.0,5.9,5.8,5.9,6.3,5.9,6.0,6.0,5.8,6.0,6.2,5.8,5.8,5.8,6.0,6.0,5.8,5.8,5.8,6.0,5.8,6.1,5.9,5.8,6.1,5.9,6.5,6.0,5.8,6.3,5.9,6.2,5.8,5.8,6.1,6.0,6.0,6.0,6.4,6.1,5.8,5.9,5.8,6.2,5.8,5.8,6.6,5.9,5.9,6.0,5.8,5.8,5.9,6.1,6.3,6.5,5.8,6.2,5.9,5.8,5.9,5.9,5.9,6.7,5.9,6.1,5.9,6.0,6.5,6.1,5.8,5.9,5.9,5.9,5.8,5.8,5.9,5.8,5.9,5.8,6.4,5.8,6.3,5.9,5.9,5.8,6.2,5.8,5.9,5.9,6.0,5.9,5.9,6.0,6.0,6.4,6.1,5.8,5.8,5.9,5.8,5.8,5.9,6.0,5.9,6.2,5.8,5.9,6.0,6.3,5.8,5.9,6.3,5.8,6.2,6.0,5.9,5.8,6.5,5.9,6.0,5.9,5.8,5.8,5.9,5.8,6.2,5.9,5.8,6.2,6.2,5.9,6.2,5.9,6.3,6.0,5.8,6.5,6.1,5.9,5.8,5.9,5.9,6.2,5.9,5.9,5.9,5.8,6.0,6.4,5.9,6.0,5.8,5.8,6.0,5.9,5.8,5.8,5.8,5.9,6.2,6.2,6.1,5.9,5.8,6.0,6.0,5.8,5.8,6.3,6.0,6.1,6.1,5.8,5.8,5.8,6.1,5.9,6.1,6.0,6.0,5.8,6.2,5.8,5.8,5.9,5.8,5.8,5.8,5.8,5.8,5.9,6.2,5.8,6.0,6.1,5.9,6.0,5.8,5.9,6.2,6.1,5.8,5.8,6.0,5.8,6.0,6.1,5.9,6.0,6.1,6.0,6.4,6.0,6.1,6.1,6.2,5.8,6.3,5.8,6.2,6.0,5.9,6.2,6.2,5.8,6.2,5.8,5.9,5.8,6.0,6.0,5.8,5.9,5.8,6.0,5.8,6.0,5.8,5.9,6.3,5.9,5.9,5.9,5.8,6.0,5.9,6.1,6.0,5.8,5.8,5.9,5.8,6.6,6.0,5.8,5.8,5.9,5.9,6.1,5.8,6.1,6.0,6.0,5.9,5.9,5.8,5.8,6.1,5.8,6.1,5.8,5.9,5.9,5.8,5.9,6.3,6.0,5.8,6.0,5.9,6.1,5.9,6.1,5.9,6.0,6.2,5.9,5.8,5.8,5.9,5.8,6.3,6.0,5.9,5.8,5.8,5.8,6.3,5.9,6.1,5.8,5.9,6.1,5.9,6.0,6.0,6.0,5.9,5.9,6.0,6.0,6.0,5.8,6.1,5.9,5.9,6.2,6.1,5.9,5.9,6.1,6.0,6.0,6.4,5.8,6.0,6.3,5.9,5.9,5.9,5.8,6.1,5.8,5.8,5.9,5.9,5.9,5.9,6.1,5.8,5.9,5.9,5.8,6.0,6.1,6.0,6.1,5.9,5.8,5.9,5.9,5.9,5.9,5.8,6.0,5.8,6.0,5.8,5.8,6.0,6.3,5.8,5.9,5.8,5.8,5.8,6.0,6.0,5.9,5.8,6.5,6.6,6.0,5.9,6.1,6.1,5.8,5.9,5.8,5.9,5.9,6.1,5.9,6.0,5.8,5.9,6.0,5.8,5.9,5.9,5.9,5.9,6.1,6.2,6.0,6.1,6.3,5.9,6.0,6.3,6.0,6.2,5.8,6.2,5.9,5.8,5.9,5.9,6.1,5.9,5.8,6.0,5.9,6.1,6.2,5.8,6.4,6.1,5.8,5.8,5.8,5.8,6.1,5.9,5.9,6.0,5.8,5.8,6.0,6.0,5.9,5.8,5.9,6.1,6.0,5.9,6.2,6.0,6.3,5.8,5.8,6.0,6.0,5.9,5.9,5.9,6.2,5.9,5.8,6.1,5.9,6.0,5.8,5.8,5.9,5.8,5.9,5.8,5.9,6.3,5.8,5.8,6.0,5.8,6.3,5.9,6.0,6.3,5.9,6.4,6.3,6.1,6.2,6.2,6.2,6.1,5.8,5.9,6.1,5.8,5.9,6.1,6.1,5.8,5.9,5.9,5.8,5.9,6.4,5.9,5.9,6.0,5.8,6.1,6.1,5.9,6.3,5.8,6.1,5.8,5.8,5.8,6.1,5.9,5.9,5.8,5.8,6.0,6.0,5.8,6.2,5.8,6.3,6.1,6.0,6.0,5.9,5.9,6.0,5.8,6.0,6.0,5.9,5.8,5.8,6.1,5.9,5.8,5.9,6.5,5.8,6.2,5.8,6.3,6.5,5.9,6.1,6.0,5.8,5.9,6.4,5.9,5.8,5.8,6.4,5.8,5.8,6.4,6.0,6.1,5.8,6.0,6.1,5.9,6.6,5.8,6.1,5.8,6.3,6.2,6.1,6.1,5.8,6.5,5.8,5.8,6.0,6.0,5.9,6.0,6.0,5.8,5.8,6.2,5.8,6.0,6.1,5.8,6.0,6.0,5.8,5.8,5.9,6.4,6.1,5.9,5.8,6.2,5.9,5.9,6.2,5.9,5.9,6.0,6.0,6.0,5.8,5.8,5.8,5.8,6.3,6.0,5.8,6.0,5.8,5.8,5.9,5.9,6.4,6.2,6.1,5.8,6.1,6.1,6.0,6.0,5.8,6.3,5.8,5.9,6.2,6.2,5.8,5.8,6.5,5.8,5.8,6.0,6.1,5.8,6.1,5.9,5.9,5.9,5.8,6.2,5.9,5.9,6.3,6.2,6.4,6.0,6.0,5.8,5.9,5.9,5.8,5.8,5.8,5.8,5.9,6.5,5.8,5.9,5.9,5.8,6.4,6.1,5.8,6.4,5.9,5.9,5.8,5.8,6.0,5.9,5.9,5.9,6.1,6.0,5.8,5.8,6.1,5.8,6.1,6.2,6.0,5.8,5.8,6.0,5.9,5.8,5.9,5.8,6.2,5.9,6.0,5.9,5.8,5.8,6.1,6.2,5.9,6.0,6.1,6.0,6.0,6.5,5.8,5.8,5.8,6.3,5.8,6.0,6.5,5.9,5.8,5.8,5.9,6.2,6.0,6.0,6.3,5.8,6.1,6.3,6.2,6.0,6.4,5.8,5.8,5.8,5.9,5.9,5.9,6.0,6.3,5.8,6.1,6.0,6.2,6.0,6.0,5.9,5.8,5.8,5.9,5.8,5.8,5.8,5.8,5.8,5.8,5.9,6.0,5.8,5.9,5.8,5.8,5.8,5.8,5.8,5.9,6.1,5.8,6.0,5.8,5.9,5.8,5.8,6.0,5.8,5.8,5.8,6.2,5.8,6.0,6.4,5.8,6.3,5.9,6.0,5.9,5.8,6.1,5.9,6.0,5.9,6.1,6.0,6.1,6.1,5.8,6.0,6.4,5.9,5.8,6.0,5.8,5.8,6.5,6.0,5.8,5.8,5.8,5.9,6.0,6.1,6.2,6.1,5.8,5.8,6.0,6.4,6.2,6.4,6.2,5.8,6.4,6.0,6.1,6.1,5.8,5.8,5.8,5.9,5.8,5.8,6.0,6.1,5.8,6.2,5.8,5.8,5.9,5.9,6.0,6.2,5.8,5.8,5.8,6.1,6.2,5.9,6.2,6.0,5.9,5.8,5.8,6.0,5.8,5.9,5.8,6.0,5.8],\"coloraxis\":\"coloraxis\",\"symbol\":\"circle\"},\"mode\":\"markers\",\"name\":\"\",\"showlegend\":false,\"type\":\"scattergeo\"}],                        {\"template\":{\"data\":{\"histogram2dcontour\":[{\"type\":\"histogram2dcontour\",\"colorbar\":{\"outlinewidth\":0,\"ticks\":\"\"},\"colorscale\":[[0.0,\"#0d0887\"],[0.1111111111111111,\"#46039f\"],[0.2222222222222222,\"#7201a8\"],[0.3333333333333333,\"#9c179e\"],[0.4444444444444444,\"#bd3786\"],[0.5555555555555556,\"#d8576b\"],[0.6666666666666666,\"#ed7953\"],[0.7777777777777778,\"#fb9f3a\"],[0.8888888888888888,\"#fdca26\"],[1.0,\"#f0f921\"]]}],\"choropleth\":[{\"type\":\"choropleth\",\"colorbar\":{\"outlinewidth\":0,\"ticks\":\"\"}}],\"histogram2d\":[{\"type\":\"histogram2d\",\"colorbar\":{\"outlinewidth\":0,\"ticks\":\"\"},\"colorscale\":[[0.0,\"#0d0887\"],[0.1111111111111111,\"#46039f\"],[0.2222222222222222,\"#7201a8\"],[0.3333333333333333,\"#9c179e\"],[0.4444444444444444,\"#bd3786\"],[0.5555555555555556,\"#d8576b\"],[0.6666666666666666,\"#ed7953\"],[0.7777777777777778,\"#fb9f3a\"],[0.8888888888888888,\"#fdca26\"],[1.0,\"#f0f921\"]]}],\"heatmap\":[{\"type\":\"heatmap\",\"colorbar\":{\"outlinewidth\":0,\"ticks\":\"\"},\"colorscale\":[[0.0,\"#0d0887\"],[0.1111111111111111,\"#46039f\"],[0.2222222222222222,\"#7201a8\"],[0.3333333333333333,\"#9c179e\"],[0.4444444444444444,\"#bd3786\"],[0.5555555555555556,\"#d8576b\"],[0.6666666666666666,\"#ed7953\"],[0.7777777777777778,\"#fb9f3a\"],[0.8888888888888888,\"#fdca26\"],[1.0,\"#f0f921\"]]}],\"heatmapgl\":[{\"type\":\"heatmapgl\",\"colorbar\":{\"outlinewidth\":0,\"ticks\":\"\"},\"colorscale\":[[0.0,\"#0d0887\"],[0.1111111111111111,\"#46039f\"],[0.2222222222222222,\"#7201a8\"],[0.3333333333333333,\"#9c179e\"],[0.4444444444444444,\"#bd3786\"],[0.5555555555555556,\"#d8576b\"],[0.6666666666666666,\"#ed7953\"],[0.7777777777777778,\"#fb9f3a\"],[0.8888888888888888,\"#fdca26\"],[1.0,\"#f0f921\"]]}],\"contourcarpet\":[{\"type\":\"contourcarpet\",\"colorbar\":{\"outlinewidth\":0,\"ticks\":\"\"}}],\"contour\":[{\"type\":\"contour\",\"colorbar\":{\"outlinewidth\":0,\"ticks\":\"\"},\"colorscale\":[[0.0,\"#0d0887\"],[0.1111111111111111,\"#46039f\"],[0.2222222222222222,\"#7201a8\"],[0.3333333333333333,\"#9c179e\"],[0.4444444444444444,\"#bd3786\"],[0.5555555555555556,\"#d8576b\"],[0.6666666666666666,\"#ed7953\"],[0.7777777777777778,\"#fb9f3a\"],[0.8888888888888888,\"#fdca26\"],[1.0,\"#f0f921\"]]}],\"surface\":[{\"type\":\"surface\",\"colorbar\":{\"outlinewidth\":0,\"ticks\":\"\"},\"colorscale\":[[0.0,\"#0d0887\"],[0.1111111111111111,\"#46039f\"],[0.2222222222222222,\"#7201a8\"],[0.3333333333333333,\"#9c179e\"],[0.4444444444444444,\"#bd3786\"],[0.5555555555555556,\"#d8576b\"],[0.6666666666666666,\"#ed7953\"],[0.7777777777777778,\"#fb9f3a\"],[0.8888888888888888,\"#fdca26\"],[1.0,\"#f0f921\"]]}],\"mesh3d\":[{\"type\":\"mesh3d\",\"colorbar\":{\"outlinewidth\":0,\"ticks\":\"\"}}],\"scatter\":[{\"fillpattern\":{\"fillmode\":\"overlay\",\"size\":10,\"solidity\":0.2},\"type\":\"scatter\"}],\"parcoords\":[{\"type\":\"parcoords\",\"line\":{\"colorbar\":{\"outlinewidth\":0,\"ticks\":\"\"}}}],\"scatterpolargl\":[{\"type\":\"scatterpolargl\",\"marker\":{\"colorbar\":{\"outlinewidth\":0,\"ticks\":\"\"}}}],\"bar\":[{\"error_x\":{\"color\":\"#2a3f5f\"},\"error_y\":{\"color\":\"#2a3f5f\"},\"marker\":{\"line\":{\"color\":\"#E5ECF6\",\"width\":0.5},\"pattern\":{\"fillmode\":\"overlay\",\"size\":10,\"solidity\":0.2}},\"type\":\"bar\"}],\"scattergeo\":[{\"type\":\"scattergeo\",\"marker\":{\"colorbar\":{\"outlinewidth\":0,\"ticks\":\"\"}}}],\"scatterpolar\":[{\"type\":\"scatterpolar\",\"marker\":{\"colorbar\":{\"outlinewidth\":0,\"ticks\":\"\"}}}],\"histogram\":[{\"marker\":{\"pattern\":{\"fillmode\":\"overlay\",\"size\":10,\"solidity\":0.2}},\"type\":\"histogram\"}],\"scattergl\":[{\"type\":\"scattergl\",\"marker\":{\"colorbar\":{\"outlinewidth\":0,\"ticks\":\"\"}}}],\"scatter3d\":[{\"type\":\"scatter3d\",\"line\":{\"colorbar\":{\"outlinewidth\":0,\"ticks\":\"\"}},\"marker\":{\"colorbar\":{\"outlinewidth\":0,\"ticks\":\"\"}}}],\"scattermapbox\":[{\"type\":\"scattermapbox\",\"marker\":{\"colorbar\":{\"outlinewidth\":0,\"ticks\":\"\"}}}],\"scatterternary\":[{\"type\":\"scatterternary\",\"marker\":{\"colorbar\":{\"outlinewidth\":0,\"ticks\":\"\"}}}],\"scattercarpet\":[{\"type\":\"scattercarpet\",\"marker\":{\"colorbar\":{\"outlinewidth\":0,\"ticks\":\"\"}}}],\"carpet\":[{\"aaxis\":{\"endlinecolor\":\"#2a3f5f\",\"gridcolor\":\"white\",\"linecolor\":\"white\",\"minorgridcolor\":\"white\",\"startlinecolor\":\"#2a3f5f\"},\"baxis\":{\"endlinecolor\":\"#2a3f5f\",\"gridcolor\":\"white\",\"linecolor\":\"white\",\"minorgridcolor\":\"white\",\"startlinecolor\":\"#2a3f5f\"},\"type\":\"carpet\"}],\"table\":[{\"cells\":{\"fill\":{\"color\":\"#EBF0F8\"},\"line\":{\"color\":\"white\"}},\"header\":{\"fill\":{\"color\":\"#C8D4E3\"},\"line\":{\"color\":\"white\"}},\"type\":\"table\"}],\"barpolar\":[{\"marker\":{\"line\":{\"color\":\"#E5ECF6\",\"width\":0.5},\"pattern\":{\"fillmode\":\"overlay\",\"size\":10,\"solidity\":0.2}},\"type\":\"barpolar\"}],\"pie\":[{\"automargin\":true,\"type\":\"pie\"}]},\"layout\":{\"autotypenumbers\":\"strict\",\"colorway\":[\"#636efa\",\"#EF553B\",\"#00cc96\",\"#ab63fa\",\"#FFA15A\",\"#19d3f3\",\"#FF6692\",\"#B6E880\",\"#FF97FF\",\"#FECB52\"],\"font\":{\"color\":\"#2a3f5f\"},\"hovermode\":\"closest\",\"hoverlabel\":{\"align\":\"left\"},\"paper_bgcolor\":\"white\",\"plot_bgcolor\":\"#E5ECF6\",\"polar\":{\"bgcolor\":\"#E5ECF6\",\"angularaxis\":{\"gridcolor\":\"white\",\"linecolor\":\"white\",\"ticks\":\"\"},\"radialaxis\":{\"gridcolor\":\"white\",\"linecolor\":\"white\",\"ticks\":\"\"}},\"ternary\":{\"bgcolor\":\"#E5ECF6\",\"aaxis\":{\"gridcolor\":\"white\",\"linecolor\":\"white\",\"ticks\":\"\"},\"baxis\":{\"gridcolor\":\"white\",\"linecolor\":\"white\",\"ticks\":\"\"},\"caxis\":{\"gridcolor\":\"white\",\"linecolor\":\"white\",\"ticks\":\"\"}},\"coloraxis\":{\"colorbar\":{\"outlinewidth\":0,\"ticks\":\"\"}},\"colorscale\":{\"sequential\":[[0.0,\"#0d0887\"],[0.1111111111111111,\"#46039f\"],[0.2222222222222222,\"#7201a8\"],[0.3333333333333333,\"#9c179e\"],[0.4444444444444444,\"#bd3786\"],[0.5555555555555556,\"#d8576b\"],[0.6666666666666666,\"#ed7953\"],[0.7777777777777778,\"#fb9f3a\"],[0.8888888888888888,\"#fdca26\"],[1.0,\"#f0f921\"]],\"sequentialminus\":[[0.0,\"#0d0887\"],[0.1111111111111111,\"#46039f\"],[0.2222222222222222,\"#7201a8\"],[0.3333333333333333,\"#9c179e\"],[0.4444444444444444,\"#bd3786\"],[0.5555555555555556,\"#d8576b\"],[0.6666666666666666,\"#ed7953\"],[0.7777777777777778,\"#fb9f3a\"],[0.8888888888888888,\"#fdca26\"],[1.0,\"#f0f921\"]],\"diverging\":[[0,\"#8e0152\"],[0.1,\"#c51b7d\"],[0.2,\"#de77ae\"],[0.3,\"#f1b6da\"],[0.4,\"#fde0ef\"],[0.5,\"#f7f7f7\"],[0.6,\"#e6f5d0\"],[0.7,\"#b8e186\"],[0.8,\"#7fbc41\"],[0.9,\"#4d9221\"],[1,\"#276419\"]]},\"xaxis\":{\"gridcolor\":\"white\",\"linecolor\":\"white\",\"ticks\":\"\",\"title\":{\"standoff\":15},\"zerolinecolor\":\"white\",\"automargin\":true,\"zerolinewidth\":2},\"yaxis\":{\"gridcolor\":\"white\",\"linecolor\":\"white\",\"ticks\":\"\",\"title\":{\"standoff\":15},\"zerolinecolor\":\"white\",\"automargin\":true,\"zerolinewidth\":2},\"scene\":{\"xaxis\":{\"backgroundcolor\":\"#E5ECF6\",\"gridcolor\":\"white\",\"linecolor\":\"white\",\"showbackground\":true,\"ticks\":\"\",\"zerolinecolor\":\"white\",\"gridwidth\":2},\"yaxis\":{\"backgroundcolor\":\"#E5ECF6\",\"gridcolor\":\"white\",\"linecolor\":\"white\",\"showbackground\":true,\"ticks\":\"\",\"zerolinecolor\":\"white\",\"gridwidth\":2},\"zaxis\":{\"backgroundcolor\":\"#E5ECF6\",\"gridcolor\":\"white\",\"linecolor\":\"white\",\"showbackground\":true,\"ticks\":\"\",\"zerolinecolor\":\"white\",\"gridwidth\":2}},\"shapedefaults\":{\"line\":{\"color\":\"#2a3f5f\"}},\"annotationdefaults\":{\"arrowcolor\":\"#2a3f5f\",\"arrowhead\":0,\"arrowwidth\":1},\"geo\":{\"bgcolor\":\"white\",\"landcolor\":\"#E5ECF6\",\"subunitcolor\":\"white\",\"showland\":true,\"showlakes\":true,\"lakecolor\":\"white\"},\"title\":{\"x\":0.05},\"mapbox\":{\"style\":\"light\"}}},\"geo\":{\"domain\":{\"x\":[0.0,1.0],\"y\":[0.0,1.0]},\"center\":{}},\"coloraxis\":{\"colorbar\":{\"title\":{\"text\":\"Richter\"}},\"colorscale\":[[0.0,\"#0d0887\"],[0.1111111111111111,\"#46039f\"],[0.2222222222222222,\"#7201a8\"],[0.3333333333333333,\"#9c179e\"],[0.4444444444444444,\"#bd3786\"],[0.5555555555555556,\"#d8576b\"],[0.6666666666666666,\"#ed7953\"],[0.7777777777777778,\"#fb9f3a\"],[0.8888888888888888,\"#fdca26\"],[1.0,\"#f0f921\"]]},\"legend\":{\"tracegroupgap\":0},\"title\":{\"text\":\"Earthquake locations with respect of magnitude strength\"},\"height\":768,\"width\":1366},                        {\"responsive\": true}                    ).then(function(){\n",
              "                            \n",
              "var gd = document.getElementById('cb9b49ab-3a8c-4d8a-8578-3e0b0423de9b');\n",
              "var x = new MutationObserver(function (mutations, observer) {{\n",
              "        var display = window.getComputedStyle(gd).display;\n",
              "        if (!display || display === 'none') {{\n",
              "            console.log([gd, 'removed!']);\n",
              "            Plotly.purge(gd);\n",
              "            observer.disconnect();\n",
              "        }}\n",
              "}});\n",
              "\n",
              "// Listen for the removal of the full notebook cells\n",
              "var notebookContainer = gd.closest('#notebook-container');\n",
              "if (notebookContainer) {{\n",
              "    x.observe(notebookContainer, {childList: true});\n",
              "}}\n",
              "\n",
              "// Listen for the clearing of the current output cell\n",
              "var outputEl = gd.closest('.output');\n",
              "if (outputEl) {{\n",
              "    x.observe(outputEl, {childList: true});\n",
              "}}\n",
              "\n",
              "                        })                };                            </script>        </div>\n",
              "</body>\n",
              "</html>"
            ]
          },
          "metadata": {}
        }
      ]
    },
    {
      "cell_type": "markdown",
      "source": [
        "# Models"
      ],
      "metadata": {
        "id": "NLenffBCIeYo"
      }
    },
    {
      "cell_type": "markdown",
      "source": [
        "I have question about k-means and Agglomerative Clustering methods:\n",
        "\n",
        "I did't scaled data to use later in this methods. i want to know if it is mistake?"
      ],
      "metadata": {
        "id": "cvMA_aW7R3Q5"
      }
    },
    {
      "cell_type": "markdown",
      "source": [
        "#K-means"
      ],
      "metadata": {
        "id": "fc_H5Ih-IkF-"
      }
    },
    {
      "cell_type": "markdown",
      "metadata": {
        "id": "EWexnLFQVJ6_"
      },
      "source": [
        "K-means is method of clustering based on inertia criteria.\n",
        "<p> Lets define inertia as $I = \\sum_{i=1}^k \\sum_{j=1}^{N_i} ||(x_{c_i} - x_{j}^{(i)})||_2$, where k is count of clusters(hyperparameter), $x_{c_i}$ - cluster centroid, $N_i$\n",
        " - size of cluster, $x_{j}^{(i)}$ - element of cluster. Vector norm is $L_2$, but we can change it by any metric we want. <p>\n",
        "This formula defines cluster variance and K-means tries to minimize it with given number of clusters. The minimun value of this loss is 0 when all samples are located at the same point. <p>\n",
        "Algorythm of training K-means model is paritcular case of E-M algorithm. <p>\n",
        "\n",
        "<img src=\"https://upload.wikimedia.org/wikipedia/commons/e/ea/K-means_convergence.gif\" width=\"300\" height=\"300\">\n",
        "\n",
        "\n",
        "Drawbacks:\n",
        "\n",
        "*   Need to select k\n",
        "*   Decision boundary of cluster is convex so clusters with complex shape cannot be detected\n",
        "* Depends on initial state as algorythm guarantees only convergence to the local minimum"
      ]
    },
    {
      "cell_type": "code",
      "source": [
        "def k_means(data, K_nums):\n",
        "    num_of_k = K_nums\n",
        "    kmeans = KMeans(n_clusters=num_of_k, random_state=0)\n",
        "    y_kmeans = kmeans.fit_predict(df)\n",
        "    nums = []\n",
        "    labels = []\n",
        "    for i in range(num_of_k):\n",
        "        nums.append(i)\n",
        "        labels.append('label'+str(i))\n",
        "\n",
        "    kmeans_labels_mapping = dict(zip(nums,\n",
        "                                     labels))\n",
        "    kmeans_label = pd.Series(y_kmeans).map(kmeans_labels_mapping)\n",
        "\n",
        "    fig = px.scatter_geo(df, lon=\"Longitude\", lat='Latitude', color=kmeans_label,\n",
        "                         width = 1366, height = 768)\n",
        "    fig.update_layout(title='Earthquakes with Kmeans clusterization')\n",
        "    fig.show()\n",
        "    return kmeans_label, y_kmeans, kmeans_labels_mapping"
      ],
      "metadata": {
        "id": "NywaQB-6A85t"
      },
      "execution_count": null,
      "outputs": []
    },
    {
      "cell_type": "markdown",
      "source": [
        "k-means clastering result. num of k = 15"
      ],
      "metadata": {
        "id": "d-xVq400OIVt"
      }
    },
    {
      "cell_type": "code",
      "metadata": {
        "id": "SgBvd6aSVAoQ",
        "colab": {
          "base_uri": "https://localhost:8080/",
          "height": 785
        },
        "outputId": "6e253ea0-37ec-4c78-a397-707363206e7e"
      },
      "source": [
        "kmeans_label = k_means(df, 15)"
      ],
      "execution_count": null,
      "outputs": [
        {
          "output_type": "display_data",
          "data": {
            "text/html": [
              "<html>\n",
              "<head><meta charset=\"utf-8\" /></head>\n",
              "<body>\n",
              "    <div>            <script src=\"https://cdnjs.cloudflare.com/ajax/libs/mathjax/2.7.5/MathJax.js?config=TeX-AMS-MML_SVG\"></script><script type=\"text/javascript\">if (window.MathJax && window.MathJax.Hub && window.MathJax.Hub.Config) {window.MathJax.Hub.Config({SVG: {font: \"STIX-Web\"}});}</script>                <script type=\"text/javascript\">window.PlotlyConfig = {MathJaxConfig: 'local'};</script>\n",
              "        <script src=\"https://cdn.plot.ly/plotly-2.18.2.min.js\"></script>                <div id=\"3c03fafb-cab0-405d-aa88-7405efca4872\" class=\"plotly-graph-div\" style=\"height:768px; width:1366px;\"></div>            <script type=\"text/javascript\">                                    window.PLOTLYENV=window.PLOTLYENV || {};                                    if (document.getElementById(\"3c03fafb-cab0-405d-aa88-7405efca4872\")) {                    Plotly.newPlot(                        \"3c03fafb-cab0-405d-aa88-7405efca4872\",                        [{\"geo\":\"geo\",\"hovertemplate\":\"color=label5<br>Latitude=%{lat}<br>Longitude=%{lon}<extra></extra>\",\"lat\":[-52.26,-44.6,-56.17,-56.46,-55.99,-54.59,-0.47,-54.74,-60.33,-60.44,-1.52,-60.84,-57.82,-56.27,-14.01,-56.03,-60.9,-53.37,-55.92,-60.63,-63.43,-0.85,-55.73,-0.45,-55.72,-60.59,0.99,-61.1,-59.38,-0.15,-61.05,0.52,-38.84,-56.03,-0.28,-53.59,0.91,-57.78,-56.8,-57.39,-29.51,-60.96,-14.02,-59.54,-59.8,-47.53,-60.57,-58.07,-51.49,-61.11,-36.0,-56.4,-52.89,-60.75,-57.44,-57.98,-60.91,-60.75,-60.46,-60.69,11.85,-58.47,-56.44,-30.9,-1.39,0.97,-60.3],\"legendgroup\":\"label5\",\"lon\":[28.3,37.34,-27.66,-27.05,-27.62,5.4,-19.93,-38.3,-27.25,-26.44,-15.37,-24.33,-23.54,-27.07,23.82,-27.57,-55.9,23.6,-28.07,-25.27,-61.36,-22.07,-26.04,-4.89,-28.75,-25.5,-28.3,-38.01,-26.12,-17.97,-21.7,-29.47,46.43,-27.47,12.83,-28.26,-26.71,-25.52,-68.42,-64.46,25.17,-22.96,-14.49,-20.59,-26.33,32.26,-50.35,-10.68,28.98,-55.54,-17.08,-26.54,-46.98,-20.95,-25.77,-24.35,-53.1,-25.6,-24.91,-25.41,-13.51,-15.97,-27.43,-13.53,-15.02,-28.44,-27.0],\"marker\":{\"color\":\"#636efa\",\"symbol\":\"circle\"},\"mode\":\"markers\",\"name\":\"label5\",\"showlegend\":true,\"type\":\"scattergeo\"},{\"geo\":\"geo\",\"hovertemplate\":\"color=label0<br>Latitude=%{lat}<br>Longitude=%{lon}<extra></extra>\",\"lat\":[45.53,41.85,29.19,45.35,40.39,40.55,43.43,38.4,43.16,47.09,46.96,47.09,78.15,40.49,51.29,51.39,52.74,53.05,52.37,52.05,51.34,28.62,52.73,53.02,40.75,55.2,40.73,50.32,52.17,44.45,36.35,36.44,50.02,49.45,30.68,53.89,20.73,48.29,37.49,23.72,51.24,51.99,22.11,41.68,38.33,56.68,45.53,45.56,20.0,27.32,51.86,43.52,32.48,32.24,40.86,41.52,40.78,39.83,44.67,41.47,44.48,39.47,41.06,36.01,38.54,39.54,33.31,42.08,40.3,51.56,54.84,32.15,49.41,52.21,38.43,43.46,43.59,43.44,43.61,43.63,43.72,43.78,43.45,43.14,43.17,31.08,57.7,28.55,42.48,44.65,51.34,39.78,52.93,44.72,32.26,32.31,17.7,39.25,43.46,41.79,38.41,63.92,51.67,52.13,41.37,49.29,46.54,46.76,46.28,44.34,39.17,46.41,44.77,56.04,33.38,33.48,33.45,33.6,40.84,43.33,30.71,49.13,29.41,27.48,33.34,44.68,50.51,54.73,50.78,29.3,50.86,53.61,43.12,42.92,42.65,43.28,43.14,43.01,43.28,36.45,43.38,35.67,49.99,49.99,38.98,53.61,43.25,42.03,44.01,34.57,19.73,49.98,36.44,46.22,46.01,32.18,55.25,43.12,44.64,35.85,51.66,35.05,53.0,53.08,40.66,37.2,44.39,43.26,36.31,43.51,30.07,32.84,54.92,42.05,44.74,44.62,54.52,39.56,39.71,44.78,38.12,39.5,28.27,23.41,33.15,53.54,44.16,46.76,51.31,25.54,44.56,34.8,38.83,29.33,43.86,43.99,44.22,44.09,44.27,44.7,44.41,44.3,44.11,44.38,24.29,38.23,38.38,48.21,33.47,47.79,40.22,43.88,33.87,34.57,53.64,52.23,51.82,44.51,43.47,43.14,43.22,51.21,34.5,34.81,35.53,45.98,38.61,38.71,38.28,38.18,51.82,53.02,44.61,45.59,37.28,43.23,44.66,48.71,43.53,30.66,50.72,40.3,42.98,26.84,33.67,42.23,48.82,55.07,38.76,44.56,36.36,51.76,13.81,36.4,43.85,33.9,49.23,44.06,43.76,52.92,49.41,53.38,41.5,46.41,47.41,40.48,40.83,40.25,40.22,41.35,35.48,33.95,43.75,41.8,45.4,36.47,29.28,49.16,28.11,32.39,27.47,35.78,34.01,16.8,34.02,55.18,44.15,56.19,27.49,55.2,53.57,54.04,30.29,54.15,37.77,37.65,27.94,36.43],\"legendgroup\":\"label0\",\"lon\":[150.93,142.78,141.15,150.5,139.05,139.21,147.05,139.26,146.17,153.77,153.8,153.72,126.65,139.05,178.55,179.59,172.05,170.83,174.33,175.6,173.44,142.42,171.99,171.35,142.96,162.0,142.85,177.93,175.17,148.84,141.38,141.37,178.28,156.58,140.22,160.68,146.29,154.36,115.06,142.18,157.76,179.95,145.9,144.26,142.2,120.95,151.11,151.62,147.27,128.66,176.09,146.72,132.28,132.21,143.38,142.82,142.15,143.16,150.28,142.88,150.19,142.89,143.1,139.33,142.14,143.2,132.31,142.65,142.39,175.86,166.0,131.98,155.54,158.95,119.47,147.91,147.63,147.82,147.18,146.5,147.8,147.48,147.98,147.44,147.46,131.43,163.56,129.15,143.04,148.99,173.75,141.91,171.45,149.46,131.78,131.83,147.65,140.71,146.94,143.5,142.18,146.1,176.04,173.03,143.44,155.49,141.15,141.39,141.03,150.85,143.4,141.16,153.33,163.17,140.97,141.05,141.0,141.38,141.98,146.03,141.82,155.97,130.64,128.57,140.82,149.37,156.58,161.7,157.19,130.41,157.43,161.38,145.74,146.39,146.08,146.43,146.89,146.66,145.81,141.05,146.46,140.64,156.33,156.31,141.93,160.49,146.75,143.89,147.78,138.75,147.34,156.22,141.17,153.14,152.88,142.37,162.0,146.56,150.09,141.1,174.59,141.37,173.47,173.58,122.63,142.09,146.87,147.39,143.3,147.65,142.15,142.43,167.87,142.66,149.15,149.69,162.02,117.87,118.37,149.21,142.26,117.73,130.67,143.71,141.06,169.96,148.23,153.63,177.91,143.25,149.58,139.22,142.03,130.53,148.84,148.91,148.87,148.68,148.9,148.17,149.58,149.6,148.62,149.42,142.7,142.02,142.41,154.33,140.95,146.54,143.55,146.72,131.91,140.37,169.74,174.0,177.12,149.55,146.59,146.88,146.9,173.62,140.42,139.29,140.15,151.47,142.91,142.75,142.71,142.87,176.15,162.41,149.38,152.24,142.28,149.94,148.92,157.37,147.04,141.78,160.4,142.33,146.2,142.74,141.17,142.46,154.93,165.4,142.22,151.03,141.63,176.08,146.36,141.44,148.32,139.45,155.56,148.09,147.45,159.81,155.58,160.3,143.84,153.39,152.26,139.09,139.33,139.01,139.04,139.1,139.05,139.51,148.35,142.77,151.31,141.24,130.44,155.31,129.52,131.96,128.58,137.49,141.64,147.17,141.66,163.57,148.2,163.31,128.48,161.95,160.53,160.93,132.72,168.69,141.77,136.9,140.61,140.98],\"marker\":{\"color\":\"#EF553B\",\"symbol\":\"circle\"},\"mode\":\"markers\",\"name\":\"label0\",\"showlegend\":true,\"type\":\"scattergeo\"},{\"geo\":\"geo\",\"hovertemplate\":\"color=label12<br>Latitude=%{lat}<br>Longitude=%{lon}<extra></extra>\",\"lat\":[-21.66,-13.64,-5.14,-44.2,-2.73,-1.76,-48.95,-10.42,-5.75,-6.0,-13.49,-51.7,-5.43,-5.36,-42.66,-14.6,-55.9,-5.21,-15.47,-15.75,-15.86,-5.25,-5.33,-6.37,-9.61,-17.66,-5.41,-52.77,-10.43,-10.15,-23.0,-7.11,-10.64,-10.75,-10.77,-49.57,-6.59,-5.66,-5.25,-9.29,-5.54,-41.72,-3.74,-6.08,-3.65,-3.38,-12.41,-8.03,-10.57,-13.57,-7.93,-52.53,-8.89,-8.98,-19.07,-6.26,-58.86,-7.9,-37.73,-13.92,-14.13,-13.89,-6.5,-13.52,-4.97,-5.1,-11.02,-11.03,-5.23,-10.58,-3.21,-3.24,-3.08,-9.65,-2.89,-10.93,-5.26,-6.23,-5.97,-5.52,-4.86,-5.78,-4.93,-5.53,-5.7,-5.81,-5.86,-4.89,-5.14,-5.88,-5.74,-6.46,-6.79,-6.55,-6.49,-15.57,-5.93,-5.95,-16.85,-4.84,-4.74,-13.18,-3.54,-45.1,-49.35,-53.52,-15.94,-4.21,-7.12,-11.1,-6.29,-6.04,-6.05,-11.78,-19.89,-20.36,-7.33,-20.03,-6.72,-14.66,-6.88,-19.16,-3.01,-15.81,-10.01,-6.34,-6.26,-54.0,-6.73,-7.27,-5.88,-7.22,-37.27,-54.97,-14.34,-2.96,-19.9,-14.56,-15.13,-14.92,-15.37,-14.45,-7.39,-7.0,-7.28,-7.35,-20.02,-7.48,-7.48,-17.68,-17.62,-4.72,-4.26,-8.4,-15.49,-15.12,-6.06,-15.24,-6.15,-7.24,-50.84,-4.5,-3.1,-6.64,-7.15,-6.63,-6.84,-2.51,-6.9,-12.54,-12.25,-7.01,-11.74,-5.96,-10.62,-3.94,-44.58,-7.47,-7.58,-51.6,-7.38,-4.58,-4.34,-4.52,-4.18,-20.59,1.03,-9.2,-6.43,-4.54,-8.84,-3.65,-41.74,-6.26,-9.9,-9.97,-9.94,-9.76,-9.73,-10.0,-10.21,-10.31,-53.82,-8.04,-10.58,-6.55,-13.74,-27.93,-5.01,-5.39,-9.43,-9.88,-37.84,-1.05,-18.27,-4.2,-20.64,-7.53,-5.45,-11.21,-11.14,-10.92,-18.52,-13.61,-21.22,-19.09,-46.54,-10.68,-10.58,-13.4,-9.5,-13.32,-16.73,-7.89,-54.21,-4.7,-10.68,-6.02,-6.04,-22.67,-10.87,-14.52,-6.03,-5.96,-5.19,-5.24,-12.49,-13.09,-3.25,-6.3,-21.95,-22.3,-22.25,-16.29,-22.11,-13.77,-13.4,-48.55,-49.13,-21.61,-21.5,-22.22,-4.52,-9.42,-6.43,-9.98,-3.52,-37.23,-6.14,-6.39,-3.41,-9.53,-9.55,-10.89,-6.41,-20.24,-3.36,-55.42,-51.15,-12.59,-4.34,-15.61,-3.72,-9.28,-3.49,-6.48,-6.52,-33.89,-22.59,-3.61,-8.12,-40.45,3.74,-3.21,-2.38,-5.51,-9.96,-21.05,-51.88,-10.83,-6.1,-6.55,-17.9,-14.32,-36.67,-3.66,-46.01,-37.62,-5.59,-4.44,-17.23,-6.24,-9.81,-9.57,-14.03,-13.98,-14.06,-13.98],\"legendgroup\":\"label12\",\"lon\":[169.81,165.96,151.77,167.96,139.33,149.75,164.46,162.42,150.74,150.75,166.54,139.8,151.97,151.86,174.02,167.41,157.7,151.65,166.91,167.12,167.36,152.13,153.08,151.66,159.77,167.96,151.57,160.17,160.89,161.01,170.6,148.31,166.29,166.34,166.25,163.93,153.47,153.92,153.7,158.46,153.36,172.03,143.01,148.77,143.37,143.29,166.43,158.94,164.46,166.2,159.05,159.7,157.95,157.91,168.54,154.62,157.6,158.68,177.66,166.65,166.56,166.53,154.63,166.59,145.45,145.13,163.45,163.41,153.59,161.39,139.69,139.84,139.45,151.4,139.38,163.8,153.46,154.45,144.38,153.87,153.32,153.8,153.18,151.84,151.96,151.55,151.31,153.34,152.87,154.31,152.13,151.55,151.8,154.97,151.18,167.24,154.05,153.84,174.9,145.1,145.0,166.32,151.29,166.68,164.09,159.08,167.53,152.71,155.87,162.17,144.46,152.9,152.63,166.31,169.08,168.89,146.83,168.91,154.53,166.41,150.03,168.69,139.08,167.24,150.2,151.18,151.86,159.35,154.81,156.14,151.86,156.08,179.32,146.25,167.06,139.34,169.66,166.8,166.91,166.48,166.54,166.87,155.92,155.78,155.63,155.82,169.77,156.2,156.01,167.8,167.53,152.56,143.55,154.03,167.1,167.16,154.23,167.3,153.05,149.58,139.19,153.53,148.0,155.09,155.21,154.66,155.41,146.03,147.77,166.47,166.61,155.75,164.81,146.33,165.06,152.04,167.64,154.68,154.61,139.76,154.69,140.13,139.86,140.24,152.76,169.31,147.56,148.17,153.0,139.93,156.97,144.5,174.3,147.59,160.44,160.59,160.48,160.69,160.17,160.77,160.74,160.74,158.84,155.56,161.35,155.0,166.74,173.13,145.1,151.73,148.94,160.5,176.73,146.48,167.99,152.84,172.57,156.5,152.02,162.13,162.16,162.16,168.15,166.66,169.72,168.71,165.91,161.35,161.75,166.7,159.26,166.69,179.99,156.24,158.78,153.17,161.66,150.12,150.01,171.42,164.22,167.93,154.56,154.43,152.19,151.71,166.37,166.34,142.33,154.81,170.09,170.39,169.55,178.2,174.76,166.5,166.44,164.7,164.63,169.66,169.61,170.48,146.2,159.34,154.88,162.06,143.86,179.81,152.03,154.92,177.55,152.21,152.21,166.01,147.65,168.2,177.4,160.23,160.64,166.11,153.12,168.01,140.0,158.21,177.64,154.64,154.94,179.52,171.02,151.2,156.35,155.57,148.97,145.43,145.06,151.91,160.5,168.71,161.08,164.23,154.44,154.98,172.12,171.29,177.64,141.74,165.16,179.46,151.07,152.81,167.83,148.74,159.85,150.97,166.22,166.19,166.23,166.51],\"marker\":{\"color\":\"#00cc96\",\"symbol\":\"circle\"},\"mode\":\"markers\",\"name\":\"label12\",\"showlegend\":true,\"type\":\"scattergeo\"},{\"geo\":\"geo\",\"hovertemplate\":\"color=label4<br>Latitude=%{lat}<br>Longitude=%{lon}<extra></extra>\",\"lat\":[23.09,22.33,36.95,3.91,-5.42,-0.5,11.7,14.17,28.04,-45.6,-31.78,-2.4,-2.64,-1.47,21.0,-7.53,7.21,-6.46,12.46,-32.2,1.85,24.24,23.86,-0.78,11.26,-0.1,-0.05,8.48,-11.14,5.16,10.36,3.72,31.61,-7.15,-8.93,22.76,-1.86,-0.27,16.3,25.73,16.45,1.38,1.4,0.06,1.17,-7.6,-39.85,-31.54,1.2,0.77,4.81,-3.17,8.69,4.72,1.26,1.81,1.94,1.99,24.12,6.8,12.58,30.61,12.15,-22.08,0.28,15.78,15.08,-2.9,-8.75,26.02,1.16,13.0,-3.56,-3.43,-1.59,-2.95,-3.06,-3.31,-3.01,-3.31,-3.37,-3.41,0.53,8.43,-0.36,2.45,-4.42,-6.54,7.99,-5.18,-0.02,11.83,11.86,11.86,10.11,22.5,-2.09,20.95,22.55,23.05,19.36,-3.74,24.1,23.6,13.38,16.61,-11.05,-5.15,-9.93,-6.22,-6.56,-8.79,23.87,-1.52,31.5,22.27,6.32,2.18,13.41,2.09,7.0,-9.81,2.25,-1.46,19.11,12.21,7.15,9.2,-9.52,-5.15,18.93,-5.13,-3.79,1.27,28.19,1.87,-2.25,-26.02,18.27,-9.8,-6.44,2.27,-5.04,0.51,-2.3,-2.99,-2.39,22.68,1.03,22.7,10.04,-10.13,-34.74,-4.83,-4.83,6.54,12.47,12.5,13.83,12.91,12.98,-8.36,24.51,14.06,0.52,24.79,3.4,0.53,3.78,-8.21,-8.17,26.7,32.78,6.22,7.18,7.33,7.35,10.09,7.22,32.59,32.49,6.52,6.93,-29.36,8.52,6.98,7.09,-2.51,5.04,0.54,-41.31,6.74,-4.96,16.73,-1.81,1.42,16.86,-7.89,-11.21,-11.16,-10.94,-10.89,-11.1,-10.88,-8.1,17.46,11.8,-1.92,-11.29,-9.99,-11.48,3.52,18.79,-4.2,-4.94,-11.39,4.69,-5.92,-0.74,8.28,8.24,-5.05,-5.07,0.55,22.19,-0.14,7.33,0.55,-8.27,23.17,0.02,1.02,3.02,9.3,0.66,-8.32,-30.73,-11.16,19.05,-1.71,-1.18,3.48,-2.84,1.16,-7.17,-1.18,-8.4,0.66,-1.2,-4.43,-1.94,-3.41,3.56,1.0,16.09,9.0,9.5,-5.34,11.78,-4.56,3.43,14.23,-11.4,18.75,23.96,-2.11,13.85,14.01,-9.52,19.89,19.9,7.79,-4.7,-11.16,19.93,10.54,5.6,-4.05,-4.07,-10.19,14.92,24.13,21.77,24.17,5.54,-8.69,18.23,3.73,24.08,24.02,1.09,1.16,-9.1,-7.49,-6.61,-6.5,8.14,-2.83,1.35,1.65,0.22,-7.97,24.11,-0.95,-7.49,7.76,-6.61,-4.1,1.65,-29.04,7.46,16.93,11.15,-11.12,7.73,-1.83,3.69,-5.75,-5.61,24.02],\"legendgroup\":\"label4\",\"lon\":[120.58,93.58,95.5,96.56,133.99,122.61,144.57,96.12,93.75,96.19,57.32,125.98,126.04,126.5,120.68,128.6,123.53,70.76,114.45,78.93,126.4,122.67,122.97,122.22,139.57,125.01,125.06,126.62,115.36,96.31,125.87,95.74,100.26,129.83,120.32,121.47,120.1,133.47,122.11,128.5,122.31,126.24,126.27,119.73,126.14,126.26,87.74,117.0,126.34,126.02,127.54,118.91,127.35,127.65,126.23,126.41,94.61,126.94,102.49,126.75,122.09,103.05,143.82,126.65,119.37,121.71,122.01,139.08,124.04,95.37,126.2,144.5,86.19,135.65,99.95,139.64,139.62,139.76,139.62,139.91,139.91,139.55,98.72,127.23,124.73,129.13,102.32,105.37,126.95,96.89,124.84,142.52,142.38,142.35,92.93,122.08,138.96,120.26,122.37,122.14,122.06,131.39,122.44,121.55,120.34,122.19,116.97,134.09,119.6,131.15,131.3,124.98,121.61,136.67,100.33,121.52,127.38,126.65,122.87,126.55,91.33,119.29,126.74,99.8,121.19,125.29,84.33,126.19,119.39,134.15,120.13,133.91,134.01,97.63,103.98,126.48,141.1,84.3,119.2,108.49,105.38,121.06,129.99,97.89,99.01,101.68,126.15,122.84,126.02,122.61,125.86,121.7,81.88,102.24,102.04,126.81,126.01,126.06,125.07,125.89,125.74,121.46,98.95,124.87,134.75,125.98,96.28,134.84,126.81,114.87,114.84,97.04,104.09,124.11,123.55,123.54,123.42,125.9,122.99,104.25,104.18,124.07,124.04,77.65,126.41,123.89,123.59,126.68,126.63,126.05,80.52,123.74,131.03,122.29,120.46,126.36,122.39,107.55,118.43,118.41,118.4,119.17,119.09,119.26,125.38,119.8,143.12,126.64,118.1,117.29,118.21,95.91,121.91,123.37,133.99,116.68,124.61,103.92,127.33,122.43,122.36,102.38,102.33,126.24,121.42,131.79,123.4,126.06,121.38,122.0,126.01,120.4,127.01,125.57,126.08,115.92,117.21,107.72,122.12,136.05,136.49,128.06,119.57,94.2,106.1,136.59,115.83,126.0,136.61,102.0,134.17,102.58,126.86,126.02,121.94,126.27,126.6,103.12,125.5,139.28,128.01,119.13,66.3,120.86,125.92,139.79,124.32,124.37,118.35,120.54,120.49,135.76,103.04,115.42,121.34,140.96,126.3,127.9,127.9,110.84,99.05,122.39,103.31,122.39,126.47,111.17,120.8,126.64,122.16,122.26,121.0,120.89,119.09,130.59,71.41,71.4,137.21,118.76,126.4,126.32,98.05,102.27,122.48,128.47,130.18,123.52,105.4,136.28,126.5,77.78,123.47,120.19,140.23,125.15,137.02,134.84,126.65,104.18,131.43,122.23],\"marker\":{\"color\":\"#ab63fa\",\"symbol\":\"circle\"},\"mode\":\"markers\",\"name\":\"label4\",\"showlegend\":true,\"type\":\"scattergeo\"},{\"geo\":\"geo\",\"hovertemplate\":\"color=label14<br>Latitude=%{lat}<br>Longitude=%{lon}<extra></extra>\",\"lat\":[-20.7,-5.07,-15.56,-4.42,8.9,3.11,2.97,-7.02,-6.2,22.41,-7.28,-6.21,-6.39,50.04,-0.52,24.86,2.34,-14.03,-9.12,-0.09,-0.13,-6.73,12.18,42.92,-20.78,24.43,49.45,-7.53,-2.98,-2.7,6.6,-14.89,4.77,3.5,47.88,23.09,37.16,9.8,6.78,-11.73,-9.0,-4.6,-4.1,-6.05,-4.11,-3.63,-5.75,4.76,-7.03,-5.4,-5.16,-5.93,-6.54,-5.42,-5.57,-11.87,-11.94,52.85,-6.02,-4.75,-19.38,-11.43,49.05,48.04,2.35,-14.99,-2.52,1.81,38.33,6.41,-7.0,-7.5,-39.02,-12.1,-0.14,-10.31,-4.5,-15.18,12.57,-6.55,-6.2,42.53,-4.93,-6.07,-21.75,-4.06,0.75,21.42,6.51,-10.34,-9.84,-15.4,-7.54,13.82,-4.07,-6.36,-14.77,-37.28,-5.91,-5.6,-5.02,-5.13,-10.08,-10.45,-7.9,-14.76,-7.73,-11.04,-6.21,-10.2,-5.13,-0.07,-8.7,-4.66,-8.62,-19.63,5.14,24.81,-14.92,-10.22,44.55,5.23,-15.57,-0.05,-6.38,-6.55,-4.86,-7.76,5.89,28.95,6.0,6.33,-8.05,-4.45,-12.3,-20.3,-15.09,-6.11,-6.22,-21.4,30.63,42.48,-6.04,-5.14,5.82,-14.75,-5.68,-22.29,-15.44,-5.18,-2.76,-22.09,-5.32,-6.39,22.33,-0.61,-5.66,-5.05,-6.61,-9.87,24.56,12.91,-6.99,-4.89,-4.67,5.71,-15.04,-5.39,1.55,1.8,55.79,33.51,-38.27,13.84,-22.0,32.55,-10.25,44.38,-35.63,-9.19,-5.16,4.92,36.21,36.19,-6.76,-5.53,-21.37,-10.16],\"legendgroup\":\"label14\",\"lon\":[169.92,144.2,167.62,144.08,93.03,128.06,125.91,129.61,130.33,121.26,129.16,130.39,146.31,155.38,122.21,122.56,128.4,167.04,113.04,123.95,123.95,129.84,140.8,145.33,169.85,122.25,154.4,127.91,139.34,139.01,126.77,167.22,127.5,128.41,153.75,94.7,71.64,125.91,126.66,166.38,117.95,153.22,143.1,148.55,142.88,139.44,145.39,126.52,129.7,152.07,152.26,130.68,146.64,154.28,153.99,166.55,166.57,159.22,154.56,151.84,169.13,166.37,153.6,153.13,127.56,167.3,119.22,127.45,73.17,126.62,155.81,127.83,175.23,166.52,124.0,161.42,144.1,167.43,144.24,106.77,146.1,141.75,130.09,148.21,170.53,152.75,122.61,94.62,126.65,161.2,123.96,167.55,128.76,144.79,142.11,154.84,167.12,177.16,145.88,154.29,153.65,153.55,161.06,161.34,109.0,167.11,127.77,119.17,146.66,161.16,151.79,124.1,124.0,153.06,125.07,169.1,127.44,121.87,167.14,161.48,146.67,127.36,167.57,123.03,105.93,147.28,153.5,108.18,125.33,140.94,126.13,126.9,108.79,143.53,166.5,169.61,167.31,145.54,154.85,169.87,140.85,142.15,148.77,154.74,126.98,167.28,151.47,171.65,167.48,151.75,139.18,170.9,151.52,130.72,143.59,123.28,150.99,143.96,101.7,161.18,122.53,93.59,147.39,153.57,153.25,94.72,167.28,150.94,127.32,127.28,161.33,131.51,177.22,145.38,170.91,131.19,161.11,146.71,179.01,114.26,130.45,127.53,70.9,70.81,107.04,150.69,170.31,161.01],\"marker\":{\"color\":\"#FFA15A\",\"symbol\":\"circle\"},\"mode\":\"markers\",\"name\":\"label14\",\"showlegend\":true,\"type\":\"scattergeo\"},{\"geo\":\"geo\",\"hovertemplate\":\"color=label13<br>Latitude=%{lat}<br>Longitude=%{lon}<extra></extra>\",\"lat\":[-16.31,-56.45,-56.09,18.31,-56.24,-18.84,-1.4,-31.95,-0.16,-20.25,-58.36,6.84,11.91,-21.29,-8.62,10.76,15.54,9.57,-56.81,52.59,-29.6,-24.47,-16.0,18.0,-23.81,-42.28,-25.4,-2.79,-29.86,-31.4,-22.53,4.7,-7.02,-22.49,-12.28,-11.17,-7.65,-4.26,-14.79,-22.73,-9.49,-11.54,-13.31,4.49,-56.17,-56.11,-15.37,-34.29,-15.44,-56.02,17.04,17.89,4.81,-29.0,-21.35,-19.52,18.34,-22.69,-56.05,-12.74,13.29,-14.53,-1.73,-18.65,-4.84,-4.0,-33.09,-3.88,-17.32,-15.66,-24.05,-8.16,-33.76,-31.37],\"legendgroup\":\"label13\",\"lon\":[-71.66,-27.7,-27.55,-100.5,-27.9,-68.75,-77.7,-68.4,-78.6,-68.83,-26.83,-73.09,-85.98,-68.2,-74.55,-62.7,-92.65,-72.63,-26.93,-175.04,-69.42,-68.46,-71.88,-64.67,-67.2,-71.79,-69.06,-77.35,-69.5,-110.99,-66.19,-75.67,-76.19,-68.26,-76.3,-75.01,-74.46,-77.01,-72.66,-66.62,-74.65,-74.52,-74.94,-75.77,-27.7,-27.83,-71.71,-70.38,-70.05,-27.98,-94.61,-68.61,-76.2,-69.69,-68.1,-69.01,-68.86,-66.62,-27.37,-76.04,-89.39,-70.8,-76.73,-69.38,-78.09,-79.4,-70.15,-78.47,-70.53,-72.45,-66.84,-76.12,-71.19,-68.61],\"marker\":{\"color\":\"#19d3f3\",\"symbol\":\"circle\"},\"mode\":\"markers\",\"name\":\"label13\",\"showlegend\":true,\"type\":\"scattergeo\"},{\"geo\":\"geo\",\"hovertemplate\":\"color=label6<br>Latitude=%{lat}<br>Longitude=%{lon}<extra></extra>\",\"lat\":[36.48,0.4,0.02,-5.54,36.42,7.13,28.96,44.21,36.43,-12.23,-21.59,-0.96,29.93,-6.89,44.89,-6.11,36.44,-6.14,-34.85,-17.07,-18.79,-4.37,29.79,3.63,-4.6,36.4,1.9,-4.35,-19.41,-14.33,48.31,36.42,-6.93,3.69,-5.6,-6.77,36.5,36.52,26.45,36.64,-14.6,31.07,7.85,-13.35,-13.94,6.01,19.0,-5.0,36.48,-7.37,6.63,29.28,-5.43,36.41,42.65,-7.11,-12.11,0.09,29.4,-5.45,29.74,20.19,53.91,20.45,36.52,18.12,-7.47,-7.63,36.42,36.48,36.47,-6.6,-18.95,-4.86,-0.07,5.76,5.13,0.2,40.32,15.32,46.29],\"legendgroup\":\"label6\",\"lon\":[70.95,122.11,123.18,129.79,70.73,126.58,128.23,145.45,71.12,167.02,170.56,101.39,129.39,129.21,143.21,129.91,70.86,129.69,178.79,168.56,169.29,151.81,140.11,125.92,151.86,70.72,128.2,153.45,169.39,167.29,153.16,70.76,129.52,125.14,148.35,129.62,70.58,71.05,140.76,71.26,167.31,130.1,126.38,167.13,167.18,126.01,145.42,145.58,70.15,128.58,125.77,128.1,146.76,71.15,139.2,129.06,166.67,123.31,140.43,147.05,129.38,122.41,158.36,122.14,71.1,145.83,128.2,127.34,70.75,71.05,70.86,130.15,168.89,151.55,122.52,125.61,125.17,123.63,140.38,120.63,146.27],\"marker\":{\"color\":\"#FF6692\",\"symbol\":\"circle\"},\"mode\":\"markers\",\"name\":\"label6\",\"showlegend\":true,\"type\":\"scattergeo\"},{\"geo\":\"geo\",\"hovertemplate\":\"color=label1<br>Latitude=%{lat}<br>Longitude=%{lon}<extra></extra>\",\"lat\":[55.72,55.75,59.79,57.2,58.26,58.83,56.42,57.17,60.05,56.45,60.36,60.51,59.79,56.65,61.62,60.11,56.85,56.3,60.25,56.6,61.51,53.14,53.26,64.69,54.25,47.41,53.03,51.11,58.29,51.32,58.35,57.37,50.57,52.4,51.47,52.76,54.44,52.58,33.22,58.69,43.58,65.46,60.15,51.29,53.31,51.46,51.27,51.31,34.77,51.26,34.72,50.13,57.39,51.35,60.7,51.46,51.47,34.4,60.33,53.26,51.41,51.27,56.14,53.95,53.25,50.1,56.77,51.34,52.89,20.05,53.97,51.27,44.98,57.86,57.99,57.09,51.52,51.38,53.74,57.56,55.15,55.05,61.92,51.32,42.04,53.48,19.46,41.33,48.84,56.52,51.24,52.26,54.8,60.73,56.65,52.68,53.97,51.31,52.94,52.78,37.59,41.15,49.44,43.56,53.26,51.57,51.39,55.03,54.99,36.24,51.42,60.22,61.04,36.21,60.97,44.1,19.5,50.33,40.39,66.22,43.5,62.22,54.73,53.21,62.19,51.54],\"legendgroup\":\"label1\",\"lon\":[-155.95,-155.88,-149.3,-153.0,-151.25,-149.29,-152.01,-152.45,-148.39,-153.94,-146.61,-146.7,-148.67,-152.82,-147.39,-146.71,-152.69,-154.4,-146.71,-152.21,-147.2,-161.85,-161.74,-160.23,-162.51,-122.29,-167.55,-171.3,-152.5,-179.67,-153.13,-152.27,-171.22,-169.54,-178.32,-166.9,-157.94,-168.13,-116.19,-149.93,-127.89,-150.07,-152.82,-179.85,-162.41,-179.95,-179.17,-179.23,-121.35,-178.95,-121.28,-179.59,-153.97,-178.51,-145.38,-177.71,-176.81,-118.43,-140.94,-170.53,-177.21,-179.21,-157.14,-166.82,-166.78,-129.3,-135.91,-179.29,-162.98,-155.16,-163.71,-179.38,-125.87,-137.42,-138.04,-154.12,-175.27,-177.85,-164.7,-153.92,-160.57,-160.51,-149.72,-179.44,-112.41,-161.39,-155.14,-125.66,-129.13,-152.61,-179.25,-168.84,-161.29,-141.55,-156.72,-166.97,-165.22,-178.5,-167.7,-167.8,-118.8,-124.3,-129.57,-127.7,-165.65,-177.37,-179.94,-159.19,-159.24,-120.27,-174.11,-141.27,-147.37,-120.36,-147.47,-113.81,-155.44,-176.86,-126.8,-149.98,-127.62,-124.27,-159.65,-166.92,-124.27,-173.11],\"marker\":{\"color\":\"#B6E880\",\"symbol\":\"circle\"},\"mode\":\"markers\",\"name\":\"label1\",\"showlegend\":true,\"type\":\"scattergeo\"},{\"geo\":\"geo\",\"hovertemplate\":\"color=label8<br>Latitude=%{lat}<br>Longitude=%{lon}<extra></extra>\",\"lat\":[36.23,14.42,-3.88,29.96,40.3,27.4,49.88,38.38,35.06,38.37,43.87,49.77,31.49,0.81,49.72,29.62,29.71,39.17,27.87,73.4,38.9,49.92,48.22,48.08,49.79,39.25,40.67,27.42,73.4,-7.02,14.48,41.41,17.54,39.4,34.15,34.09,28.3,49.82,73.39,41.42,35.97,38.55,11.91,27.61,12.0,34.43,73.39,27.8,49.94,43.79,8.2,39.21,38.34,50.19,42.48,73.31,43.87,43.81,70.97,41.42,37.3,28.3,49.77,38.85,39.81,73.39,47.9,42.09,28.39,35.16,36.28,73.39,35.94,71.42,37.96,49.91,49.97,31.33,24.31,35.16,49.94,73.32,70.8,70.8,50.03,49.91,45.2,39.34,39.46,73.41,70.81,35.05,32.38,31.94,27.47,71.49,35.8,73.34,38.51,70.84,73.33,49.91,66.25,40.31,40.18,28.7,46.35,40.35,49.85,47.81,49.95,73.41,49.97,39.05,49.87,38.19,37.02,40.11,45.83,27.59,27.57,49.86,50.05,34.95,49.93,16.54,42.84,40.4,49.88,40.78,49.84,73.31,49.98,49.91,33.37,39.4,47.81,39.34,37.71,49.93,47.78,33.96,47.87,41.95,42.05,36.45,38.79,49.88,50.05,49.86,49.93,42.8,45.09,73.34,47.79,49.96,34.03,34.08,49.88,34.14,49.92,36.47,39.29,29.63,49.94,36.16,36.25,49.94,27.4,40.86,49.87,50.01,-29.68,38.23,38.24,49.87,29.89,29.99,35.68,49.89,73.32,49.88,-2.3,39.22,49.9,39.96,31.68,49.87,49.97,33.71,49.89,14.67,36.13,38.07,11.4,27.78,49.91,-7.41,40.14,73.38,73.35,49.91,37.59,49.89,40.35,-6.85,34.57,49.86,40.35,49.87,49.91,-6.79,49.92,35.31,49.85,73.37,39.16,49.92,-18.85,49.95,49.88,49.83,49.87,49.88,49.85,49.84,49.92,39.49,39.36,40.32,36.74,-35.1],\"legendgroup\":\"label8\",\"lon\":[-7.61,56.36,35.06,80.46,28.23,87.84,78.96,22.26,24.31,22.4,87.74,78.1,80.5,29.9,78.07,80.83,80.89,41.56,54.3,54.57,21.1,77.76,102.9,103.02,78.14,24.6,30.69,91.86,54.42,30.9,51.98,20.44,73.84,24.94,59.01,58.24,53.17,78.18,54.58,79.24,-10.58,28.46,41.21,33.91,41.35,25.04,54.5,60.02,78.98,54.75,58.49,29.51,22.56,91.24,78.71,54.89,54.78,54.82,-6.86,79.2,71.07,55.61,78.08,40.52,77.22,54.91,48.07,84.58,52.78,23.56,69.69,54.65,73.33,-10.39,22.38,78.85,78.95,100.49,93.52,86.4,78.85,54.97,53.42,53.92,79.02,78.91,93.86,73.77,73.63,54.93,53.91,72.91,78.5,78.53,56.24,-10.36,79.86,54.5,40.77,53.53,54.93,78.92,-16.54,63.72,63.79,52.12,13.26,63.45,78.97,48.1,78.98,54.5,79.01,44.04,78.89,90.97,95.73,70.86,26.72,56.38,56.3,78.84,78.93,23.05,78.89,40.32,78.6,63.66,78.81,23.24,78.92,54.7,79.02,78.94,57.44,74.76,48.09,72.56,48.95,78.77,48.14,59.53,48.06,83.38,19.05,31.72,26.57,78.92,79.06,78.94,78.98,13.04,76.96,54.73,48.11,79.07,59.81,59.8,78.84,59.92,78.8,76.86,22.91,81.09,78.86,1.4,1.61,79.1,88.8,15.33,78.97,79.03,60.83,22.97,23.26,78.9,57.72,57.77,73.6,78.98,54.55,78.89,22.83,25.25,78.86,24.39,82.28,78.92,78.86,22.94,78.86,44.23,68.98,20.25,57.52,62.07,78.97,27.88,24.75,54.87,54.38,78.83,-17.41,78.9,42.18,72.04,70.47,78.81,63.36,78.97,78.91,71.48,79.03,23.29,78.92,54.84,71.35,78.83,67.33,79.03,78.82,78.71,78.84,78.96,78.87,78.69,78.8,75.27,75.44,69.82,54.81,54.26],\"marker\":{\"color\":\"#FF97FF\",\"symbol\":\"circle\"},\"mode\":\"markers\",\"name\":\"label8\",\"showlegend\":true,\"type\":\"scattergeo\"},{\"geo\":\"geo\",\"hovertemplate\":\"color=label2<br>Latitude=%{lat}<br>Longitude=%{lon}<extra></extra>\",\"lat\":[-6.44,-5.48,-5.74,35.43,-6.76,21.57,46.21,27.22,-25.69,-7.47,-5.13,3.86,33.17,-31.55,-31.88,30.71,-32.36,47.31,-31.95,31.93,31.99,48.27,-7.08,16.57,-7.33,33.62,29.35,47.44,30.89,28.27,26.96],\"legendgroup\":\"label2\",\"lon\":[127.96,154.25,128.63,135.49,126.74,143.1,142.45,140.29,179.58,125.56,154.23,124.26,136.98,179.79,179.94,138.44,179.88,145.75,179.18,137.62,137.61,148.66,117.95,145.48,126.08,136.8,138.92,146.73,138.48,139.55,140.48],\"marker\":{\"color\":\"#FECB52\",\"symbol\":\"circle\"},\"mode\":\"markers\",\"name\":\"label2\",\"showlegend\":true,\"type\":\"scattergeo\"},{\"geo\":\"geo\",\"hovertemplate\":\"color=label10<br>Latitude=%{lat}<br>Longitude=%{lon}<extra></extra>\",\"lat\":[-27.82,-41.13,-26.37,-31.4,19.8,-25.67,-31.81,-32.42,15.93,-7.31,16.33,6.51,-42.9,-22.34,-29.34,31.0,17.35,-10.74,-25.51,24.0,2.93,-40.12,-25.18,-10.59,19.5,-28.78,-21.89,17.42,17.61,5.64,-5.55,-5.51,-6.86,16.56,-13.1,-8.07,-30.5,-17.3,-11.84,25.12,15.3,-11.75,15.79,16.08,7.03,15.57,-9.84,14.65,14.61,-9.15,-9.93,-9.28,-10.22,-9.88,-51.94,-22.28,-10.14,6.37,6.52,-20.94,-23.19,-30.81,-3.97,-39.78,18.02,-32.51,-32.19,13.3,-17.62,-6.79,5.22,-30.34,15.23,19.55,-30.91,-30.51,18.53,4.96,18.25,-4.4,-4.37,-32.98,19.42,-25.98,-35.59,9.51,-4.3,7.76,7.74,-38.34,-12.24,17.37,-12.44,7.18,-29.89,-36.41,16.47,-38.03,35.98,7.05,-22.91,7.55,17.15,15.28,-39.93,3.96,0.85,-11.62,-10.51,-41.5,17.45,-50.01,7.48,7.41,-20.57,-24.93,-66.49,22.68,-31.04,-31.02,-31.37,-31.44,-31.24,-31.25,-26.6,29.68,-27.97,10.06,-26.52,16.07,17.53,-16.52,17.76,18.02,-22.95,-24.6,8.14,7.11,-32.16,8.95,10.72,1.62,-4.69,38.75,23.86,-19.42,15.93,18.22,19.57,3.93,18.82,-1.96,24.84,-4.76,-33.15,18.18,-31.38,-32.17,46.99,13.15,16.73,-28.21,-41.41,16.51,16.58,6.75,-2.71,-10.61,16.14,8.8,10.43,-17.44,-26.55,-26.16,-23.74,0.48,14.07,-3.92,17.38,-30.68,18.02,16.82,-31.6,15.05,8.16,20.33,10.21,-33.07,-33.14,-32.95,-33.24,16.98,-32.68,-33.15,-34.14,-32.64,-34.0,-39.71,-9.16,17.98,18.54,17.81,11.71],\"legendgroup\":\"label10\",\"lon\":[-71.1,-74.99,-71.78,-110.84,-56.11,-70.63,-71.26,-71.1,-46.69,-81.27,-95.8,-84.44,-75.13,-113.98,-68.09,-41.53,-100.04,-78.63,-70.74,-65.7,-74.83,-74.68,-70.54,-79.67,-60.0,-71.19,-70.07,-61.19,-61.26,-82.6,-77.2,-77.3,-80.42,-97.79,-76.37,-80.09,-71.38,-72.48,-75.1,-109.55,-45.78,-75.15,-59.64,-59.79,-104.24,-99.48,-75.55,-92.59,-93.29,-78.83,-78.46,-79.05,-78.69,-78.69,-74.14,-70.55,-78.6,-77.48,-77.4,-69.81,-70.11,-71.16,-80.66,-104.87,-69.79,-71.21,-71.72,-92.41,-71.27,-76.76,-100.32,-71.58,-96.26,-70.22,-68.21,-71.08,-102.93,-78.12,-96.58,-102.1,-102.04,-71.87,-104.98,-67.72,-74.54,-83.95,-102.07,-77.57,-77.54,-73.27,-77.58,-61.99,-77.46,-77.76,-71.4,-98.82,-98.86,-72.78,-17.56,-104.18,-70.48,-77.5,-100.23,-89.19,-74.89,-85.88,-79.63,-74.45,-78.3,-75.34,-100.65,-115.1,-78.28,-78.05,-68.93,-68.68,-82.45,-45.11,-67.76,-67.51,-67.79,-67.44,-67.9,-68.0,-114.59,-67.45,-70.3,-77.89,-70.66,-96.55,-100.79,-72.6,-101.3,-69.03,-69.09,-70.18,-38.12,-82.31,-71.4,-83.49,-41.68,-79.34,-105.74,-27.75,-45.57,-69.33,-88.52,-98.2,-69.58,-85.88,-103.95,-80.99,-46.29,-112.01,-73.1,-102.01,-110.79,-71.43,-66.65,-87.56,-61.44,-114.06,-74.97,-98.25,-98.34,-82.72,-79.88,-74.69,-95.25,-83.11,-62.71,-69.96,-70.62,-70.59,-70.23,-79.79,-91.95,-81.41,-59.63,-71.2,-69.3,-98.46,-110.85,-94.28,-38.77,-115.79,-80.03,-68.58,-71.84,-71.6,-71.78,-62.46,-71.63,-71.69,-72.1,-71.67,-71.45,-75.7,-78.88,-97.16,-102.32,-101.69,-85.86],\"marker\":{\"color\":\"#636efa\",\"symbol\":\"circle\"},\"mode\":\"markers\",\"name\":\"label10\",\"showlegend\":true,\"type\":\"scattergeo\"},{\"geo\":\"geo\",\"hovertemplate\":\"color=label11<br>Latitude=%{lat}<br>Longitude=%{lon}<extra></extra>\",\"lat\":[-7.17,-4.34,-7.21,-6.01,-6.1,-6.59,-6.84,-10.2,26.29,-14.2,-22.75,-5.71,52.36,51.69,49.47,7.46,28.22,42.48,9.23,41.93,-23.88,-23.93,38.78,51.93,-7.46,28.04,41.66,-4.94,-4.88,5.66,24.13,41.85,18.49,-4.63,-23.7,18.0,27.9,-7.17,8.73,49.05,8.17,50.06,-5.76,-7.08,27.87],\"legendgroup\":\"label11\",\"lon\":[123.86,122.14,124.69,112.33,113.36,116.18,118.91,159.9,140.7,172.02,178.76,125.42,151.64,150.97,147.08,123.77,139.3,131.05,123.92,130.99,180.0,179.88,130.09,151.57,119.89,139.67,131.05,125.25,125.35,123.59,142.41,130.87,145.39,154.89,179.99,145.67,137.04,125.81,124.03,146.63,123.77,148.77,111.29,124.28,139.51],\"marker\":{\"color\":\"#EF553B\",\"symbol\":\"circle\"},\"mode\":\"markers\",\"name\":\"label11\",\"showlegend\":true,\"type\":\"scattergeo\"},{\"geo\":\"geo\",\"hovertemplate\":\"color=label9<br>Latitude=%{lat}<br>Longitude=%{lon}<extra></extra>\",\"lat\":[-20.46,-20.45,-22.91,-23.4,-15.16,-14.83,-23.79,-15.33,-22.46,-16.13,-30.86,-30.84,-30.97,-30.52,-17.15,-16.11,-25.85,-56.46,-31.94,-32.0,-22.96,-20.41,-55.19,-30.65,-15.36,-18.94,-16.05,-16.66,-33.49,-15.35,-16.47,-16.22,-14.91,-26.28,-33.49,-29.22,-29.37,-15.91,-17.86,-20.45,-24.91,-24.2,-14.92,-16.22,-28.78,-29.48,-29.02,-29.64,-30.01,-32.67,-32.65,-28.65,-29.35,-29.92,-30.6,-29.93,-32.63,-31.3,-33.78,-30.32,-34.28,-30.48,-21.89,-16.79,-22.91,-33.79,-15.29,-17.58,-25.87,-15.78,-21.86,-26.0,-30.63,-22.91,-17.06,-15.27,-30.62,-30.57,-21.85,-30.02,-19.86,-21.86,-23.61,-31.34,-18.93,-17.62,-23.53,-18.61,-15.25,-30.18,-29.32,-21.86,-15.22,-17.59,-21.25,-22.89,-15.08,-30.18,-33.82,-20.01,-30.01,-30.03,-25.19,-31.55,-15.86,-18.11,-17.61,-15.36,-25.55,-24.39,-24.15,-15.43,-29.69,-21.59,-24.01,-21.85,-16.96,-20.13,-16.68,-16.64,-20.57,-15.37,-15.88,-33.28,-25.88,-15.75,-17.54,-20.54,-15.3,-29.7,-15.35,-34.61,-22.08,-21.55,-35.21,-21.86,-30.67],\"legendgroup\":\"label9\",\"lon\":[-173.89,-174.04,-176.05,-174.72,-173.64,-178.75,-175.14,-173.48,-174.61,-173.95,-178.21,-178.2,-178.13,-178.01,-171.57,-173.87,-177.29,-142.61,-177.89,-178.1,-176.14,-174.17,-128.87,-177.82,-173.3,-173.72,-173.0,-172.01,-179.4,-175.6,-172.17,-173.08,-172.83,-175.78,-177.31,-175.94,-176.13,-178.47,-174.57,-173.96,-175.16,-175.1,-172.88,-172.47,-177.39,-177.57,-177.42,-176.76,-176.85,-178.21,-177.81,-177.38,-177.29,-177.8,-178.21,-177.62,-178.19,-177.67,-177.83,-177.87,-176.53,-177.42,-138.96,-172.02,-175.74,-179.58,-173.07,-174.39,-175.37,-173.01,-138.94,-177.24,-177.6,-175.3,-172.28,-175.45,-178.07,-178.06,-139.0,-177.47,-173.04,-139.0,-174.85,-178.72,-176.52,-171.16,-177.27,-174.7,-173.53,-177.91,-177.24,-139.0,-173.52,-172.31,-174.41,-175.82,-173.12,-177.96,-179.44,-174.23,-177.63,-177.73,-175.55,-178.6,-172.97,-172.51,-174.45,-173.09,-176.24,-176.65,-175.97,-173.3,-177.73,-175.32,-175.9,-138.94,-174.61,-126.94,-172.05,-177.38,-173.84,-173.03,-174.35,-179.28,-175.9,-173.65,-174.44,-174.0,-173.47,-177.78,-173.54,-178.57,-174.6,-176.39,-179.32,-138.92,-178.03],\"marker\":{\"color\":\"#00cc96\",\"symbol\":\"circle\"},\"mode\":\"markers\",\"name\":\"label9\",\"showlegend\":true,\"type\":\"scattergeo\"},{\"geo\":\"geo\",\"hovertemplate\":\"color=label3<br>Latitude=%{lat}<br>Longitude=%{lon}<extra></extra>\",\"lat\":[-27.46,-9.04,-21.08,-26.06,-9.05,-27.62,-21.1,-21.57,-21.87,-21.66,-1.46,-23.45,-17.82,-21.95,-17.97,-17.84,-31.79,-20.61,-24.66,-27.96,-20.82,-17.89,-27.28,-20.7,-20.81,-23.45,-9.52,-23.98,-28.14,-27.97,-17.74,-9.21,-21.0],\"legendgroup\":\"label3\",\"lon\":[-63.23,-71.32,-179.15,-63.1,-71.34,-63.15,-179.18,-179.35,-179.54,-179.42,-72.56,-179.88,-178.79,-63.65,-178.49,-178.53,-179.51,-179.14,-63.39,-62.82,-178.67,-178.6,-63.27,-178.65,-178.87,-179.87,-71.22,-179.8,-63.15,-62.9,-178.05,-71.22,-178.99],\"marker\":{\"color\":\"#ab63fa\",\"symbol\":\"circle\"},\"mode\":\"markers\",\"name\":\"label3\",\"showlegend\":true,\"type\":\"scattergeo\"},{\"geo\":\"geo\",\"hovertemplate\":\"color=label7<br>Latitude=%{lat}<br>Longitude=%{lon}<extra></extra>\",\"lat\":[-16.71,-28.25,-27.74,-17.76,-24.83,-31.38,-31.2,-20.61,-15.89,-30.54,-24.98,-18.39,-33.02,-19.5,-14.95,-22.86,-19.44,-29.41,-23.1,-18.54,-30.44,-23.68,-15.83,-17.15,-18.7],\"legendgroup\":\"label7\",\"lon\":[-174.66,-178.27,-178.99,-175.06,-179.19,-179.38,-179.47,-176.32,-175.04,-178.03,-178.88,-177.88,-179.96,-177.7,-175.81,-177.47,-175.83,-179.03,-177.27,-175.12,-179.3,-178.3,-174.8,-174.07,-178.04],\"marker\":{\"color\":\"#FFA15A\",\"symbol\":\"circle\"},\"mode\":\"markers\",\"name\":\"label7\",\"showlegend\":true,\"type\":\"scattergeo\"}],                        {\"template\":{\"data\":{\"histogram2dcontour\":[{\"type\":\"histogram2dcontour\",\"colorbar\":{\"outlinewidth\":0,\"ticks\":\"\"},\"colorscale\":[[0.0,\"#0d0887\"],[0.1111111111111111,\"#46039f\"],[0.2222222222222222,\"#7201a8\"],[0.3333333333333333,\"#9c179e\"],[0.4444444444444444,\"#bd3786\"],[0.5555555555555556,\"#d8576b\"],[0.6666666666666666,\"#ed7953\"],[0.7777777777777778,\"#fb9f3a\"],[0.8888888888888888,\"#fdca26\"],[1.0,\"#f0f921\"]]}],\"choropleth\":[{\"type\":\"choropleth\",\"colorbar\":{\"outlinewidth\":0,\"ticks\":\"\"}}],\"histogram2d\":[{\"type\":\"histogram2d\",\"colorbar\":{\"outlinewidth\":0,\"ticks\":\"\"},\"colorscale\":[[0.0,\"#0d0887\"],[0.1111111111111111,\"#46039f\"],[0.2222222222222222,\"#7201a8\"],[0.3333333333333333,\"#9c179e\"],[0.4444444444444444,\"#bd3786\"],[0.5555555555555556,\"#d8576b\"],[0.6666666666666666,\"#ed7953\"],[0.7777777777777778,\"#fb9f3a\"],[0.8888888888888888,\"#fdca26\"],[1.0,\"#f0f921\"]]}],\"heatmap\":[{\"type\":\"heatmap\",\"colorbar\":{\"outlinewidth\":0,\"ticks\":\"\"},\"colorscale\":[[0.0,\"#0d0887\"],[0.1111111111111111,\"#46039f\"],[0.2222222222222222,\"#7201a8\"],[0.3333333333333333,\"#9c179e\"],[0.4444444444444444,\"#bd3786\"],[0.5555555555555556,\"#d8576b\"],[0.6666666666666666,\"#ed7953\"],[0.7777777777777778,\"#fb9f3a\"],[0.8888888888888888,\"#fdca26\"],[1.0,\"#f0f921\"]]}],\"heatmapgl\":[{\"type\":\"heatmapgl\",\"colorbar\":{\"outlinewidth\":0,\"ticks\":\"\"},\"colorscale\":[[0.0,\"#0d0887\"],[0.1111111111111111,\"#46039f\"],[0.2222222222222222,\"#7201a8\"],[0.3333333333333333,\"#9c179e\"],[0.4444444444444444,\"#bd3786\"],[0.5555555555555556,\"#d8576b\"],[0.6666666666666666,\"#ed7953\"],[0.7777777777777778,\"#fb9f3a\"],[0.8888888888888888,\"#fdca26\"],[1.0,\"#f0f921\"]]}],\"contourcarpet\":[{\"type\":\"contourcarpet\",\"colorbar\":{\"outlinewidth\":0,\"ticks\":\"\"}}],\"contour\":[{\"type\":\"contour\",\"colorbar\":{\"outlinewidth\":0,\"ticks\":\"\"},\"colorscale\":[[0.0,\"#0d0887\"],[0.1111111111111111,\"#46039f\"],[0.2222222222222222,\"#7201a8\"],[0.3333333333333333,\"#9c179e\"],[0.4444444444444444,\"#bd3786\"],[0.5555555555555556,\"#d8576b\"],[0.6666666666666666,\"#ed7953\"],[0.7777777777777778,\"#fb9f3a\"],[0.8888888888888888,\"#fdca26\"],[1.0,\"#f0f921\"]]}],\"surface\":[{\"type\":\"surface\",\"colorbar\":{\"outlinewidth\":0,\"ticks\":\"\"},\"colorscale\":[[0.0,\"#0d0887\"],[0.1111111111111111,\"#46039f\"],[0.2222222222222222,\"#7201a8\"],[0.3333333333333333,\"#9c179e\"],[0.4444444444444444,\"#bd3786\"],[0.5555555555555556,\"#d8576b\"],[0.6666666666666666,\"#ed7953\"],[0.7777777777777778,\"#fb9f3a\"],[0.8888888888888888,\"#fdca26\"],[1.0,\"#f0f921\"]]}],\"mesh3d\":[{\"type\":\"mesh3d\",\"colorbar\":{\"outlinewidth\":0,\"ticks\":\"\"}}],\"scatter\":[{\"fillpattern\":{\"fillmode\":\"overlay\",\"size\":10,\"solidity\":0.2},\"type\":\"scatter\"}],\"parcoords\":[{\"type\":\"parcoords\",\"line\":{\"colorbar\":{\"outlinewidth\":0,\"ticks\":\"\"}}}],\"scatterpolargl\":[{\"type\":\"scatterpolargl\",\"marker\":{\"colorbar\":{\"outlinewidth\":0,\"ticks\":\"\"}}}],\"bar\":[{\"error_x\":{\"color\":\"#2a3f5f\"},\"error_y\":{\"color\":\"#2a3f5f\"},\"marker\":{\"line\":{\"color\":\"#E5ECF6\",\"width\":0.5},\"pattern\":{\"fillmode\":\"overlay\",\"size\":10,\"solidity\":0.2}},\"type\":\"bar\"}],\"scattergeo\":[{\"type\":\"scattergeo\",\"marker\":{\"colorbar\":{\"outlinewidth\":0,\"ticks\":\"\"}}}],\"scatterpolar\":[{\"type\":\"scatterpolar\",\"marker\":{\"colorbar\":{\"outlinewidth\":0,\"ticks\":\"\"}}}],\"histogram\":[{\"marker\":{\"pattern\":{\"fillmode\":\"overlay\",\"size\":10,\"solidity\":0.2}},\"type\":\"histogram\"}],\"scattergl\":[{\"type\":\"scattergl\",\"marker\":{\"colorbar\":{\"outlinewidth\":0,\"ticks\":\"\"}}}],\"scatter3d\":[{\"type\":\"scatter3d\",\"line\":{\"colorbar\":{\"outlinewidth\":0,\"ticks\":\"\"}},\"marker\":{\"colorbar\":{\"outlinewidth\":0,\"ticks\":\"\"}}}],\"scattermapbox\":[{\"type\":\"scattermapbox\",\"marker\":{\"colorbar\":{\"outlinewidth\":0,\"ticks\":\"\"}}}],\"scatterternary\":[{\"type\":\"scatterternary\",\"marker\":{\"colorbar\":{\"outlinewidth\":0,\"ticks\":\"\"}}}],\"scattercarpet\":[{\"type\":\"scattercarpet\",\"marker\":{\"colorbar\":{\"outlinewidth\":0,\"ticks\":\"\"}}}],\"carpet\":[{\"aaxis\":{\"endlinecolor\":\"#2a3f5f\",\"gridcolor\":\"white\",\"linecolor\":\"white\",\"minorgridcolor\":\"white\",\"startlinecolor\":\"#2a3f5f\"},\"baxis\":{\"endlinecolor\":\"#2a3f5f\",\"gridcolor\":\"white\",\"linecolor\":\"white\",\"minorgridcolor\":\"white\",\"startlinecolor\":\"#2a3f5f\"},\"type\":\"carpet\"}],\"table\":[{\"cells\":{\"fill\":{\"color\":\"#EBF0F8\"},\"line\":{\"color\":\"white\"}},\"header\":{\"fill\":{\"color\":\"#C8D4E3\"},\"line\":{\"color\":\"white\"}},\"type\":\"table\"}],\"barpolar\":[{\"marker\":{\"line\":{\"color\":\"#E5ECF6\",\"width\":0.5},\"pattern\":{\"fillmode\":\"overlay\",\"size\":10,\"solidity\":0.2}},\"type\":\"barpolar\"}],\"pie\":[{\"automargin\":true,\"type\":\"pie\"}]},\"layout\":{\"autotypenumbers\":\"strict\",\"colorway\":[\"#636efa\",\"#EF553B\",\"#00cc96\",\"#ab63fa\",\"#FFA15A\",\"#19d3f3\",\"#FF6692\",\"#B6E880\",\"#FF97FF\",\"#FECB52\"],\"font\":{\"color\":\"#2a3f5f\"},\"hovermode\":\"closest\",\"hoverlabel\":{\"align\":\"left\"},\"paper_bgcolor\":\"white\",\"plot_bgcolor\":\"#E5ECF6\",\"polar\":{\"bgcolor\":\"#E5ECF6\",\"angularaxis\":{\"gridcolor\":\"white\",\"linecolor\":\"white\",\"ticks\":\"\"},\"radialaxis\":{\"gridcolor\":\"white\",\"linecolor\":\"white\",\"ticks\":\"\"}},\"ternary\":{\"bgcolor\":\"#E5ECF6\",\"aaxis\":{\"gridcolor\":\"white\",\"linecolor\":\"white\",\"ticks\":\"\"},\"baxis\":{\"gridcolor\":\"white\",\"linecolor\":\"white\",\"ticks\":\"\"},\"caxis\":{\"gridcolor\":\"white\",\"linecolor\":\"white\",\"ticks\":\"\"}},\"coloraxis\":{\"colorbar\":{\"outlinewidth\":0,\"ticks\":\"\"}},\"colorscale\":{\"sequential\":[[0.0,\"#0d0887\"],[0.1111111111111111,\"#46039f\"],[0.2222222222222222,\"#7201a8\"],[0.3333333333333333,\"#9c179e\"],[0.4444444444444444,\"#bd3786\"],[0.5555555555555556,\"#d8576b\"],[0.6666666666666666,\"#ed7953\"],[0.7777777777777778,\"#fb9f3a\"],[0.8888888888888888,\"#fdca26\"],[1.0,\"#f0f921\"]],\"sequentialminus\":[[0.0,\"#0d0887\"],[0.1111111111111111,\"#46039f\"],[0.2222222222222222,\"#7201a8\"],[0.3333333333333333,\"#9c179e\"],[0.4444444444444444,\"#bd3786\"],[0.5555555555555556,\"#d8576b\"],[0.6666666666666666,\"#ed7953\"],[0.7777777777777778,\"#fb9f3a\"],[0.8888888888888888,\"#fdca26\"],[1.0,\"#f0f921\"]],\"diverging\":[[0,\"#8e0152\"],[0.1,\"#c51b7d\"],[0.2,\"#de77ae\"],[0.3,\"#f1b6da\"],[0.4,\"#fde0ef\"],[0.5,\"#f7f7f7\"],[0.6,\"#e6f5d0\"],[0.7,\"#b8e186\"],[0.8,\"#7fbc41\"],[0.9,\"#4d9221\"],[1,\"#276419\"]]},\"xaxis\":{\"gridcolor\":\"white\",\"linecolor\":\"white\",\"ticks\":\"\",\"title\":{\"standoff\":15},\"zerolinecolor\":\"white\",\"automargin\":true,\"zerolinewidth\":2},\"yaxis\":{\"gridcolor\":\"white\",\"linecolor\":\"white\",\"ticks\":\"\",\"title\":{\"standoff\":15},\"zerolinecolor\":\"white\",\"automargin\":true,\"zerolinewidth\":2},\"scene\":{\"xaxis\":{\"backgroundcolor\":\"#E5ECF6\",\"gridcolor\":\"white\",\"linecolor\":\"white\",\"showbackground\":true,\"ticks\":\"\",\"zerolinecolor\":\"white\",\"gridwidth\":2},\"yaxis\":{\"backgroundcolor\":\"#E5ECF6\",\"gridcolor\":\"white\",\"linecolor\":\"white\",\"showbackground\":true,\"ticks\":\"\",\"zerolinecolor\":\"white\",\"gridwidth\":2},\"zaxis\":{\"backgroundcolor\":\"#E5ECF6\",\"gridcolor\":\"white\",\"linecolor\":\"white\",\"showbackground\":true,\"ticks\":\"\",\"zerolinecolor\":\"white\",\"gridwidth\":2}},\"shapedefaults\":{\"line\":{\"color\":\"#2a3f5f\"}},\"annotationdefaults\":{\"arrowcolor\":\"#2a3f5f\",\"arrowhead\":0,\"arrowwidth\":1},\"geo\":{\"bgcolor\":\"white\",\"landcolor\":\"#E5ECF6\",\"subunitcolor\":\"white\",\"showland\":true,\"showlakes\":true,\"lakecolor\":\"white\"},\"title\":{\"x\":0.05},\"mapbox\":{\"style\":\"light\"}}},\"geo\":{\"domain\":{\"x\":[0.0,1.0],\"y\":[0.0,1.0]},\"center\":{}},\"legend\":{\"title\":{\"text\":\"color\"},\"tracegroupgap\":0},\"margin\":{\"t\":60},\"height\":768,\"width\":1366,\"title\":{\"text\":\"Earthquakes with Kmeans clusterization\"}},                        {\"responsive\": true}                    ).then(function(){\n",
              "                            \n",
              "var gd = document.getElementById('3c03fafb-cab0-405d-aa88-7405efca4872');\n",
              "var x = new MutationObserver(function (mutations, observer) {{\n",
              "        var display = window.getComputedStyle(gd).display;\n",
              "        if (!display || display === 'none') {{\n",
              "            console.log([gd, 'removed!']);\n",
              "            Plotly.purge(gd);\n",
              "            observer.disconnect();\n",
              "        }}\n",
              "}});\n",
              "\n",
              "// Listen for the removal of the full notebook cells\n",
              "var notebookContainer = gd.closest('#notebook-container');\n",
              "if (notebookContainer) {{\n",
              "    x.observe(notebookContainer, {childList: true});\n",
              "}}\n",
              "\n",
              "// Listen for the clearing of the current output cell\n",
              "var outputEl = gd.closest('.output');\n",
              "if (outputEl) {{\n",
              "    x.observe(outputEl, {childList: true});\n",
              "}}\n",
              "\n",
              "                        })                };                            </script>        </div>\n",
              "</body>\n",
              "</html>"
            ]
          },
          "metadata": {}
        }
      ]
    },
    {
      "cell_type": "markdown",
      "source": [
        "optimize number of K with silhouette and inertia methods"
      ],
      "metadata": {
        "id": "RTTWowXSIrhE"
      }
    },
    {
      "cell_type": "code",
      "source": [
        "def optimal_k_num(data):\n",
        "    Sum_of_squared_distances = []\n",
        "    K = range(1,10)\n",
        "    for num_clusters in K:\n",
        "     kmeans = KMeans(n_clusters=num_clusters)\n",
        "     kmeans.fit(data)\n",
        "     Sum_of_squared_distances.append(kmeans.inertia_)\n",
        "\n",
        "    range_n_clusters = [2, 3, 4, 5, 6, 7, 8]\n",
        "    silhouette_avg = []\n",
        "    for num_clusters in range_n_clusters:\n",
        "\n",
        "      # initialise kmeans\n",
        "      kmeans = KMeans(n_clusters=num_clusters)\n",
        "      kmeans.fit(data)\n",
        "      cluster_labels = kmeans.labels_\n",
        "\n",
        "      # silhouette score\n",
        "      silhouette_avg.append(silhouette_score(data, cluster_labels))\n",
        "\n",
        "    plt.plot(range_n_clusters, silhouette_avg, \"bx-\")\n",
        "    plt.xlabel(\"‘Values of K’\")\n",
        "    plt.ylabel(\"‘Silhouette score’\")\n",
        "    plt.title(\"‘Silhouette analysis For Optimal k’\")\n",
        "    plt.show()\n",
        "\n",
        "    plt.plot(K,Sum_of_squared_distances,\"bx-\")\n",
        "    plt.xlabel(\"Values of K\")\n",
        "    plt.ylabel(\"Sum of squared distances/Inertia\")\n",
        "    plt.title(\"Inertia Method For Optimal k\")\n",
        "    plt.show()"
      ],
      "metadata": {
        "id": "uEhLlp27IzIX"
      },
      "execution_count": null,
      "outputs": []
    },
    {
      "cell_type": "code",
      "source": [
        "optimal_k_num(df)"
      ],
      "metadata": {
        "id": "30rI6DhDI6Gk",
        "colab": {
          "base_uri": "https://localhost:8080/",
          "height": 573
        },
        "outputId": "73fc3214-c3f0-4bb8-f1e5-e499ff1a524d"
      },
      "execution_count": null,
      "outputs": [
        {
          "output_type": "display_data",
          "data": {
            "text/plain": [
              "<Figure size 432x288 with 1 Axes>"
            ],
            "image/png": "[encoded data removed]"
          },
          "metadata": {
            "needs_background": "light"
          }
        },
        {
          "output_type": "display_data",
          "data": {
            "text/plain": [
              "<Figure size 432x288 with 1 Axes>"
            ],
            "image/png": "[encoded data removed]"
          },
          "metadata": {
            "needs_background": "light"
          }
        }
      ]
    },
    {
      "cell_type": "markdown",
      "source": [
        "result of optimization shows us that we can get better results when k=3"
      ],
      "metadata": {
        "id": "8lG-spK5PBg8"
      }
    },
    {
      "cell_type": "code",
      "source": [
        "kmeans_label, y_kmeans, kmeans_labels_mapping = k_means(df, 3)"
      ],
      "metadata": {
        "id": "VyBosVX9U3iW",
        "colab": {
          "base_uri": "https://localhost:8080/",
          "height": 785
        },
        "outputId": "f9efb296-0790-4fee-db65-e8b1802ec8a7"
      },
      "execution_count": null,
      "outputs": [
        {
          "output_type": "display_data",
          "data": {
            "text/html": [
              "<html>\n",
              "<head><meta charset=\"utf-8\" /></head>\n",
              "<body>\n",
              "    <div>            <script src=\"https://cdnjs.cloudflare.com/ajax/libs/mathjax/2.7.5/MathJax.js?config=TeX-AMS-MML_SVG\"></script><script type=\"text/javascript\">if (window.MathJax && window.MathJax.Hub && window.MathJax.Hub.Config) {window.MathJax.Hub.Config({SVG: {font: \"STIX-Web\"}});}</script>                <script type=\"text/javascript\">window.PlotlyConfig = {MathJaxConfig: 'local'};</script>\n",
              "        <script src=\"https://cdn.plot.ly/plotly-2.18.2.min.js\"></script>                <div id=\"673dd0c0-4c0c-4981-b6f7-db9aaf837c13\" class=\"plotly-graph-div\" style=\"height:768px; width:1366px;\"></div>            <script type=\"text/javascript\">                                    window.PLOTLYENV=window.PLOTLYENV || {};                                    if (document.getElementById(\"673dd0c0-4c0c-4981-b6f7-db9aaf837c13\")) {                    Plotly.newPlot(                        \"673dd0c0-4c0c-4981-b6f7-db9aaf837c13\",                        [{\"geo\":\"geo\",\"hovertemplate\":\"color=label0<br>Latitude=%{lat}<br>Longitude=%{lon}<extra></extra>\",\"lat\":[-52.26,45.53,41.85,29.19,-21.66,23.09,-20.7,22.33,-13.64,36.48,-5.14,-44.6,-44.2,36.95,14.42,0.4,3.91,0.02,-5.42,-5.07,45.35,-3.88,40.39,40.55,-2.73,43.43,38.4,43.16,-1.76,-0.5,11.7,-5.54,-15.56,47.09,46.96,47.09,14.17,78.15,-4.42,-48.95,8.9,29.96,-10.42,40.3,28.04,-45.6,3.11,-31.78,-5.75,-6.0,40.49,-13.49,27.4,49.88,-2.4,-2.64,-51.7,51.29,51.39,52.74,53.05,52.37,52.05,51.34,28.62,52.73,2.97,-5.43,-5.36,53.02,36.42,40.75,-1.47,55.2,40.73,50.32,38.38,35.06,-42.66,21.0,-7.02,-6.2,22.41,-14.6,52.17,-7.53,44.45,7.21,38.37,-55.9,-5.21,-15.47,-15.75,-15.86,-5.25,-5.33,-6.37,-6.46,7.13,36.35,28.96,36.44,50.02,49.45,12.46,44.21,30.68,43.87,53.89,-7.28,-6.21,-9.61,-6.39,50.04,20.73,49.77,-17.66,-32.2,-5.41,48.29,31.49,1.85,24.24,0.81,49.72,37.49,23.86,23.72,51.24,-0.78,-0.52,-52.77,36.43,11.26,-12.23,-10.43,-10.15,29.62,29.71,24.86,51.99,-0.1,-0.05,39.17,8.48,2.34,-23.0,27.87,-21.59,73.4,22.11,38.9,41.68,-14.03,49.92,-7.11,48.22,38.33,56.68,48.08,-9.12,-0.09,-0.13,49.79,39.25,-10.64,-10.75,-10.77,-6.73,45.53,-11.14,45.56,20.0,5.16,27.32,-0.96,51.86,40.67,10.36,3.72,12.18,31.61,27.42,42.92,-49.57,-20.78,-6.59,-5.66,-7.15,73.4,24.43,-7.02,14.48,41.41,49.45,17.54,-5.25,-7.53,-9.29,-8.93,43.52,-5.54,39.4,22.76,32.48,32.24,29.93,40.86,41.52,40.78,39.83,44.67,41.47,-41.72,-2.98,44.48,-1.86,39.47,41.06,36.01,-2.7,38.54,39.54,-0.27,16.3,25.73,16.45,6.6,33.31,1.38,1.4,0.06,1.17,34.15,34.09,-3.74,28.3,-6.08,42.08,-6.89,-3.65,49.82,-7.6,-39.85,-31.54,-3.38,-12.41,1.2,73.39,40.3,-14.01,51.56,-8.03,-10.57,44.89,-14.89,54.84,0.77,4.77,4.81,41.42,3.5,-3.17,8.69,4.72,38.55,11.91,27.61,12.0,-6.11,-13.57,32.15,34.43,49.41,-7.93,-52.53,52.21,38.43,1.26,36.44,-6.14,43.46,43.59,43.44,43.61,43.63,43.72,43.78,1.81,43.45,43.14,43.17,47.88,-8.89,-8.98,31.08,73.39,23.09,-53.37,27.8,1.94,57.7,37.16,49.94,43.79,1.99,8.2,28.55,24.12,-34.85,6.8,42.48,12.58,9.8,30.61,12.15,-19.07,44.65,51.34,-22.08,0.28,-6.26,39.21,-17.07,6.78,39.78,15.78,38.34,15.08,-18.79,52.93,-4.37,50.19,-11.73,42.48,44.72,-58.86,-2.9,-7.9,-8.75,32.26,32.31,-37.73,26.02,1.16,-13.92,-14.13,-13.89,-9.0,-4.6,17.7,13.0,-6.5,-13.52,-3.56,-4.1,73.31,39.25,-4.97,-3.43,-5.1,-6.05,43.46,-4.11,-11.02,-11.03,41.79,29.79,43.87,-1.59,43.81,-5.23,-10.58,-3.21,-2.95,-3.06,-3.31,-3.01,-3.24,-3.31,-3.37,-3.08,-3.41,-3.63,-9.65,-2.89,0.53,-5.75,-10.93,8.43,41.42,4.76,37.3,38.41,-0.36,2.45,-4.42,28.3,49.77,-6.54,7.99,63.92,38.85,51.67,-5.26,-6.23,-5.18,-5.97,-7.03,-5.52,-4.86,-5.78,52.13,-4.93,39.81,-5.4,-5.53,-5.16,-5.7,-5.81,-5.86,-4.89,-5.14,41.37,-5.88,-5.74,49.29,46.54,46.76,46.28,44.34,-6.46,-6.79,39.17,-5.93,-6.54,-0.02,73.39,46.41,3.63,-6.55,-5.42,11.83,-6.49,11.86,11.86,-15.57,-5.93,-5.57,-5.95,10.11,-11.87,-11.94,52.85,44.77,-6.02,56.04,47.9,-4.75,-16.85,22.5,-4.6,-2.09,20.95,-4.84,-4.74,36.4,-13.18,-3.54,22.55,23.05,-19.38,19.36,-11.43,33.38,33.48,33.45,-3.74,33.6,40.84,49.05,-45.1,48.04,43.33,-49.35,-53.52,42.09,28.39,24.1,23.6,13.38,-15.94,35.16,-4.21,16.61,-11.05,-7.12,36.28,30.71,2.35,49.13,-11.1,-6.29,-6.04,-6.05,-5.15,73.39,-14.99,29.41,35.94,-11.78,1.9,-19.89,-2.52,37.96,-20.36,-9.93,-6.22,-6.56,1.81,-8.79,27.48,-7.33,49.91,-20.03,23.87,38.33,-6.72,6.41,33.34,-1.52,49.97,44.68,-7.0,-7.5,-4.35,-39.02,-14.66,-6.88,-12.1,-0.14,31.33,31.5,22.27,-19.16,50.51,54.73,6.32,-3.01,50.78,2.18,-19.41,13.41,2.09,29.3,7.0,-15.81,-9.81,50.86,-10.01,2.25,-1.46,-6.34,-6.26,24.31,-54.0,-10.31,-6.73,-7.27,53.61,43.12,42.92,42.65,-5.88,43.28,43.14,19.11,43.01,43.28,12.21,35.16,36.45,49.94,-14.33,43.38,-4.5,-7.22,-37.27,7.15,73.32,9.2,-54.97,70.8,35.67,-14.34,70.8,-2.96,49.99,49.99,38.98,53.61,-15.18,43.25,-19.9,50.03,-9.52,-14.56,-15.13,-14.92,-15.37,-38.84,-14.45,42.03,-5.15,-7.39,-7.0,-7.28,18.93,-5.13,-7.35,-3.79,44.01,1.27,-20.02,-7.48,-7.48,48.31,12.57,34.57,28.19,1.87,19.73,49.98,-6.55,-17.68,-17.62,49.91,-2.25,-26.02,-4.72,45.2,36.44,46.22,46.01,36.42,39.34,39.46,32.18,73.41,18.27,-4.26,-9.8,55.25,-6.2,-0.28,43.12,44.64,-8.4,-15.49,-6.93,70.81,42.53,-6.44,2.27,35.85,-15.12,-6.06,-15.24,-6.15,-5.04,0.51,-2.3,51.66,35.05,-2.99,-4.93,32.38,31.94,35.05,53.0,53.08,40.66,-7.24,-6.07,-2.39,27.47,-21.75,22.68,-4.06,-50.84,35.8,37.2,1.03,22.7,0.75,-4.5,44.39,43.26,36.31,43.51,-3.1,30.07,21.42,32.84,6.51,-10.34,-6.64,-7.15,-6.63,-6.84,-9.84,-2.51,-6.9,54.92,73.34,10.04,-10.13,38.51,-34.74,-4.83,-4.83,-12.54,-15.4,-7.54,70.84,73.33,6.54,49.91,42.05,12.47,13.82,12.5,13.83,12.91,-12.25,-7.01,-11.74,-4.07,44.74,44.62,54.52,-5.96,12.98,-6.36,-8.36,-14.77,-10.62,-3.94,40.31,40.18,28.7,-44.58,46.35,-7.47,-7.58,-51.6,-37.28,40.35,3.69,-5.91,-5.6,-5.6,-5.02,24.51,-5.13,-10.08,-7.38,14.06,0.52,24.79,3.4,0.53,-4.58,-4.34,3.78,-4.52,-29.51,49.85,-8.21,-8.17,-4.18,39.56,39.71,47.81,-20.59,26.7,32.78,6.22,7.18,7.33,7.35,10.09,7.22,-6.77,32.59,32.49,6.52,49.95,1.03,-9.2,44.78,73.41,6.93,-6.43,-10.45,36.5,-4.54,-29.36,8.52,6.98,38.12,39.5,-8.84,7.09,49.97,39.05,36.52,49.87,28.27,23.41,-7.9,-2.51,38.19,-3.65,-41.74,37.02,5.04,40.11,0.54,33.15,-41.31,53.54,-6.26,6.74,45.83,-4.96,16.73,44.16,27.59,-14.76,27.57,-9.9,-9.97,-9.94,-9.76,-9.73,-10.0,-10.21,-10.31,-1.81,49.86,-7.73,1.42,-53.82,16.86,-8.04,-10.58,-6.55,-7.89,46.76,-11.21,-11.16,-10.94,-10.89,-11.1,-10.88,-8.1,17.46,-11.04,-13.74,51.31,50.05,34.95,11.8,-1.92,-11.29,-9.99,-27.93,-6.21,-11.48,-10.2,49.93,-5.01,3.52,25.54,16.54,-5.13,18.79,44.56,34.8,-4.2,-5.39,-0.07,-8.7,38.83,29.33,-4.66,26.45,43.86,43.99,44.22,44.09,44.27,44.7,44.41,44.3,44.11,42.84,-8.62,-19.63,-4.94,44.38,-11.39,-9.43,5.14,36.64,4.69,-5.92,-9.88,-37.84,-14.6,-0.74,31.07,24.29,-1.05,40.4,49.88,38.23,38.38,8.28,8.24,7.85,40.78,-5.05,-5.07,-18.27,49.84,0.55,-4.2,22.19,-20.64,-0.14,73.31,-47.53,49.98,-7.53,24.81,-13.35,49.91,48.21,33.37,-13.94,-14.92,39.4,33.47,47.81,-5.45,39.34,37.71,-11.21,-11.14,47.79,-10.92,49.93,-10.22,44.55,7.33,0.55,47.78,-8.27,23.17,33.96,47.87,-18.52,0.02,5.23,6.01,-15.57,-13.61,40.22,1.02,41.95,3.02,42.05,-0.05,9.3,-21.22,-6.38,19.0,0.66,36.45,-8.32,-30.73,-6.55,38.79,49.88,-5.0,43.88,50.05,33.87,-11.16,49.86,34.57,-4.86,49.93,36.48,19.05,-1.71,-1.18,53.64,3.48,42.8,52.23,45.09,-19.09,-2.84,1.16,-7.17,-46.54,-1.18,51.82,73.34,-8.4,0.66,-10.68,-10.58,47.79,49.96,-1.2,-13.4,-7.76,-9.5,-13.32,-4.43,34.03,-16.73,-1.94,5.89,34.08,49.88,34.14,28.95,-3.41,49.92,3.56,1.0,6.0,-7.89,-54.21,-4.7,36.47,44.51,-10.68,43.47,43.14,43.22,-6.02,-6.04,6.33,-22.67,16.09,9.0,-10.87,-8.05,51.21,34.5,-14.52,-6.03,-5.96,-7.37,-5.19,9.5,-5.24,34.81,6.63,-12.49,39.29,-4.45,-12.3,-20.3,-13.09,29.63,49.94,35.53,-3.25,-15.09,-6.3,-5.34,49.94,-6.11,-6.22,-21.95,-22.3,11.78,-22.25,-51.49,27.4,40.86,49.87,-21.4,30.63,-16.29,50.01,45.98,29.28,38.61,38.71,-4.56,38.28,42.48,38.18,-29.68,51.82,53.02,44.61,-22.11,-6.04,38.23,-13.77,38.24,-5.43,3.43,45.59,14.23,37.28,49.87,-13.4,43.23,36.41,42.65,-5.14,5.82,-48.55,-14.75,-5.68,-49.13,44.66,29.89,-22.29,-15.44,29.99,-21.61,-5.18,-2.76,-22.09,48.71,-5.32,43.53,-21.5,30.66,35.68,49.89,-6.39,-22.22,73.32,50.72,-4.52,-9.42,-6.43,-11.4,-9.98,40.3,-7.11,49.88,-3.52,-2.3,18.75,42.98,-37.23,-6.14,23.96,-6.39,39.22,49.9,-2.11,26.84,-12.11,-3.41,13.85,14.01,-9.53,-9.55,39.96,31.68,-10.89,33.67,22.33,-9.52,42.23,-6.41,0.09,19.89,19.9,49.87,-0.61,-20.24,-3.36,48.82,55.07,7.79,38.76,-5.66,-4.7,-55.42,44.56,49.97,-51.15,36.36,51.76,13.81,-12.59,-11.16,-4.34,-5.05,33.71,36.4,43.85,29.4,-15.61,-6.61,-3.72,49.89,-9.87,-9.28,14.67,36.13,24.56,33.9,19.93,-5.45,38.07,12.91,10.54,5.6,49.23,44.06,-3.49,43.76,-6.99,-4.05,-4.07,-4.89,-4.67,-6.48,5.71,52.92,49.41,-15.04,11.4,-6.52,53.38,-10.19,27.78,14.92,41.5,46.41,-33.89,-5.39,47.41,40.48,40.83,40.25,40.22,49.91,1.55,41.35,24.13,29.74,21.77,24.17,20.19,-22.59,-7.41,5.54,53.91,20.45,40.14,35.48,1.8,-8.69,55.79,18.23,73.38,3.73,33.51,36.52,18.12,24.08,24.02,-3.61,73.35,33.95,49.91,-8.12,1.09,1.16,49.89,40.35,-9.1,43.75,-7.49,-7.47,-40.45,41.8,-6.85,-6.61,-6.5,3.74,8.14,-7.63,-3.21,-2.38,-5.51,36.42,45.4,-2.83,36.47,29.28,36.48,34.57,-9.96,36.47,-6.6,49.86,-38.27,40.35,49.16,49.87,-18.95,-21.05,49.91,-6.79,-51.88,49.92,-10.83,-4.86,35.31,-6.1,49.85,28.11,-6.55,1.35,-0.07,32.39,27.47,-17.9,35.78,34.01,16.8,34.02,13.84,73.37,1.65,39.16,49.92,5.76,55.18,-18.85,-22.0,0.22,5.13,-7.97,-14.32,49.95,44.15,49.88,49.83,56.19,-36.67,0.2,24.11,-3.66,-0.95,-7.49,32.55,-46.01,49.87,-10.25,27.49,55.2,7.76,-6.61,44.38,40.32,-4.1,-35.63,-9.19,1.65,-5.16,15.32,49.88,-37.62,-5.59,-29.04,53.57,54.04,4.92,49.85,30.29,49.84,-4.44,-17.23,49.92,-6.24,36.21,36.19,7.46,16.93,11.15,54.15,37.77,39.49,39.36,-9.81,-6.76,40.32,37.65,46.29,-11.12,36.74,-9.57,7.73,27.94,-1.83,-14.03,-13.98,3.69,-14.06,-13.98,-35.1,-5.75,-5.53,-5.61,-21.37,-10.16,36.43,24.02],\"legendgroup\":\"label0\",\"lon\":[28.3,150.93,142.78,141.15,169.81,120.58,169.92,93.58,165.96,70.95,151.77,37.34,167.96,95.5,56.36,122.11,96.56,123.18,133.99,144.2,150.5,35.06,139.05,139.21,139.33,147.05,139.26,146.17,149.75,122.61,144.57,129.79,167.62,153.77,153.8,153.72,96.12,126.65,144.08,164.46,93.03,80.46,162.42,28.23,93.75,96.19,128.06,57.32,150.74,150.75,139.05,166.54,87.84,78.96,125.98,126.04,139.8,178.55,179.59,172.05,170.83,174.33,175.6,173.44,142.42,171.99,125.91,151.97,151.86,171.35,70.73,142.96,126.5,162.0,142.85,177.93,22.26,24.31,174.02,120.68,129.61,130.33,121.26,167.41,175.17,128.6,148.84,123.53,22.4,157.7,151.65,166.91,167.12,167.36,152.13,153.08,151.66,70.76,126.58,141.38,128.23,141.37,178.28,156.58,114.45,145.45,140.22,87.74,160.68,129.16,130.39,159.77,146.31,155.38,146.29,78.1,167.96,78.93,151.57,154.36,80.5,126.4,122.67,29.9,78.07,115.06,122.97,142.18,157.76,122.22,122.21,160.17,71.12,139.57,167.02,160.89,161.01,80.83,80.89,122.56,179.95,125.01,125.06,41.56,126.62,128.4,170.6,54.3,170.56,54.57,145.9,21.1,144.26,167.04,77.76,148.31,102.9,142.2,120.95,103.02,113.04,123.95,123.95,78.14,24.6,166.29,166.34,166.25,129.84,151.11,115.36,151.62,147.27,96.31,128.66,101.39,176.09,30.69,125.87,95.74,140.8,100.26,91.86,145.33,163.93,169.85,153.47,153.92,129.83,54.42,122.25,30.9,51.98,20.44,154.4,73.84,153.7,127.91,158.46,120.32,146.72,153.36,24.94,121.47,132.28,132.21,129.39,143.38,142.82,142.15,143.16,150.28,142.88,172.03,139.34,150.19,120.1,142.89,143.1,139.33,139.01,142.14,143.2,133.47,122.11,128.5,122.31,126.77,132.31,126.24,126.27,119.73,126.14,59.01,58.24,143.01,53.17,148.77,142.65,129.21,143.37,78.18,126.26,87.74,117.0,143.29,166.43,126.34,54.58,142.39,23.82,175.86,158.94,164.46,143.21,167.22,166.0,126.02,127.5,127.54,79.24,128.41,118.91,127.35,127.65,28.46,41.21,33.91,41.35,129.91,166.2,131.98,25.04,155.54,159.05,159.7,158.95,119.47,126.23,70.86,129.69,147.91,147.63,147.82,147.18,146.5,147.8,147.48,126.41,147.98,147.44,147.46,153.75,157.95,157.91,131.43,54.5,94.7,23.6,60.02,94.61,163.56,71.64,78.98,54.75,126.94,58.49,129.15,102.49,178.79,126.75,143.04,122.09,125.91,103.05,143.82,168.54,148.99,173.75,126.65,119.37,154.62,29.51,168.56,126.66,141.91,121.71,22.56,122.01,169.29,171.45,151.81,91.24,166.38,78.71,149.46,157.6,139.08,158.68,124.04,131.78,131.83,177.66,95.37,126.2,166.65,166.56,166.53,117.95,153.22,147.65,144.5,154.63,166.59,86.19,143.1,54.89,140.71,145.45,135.65,145.13,148.55,146.94,142.88,163.45,163.41,143.5,140.11,54.78,99.95,54.82,153.59,161.39,139.69,139.64,139.62,139.76,139.62,139.84,139.91,139.91,139.45,139.55,139.44,151.4,139.38,98.72,145.39,163.8,127.23,79.2,126.52,71.07,142.18,124.73,129.13,102.32,55.61,78.08,105.37,126.95,146.1,40.52,176.04,153.46,154.45,96.89,144.38,129.7,153.87,153.32,153.8,173.03,153.18,77.22,152.07,151.84,152.26,151.96,151.55,151.31,153.34,152.87,143.44,154.31,152.13,155.49,141.15,141.39,141.03,150.85,151.55,151.8,143.4,130.68,146.64,124.84,54.91,141.16,125.92,154.97,154.28,142.52,151.18,142.38,142.35,167.24,154.05,153.99,153.84,92.93,166.55,166.57,159.22,153.33,154.56,163.17,48.07,151.84,174.9,122.08,151.86,138.96,120.26,145.1,145.0,70.72,166.32,151.29,122.37,122.14,169.13,122.06,166.37,140.97,141.05,141.0,131.39,141.38,141.98,153.6,166.68,153.13,146.03,164.09,159.08,84.58,52.78,122.44,121.55,120.34,167.53,23.56,152.71,122.19,116.97,155.87,69.69,141.82,127.56,155.97,162.17,144.46,152.9,152.63,134.09,54.65,167.3,130.64,73.33,166.31,128.2,169.08,119.22,22.38,168.89,119.6,131.15,131.3,127.45,124.98,128.57,146.83,78.85,168.91,121.61,73.17,154.53,126.62,140.82,136.67,78.95,149.37,155.81,127.83,153.45,175.23,166.41,150.03,166.52,124.0,100.49,100.33,121.52,168.69,156.58,161.7,127.38,139.08,157.19,126.65,169.39,122.87,126.55,130.41,91.33,167.24,119.29,157.43,150.2,126.74,99.8,151.18,151.86,93.52,159.35,161.42,154.81,156.14,161.38,145.74,146.39,146.08,151.86,146.43,146.89,121.19,146.66,145.81,125.29,86.4,141.05,78.85,167.29,146.46,144.1,156.08,179.32,84.33,54.97,126.19,146.25,53.42,140.64,167.06,53.92,139.34,156.33,156.31,141.93,160.49,167.43,146.75,169.66,79.02,119.39,166.8,166.91,166.48,166.54,46.43,166.87,143.89,134.15,155.92,155.78,155.63,120.13,133.91,155.82,134.01,147.78,97.63,169.77,156.2,156.01,153.16,144.24,138.75,103.98,126.48,147.34,156.22,106.77,167.8,167.53,78.91,141.1,84.3,152.56,93.86,141.17,153.14,152.88,70.76,73.77,73.63,142.37,54.93,119.2,143.55,108.49,162.0,146.1,12.83,146.56,150.09,154.03,167.1,129.52,53.91,141.75,105.38,121.06,141.1,167.16,154.23,167.3,153.05,129.99,97.89,99.01,174.59,72.91,101.68,130.09,78.5,78.53,141.37,173.47,173.58,122.63,149.58,148.21,126.15,56.24,170.53,122.84,152.75,139.19,79.86,142.09,126.02,122.61,122.61,153.53,146.87,147.39,143.3,147.65,148.0,142.15,94.62,142.43,126.65,161.2,155.09,155.21,154.66,155.41,123.96,146.03,147.77,167.87,54.5,125.86,121.7,40.77,81.88,102.24,102.04,166.47,167.55,128.76,53.53,54.93,126.81,78.92,142.66,126.01,144.79,126.06,125.07,125.89,166.61,155.75,164.81,142.11,149.15,149.69,162.02,146.33,125.74,154.84,121.46,167.12,165.06,152.04,63.72,63.79,52.12,167.64,13.26,154.68,154.61,139.76,177.16,63.45,125.14,145.88,154.29,148.35,153.65,98.95,153.55,161.06,154.69,124.87,134.75,125.98,96.28,134.84,140.13,139.86,126.81,140.24,25.17,78.97,114.87,114.84,152.76,117.87,118.37,48.1,169.31,97.04,104.09,124.11,123.55,123.54,123.42,125.9,122.99,129.62,104.25,104.18,124.07,78.98,147.56,148.17,149.21,54.5,124.04,153.0,161.34,70.58,139.93,77.65,126.41,123.89,142.26,117.73,156.97,123.59,79.01,44.04,71.05,78.89,130.67,143.71,109.0,126.68,90.97,144.5,174.3,95.73,126.63,70.86,126.05,141.06,80.52,169.96,147.59,123.74,26.72,131.03,122.29,148.23,56.38,167.11,56.3,160.44,160.59,160.48,160.69,160.17,160.77,160.74,160.74,120.46,78.84,127.77,126.36,158.84,122.39,155.56,161.35,155.0,107.55,153.63,118.43,118.41,118.4,119.17,119.09,119.26,125.38,119.8,119.17,166.74,177.91,78.93,23.05,143.12,126.64,118.1,117.29,173.13,146.66,118.21,161.16,78.89,145.1,95.91,143.25,40.32,151.79,121.91,149.58,139.22,123.37,151.73,124.1,124.0,142.03,130.53,153.06,140.76,148.84,148.91,148.87,148.68,148.9,148.17,149.58,149.6,148.62,78.6,125.07,169.1,133.99,149.42,116.68,148.94,127.44,71.26,124.61,103.92,160.5,176.73,167.31,127.33,130.1,142.7,146.48,63.66,78.81,142.02,142.41,122.43,122.36,126.38,23.24,102.38,102.33,167.99,78.92,126.24,152.84,121.42,172.57,131.79,54.7,32.26,79.02,156.5,121.87,167.13,78.94,154.33,57.44,167.18,167.14,74.76,140.95,48.09,152.02,72.56,48.95,162.13,162.16,146.54,162.16,78.77,161.48,146.67,123.4,126.06,48.14,121.38,122.0,59.53,48.06,168.15,126.01,127.36,126.01,167.57,166.66,143.55,120.4,83.38,127.01,19.05,123.03,125.57,169.72,105.93,145.42,126.08,31.72,115.92,117.21,147.28,26.57,78.92,145.58,146.72,79.06,131.91,107.72,78.94,140.37,153.5,78.98,70.15,122.12,136.05,136.49,169.74,128.06,13.04,174.0,76.96,168.71,119.57,94.2,106.1,165.91,136.59,177.12,54.73,115.83,126.0,161.35,161.75,48.11,79.07,136.61,166.7,108.18,159.26,166.69,102.0,59.81,179.99,134.17,125.33,59.8,78.84,59.92,140.94,102.58,78.8,126.86,126.02,126.13,156.24,158.78,153.17,76.86,149.55,161.66,146.59,146.88,146.9,150.12,150.01,126.9,171.42,121.94,126.27,164.22,108.79,173.62,140.42,167.93,154.56,154.43,128.58,152.19,126.6,151.71,139.29,125.77,166.37,22.91,143.53,166.5,169.61,166.34,81.09,78.86,140.15,142.33,167.31,154.81,103.12,79.1,145.54,154.85,170.09,170.39,125.5,169.55,28.98,88.8,15.33,78.97,169.87,140.85,178.2,79.03,151.47,128.1,142.91,142.75,139.28,142.71,142.15,142.87,60.83,176.15,162.41,149.38,174.76,148.77,22.97,166.5,23.26,146.76,128.01,152.24,119.13,142.28,78.9,166.44,149.94,71.15,139.2,154.74,126.98,164.7,167.28,151.47,164.63,148.92,57.72,171.65,167.48,57.77,169.66,151.75,139.18,170.9,157.37,151.52,147.04,169.61,141.78,73.6,78.98,130.72,170.48,54.55,160.4,146.2,159.34,154.88,66.3,162.06,142.33,129.06,78.89,143.86,22.83,120.86,146.2,179.81,152.03,125.92,154.92,25.25,78.86,139.79,142.74,166.67,177.55,124.32,124.37,152.21,152.21,24.39,82.28,166.01,141.17,143.59,118.35,142.46,147.65,123.31,120.54,120.49,78.92,123.28,168.2,177.4,154.93,165.4,135.76,142.22,150.99,103.04,160.23,151.03,78.86,160.64,141.63,176.08,146.36,166.11,115.42,153.12,143.96,22.94,141.44,148.32,140.43,168.01,101.7,140.0,78.86,161.18,158.21,44.23,68.98,122.53,139.45,121.34,147.05,20.25,93.59,140.96,126.3,155.56,148.09,177.64,147.45,147.39,127.9,127.9,153.57,153.25,154.64,94.72,159.81,155.58,167.28,57.52,154.94,160.3,110.84,62.07,99.05,143.84,153.39,179.52,150.94,152.26,139.09,139.33,139.01,139.04,78.97,127.32,139.1,122.39,129.38,103.31,122.39,122.41,171.02,27.88,126.47,158.36,122.14,24.75,139.05,127.28,111.17,161.33,120.8,54.87,126.64,131.51,71.1,145.83,122.16,122.26,151.2,54.38,139.51,78.83,156.35,121.0,120.89,78.9,42.18,119.09,148.35,130.59,128.2,155.57,142.77,72.04,71.41,71.4,148.97,137.21,127.34,145.43,145.06,151.91,70.75,151.31,118.76,141.24,130.44,71.05,70.47,160.5,70.86,130.15,78.81,177.22,63.36,155.31,78.97,168.89,168.71,78.91,71.48,161.08,79.03,164.23,151.55,23.29,154.44,78.92,129.52,154.98,126.4,122.52,131.96,128.58,172.12,137.49,141.64,147.17,141.66,145.38,54.84,126.32,71.35,78.83,125.61,163.57,67.33,170.91,98.05,125.17,102.27,171.29,79.03,148.2,78.82,78.71,163.31,177.64,123.63,122.48,141.74,128.47,130.18,131.19,165.16,78.84,161.11,128.48,161.95,123.52,105.4,146.71,140.38,136.28,179.01,114.26,126.5,130.45,120.63,78.96,179.46,151.07,77.78,160.53,160.93,127.53,78.87,132.72,78.69,152.81,167.83,78.8,148.74,70.9,70.81,123.47,120.19,140.23,168.69,141.77,75.27,75.44,159.85,107.04,69.82,136.9,146.27,125.15,54.81,150.97,137.02,140.61,134.84,166.22,166.19,126.65,166.23,166.51,54.26,104.18,150.69,131.43,170.31,161.01,140.98,122.23],\"marker\":{\"color\":\"#636efa\",\"symbol\":\"circle\"},\"mode\":\"markers\",\"name\":\"label0\",\"showlegend\":true,\"type\":\"scattergeo\"},{\"geo\":\"geo\",\"hovertemplate\":\"color=label2<br>Latitude=%{lat}<br>Longitude=%{lon}<extra></extra>\",\"lat\":[-16.31,55.72,55.75,36.23,59.79,57.2,58.26,58.83,56.42,57.17,60.05,56.45,60.36,60.51,59.79,56.65,61.62,60.11,56.85,56.3,60.25,56.6,61.51,-56.45,-56.09,-56.17,18.31,-27.82,-41.13,-26.37,-31.4,19.8,-20.46,-20.45,-56.46,53.14,53.26,-25.67,-31.81,-32.42,64.69,54.25,47.41,-55.99,-56.24,15.93,-54.59,53.03,51.11,-7.31,-0.47,-18.84,-22.91,16.33,58.29,6.51,-1.4,-54.74,-42.9,-22.34,-29.34,31.0,51.32,17.35,58.35,57.37,-23.4,50.57,-60.33,-60.44,-10.74,-1.52,-31.95,-25.51,-15.16,-14.83,52.4,24.0,2.93,-23.79,-0.16,-40.12,51.47,-20.25,-15.33,-58.36,52.76,-25.18,54.44,52.58,6.84,-60.84,-10.59,-57.82,19.5,11.91,-28.78,-21.89,17.42,17.61,-21.29,-22.46,-16.13,33.22,58.69,43.58,-30.86,-30.84,5.64,-5.55,-5.51,-30.97,-6.86,16.56,-8.62,10.76,15.54,-30.52,-13.1,-56.27,65.46,9.57,60.15,-56.03,-56.81,-17.15,-8.07,35.97,-30.5,-16.71,51.29,53.31,51.46,-17.3,-11.84,25.12,51.27,15.3,-60.9,-11.75,51.31,34.77,-16.11,51.26,34.72,15.79,16.08,-25.85,7.03,15.57,-9.84,50.13,52.59,57.39,-29.6,14.65,14.61,-55.92,-9.15,-9.93,-9.28,-10.22,-9.88,-24.47,-51.94,-16.0,-22.28,-10.14,18.0,51.35,-60.63,60.7,-56.46,6.37,6.52,-31.94,-32.0,-20.94,-23.19,-30.81,-3.97,51.46,51.47,-63.43,34.4,-23.81,-22.96,70.97,60.33,53.26,51.41,-42.28,-39.78,18.02,-25.4,-32.51,-32.19,-2.79,-0.85,13.3,-55.73,-20.41,-0.45,-55.19,-29.86,-30.65,-55.72,-15.36,-17.62,-60.59,-18.94,-28.25,-6.79,51.27,56.14,-16.05,0.99,53.95,-31.4,5.22,-17.76,-30.34,53.25,50.1,56.77,-16.66,51.34,-33.49,71.42,-15.35,15.23,19.55,-30.91,-16.47,52.89,-30.51,18.53,-22.53,-61.1,4.7,4.96,-59.38,20.05,53.97,51.27,44.98,57.86,57.99,-16.22,57.09,18.25,-0.15,-7.02,-4.4,-4.37,-32.98,-61.05,0.52,19.42,-25.98,51.52,-31.2,-35.59,51.38,-20.61,-22.49,-12.28,53.74,9.51,-14.91,57.56,55.15,55.05,-26.28,-33.49,-4.3,-11.17,-15.89,-56.03,-29.22,-29.37,7.76,7.74,-38.34,-12.24,17.37,-12.44,-15.91,-53.59,-7.65,61.92,-17.86,7.18,51.32,-29.89,-4.26,42.04,-14.79,71.49,-36.41,16.47,-38.03,35.98,53.48,-22.73,7.05,-20.45,-9.49,0.91,-24.91,-24.2,-22.91,7.55,-57.78,19.46,-14.92,-11.54,-16.22,-56.8,-28.78,-13.31,66.25,-29.48,-29.02,-29.64,-30.01,-32.67,-32.65,-28.65,-29.35,17.15,15.28,-57.39,-39.93,-29.92,-30.6,3.96,0.85,-29.93,-32.63,-11.62,4.49,-31.3,-10.51,-41.5,17.45,-33.78,-50.01,7.48,7.41,-30.32,-34.28,-30.48,41.33,-20.57,48.84,-24.93,-66.49,-60.96,-21.89,-16.79,-14.02,-22.91,22.68,-56.17,-33.79,-15.29,-56.11,-17.58,-59.54,-25.87,-15.78,-31.04,-31.02,-21.86,-31.37,-31.44,-31.24,-15.37,-31.25,-34.29,-26.0,-30.63,-26.6,-22.91,29.68,-27.97,10.06,56.52,51.24,-17.06,-15.27,52.26,-14.95,-26.52,-59.8,-30.62,-30.57,16.07,-21.85,-30.02,17.53,54.8,-16.52,60.73,17.76,18.02,-22.95,56.65,-15.44,52.68,-24.6,8.14,-56.02,17.04,-19.86,7.11,-32.16,-21.86,-22.86,8.95,10.72,53.97,-60.57,17.89,-23.61,-31.34,4.81,-18.93,1.62,-4.69,38.75,51.31,-17.62,52.94,52.78,23.86,-23.53,37.59,-19.42,-18.61,-15.25,-30.18,-58.07,-29.32,-29.0,-21.86,15.93,-15.22,36.16,36.25,18.22,41.15,19.57,-19.44,-21.35,-17.59,49.44,-21.25,-61.11,3.93,18.82,-19.52,-1.96,-36.0,-22.89,-15.08,24.84,18.34,-30.18,-29.41,-4.76,-33.82,-33.15,18.18,-31.38,43.56,-20.01,-32.17,-56.4,-30.01,-30.03,-23.1,46.99,13.15,53.26,16.73,-22.69,-25.19,-56.05,-18.54,-52.89,-31.55,-12.74,-15.86,-28.21,-60.75,-41.41,-18.11,51.57,16.51,16.58,-17.61,13.29,51.39,6.75,-2.71,-15.36,-25.55,-14.53,-24.39,-1.73,-10.61,-24.15,-57.44,-15.43,-57.98,16.14,-30.44,-29.69,55.03,54.99,-18.65,-21.59,8.8,10.43,-4.84,-24.01,36.24,-21.85,-16.96,51.42,60.22,-60.91,61.04,36.21,-20.13,-16.68,-17.44,60.97,-16.64,-26.55,-26.16,-23.74,-20.57,37.59,-60.75,-60.46,-60.69,44.1,-4.0,19.5,0.48,14.07,-15.37,-33.09,11.85,-3.88,-3.92,-17.32,17.38,-15.88,-30.68,-15.83,-15.66,-58.47,18.02,16.82,-56.44,50.33,-33.28,40.39,-25.88,-31.6,15.05,-15.75,-24.05,-17.15,8.16,-30.9,-8.16,20.33,-1.39,10.21,-33.07,-17.54,-20.54,-33.14,-32.95,-33.24,-33.76,66.22,43.5,16.98,-32.68,-33.15,-34.14,-32.64,-34.0,-39.71,-15.3,0.97,-29.7,-60.3,-9.16,-15.35,17.98,18.54,17.81,-34.61,-22.08,62.22,54.73,-21.55,-31.37,53.21,-35.21,-21.86,11.71,-30.67,62.19,51.54],\"legendgroup\":\"label2\",\"lon\":[-71.66,-155.95,-155.88,-7.61,-149.3,-153.0,-151.25,-149.29,-152.01,-152.45,-148.39,-153.94,-146.61,-146.7,-148.67,-152.82,-147.39,-146.71,-152.69,-154.4,-146.71,-152.21,-147.2,-27.7,-27.55,-27.66,-100.5,-71.1,-74.99,-71.78,-110.84,-56.11,-173.89,-174.04,-27.05,-161.85,-161.74,-70.63,-71.26,-71.1,-160.23,-162.51,-122.29,-27.62,-27.9,-46.69,5.4,-167.55,-171.3,-81.27,-19.93,-68.75,-176.05,-95.8,-152.5,-84.44,-77.7,-38.3,-75.13,-113.98,-68.09,-41.53,-179.67,-100.04,-153.13,-152.27,-174.72,-171.22,-27.25,-26.44,-78.63,-15.37,-68.4,-70.74,-173.64,-178.75,-169.54,-65.7,-74.83,-175.14,-78.6,-74.68,-178.32,-68.83,-173.48,-26.83,-166.9,-70.54,-157.94,-168.13,-73.09,-24.33,-79.67,-23.54,-60.0,-85.98,-71.19,-70.07,-61.19,-61.26,-68.2,-174.61,-173.95,-116.19,-149.93,-127.89,-178.21,-178.2,-82.6,-77.2,-77.3,-178.13,-80.42,-97.79,-74.55,-62.7,-92.65,-178.01,-76.37,-27.07,-150.07,-72.63,-152.82,-27.57,-26.93,-171.57,-80.09,-10.58,-71.38,-174.66,-179.85,-162.41,-179.95,-72.48,-75.1,-109.55,-179.17,-45.78,-55.9,-75.15,-179.23,-121.35,-173.87,-178.95,-121.28,-59.64,-59.79,-177.29,-104.24,-99.48,-75.55,-179.59,-175.04,-153.97,-69.42,-92.59,-93.29,-28.07,-78.83,-78.46,-79.05,-78.69,-78.69,-68.46,-74.14,-71.88,-70.55,-78.6,-64.67,-178.51,-25.27,-145.38,-142.61,-77.48,-77.4,-177.89,-178.1,-69.81,-70.11,-71.16,-80.66,-177.71,-176.81,-61.36,-118.43,-67.2,-176.14,-6.86,-140.94,-170.53,-177.21,-71.79,-104.87,-69.79,-69.06,-71.21,-71.72,-77.35,-22.07,-92.41,-26.04,-174.17,-4.89,-128.87,-69.5,-177.82,-28.75,-173.3,-71.27,-25.5,-173.72,-178.27,-76.76,-179.21,-157.14,-173.0,-28.3,-166.82,-110.99,-100.32,-175.06,-71.58,-166.78,-129.3,-135.91,-172.01,-179.29,-179.4,-10.39,-175.6,-96.26,-70.22,-68.21,-172.17,-162.98,-71.08,-102.93,-66.19,-38.01,-75.67,-78.12,-26.12,-155.16,-163.71,-179.38,-125.87,-137.42,-138.04,-173.08,-154.12,-96.58,-17.97,-76.19,-102.1,-102.04,-71.87,-21.7,-29.47,-104.98,-67.72,-175.27,-179.47,-74.54,-177.85,-176.32,-68.26,-76.3,-164.7,-83.95,-172.83,-153.92,-160.57,-160.51,-175.78,-177.31,-102.07,-75.01,-175.04,-27.47,-175.94,-176.13,-77.57,-77.54,-73.27,-77.58,-61.99,-77.46,-178.47,-28.26,-74.46,-149.72,-174.57,-77.76,-179.44,-71.4,-77.01,-112.41,-72.66,-10.36,-98.82,-98.86,-72.78,-17.56,-161.39,-66.62,-104.18,-173.96,-74.65,-26.71,-175.16,-175.1,-70.48,-77.5,-25.52,-155.14,-172.88,-74.52,-172.47,-68.42,-177.39,-74.94,-16.54,-177.57,-177.42,-176.76,-176.85,-178.21,-177.81,-177.38,-177.29,-100.23,-89.19,-64.46,-74.89,-177.8,-178.21,-85.88,-79.63,-177.62,-178.19,-74.45,-75.77,-177.67,-78.3,-75.34,-100.65,-177.83,-115.1,-78.28,-78.05,-177.87,-176.53,-177.42,-125.66,-68.93,-129.13,-68.68,-82.45,-22.96,-138.96,-172.02,-14.49,-175.74,-45.11,-27.7,-179.58,-173.07,-27.83,-174.39,-20.59,-175.37,-173.01,-67.76,-67.51,-138.94,-67.79,-67.44,-67.9,-71.71,-68.0,-70.38,-177.24,-177.6,-114.59,-175.3,-67.45,-70.3,-77.89,-152.61,-179.25,-172.28,-175.45,-168.84,-175.81,-70.66,-26.33,-178.07,-178.06,-96.55,-139.0,-177.47,-100.79,-161.29,-72.6,-141.55,-101.3,-69.03,-69.09,-156.72,-70.05,-166.97,-70.18,-38.12,-27.98,-94.61,-173.04,-82.31,-71.4,-139.0,-177.47,-83.49,-41.68,-165.22,-50.35,-68.61,-174.85,-178.72,-76.2,-176.52,-79.34,-105.74,-27.75,-178.5,-171.16,-167.7,-167.8,-45.57,-177.27,-118.8,-69.33,-174.7,-173.53,-177.91,-10.68,-177.24,-69.69,-139.0,-88.52,-173.52,1.4,1.61,-98.2,-124.3,-69.58,-175.83,-68.1,-172.31,-129.57,-174.41,-55.54,-85.88,-103.95,-69.01,-80.99,-17.08,-175.82,-173.12,-46.29,-68.86,-177.96,-179.03,-112.01,-179.44,-73.1,-102.01,-110.79,-127.7,-174.23,-71.43,-26.54,-177.63,-177.73,-177.27,-66.65,-87.56,-165.65,-61.44,-66.62,-175.55,-27.37,-175.12,-46.98,-178.6,-76.04,-172.97,-114.06,-20.95,-74.97,-172.51,-177.37,-98.25,-98.34,-174.45,-89.39,-179.94,-82.72,-79.88,-173.09,-176.24,-70.8,-176.65,-76.73,-74.69,-175.97,-25.77,-173.3,-24.35,-95.25,-179.3,-177.73,-159.19,-159.24,-69.38,-175.32,-83.11,-62.71,-78.09,-175.9,-120.27,-138.94,-174.61,-174.11,-141.27,-53.1,-147.37,-120.36,-126.94,-172.05,-69.96,-147.47,-177.38,-70.62,-70.59,-70.23,-173.84,-17.41,-25.6,-24.91,-25.41,-113.81,-79.4,-155.44,-79.79,-91.95,-173.03,-70.15,-13.51,-78.47,-81.41,-70.53,-59.63,-174.35,-71.2,-174.8,-72.45,-15.97,-69.3,-98.46,-27.43,-176.86,-179.28,-126.8,-175.9,-110.85,-94.28,-173.65,-66.84,-174.07,-38.77,-13.53,-76.12,-115.79,-15.02,-80.03,-68.58,-174.44,-174.0,-71.84,-71.6,-71.78,-71.19,-149.98,-127.62,-62.46,-71.63,-71.69,-72.1,-71.67,-71.45,-75.7,-173.47,-28.44,-177.78,-27.0,-78.88,-173.54,-97.16,-102.32,-101.69,-178.57,-174.6,-124.27,-159.65,-176.39,-68.61,-166.92,-179.32,-138.92,-85.86,-178.03,-124.27,-173.11],\"marker\":{\"color\":\"#EF553B\",\"symbol\":\"circle\"},\"mode\":\"markers\",\"name\":\"label2\",\"showlegend\":true,\"type\":\"scattergeo\"},{\"geo\":\"geo\",\"hovertemplate\":\"color=label1<br>Latitude=%{lat}<br>Longitude=%{lon}<extra></extra>\",\"lat\":[-6.44,-5.48,-7.17,-4.34,-27.46,-5.74,-9.04,-21.08,-7.21,-26.06,-9.05,-6.01,35.43,-27.62,-21.1,-6.1,-6.59,-6.84,-10.2,-21.57,26.29,-14.2,-21.87,-22.75,-6.76,-5.71,21.57,46.21,27.22,-21.66,-1.46,52.36,51.69,-23.45,-25.69,-7.47,-5.13,-17.82,-27.74,3.86,49.47,7.46,28.22,-24.83,-31.38,42.48,9.23,41.93,-21.95,-23.88,33.17,-23.93,-31.55,-31.88,-30.54,-17.97,30.71,-24.98,-17.84,-32.36,-31.79,-20.61,38.78,-18.39,-33.02,51.93,-7.46,47.31,-19.5,-31.95,28.04,-24.66,41.66,-27.96,-4.94,-4.88,31.93,31.99,48.27,-7.08,5.66,-20.82,24.13,41.85,18.49,-4.63,-17.89,-27.28,-23.7,16.57,-20.7,-20.81,18.0,-7.33,27.9,-23.45,-7.17,8.73,-9.52,-23.98,-28.14,-27.97,33.62,-23.68,49.05,8.17,29.35,50.06,47.44,30.89,-5.76,-18.7,-17.74,28.27,-9.21,-21.0,-7.08,26.96,27.87],\"legendgroup\":\"label1\",\"lon\":[127.96,154.25,123.86,122.14,-63.23,128.63,-71.32,-179.15,124.69,-63.1,-71.34,112.33,135.49,-63.15,-179.18,113.36,116.18,118.91,159.9,-179.35,140.7,172.02,-179.54,178.76,126.74,125.42,143.1,142.45,140.29,-179.42,-72.56,151.64,150.97,-179.88,179.58,125.56,154.23,-178.79,-178.99,124.26,147.08,123.77,139.3,-179.19,-179.38,131.05,123.92,130.99,-63.65,180.0,136.98,179.88,179.79,179.94,-178.03,-178.49,138.44,-178.88,-178.53,179.88,-179.51,-179.14,130.09,-177.88,-179.96,151.57,119.89,145.75,-177.7,179.18,139.67,-63.39,131.05,-62.82,125.25,125.35,137.62,137.61,148.66,117.95,123.59,-178.67,142.41,130.87,145.39,154.89,-178.6,-63.27,179.99,145.48,-178.65,-178.87,145.67,126.08,137.04,-179.87,125.81,124.03,-71.22,-179.8,-63.15,-62.9,136.8,-178.3,146.63,123.77,138.92,148.77,146.73,138.48,111.29,-178.04,-178.05,139.55,-71.22,-178.99,124.28,140.48,139.51],\"marker\":{\"color\":\"#00cc96\",\"symbol\":\"circle\"},\"mode\":\"markers\",\"name\":\"label1\",\"showlegend\":true,\"type\":\"scattergeo\"}],                        {\"template\":{\"data\":{\"histogram2dcontour\":[{\"type\":\"histogram2dcontour\",\"colorbar\":{\"outlinewidth\":0,\"ticks\":\"\"},\"colorscale\":[[0.0,\"#0d0887\"],[0.1111111111111111,\"#46039f\"],[0.2222222222222222,\"#7201a8\"],[0.3333333333333333,\"#9c179e\"],[0.4444444444444444,\"#bd3786\"],[0.5555555555555556,\"#d8576b\"],[0.6666666666666666,\"#ed7953\"],[0.7777777777777778,\"#fb9f3a\"],[0.8888888888888888,\"#fdca26\"],[1.0,\"#f0f921\"]]}],\"choropleth\":[{\"type\":\"choropleth\",\"colorbar\":{\"outlinewidth\":0,\"ticks\":\"\"}}],\"histogram2d\":[{\"type\":\"histogram2d\",\"colorbar\":{\"outlinewidth\":0,\"ticks\":\"\"},\"colorscale\":[[0.0,\"#0d0887\"],[0.1111111111111111,\"#46039f\"],[0.2222222222222222,\"#7201a8\"],[0.3333333333333333,\"#9c179e\"],[0.4444444444444444,\"#bd3786\"],[0.5555555555555556,\"#d8576b\"],[0.6666666666666666,\"#ed7953\"],[0.7777777777777778,\"#fb9f3a\"],[0.8888888888888888,\"#fdca26\"],[1.0,\"#f0f921\"]]}],\"heatmap\":[{\"type\":\"heatmap\",\"colorbar\":{\"outlinewidth\":0,\"ticks\":\"\"},\"colorscale\":[[0.0,\"#0d0887\"],[0.1111111111111111,\"#46039f\"],[0.2222222222222222,\"#7201a8\"],[0.3333333333333333,\"#9c179e\"],[0.4444444444444444,\"#bd3786\"],[0.5555555555555556,\"#d8576b\"],[0.6666666666666666,\"#ed7953\"],[0.7777777777777778,\"#fb9f3a\"],[0.8888888888888888,\"#fdca26\"],[1.0,\"#f0f921\"]]}],\"heatmapgl\":[{\"type\":\"heatmapgl\",\"colorbar\":{\"outlinewidth\":0,\"ticks\":\"\"},\"colorscale\":[[0.0,\"#0d0887\"],[0.1111111111111111,\"#46039f\"],[0.2222222222222222,\"#7201a8\"],[0.3333333333333333,\"#9c179e\"],[0.4444444444444444,\"#bd3786\"],[0.5555555555555556,\"#d8576b\"],[0.6666666666666666,\"#ed7953\"],[0.7777777777777778,\"#fb9f3a\"],[0.8888888888888888,\"#fdca26\"],[1.0,\"#f0f921\"]]}],\"contourcarpet\":[{\"type\":\"contourcarpet\",\"colorbar\":{\"outlinewidth\":0,\"ticks\":\"\"}}],\"contour\":[{\"type\":\"contour\",\"colorbar\":{\"outlinewidth\":0,\"ticks\":\"\"},\"colorscale\":[[0.0,\"#0d0887\"],[0.1111111111111111,\"#46039f\"],[0.2222222222222222,\"#7201a8\"],[0.3333333333333333,\"#9c179e\"],[0.4444444444444444,\"#bd3786\"],[0.5555555555555556,\"#d8576b\"],[0.6666666666666666,\"#ed7953\"],[0.7777777777777778,\"#fb9f3a\"],[0.8888888888888888,\"#fdca26\"],[1.0,\"#f0f921\"]]}],\"surface\":[{\"type\":\"surface\",\"colorbar\":{\"outlinewidth\":0,\"ticks\":\"\"},\"colorscale\":[[0.0,\"#0d0887\"],[0.1111111111111111,\"#46039f\"],[0.2222222222222222,\"#7201a8\"],[0.3333333333333333,\"#9c179e\"],[0.4444444444444444,\"#bd3786\"],[0.5555555555555556,\"#d8576b\"],[0.6666666666666666,\"#ed7953\"],[0.7777777777777778,\"#fb9f3a\"],[0.8888888888888888,\"#fdca26\"],[1.0,\"#f0f921\"]]}],\"mesh3d\":[{\"type\":\"mesh3d\",\"colorbar\":{\"outlinewidth\":0,\"ticks\":\"\"}}],\"scatter\":[{\"fillpattern\":{\"fillmode\":\"overlay\",\"size\":10,\"solidity\":0.2},\"type\":\"scatter\"}],\"parcoords\":[{\"type\":\"parcoords\",\"line\":{\"colorbar\":{\"outlinewidth\":0,\"ticks\":\"\"}}}],\"scatterpolargl\":[{\"type\":\"scatterpolargl\",\"marker\":{\"colorbar\":{\"outlinewidth\":0,\"ticks\":\"\"}}}],\"bar\":[{\"error_x\":{\"color\":\"#2a3f5f\"},\"error_y\":{\"color\":\"#2a3f5f\"},\"marker\":{\"line\":{\"color\":\"#E5ECF6\",\"width\":0.5},\"pattern\":{\"fillmode\":\"overlay\",\"size\":10,\"solidity\":0.2}},\"type\":\"bar\"}],\"scattergeo\":[{\"type\":\"scattergeo\",\"marker\":{\"colorbar\":{\"outlinewidth\":0,\"ticks\":\"\"}}}],\"scatterpolar\":[{\"type\":\"scatterpolar\",\"marker\":{\"colorbar\":{\"outlinewidth\":0,\"ticks\":\"\"}}}],\"histogram\":[{\"marker\":{\"pattern\":{\"fillmode\":\"overlay\",\"size\":10,\"solidity\":0.2}},\"type\":\"histogram\"}],\"scattergl\":[{\"type\":\"scattergl\",\"marker\":{\"colorbar\":{\"outlinewidth\":0,\"ticks\":\"\"}}}],\"scatter3d\":[{\"type\":\"scatter3d\",\"line\":{\"colorbar\":{\"outlinewidth\":0,\"ticks\":\"\"}},\"marker\":{\"colorbar\":{\"outlinewidth\":0,\"ticks\":\"\"}}}],\"scattermapbox\":[{\"type\":\"scattermapbox\",\"marker\":{\"colorbar\":{\"outlinewidth\":0,\"ticks\":\"\"}}}],\"scatterternary\":[{\"type\":\"scatterternary\",\"marker\":{\"colorbar\":{\"outlinewidth\":0,\"ticks\":\"\"}}}],\"scattercarpet\":[{\"type\":\"scattercarpet\",\"marker\":{\"colorbar\":{\"outlinewidth\":0,\"ticks\":\"\"}}}],\"carpet\":[{\"aaxis\":{\"endlinecolor\":\"#2a3f5f\",\"gridcolor\":\"white\",\"linecolor\":\"white\",\"minorgridcolor\":\"white\",\"startlinecolor\":\"#2a3f5f\"},\"baxis\":{\"endlinecolor\":\"#2a3f5f\",\"gridcolor\":\"white\",\"linecolor\":\"white\",\"minorgridcolor\":\"white\",\"startlinecolor\":\"#2a3f5f\"},\"type\":\"carpet\"}],\"table\":[{\"cells\":{\"fill\":{\"color\":\"#EBF0F8\"},\"line\":{\"color\":\"white\"}},\"header\":{\"fill\":{\"color\":\"#C8D4E3\"},\"line\":{\"color\":\"white\"}},\"type\":\"table\"}],\"barpolar\":[{\"marker\":{\"line\":{\"color\":\"#E5ECF6\",\"width\":0.5},\"pattern\":{\"fillmode\":\"overlay\",\"size\":10,\"solidity\":0.2}},\"type\":\"barpolar\"}],\"pie\":[{\"automargin\":true,\"type\":\"pie\"}]},\"layout\":{\"autotypenumbers\":\"strict\",\"colorway\":[\"#636efa\",\"#EF553B\",\"#00cc96\",\"#ab63fa\",\"#FFA15A\",\"#19d3f3\",\"#FF6692\",\"#B6E880\",\"#FF97FF\",\"#FECB52\"],\"font\":{\"color\":\"#2a3f5f\"},\"hovermode\":\"closest\",\"hoverlabel\":{\"align\":\"left\"},\"paper_bgcolor\":\"white\",\"plot_bgcolor\":\"#E5ECF6\",\"polar\":{\"bgcolor\":\"#E5ECF6\",\"angularaxis\":{\"gridcolor\":\"white\",\"linecolor\":\"white\",\"ticks\":\"\"},\"radialaxis\":{\"gridcolor\":\"white\",\"linecolor\":\"white\",\"ticks\":\"\"}},\"ternary\":{\"bgcolor\":\"#E5ECF6\",\"aaxis\":{\"gridcolor\":\"white\",\"linecolor\":\"white\",\"ticks\":\"\"},\"baxis\":{\"gridcolor\":\"white\",\"linecolor\":\"white\",\"ticks\":\"\"},\"caxis\":{\"gridcolor\":\"white\",\"linecolor\":\"white\",\"ticks\":\"\"}},\"coloraxis\":{\"colorbar\":{\"outlinewidth\":0,\"ticks\":\"\"}},\"colorscale\":{\"sequential\":[[0.0,\"#0d0887\"],[0.1111111111111111,\"#46039f\"],[0.2222222222222222,\"#7201a8\"],[0.3333333333333333,\"#9c179e\"],[0.4444444444444444,\"#bd3786\"],[0.5555555555555556,\"#d8576b\"],[0.6666666666666666,\"#ed7953\"],[0.7777777777777778,\"#fb9f3a\"],[0.8888888888888888,\"#fdca26\"],[1.0,\"#f0f921\"]],\"sequentialminus\":[[0.0,\"#0d0887\"],[0.1111111111111111,\"#46039f\"],[0.2222222222222222,\"#7201a8\"],[0.3333333333333333,\"#9c179e\"],[0.4444444444444444,\"#bd3786\"],[0.5555555555555556,\"#d8576b\"],[0.6666666666666666,\"#ed7953\"],[0.7777777777777778,\"#fb9f3a\"],[0.8888888888888888,\"#fdca26\"],[1.0,\"#f0f921\"]],\"diverging\":[[0,\"#8e0152\"],[0.1,\"#c51b7d\"],[0.2,\"#de77ae\"],[0.3,\"#f1b6da\"],[0.4,\"#fde0ef\"],[0.5,\"#f7f7f7\"],[0.6,\"#e6f5d0\"],[0.7,\"#b8e186\"],[0.8,\"#7fbc41\"],[0.9,\"#4d9221\"],[1,\"#276419\"]]},\"xaxis\":{\"gridcolor\":\"white\",\"linecolor\":\"white\",\"ticks\":\"\",\"title\":{\"standoff\":15},\"zerolinecolor\":\"white\",\"automargin\":true,\"zerolinewidth\":2},\"yaxis\":{\"gridcolor\":\"white\",\"linecolor\":\"white\",\"ticks\":\"\",\"title\":{\"standoff\":15},\"zerolinecolor\":\"white\",\"automargin\":true,\"zerolinewidth\":2},\"scene\":{\"xaxis\":{\"backgroundcolor\":\"#E5ECF6\",\"gridcolor\":\"white\",\"linecolor\":\"white\",\"showbackground\":true,\"ticks\":\"\",\"zerolinecolor\":\"white\",\"gridwidth\":2},\"yaxis\":{\"backgroundcolor\":\"#E5ECF6\",\"gridcolor\":\"white\",\"linecolor\":\"white\",\"showbackground\":true,\"ticks\":\"\",\"zerolinecolor\":\"white\",\"gridwidth\":2},\"zaxis\":{\"backgroundcolor\":\"#E5ECF6\",\"gridcolor\":\"white\",\"linecolor\":\"white\",\"showbackground\":true,\"ticks\":\"\",\"zerolinecolor\":\"white\",\"gridwidth\":2}},\"shapedefaults\":{\"line\":{\"color\":\"#2a3f5f\"}},\"annotationdefaults\":{\"arrowcolor\":\"#2a3f5f\",\"arrowhead\":0,\"arrowwidth\":1},\"geo\":{\"bgcolor\":\"white\",\"landcolor\":\"#E5ECF6\",\"subunitcolor\":\"white\",\"showland\":true,\"showlakes\":true,\"lakecolor\":\"white\"},\"title\":{\"x\":0.05},\"mapbox\":{\"style\":\"light\"}}},\"geo\":{\"domain\":{\"x\":[0.0,1.0],\"y\":[0.0,1.0]},\"center\":{}},\"legend\":{\"title\":{\"text\":\"color\"},\"tracegroupgap\":0},\"margin\":{\"t\":60},\"height\":768,\"width\":1366,\"title\":{\"text\":\"Earthquakes with Kmeans clusterization\"}},                        {\"responsive\": true}                    ).then(function(){\n",
              "                            \n",
              "var gd = document.getElementById('673dd0c0-4c0c-4981-b6f7-db9aaf837c13');\n",
              "var x = new MutationObserver(function (mutations, observer) {{\n",
              "        var display = window.getComputedStyle(gd).display;\n",
              "        if (!display || display === 'none') {{\n",
              "            console.log([gd, 'removed!']);\n",
              "            Plotly.purge(gd);\n",
              "            observer.disconnect();\n",
              "        }}\n",
              "}});\n",
              "\n",
              "// Listen for the removal of the full notebook cells\n",
              "var notebookContainer = gd.closest('#notebook-container');\n",
              "if (notebookContainer) {{\n",
              "    x.observe(notebookContainer, {childList: true});\n",
              "}}\n",
              "\n",
              "// Listen for the clearing of the current output cell\n",
              "var outputEl = gd.closest('.output');\n",
              "if (outputEl) {{\n",
              "    x.observe(outputEl, {childList: true});\n",
              "}}\n",
              "\n",
              "                        })                };                            </script>        </div>\n",
              "</body>\n",
              "</html>"
            ]
          },
          "metadata": {}
        }
      ]
    },
    {
      "cell_type": "code",
      "source": [
        "df.columns"
      ],
      "metadata": {
        "id": "devWGTnRAKuI",
        "colab": {
          "base_uri": "https://localhost:8080/"
        },
        "outputId": "548a2b69-40c0-4f88-b0ad-2f7ce9827d67"
      },
      "execution_count": null,
      "outputs": [
        {
          "output_type": "execute_result",
          "data": {
            "text/plain": [
              "Index(['Focal depth', 'Latitude', 'Longitude', 'Richter'], dtype='object')"
            ]
          },
          "metadata": {},
          "execution_count": 16
        }
      ]
    },
    {
      "cell_type": "code",
      "source": [],
      "metadata": {
        "id": "qUziYwo1Zl5p"
      },
      "execution_count": null,
      "outputs": []
    },
    {
      "cell_type": "code",
      "source": [
        "# input_df.head()"
      ],
      "metadata": {
        "id": "erFQCLJh94_q"
      },
      "execution_count": null,
      "outputs": []
    },
    {
      "cell_type": "markdown",
      "source": [
        "# Hierarchical, Agglomerative Clustering"
      ],
      "metadata": {
        "id": "C8yA-Ho_JAaC"
      }
    },
    {
      "cell_type": "code",
      "source": [],
      "metadata": {
        "id": "fHoBDYBPvL3l"
      },
      "execution_count": null,
      "outputs": []
    },
    {
      "cell_type": "markdown",
      "metadata": {
        "id": "Egq975KtVbxy"
      },
      "source": [
        "Hierarchical clustering constructs a (usually binary) tree over the data. The leaves are individual\n",
        "data items, while the root is a single cluster that contains all of the data. Between the root and\n",
        "the leaves are intermediate clusters that contain subsets of the data. The main idea of hierarchical\n",
        "clustering is to make “clusters of clusters” going upwards to construct a tree. <p>\n",
        "\n",
        "Hierarchical agglomerative clustering (HAC)\n",
        "starts at the bottom, with every datum in its own singleton cluster, and merges groups together.\n",
        "Divisive clustering starts with all of the data in one big group and then chops it up until every\n",
        "datum is in its own singleton group. <p>\n",
        "\n",
        "![](https://dashee87.github.io/images/hierarch.gif)\n",
        "\n",
        "Cluster linkage - dissimilarity between clusters, or cluster distance. There are several types:\n",
        "* Complete - maximum distance between samples in clusters\n",
        "* Single - minimum distance between samples in clusters\n",
        "* Average - mean distance\n",
        "* Centroid - distance between centoids of clusters"
      ]
    },
    {
      "cell_type": "code",
      "source": [
        "def agglomearative_cls(data, n_clusters):\n",
        "  agglomerative = AgglomerativeClustering(n_clusters=n_clusters)\n",
        "  y_agglomerative = agglomerative.fit_predict(df)\n",
        "  nums = []\n",
        "  labels = []\n",
        "  for i in range(n_clusters):\n",
        "      nums.append(i)\n",
        "      labels.append('label'+str(i))\n",
        "\n",
        "  agglomerative_labels_mapping = dict(zip(nums,\n",
        "                                     labels))\n",
        "\n",
        "  agglomerative_label = pd.Series(y_agglomerative).map(agglomerative_labels_mapping)\n",
        "\n",
        "  fig = px.scatter_geo(df, lat='Latitude',\n",
        "                     lon='Longitude',\n",
        "                     color=agglomerative_label,\n",
        "                     width = 1366,\n",
        "                     height = 768\n",
        "                     )\n",
        "  fig.show()\n",
        "  return y_agglomerative, agglomerative_labels_mapping, agglomerative_label"
      ],
      "metadata": {
        "id": "D9lg4c5aBJ08"
      },
      "execution_count": null,
      "outputs": []
    },
    {
      "cell_type": "code",
      "source": [
        "y_agglomerative, agglomerative_labels_mapping, agglomerative_label = agglomearative_cls(data=df, n_clusters=3)"
      ],
      "metadata": {
        "id": "PsvfnbYRj1DW",
        "colab": {
          "base_uri": "https://localhost:8080/",
          "height": 785
        },
        "outputId": "9a6e2f32-9fbe-4cd9-f62e-f714ab9328f5"
      },
      "execution_count": null,
      "outputs": [
        {
          "output_type": "display_data",
          "data": {
            "text/html": [
              "<html>\n",
              "<head><meta charset=\"utf-8\" /></head>\n",
              "<body>\n",
              "    <div>            <script src=\"https://cdnjs.cloudflare.com/ajax/libs/mathjax/2.7.5/MathJax.js?config=TeX-AMS-MML_SVG\"></script><script type=\"text/javascript\">if (window.MathJax && window.MathJax.Hub && window.MathJax.Hub.Config) {window.MathJax.Hub.Config({SVG: {font: \"STIX-Web\"}});}</script>                <script type=\"text/javascript\">window.PlotlyConfig = {MathJaxConfig: 'local'};</script>\n",
              "        <script src=\"https://cdn.plot.ly/plotly-2.18.2.min.js\"></script>                <div id=\"e14aa063-6fe5-4bc2-889d-8a15cab9d901\" class=\"plotly-graph-div\" style=\"height:768px; width:1366px;\"></div>            <script type=\"text/javascript\">                                    window.PLOTLYENV=window.PLOTLYENV || {};                                    if (document.getElementById(\"e14aa063-6fe5-4bc2-889d-8a15cab9d901\")) {                    Plotly.newPlot(                        \"e14aa063-6fe5-4bc2-889d-8a15cab9d901\",                        [{\"geo\":\"geo\",\"hovertemplate\":\"color=label2<br>Latitude=%{lat}<br>Longitude=%{lon}<extra></extra>\",\"lat\":[-52.26,-16.31,55.72,55.75,-44.6,59.79,57.2,58.26,58.83,56.42,57.17,60.05,56.45,60.36,60.51,59.79,56.65,61.62,60.11,56.85,56.3,60.25,56.6,61.51,-3.88,-56.45,-56.09,-56.17,18.31,-27.82,-41.13,-26.37,-31.4,19.8,-31.78,-20.46,-20.45,-56.46,53.14,53.26,-25.67,-31.81,-32.42,64.69,54.25,47.41,-55.99,-56.24,15.93,-54.59,53.03,51.11,-7.31,-0.47,-18.84,-22.91,16.33,58.29,6.51,-1.4,-54.74,-42.9,-22.34,-29.34,31.0,51.32,17.35,58.35,0.81,57.37,-23.4,50.57,-60.33,-60.44,-10.74,-1.52,-31.95,-25.51,-15.16,-14.83,52.4,24.0,2.93,-23.79,-0.16,-40.12,51.47,-20.25,-15.33,-58.36,52.76,-25.18,54.44,52.58,6.84,-60.84,-10.59,-57.82,19.5,11.91,-7.02,-28.78,-21.89,17.42,17.61,-21.29,-22.46,-16.13,33.22,58.69,43.58,-30.86,-30.84,5.64,-5.55,-5.51,-30.97,-6.86,16.56,-8.62,10.76,15.54,-30.52,-13.1,-56.27,65.46,9.57,-14.01,60.15,-56.03,-56.81,-17.15,-8.07,11.91,-30.5,-16.71,51.29,53.31,51.46,-17.3,-11.84,25.12,51.27,15.3,-60.9,-11.75,51.31,34.77,-16.11,-53.37,51.26,34.72,15.79,16.08,-25.85,7.03,15.57,-9.84,50.13,52.59,57.39,-29.6,14.65,14.61,-55.92,-9.15,-9.93,-9.28,-10.22,-9.88,-24.47,-51.94,-16.0,-22.28,-10.14,18.0,51.35,-60.63,60.7,-56.46,6.37,6.52,-31.94,-32.0,-20.94,-23.19,-30.81,-3.97,51.46,51.47,-63.43,34.4,-23.81,-22.96,60.33,53.26,51.41,-42.28,-39.78,18.02,-25.4,-32.51,-32.19,-2.79,-0.85,13.3,-55.73,-20.41,-0.45,-55.19,-29.86,-30.65,-55.72,-15.36,-17.62,-60.59,-18.94,-28.25,-6.79,51.27,56.14,-16.05,0.99,53.95,-31.4,5.22,-17.76,-30.34,53.25,50.1,56.77,-16.66,51.34,-33.49,-15.35,15.23,19.55,-30.91,-16.47,52.89,-30.51,18.53,-22.53,-61.1,4.7,4.96,-59.38,20.05,53.97,51.27,44.98,57.86,57.99,-16.22,57.09,18.25,-0.15,-7.02,-4.4,-4.37,-32.98,-61.05,0.52,19.42,-25.98,51.52,-35.59,51.38,-20.61,-22.49,-12.28,-38.84,53.74,9.51,-14.91,57.56,55.15,55.05,-26.28,-33.49,-4.3,-11.17,-56.03,-29.22,-29.37,7.76,7.74,-38.34,-0.28,-12.24,17.37,-12.44,-15.91,-53.59,-7.65,61.92,-17.86,7.18,51.32,-29.89,-4.26,42.04,-14.79,-36.41,16.47,-38.03,53.48,-22.73,7.05,-20.45,-9.49,0.91,-24.91,-24.2,-22.91,7.55,-57.78,19.46,-14.92,-11.54,-16.22,-56.8,-28.78,-13.31,-29.48,-29.02,-29.64,-30.01,-32.67,-32.65,-28.65,-29.35,17.15,15.28,-57.39,-39.93,-29.92,-30.6,3.96,0.85,-29.93,-32.63,-11.62,4.49,-31.3,-10.51,-41.5,17.45,-33.78,-29.51,-50.01,7.48,7.41,-30.32,-34.28,-30.48,41.33,-20.57,48.84,-24.93,-66.49,-60.96,-21.89,-16.79,-14.02,-22.91,22.68,-56.17,-33.79,-15.29,-56.11,-17.58,-59.54,-25.87,-15.78,-31.04,-31.02,-21.86,-31.37,-31.44,-31.24,-15.37,-31.25,-34.29,-26.0,-30.63,-26.6,-22.91,29.68,-27.97,10.06,56.52,51.24,-17.06,-15.27,52.26,-26.52,-59.8,-30.62,-47.53,-30.57,16.07,-21.85,-30.02,17.53,54.8,-16.52,60.73,17.76,18.02,-22.95,56.65,-15.44,52.68,-24.6,8.14,-56.02,17.04,-19.86,7.11,-32.16,-21.86,-22.86,8.95,10.72,53.97,-60.57,17.89,-23.61,-31.34,4.81,-18.93,1.62,-4.69,51.31,-17.62,52.94,52.78,23.86,-23.53,37.59,-19.42,-18.61,-15.25,-30.18,-58.07,-29.32,-29.0,-21.86,15.93,-15.22,18.22,41.15,-51.49,19.57,-19.44,-21.35,-17.59,49.44,-21.25,-61.11,-29.68,3.93,18.82,-19.52,-1.96,-36.0,-22.89,-15.08,24.84,18.34,-30.18,-4.76,-33.82,-33.15,18.18,-31.38,43.56,-20.01,-32.17,-2.3,-56.4,-30.01,-30.03,-23.1,46.99,13.15,53.26,16.73,-22.69,-25.19,-56.05,-18.54,-52.89,-31.55,-12.74,-15.86,-28.21,-60.75,-41.41,-18.11,51.57,16.51,16.58,-17.61,13.29,51.39,6.75,-2.71,-15.36,-25.55,-14.53,-24.39,-1.73,-10.61,-24.15,-57.44,-15.43,-57.98,16.14,-30.44,-29.69,55.03,54.99,-18.65,-21.59,8.8,10.43,-4.84,-24.01,36.24,-21.85,-16.96,51.42,60.22,-7.41,-60.91,61.04,36.21,-20.13,-16.68,-17.44,60.97,-16.64,-26.55,-26.16,-23.74,-20.57,-60.75,-60.46,-60.69,44.1,-4.0,19.5,0.48,14.07,-15.37,-33.09,11.85,-3.88,-3.92,-17.32,17.38,-15.88,-30.68,-15.66,-58.47,18.02,16.82,-56.44,50.33,-33.28,40.39,-25.88,-31.6,15.05,-15.75,-24.05,-17.15,8.16,-30.9,-8.16,20.33,-1.39,10.21,-33.07,-17.54,-20.54,-33.14,-32.95,-33.24,-33.76,66.22,43.5,16.98,-32.68,-33.15,-34.14,-32.64,-34.0,-39.71,-15.3,0.97,-29.7,-60.3,-9.16,-15.35,17.98,18.54,17.81,-34.61,-22.08,62.22,54.73,-21.55,-31.37,53.21,-35.21,-21.86,11.71,-30.67,62.19,-35.1,51.54],\"legendgroup\":\"label2\",\"lon\":[28.3,-71.66,-155.95,-155.88,37.34,-149.3,-153.0,-151.25,-149.29,-152.01,-152.45,-148.39,-153.94,-146.61,-146.7,-148.67,-152.82,-147.39,-146.71,-152.69,-154.4,-146.71,-152.21,-147.2,35.06,-27.7,-27.55,-27.66,-100.5,-71.1,-74.99,-71.78,-110.84,-56.11,57.32,-173.89,-174.04,-27.05,-161.85,-161.74,-70.63,-71.26,-71.1,-160.23,-162.51,-122.29,-27.62,-27.9,-46.69,5.4,-167.55,-171.3,-81.27,-19.93,-68.75,-176.05,-95.8,-152.5,-84.44,-77.7,-38.3,-75.13,-113.98,-68.09,-41.53,-179.67,-100.04,-153.13,29.9,-152.27,-174.72,-171.22,-27.25,-26.44,-78.63,-15.37,-68.4,-70.74,-173.64,-178.75,-169.54,-65.7,-74.83,-175.14,-78.6,-74.68,-178.32,-68.83,-173.48,-26.83,-166.9,-70.54,-157.94,-168.13,-73.09,-24.33,-79.67,-23.54,-60.0,-85.98,30.9,-71.19,-70.07,-61.19,-61.26,-68.2,-174.61,-173.95,-116.19,-149.93,-127.89,-178.21,-178.2,-82.6,-77.2,-77.3,-178.13,-80.42,-97.79,-74.55,-62.7,-92.65,-178.01,-76.37,-27.07,-150.07,-72.63,23.82,-152.82,-27.57,-26.93,-171.57,-80.09,41.21,-71.38,-174.66,-179.85,-162.41,-179.95,-72.48,-75.1,-109.55,-179.17,-45.78,-55.9,-75.15,-179.23,-121.35,-173.87,23.6,-178.95,-121.28,-59.64,-59.79,-177.29,-104.24,-99.48,-75.55,-179.59,-175.04,-153.97,-69.42,-92.59,-93.29,-28.07,-78.83,-78.46,-79.05,-78.69,-78.69,-68.46,-74.14,-71.88,-70.55,-78.6,-64.67,-178.51,-25.27,-145.38,-142.61,-77.48,-77.4,-177.89,-178.1,-69.81,-70.11,-71.16,-80.66,-177.71,-176.81,-61.36,-118.43,-67.2,-176.14,-140.94,-170.53,-177.21,-71.79,-104.87,-69.79,-69.06,-71.21,-71.72,-77.35,-22.07,-92.41,-26.04,-174.17,-4.89,-128.87,-69.5,-177.82,-28.75,-173.3,-71.27,-25.5,-173.72,-178.27,-76.76,-179.21,-157.14,-173.0,-28.3,-166.82,-110.99,-100.32,-175.06,-71.58,-166.78,-129.3,-135.91,-172.01,-179.29,-179.4,-175.6,-96.26,-70.22,-68.21,-172.17,-162.98,-71.08,-102.93,-66.19,-38.01,-75.67,-78.12,-26.12,-155.16,-163.71,-179.38,-125.87,-137.42,-138.04,-173.08,-154.12,-96.58,-17.97,-76.19,-102.1,-102.04,-71.87,-21.7,-29.47,-104.98,-67.72,-175.27,-74.54,-177.85,-176.32,-68.26,-76.3,46.43,-164.7,-83.95,-172.83,-153.92,-160.57,-160.51,-175.78,-177.31,-102.07,-75.01,-27.47,-175.94,-176.13,-77.57,-77.54,-73.27,12.83,-77.58,-61.99,-77.46,-178.47,-28.26,-74.46,-149.72,-174.57,-77.76,-179.44,-71.4,-77.01,-112.41,-72.66,-98.82,-98.86,-72.78,-161.39,-66.62,-104.18,-173.96,-74.65,-26.71,-175.16,-175.1,-70.48,-77.5,-25.52,-155.14,-172.88,-74.52,-172.47,-68.42,-177.39,-74.94,-177.57,-177.42,-176.76,-176.85,-178.21,-177.81,-177.38,-177.29,-100.23,-89.19,-64.46,-74.89,-177.8,-178.21,-85.88,-79.63,-177.62,-178.19,-74.45,-75.77,-177.67,-78.3,-75.34,-100.65,-177.83,25.17,-115.1,-78.28,-78.05,-177.87,-176.53,-177.42,-125.66,-68.93,-129.13,-68.68,-82.45,-22.96,-138.96,-172.02,-14.49,-175.74,-45.11,-27.7,-179.58,-173.07,-27.83,-174.39,-20.59,-175.37,-173.01,-67.76,-67.51,-138.94,-67.79,-67.44,-67.9,-71.71,-68.0,-70.38,-177.24,-177.6,-114.59,-175.3,-67.45,-70.3,-77.89,-152.61,-179.25,-172.28,-175.45,-168.84,-70.66,-26.33,-178.07,32.26,-178.06,-96.55,-139.0,-177.47,-100.79,-161.29,-72.6,-141.55,-101.3,-69.03,-69.09,-156.72,-70.05,-166.97,-70.18,-38.12,-27.98,-94.61,-173.04,-82.31,-71.4,-139.0,-177.47,-83.49,-41.68,-165.22,-50.35,-68.61,-174.85,-178.72,-76.2,-176.52,-79.34,-105.74,-178.5,-171.16,-167.7,-167.8,-45.57,-177.27,-118.8,-69.33,-174.7,-173.53,-177.91,-10.68,-177.24,-69.69,-139.0,-88.52,-173.52,-98.2,-124.3,28.98,-69.58,-175.83,-68.1,-172.31,-129.57,-174.41,-55.54,60.83,-85.88,-103.95,-69.01,-80.99,-17.08,-175.82,-173.12,-46.29,-68.86,-177.96,-112.01,-179.44,-73.1,-102.01,-110.79,-127.7,-174.23,-71.43,22.83,-26.54,-177.63,-177.73,-177.27,-66.65,-87.56,-165.65,-61.44,-66.62,-175.55,-27.37,-175.12,-46.98,-178.6,-76.04,-172.97,-114.06,-20.95,-74.97,-172.51,-177.37,-98.25,-98.34,-174.45,-89.39,-179.94,-82.72,-79.88,-173.09,-176.24,-70.8,-176.65,-76.73,-74.69,-175.97,-25.77,-173.3,-24.35,-95.25,-179.3,-177.73,-159.19,-159.24,-69.38,-175.32,-83.11,-62.71,-78.09,-175.9,-120.27,-138.94,-174.61,-174.11,-141.27,27.88,-53.1,-147.37,-120.36,-126.94,-172.05,-69.96,-147.47,-177.38,-70.62,-70.59,-70.23,-173.84,-25.6,-24.91,-25.41,-113.81,-79.4,-155.44,-79.79,-91.95,-173.03,-70.15,-13.51,-78.47,-81.41,-70.53,-59.63,-174.35,-71.2,-72.45,-15.97,-69.3,-98.46,-27.43,-176.86,-179.28,-126.8,-175.9,-110.85,-94.28,-173.65,-66.84,-174.07,-38.77,-13.53,-76.12,-115.79,-15.02,-80.03,-68.58,-174.44,-174.0,-71.84,-71.6,-71.78,-71.19,-149.98,-127.62,-62.46,-71.63,-71.69,-72.1,-71.67,-71.45,-75.7,-173.47,-28.44,-177.78,-27.0,-78.88,-173.54,-97.16,-102.32,-101.69,-178.57,-174.6,-124.27,-159.65,-176.39,-68.61,-166.92,-179.32,-138.92,-85.86,-178.03,-124.27,54.26,-173.11],\"marker\":{\"color\":\"#636efa\",\"symbol\":\"circle\"},\"mode\":\"markers\",\"name\":\"label2\",\"showlegend\":true,\"type\":\"scattergeo\"},{\"geo\":\"geo\",\"hovertemplate\":\"color=label1<br>Latitude=%{lat}<br>Longitude=%{lon}<extra></extra>\",\"lat\":[45.53,41.85,29.19,-21.66,23.09,-20.7,22.33,-13.64,36.48,-5.14,-44.2,36.23,36.95,14.42,0.4,3.91,0.02,-5.42,-5.07,45.35,40.39,40.55,-2.73,43.43,38.4,43.16,-1.76,-0.5,11.7,-5.54,-15.56,47.09,46.96,47.09,14.17,78.15,-4.42,-48.95,8.9,29.96,-10.42,40.3,28.04,-45.6,3.11,-5.75,-6.0,40.49,-13.49,27.4,49.88,-2.4,-2.64,-51.7,51.29,51.39,52.74,53.05,52.37,52.05,51.34,28.62,52.73,2.97,-5.43,-5.36,53.02,36.42,40.75,-1.47,55.2,40.73,50.32,38.38,35.06,-42.66,21.0,-7.02,-6.2,22.41,-14.6,52.17,-7.53,44.45,7.21,38.37,-55.9,-5.21,-15.47,-15.75,-15.86,-5.25,-5.33,-6.37,-6.46,7.13,36.35,28.96,36.44,50.02,49.45,12.46,44.21,30.68,43.87,53.89,-7.28,-6.21,-9.61,-6.39,50.04,20.73,49.77,-17.66,-32.2,-5.41,48.29,31.49,1.85,24.24,49.72,37.49,23.86,23.72,51.24,-0.78,-0.52,-52.77,36.43,11.26,-12.23,-10.43,-10.15,29.62,29.71,24.86,51.99,-0.1,-0.05,39.17,8.48,2.34,-23.0,27.87,-21.59,73.4,22.11,38.9,41.68,-14.03,49.92,-7.11,48.22,38.33,56.68,48.08,-9.12,-0.09,-0.13,49.79,39.25,-10.64,-10.75,-10.77,-6.73,45.53,-11.14,45.56,20.0,5.16,27.32,-0.96,51.86,40.67,10.36,3.72,12.18,31.61,27.42,42.92,-49.57,-20.78,-6.59,-5.66,-7.15,73.4,24.43,14.48,41.41,49.45,17.54,-5.25,-7.53,-9.29,-8.93,43.52,-5.54,39.4,22.76,32.48,32.24,29.93,40.86,41.52,40.78,39.83,44.67,41.47,-41.72,-2.98,44.48,-1.86,39.47,41.06,36.01,-2.7,38.54,39.54,-0.27,16.3,25.73,16.45,6.6,33.31,1.38,1.4,0.06,1.17,34.15,34.09,-3.74,28.3,-6.08,42.08,-6.89,-3.65,49.82,-7.6,-39.85,-31.54,-3.38,-12.41,1.2,73.39,40.3,51.56,-8.03,-10.57,44.89,-14.89,54.84,0.77,4.77,4.81,41.42,3.5,-3.17,35.97,8.69,4.72,38.55,27.61,12.0,-6.11,-13.57,32.15,34.43,49.41,-7.93,-52.53,52.21,38.43,1.26,36.44,-6.14,43.46,43.59,43.44,43.61,43.63,43.72,43.78,1.81,43.45,43.14,43.17,47.88,-8.89,-8.98,31.08,73.39,23.09,27.8,1.94,57.7,37.16,49.94,43.79,1.99,8.2,28.55,24.12,-34.85,6.8,42.48,12.58,9.8,30.61,12.15,-19.07,44.65,51.34,-22.08,0.28,-6.26,39.21,-17.07,6.78,39.78,15.78,38.34,15.08,-18.79,52.93,-4.37,50.19,-11.73,42.48,44.72,-58.86,-2.9,-7.9,-8.75,32.26,32.31,-37.73,26.02,1.16,-13.92,-14.13,-13.89,-9.0,-4.6,17.7,13.0,-6.5,-13.52,-3.56,-4.1,73.31,39.25,-4.97,-3.43,-5.1,-6.05,43.46,-4.11,-11.02,-11.03,41.79,29.79,43.87,-1.59,43.81,-5.23,-10.58,-3.21,-2.95,-3.06,-3.31,-3.01,-3.24,-3.31,-3.37,-3.08,-3.41,-3.63,-9.65,-2.89,0.53,-5.75,-10.93,8.43,70.97,41.42,4.76,37.3,38.41,-0.36,2.45,-4.42,28.3,49.77,-6.54,7.99,63.92,38.85,51.67,-5.26,-6.23,-5.18,-5.97,-7.03,-5.52,-4.86,-5.78,52.13,-4.93,39.81,-5.4,-5.53,-5.16,-5.7,-5.81,-5.86,-4.89,-5.14,41.37,-5.88,-5.74,49.29,46.54,46.76,46.28,44.34,-6.46,-6.79,39.17,-5.93,-6.54,-0.02,73.39,46.41,3.63,-6.55,-5.42,11.83,-6.49,11.86,11.86,-15.57,-5.93,-5.57,-5.95,10.11,-11.87,-11.94,52.85,44.77,-6.02,56.04,47.9,-4.75,-16.85,22.5,-4.6,-2.09,20.95,-4.84,-4.74,36.4,-13.18,-3.54,22.55,23.05,-19.38,19.36,-11.43,33.38,33.48,33.45,-3.74,33.6,40.84,49.05,-45.1,48.04,43.33,-49.35,-53.52,42.09,28.39,24.1,23.6,13.38,-15.94,35.16,-4.21,16.61,-11.05,-7.12,36.28,30.71,2.35,49.13,-11.1,-6.29,-6.04,-6.05,-5.15,73.39,-14.99,29.41,35.94,-11.78,1.9,-19.89,-2.52,71.42,37.96,-20.36,-9.93,-6.22,-6.56,1.81,-8.79,27.48,-7.33,49.91,-20.03,23.87,38.33,-6.72,6.41,33.34,-1.52,49.97,44.68,-7.0,-7.5,-4.35,-39.02,-14.66,-6.88,-12.1,-0.14,31.33,31.5,22.27,-19.16,50.51,54.73,6.32,-3.01,50.78,2.18,-19.41,13.41,2.09,29.3,7.0,-15.81,-9.81,50.86,-10.01,2.25,-1.46,-6.34,-6.26,24.31,-54.0,-10.31,-6.73,-7.27,53.61,43.12,42.92,42.65,-5.88,43.28,43.14,19.11,43.01,43.28,12.21,35.16,36.45,49.94,-14.33,43.38,-4.5,-7.22,-37.27,7.15,73.32,9.2,-54.97,70.8,35.67,-14.34,70.8,-2.96,49.99,49.99,38.98,53.61,-15.18,43.25,-19.9,50.03,-9.52,-14.56,-15.13,-14.92,-15.37,-14.45,42.03,-5.15,-7.39,-7.0,-7.28,18.93,-5.13,-7.35,-3.79,44.01,1.27,-20.02,-7.48,-7.48,48.31,12.57,34.57,28.19,1.87,19.73,49.98,-6.55,-17.68,-17.62,49.91,-2.25,-26.02,-4.72,45.2,36.44,46.22,46.01,36.42,39.34,39.46,32.18,73.41,18.27,-4.26,-9.8,55.25,-6.2,43.12,44.64,-8.4,-15.49,-6.93,70.81,42.53,-6.44,2.27,35.85,-15.12,-6.06,-15.24,-6.15,-5.04,0.51,-2.3,51.66,35.05,-2.99,-4.93,32.38,31.94,35.05,53.0,53.08,40.66,-7.24,-6.07,-2.39,27.47,-21.75,22.68,-4.06,-50.84,71.49,35.8,37.2,1.03,22.7,35.98,0.75,-4.5,44.39,43.26,36.31,43.51,-3.1,30.07,21.42,32.84,6.51,-10.34,-6.64,-7.15,-6.63,-6.84,-9.84,-2.51,-6.9,54.92,73.34,10.04,-10.13,38.51,-34.74,-4.83,-4.83,-12.54,-15.4,-7.54,70.84,73.33,6.54,49.91,42.05,12.47,13.82,12.5,13.83,12.91,-12.25,-7.01,-11.74,-4.07,66.25,44.74,44.62,54.52,-5.96,12.98,-6.36,-8.36,-14.77,-10.62,-3.94,40.31,40.18,28.7,-44.58,46.35,-7.47,-7.58,-51.6,-37.28,40.35,3.69,-5.91,-5.6,-5.6,-5.02,24.51,-5.13,-10.08,-7.38,14.06,0.52,24.79,3.4,0.53,-4.58,-4.34,3.78,-4.52,49.85,-8.21,-8.17,-4.18,39.56,39.71,47.81,-20.59,26.7,32.78,6.22,7.18,7.33,7.35,10.09,7.22,-6.77,32.59,32.49,6.52,49.95,1.03,-9.2,44.78,73.41,6.93,-6.43,-10.45,36.5,-4.54,-29.36,8.52,6.98,38.12,39.5,-8.84,7.09,49.97,39.05,36.52,49.87,28.27,23.41,-7.9,-2.51,38.19,-3.65,-41.74,37.02,5.04,40.11,0.54,33.15,-41.31,53.54,-6.26,6.74,45.83,-4.96,16.73,44.16,27.59,-14.76,27.57,-9.9,-9.97,-9.94,-9.76,-9.73,-10.0,-10.21,-10.31,-1.81,49.86,-7.73,1.42,-53.82,16.86,-8.04,-10.58,-6.55,-7.89,46.76,-11.21,-11.16,-10.94,-10.89,-11.1,-10.88,-8.1,17.46,-11.04,-13.74,51.31,50.05,34.95,11.8,-1.92,-11.29,-9.99,-27.93,-6.21,-11.48,-10.2,49.93,-5.01,3.52,25.54,16.54,-5.13,18.79,44.56,34.8,-4.2,-5.39,-0.07,-8.7,38.83,29.33,-4.66,26.45,43.86,43.99,44.22,44.09,44.27,44.7,44.41,44.3,44.11,42.84,-8.62,-19.63,-4.94,44.38,-11.39,-9.43,5.14,36.64,4.69,-5.92,-9.88,-37.84,-14.6,-0.74,31.07,24.29,-1.05,40.4,49.88,38.23,38.38,8.28,8.24,7.85,40.78,-5.05,-5.07,-18.27,49.84,0.55,-4.2,22.19,-20.64,-0.14,73.31,49.98,-7.53,24.81,-13.35,49.91,48.21,33.37,-13.94,-14.92,39.4,33.47,47.81,-5.45,39.34,37.71,-11.21,-11.14,47.79,-10.92,49.93,-10.22,44.55,7.33,0.55,47.78,-8.27,23.17,33.96,47.87,-18.52,0.02,5.23,6.01,-15.57,-13.61,40.22,1.02,41.95,3.02,42.05,-0.05,9.3,-21.22,-6.38,19.0,0.66,36.45,-8.32,-30.73,-6.55,38.79,49.88,-5.0,43.88,50.05,33.87,-11.16,49.86,34.57,-4.86,49.93,36.48,19.05,-1.71,-1.18,53.64,3.48,42.8,52.23,45.09,-19.09,-2.84,1.16,-7.17,-46.54,-1.18,51.82,73.34,-8.4,0.66,-10.68,-10.58,47.79,49.96,-1.2,-13.4,-7.76,-9.5,-13.32,-4.43,34.03,-16.73,-1.94,5.89,34.08,49.88,34.14,28.95,-3.41,49.92,3.56,1.0,38.75,6.0,-7.89,-54.21,-4.7,36.47,44.51,-10.68,43.47,43.14,43.22,-6.02,-6.04,6.33,-22.67,16.09,9.0,-10.87,-8.05,51.21,34.5,-14.52,-6.03,-5.96,-7.37,-5.19,9.5,-5.24,34.81,6.63,-12.49,39.29,-4.45,-12.3,-20.3,-13.09,29.63,49.94,35.53,-3.25,-15.09,-6.3,-5.34,36.16,36.25,49.94,-6.11,-6.22,-21.95,-22.3,11.78,-22.25,27.4,40.86,49.87,-21.4,30.63,-16.29,50.01,45.98,29.28,38.61,38.71,-4.56,38.28,42.48,38.18,51.82,53.02,44.61,-22.11,-6.04,38.23,-13.77,38.24,-5.43,3.43,45.59,14.23,37.28,49.87,-13.4,43.23,36.41,42.65,-5.14,5.82,-48.55,-14.75,-5.68,-49.13,44.66,29.89,-22.29,-15.44,29.99,-21.61,-5.18,-2.76,-22.09,48.71,-5.32,43.53,-21.5,30.66,35.68,49.89,-6.39,-22.22,73.32,50.72,-4.52,-9.42,-6.43,-11.4,-9.98,40.3,-7.11,49.88,-3.52,18.75,42.98,-37.23,-6.14,23.96,-6.39,39.22,49.9,-2.11,26.84,-12.11,-3.41,13.85,14.01,-9.53,-9.55,39.96,31.68,-10.89,33.67,22.33,-9.52,42.23,-6.41,0.09,19.89,19.9,49.87,-0.61,-20.24,-3.36,48.82,55.07,7.79,38.76,-5.66,-4.7,-55.42,44.56,49.97,-51.15,36.36,51.76,13.81,-12.59,-11.16,-4.34,-5.05,33.71,36.4,43.85,29.4,-15.61,-6.61,-3.72,49.89,-9.87,-9.28,14.67,36.13,24.56,33.9,19.93,-5.45,38.07,12.91,10.54,5.6,49.23,44.06,-3.49,43.76,-6.99,-4.05,-4.07,-4.89,-4.67,-6.48,5.71,52.92,49.41,-15.04,11.4,-6.52,53.38,-10.19,27.78,14.92,41.5,46.41,-33.89,-5.39,47.41,40.48,40.83,40.25,40.22,49.91,1.55,41.35,24.13,29.74,21.77,24.17,20.19,-22.59,5.54,53.91,20.45,40.14,35.48,1.8,-8.69,55.79,18.23,73.38,3.73,33.51,36.52,18.12,24.08,24.02,-3.61,73.35,33.95,49.91,-8.12,1.09,37.59,1.16,49.89,40.35,-9.1,43.75,-7.49,-7.47,-40.45,41.8,-6.85,-6.61,-6.5,3.74,8.14,-7.63,-3.21,-2.38,-5.51,36.42,45.4,-2.83,36.47,29.28,36.48,34.57,-9.96,36.47,-6.6,49.86,-38.27,40.35,49.16,49.87,-18.95,-21.05,49.91,-6.79,-51.88,49.92,-10.83,-4.86,35.31,-6.1,49.85,28.11,-6.55,1.35,-0.07,32.39,27.47,-17.9,35.78,34.01,16.8,34.02,13.84,73.37,1.65,39.16,49.92,5.76,55.18,-18.85,-22.0,0.22,5.13,-7.97,-14.32,49.95,44.15,49.88,49.83,56.19,-36.67,0.2,24.11,-3.66,-0.95,-7.49,32.55,-46.01,49.87,-10.25,27.49,55.2,7.76,-6.61,44.38,40.32,-4.1,-35.63,-9.19,1.65,-5.16,15.32,49.88,-37.62,-5.59,-29.04,53.57,54.04,4.92,49.85,30.29,49.84,-4.44,-17.23,49.92,-6.24,36.21,36.19,7.46,16.93,11.15,54.15,37.77,39.49,39.36,-9.81,-6.76,40.32,37.65,46.29,-11.12,36.74,-9.57,7.73,27.94,-1.83,-14.03,-13.98,3.69,-14.06,-13.98,-5.75,-5.53,-5.61,-21.37,-10.16,36.43,24.02],\"legendgroup\":\"label1\",\"lon\":[150.93,142.78,141.15,169.81,120.58,169.92,93.58,165.96,70.95,151.77,167.96,-7.61,95.5,56.36,122.11,96.56,123.18,133.99,144.2,150.5,139.05,139.21,139.33,147.05,139.26,146.17,149.75,122.61,144.57,129.79,167.62,153.77,153.8,153.72,96.12,126.65,144.08,164.46,93.03,80.46,162.42,28.23,93.75,96.19,128.06,150.74,150.75,139.05,166.54,87.84,78.96,125.98,126.04,139.8,178.55,179.59,172.05,170.83,174.33,175.6,173.44,142.42,171.99,125.91,151.97,151.86,171.35,70.73,142.96,126.5,162.0,142.85,177.93,22.26,24.31,174.02,120.68,129.61,130.33,121.26,167.41,175.17,128.6,148.84,123.53,22.4,157.7,151.65,166.91,167.12,167.36,152.13,153.08,151.66,70.76,126.58,141.38,128.23,141.37,178.28,156.58,114.45,145.45,140.22,87.74,160.68,129.16,130.39,159.77,146.31,155.38,146.29,78.1,167.96,78.93,151.57,154.36,80.5,126.4,122.67,78.07,115.06,122.97,142.18,157.76,122.22,122.21,160.17,71.12,139.57,167.02,160.89,161.01,80.83,80.89,122.56,179.95,125.01,125.06,41.56,126.62,128.4,170.6,54.3,170.56,54.57,145.9,21.1,144.26,167.04,77.76,148.31,102.9,142.2,120.95,103.02,113.04,123.95,123.95,78.14,24.6,166.29,166.34,166.25,129.84,151.11,115.36,151.62,147.27,96.31,128.66,101.39,176.09,30.69,125.87,95.74,140.8,100.26,91.86,145.33,163.93,169.85,153.47,153.92,129.83,54.42,122.25,51.98,20.44,154.4,73.84,153.7,127.91,158.46,120.32,146.72,153.36,24.94,121.47,132.28,132.21,129.39,143.38,142.82,142.15,143.16,150.28,142.88,172.03,139.34,150.19,120.1,142.89,143.1,139.33,139.01,142.14,143.2,133.47,122.11,128.5,122.31,126.77,132.31,126.24,126.27,119.73,126.14,59.01,58.24,143.01,53.17,148.77,142.65,129.21,143.37,78.18,126.26,87.74,117.0,143.29,166.43,126.34,54.58,142.39,175.86,158.94,164.46,143.21,167.22,166.0,126.02,127.5,127.54,79.24,128.41,118.91,-10.58,127.35,127.65,28.46,33.91,41.35,129.91,166.2,131.98,25.04,155.54,159.05,159.7,158.95,119.47,126.23,70.86,129.69,147.91,147.63,147.82,147.18,146.5,147.8,147.48,126.41,147.98,147.44,147.46,153.75,157.95,157.91,131.43,54.5,94.7,60.02,94.61,163.56,71.64,78.98,54.75,126.94,58.49,129.15,102.49,178.79,126.75,143.04,122.09,125.91,103.05,143.82,168.54,148.99,173.75,126.65,119.37,154.62,29.51,168.56,126.66,141.91,121.71,22.56,122.01,169.29,171.45,151.81,91.24,166.38,78.71,149.46,157.6,139.08,158.68,124.04,131.78,131.83,177.66,95.37,126.2,166.65,166.56,166.53,117.95,153.22,147.65,144.5,154.63,166.59,86.19,143.1,54.89,140.71,145.45,135.65,145.13,148.55,146.94,142.88,163.45,163.41,143.5,140.11,54.78,99.95,54.82,153.59,161.39,139.69,139.64,139.62,139.76,139.62,139.84,139.91,139.91,139.45,139.55,139.44,151.4,139.38,98.72,145.39,163.8,127.23,-6.86,79.2,126.52,71.07,142.18,124.73,129.13,102.32,55.61,78.08,105.37,126.95,146.1,40.52,176.04,153.46,154.45,96.89,144.38,129.7,153.87,153.32,153.8,173.03,153.18,77.22,152.07,151.84,152.26,151.96,151.55,151.31,153.34,152.87,143.44,154.31,152.13,155.49,141.15,141.39,141.03,150.85,151.55,151.8,143.4,130.68,146.64,124.84,54.91,141.16,125.92,154.97,154.28,142.52,151.18,142.38,142.35,167.24,154.05,153.99,153.84,92.93,166.55,166.57,159.22,153.33,154.56,163.17,48.07,151.84,174.9,122.08,151.86,138.96,120.26,145.1,145.0,70.72,166.32,151.29,122.37,122.14,169.13,122.06,166.37,140.97,141.05,141.0,131.39,141.38,141.98,153.6,166.68,153.13,146.03,164.09,159.08,84.58,52.78,122.44,121.55,120.34,167.53,23.56,152.71,122.19,116.97,155.87,69.69,141.82,127.56,155.97,162.17,144.46,152.9,152.63,134.09,54.65,167.3,130.64,73.33,166.31,128.2,169.08,119.22,-10.39,22.38,168.89,119.6,131.15,131.3,127.45,124.98,128.57,146.83,78.85,168.91,121.61,73.17,154.53,126.62,140.82,136.67,78.95,149.37,155.81,127.83,153.45,175.23,166.41,150.03,166.52,124.0,100.49,100.33,121.52,168.69,156.58,161.7,127.38,139.08,157.19,126.65,169.39,122.87,126.55,130.41,91.33,167.24,119.29,157.43,150.2,126.74,99.8,151.18,151.86,93.52,159.35,161.42,154.81,156.14,161.38,145.74,146.39,146.08,151.86,146.43,146.89,121.19,146.66,145.81,125.29,86.4,141.05,78.85,167.29,146.46,144.1,156.08,179.32,84.33,54.97,126.19,146.25,53.42,140.64,167.06,53.92,139.34,156.33,156.31,141.93,160.49,167.43,146.75,169.66,79.02,119.39,166.8,166.91,166.48,166.54,166.87,143.89,134.15,155.92,155.78,155.63,120.13,133.91,155.82,134.01,147.78,97.63,169.77,156.2,156.01,153.16,144.24,138.75,103.98,126.48,147.34,156.22,106.77,167.8,167.53,78.91,141.1,84.3,152.56,93.86,141.17,153.14,152.88,70.76,73.77,73.63,142.37,54.93,119.2,143.55,108.49,162.0,146.1,146.56,150.09,154.03,167.1,129.52,53.91,141.75,105.38,121.06,141.1,167.16,154.23,167.3,153.05,129.99,97.89,99.01,174.59,72.91,101.68,130.09,78.5,78.53,141.37,173.47,173.58,122.63,149.58,148.21,126.15,56.24,170.53,122.84,152.75,139.19,-10.36,79.86,142.09,126.02,122.61,-17.56,122.61,153.53,146.87,147.39,143.3,147.65,148.0,142.15,94.62,142.43,126.65,161.2,155.09,155.21,154.66,155.41,123.96,146.03,147.77,167.87,54.5,125.86,121.7,40.77,81.88,102.24,102.04,166.47,167.55,128.76,53.53,54.93,126.81,78.92,142.66,126.01,144.79,126.06,125.07,125.89,166.61,155.75,164.81,142.11,-16.54,149.15,149.69,162.02,146.33,125.74,154.84,121.46,167.12,165.06,152.04,63.72,63.79,52.12,167.64,13.26,154.68,154.61,139.76,177.16,63.45,125.14,145.88,154.29,148.35,153.65,98.95,153.55,161.06,154.69,124.87,134.75,125.98,96.28,134.84,140.13,139.86,126.81,140.24,78.97,114.87,114.84,152.76,117.87,118.37,48.1,169.31,97.04,104.09,124.11,123.55,123.54,123.42,125.9,122.99,129.62,104.25,104.18,124.07,78.98,147.56,148.17,149.21,54.5,124.04,153.0,161.34,70.58,139.93,77.65,126.41,123.89,142.26,117.73,156.97,123.59,79.01,44.04,71.05,78.89,130.67,143.71,109.0,126.68,90.97,144.5,174.3,95.73,126.63,70.86,126.05,141.06,80.52,169.96,147.59,123.74,26.72,131.03,122.29,148.23,56.38,167.11,56.3,160.44,160.59,160.48,160.69,160.17,160.77,160.74,160.74,120.46,78.84,127.77,126.36,158.84,122.39,155.56,161.35,155.0,107.55,153.63,118.43,118.41,118.4,119.17,119.09,119.26,125.38,119.8,119.17,166.74,177.91,78.93,23.05,143.12,126.64,118.1,117.29,173.13,146.66,118.21,161.16,78.89,145.1,95.91,143.25,40.32,151.79,121.91,149.58,139.22,123.37,151.73,124.1,124.0,142.03,130.53,153.06,140.76,148.84,148.91,148.87,148.68,148.9,148.17,149.58,149.6,148.62,78.6,125.07,169.1,133.99,149.42,116.68,148.94,127.44,71.26,124.61,103.92,160.5,176.73,167.31,127.33,130.1,142.7,146.48,63.66,78.81,142.02,142.41,122.43,122.36,126.38,23.24,102.38,102.33,167.99,78.92,126.24,152.84,121.42,172.57,131.79,54.7,79.02,156.5,121.87,167.13,78.94,154.33,57.44,167.18,167.14,74.76,140.95,48.09,152.02,72.56,48.95,162.13,162.16,146.54,162.16,78.77,161.48,146.67,123.4,126.06,48.14,121.38,122.0,59.53,48.06,168.15,126.01,127.36,126.01,167.57,166.66,143.55,120.4,83.38,127.01,19.05,123.03,125.57,169.72,105.93,145.42,126.08,31.72,115.92,117.21,147.28,26.57,78.92,145.58,146.72,79.06,131.91,107.72,78.94,140.37,153.5,78.98,70.15,122.12,136.05,136.49,169.74,128.06,13.04,174.0,76.96,168.71,119.57,94.2,106.1,165.91,136.59,177.12,54.73,115.83,126.0,161.35,161.75,48.11,79.07,136.61,166.7,108.18,159.26,166.69,102.0,59.81,179.99,134.17,125.33,59.8,78.84,59.92,140.94,102.58,78.8,126.86,126.02,-27.75,126.13,156.24,158.78,153.17,76.86,149.55,161.66,146.59,146.88,146.9,150.12,150.01,126.9,171.42,121.94,126.27,164.22,108.79,173.62,140.42,167.93,154.56,154.43,128.58,152.19,126.6,151.71,139.29,125.77,166.37,22.91,143.53,166.5,169.61,166.34,81.09,78.86,140.15,142.33,167.31,154.81,103.12,1.4,1.61,79.1,145.54,154.85,170.09,170.39,125.5,169.55,88.8,15.33,78.97,169.87,140.85,178.2,79.03,151.47,128.1,142.91,142.75,139.28,142.71,142.15,142.87,176.15,162.41,149.38,174.76,148.77,22.97,166.5,23.26,146.76,128.01,152.24,119.13,142.28,78.9,166.44,149.94,71.15,139.2,154.74,126.98,164.7,167.28,151.47,164.63,148.92,57.72,171.65,167.48,57.77,169.66,151.75,139.18,170.9,157.37,151.52,147.04,169.61,141.78,73.6,78.98,130.72,170.48,54.55,160.4,146.2,159.34,154.88,66.3,162.06,142.33,129.06,78.89,143.86,120.86,146.2,179.81,152.03,125.92,154.92,25.25,78.86,139.79,142.74,166.67,177.55,124.32,124.37,152.21,152.21,24.39,82.28,166.01,141.17,143.59,118.35,142.46,147.65,123.31,120.54,120.49,78.92,123.28,168.2,177.4,154.93,165.4,135.76,142.22,150.99,103.04,160.23,151.03,78.86,160.64,141.63,176.08,146.36,166.11,115.42,153.12,143.96,22.94,141.44,148.32,140.43,168.01,101.7,140.0,78.86,161.18,158.21,44.23,68.98,122.53,139.45,121.34,147.05,20.25,93.59,140.96,126.3,155.56,148.09,177.64,147.45,147.39,127.9,127.9,153.57,153.25,154.64,94.72,159.81,155.58,167.28,57.52,154.94,160.3,110.84,62.07,99.05,143.84,153.39,179.52,150.94,152.26,139.09,139.33,139.01,139.04,78.97,127.32,139.1,122.39,129.38,103.31,122.39,122.41,171.02,126.47,158.36,122.14,24.75,139.05,127.28,111.17,161.33,120.8,54.87,126.64,131.51,71.1,145.83,122.16,122.26,151.2,54.38,139.51,78.83,156.35,121.0,-17.41,120.89,78.9,42.18,119.09,148.35,130.59,128.2,155.57,142.77,72.04,71.41,71.4,148.97,137.21,127.34,145.43,145.06,151.91,70.75,151.31,118.76,141.24,130.44,71.05,70.47,160.5,70.86,130.15,78.81,177.22,63.36,155.31,78.97,168.89,168.71,78.91,71.48,161.08,79.03,164.23,151.55,23.29,154.44,78.92,129.52,154.98,126.4,122.52,131.96,128.58,172.12,137.49,141.64,147.17,141.66,145.38,54.84,126.32,71.35,78.83,125.61,163.57,67.33,170.91,98.05,125.17,102.27,171.29,79.03,148.2,78.82,78.71,163.31,177.64,123.63,122.48,141.74,128.47,130.18,131.19,165.16,78.84,161.11,128.48,161.95,123.52,105.4,146.71,140.38,136.28,179.01,114.26,126.5,130.45,120.63,78.96,179.46,151.07,77.78,160.53,160.93,127.53,78.87,132.72,78.69,152.81,167.83,78.8,148.74,70.9,70.81,123.47,120.19,140.23,168.69,141.77,75.27,75.44,159.85,107.04,69.82,136.9,146.27,125.15,54.81,150.97,137.02,140.61,134.84,166.22,166.19,126.65,166.23,166.51,104.18,150.69,131.43,170.31,161.01,140.98,122.23],\"marker\":{\"color\":\"#EF553B\",\"symbol\":\"circle\"},\"mode\":\"markers\",\"name\":\"label1\",\"showlegend\":true,\"type\":\"scattergeo\"},{\"geo\":\"geo\",\"hovertemplate\":\"color=label0<br>Latitude=%{lat}<br>Longitude=%{lon}<extra></extra>\",\"lat\":[-6.44,-5.48,-7.17,-4.34,-27.46,-5.74,-9.04,-21.08,-7.21,-26.06,-9.05,-6.01,35.43,-27.62,-21.1,-6.1,-6.59,-6.84,-10.2,-21.57,26.29,-14.2,-21.87,-22.75,-6.76,-5.71,21.57,46.21,27.22,-21.66,-1.46,52.36,51.69,-23.45,-25.69,-7.47,-5.13,-17.82,-27.74,3.86,49.47,7.46,28.22,-24.83,-31.38,42.48,9.23,41.93,-21.95,-31.2,-23.88,33.17,-23.93,-31.55,-15.89,-31.88,-30.54,-17.97,30.71,-24.98,-17.84,-32.36,-31.79,-20.61,38.78,-18.39,-33.02,51.93,-7.46,47.31,-19.5,-31.95,28.04,-24.66,41.66,-27.96,-4.94,-4.88,31.93,31.99,48.27,-14.95,-7.08,5.66,-20.82,24.13,41.85,18.49,-4.63,-17.89,-27.28,-23.7,16.57,-29.41,-20.7,-20.81,18.0,-7.33,27.9,-23.45,-7.17,8.73,-9.52,-23.98,-28.14,-27.97,33.62,-23.68,49.05,8.17,29.35,50.06,47.44,30.89,-15.83,-5.76,-18.7,-17.74,28.27,-9.21,-21.0,-7.08,26.96,27.87],\"legendgroup\":\"label0\",\"lon\":[127.96,154.25,123.86,122.14,-63.23,128.63,-71.32,-179.15,124.69,-63.1,-71.34,112.33,135.49,-63.15,-179.18,113.36,116.18,118.91,159.9,-179.35,140.7,172.02,-179.54,178.76,126.74,125.42,143.1,142.45,140.29,-179.42,-72.56,151.64,150.97,-179.88,179.58,125.56,154.23,-178.79,-178.99,124.26,147.08,123.77,139.3,-179.19,-179.38,131.05,123.92,130.99,-63.65,-179.47,180.0,136.98,179.88,179.79,-175.04,179.94,-178.03,-178.49,138.44,-178.88,-178.53,179.88,-179.51,-179.14,130.09,-177.88,-179.96,151.57,119.89,145.75,-177.7,179.18,139.67,-63.39,131.05,-62.82,125.25,125.35,137.62,137.61,148.66,-175.81,117.95,123.59,-178.67,142.41,130.87,145.39,154.89,-178.6,-63.27,179.99,145.48,-179.03,-178.65,-178.87,145.67,126.08,137.04,-179.87,125.81,124.03,-71.22,-179.8,-63.15,-62.9,136.8,-178.3,146.63,123.77,138.92,148.77,146.73,138.48,-174.8,111.29,-178.04,-178.05,139.55,-71.22,-178.99,124.28,140.48,139.51],\"marker\":{\"color\":\"#00cc96\",\"symbol\":\"circle\"},\"mode\":\"markers\",\"name\":\"label0\",\"showlegend\":true,\"type\":\"scattergeo\"}],                        {\"template\":{\"data\":{\"histogram2dcontour\":[{\"type\":\"histogram2dcontour\",\"colorbar\":{\"outlinewidth\":0,\"ticks\":\"\"},\"colorscale\":[[0.0,\"#0d0887\"],[0.1111111111111111,\"#46039f\"],[0.2222222222222222,\"#7201a8\"],[0.3333333333333333,\"#9c179e\"],[0.4444444444444444,\"#bd3786\"],[0.5555555555555556,\"#d8576b\"],[0.6666666666666666,\"#ed7953\"],[0.7777777777777778,\"#fb9f3a\"],[0.8888888888888888,\"#fdca26\"],[1.0,\"#f0f921\"]]}],\"choropleth\":[{\"type\":\"choropleth\",\"colorbar\":{\"outlinewidth\":0,\"ticks\":\"\"}}],\"histogram2d\":[{\"type\":\"histogram2d\",\"colorbar\":{\"outlinewidth\":0,\"ticks\":\"\"},\"colorscale\":[[0.0,\"#0d0887\"],[0.1111111111111111,\"#46039f\"],[0.2222222222222222,\"#7201a8\"],[0.3333333333333333,\"#9c179e\"],[0.4444444444444444,\"#bd3786\"],[0.5555555555555556,\"#d8576b\"],[0.6666666666666666,\"#ed7953\"],[0.7777777777777778,\"#fb9f3a\"],[0.8888888888888888,\"#fdca26\"],[1.0,\"#f0f921\"]]}],\"heatmap\":[{\"type\":\"heatmap\",\"colorbar\":{\"outlinewidth\":0,\"ticks\":\"\"},\"colorscale\":[[0.0,\"#0d0887\"],[0.1111111111111111,\"#46039f\"],[0.2222222222222222,\"#7201a8\"],[0.3333333333333333,\"#9c179e\"],[0.4444444444444444,\"#bd3786\"],[0.5555555555555556,\"#d8576b\"],[0.6666666666666666,\"#ed7953\"],[0.7777777777777778,\"#fb9f3a\"],[0.8888888888888888,\"#fdca26\"],[1.0,\"#f0f921\"]]}],\"heatmapgl\":[{\"type\":\"heatmapgl\",\"colorbar\":{\"outlinewidth\":0,\"ticks\":\"\"},\"colorscale\":[[0.0,\"#0d0887\"],[0.1111111111111111,\"#46039f\"],[0.2222222222222222,\"#7201a8\"],[0.3333333333333333,\"#9c179e\"],[0.4444444444444444,\"#bd3786\"],[0.5555555555555556,\"#d8576b\"],[0.6666666666666666,\"#ed7953\"],[0.7777777777777778,\"#fb9f3a\"],[0.8888888888888888,\"#fdca26\"],[1.0,\"#f0f921\"]]}],\"contourcarpet\":[{\"type\":\"contourcarpet\",\"colorbar\":{\"outlinewidth\":0,\"ticks\":\"\"}}],\"contour\":[{\"type\":\"contour\",\"colorbar\":{\"outlinewidth\":0,\"ticks\":\"\"},\"colorscale\":[[0.0,\"#0d0887\"],[0.1111111111111111,\"#46039f\"],[0.2222222222222222,\"#7201a8\"],[0.3333333333333333,\"#9c179e\"],[0.4444444444444444,\"#bd3786\"],[0.5555555555555556,\"#d8576b\"],[0.6666666666666666,\"#ed7953\"],[0.7777777777777778,\"#fb9f3a\"],[0.8888888888888888,\"#fdca26\"],[1.0,\"#f0f921\"]]}],\"surface\":[{\"type\":\"surface\",\"colorbar\":{\"outlinewidth\":0,\"ticks\":\"\"},\"colorscale\":[[0.0,\"#0d0887\"],[0.1111111111111111,\"#46039f\"],[0.2222222222222222,\"#7201a8\"],[0.3333333333333333,\"#9c179e\"],[0.4444444444444444,\"#bd3786\"],[0.5555555555555556,\"#d8576b\"],[0.6666666666666666,\"#ed7953\"],[0.7777777777777778,\"#fb9f3a\"],[0.8888888888888888,\"#fdca26\"],[1.0,\"#f0f921\"]]}],\"mesh3d\":[{\"type\":\"mesh3d\",\"colorbar\":{\"outlinewidth\":0,\"ticks\":\"\"}}],\"scatter\":[{\"fillpattern\":{\"fillmode\":\"overlay\",\"size\":10,\"solidity\":0.2},\"type\":\"scatter\"}],\"parcoords\":[{\"type\":\"parcoords\",\"line\":{\"colorbar\":{\"outlinewidth\":0,\"ticks\":\"\"}}}],\"scatterpolargl\":[{\"type\":\"scatterpolargl\",\"marker\":{\"colorbar\":{\"outlinewidth\":0,\"ticks\":\"\"}}}],\"bar\":[{\"error_x\":{\"color\":\"#2a3f5f\"},\"error_y\":{\"color\":\"#2a3f5f\"},\"marker\":{\"line\":{\"color\":\"#E5ECF6\",\"width\":0.5},\"pattern\":{\"fillmode\":\"overlay\",\"size\":10,\"solidity\":0.2}},\"type\":\"bar\"}],\"scattergeo\":[{\"type\":\"scattergeo\",\"marker\":{\"colorbar\":{\"outlinewidth\":0,\"ticks\":\"\"}}}],\"scatterpolar\":[{\"type\":\"scatterpolar\",\"marker\":{\"colorbar\":{\"outlinewidth\":0,\"ticks\":\"\"}}}],\"histogram\":[{\"marker\":{\"pattern\":{\"fillmode\":\"overlay\",\"size\":10,\"solidity\":0.2}},\"type\":\"histogram\"}],\"scattergl\":[{\"type\":\"scattergl\",\"marker\":{\"colorbar\":{\"outlinewidth\":0,\"ticks\":\"\"}}}],\"scatter3d\":[{\"type\":\"scatter3d\",\"line\":{\"colorbar\":{\"outlinewidth\":0,\"ticks\":\"\"}},\"marker\":{\"colorbar\":{\"outlinewidth\":0,\"ticks\":\"\"}}}],\"scattermapbox\":[{\"type\":\"scattermapbox\",\"marker\":{\"colorbar\":{\"outlinewidth\":0,\"ticks\":\"\"}}}],\"scatterternary\":[{\"type\":\"scatterternary\",\"marker\":{\"colorbar\":{\"outlinewidth\":0,\"ticks\":\"\"}}}],\"scattercarpet\":[{\"type\":\"scattercarpet\",\"marker\":{\"colorbar\":{\"outlinewidth\":0,\"ticks\":\"\"}}}],\"carpet\":[{\"aaxis\":{\"endlinecolor\":\"#2a3f5f\",\"gridcolor\":\"white\",\"linecolor\":\"white\",\"minorgridcolor\":\"white\",\"startlinecolor\":\"#2a3f5f\"},\"baxis\":{\"endlinecolor\":\"#2a3f5f\",\"gridcolor\":\"white\",\"linecolor\":\"white\",\"minorgridcolor\":\"white\",\"startlinecolor\":\"#2a3f5f\"},\"type\":\"carpet\"}],\"table\":[{\"cells\":{\"fill\":{\"color\":\"#EBF0F8\"},\"line\":{\"color\":\"white\"}},\"header\":{\"fill\":{\"color\":\"#C8D4E3\"},\"line\":{\"color\":\"white\"}},\"type\":\"table\"}],\"barpolar\":[{\"marker\":{\"line\":{\"color\":\"#E5ECF6\",\"width\":0.5},\"pattern\":{\"fillmode\":\"overlay\",\"size\":10,\"solidity\":0.2}},\"type\":\"barpolar\"}],\"pie\":[{\"automargin\":true,\"type\":\"pie\"}]},\"layout\":{\"autotypenumbers\":\"strict\",\"colorway\":[\"#636efa\",\"#EF553B\",\"#00cc96\",\"#ab63fa\",\"#FFA15A\",\"#19d3f3\",\"#FF6692\",\"#B6E880\",\"#FF97FF\",\"#FECB52\"],\"font\":{\"color\":\"#2a3f5f\"},\"hovermode\":\"closest\",\"hoverlabel\":{\"align\":\"left\"},\"paper_bgcolor\":\"white\",\"plot_bgcolor\":\"#E5ECF6\",\"polar\":{\"bgcolor\":\"#E5ECF6\",\"angularaxis\":{\"gridcolor\":\"white\",\"linecolor\":\"white\",\"ticks\":\"\"},\"radialaxis\":{\"gridcolor\":\"white\",\"linecolor\":\"white\",\"ticks\":\"\"}},\"ternary\":{\"bgcolor\":\"#E5ECF6\",\"aaxis\":{\"gridcolor\":\"white\",\"linecolor\":\"white\",\"ticks\":\"\"},\"baxis\":{\"gridcolor\":\"white\",\"linecolor\":\"white\",\"ticks\":\"\"},\"caxis\":{\"gridcolor\":\"white\",\"linecolor\":\"white\",\"ticks\":\"\"}},\"coloraxis\":{\"colorbar\":{\"outlinewidth\":0,\"ticks\":\"\"}},\"colorscale\":{\"sequential\":[[0.0,\"#0d0887\"],[0.1111111111111111,\"#46039f\"],[0.2222222222222222,\"#7201a8\"],[0.3333333333333333,\"#9c179e\"],[0.4444444444444444,\"#bd3786\"],[0.5555555555555556,\"#d8576b\"],[0.6666666666666666,\"#ed7953\"],[0.7777777777777778,\"#fb9f3a\"],[0.8888888888888888,\"#fdca26\"],[1.0,\"#f0f921\"]],\"sequentialminus\":[[0.0,\"#0d0887\"],[0.1111111111111111,\"#46039f\"],[0.2222222222222222,\"#7201a8\"],[0.3333333333333333,\"#9c179e\"],[0.4444444444444444,\"#bd3786\"],[0.5555555555555556,\"#d8576b\"],[0.6666666666666666,\"#ed7953\"],[0.7777777777777778,\"#fb9f3a\"],[0.8888888888888888,\"#fdca26\"],[1.0,\"#f0f921\"]],\"diverging\":[[0,\"#8e0152\"],[0.1,\"#c51b7d\"],[0.2,\"#de77ae\"],[0.3,\"#f1b6da\"],[0.4,\"#fde0ef\"],[0.5,\"#f7f7f7\"],[0.6,\"#e6f5d0\"],[0.7,\"#b8e186\"],[0.8,\"#7fbc41\"],[0.9,\"#4d9221\"],[1,\"#276419\"]]},\"xaxis\":{\"gridcolor\":\"white\",\"linecolor\":\"white\",\"ticks\":\"\",\"title\":{\"standoff\":15},\"zerolinecolor\":\"white\",\"automargin\":true,\"zerolinewidth\":2},\"yaxis\":{\"gridcolor\":\"white\",\"linecolor\":\"white\",\"ticks\":\"\",\"title\":{\"standoff\":15},\"zerolinecolor\":\"white\",\"automargin\":true,\"zerolinewidth\":2},\"scene\":{\"xaxis\":{\"backgroundcolor\":\"#E5ECF6\",\"gridcolor\":\"white\",\"linecolor\":\"white\",\"showbackground\":true,\"ticks\":\"\",\"zerolinecolor\":\"white\",\"gridwidth\":2},\"yaxis\":{\"backgroundcolor\":\"#E5ECF6\",\"gridcolor\":\"white\",\"linecolor\":\"white\",\"showbackground\":true,\"ticks\":\"\",\"zerolinecolor\":\"white\",\"gridwidth\":2},\"zaxis\":{\"backgroundcolor\":\"#E5ECF6\",\"gridcolor\":\"white\",\"linecolor\":\"white\",\"showbackground\":true,\"ticks\":\"\",\"zerolinecolor\":\"white\",\"gridwidth\":2}},\"shapedefaults\":{\"line\":{\"color\":\"#2a3f5f\"}},\"annotationdefaults\":{\"arrowcolor\":\"#2a3f5f\",\"arrowhead\":0,\"arrowwidth\":1},\"geo\":{\"bgcolor\":\"white\",\"landcolor\":\"#E5ECF6\",\"subunitcolor\":\"white\",\"showland\":true,\"showlakes\":true,\"lakecolor\":\"white\"},\"title\":{\"x\":0.05},\"mapbox\":{\"style\":\"light\"}}},\"geo\":{\"domain\":{\"x\":[0.0,1.0],\"y\":[0.0,1.0]},\"center\":{}},\"legend\":{\"title\":{\"text\":\"color\"},\"tracegroupgap\":0},\"margin\":{\"t\":60},\"height\":768,\"width\":1366},                        {\"responsive\": true}                    ).then(function(){\n",
              "                            \n",
              "var gd = document.getElementById('e14aa063-6fe5-4bc2-889d-8a15cab9d901');\n",
              "var x = new MutationObserver(function (mutations, observer) {{\n",
              "        var display = window.getComputedStyle(gd).display;\n",
              "        if (!display || display === 'none') {{\n",
              "            console.log([gd, 'removed!']);\n",
              "            Plotly.purge(gd);\n",
              "            observer.disconnect();\n",
              "        }}\n",
              "}});\n",
              "\n",
              "// Listen for the removal of the full notebook cells\n",
              "var notebookContainer = gd.closest('#notebook-container');\n",
              "if (notebookContainer) {{\n",
              "    x.observe(notebookContainer, {childList: true});\n",
              "}}\n",
              "\n",
              "// Listen for the clearing of the current output cell\n",
              "var outputEl = gd.closest('.output');\n",
              "if (outputEl) {{\n",
              "    x.observe(outputEl, {childList: true});\n",
              "}}\n",
              "\n",
              "                        })                };                            </script>        </div>\n",
              "</body>\n",
              "</html>"
            ]
          },
          "metadata": {}
        }
      ]
    },
    {
      "cell_type": "markdown",
      "source": [
        "## Plot a dendrogram"
      ],
      "metadata": {
        "id": "U66LmNNFMRXf"
      }
    },
    {
      "cell_type": "code",
      "metadata": {
        "id": "gAeDCNZbdxOw"
      },
      "source": [
        "def plot_dendrogram(model, **kwargs):\n",
        "    \"\"\"Create linkage matrix and then plot the dendrogram\"\"\"\n",
        "    # create the counts of samples under each node\n",
        "    plt.figure(figsize=(30, 10))\n",
        "    plt.title('Hierarchical Clustering Dendrogram')\n",
        "\n",
        "    counts = np.zeros(model.children_.shape[0])\n",
        "    n_samples = len(model.labels_)\n",
        "    for i, merge in enumerate(model.children_):\n",
        "        current_count = 0\n",
        "        for child_idx in merge:\n",
        "            if child_idx < n_samples:\n",
        "                current_count += 1  # leaf node\n",
        "            else:\n",
        "                current_count += counts[child_idx - n_samples]\n",
        "    counts[i] = current_count\n",
        "\n",
        "    linkage_matrix = np.column_stack([model.children_, model.distances_, counts]).astype(float)\n",
        "\n",
        "    # Plot the corresponding dendrogram\n",
        "    dendrogram(linkage_matrix, **kwargs)\n",
        "    plt.xlabel(\"Number of points in node (or index of point if no parenthesis).\")\n",
        "    plt.xticks(fontsize=15, rotation=70)\n",
        "    plt.show()"
      ],
      "execution_count": null,
      "outputs": []
    },
    {
      "cell_type": "code",
      "source": [
        "# setting distance_threshold=0 ensures we compute the full tree.\n",
        "model = AgglomerativeClustering(distance_threshold=2, n_clusters=None)\n",
        "model = model.fit(df)\n",
        "plot_dendrogram(model, truncate_mode='level', p=5) # p=3,5,7"
      ],
      "metadata": {
        "colab": {
          "base_uri": "https://localhost:8080/",
          "height": 652
        },
        "id": "rkKKxPiGJQHI",
        "outputId": "0b4896a9-cd2f-4818-bbed-ff7e5642dfe4"
      },
      "execution_count": null,
      "outputs": [
        {
          "output_type": "display_data",
          "data": {
            "text/plain": [
              "<Figure size 2160x720 with 1 Axes>"
            ],
            "image/png": "[encoded data removed]"
          },
          "metadata": {
            "needs_background": "light"
          }
        }
      ]
    },
    {
      "cell_type": "code",
      "source": [
        "df.head()"
      ],
      "metadata": {
        "colab": {
          "base_uri": "https://localhost:8080/",
          "height": 206
        },
        "id": "5Urkhj0kHTLY",
        "outputId": "50086e98-182b-4b95-f1c6-cca23e05ab94"
      },
      "execution_count": null,
      "outputs": [
        {
          "output_type": "execute_result",
          "data": {
            "text/plain": [
              "   Focal depth  Latitude  Longitude  Richter\n",
              "0           33    -52.26      28.30      6.7\n",
              "1           36     45.53     150.93      5.8\n",
              "2           57     41.85     142.78      5.8\n",
              "3           67     29.19     141.15      6.2\n",
              "4           30    -21.66     169.81      6.0"
            ],
            "text/html": [
              "\n",
              "  <div id=\"df-f4cb9801-6327-40c8-b50a-0a56a0440d1a\">\n",
              "    <div class=\"colab-df-container\">\n",
              "      <div>\n",
              "<style scoped>\n",
              "    .dataframe tbody tr th:only-of-type {\n",
              "        vertical-align: middle;\n",
              "    }\n",
              "\n",
              "    .dataframe tbody tr th {\n",
              "        vertical-align: top;\n",
              "    }\n",
              "\n",
              "    .dataframe thead th {\n",
              "        text-align: right;\n",
              "    }\n",
              "</style>\n",
              "<table border=\"1\" class=\"dataframe\">\n",
              "  <thead>\n",
              "    <tr style=\"text-align: right;\">\n",
              "      <th></th>\n",
              "      <th>Focal depth</th>\n",
              "      <th>Latitude</th>\n",
              "      <th>Longitude</th>\n",
              "      <th>Richter</th>\n",
              "    </tr>\n",
              "  </thead>\n",
              "  <tbody>\n",
              "    <tr>\n",
              "      <th>0</th>\n",
              "      <td>33</td>\n",
              "      <td>-52.26</td>\n",
              "      <td>28.30</td>\n",
              "      <td>6.7</td>\n",
              "    </tr>\n",
              "    <tr>\n",
              "      <th>1</th>\n",
              "      <td>36</td>\n",
              "      <td>45.53</td>\n",
              "      <td>150.93</td>\n",
              "      <td>5.8</td>\n",
              "    </tr>\n",
              "    <tr>\n",
              "      <th>2</th>\n",
              "      <td>57</td>\n",
              "      <td>41.85</td>\n",
              "      <td>142.78</td>\n",
              "      <td>5.8</td>\n",
              "    </tr>\n",
              "    <tr>\n",
              "      <th>3</th>\n",
              "      <td>67</td>\n",
              "      <td>29.19</td>\n",
              "      <td>141.15</td>\n",
              "      <td>6.2</td>\n",
              "    </tr>\n",
              "    <tr>\n",
              "      <th>4</th>\n",
              "      <td>30</td>\n",
              "      <td>-21.66</td>\n",
              "      <td>169.81</td>\n",
              "      <td>6.0</td>\n",
              "    </tr>\n",
              "  </tbody>\n",
              "</table>\n",
              "</div>\n",
              "      <button class=\"colab-df-convert\" onclick=\"convertToInteractive('df-f4cb9801-6327-40c8-b50a-0a56a0440d1a')\"\n",
              "              title=\"Convert this dataframe to an interactive table.\"\n",
              "              style=\"display:none;\">\n",
              "        \n",
              "  <svg xmlns=\"http://www.w3.org/2000/svg\" height=\"24px\"viewBox=\"0 0 24 24\"\n",
              "       width=\"24px\">\n",
              "    <path d=\"M0 0h24v24H0V0z\" fill=\"none\"/>\n",
              "    <path d=\"M18.56 5.44l.94 2.06.94-2.06 2.06-.94-2.06-.94-.94-2.06-.94 2.06-2.06.94zm-11 1L8.5 8.5l.94-2.06 2.06-.94-2.06-.94L8.5 2.5l-.94 2.06-2.06.94zm10 10l.94 2.06.94-2.06 2.06-.94-2.06-.94-.94-2.06-.94 2.06-2.06.94z\"/><path d=\"M17.41 7.96l-1.37-1.37c-.4-.4-.92-.59-1.43-.59-.52 0-1.04.2-1.43.59L10.3 9.45l-7.72 7.72c-.78.78-.78 2.05 0 2.83L4 21.41c.39.39.9.59 1.41.59.51 0 1.02-.2 1.41-.59l7.78-7.78 2.81-2.81c.8-.78.8-2.07 0-2.86zM5.41 20L4 18.59l7.72-7.72 1.47 1.35L5.41 20z\"/>\n",
              "  </svg>\n",
              "      </button>\n",
              "      \n",
              "  <style>\n",
              "    .colab-df-container {\n",
              "      display:flex;\n",
              "      flex-wrap:wrap;\n",
              "      gap: 12px;\n",
              "    }\n",
              "\n",
              "    .colab-df-convert {\n",
              "      background-color: #E8F0FE;\n",
              "      border: none;\n",
              "      border-radius: 50%;\n",
              "      cursor: pointer;\n",
              "      display: none;\n",
              "      fill: #1967D2;\n",
              "      height: 32px;\n",
              "      padding: 0 0 0 0;\n",
              "      width: 32px;\n",
              "    }\n",
              "\n",
              "    .colab-df-convert:hover {\n",
              "      background-color: #E2EBFA;\n",
              "      box-shadow: 0px 1px 2px rgba(60, 64, 67, 0.3), 0px 1px 3px 1px rgba(60, 64, 67, 0.15);\n",
              "      fill: #174EA6;\n",
              "    }\n",
              "\n",
              "    [theme=dark] .colab-df-convert {\n",
              "      background-color: #3B4455;\n",
              "      fill: #D2E3FC;\n",
              "    }\n",
              "\n",
              "    [theme=dark] .colab-df-convert:hover {\n",
              "      background-color: #434B5C;\n",
              "      box-shadow: 0px 1px 3px 1px rgba(0, 0, 0, 0.15);\n",
              "      filter: drop-shadow(0px 1px 2px rgba(0, 0, 0, 0.3));\n",
              "      fill: #FFFFFF;\n",
              "    }\n",
              "  </style>\n",
              "\n",
              "      <script>\n",
              "        const buttonEl =\n",
              "          document.querySelector('#df-f4cb9801-6327-40c8-b50a-0a56a0440d1a button.colab-df-convert');\n",
              "        buttonEl.style.display =\n",
              "          google.colab.kernel.accessAllowed ? 'block' : 'none';\n",
              "\n",
              "        async function convertToInteractive(key) {\n",
              "          const element = document.querySelector('#df-f4cb9801-6327-40c8-b50a-0a56a0440d1a');\n",
              "          const dataTable =\n",
              "            await google.colab.kernel.invokeFunction('convertToInteractive',\n",
              "                                                     [key], {});\n",
              "          if (!dataTable) return;\n",
              "\n",
              "          const docLinkHtml = 'Like what you see? Visit the ' +\n",
              "            '<a target=\"_blank\" href=https://colab.research.google.com/notebooks/data_table.ipynb>data table notebook</a>'\n",
              "            + ' to learn more about interactive tables.';\n",
              "          element.innerHTML = '';\n",
              "          dataTable['output_type'] = 'display_data';\n",
              "          await google.colab.output.renderOutput(dataTable, element);\n",
              "          const docLink = document.createElement('div');\n",
              "          docLink.innerHTML = docLinkHtml;\n",
              "          element.appendChild(docLink);\n",
              "        }\n",
              "      </script>\n",
              "    </div>\n",
              "  </div>\n",
              "  "
            ]
          },
          "metadata": {},
          "execution_count": 22
        }
      ]
    },
    {
      "cell_type": "code",
      "source": [
        "df.columns"
      ],
      "metadata": {
        "colab": {
          "base_uri": "https://localhost:8080/"
        },
        "id": "GTpujRxdJ_mr",
        "outputId": "aaed0cff-a858-4247-b2b8-2c489d8a22b8"
      },
      "execution_count": null,
      "outputs": [
        {
          "output_type": "execute_result",
          "data": {
            "text/plain": [
              "Index(['Focal depth', 'Latitude', 'Longitude', 'Richter'], dtype='object')"
            ]
          },
          "metadata": {},
          "execution_count": 23
        }
      ]
    },
    {
      "cell_type": "markdown",
      "source": [
        "# Scale data"
      ],
      "metadata": {
        "id": "yL1UCtR0Ju7Q"
      }
    },
    {
      "cell_type": "markdown",
      "source": [
        "i have quastions about this part:\n",
        "1. if it possible to scale columns 'latitude' and 'longitude' and if not how can i use them in DBSCAN.?\n",
        "\n",
        "2. if is possible to use whole data without scaling?"
      ],
      "metadata": {
        "id": "8N0M54k-QCvx"
      }
    },
    {
      "cell_type": "code",
      "source": [],
      "metadata": {
        "id": "SvtliLhYP6up"
      },
      "execution_count": null,
      "outputs": []
    },
    {
      "cell_type": "code",
      "source": [
        "def scale_data(data):\n",
        "\n",
        "    X = data\n",
        "\n",
        "    #STD scaler\n",
        "    scaler = StandardScaler()\n",
        "\n",
        "    # X = pd.DataFrame(scaler.fit_transform(X), columns=X.columns)\n",
        "\n",
        "    X_scaled = scaler.fit_transform(X)\n",
        "\n",
        "    # PCA\n",
        "    pca = PCA(n_components=2)\n",
        "    X_2d = pca.fit_transform(X)\n",
        "\n",
        "    # pca_features = pca.fit_transform(X)\n",
        "    # pca_df = pd.DataFrame(data=pca_features, columns=X.columns)\n",
        "\n",
        "    return X, X_scaled, X_2d"
      ],
      "metadata": {
        "id": "knGdwl2lABJ5"
      },
      "execution_count": null,
      "outputs": []
    },
    {
      "cell_type": "code",
      "source": [
        "df.columns"
      ],
      "metadata": {
        "colab": {
          "base_uri": "https://localhost:8080/"
        },
        "id": "NKirTQPfFOW9",
        "outputId": "27acbb29-075b-4dbb-ef2c-2ea58c034158"
      },
      "execution_count": null,
      "outputs": [
        {
          "output_type": "execute_result",
          "data": {
            "text/plain": [
              "Index(['Focal depth', 'Latitude', 'Longitude', 'Richter'], dtype='object')"
            ]
          },
          "metadata": {},
          "execution_count": 25
        }
      ]
    },
    {
      "cell_type": "code",
      "source": [
        "# df_to_scale = df[['Focal depth', 'Richter']]"
      ],
      "metadata": {
        "id": "oxT9xdJ1FnSK"
      },
      "execution_count": null,
      "outputs": []
    },
    {
      "cell_type": "code",
      "source": [
        "X, X_scaled, X_2d = scale_data(df)"
      ],
      "metadata": {
        "id": "rcnmDBKPCo0N"
      },
      "execution_count": null,
      "outputs": []
    },
    {
      "cell_type": "markdown",
      "metadata": {
        "id": "ueGQZXlOV3PP"
      },
      "source": [
        "DBSCAN (Density-based spatial clustering of applications with noise) - density based algorithm of clustering. <p>\n",
        "Main assumption is that if points are close enough then they can be classified to the same cluster. If point has no close points it is considered as outlier. So DBSCAN can also be used as outlier detection model. <p>\n",
        "\n",
        "![](https://i.stack.imgur.com/5aikc.png)\n",
        "\n",
        "Lets define $N_i^{\\epsilon} = \\{x_j| x_j \\in X, \\rho (x_i, x_j) < \\epsilon, i\\neq j\\}$ - set of reachable points for $x_i$ with $\\epsilon$ distance. <p>\n",
        "\n",
        "Better if we visualize how it works [demo](https://www.naftaliharris.com/blog/visualizing-dbscan-clustering/)\n",
        "\n",
        "*   Points with $|N_i^{\\epsilon}| > n$ are named core points. If two core points are reachable from each other, they are merged into one cluster.\n",
        "*   If point is not core and is reachable to some core point, it is assigned to its' cluster. If there are several points the closest core point is choosed.\n",
        "* If point has no core points in $N_i^{\\epsilon}$ than it is assigned to outliers.\n",
        "\n",
        "$\\epsilon$ and $n$ are hyperparameters of this algorythm.\n",
        "\n",
        "Drawbacks:\n",
        "\n",
        "\n",
        "*   Have to choose $\\epsilon$ and $n$.\n",
        "*   DBSCAN is a metric based model so we need to normalize features and select correct metric.\n",
        "*  Clusters with varying density are hard to detect.\n",
        "\n"
      ]
    },
    {
      "cell_type": "code",
      "metadata": {
        "colab": {
          "base_uri": "https://localhost:8080/"
        },
        "id": "nqa8LACYVo23",
        "outputId": "efd90c40-2444-4b3c-c498-92f7e01196f6"
      },
      "source": [
        "X_scaled.shape"
      ],
      "execution_count": null,
      "outputs": [
        {
          "output_type": "execute_result",
          "data": {
            "text/plain": [
              "(2178, 4)"
            ]
          },
          "metadata": {},
          "execution_count": 28
        }
      ]
    },
    {
      "cell_type": "code",
      "source": [
        "def dbscan(data):\n",
        "  epsilon_param_options = np.arange(0.001, 10, 0.01)\n",
        "  min_samples_param_options = np.arange(2, data.shape[1]+1, 1)\n",
        "  param_grid = itertools.product(epsilon_param_options, min_samples_param_options)\n",
        "\n",
        "  print('Amount of hyperparameters combinations: {}'.format(len(epsilon_param_options) * len(min_samples_param_options)))\n",
        "\n",
        "  params_dict = {}\n",
        "\n",
        "  for param_set in tqdm(param_grid, total=len(epsilon_param_options) * len(min_samples_param_options)):\n",
        "    dbscan = DBSCAN(eps=param_set[0], min_samples=param_set[1])\n",
        "\n",
        "    y_dbscan = dbscan.fit_predict(data)\n",
        "\n",
        "    if len(set(y_dbscan) - set([-1])) == 3:\n",
        "      params_dict['{}_{}_{}'.format(len(set(y_dbscan) - set([-1])), param_set[0], param_set[1])] = param_set\n",
        "  return params_dict"
      ],
      "metadata": {
        "id": "2v_bYs3GWkvN"
      },
      "execution_count": null,
      "outputs": []
    },
    {
      "cell_type": "code",
      "metadata": {
        "id": "KOW2Eta8YdJp",
        "colab": {
          "base_uri": "https://localhost:8080/",
          "height": 66,
          "referenced_widgets": [
            "a7f29c1379cb43bc8ad69be37abc0497",
            "94074571628b44868cd9e25074a5d43d",
            "e9c05a261dec4674862d1572f8dc4790",
            "e68b8a9d80894c5886341d622ccfd39d",
            "abe28c52edee43a0966e98fef3c2d322",
            "9067cad9e46c4ff092749a10a3af4b5a",
            "43e8c4086f4d48de8e875aecd968b60d",
            "31c918c13c9b44f0b0131bea418da78c",
            "86511fedc2734d908e34e3baa2d16008",
            "9a0fddc5a4d14548bf6f081f027073d5",
            "512232a1898448bb9897eea8727a5ed5"
          ]
        },
        "outputId": "c3d1bae4-6687-40f6-d852-20fe994b9240"
      },
      "source": [
        "params_dict = dbscan(X_scaled)"
      ],
      "execution_count": null,
      "outputs": [
        {
          "output_type": "stream",
          "name": "stdout",
          "text": [
            "Amount of hyperparameters combinations: 3000\n"
          ]
        },
        {
          "output_type": "display_data",
          "data": {
            "text/plain": [
              "  0%|          | 0/3000 [00:00<?, ?it/s]"
            ],
            "application/vnd.jupyter.widget-view+json": {
              "version_major": 2,
              "version_minor": 0,
              "model_id": "a7f29c1379cb43bc8ad69be37abc0497"
            }
          },
          "metadata": {}
        }
      ]
    },
    {
      "cell_type": "code",
      "source": [
        "params_dict"
      ],
      "metadata": {
        "colab": {
          "base_uri": "https://localhost:8080/"
        },
        "id": "XN-PNi7jOy8m",
        "outputId": "2a89ce0c-2cbf-49a3-da38-b602ccd19f45"
      },
      "execution_count": null,
      "outputs": [
        {
          "output_type": "execute_result",
          "data": {
            "text/plain": [
              "{'3_0.8509999999999999_4': (0.8509999999999999, 4),\n",
              " '3_0.8609999999999999_4': (0.8609999999999999, 4),\n",
              " '3_0.8709999999999999_3': (0.8709999999999999, 3),\n",
              " '3_0.9009999999999999_3': (0.9009999999999999, 3),\n",
              " '3_0.9109999999999998_3': (0.9109999999999998, 3),\n",
              " '3_0.9209999999999998_3': (0.9209999999999998, 3),\n",
              " '3_0.9309999999999998_2': (0.9309999999999998, 2),\n",
              " '3_0.9409999999999998_2': (0.9409999999999998, 2),\n",
              " '3_0.9509999999999998_2': (0.9509999999999998, 2)}"
            ]
          },
          "metadata": {},
          "execution_count": 31
        }
      ]
    },
    {
      "cell_type": "code",
      "source": [
        "keys = list(params_dict.keys())\n",
        "values = list(params_dict.values())\n",
        "\n",
        "print(keys)\n",
        "print(values)"
      ],
      "metadata": {
        "id": "hYi0JREEuecq",
        "colab": {
          "base_uri": "https://localhost:8080/"
        },
        "outputId": "628ef8d9-44a1-4d5b-c985-d1242bc61fb2"
      },
      "execution_count": null,
      "outputs": [
        {
          "output_type": "stream",
          "name": "stdout",
          "text": [
            "['3_0.8509999999999999_4', '3_0.8609999999999999_4', '3_0.8709999999999999_3', '3_0.9009999999999999_3', '3_0.9109999999999998_3', '3_0.9209999999999998_3', '3_0.9309999999999998_2', '3_0.9409999999999998_2', '3_0.9509999999999998_2']\n",
            "[(0.8509999999999999, 4), (0.8609999999999999, 4), (0.8709999999999999, 3), (0.9009999999999999, 3), (0.9109999999999998, 3), (0.9209999999999998, 3), (0.9309999999999998, 2), (0.9409999999999998, 2), (0.9509999999999998, 2)]\n"
          ]
        }
      ]
    },
    {
      "cell_type": "markdown",
      "metadata": {
        "id": "e0_XoHExWSCu"
      },
      "source": [
        "* How to determine **eps**?\n",
        "\n",
        "We can calculate the distance from each point to its closest neighbour using the NearestNeighbors. The point itself is included in n_neighbors. The kneighbors method returns two arrays, one which contains the distance to the closest n_neighbors points and the other which contains the index for each of those points.\n",
        "\n",
        "The optimal value for epsilon will be found at the point of maximum curvature.\n"
      ]
    },
    {
      "cell_type": "code",
      "metadata": {
        "colab": {
          "base_uri": "https://localhost:8080/",
          "height": 265
        },
        "id": "tYvkZwOFWO6G",
        "outputId": "31f16b99-c5a2-45ef-a70d-ddbb8096edfb"
      },
      "source": [
        "neighbours = NearestNeighbors(n_neighbors=3)\n",
        "nbrs = neighbours.fit(X_scaled)\n",
        "distances, indices = nbrs.kneighbors(X_scaled)\n",
        "\n",
        "distances = np.sort(distances, axis=0)\n",
        "distances = distances[:,1]\n",
        "plt.plot(distances)\n",
        "plt.grid(True)"
      ],
      "execution_count": null,
      "outputs": [
        {
          "output_type": "display_data",
          "data": {
            "text/plain": [
              "<Figure size 432x288 with 1 Axes>"
            ],
            "image/png": "[encoded data removed]"
          },
          "metadata": {
            "needs_background": "light"
          }
        }
      ]
    },
    {
      "cell_type": "markdown",
      "metadata": {
        "id": "izhfWErNWYRy"
      },
      "source": [
        "* How to determine **min_samples**?\n",
        "\n",
        "\n",
        "min_samples (default=5) is selected based on the domain knowledge.\n",
        "\n",
        "If you do not have domain understanding, a rule of thumb is to derive min_samples from the number of dimensions D in the data set. min_samples >= D + 1. For 2D data, take min_samples = 4."
      ]
    },
    {
      "cell_type": "code",
      "metadata": {
        "id": "MUJbdi6BWO0J"
      },
      "source": [
        "epsilon = values[0][0]\n",
        "min_sample = values[0][1]"
      ],
      "execution_count": null,
      "outputs": []
    },
    {
      "cell_type": "code",
      "metadata": {
        "id": "MQ8oIQi-WOwP"
      },
      "source": [
        "def dbscan_cls(data, eps, min_samples):\n",
        "  dbscan = DBSCAN(eps=eps, min_samples=min_samples)\n",
        "  y_dbscan = dbscan.fit_predict(data)\n",
        "\n",
        "  dbscan_labels_mapping = dict(zip([-1, 0, 1, 2], ['OUTLIER', 'label_0', 'label_1', 'label_2']))\n",
        "\n",
        "  dbscan_label = pd.Series(y_dbscan).map(dbscan_labels_mapping)\n",
        "  fig = px.scatter(df, x='Longitude', y='Latitude', color=dbscan_label)\n",
        "  fig.update_layout(title='Quake in 2d space (DBSCAN labels)')\n",
        "  fig.show()\n",
        "  return dbscan_label, dbscan_labels_mapping, y_dbscan"
      ],
      "execution_count": null,
      "outputs": []
    },
    {
      "cell_type": "code",
      "source": [
        "dbscan_label, dbscan_labels_mapping, y_dbscan = dbscan_cls(data=df, eps=epsilon, min_samples=min_sample)"
      ],
      "metadata": {
        "colab": {
          "base_uri": "https://localhost:8080/",
          "height": 542
        },
        "id": "gLkq7tfhhptb",
        "outputId": "64336740-fe2c-4ca0-d892-fb22232be5ec"
      },
      "execution_count": null,
      "outputs": [
        {
          "output_type": "display_data",
          "data": {
            "text/html": [
              "<html>\n",
              "<head><meta charset=\"utf-8\" /></head>\n",
              "<body>\n",
              "    <div>            <script src=\"https://cdnjs.cloudflare.com/ajax/libs/mathjax/2.7.5/MathJax.js?config=TeX-AMS-MML_SVG\"></script><script type=\"text/javascript\">if (window.MathJax && window.MathJax.Hub && window.MathJax.Hub.Config) {window.MathJax.Hub.Config({SVG: {font: \"STIX-Web\"}});}</script>                <script type=\"text/javascript\">window.PlotlyConfig = {MathJaxConfig: 'local'};</script>\n",
              "        <script src=\"https://cdn.plot.ly/plotly-2.18.2.min.js\"></script>                <div id=\"288144f4-d2c8-4011-a05b-b95e3a994fb9\" class=\"plotly-graph-div\" style=\"height:525px; width:100%;\"></div>            <script type=\"text/javascript\">                                    window.PLOTLYENV=window.PLOTLYENV || {};                                    if (document.getElementById(\"288144f4-d2c8-4011-a05b-b95e3a994fb9\")) {                    Plotly.newPlot(                        \"288144f4-d2c8-4011-a05b-b95e3a994fb9\",                        [{\"hovertemplate\":\"color=OUTLIER<br>Longitude=%{x}<br>Latitude=%{y}<extra></extra>\",\"legendgroup\":\"OUTLIER\",\"marker\":{\"color\":\"#636efa\",\"symbol\":\"circle\"},\"mode\":\"markers\",\"name\":\"OUTLIER\",\"showlegend\":true,\"x\":[28.3,150.93,142.78,141.15,169.81,120.58,169.92,93.58,165.96,-71.66,70.95,-155.95,-155.88,151.77,37.34,167.96,-7.61,95.5,56.36,127.96,-149.3,-153.0,-151.25,-149.29,-152.01,-152.45,-148.39,122.11,-153.94,-146.61,-146.7,-148.67,-152.82,96.56,-147.39,-146.71,-152.69,-154.4,-146.71,123.18,-152.21,-147.2,133.99,144.2,150.5,35.06,139.05,139.21,139.33,-27.7,-27.55,-27.66,147.05,139.26,146.17,149.75,122.61,144.57,-100.5,129.79,167.62,153.77,153.8,153.72,-71.1,96.12,-74.99,154.25,-71.78,126.65,144.08,164.46,93.03,80.46,162.42,28.23,-110.84,123.86,93.75,-56.11,96.19,128.06,57.32,150.74,-173.89,150.75,122.14,-63.23,139.05,-174.04,166.54,87.84,-27.05,125.98,126.04,139.8,178.55,179.59,172.05,170.83,174.33,-161.85,175.6,-161.74,173.44,142.42,171.99,125.91,-70.63,151.97,151.86,171.35,70.73,142.96,126.5,-71.26,162.0,-71.1,142.85,177.93,22.26,24.31,174.02,-160.23,-162.51,120.68,129.61,-122.29,-27.62,130.33,121.26,167.41,175.17,-27.9,128.6,-46.69,148.84,123.53,5.4,-167.55,22.4,-171.3,157.7,-81.27,151.65,166.91,167.12,167.36,152.13,-19.93,128.63,-68.75,-176.05,-95.8,-152.5,-84.44,153.08,151.66,70.76,126.58,-77.7,141.38,128.23,141.37,-38.3,178.28,156.58,-75.13,114.45,145.45,-71.32,-113.98,140.22,87.74,-68.09,-41.53,160.68,129.16,130.39,-179.67,159.77,146.31,-100.04,-153.13,155.38,146.29,167.96,78.93,151.57,154.36,80.5,126.4,122.67,-179.15,29.9,115.06,122.97,142.18,157.76,-152.27,122.22,122.21,160.17,-174.72,71.12,139.57,167.02,160.89,161.01,124.69,80.83,80.89,122.56,179.95,-171.22,125.01,125.06,41.56,126.62,128.4,170.6,-27.25,54.3,170.56,-26.44,-78.63,-15.37,145.9,21.1,-68.4,144.26,167.04,-63.1,148.31,-70.74,-173.64,102.9,142.2,120.95,-178.75,103.02,-169.54,-65.7,-74.83,-71.34,-175.14,113.04,123.95,123.95,-78.6,24.6,166.29,166.34,166.25,-74.68,129.84,151.11,112.33,115.36,151.62,147.27,96.31,128.66,-178.32,-68.83,101.39,176.09,-173.48,-26.83,-166.9,-70.54,-157.94,-168.13,30.69,-73.09,135.49,125.87,95.74,-24.33,140.8,100.26,-79.67,-63.15,91.86,145.33,-23.54,163.93,169.85,-60.0,153.47,153.92,-179.18,129.83,-85.98,122.25,30.9,-71.19,51.98,20.44,154.4,73.84,-70.07,-61.19,-61.26,153.7,-68.2,-174.61,127.91,158.46,120.32,146.72,113.36,153.36,24.94,121.47,-173.95,116.18,132.28,132.21,-116.19,-149.93,-127.89,129.39,143.38,142.82,142.15,143.16,-178.21,-178.2,150.28,142.88,172.03,118.91,139.34,150.19,120.1,142.89,-82.6,143.1,-77.2,-77.3,139.33,139.01,142.14,143.2,-178.13,133.47,-80.42,122.11,-97.79,128.5,122.31,126.77,132.31,126.24,126.27,119.73,159.9,126.14,59.01,58.24,143.01,-74.55,-179.35,53.17,148.77,-62.7,142.65,-92.65,-178.01,129.21,143.37,-76.37,-27.07,126.26,140.7,87.74,117.0,143.29,166.43,-150.07,126.34,172.02,-72.63,142.39,23.82,175.86,-152.82,-27.57,158.94,164.46,-26.93,143.21,167.22,166.0,-179.54,126.02,-171.57,127.5,127.54,-80.09,178.76,79.24,126.74,128.41,118.91,-10.58,127.35,127.65,28.46,41.21,33.91,41.35,129.91,166.2,131.98,-71.38,-174.66,-179.85,25.04,155.54,159.05,159.7,-162.41,-179.95,158.95,119.47,-72.48,-75.1,125.42,126.23,70.86,129.69,147.91,147.63,147.82,147.18,146.5,147.8,147.48,126.41,147.98,147.44,143.1,147.46,-109.55,153.75,157.95,157.91,-179.17,131.43,-45.78,-55.9,-75.15,94.7,-179.23,-121.35,-173.87,23.6,-178.95,-121.28,60.02,94.61,163.56,71.64,54.75,126.94,58.49,142.45,-59.64,-59.79,129.15,102.49,178.79,126.75,-177.29,143.04,-104.24,-99.48,122.09,-75.55,125.91,103.05,-179.59,-175.04,143.82,168.54,148.99,-153.97,-69.42,173.75,126.65,119.37,154.62,29.51,168.56,126.66,141.91,121.71,22.56,122.01,169.29,171.45,-92.59,-93.29,151.81,91.24,-28.07,140.29,166.38,-78.83,-78.46,-79.05,-78.69,-78.69,78.71,149.46,-68.46,157.6,139.08,-74.14,-71.88,-70.55,158.68,124.04,-179.42,-78.6,-64.67,-178.51,131.78,131.83,177.66,95.37,-72.56,126.2,166.65,166.56,-25.27,166.53,117.95,-145.38,-142.61,153.22,151.64,147.65,144.5,154.63,-77.48,-77.4,166.59,86.19,-177.89,-178.1,143.1,140.71,145.45,135.65,145.13,148.55,146.94,-69.81,142.88,163.45,163.41,-70.11,143.5,140.11,-71.16,-80.66,54.78,99.95,54.82,153.59,161.39,139.69,139.64,139.62,139.76,139.62,139.84,139.91,139.91,139.45,139.55,139.44,151.4,-177.71,150.97,139.38,98.72,-176.81,-61.36,-118.43,-67.2,145.39,163.8,127.23,-176.14,-6.86,79.2,126.52,-140.94,71.07,142.18,124.73,-170.53,129.13,102.32,55.61,-177.21,105.37,-71.79,-104.87,126.95,146.1,40.52,-69.79,176.04,-69.06,153.46,154.45,96.89,144.38,129.7,-71.21,-71.72,153.87,153.32,153.8,173.03,153.18,77.22,152.07,151.84,152.26,151.96,151.55,151.31,-77.35,153.34,152.87,143.44,-22.07,154.31,152.13,155.49,-92.41,-26.04,141.15,141.39,141.03,150.85,-174.17,151.55,151.8,143.4,130.68,146.64,124.84,141.16,125.92,-4.89,154.97,154.28,142.52,151.18,142.38,142.35,167.24,154.05,153.99,153.84,92.93,-179.88,166.55,166.57,159.22,-128.87,-69.5,153.33,154.56,163.17,151.84,174.9,122.08,151.86,-177.82,138.96,120.26,-28.75,145.1,145.0,70.72,166.32,151.29,122.37,122.14,169.13,122.06,-173.3,166.37,-71.27,-25.5,140.97,141.05,-173.72,141.0,-178.27,131.39,141.38,141.98,-76.76,-179.21,153.6,166.68,-157.14,153.13,146.03,179.58,164.09,-173.0,125.56,159.08,84.58,52.78,-28.3,122.44,-166.82,-110.99,121.55,120.34,154.23,-100.32,167.53,23.56,152.71,-178.79,-178.99,122.19,-175.06,116.97,-71.58,124.26,-166.78,155.87,69.69,-129.3,-135.91,141.82,127.56,155.97,162.17,-172.01,-179.29,144.46,152.9,152.63,134.09,147.08,-179.4,167.3,130.64,73.33,166.31,128.2,169.08,119.22,-10.39,-175.6,22.38,168.89,-96.26,119.6,-70.22,131.15,131.3,-68.21,-172.17,123.77,127.45,-162.98,124.98,128.57,146.83,168.91,121.61,73.17,154.53,126.62,140.82,136.67,149.37,155.81,127.83,153.45,-71.08,175.23,166.41,150.03,166.52,124.0,-102.93,139.3,-66.19,100.49,100.33,121.52,168.69,-38.01,156.58,161.7,127.38,139.08,157.19,126.65,169.39,122.87,126.55,130.41,-75.67,91.33,167.24,119.29,157.43,-78.12,-26.12,-155.16,150.2,126.74,99.8,151.18,151.86,-163.71,93.52,159.35,161.42,154.81,156.14,161.38,-179.38,-125.87,145.74,146.39,146.08,151.86,146.43,146.89,121.19,146.66,145.81,-137.42,125.29,-138.04,86.4,141.05,-179.19,167.29,146.46,144.1,-179.38,-154.12,156.08,-96.58,-17.97,179.32,84.33,131.05,126.19,-76.19,123.92,-102.1,-102.04,146.25,130.99,140.64,-71.87,-21.7,167.06,-29.47,-104.98,-63.65,139.34,-67.72,-175.27,156.33,-179.47,156.31,141.93,160.49,167.43,-74.54,146.75,169.66,-177.85,119.39,-176.32,180.0,166.8,166.91,166.48,166.54,-68.26,-76.3,46.43,166.87,143.89,134.15,155.92,155.78,155.63,120.13,133.91,155.82,-164.7,134.01,136.98,147.78,97.63,-83.95,169.77,156.2,156.01,153.16,-172.83,179.88,144.24,-153.92,-160.57,-160.51,-175.78,179.79,-177.31,138.75,-102.07,103.98,126.48,147.34,156.22,-75.01,106.77,167.8,167.53,-175.04,179.94,-27.47,141.1,84.3,152.56,-175.94,-176.13,93.86,141.17,-77.57,-77.54,153.14,152.88,70.76,73.77,73.63,-73.27,142.37,119.2,143.55,108.49,162.0,-178.03,146.1,12.83,146.56,-77.58,-61.99,150.09,-178.49,154.03,167.1,129.52,141.75,-77.46,105.38,-178.47,121.06,141.1,167.16,-28.26,154.23,167.3,138.44,153.05,129.99,97.89,-74.46,99.01,174.59,72.91,-149.72,101.68,130.09,-174.57,78.5,78.53,141.37,-77.76,173.47,173.58,122.63,149.58,-179.44,-178.88,148.21,-178.53,126.15,56.24,-71.4,170.53,-77.01,122.84,179.88,-112.41,152.75,139.19,-72.66,-10.36,-98.82,-98.86,-179.51,79.86,142.09,-72.78,126.02,122.61,-17.56,122.61,-179.14,153.53,146.87,147.39,143.3,147.65,148.0,142.15,130.09,94.62,142.43,126.65,161.2,155.09,155.21,154.66,155.41,123.96,-161.39,146.03,-66.62,147.77,167.87,125.86,121.7,40.77,-104.18,81.88,-173.96,-74.65,102.24,102.04,166.47,-26.71,167.55,-175.16,-175.1,128.76,126.81,-70.48,142.66,126.01,144.79,-177.88,126.06,125.07,125.89,166.61,-77.5,-179.96,-25.52,-155.14,-172.88,-74.52,155.75,164.81,151.57,142.11,-68.42,-177.39,-74.94,-16.54,-177.57,-177.42,-176.76,-176.85,-178.21,-177.81,149.15,119.89,-177.38,149.69,-177.29,-100.23,162.02,-89.19,146.33,-64.46,125.74,154.84,-74.89,121.46,167.12,165.06,-177.8,-178.21,-85.88,152.04,63.72,63.79,-79.63,52.12,167.64,-177.62,13.26,154.68,154.61,139.76,-178.19,177.16,-74.45,63.45,-75.77,-177.67,125.14,145.88,154.29,148.35,153.65,-78.3,98.95,-75.34,153.55,161.06,154.69,124.87,-100.65,134.75,125.98,96.28,134.84,140.13,139.86,126.81,140.24,-177.83,25.17,-115.1,145.75,-78.28,-78.05,114.87,114.84,152.76,117.87,118.37,-177.87,169.31,97.04,104.09,-176.53,124.11,123.55,123.54,123.42,125.9,122.99,129.62,104.25,104.18,124.07,147.56,148.17,149.21,124.04,-177.42,153.0,161.34,70.58,139.93,77.65,126.41,123.89,142.26,117.73,156.97,123.59,44.04,-177.7,-125.66,71.05,-68.93,179.18,139.67,130.67,-129.13,143.71,109.0,126.68,90.97,144.5,-68.68,174.3,95.73,126.63,70.86,-63.39,-82.45,-22.96,126.05,141.06,80.52,169.96,147.59,123.74,26.72,131.05,131.03,122.29,148.23,56.38,167.11,56.3,160.44,160.77,160.74,160.74,120.46,-14.49,-175.74,-45.11,127.77,126.36,-27.7,158.84,122.39,-179.58,-173.07,155.56,-27.83,161.35,-174.39,155.0,107.55,153.63,118.43,118.41,118.4,119.17,119.09,119.26,-20.59,125.38,119.8,119.17,166.74,177.91,23.05,143.12,126.64,118.1,117.29,-175.37,173.13,-62.82,146.66,118.21,161.16,-67.76,-67.51,-67.79,-67.44,145.1,95.91,-67.9,143.25,40.32,151.79,-71.71,121.91,149.58,139.22,-68.0,-70.38,123.37,151.73,-177.24,124.1,-177.6,124.0,142.03,125.25,125.35,130.53,-114.59,153.06,137.62,137.61,140.76,-175.3,148.84,148.91,148.87,148.68,148.9,148.17,149.58,149.6,-67.45,148.62,78.6,125.07,-70.3,169.1,133.99,-77.89,149.42,116.68,148.94,-152.61,127.44,71.26,124.61,103.92,160.5,176.73,167.31,127.33,130.1,-179.25,142.7,146.48,63.66,142.02,142.41,122.43,122.36,126.38,-172.28,23.24,148.66,102.38,102.33,-175.45,167.99,126.24,-168.84,-175.81,152.84,121.42,172.57,-70.66,131.79,-26.33,-178.07,32.26,156.5,121.87,167.13,-178.06,154.33,57.44,167.18,167.14,74.76,140.95,152.02,72.56,48.95,162.13,162.16,146.54,162.16,-96.55,161.48,146.67,117.95,123.4,126.06,121.38,122.0,59.53,-177.47,-100.79,168.15,-161.29,126.01,127.36,126.01,167.57,166.66,-72.6,143.55,-141.55,120.4,-101.3,-69.03,83.38,127.01,19.05,123.59,123.03,-178.67,125.57,169.72,105.93,145.42,-69.09,142.41,126.08,-156.72,-70.05,-166.97,31.72,-70.18,115.92,117.21,-38.12,-27.98,147.28,26.57,-94.61,78.92,145.58,-173.04,-82.31,146.72,-71.4,131.91,107.72,-177.47,140.37,153.5,130.87,70.15,-83.49,-41.68,122.12,-165.22,136.05,136.49,169.74,128.06,13.04,174.0,-50.35,76.96,168.71,119.57,94.2,106.1,165.91,145.39,136.59,177.12,115.83,126.0,161.35,161.75,136.61,166.7,108.18,-68.61,159.26,166.69,102.0,-174.85,59.81,179.99,134.17,125.33,-178.72,-76.2,-176.52,59.8,59.92,140.94,-79.34,102.58,126.86,-105.74,126.02,-27.75,126.13,-178.5,-171.16,156.24,158.78,153.17,76.86,149.55,161.66,146.59,146.88,146.9,150.12,150.01,126.9,171.42,-167.7,-167.8,-45.57,154.89,121.94,126.27,-177.27,164.22,108.79,173.62,140.42,167.93,154.56,154.43,-118.8,-69.33,-174.7,128.58,152.19,-173.53,126.6,-177.91,-10.68,151.71,139.29,125.77,166.37,22.91,-177.24,143.53,-69.69,-178.6,166.5,169.61,166.34,81.09,-88.52,-173.52,140.15,142.33,167.31,154.81,103.12,1.4,1.61,145.54,154.85,170.09,-98.2,170.39,125.5,169.55,-124.3,28.98,-69.58,88.8,15.33,-175.83,-68.1,-172.31,169.87,-129.57,-174.41,140.85,178.2,151.47,128.1,-55.54,142.91,142.75,139.28,142.71,142.15,142.87,60.83,176.15,162.41,149.38,174.76,148.77,22.97,166.5,23.26,-85.88,-103.95,146.76,-69.01,128.01,-63.27,152.24,119.13,142.28,166.44,179.99,149.94,71.15,-80.99,139.2,154.74,126.98,164.7,167.28,151.47,164.63,-17.08,148.92,145.48,57.72,171.65,167.48,57.77,169.66,151.75,139.18,170.9,157.37,-175.82,151.52,-173.12,147.04,169.61,141.78,73.6,-46.29,-68.86,130.72,170.48,-177.96,-179.03,-112.01,-179.44,160.4,146.2,159.34,-178.65,154.88,66.3,162.06,142.33,-73.1,129.06,-102.01,-110.79,-127.7,-174.23,143.86,-71.43,22.83,120.86,146.2,-178.87,179.81,152.03,125.92,154.92,-26.54,25.25,-177.63,-177.73,139.79,142.74,145.67,-177.27,166.67,177.55,-66.65,124.32,124.37,-87.56,152.21,152.21,24.39,82.28,-165.65,-61.44,-66.62,166.01,141.17,143.59,-175.55,-27.37,118.35,142.46,-175.12,-46.98,-178.6,-76.04,147.65,123.31,-172.97,120.54,-114.06,120.49,123.28,-20.95,168.2,177.4,154.93,165.4,135.76,142.22,-74.97,-172.51,-177.37,-98.25,-98.34,150.99,-174.45,103.04,-89.39,126.08,160.23,151.03,-179.94,137.04,160.64,141.63,176.08,146.36,166.11,115.42,153.12,143.96,22.94,-82.72,141.44,-79.88,148.32,-173.09,-176.24,140.43,-70.8,-179.87,-176.65,168.01,125.81,101.7,-76.73,-74.69,140.0,161.18,158.21,44.23,68.98,122.53,-175.97,-25.77,139.45,121.34,-173.3,147.05,20.25,-24.35,-95.25,93.59,-179.3,-177.73,140.96,-159.19,-159.24,124.03,126.3,-69.38,155.56,148.09,177.64,147.45,147.39,127.9,127.9,153.57,153.25,-175.32,154.64,-83.11,94.72,159.81,155.58,167.28,57.52,-62.71,-78.09,154.94,160.3,110.84,62.07,99.05,-175.9,143.84,153.39,-120.27,179.52,150.94,152.26,139.09,139.33,-174.61,-71.22,139.01,139.04,-174.11,127.32,139.1,122.39,129.38,103.31,122.39,-141.27,122.41,171.02,27.88,-53.1,-147.37,126.47,-120.36,158.36,-126.94,122.14,24.75,139.05,127.28,111.17,161.33,120.8,126.64,131.51,-172.05,-69.96,-147.47,71.1,145.83,-179.8,-177.38,122.16,122.26,151.2,139.51,-70.62,-70.59,156.35,121.0,-70.23,-173.84,-17.41,-25.6,-24.91,-25.41,120.89,-113.81,42.18,119.09,-79.4,-155.44,148.35,130.59,-79.79,128.2,155.57,142.77,72.04,71.41,-91.95,-173.03,71.4,148.97,137.21,127.34,-70.15,145.43,145.06,-63.15,-62.9,151.91,-13.51,70.75,136.8,151.31,118.76,-78.47,141.24,-81.41,-178.3,130.44,71.05,146.63,70.47,160.5,70.86,130.15,-70.53,123.77,138.92,177.22,63.36,155.31,-59.63,168.89,168.71,-174.35,148.77,146.73,138.48,71.48,161.08,164.23,151.55,-71.2,-174.8,-72.45,23.29,-15.97,-69.3,-98.46,154.44,111.29,-27.43,129.52,154.98,126.4,-176.86,122.52,131.96,128.58,-179.28,172.12,-126.8,137.49,141.64,147.17,141.66,145.38,-175.9,-110.85,-94.28,-173.65,-66.84,126.32,71.35,125.61,-174.07,-38.77,163.57,67.33,170.91,98.05,-178.04,125.17,-13.53,-178.05,102.27,171.29,-76.12,-115.79,148.2,-15.02,163.31,177.64,-80.03,123.63,122.48,141.74,128.47,130.18,-68.58,131.19,165.16,-174.44,-174.0,161.11,128.48,-71.84,-71.6,-71.78,-71.19,161.95,-149.98,-127.62,-62.46,-71.63,123.52,-71.69,105.4,-72.1,146.71,140.38,-71.67,139.55,136.28,-71.45,179.01,114.26,126.5,130.45,120.63,-75.7,-71.22,179.46,151.07,77.78,160.53,160.93,127.53,-28.44,132.72,152.81,167.83,-177.78,148.74,-27.0,70.9,70.81,123.47,120.19,140.23,168.69,141.77,-78.88,75.27,-178.99,-173.54,75.44,-97.16,-102.32,-101.69,-178.57,-174.6,-124.27,107.04,-159.65,-176.39,69.82,136.9,146.27,125.15,-68.61,124.28,54.81,150.97,-166.92,-179.32,137.02,140.61,134.84,166.22,166.19,140.48,126.65,-85.86,166.23,166.51,-178.03,-124.27,54.26,104.18,150.69,131.43,170.31,-173.11,161.01,139.51,140.98,122.23],\"xaxis\":\"x\",\"y\":[-52.26,45.53,41.85,29.19,-21.66,23.09,-20.7,22.33,-13.64,-16.31,36.48,55.72,55.75,-5.14,-44.6,-44.2,36.23,36.95,14.42,-6.44,59.79,57.2,58.26,58.83,56.42,57.17,60.05,0.4,56.45,60.36,60.51,59.79,56.65,3.91,61.62,60.11,56.85,56.3,60.25,0.02,56.6,61.51,-5.42,-5.07,45.35,-3.88,40.39,40.55,-2.73,-56.45,-56.09,-56.17,43.43,38.4,43.16,-1.76,-0.5,11.7,18.31,-5.54,-15.56,47.09,46.96,47.09,-27.82,14.17,-41.13,-5.48,-26.37,78.15,-4.42,-48.95,8.9,29.96,-10.42,40.3,-31.4,-7.17,28.04,19.8,-45.6,3.11,-31.78,-5.75,-20.46,-6.0,-4.34,-27.46,40.49,-20.45,-13.49,27.4,-56.46,-2.4,-2.64,-51.7,51.29,51.39,52.74,53.05,52.37,53.14,52.05,53.26,51.34,28.62,52.73,2.97,-25.67,-5.43,-5.36,53.02,36.42,40.75,-1.47,-31.81,55.2,-32.42,40.73,50.32,38.38,35.06,-42.66,64.69,54.25,21.0,-7.02,47.41,-55.99,-6.2,22.41,-14.6,52.17,-56.24,-7.53,15.93,44.45,7.21,-54.59,53.03,38.37,51.11,-55.9,-7.31,-5.21,-15.47,-15.75,-15.86,-5.25,-0.47,-5.74,-18.84,-22.91,16.33,58.29,6.51,-5.33,-6.37,-6.46,7.13,-1.4,36.35,28.96,36.44,-54.74,50.02,49.45,-42.9,12.46,44.21,-9.04,-22.34,30.68,43.87,-29.34,31.0,53.89,-7.28,-6.21,51.32,-9.61,-6.39,17.35,58.35,50.04,20.73,-17.66,-32.2,-5.41,48.29,31.49,1.85,24.24,-21.08,0.81,37.49,23.86,23.72,51.24,57.37,-0.78,-0.52,-52.77,-23.4,36.43,11.26,-12.23,-10.43,-10.15,-7.21,29.62,29.71,24.86,51.99,50.57,-0.1,-0.05,39.17,8.48,2.34,-23.0,-60.33,27.87,-21.59,-60.44,-10.74,-1.52,22.11,38.9,-31.95,41.68,-14.03,-26.06,-7.11,-25.51,-15.16,48.22,38.33,56.68,-14.83,48.08,52.4,24.0,2.93,-9.05,-23.79,-9.12,-0.09,-0.13,-0.16,39.25,-10.64,-10.75,-10.77,-40.12,-6.73,45.53,-6.01,-11.14,45.56,20.0,5.16,27.32,51.47,-20.25,-0.96,51.86,-15.33,-58.36,52.76,-25.18,54.44,52.58,40.67,6.84,35.43,10.36,3.72,-60.84,12.18,31.61,-10.59,-27.62,27.42,42.92,-57.82,-49.57,-20.78,19.5,-6.59,-5.66,-21.1,-7.15,11.91,24.43,-7.02,-28.78,14.48,41.41,49.45,17.54,-21.89,17.42,17.61,-5.25,-21.29,-22.46,-7.53,-9.29,-8.93,43.52,-6.1,-5.54,39.4,22.76,-16.13,-6.59,32.48,32.24,33.22,58.69,43.58,29.93,40.86,41.52,40.78,39.83,-30.86,-30.84,44.67,41.47,-41.72,-6.84,-2.98,44.48,-1.86,39.47,5.64,41.06,-5.55,-5.51,36.01,-2.7,38.54,39.54,-30.97,-0.27,-6.86,16.3,16.56,25.73,16.45,6.6,33.31,1.38,1.4,0.06,-10.2,1.17,34.15,34.09,-3.74,-8.62,-21.57,28.3,-6.08,10.76,42.08,15.54,-30.52,-6.89,-3.65,-13.1,-56.27,-7.6,26.29,-39.85,-31.54,-3.38,-12.41,65.46,1.2,-14.2,9.57,40.3,-14.01,51.56,60.15,-56.03,-8.03,-10.57,-56.81,44.89,-14.89,54.84,-21.87,0.77,-17.15,4.77,4.81,-8.07,-22.75,41.42,-6.76,3.5,-3.17,35.97,8.69,4.72,38.55,11.91,27.61,12.0,-6.11,-13.57,32.15,-30.5,-16.71,51.29,34.43,49.41,-7.93,-52.53,53.31,51.46,52.21,38.43,-17.3,-11.84,-5.71,1.26,36.44,-6.14,43.46,43.59,43.44,43.61,43.63,43.72,43.78,1.81,43.45,43.14,21.57,43.17,25.12,47.88,-8.89,-8.98,51.27,31.08,15.3,-60.9,-11.75,23.09,51.31,34.77,-16.11,-53.37,51.26,34.72,27.8,1.94,57.7,37.16,43.79,1.99,8.2,46.21,15.79,16.08,28.55,24.12,-34.85,6.8,-25.85,42.48,7.03,15.57,12.58,-9.84,9.8,30.61,50.13,52.59,12.15,-19.07,44.65,57.39,-29.6,51.34,-22.08,0.28,-6.26,39.21,-17.07,6.78,39.78,15.78,38.34,15.08,-18.79,52.93,14.65,14.61,-4.37,50.19,-55.92,27.22,-11.73,-9.15,-9.93,-9.28,-10.22,-9.88,42.48,44.72,-24.47,-58.86,-2.9,-51.94,-16.0,-22.28,-7.9,-8.75,-21.66,-10.14,18.0,51.35,32.26,32.31,-37.73,26.02,-1.46,1.16,-13.92,-14.13,-60.63,-13.89,-9.0,60.7,-56.46,-4.6,52.36,17.7,13.0,-6.5,6.37,6.52,-13.52,-3.56,-31.94,-32.0,-4.1,39.25,-4.97,-3.43,-5.1,-6.05,43.46,-20.94,-4.11,-11.02,-11.03,-23.19,41.79,29.79,-30.81,-3.97,43.87,-1.59,43.81,-5.23,-10.58,-3.21,-2.95,-3.06,-3.31,-3.01,-3.24,-3.31,-3.37,-3.08,-3.41,-3.63,-9.65,51.46,51.69,-2.89,0.53,51.47,-63.43,34.4,-23.81,-5.75,-10.93,8.43,-22.96,70.97,41.42,4.76,60.33,37.3,38.41,-0.36,53.26,2.45,-4.42,28.3,51.41,-6.54,-42.28,-39.78,7.99,63.92,38.85,18.02,51.67,-25.4,-5.26,-6.23,-5.18,-5.97,-7.03,-32.51,-32.19,-5.52,-4.86,-5.78,52.13,-4.93,39.81,-5.4,-5.53,-5.16,-5.7,-5.81,-5.86,-2.79,-4.89,-5.14,41.37,-0.85,-5.88,-5.74,49.29,13.3,-55.73,46.54,46.76,46.28,44.34,-20.41,-6.46,-6.79,39.17,-5.93,-6.54,-0.02,46.41,3.63,-0.45,-6.55,-5.42,11.83,-6.49,11.86,11.86,-15.57,-5.93,-5.57,-5.95,10.11,-23.45,-11.87,-11.94,52.85,-55.19,-29.86,44.77,-6.02,56.04,-4.75,-16.85,22.5,-4.6,-30.65,-2.09,20.95,-55.72,-4.84,-4.74,36.4,-13.18,-3.54,22.55,23.05,-19.38,19.36,-15.36,-11.43,-17.62,-60.59,33.38,33.48,-18.94,33.45,-28.25,-3.74,33.6,40.84,-6.79,51.27,49.05,-45.1,56.14,48.04,43.33,-25.69,-49.35,-16.05,-7.47,-53.52,42.09,28.39,0.99,24.1,53.95,-31.4,23.6,13.38,-5.13,5.22,-15.94,35.16,-4.21,-17.82,-27.74,16.61,-17.76,-11.05,-30.34,3.86,53.25,-7.12,36.28,50.1,56.77,30.71,2.35,49.13,-11.1,-16.66,51.34,-6.29,-6.04,-6.05,-5.15,49.47,-33.49,-14.99,29.41,35.94,-11.78,1.9,-19.89,-2.52,71.42,-15.35,37.96,-20.36,15.23,-9.93,19.55,-6.22,-6.56,-30.91,-16.47,7.46,1.81,52.89,-8.79,27.48,-7.33,-20.03,23.87,38.33,-6.72,6.41,33.34,-1.52,44.68,-7.0,-7.5,-4.35,-30.51,-39.02,-14.66,-6.88,-12.1,-0.14,18.53,28.22,-22.53,31.33,31.5,22.27,-19.16,-61.1,50.51,54.73,6.32,-3.01,50.78,2.18,-19.41,13.41,2.09,29.3,4.7,7.0,-15.81,-9.81,50.86,4.96,-59.38,20.05,-10.01,2.25,-1.46,-6.34,-6.26,53.97,24.31,-54.0,-10.31,-6.73,-7.27,53.61,51.27,44.98,43.12,42.92,42.65,-5.88,43.28,43.14,19.11,43.01,43.28,57.86,12.21,57.99,35.16,36.45,-24.83,-14.33,43.38,-4.5,-31.38,57.09,-7.22,18.25,-0.15,-37.27,7.15,42.48,9.2,-7.02,9.23,-4.4,-4.37,-54.97,41.93,35.67,-32.98,-61.05,-14.34,0.52,19.42,-21.95,-2.96,-25.98,51.52,49.99,-31.2,49.99,38.98,53.61,-15.18,-35.59,43.25,-19.9,51.38,-9.52,-20.61,-23.88,-14.56,-15.13,-14.92,-15.37,-22.49,-12.28,-38.84,-14.45,42.03,-5.15,-7.39,-7.0,-7.28,18.93,-5.13,-7.35,53.74,-3.79,33.17,44.01,1.27,9.51,-20.02,-7.48,-7.48,48.31,-14.91,-23.93,12.57,57.56,55.15,55.05,-26.28,-31.55,-33.49,34.57,-4.3,28.19,1.87,19.73,49.98,-11.17,-6.55,-17.68,-17.62,-15.89,-31.88,-56.03,-2.25,-26.02,-4.72,-29.22,-29.37,45.2,36.44,7.76,7.74,46.22,46.01,36.42,39.34,39.46,-38.34,32.18,18.27,-4.26,-9.8,55.25,-30.54,-6.2,-0.28,43.12,-12.24,17.37,44.64,-17.97,-8.4,-15.49,-6.93,42.53,-12.44,-6.44,-15.91,2.27,35.85,-15.12,-53.59,-6.06,-15.24,30.71,-6.15,-5.04,0.51,-7.65,-2.3,51.66,35.05,61.92,-2.99,-4.93,-17.86,32.38,31.94,35.05,7.18,53.0,53.08,40.66,-7.24,51.32,-24.98,-6.07,-17.84,-2.39,27.47,-29.89,-21.75,-4.26,22.68,-32.36,42.04,-4.06,-50.84,-14.79,71.49,-36.41,16.47,-31.79,35.8,37.2,-38.03,1.03,22.7,35.98,0.75,-20.61,-4.5,44.39,43.26,36.31,43.51,-3.1,30.07,38.78,21.42,32.84,6.51,-10.34,-6.64,-7.15,-6.63,-6.84,-9.84,53.48,-2.51,-22.73,-6.9,54.92,10.04,-10.13,38.51,7.05,-34.74,-20.45,-9.49,-4.83,-4.83,-12.54,0.91,-15.4,-24.91,-24.2,-7.54,6.54,-22.91,42.05,12.47,13.82,-18.39,12.5,13.83,12.91,-12.25,7.55,-33.02,-57.78,19.46,-14.92,-11.54,-7.01,-11.74,51.93,-4.07,-56.8,-28.78,-13.31,66.25,-29.48,-29.02,-29.64,-30.01,-32.67,-32.65,44.74,-7.46,-28.65,44.62,-29.35,17.15,54.52,15.28,-5.96,-57.39,12.98,-6.36,-39.93,-8.36,-14.77,-10.62,-29.92,-30.6,3.96,-3.94,40.31,40.18,0.85,28.7,-44.58,-29.93,46.35,-7.47,-7.58,-51.6,-32.63,-37.28,-11.62,40.35,4.49,-31.3,3.69,-5.91,-5.6,-5.6,-5.02,-10.51,24.51,-41.5,-5.13,-10.08,-7.38,14.06,17.45,0.52,24.79,3.4,0.53,-4.58,-4.34,3.78,-4.52,-33.78,-29.51,-50.01,47.31,7.48,7.41,-8.21,-8.17,-4.18,39.56,39.71,-30.32,-20.59,26.7,32.78,-34.28,6.22,7.18,7.33,7.35,10.09,7.22,-6.77,32.59,32.49,6.52,1.03,-9.2,44.78,6.93,-30.48,-6.43,-10.45,36.5,-4.54,-29.36,8.52,6.98,38.12,39.5,-8.84,7.09,39.05,-19.5,41.33,36.52,-20.57,-31.95,28.04,28.27,48.84,23.41,-7.9,-2.51,38.19,-3.65,-24.93,-41.74,37.02,5.04,40.11,-24.66,-66.49,-60.96,0.54,33.15,-41.31,53.54,-6.26,6.74,45.83,41.66,-4.96,16.73,44.16,27.59,-14.76,27.57,-9.9,-10.0,-10.21,-10.31,-1.81,-14.02,-22.91,22.68,-7.73,1.42,-56.17,-53.82,16.86,-33.79,-15.29,-8.04,-56.11,-10.58,-17.58,-6.55,-7.89,46.76,-11.21,-11.16,-10.94,-10.89,-11.1,-10.88,-59.54,-8.1,17.46,-11.04,-13.74,51.31,34.95,11.8,-1.92,-11.29,-9.99,-25.87,-27.93,-27.96,-6.21,-11.48,-10.2,-31.04,-31.02,-31.37,-31.44,-5.01,3.52,-31.24,25.54,16.54,-5.13,-15.37,18.79,44.56,34.8,-31.25,-34.29,-4.2,-5.39,-26.0,-0.07,-30.63,-8.7,38.83,-4.94,-4.88,29.33,-26.6,-4.66,31.93,31.99,26.45,-22.91,43.86,43.99,44.22,44.09,44.27,44.7,44.41,44.3,29.68,44.11,42.84,-8.62,-27.97,-19.63,-4.94,10.06,44.38,-11.39,-9.43,56.52,5.14,36.64,4.69,-5.92,-9.88,-37.84,-14.6,-0.74,31.07,51.24,24.29,-1.05,40.4,38.23,38.38,8.28,8.24,7.85,-17.06,40.78,48.27,-5.05,-5.07,-15.27,-18.27,0.55,52.26,-14.95,-4.2,22.19,-20.64,-26.52,-0.14,-59.8,-30.62,-47.53,-7.53,24.81,-13.35,-30.57,48.21,33.37,-13.94,-14.92,39.4,33.47,-5.45,39.34,37.71,-11.21,-11.14,47.79,-10.92,16.07,-10.22,44.55,-7.08,7.33,0.55,-8.27,23.17,33.96,-30.02,17.53,-18.52,54.8,0.02,5.23,6.01,-15.57,-13.61,-16.52,40.22,60.73,1.02,17.76,18.02,41.95,3.02,42.05,5.66,-0.05,-20.82,9.3,-21.22,-6.38,19.0,-22.95,24.13,0.66,56.65,-15.44,52.68,36.45,-24.6,-8.32,-30.73,8.14,-56.02,-6.55,38.79,17.04,49.88,-5.0,-19.86,7.11,43.88,-32.16,33.87,-11.16,-22.86,34.57,-4.86,41.85,36.48,8.95,10.72,19.05,53.97,-1.71,-1.18,53.64,3.48,42.8,52.23,-60.57,45.09,-19.09,-2.84,1.16,-7.17,-46.54,18.49,-1.18,51.82,-8.4,0.66,-10.68,-10.58,-1.2,-13.4,-7.76,17.89,-9.5,-13.32,-4.43,-23.61,34.03,-16.73,-1.94,5.89,-31.34,4.81,-18.93,34.08,34.14,28.95,1.62,-3.41,3.56,-4.69,1.0,38.75,6.0,51.31,-17.62,-7.89,-54.21,-4.7,36.47,44.51,-10.68,43.47,43.14,43.22,-6.02,-6.04,6.33,-22.67,52.94,52.78,23.86,-4.63,16.09,9.0,-23.53,-10.87,-8.05,51.21,34.5,-14.52,-6.03,-5.96,37.59,-19.42,-18.61,-7.37,-5.19,-15.25,9.5,-30.18,-58.07,-5.24,34.81,6.63,-12.49,39.29,-29.32,-4.45,-29.0,-17.89,-12.3,-20.3,-13.09,29.63,15.93,-15.22,35.53,-3.25,-15.09,-6.3,-5.34,36.16,36.25,-6.11,-6.22,-21.95,18.22,-22.3,11.78,-22.25,41.15,-51.49,19.57,27.4,40.86,-19.44,-21.35,-17.59,-21.4,49.44,-21.25,30.63,-16.29,45.98,29.28,-61.11,38.61,38.71,-4.56,38.28,42.48,38.18,-29.68,51.82,53.02,44.61,-22.11,-6.04,38.23,-13.77,38.24,3.93,18.82,-5.43,-19.52,3.43,-27.28,45.59,14.23,37.28,-13.4,-23.7,43.23,36.41,-1.96,42.65,-5.14,5.82,-48.55,-14.75,-5.68,-49.13,-36.0,44.66,16.57,29.89,-22.29,-15.44,29.99,-21.61,-5.18,-2.76,-22.09,48.71,-22.89,-5.32,-15.08,43.53,-21.5,30.66,35.68,24.84,18.34,-6.39,-22.22,-30.18,-29.41,-4.76,-33.82,50.72,-4.52,-9.42,-20.7,-6.43,-11.4,-9.98,40.3,-33.15,-7.11,18.18,-31.38,43.56,-20.01,-3.52,-32.17,-2.3,18.75,42.98,-20.81,-37.23,-6.14,23.96,-6.39,-56.4,39.22,-30.01,-30.03,-2.11,26.84,18.0,-23.1,-12.11,-3.41,46.99,13.85,14.01,13.15,-9.53,-9.55,39.96,31.68,53.26,16.73,-22.69,-10.89,33.67,22.33,-25.19,-56.05,-9.52,42.23,-18.54,-52.89,-31.55,-12.74,-6.41,0.09,-15.86,19.89,-28.21,19.9,-0.61,-60.75,-20.24,-3.36,48.82,55.07,7.79,38.76,-41.41,-18.11,51.57,16.51,16.58,-5.66,-17.61,-4.7,13.29,-7.33,-55.42,44.56,51.39,27.9,-51.15,36.36,51.76,13.81,-12.59,-11.16,-4.34,-5.05,33.71,6.75,36.4,-2.71,43.85,-15.36,-25.55,29.4,-14.53,-23.45,-24.39,-15.61,-7.17,-6.61,-1.73,-10.61,-3.72,-9.87,-9.28,14.67,36.13,24.56,-24.15,-57.44,33.9,19.93,-15.43,-5.45,38.07,-57.98,16.14,12.91,-30.44,-29.69,10.54,55.03,54.99,8.73,5.6,-18.65,49.23,44.06,-3.49,43.76,-6.99,-4.05,-4.07,-4.89,-4.67,-21.59,-6.48,8.8,5.71,52.92,49.41,-15.04,11.4,10.43,-4.84,-6.52,53.38,-10.19,27.78,14.92,-24.01,41.5,46.41,36.24,-33.89,-5.39,47.41,40.48,40.83,-16.96,-9.52,40.25,40.22,51.42,1.55,41.35,24.13,29.74,21.77,24.17,60.22,20.19,-22.59,-7.41,-60.91,61.04,5.54,36.21,53.91,-20.13,20.45,40.14,35.48,1.8,-8.69,55.79,18.23,3.73,33.51,-16.68,-17.44,60.97,36.52,18.12,-23.98,-16.64,24.08,24.02,-3.61,33.95,-26.55,-26.16,-8.12,1.09,-23.74,-20.57,37.59,-60.75,-60.46,-60.69,1.16,44.1,40.35,-9.1,-4.0,19.5,43.75,-7.49,0.48,-7.47,-40.45,41.8,-6.85,-6.61,14.07,-15.37,-6.5,3.74,8.14,-7.63,-33.09,-3.21,-2.38,-28.14,-27.97,-5.51,11.85,36.42,33.62,45.4,-2.83,-3.88,36.47,-3.92,-23.68,29.28,36.48,49.05,34.57,-9.96,36.47,-6.6,-17.32,8.17,29.35,-38.27,40.35,49.16,17.38,-18.95,-21.05,-15.88,50.06,47.44,30.89,-6.79,-51.88,-10.83,-4.86,-30.68,-15.83,-15.66,35.31,-58.47,18.02,16.82,-6.1,-5.76,-56.44,28.11,-6.55,1.35,50.33,-0.07,32.39,27.47,-33.28,-17.9,40.39,35.78,34.01,16.8,34.02,13.84,-25.88,-31.6,15.05,-15.75,-24.05,1.65,39.16,5.76,-17.15,8.16,55.18,-18.85,-22.0,0.22,-18.7,5.13,-30.9,-17.74,-7.97,-14.32,-8.16,20.33,44.15,-1.39,56.19,-36.67,10.21,0.2,24.11,-3.66,-0.95,-7.49,-33.07,32.55,-46.01,-17.54,-20.54,-10.25,27.49,-33.14,-32.95,-33.24,-33.76,55.2,66.22,43.5,16.98,-32.68,7.76,-33.15,-6.61,-34.14,44.38,40.32,-32.64,28.27,-4.1,-34.0,-35.63,-9.19,1.65,-5.16,15.32,-39.71,-9.21,-37.62,-5.59,-29.04,53.57,54.04,4.92,0.97,30.29,-4.44,-17.23,-29.7,-6.24,-60.3,36.21,36.19,7.46,16.93,11.15,54.15,37.77,-9.16,39.49,-21.0,-15.35,39.36,17.98,18.54,17.81,-34.61,-22.08,62.22,-6.76,54.73,-21.55,40.32,37.65,46.29,-11.12,-31.37,-7.08,36.74,-9.57,53.21,-35.21,7.73,27.94,-1.83,-14.03,-13.98,26.96,3.69,11.71,-14.06,-13.98,-30.67,62.19,-35.1,-5.75,-5.53,-5.61,-21.37,51.54,-10.16,27.87,36.43,24.02],\"yaxis\":\"y\",\"type\":\"scattergl\"},{\"hovertemplate\":\"color=label_0<br>Longitude=%{x}<br>Latitude=%{y}<extra></extra>\",\"legendgroup\":\"label_0\",\"marker\":{\"color\":\"#EF553B\",\"symbol\":\"circle\"},\"mode\":\"markers\",\"name\":\"label_0\",\"showlegend\":true,\"x\":[78.96,78.1,78.07,77.76,78.14,78.18,78.98,78.08,78.85,78.95,78.85,79.02,78.91,78.92,78.97,78.98,79.01,78.89,78.84,78.93,78.89,78.81,78.92,79.02,78.94,78.77,79.06,78.94,78.98,79.07,78.84,78.8,78.86,79.1,78.97,79.03,78.9,78.98,78.89,78.86,78.92,78.86,78.86,78.97,78.83,78.9,78.81,78.97,78.91,79.03,78.92,78.83,79.03,78.82,78.71,78.84,78.96,78.87,78.69,78.8],\"xaxis\":\"x\",\"y\":[49.88,49.77,49.72,49.92,49.79,49.82,49.94,49.77,49.91,49.97,49.94,50.03,49.91,49.91,49.85,49.95,49.97,49.87,49.86,50.05,49.93,49.88,49.84,49.98,49.91,49.93,50.05,49.86,49.93,49.96,49.88,49.92,49.94,49.94,49.87,50.01,49.87,49.89,49.88,49.9,49.87,49.97,49.89,49.91,49.91,49.89,49.86,49.87,49.91,49.92,49.85,49.92,49.95,49.88,49.83,49.87,49.88,49.85,49.84,49.92],\"yaxis\":\"y\",\"type\":\"scattergl\"},{\"hovertemplate\":\"color=label_1<br>Longitude=%{x}<br>Latitude=%{y}<extra></extra>\",\"legendgroup\":\"label_1\",\"marker\":{\"color\":\"#00cc96\",\"symbol\":\"circle\"},\"mode\":\"markers\",\"name\":\"label_1\",\"showlegend\":true,\"x\":[54.57,54.42,54.58,54.5,54.89,54.91,54.65,54.97,54.93,54.5,54.93,54.5,54.7,54.73,54.55,54.87,54.38,54.84],\"xaxis\":\"x\",\"y\":[73.4,73.4,73.39,73.39,73.31,73.39,73.39,73.32,73.41,73.34,73.33,73.41,73.31,73.34,73.32,73.38,73.35,73.37],\"yaxis\":\"y\",\"type\":\"scattergl\"},{\"hovertemplate\":\"color=label_2<br>Longitude=%{x}<br>Latitude=%{y}<extra></extra>\",\"legendgroup\":\"label_2\",\"marker\":{\"color\":\"#ab63fa\",\"symbol\":\"circle\"},\"mode\":\"markers\",\"name\":\"label_2\",\"showlegend\":true,\"x\":[48.07,48.1,48.09,48.14,48.06,48.11],\"xaxis\":\"x\",\"y\":[47.9,47.81,47.81,47.78,47.87,47.79],\"yaxis\":\"y\",\"type\":\"scattergl\"}],                        {\"template\":{\"data\":{\"histogram2dcontour\":[{\"type\":\"histogram2dcontour\",\"colorbar\":{\"outlinewidth\":0,\"ticks\":\"\"},\"colorscale\":[[0.0,\"#0d0887\"],[0.1111111111111111,\"#46039f\"],[0.2222222222222222,\"#7201a8\"],[0.3333333333333333,\"#9c179e\"],[0.4444444444444444,\"#bd3786\"],[0.5555555555555556,\"#d8576b\"],[0.6666666666666666,\"#ed7953\"],[0.7777777777777778,\"#fb9f3a\"],[0.8888888888888888,\"#fdca26\"],[1.0,\"#f0f921\"]]}],\"choropleth\":[{\"type\":\"choropleth\",\"colorbar\":{\"outlinewidth\":0,\"ticks\":\"\"}}],\"histogram2d\":[{\"type\":\"histogram2d\",\"colorbar\":{\"outlinewidth\":0,\"ticks\":\"\"},\"colorscale\":[[0.0,\"#0d0887\"],[0.1111111111111111,\"#46039f\"],[0.2222222222222222,\"#7201a8\"],[0.3333333333333333,\"#9c179e\"],[0.4444444444444444,\"#bd3786\"],[0.5555555555555556,\"#d8576b\"],[0.6666666666666666,\"#ed7953\"],[0.7777777777777778,\"#fb9f3a\"],[0.8888888888888888,\"#fdca26\"],[1.0,\"#f0f921\"]]}],\"heatmap\":[{\"type\":\"heatmap\",\"colorbar\":{\"outlinewidth\":0,\"ticks\":\"\"},\"colorscale\":[[0.0,\"#0d0887\"],[0.1111111111111111,\"#46039f\"],[0.2222222222222222,\"#7201a8\"],[0.3333333333333333,\"#9c179e\"],[0.4444444444444444,\"#bd3786\"],[0.5555555555555556,\"#d8576b\"],[0.6666666666666666,\"#ed7953\"],[0.7777777777777778,\"#fb9f3a\"],[0.8888888888888888,\"#fdca26\"],[1.0,\"#f0f921\"]]}],\"heatmapgl\":[{\"type\":\"heatmapgl\",\"colorbar\":{\"outlinewidth\":0,\"ticks\":\"\"},\"colorscale\":[[0.0,\"#0d0887\"],[0.1111111111111111,\"#46039f\"],[0.2222222222222222,\"#7201a8\"],[0.3333333333333333,\"#9c179e\"],[0.4444444444444444,\"#bd3786\"],[0.5555555555555556,\"#d8576b\"],[0.6666666666666666,\"#ed7953\"],[0.7777777777777778,\"#fb9f3a\"],[0.8888888888888888,\"#fdca26\"],[1.0,\"#f0f921\"]]}],\"contourcarpet\":[{\"type\":\"contourcarpet\",\"colorbar\":{\"outlinewidth\":0,\"ticks\":\"\"}}],\"contour\":[{\"type\":\"contour\",\"colorbar\":{\"outlinewidth\":0,\"ticks\":\"\"},\"colorscale\":[[0.0,\"#0d0887\"],[0.1111111111111111,\"#46039f\"],[0.2222222222222222,\"#7201a8\"],[0.3333333333333333,\"#9c179e\"],[0.4444444444444444,\"#bd3786\"],[0.5555555555555556,\"#d8576b\"],[0.6666666666666666,\"#ed7953\"],[0.7777777777777778,\"#fb9f3a\"],[0.8888888888888888,\"#fdca26\"],[1.0,\"#f0f921\"]]}],\"surface\":[{\"type\":\"surface\",\"colorbar\":{\"outlinewidth\":0,\"ticks\":\"\"},\"colorscale\":[[0.0,\"#0d0887\"],[0.1111111111111111,\"#46039f\"],[0.2222222222222222,\"#7201a8\"],[0.3333333333333333,\"#9c179e\"],[0.4444444444444444,\"#bd3786\"],[0.5555555555555556,\"#d8576b\"],[0.6666666666666666,\"#ed7953\"],[0.7777777777777778,\"#fb9f3a\"],[0.8888888888888888,\"#fdca26\"],[1.0,\"#f0f921\"]]}],\"mesh3d\":[{\"type\":\"mesh3d\",\"colorbar\":{\"outlinewidth\":0,\"ticks\":\"\"}}],\"scatter\":[{\"fillpattern\":{\"fillmode\":\"overlay\",\"size\":10,\"solidity\":0.2},\"type\":\"scatter\"}],\"parcoords\":[{\"type\":\"parcoords\",\"line\":{\"colorbar\":{\"outlinewidth\":0,\"ticks\":\"\"}}}],\"scatterpolargl\":[{\"type\":\"scatterpolargl\",\"marker\":{\"colorbar\":{\"outlinewidth\":0,\"ticks\":\"\"}}}],\"bar\":[{\"error_x\":{\"color\":\"#2a3f5f\"},\"error_y\":{\"color\":\"#2a3f5f\"},\"marker\":{\"line\":{\"color\":\"#E5ECF6\",\"width\":0.5},\"pattern\":{\"fillmode\":\"overlay\",\"size\":10,\"solidity\":0.2}},\"type\":\"bar\"}],\"scattergeo\":[{\"type\":\"scattergeo\",\"marker\":{\"colorbar\":{\"outlinewidth\":0,\"ticks\":\"\"}}}],\"scatterpolar\":[{\"type\":\"scatterpolar\",\"marker\":{\"colorbar\":{\"outlinewidth\":0,\"ticks\":\"\"}}}],\"histogram\":[{\"marker\":{\"pattern\":{\"fillmode\":\"overlay\",\"size\":10,\"solidity\":0.2}},\"type\":\"histogram\"}],\"scattergl\":[{\"type\":\"scattergl\",\"marker\":{\"colorbar\":{\"outlinewidth\":0,\"ticks\":\"\"}}}],\"scatter3d\":[{\"type\":\"scatter3d\",\"line\":{\"colorbar\":{\"outlinewidth\":0,\"ticks\":\"\"}},\"marker\":{\"colorbar\":{\"outlinewidth\":0,\"ticks\":\"\"}}}],\"scattermapbox\":[{\"type\":\"scattermapbox\",\"marker\":{\"colorbar\":{\"outlinewidth\":0,\"ticks\":\"\"}}}],\"scatterternary\":[{\"type\":\"scatterternary\",\"marker\":{\"colorbar\":{\"outlinewidth\":0,\"ticks\":\"\"}}}],\"scattercarpet\":[{\"type\":\"scattercarpet\",\"marker\":{\"colorbar\":{\"outlinewidth\":0,\"ticks\":\"\"}}}],\"carpet\":[{\"aaxis\":{\"endlinecolor\":\"#2a3f5f\",\"gridcolor\":\"white\",\"linecolor\":\"white\",\"minorgridcolor\":\"white\",\"startlinecolor\":\"#2a3f5f\"},\"baxis\":{\"endlinecolor\":\"#2a3f5f\",\"gridcolor\":\"white\",\"linecolor\":\"white\",\"minorgridcolor\":\"white\",\"startlinecolor\":\"#2a3f5f\"},\"type\":\"carpet\"}],\"table\":[{\"cells\":{\"fill\":{\"color\":\"#EBF0F8\"},\"line\":{\"color\":\"white\"}},\"header\":{\"fill\":{\"color\":\"#C8D4E3\"},\"line\":{\"color\":\"white\"}},\"type\":\"table\"}],\"barpolar\":[{\"marker\":{\"line\":{\"color\":\"#E5ECF6\",\"width\":0.5},\"pattern\":{\"fillmode\":\"overlay\",\"size\":10,\"solidity\":0.2}},\"type\":\"barpolar\"}],\"pie\":[{\"automargin\":true,\"type\":\"pie\"}]},\"layout\":{\"autotypenumbers\":\"strict\",\"colorway\":[\"#636efa\",\"#EF553B\",\"#00cc96\",\"#ab63fa\",\"#FFA15A\",\"#19d3f3\",\"#FF6692\",\"#B6E880\",\"#FF97FF\",\"#FECB52\"],\"font\":{\"color\":\"#2a3f5f\"},\"hovermode\":\"closest\",\"hoverlabel\":{\"align\":\"left\"},\"paper_bgcolor\":\"white\",\"plot_bgcolor\":\"#E5ECF6\",\"polar\":{\"bgcolor\":\"#E5ECF6\",\"angularaxis\":{\"gridcolor\":\"white\",\"linecolor\":\"white\",\"ticks\":\"\"},\"radialaxis\":{\"gridcolor\":\"white\",\"linecolor\":\"white\",\"ticks\":\"\"}},\"ternary\":{\"bgcolor\":\"#E5ECF6\",\"aaxis\":{\"gridcolor\":\"white\",\"linecolor\":\"white\",\"ticks\":\"\"},\"baxis\":{\"gridcolor\":\"white\",\"linecolor\":\"white\",\"ticks\":\"\"},\"caxis\":{\"gridcolor\":\"white\",\"linecolor\":\"white\",\"ticks\":\"\"}},\"coloraxis\":{\"colorbar\":{\"outlinewidth\":0,\"ticks\":\"\"}},\"colorscale\":{\"sequential\":[[0.0,\"#0d0887\"],[0.1111111111111111,\"#46039f\"],[0.2222222222222222,\"#7201a8\"],[0.3333333333333333,\"#9c179e\"],[0.4444444444444444,\"#bd3786\"],[0.5555555555555556,\"#d8576b\"],[0.6666666666666666,\"#ed7953\"],[0.7777777777777778,\"#fb9f3a\"],[0.8888888888888888,\"#fdca26\"],[1.0,\"#f0f921\"]],\"sequentialminus\":[[0.0,\"#0d0887\"],[0.1111111111111111,\"#46039f\"],[0.2222222222222222,\"#7201a8\"],[0.3333333333333333,\"#9c179e\"],[0.4444444444444444,\"#bd3786\"],[0.5555555555555556,\"#d8576b\"],[0.6666666666666666,\"#ed7953\"],[0.7777777777777778,\"#fb9f3a\"],[0.8888888888888888,\"#fdca26\"],[1.0,\"#f0f921\"]],\"diverging\":[[0,\"#8e0152\"],[0.1,\"#c51b7d\"],[0.2,\"#de77ae\"],[0.3,\"#f1b6da\"],[0.4,\"#fde0ef\"],[0.5,\"#f7f7f7\"],[0.6,\"#e6f5d0\"],[0.7,\"#b8e186\"],[0.8,\"#7fbc41\"],[0.9,\"#4d9221\"],[1,\"#276419\"]]},\"xaxis\":{\"gridcolor\":\"white\",\"linecolor\":\"white\",\"ticks\":\"\",\"title\":{\"standoff\":15},\"zerolinecolor\":\"white\",\"automargin\":true,\"zerolinewidth\":2},\"yaxis\":{\"gridcolor\":\"white\",\"linecolor\":\"white\",\"ticks\":\"\",\"title\":{\"standoff\":15},\"zerolinecolor\":\"white\",\"automargin\":true,\"zerolinewidth\":2},\"scene\":{\"xaxis\":{\"backgroundcolor\":\"#E5ECF6\",\"gridcolor\":\"white\",\"linecolor\":\"white\",\"showbackground\":true,\"ticks\":\"\",\"zerolinecolor\":\"white\",\"gridwidth\":2},\"yaxis\":{\"backgroundcolor\":\"#E5ECF6\",\"gridcolor\":\"white\",\"linecolor\":\"white\",\"showbackground\":true,\"ticks\":\"\",\"zerolinecolor\":\"white\",\"gridwidth\":2},\"zaxis\":{\"backgroundcolor\":\"#E5ECF6\",\"gridcolor\":\"white\",\"linecolor\":\"white\",\"showbackground\":true,\"ticks\":\"\",\"zerolinecolor\":\"white\",\"gridwidth\":2}},\"shapedefaults\":{\"line\":{\"color\":\"#2a3f5f\"}},\"annotationdefaults\":{\"arrowcolor\":\"#2a3f5f\",\"arrowhead\":0,\"arrowwidth\":1},\"geo\":{\"bgcolor\":\"white\",\"landcolor\":\"#E5ECF6\",\"subunitcolor\":\"white\",\"showland\":true,\"showlakes\":true,\"lakecolor\":\"white\"},\"title\":{\"x\":0.05},\"mapbox\":{\"style\":\"light\"}}},\"xaxis\":{\"anchor\":\"y\",\"domain\":[0.0,1.0],\"title\":{\"text\":\"Longitude\"}},\"yaxis\":{\"anchor\":\"x\",\"domain\":[0.0,1.0],\"title\":{\"text\":\"Latitude\"}},\"legend\":{\"title\":{\"text\":\"color\"},\"tracegroupgap\":0},\"margin\":{\"t\":60},\"title\":{\"text\":\"Quake in 2d space (DBSCAN labels)\"}},                        {\"responsive\": true}                    ).then(function(){\n",
              "                            \n",
              "var gd = document.getElementById('288144f4-d2c8-4011-a05b-b95e3a994fb9');\n",
              "var x = new MutationObserver(function (mutations, observer) {{\n",
              "        var display = window.getComputedStyle(gd).display;\n",
              "        if (!display || display === 'none') {{\n",
              "            console.log([gd, 'removed!']);\n",
              "            Plotly.purge(gd);\n",
              "            observer.disconnect();\n",
              "        }}\n",
              "}});\n",
              "\n",
              "// Listen for the removal of the full notebook cells\n",
              "var notebookContainer = gd.closest('#notebook-container');\n",
              "if (notebookContainer) {{\n",
              "    x.observe(notebookContainer, {childList: true});\n",
              "}}\n",
              "\n",
              "// Listen for the clearing of the current output cell\n",
              "var outputEl = gd.closest('.output');\n",
              "if (outputEl) {{\n",
              "    x.observe(outputEl, {childList: true});\n",
              "}}\n",
              "\n",
              "                        })                };                            </script>        </div>\n",
              "</body>\n",
              "</html>"
            ]
          },
          "metadata": {}
        }
      ]
    },
    {
      "cell_type": "code",
      "source": [
        "y_dbscan"
      ],
      "metadata": {
        "colab": {
          "base_uri": "https://localhost:8080/"
        },
        "id": "aKms5xwwS72o",
        "outputId": "c92dd1a1-b6b8-451f-d5e8-420d5d319919"
      },
      "execution_count": null,
      "outputs": [
        {
          "output_type": "execute_result",
          "data": {
            "text/plain": [
              "array([-1, -1, -1, ..., -1, -1, -1])"
            ]
          },
          "metadata": {},
          "execution_count": 37
        }
      ]
    },
    {
      "cell_type": "code",
      "source": [
        "df.columns"
      ],
      "metadata": {
        "colab": {
          "base_uri": "https://localhost:8080/"
        },
        "id": "zYEcVWbFycCh",
        "outputId": "9fb9a5d2-6a2f-42f6-f753-02b76290a3e7"
      },
      "execution_count": null,
      "outputs": [
        {
          "output_type": "execute_result",
          "data": {
            "text/plain": [
              "Index(['Focal depth', 'Latitude', 'Longitude', 'Richter'], dtype='object')"
            ]
          },
          "metadata": {},
          "execution_count": 38
        }
      ]
    },
    {
      "cell_type": "code",
      "source": [
        "# df = df[['Focal depth', 'Latitude', 'Longitude', 'Richter']]"
      ],
      "metadata": {
        "id": "BCQebxEYdlvS"
      },
      "execution_count": null,
      "outputs": []
    },
    {
      "cell_type": "code",
      "source": [
        "df['kmeans_label'] = pd.Series(y_kmeans).map(kmeans_labels_mapping)\n",
        "df['ground_truth'] = pd.Series(y_kmeans).map(kmeans_labels_mapping)\n",
        "df['agglomerative_label'] = pd.Series(y_agglomerative).map(agglomerative_labels_mapping)\n",
        "df['dbscan_label'] = pd.Series(y_dbscan).map(dbscan_labels_mapping)"
      ],
      "metadata": {
        "id": "sUjWQ9cIDVk5"
      },
      "execution_count": null,
      "outputs": []
    },
    {
      "cell_type": "code",
      "source": [
        "df.describe(include='all')"
      ],
      "metadata": {
        "id": "Vk1UEq9iy-jH",
        "colab": {
          "base_uri": "https://localhost:8080/",
          "height": 394
        },
        "outputId": "2212747c-d62e-47b5-ee46-bb7e4bfa0f4a"
      },
      "execution_count": null,
      "outputs": [
        {
          "output_type": "execute_result",
          "data": {
            "text/plain": [
              "        Focal depth     Latitude    Longitude      Richter kmeans_label  \\\n",
              "count   2178.000000  2178.000000  2178.000000  2178.000000         2178   \n",
              "unique          NaN          NaN          NaN          NaN            3   \n",
              "top             NaN          NaN          NaN          NaN       label0   \n",
              "freq            NaN          NaN          NaN          NaN         1437   \n",
              "mean      74.359963     7.961997    54.914835     5.977181          NaN   \n",
              "std      116.467797    30.545583   118.875581     0.189426          NaN   \n",
              "min        0.000000   -66.490000  -179.960000     5.800000          NaN   \n",
              "25%       21.000000   -12.432500   -67.782500     5.800000          NaN   \n",
              "50%       39.000000     0.210000   122.100000     5.900000          NaN   \n",
              "75%       68.000000    36.480000   146.860000     6.100000          NaN   \n",
              "max      656.000000    78.150000   180.000000     6.900000          NaN   \n",
              "\n",
              "       ground_truth agglomerative_label dbscan_label  \n",
              "count          2178                2178         2157  \n",
              "unique            3                   3            4  \n",
              "top          label0              label1      OUTLIER  \n",
              "freq           1437                1430         2073  \n",
              "mean            NaN                 NaN          NaN  \n",
              "std             NaN                 NaN          NaN  \n",
              "min             NaN                 NaN          NaN  \n",
              "25%             NaN                 NaN          NaN  \n",
              "50%             NaN                 NaN          NaN  \n",
              "75%             NaN                 NaN          NaN  \n",
              "max             NaN                 NaN          NaN  "
            ],
            "text/html": [
              "\n",
              "  <div id=\"df-96f17f32-a16c-4f71-9950-69b9895b92de\">\n",
              "    <div class=\"colab-df-container\">\n",
              "      <div>\n",
              "<style scoped>\n",
              "    .dataframe tbody tr th:only-of-type {\n",
              "        vertical-align: middle;\n",
              "    }\n",
              "\n",
              "    .dataframe tbody tr th {\n",
              "        vertical-align: top;\n",
              "    }\n",
              "\n",
              "    .dataframe thead th {\n",
              "        text-align: right;\n",
              "    }\n",
              "</style>\n",
              "<table border=\"1\" class=\"dataframe\">\n",
              "  <thead>\n",
              "    <tr style=\"text-align: right;\">\n",
              "      <th></th>\n",
              "      <th>Focal depth</th>\n",
              "      <th>Latitude</th>\n",
              "      <th>Longitude</th>\n",
              "      <th>Richter</th>\n",
              "      <th>kmeans_label</th>\n",
              "      <th>ground_truth</th>\n",
              "      <th>agglomerative_label</th>\n",
              "      <th>dbscan_label</th>\n",
              "    </tr>\n",
              "  </thead>\n",
              "  <tbody>\n",
              "    <tr>\n",
              "      <th>count</th>\n",
              "      <td>2178.000000</td>\n",
              "      <td>2178.000000</td>\n",
              "      <td>2178.000000</td>\n",
              "      <td>2178.000000</td>\n",
              "      <td>2178</td>\n",
              "      <td>2178</td>\n",
              "      <td>2178</td>\n",
              "      <td>2157</td>\n",
              "    </tr>\n",
              "    <tr>\n",
              "      <th>unique</th>\n",
              "      <td>NaN</td>\n",
              "      <td>NaN</td>\n",
              "      <td>NaN</td>\n",
              "      <td>NaN</td>\n",
              "      <td>3</td>\n",
              "      <td>3</td>\n",
              "      <td>3</td>\n",
              "      <td>4</td>\n",
              "    </tr>\n",
              "    <tr>\n",
              "      <th>top</th>\n",
              "      <td>NaN</td>\n",
              "      <td>NaN</td>\n",
              "      <td>NaN</td>\n",
              "      <td>NaN</td>\n",
              "      <td>label0</td>\n",
              "      <td>label0</td>\n",
              "      <td>label1</td>\n",
              "      <td>OUTLIER</td>\n",
              "    </tr>\n",
              "    <tr>\n",
              "      <th>freq</th>\n",
              "      <td>NaN</td>\n",
              "      <td>NaN</td>\n",
              "      <td>NaN</td>\n",
              "      <td>NaN</td>\n",
              "      <td>1437</td>\n",
              "      <td>1437</td>\n",
              "      <td>1430</td>\n",
              "      <td>2073</td>\n",
              "    </tr>\n",
              "    <tr>\n",
              "      <th>mean</th>\n",
              "      <td>74.359963</td>\n",
              "      <td>7.961997</td>\n",
              "      <td>54.914835</td>\n",
              "      <td>5.977181</td>\n",
              "      <td>NaN</td>\n",
              "      <td>NaN</td>\n",
              "      <td>NaN</td>\n",
              "      <td>NaN</td>\n",
              "    </tr>\n",
              "    <tr>\n",
              "      <th>std</th>\n",
              "      <td>116.467797</td>\n",
              "      <td>30.545583</td>\n",
              "      <td>118.875581</td>\n",
              "      <td>0.189426</td>\n",
              "      <td>NaN</td>\n",
              "      <td>NaN</td>\n",
              "      <td>NaN</td>\n",
              "      <td>NaN</td>\n",
              "    </tr>\n",
              "    <tr>\n",
              "      <th>min</th>\n",
              "      <td>0.000000</td>\n",
              "      <td>-66.490000</td>\n",
              "      <td>-179.960000</td>\n",
              "      <td>5.800000</td>\n",
              "      <td>NaN</td>\n",
              "      <td>NaN</td>\n",
              "      <td>NaN</td>\n",
              "      <td>NaN</td>\n",
              "    </tr>\n",
              "    <tr>\n",
              "      <th>25%</th>\n",
              "      <td>21.000000</td>\n",
              "      <td>-12.432500</td>\n",
              "      <td>-67.782500</td>\n",
              "      <td>5.800000</td>\n",
              "      <td>NaN</td>\n",
              "      <td>NaN</td>\n",
              "      <td>NaN</td>\n",
              "      <td>NaN</td>\n",
              "    </tr>\n",
              "    <tr>\n",
              "      <th>50%</th>\n",
              "      <td>39.000000</td>\n",
              "      <td>0.210000</td>\n",
              "      <td>122.100000</td>\n",
              "      <td>5.900000</td>\n",
              "      <td>NaN</td>\n",
              "      <td>NaN</td>\n",
              "      <td>NaN</td>\n",
              "      <td>NaN</td>\n",
              "    </tr>\n",
              "    <tr>\n",
              "      <th>75%</th>\n",
              "      <td>68.000000</td>\n",
              "      <td>36.480000</td>\n",
              "      <td>146.860000</td>\n",
              "      <td>6.100000</td>\n",
              "      <td>NaN</td>\n",
              "      <td>NaN</td>\n",
              "      <td>NaN</td>\n",
              "      <td>NaN</td>\n",
              "    </tr>\n",
              "    <tr>\n",
              "      <th>max</th>\n",
              "      <td>656.000000</td>\n",
              "      <td>78.150000</td>\n",
              "      <td>180.000000</td>\n",
              "      <td>6.900000</td>\n",
              "      <td>NaN</td>\n",
              "      <td>NaN</td>\n",
              "      <td>NaN</td>\n",
              "      <td>NaN</td>\n",
              "    </tr>\n",
              "  </tbody>\n",
              "</table>\n",
              "</div>\n",
              "      <button class=\"colab-df-convert\" onclick=\"convertToInteractive('df-96f17f32-a16c-4f71-9950-69b9895b92de')\"\n",
              "              title=\"Convert this dataframe to an interactive table.\"\n",
              "              style=\"display:none;\">\n",
              "        \n",
              "  <svg xmlns=\"http://www.w3.org/2000/svg\" height=\"24px\"viewBox=\"0 0 24 24\"\n",
              "       width=\"24px\">\n",
              "    <path d=\"M0 0h24v24H0V0z\" fill=\"none\"/>\n",
              "    <path d=\"M18.56 5.44l.94 2.06.94-2.06 2.06-.94-2.06-.94-.94-2.06-.94 2.06-2.06.94zm-11 1L8.5 8.5l.94-2.06 2.06-.94-2.06-.94L8.5 2.5l-.94 2.06-2.06.94zm10 10l.94 2.06.94-2.06 2.06-.94-2.06-.94-.94-2.06-.94 2.06-2.06.94z\"/><path d=\"M17.41 7.96l-1.37-1.37c-.4-.4-.92-.59-1.43-.59-.52 0-1.04.2-1.43.59L10.3 9.45l-7.72 7.72c-.78.78-.78 2.05 0 2.83L4 21.41c.39.39.9.59 1.41.59.51 0 1.02-.2 1.41-.59l7.78-7.78 2.81-2.81c.8-.78.8-2.07 0-2.86zM5.41 20L4 18.59l7.72-7.72 1.47 1.35L5.41 20z\"/>\n",
              "  </svg>\n",
              "      </button>\n",
              "      \n",
              "  <style>\n",
              "    .colab-df-container {\n",
              "      display:flex;\n",
              "      flex-wrap:wrap;\n",
              "      gap: 12px;\n",
              "    }\n",
              "\n",
              "    .colab-df-convert {\n",
              "      background-color: #E8F0FE;\n",
              "      border: none;\n",
              "      border-radius: 50%;\n",
              "      cursor: pointer;\n",
              "      display: none;\n",
              "      fill: #1967D2;\n",
              "      height: 32px;\n",
              "      padding: 0 0 0 0;\n",
              "      width: 32px;\n",
              "    }\n",
              "\n",
              "    .colab-df-convert:hover {\n",
              "      background-color: #E2EBFA;\n",
              "      box-shadow: 0px 1px 2px rgba(60, 64, 67, 0.3), 0px 1px 3px 1px rgba(60, 64, 67, 0.15);\n",
              "      fill: #174EA6;\n",
              "    }\n",
              "\n",
              "    [theme=dark] .colab-df-convert {\n",
              "      background-color: #3B4455;\n",
              "      fill: #D2E3FC;\n",
              "    }\n",
              "\n",
              "    [theme=dark] .colab-df-convert:hover {\n",
              "      background-color: #434B5C;\n",
              "      box-shadow: 0px 1px 3px 1px rgba(0, 0, 0, 0.15);\n",
              "      filter: drop-shadow(0px 1px 2px rgba(0, 0, 0, 0.3));\n",
              "      fill: #FFFFFF;\n",
              "    }\n",
              "  </style>\n",
              "\n",
              "      <script>\n",
              "        const buttonEl =\n",
              "          document.querySelector('#df-96f17f32-a16c-4f71-9950-69b9895b92de button.colab-df-convert');\n",
              "        buttonEl.style.display =\n",
              "          google.colab.kernel.accessAllowed ? 'block' : 'none';\n",
              "\n",
              "        async function convertToInteractive(key) {\n",
              "          const element = document.querySelector('#df-96f17f32-a16c-4f71-9950-69b9895b92de');\n",
              "          const dataTable =\n",
              "            await google.colab.kernel.invokeFunction('convertToInteractive',\n",
              "                                                     [key], {});\n",
              "          if (!dataTable) return;\n",
              "\n",
              "          const docLinkHtml = 'Like what you see? Visit the ' +\n",
              "            '<a target=\"_blank\" href=https://colab.research.google.com/notebooks/data_table.ipynb>data table notebook</a>'\n",
              "            + ' to learn more about interactive tables.';\n",
              "          element.innerHTML = '';\n",
              "          dataTable['output_type'] = 'display_data';\n",
              "          await google.colab.output.renderOutput(dataTable, element);\n",
              "          const docLink = document.createElement('div');\n",
              "          docLink.innerHTML = docLinkHtml;\n",
              "          element.appendChild(docLink);\n",
              "        }\n",
              "      </script>\n",
              "    </div>\n",
              "  </div>\n",
              "  "
            ]
          },
          "metadata": {},
          "execution_count": 41
        }
      ]
    },
    {
      "cell_type": "code",
      "source": [
        "df.columns"
      ],
      "metadata": {
        "colab": {
          "base_uri": "https://localhost:8080/"
        },
        "id": "TsCngGbCPeK7",
        "outputId": "56814635-a7f5-47ce-b1c2-6b398c4a999a"
      },
      "execution_count": null,
      "outputs": [
        {
          "output_type": "execute_result",
          "data": {
            "text/plain": [
              "Index(['Focal depth', 'Latitude', 'Longitude', 'Richter', 'kmeans_label',\n",
              "       'ground_truth', 'agglomerative_label', 'dbscan_label'],\n",
              "      dtype='object')"
            ]
          },
          "metadata": {},
          "execution_count": 42
        }
      ]
    },
    {
      "cell_type": "code",
      "source": [
        "df['dbscan_label'].fillna('OUTLIER', inplace=True)"
      ],
      "metadata": {
        "id": "tZ-RlzvRZ9qC"
      },
      "execution_count": null,
      "outputs": []
    },
    {
      "cell_type": "code",
      "source": [
        "# df.dropna(axis=1, inplace=True)\n",
        "df.isna().sum()"
      ],
      "metadata": {
        "colab": {
          "base_uri": "https://localhost:8080/"
        },
        "id": "vsJj_k4AWb1L",
        "outputId": "e3da2301-af25-4555-ad05-e52ee29df570"
      },
      "execution_count": null,
      "outputs": [
        {
          "output_type": "execute_result",
          "data": {
            "text/plain": [
              "Focal depth            0\n",
              "Latitude               0\n",
              "Longitude              0\n",
              "Richter                0\n",
              "kmeans_label           0\n",
              "ground_truth           0\n",
              "agglomerative_label    0\n",
              "dbscan_label           0\n",
              "dtype: int64"
            ]
          },
          "metadata": {},
          "execution_count": 44
        }
      ]
    },
    {
      "cell_type": "markdown",
      "metadata": {
        "id": "OPyRDTdjWmOz"
      },
      "source": [
        "# Clustering quality metrics"
      ]
    },
    {
      "cell_type": "markdown",
      "metadata": {
        "id": "kRUDNRAfWm8o"
      },
      "source": [
        "Metrics for measuring quality of clustering can be divided into 2 main groups - when we have ground truth labels and when we don't. <p>\n",
        "\n",
        "For measuring quality with labels we can use mutual information score (MI), adjusted Rand score.\n",
        "\n",
        "For fully unsupervised measuring usually used silhoette score and rarely Calinsky-Harabaz score. <p>\n",
        "\n",
        "\n",
        "* Rand index:\n",
        " * $a$, the number of pairs of elements in S that are in the same subset in X and in the same subset in Y\n",
        " * $b$, the number of pairs of elements in   S that are in different subsets in   X and in different subsets in  Y\n",
        " * $c$, the number of pairs of elements in   S that are in the same subset in   X and in different subsets in   Y\n",
        " * $d$, the number of pairs of elements in   S that are in different subsets in  X and in the same subset in Y <p>\n",
        " * $R = \\frac{a+b}{a+b+c+d} = \\frac{a+b}{C^n_2}$\n",
        "\n",
        "Lest denote $H(.)$ - entropy score, $H(.|.)$ - conditional entropy, $Y$ - ground truth labels, $C$ - cluster labels. <p>\n",
        "* Mutual information score: <p>\n",
        " * $MI(Y,C) = H(Y) - H(Y|C)$ <p>\n",
        "* Normalized mutual information score: <p>\n",
        " * $NMI(Y,C) = \\frac{2MI(Y,C)}{H(Y) + H(C)}$\n",
        "\n",
        "For evaluation we will use adjusted version of MI and Rand index. Adjustment is taking into consideration random clustering as basline."
      ]
    },
    {
      "cell_type": "code",
      "metadata": {
        "id": "nbtXZYWmWqa-"
      },
      "source": [
        "label_cols = ['kmeans_label', 'agglomerative_label', 'dbscan_label']"
      ],
      "execution_count": null,
      "outputs": []
    },
    {
      "cell_type": "code",
      "metadata": {
        "colab": {
          "base_uri": "https://localhost:8080/"
        },
        "id": "m-o2MxPGWs89",
        "outputId": "74ac729a-2014-4a1e-83e9-2c83f50475ac"
      },
      "source": [
        "for col in label_cols:\n",
        "    print(f'Adjusted MI score for {col} = {adjusted_mutual_info_score(df[\"ground_truth\"], df[col])}')"
      ],
      "execution_count": null,
      "outputs": [
        {
          "output_type": "stream",
          "name": "stdout",
          "text": [
            "Adjusted MI score for kmeans_label = 1.0\n",
            "Adjusted MI score for agglomerative_label = 0.8992952664065428\n",
            "Adjusted MI score for dbscan_label = 0.030523492472933157\n"
          ]
        }
      ]
    },
    {
      "cell_type": "code",
      "metadata": {
        "colab": {
          "base_uri": "https://localhost:8080/"
        },
        "id": "foN5wNMkWs4i",
        "outputId": "4a6f8235-d34e-4372-c6b6-f50088f53ee0"
      },
      "source": [
        "for col in label_cols:\n",
        "    print(f'Adjusted rand score for {col} = {adjusted_rand_score(df[\"ground_truth\"], df[col])}')"
      ],
      "execution_count": null,
      "outputs": [
        {
          "output_type": "stream",
          "name": "stdout",
          "text": [
            "Adjusted rand score for kmeans_label = 1.0\n",
            "Adjusted rand score for agglomerative_label = 0.9472873021800254\n",
            "Adjusted rand score for dbscan_label = -0.040136958349674436\n"
          ]
        }
      ]
    },
    {
      "cell_type": "code",
      "metadata": {
        "colab": {
          "base_uri": "https://localhost:8080/"
        },
        "id": "RCQkl-PbWs0n",
        "outputId": "ad2e4aaf-8074-4459-bd7b-180f3eab4c9c"
      },
      "source": [
        "for col in label_cols:\n",
        "    print(f'Calinski Harabasz score for {col} = {calinski_harabasz_score(X_scaled, df[col])}')"
      ],
      "execution_count": null,
      "outputs": [
        {
          "output_type": "stream",
          "name": "stdout",
          "text": [
            "Calinski Harabasz score for kmeans_label = 779.391583773992\n",
            "Calinski Harabasz score for agglomerative_label = 778.8247365295595\n",
            "Calinski Harabasz score for dbscan_label = 23.473843573885258\n"
          ]
        }
      ]
    },
    {
      "cell_type": "code",
      "source": [],
      "metadata": {
        "id": "HIkNMoaWJYqw"
      },
      "execution_count": null,
      "outputs": []
    },
    {
      "cell_type": "code",
      "source": [],
      "metadata": {
        "id": "cFhp8MERMa7v"
      },
      "execution_count": null,
      "outputs": []
    },
    {
      "cell_type": "markdown",
      "source": [
        "# Task\n",
        "\n",
        "Evaluation criteria (100% in total):\n",
        "\n",
        "● Exploratory analysis (there are some specific characteristics of features, which may change the\n",
        "result of the analysis) (10%)\n",
        "\n",
        "● Build K-Means with 15 clusters (10%)\n",
        "\n",
        "● Determine optimal number of clusters for K-Means (10%)\n",
        "\n",
        "● Create visualization for the obtained clusters (10%)\n",
        "\n",
        "● Try other clustering algorithms; tune their hyperparameters to achieve better results. You should\n",
        "use at least two different algorithms (20%)\n",
        "\n",
        "● Use labelled and unlabeled metrics to estimate quality of clusters you built. As ground truth use\n",
        "cluster labels from K-Means, choose most similar algorithm (20%)\n",
        "\n",
        "● Explain the final choice of best clusterizations: give interpretation of clusters (10%)\n",
        "\n",
        "● Visualize the best clusterizations in your opinion on the world map. (10%)"
      ],
      "metadata": {
        "id": "cO68ES35yKfI"
      }
    },
    {
      "cell_type": "code",
      "source": [],
      "metadata": {
        "id": "NZTBo6pqNgoe"
      },
      "execution_count": null,
      "outputs": []
    }
  ]
}