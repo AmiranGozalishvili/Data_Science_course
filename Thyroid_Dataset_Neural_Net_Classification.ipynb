{
  "nbformat": 4,
  "nbformat_minor": 0,
  "metadata": {
    "colab": {
      "provenance": [],
      "include_colab_link": true
    },
    "kernelspec": {
      "name": "python3",
      "display_name": "Python 3"
    },
    "language_info": {
      "name": "python"
    },
    "widgets": {
      "application/vnd.jupyter.widget-state+json": {
        "9e1a180f426642aaa0ee97aafd666315": {
          "model_module": "@jupyter-widgets/controls",
          "model_name": "HBoxModel",
          "model_module_version": "1.5.0",
          "state": {
            "_dom_classes": [],
            "_model_module": "@jupyter-widgets/controls",
            "_model_module_version": "1.5.0",
            "_model_name": "HBoxModel",
            "_view_count": null,
            "_view_module": "@jupyter-widgets/controls",
            "_view_module_version": "1.5.0",
            "_view_name": "HBoxView",
            "box_style": "",
            "children": [
              "IPY_MODEL_5261d70a916f43c28360493951493165",
              "IPY_MODEL_0308c984daf7455fae0cf7d0e822a4e3",
              "IPY_MODEL_9bf84c7128374190af6ec53ecf94aabb"
            ],
            "layout": "IPY_MODEL_6b2fe875f6c947dfafa24caa6ade1d3a"
          }
        },
        "5261d70a916f43c28360493951493165": {
          "model_module": "@jupyter-widgets/controls",
          "model_name": "HTMLModel",
          "model_module_version": "1.5.0",
          "state": {
            "_dom_classes": [],
            "_model_module": "@jupyter-widgets/controls",
            "_model_module_version": "1.5.0",
            "_model_name": "HTMLModel",
            "_view_count": null,
            "_view_module": "@jupyter-widgets/controls",
            "_view_module_version": "1.5.0",
            "_view_name": "HTMLView",
            "description": "",
            "description_tooltip": null,
            "layout": "IPY_MODEL_14900063d3d147729196b4c945468cc0",
            "placeholder": "​",
            "style": "IPY_MODEL_2f62482607bf4775a9db2d42b7d62741",
            "value": "100%"
          }
        },
        "0308c984daf7455fae0cf7d0e822a4e3": {
          "model_module": "@jupyter-widgets/controls",
          "model_name": "FloatProgressModel",
          "model_module_version": "1.5.0",
          "state": {
            "_dom_classes": [],
            "_model_module": "@jupyter-widgets/controls",
            "_model_module_version": "1.5.0",
            "_model_name": "FloatProgressModel",
            "_view_count": null,
            "_view_module": "@jupyter-widgets/controls",
            "_view_module_version": "1.5.0",
            "_view_name": "ProgressView",
            "bar_style": "success",
            "description": "",
            "description_tooltip": null,
            "layout": "IPY_MODEL_f3008946fde149c994778e7505b77709",
            "max": 200,
            "min": 0,
            "orientation": "horizontal",
            "style": "IPY_MODEL_3641c2e0d5b4441a9e1de8850ea74f5c",
            "value": 200
          }
        },
        "9bf84c7128374190af6ec53ecf94aabb": {
          "model_module": "@jupyter-widgets/controls",
          "model_name": "HTMLModel",
          "model_module_version": "1.5.0",
          "state": {
            "_dom_classes": [],
            "_model_module": "@jupyter-widgets/controls",
            "_model_module_version": "1.5.0",
            "_model_name": "HTMLModel",
            "_view_count": null,
            "_view_module": "@jupyter-widgets/controls",
            "_view_module_version": "1.5.0",
            "_view_name": "HTMLView",
            "description": "",
            "description_tooltip": null,
            "layout": "IPY_MODEL_94c8684cea594f48bfc309d71c961d68",
            "placeholder": "​",
            "style": "IPY_MODEL_9a7bd5e02344401ea94fc090f6d1c27d",
            "value": " 200/200 [01:37&lt;00:00,  2.08it/s]"
          }
        },
        "6b2fe875f6c947dfafa24caa6ade1d3a": {
          "model_module": "@jupyter-widgets/base",
          "model_name": "LayoutModel",
          "model_module_version": "1.2.0",
          "state": {
            "_model_module": "@jupyter-widgets/base",
            "_model_module_version": "1.2.0",
            "_model_name": "LayoutModel",
            "_view_count": null,
            "_view_module": "@jupyter-widgets/base",
            "_view_module_version": "1.2.0",
            "_view_name": "LayoutView",
            "align_content": null,
            "align_items": null,
            "align_self": null,
            "border": null,
            "bottom": null,
            "display": null,
            "flex": null,
            "flex_flow": null,
            "grid_area": null,
            "grid_auto_columns": null,
            "grid_auto_flow": null,
            "grid_auto_rows": null,
            "grid_column": null,
            "grid_gap": null,
            "grid_row": null,
            "grid_template_areas": null,
            "grid_template_columns": null,
            "grid_template_rows": null,
            "height": null,
            "justify_content": null,
            "justify_items": null,
            "left": null,
            "margin": null,
            "max_height": null,
            "max_width": null,
            "min_height": null,
            "min_width": null,
            "object_fit": null,
            "object_position": null,
            "order": null,
            "overflow": null,
            "overflow_x": null,
            "overflow_y": null,
            "padding": null,
            "right": null,
            "top": null,
            "visibility": null,
            "width": null
          }
        },
        "14900063d3d147729196b4c945468cc0": {
          "model_module": "@jupyter-widgets/base",
          "model_name": "LayoutModel",
          "model_module_version": "1.2.0",
          "state": {
            "_model_module": "@jupyter-widgets/base",
            "_model_module_version": "1.2.0",
            "_model_name": "LayoutModel",
            "_view_count": null,
            "_view_module": "@jupyter-widgets/base",
            "_view_module_version": "1.2.0",
            "_view_name": "LayoutView",
            "align_content": null,
            "align_items": null,
            "align_self": null,
            "border": null,
            "bottom": null,
            "display": null,
            "flex": null,
            "flex_flow": null,
            "grid_area": null,
            "grid_auto_columns": null,
            "grid_auto_flow": null,
            "grid_auto_rows": null,
            "grid_column": null,
            "grid_gap": null,
            "grid_row": null,
            "grid_template_areas": null,
            "grid_template_columns": null,
            "grid_template_rows": null,
            "height": null,
            "justify_content": null,
            "justify_items": null,
            "left": null,
            "margin": null,
            "max_height": null,
            "max_width": null,
            "min_height": null,
            "min_width": null,
            "object_fit": null,
            "object_position": null,
            "order": null,
            "overflow": null,
            "overflow_x": null,
            "overflow_y": null,
            "padding": null,
            "right": null,
            "top": null,
            "visibility": null,
            "width": null
          }
        },
        "2f62482607bf4775a9db2d42b7d62741": {
          "model_module": "@jupyter-widgets/controls",
          "model_name": "DescriptionStyleModel",
          "model_module_version": "1.5.0",
          "state": {
            "_model_module": "@jupyter-widgets/controls",
            "_model_module_version": "1.5.0",
            "_model_name": "DescriptionStyleModel",
            "_view_count": null,
            "_view_module": "@jupyter-widgets/base",
            "_view_module_version": "1.2.0",
            "_view_name": "StyleView",
            "description_width": ""
          }
        },
        "f3008946fde149c994778e7505b77709": {
          "model_module": "@jupyter-widgets/base",
          "model_name": "LayoutModel",
          "model_module_version": "1.2.0",
          "state": {
            "_model_module": "@jupyter-widgets/base",
            "_model_module_version": "1.2.0",
            "_model_name": "LayoutModel",
            "_view_count": null,
            "_view_module": "@jupyter-widgets/base",
            "_view_module_version": "1.2.0",
            "_view_name": "LayoutView",
            "align_content": null,
            "align_items": null,
            "align_self": null,
            "border": null,
            "bottom": null,
            "display": null,
            "flex": null,
            "flex_flow": null,
            "grid_area": null,
            "grid_auto_columns": null,
            "grid_auto_flow": null,
            "grid_auto_rows": null,
            "grid_column": null,
            "grid_gap": null,
            "grid_row": null,
            "grid_template_areas": null,
            "grid_template_columns": null,
            "grid_template_rows": null,
            "height": null,
            "justify_content": null,
            "justify_items": null,
            "left": null,
            "margin": null,
            "max_height": null,
            "max_width": null,
            "min_height": null,
            "min_width": null,
            "object_fit": null,
            "object_position": null,
            "order": null,
            "overflow": null,
            "overflow_x": null,
            "overflow_y": null,
            "padding": null,
            "right": null,
            "top": null,
            "visibility": null,
            "width": null
          }
        },
        "3641c2e0d5b4441a9e1de8850ea74f5c": {
          "model_module": "@jupyter-widgets/controls",
          "model_name": "ProgressStyleModel",
          "model_module_version": "1.5.0",
          "state": {
            "_model_module": "@jupyter-widgets/controls",
            "_model_module_version": "1.5.0",
            "_model_name": "ProgressStyleModel",
            "_view_count": null,
            "_view_module": "@jupyter-widgets/base",
            "_view_module_version": "1.2.0",
            "_view_name": "StyleView",
            "bar_color": null,
            "description_width": ""
          }
        },
        "94c8684cea594f48bfc309d71c961d68": {
          "model_module": "@jupyter-widgets/base",
          "model_name": "LayoutModel",
          "model_module_version": "1.2.0",
          "state": {
            "_model_module": "@jupyter-widgets/base",
            "_model_module_version": "1.2.0",
            "_model_name": "LayoutModel",
            "_view_count": null,
            "_view_module": "@jupyter-widgets/base",
            "_view_module_version": "1.2.0",
            "_view_name": "LayoutView",
            "align_content": null,
            "align_items": null,
            "align_self": null,
            "border": null,
            "bottom": null,
            "display": null,
            "flex": null,
            "flex_flow": null,
            "grid_area": null,
            "grid_auto_columns": null,
            "grid_auto_flow": null,
            "grid_auto_rows": null,
            "grid_column": null,
            "grid_gap": null,
            "grid_row": null,
            "grid_template_areas": null,
            "grid_template_columns": null,
            "grid_template_rows": null,
            "height": null,
            "justify_content": null,
            "justify_items": null,
            "left": null,
            "margin": null,
            "max_height": null,
            "max_width": null,
            "min_height": null,
            "min_width": null,
            "object_fit": null,
            "object_position": null,
            "order": null,
            "overflow": null,
            "overflow_x": null,
            "overflow_y": null,
            "padding": null,
            "right": null,
            "top": null,
            "visibility": null,
            "width": null
          }
        },
        "9a7bd5e02344401ea94fc090f6d1c27d": {
          "model_module": "@jupyter-widgets/controls",
          "model_name": "DescriptionStyleModel",
          "model_module_version": "1.5.0",
          "state": {
            "_model_module": "@jupyter-widgets/controls",
            "_model_module_version": "1.5.0",
            "_model_name": "DescriptionStyleModel",
            "_view_count": null,
            "_view_module": "@jupyter-widgets/base",
            "_view_module_version": "1.2.0",
            "_view_name": "StyleView",
            "description_width": ""
          }
        }
      }
    },
    "accelerator": "GPU",
    "gpuClass": "standard"
  },
  "cells": [
    {
      "cell_type": "markdown",
      "metadata": {
        "id": "view-in-github",
        "colab_type": "text"
      },
      "source": [
        "<a href=\"https://colab.research.google.com/github/AmiranGozalishvili/Data_Science_course/blob/main/Thyroid_Dataset_Neural_Net_Classification.ipynb\" target=\"_parent\"><img src=\"https://colab.research.google.com/assets/colab-badge.svg\" alt=\"Open In Colab\"/></a>"
      ]
    },
    {
      "cell_type": "markdown",
      "source": [
        "`Data Set Information:\n",
        "\n",
        "From Garavan Institute\n",
        "\n",
        "Documentation: as given by Ross Quinlan\n",
        "\n",
        "6 databases from the Garavan Institute in Sydney, Australia\n",
        "\n",
        "Approximately the following for each database:\n",
        "\n",
        "    ** 2800 training (data) instances and 972 test instances\n",
        "\n",
        "    ** Plenty of missing data\n",
        "\n",
        "    ** 29 or so attributes, either Boolean or continuously-valued\n",
        "\n",
        "\n",
        "2 additional databases, also from Ross Quinlan, are also here\n",
        "\n",
        "    ** Hypothyroid.data and sick-euthyroid.data\n",
        "\n",
        "    ** Quinlan believes that these databases have been corrupted\n",
        "\n",
        "    ** Their format is highly similar to the other databases\n",
        "\n",
        "1 more database of 9172 instances that cover 20 classes, and a related domain theory\n",
        "\n",
        "Another thyroid database from Stefan Aeberhard\n",
        "\n",
        "    ** 3 classes, 215 instances, 5 attributes\n",
        "\n",
        "    ** No missing values\n",
        "\n",
        "A Thyroid database suited for training ANNs\n",
        "\n",
        "    ** 3 classes\n",
        "\n",
        "    ** 3772 training instances, 3428 testing instances\n",
        "\n",
        "    ** Includes cost data (donated by Peter Turney)"
      ],
      "metadata": {
        "id": "n6UGMY6R8FFn"
      }
    },
    {
      "cell_type": "markdown",
      "source": [
        "# Classification"
      ],
      "metadata": {
        "id": "Kv4rfVl8hWF0"
      }
    },
    {
      "cell_type": "code",
      "execution_count": null,
      "metadata": {
        "id": "PW-_3KPYRreo"
      },
      "outputs": [],
      "source": [
        "import pandas as pd\n",
        "import numpy as np\n",
        "import matplotlib.pyplot as plt\n",
        "import seaborn as sns\n",
        "import pandas_profiling\n",
        "\n",
        "from sklearn.impute import SimpleImputer\n",
        "\n",
        "from sklearn.preprocessing import StandardScaler, Normalizer, OneHotEncoder, OrdinalEncoder, LabelEncoder, MinMaxScaler\n",
        "from sklearn.model_selection import train_test_split\n",
        "from sklearn.model_selection import GridSearchCV, KFold, StratifiedKFold\n",
        "\n",
        "import warnings\n",
        "\n",
        "from IPython.display import set_matplotlib_formats\n",
        "warnings.filterwarnings('ignore')\n",
        "%matplotlib inline\n",
        "\n",
        "\n",
        "from sklearn.metrics import confusion_matrix, classification_report, accuracy_score\n",
        "\n",
        "\n",
        "plt.rcParams['figure.figsize'] = 9, 9\n",
        "plt.style.use('ggplot')\n",
        "\n",
        "from IPython.core.interactiveshell import InteractiveShell\n",
        "InteractiveShell.ast_node_interactivity = \"all\"\n",
        "\n",
        "import torch\n",
        "import torch.nn as nn\n",
        "import torch.optim as optim\n",
        "\n",
        "from tqdm.notebook import tqdm\n",
        "import matplotlib.pyplot as plt\n",
        "\n",
        "from torch.utils.data import Dataset, DataLoader, WeightedRandomSampler"
      ]
    },
    {
      "cell_type": "code",
      "source": [],
      "metadata": {
        "id": "Y81GH02JAy6Z"
      },
      "execution_count": null,
      "outputs": []
    },
    {
      "cell_type": "markdown",
      "source": [
        "Import dataset"
      ],
      "metadata": {
        "id": "JB4JqU7IhVbM"
      }
    },
    {
      "cell_type": "code",
      "source": [
        "dataframe = pd.read_csv(\"/content/dataset_57_hypothyroid (1).csv\", na_values='?')"
      ],
      "metadata": {
        "id": "0HFxjjs3SJ_N"
      },
      "execution_count": null,
      "outputs": []
    },
    {
      "cell_type": "code",
      "source": [
        "df = dataframe"
      ],
      "metadata": {
        "id": "fS2hHZRoSX87"
      },
      "execution_count": null,
      "outputs": []
    },
    {
      "cell_type": "code",
      "source": [
        "df.head()"
      ],
      "metadata": {
        "colab": {
          "base_uri": "https://localhost:8080/",
          "height": 300
        },
        "id": "ajCXDfAwSa3d",
        "outputId": "410231be-e6db-4b4e-dedc-417fe4786661"
      },
      "execution_count": null,
      "outputs": [
        {
          "output_type": "execute_result",
          "data": {
            "text/plain": [
              "    age sex on_thyroxine query_on_thyroxine on_antithyroid_medication sick  \\\n",
              "0  41.0   F            f                  f                         f    f   \n",
              "1  23.0   F            f                  f                         f    f   \n",
              "2  46.0   M            f                  f                         f    f   \n",
              "3  70.0   F            t                  f                         f    f   \n",
              "4  70.0   F            f                  f                         f    f   \n",
              "\n",
              "  pregnant thyroid_surgery I131_treatment query_hypothyroid  ... TT4_measured  \\\n",
              "0        f               f              f                 f  ...            t   \n",
              "1        f               f              f                 f  ...            t   \n",
              "2        f               f              f                 f  ...            t   \n",
              "3        f               f              f                 f  ...            t   \n",
              "4        f               f              f                 f  ...            t   \n",
              "\n",
              "     TT4 T4U_measured   T4U FTI_measured    FTI TBG_measured  TBG  \\\n",
              "0  125.0            t  1.14            t  109.0            f  NaN   \n",
              "1  102.0            f   NaN            f    NaN            f  NaN   \n",
              "2  109.0            t  0.91            t  120.0            f  NaN   \n",
              "3  175.0            f   NaN            f    NaN            f  NaN   \n",
              "4   61.0            t  0.87            t   70.0            f  NaN   \n",
              "\n",
              "  referral_source     Class  \n",
              "0            SVHC  negative  \n",
              "1           other  negative  \n",
              "2           other  negative  \n",
              "3           other  negative  \n",
              "4             SVI  negative  \n",
              "\n",
              "[5 rows x 30 columns]"
            ],
            "text/html": [
              "\n",
              "  <div id=\"df-69fe0844-2369-49d2-9718-78391913d1e1\">\n",
              "    <div class=\"colab-df-container\">\n",
              "      <div>\n",
              "<style scoped>\n",
              "    .dataframe tbody tr th:only-of-type {\n",
              "        vertical-align: middle;\n",
              "    }\n",
              "\n",
              "    .dataframe tbody tr th {\n",
              "        vertical-align: top;\n",
              "    }\n",
              "\n",
              "    .dataframe thead th {\n",
              "        text-align: right;\n",
              "    }\n",
              "</style>\n",
              "<table border=\"1\" class=\"dataframe\">\n",
              "  <thead>\n",
              "    <tr style=\"text-align: right;\">\n",
              "      <th></th>\n",
              "      <th>age</th>\n",
              "      <th>sex</th>\n",
              "      <th>on_thyroxine</th>\n",
              "      <th>query_on_thyroxine</th>\n",
              "      <th>on_antithyroid_medication</th>\n",
              "      <th>sick</th>\n",
              "      <th>pregnant</th>\n",
              "      <th>thyroid_surgery</th>\n",
              "      <th>I131_treatment</th>\n",
              "      <th>query_hypothyroid</th>\n",
              "      <th>...</th>\n",
              "      <th>TT4_measured</th>\n",
              "      <th>TT4</th>\n",
              "      <th>T4U_measured</th>\n",
              "      <th>T4U</th>\n",
              "      <th>FTI_measured</th>\n",
              "      <th>FTI</th>\n",
              "      <th>TBG_measured</th>\n",
              "      <th>TBG</th>\n",
              "      <th>referral_source</th>\n",
              "      <th>Class</th>\n",
              "    </tr>\n",
              "  </thead>\n",
              "  <tbody>\n",
              "    <tr>\n",
              "      <th>0</th>\n",
              "      <td>41.0</td>\n",
              "      <td>F</td>\n",
              "      <td>f</td>\n",
              "      <td>f</td>\n",
              "      <td>f</td>\n",
              "      <td>f</td>\n",
              "      <td>f</td>\n",
              "      <td>f</td>\n",
              "      <td>f</td>\n",
              "      <td>f</td>\n",
              "      <td>...</td>\n",
              "      <td>t</td>\n",
              "      <td>125.0</td>\n",
              "      <td>t</td>\n",
              "      <td>1.14</td>\n",
              "      <td>t</td>\n",
              "      <td>109.0</td>\n",
              "      <td>f</td>\n",
              "      <td>NaN</td>\n",
              "      <td>SVHC</td>\n",
              "      <td>negative</td>\n",
              "    </tr>\n",
              "    <tr>\n",
              "      <th>1</th>\n",
              "      <td>23.0</td>\n",
              "      <td>F</td>\n",
              "      <td>f</td>\n",
              "      <td>f</td>\n",
              "      <td>f</td>\n",
              "      <td>f</td>\n",
              "      <td>f</td>\n",
              "      <td>f</td>\n",
              "      <td>f</td>\n",
              "      <td>f</td>\n",
              "      <td>...</td>\n",
              "      <td>t</td>\n",
              "      <td>102.0</td>\n",
              "      <td>f</td>\n",
              "      <td>NaN</td>\n",
              "      <td>f</td>\n",
              "      <td>NaN</td>\n",
              "      <td>f</td>\n",
              "      <td>NaN</td>\n",
              "      <td>other</td>\n",
              "      <td>negative</td>\n",
              "    </tr>\n",
              "    <tr>\n",
              "      <th>2</th>\n",
              "      <td>46.0</td>\n",
              "      <td>M</td>\n",
              "      <td>f</td>\n",
              "      <td>f</td>\n",
              "      <td>f</td>\n",
              "      <td>f</td>\n",
              "      <td>f</td>\n",
              "      <td>f</td>\n",
              "      <td>f</td>\n",
              "      <td>f</td>\n",
              "      <td>...</td>\n",
              "      <td>t</td>\n",
              "      <td>109.0</td>\n",
              "      <td>t</td>\n",
              "      <td>0.91</td>\n",
              "      <td>t</td>\n",
              "      <td>120.0</td>\n",
              "      <td>f</td>\n",
              "      <td>NaN</td>\n",
              "      <td>other</td>\n",
              "      <td>negative</td>\n",
              "    </tr>\n",
              "    <tr>\n",
              "      <th>3</th>\n",
              "      <td>70.0</td>\n",
              "      <td>F</td>\n",
              "      <td>t</td>\n",
              "      <td>f</td>\n",
              "      <td>f</td>\n",
              "      <td>f</td>\n",
              "      <td>f</td>\n",
              "      <td>f</td>\n",
              "      <td>f</td>\n",
              "      <td>f</td>\n",
              "      <td>...</td>\n",
              "      <td>t</td>\n",
              "      <td>175.0</td>\n",
              "      <td>f</td>\n",
              "      <td>NaN</td>\n",
              "      <td>f</td>\n",
              "      <td>NaN</td>\n",
              "      <td>f</td>\n",
              "      <td>NaN</td>\n",
              "      <td>other</td>\n",
              "      <td>negative</td>\n",
              "    </tr>\n",
              "    <tr>\n",
              "      <th>4</th>\n",
              "      <td>70.0</td>\n",
              "      <td>F</td>\n",
              "      <td>f</td>\n",
              "      <td>f</td>\n",
              "      <td>f</td>\n",
              "      <td>f</td>\n",
              "      <td>f</td>\n",
              "      <td>f</td>\n",
              "      <td>f</td>\n",
              "      <td>f</td>\n",
              "      <td>...</td>\n",
              "      <td>t</td>\n",
              "      <td>61.0</td>\n",
              "      <td>t</td>\n",
              "      <td>0.87</td>\n",
              "      <td>t</td>\n",
              "      <td>70.0</td>\n",
              "      <td>f</td>\n",
              "      <td>NaN</td>\n",
              "      <td>SVI</td>\n",
              "      <td>negative</td>\n",
              "    </tr>\n",
              "  </tbody>\n",
              "</table>\n",
              "<p>5 rows × 30 columns</p>\n",
              "</div>\n",
              "      <button class=\"colab-df-convert\" onclick=\"convertToInteractive('df-69fe0844-2369-49d2-9718-78391913d1e1')\"\n",
              "              title=\"Convert this dataframe to an interactive table.\"\n",
              "              style=\"display:none;\">\n",
              "        \n",
              "  <svg xmlns=\"http://www.w3.org/2000/svg\" height=\"24px\"viewBox=\"0 0 24 24\"\n",
              "       width=\"24px\">\n",
              "    <path d=\"M0 0h24v24H0V0z\" fill=\"none\"/>\n",
              "    <path d=\"M18.56 5.44l.94 2.06.94-2.06 2.06-.94-2.06-.94-.94-2.06-.94 2.06-2.06.94zm-11 1L8.5 8.5l.94-2.06 2.06-.94-2.06-.94L8.5 2.5l-.94 2.06-2.06.94zm10 10l.94 2.06.94-2.06 2.06-.94-2.06-.94-.94-2.06-.94 2.06-2.06.94z\"/><path d=\"M17.41 7.96l-1.37-1.37c-.4-.4-.92-.59-1.43-.59-.52 0-1.04.2-1.43.59L10.3 9.45l-7.72 7.72c-.78.78-.78 2.05 0 2.83L4 21.41c.39.39.9.59 1.41.59.51 0 1.02-.2 1.41-.59l7.78-7.78 2.81-2.81c.8-.78.8-2.07 0-2.86zM5.41 20L4 18.59l7.72-7.72 1.47 1.35L5.41 20z\"/>\n",
              "  </svg>\n",
              "      </button>\n",
              "      \n",
              "  <style>\n",
              "    .colab-df-container {\n",
              "      display:flex;\n",
              "      flex-wrap:wrap;\n",
              "      gap: 12px;\n",
              "    }\n",
              "\n",
              "    .colab-df-convert {\n",
              "      background-color: #E8F0FE;\n",
              "      border: none;\n",
              "      border-radius: 50%;\n",
              "      cursor: pointer;\n",
              "      display: none;\n",
              "      fill: #1967D2;\n",
              "      height: 32px;\n",
              "      padding: 0 0 0 0;\n",
              "      width: 32px;\n",
              "    }\n",
              "\n",
              "    .colab-df-convert:hover {\n",
              "      background-color: #E2EBFA;\n",
              "      box-shadow: 0px 1px 2px rgba(60, 64, 67, 0.3), 0px 1px 3px 1px rgba(60, 64, 67, 0.15);\n",
              "      fill: #174EA6;\n",
              "    }\n",
              "\n",
              "    [theme=dark] .colab-df-convert {\n",
              "      background-color: #3B4455;\n",
              "      fill: #D2E3FC;\n",
              "    }\n",
              "\n",
              "    [theme=dark] .colab-df-convert:hover {\n",
              "      background-color: #434B5C;\n",
              "      box-shadow: 0px 1px 3px 1px rgba(0, 0, 0, 0.15);\n",
              "      filter: drop-shadow(0px 1px 2px rgba(0, 0, 0, 0.3));\n",
              "      fill: #FFFFFF;\n",
              "    }\n",
              "  </style>\n",
              "\n",
              "      <script>\n",
              "        const buttonEl =\n",
              "          document.querySelector('#df-69fe0844-2369-49d2-9718-78391913d1e1 button.colab-df-convert');\n",
              "        buttonEl.style.display =\n",
              "          google.colab.kernel.accessAllowed ? 'block' : 'none';\n",
              "\n",
              "        async function convertToInteractive(key) {\n",
              "          const element = document.querySelector('#df-69fe0844-2369-49d2-9718-78391913d1e1');\n",
              "          const dataTable =\n",
              "            await google.colab.kernel.invokeFunction('convertToInteractive',\n",
              "                                                     [key], {});\n",
              "          if (!dataTable) return;\n",
              "\n",
              "          const docLinkHtml = 'Like what you see? Visit the ' +\n",
              "            '<a target=\"_blank\" href=https://colab.research.google.com/notebooks/data_table.ipynb>data table notebook</a>'\n",
              "            + ' to learn more about interactive tables.';\n",
              "          element.innerHTML = '';\n",
              "          dataTable['output_type'] = 'display_data';\n",
              "          await google.colab.output.renderOutput(dataTable, element);\n",
              "          const docLink = document.createElement('div');\n",
              "          docLink.innerHTML = docLinkHtml;\n",
              "          element.appendChild(docLink);\n",
              "        }\n",
              "      </script>\n",
              "    </div>\n",
              "  </div>\n",
              "  "
            ]
          },
          "metadata": {},
          "execution_count": 4
        }
      ]
    },
    {
      "cell_type": "code",
      "source": [
        "df.sex.value_counts()"
      ],
      "metadata": {
        "colab": {
          "base_uri": "https://localhost:8080/"
        },
        "id": "yumDlUtb5RG_",
        "outputId": "2a4225d9-26a5-441d-a4ed-a32ce3d3dda6"
      },
      "execution_count": null,
      "outputs": [
        {
          "output_type": "execute_result",
          "data": {
            "text/plain": [
              "F    2480\n",
              "M    1142\n",
              "Name: sex, dtype: int64"
            ]
          },
          "metadata": {},
          "execution_count": 5
        }
      ]
    },
    {
      "cell_type": "markdown",
      "source": [
        "# data inspection"
      ],
      "metadata": {
        "id": "o1rCS15mzgpN"
      }
    },
    {
      "cell_type": "code",
      "source": [
        "# check dimensions of dataframe\n",
        "print(len(df.columns), len(df))"
      ],
      "metadata": {
        "colab": {
          "base_uri": "https://localhost:8080/"
        },
        "id": "uNqnYgwoScjn",
        "outputId": "57c78cb4-804c-4b2a-fcb4-d2dfcdad3f51"
      },
      "execution_count": null,
      "outputs": [
        {
          "output_type": "stream",
          "name": "stdout",
          "text": [
            "30 3772\n"
          ]
        }
      ]
    },
    {
      "cell_type": "code",
      "source": [
        "# find number of 'NaN', missing values in data\n",
        "print(df.isna().sum())"
      ],
      "metadata": {
        "colab": {
          "base_uri": "https://localhost:8080/"
        },
        "id": "Spf48gvzznAC",
        "outputId": "00fbfba6-646e-4dde-9e22-0316b3fb78c7"
      },
      "execution_count": null,
      "outputs": [
        {
          "output_type": "stream",
          "name": "stdout",
          "text": [
            "age                             1\n",
            "sex                           150\n",
            "on_thyroxine                    0\n",
            "query_on_thyroxine              0\n",
            "on_antithyroid_medication       0\n",
            "sick                            0\n",
            "pregnant                        0\n",
            "thyroid_surgery                 0\n",
            "I131_treatment                  0\n",
            "query_hypothyroid               0\n",
            "query_hyperthyroid              0\n",
            "lithium                         0\n",
            "goitre                          0\n",
            "tumor                           0\n",
            "hypopituitary                   0\n",
            "psych                           0\n",
            "TSH_measured                    0\n",
            "TSH                           369\n",
            "T3_measured                     0\n",
            "T3                            769\n",
            "TT4_measured                    0\n",
            "TT4                           231\n",
            "T4U_measured                    0\n",
            "T4U                           387\n",
            "FTI_measured                    0\n",
            "FTI                           385\n",
            "TBG_measured                    0\n",
            "TBG                          3772\n",
            "referral_source                 0\n",
            "Class                           0\n",
            "dtype: int64\n"
          ]
        }
      ]
    },
    {
      "cell_type": "code",
      "source": [
        "print(df.dtypes)"
      ],
      "metadata": {
        "colab": {
          "base_uri": "https://localhost:8080/"
        },
        "id": "fHFSaBxTzyC5",
        "outputId": "23aefd40-83c1-461c-92e2-a967605de6e3"
      },
      "execution_count": null,
      "outputs": [
        {
          "output_type": "stream",
          "name": "stdout",
          "text": [
            "age                          float64\n",
            "sex                           object\n",
            "on_thyroxine                  object\n",
            "query_on_thyroxine            object\n",
            "on_antithyroid_medication     object\n",
            "sick                          object\n",
            "pregnant                      object\n",
            "thyroid_surgery               object\n",
            "I131_treatment                object\n",
            "query_hypothyroid             object\n",
            "query_hyperthyroid            object\n",
            "lithium                       object\n",
            "goitre                        object\n",
            "tumor                         object\n",
            "hypopituitary                 object\n",
            "psych                         object\n",
            "TSH_measured                  object\n",
            "TSH                          float64\n",
            "T3_measured                   object\n",
            "T3                           float64\n",
            "TT4_measured                  object\n",
            "TT4                          float64\n",
            "T4U_measured                  object\n",
            "T4U                          float64\n",
            "FTI_measured                  object\n",
            "FTI                          float64\n",
            "TBG_measured                  object\n",
            "TBG                          float64\n",
            "referral_source               object\n",
            "Class                         object\n",
            "dtype: object\n"
          ]
        }
      ]
    },
    {
      "cell_type": "markdown",
      "source": [
        "columns with names \"..._measured\" means that analysis is done or not.\n",
        "so they are not usefull data columns"
      ],
      "metadata": {
        "id": "cIL1w0guKh70"
      }
    },
    {
      "cell_type": "code",
      "source": [
        "df.drop(['TBG_measured','TSH_measured', 'T3_measured','TT4_measured', 'T4U_measured', 'FTI_measured', 'TBG_measured'],axis = 1, inplace = True)"
      ],
      "metadata": {
        "id": "Cud4zi4DKPCX"
      },
      "execution_count": null,
      "outputs": []
    },
    {
      "cell_type": "code",
      "source": [
        "# check frequency of unique column values if result is 1 it means unique values are majority of columns\n",
        "\n",
        "(df.nunique()/len(df)).sort_values(ascending = False)"
      ],
      "metadata": {
        "colab": {
          "base_uri": "https://localhost:8080/"
        },
        "id": "FkkkIGRfLBAt",
        "outputId": "de523cb8-67ba-4188-c5d6-2b3d0651ca0d"
      },
      "execution_count": null,
      "outputs": [
        {
          "output_type": "execute_result",
          "data": {
            "text/plain": [
              "TSH                          0.076087\n",
              "TT4                          0.063892\n",
              "FTI                          0.062036\n",
              "T4U                          0.038706\n",
              "age                          0.024655\n",
              "T3                           0.018293\n",
              "referral_source              0.001326\n",
              "Class                        0.001060\n",
              "I131_treatment               0.000530\n",
              "query_hypothyroid            0.000530\n",
              "query_hyperthyroid           0.000530\n",
              "lithium                      0.000530\n",
              "sex                          0.000530\n",
              "tumor                        0.000530\n",
              "hypopituitary                0.000530\n",
              "psych                        0.000530\n",
              "thyroid_surgery              0.000530\n",
              "pregnant                     0.000530\n",
              "sick                         0.000530\n",
              "on_antithyroid_medication    0.000530\n",
              "query_on_thyroxine           0.000530\n",
              "on_thyroxine                 0.000530\n",
              "goitre                       0.000530\n",
              "TBG                          0.000000\n",
              "dtype: float64"
            ]
          },
          "metadata": {},
          "execution_count": 10
        }
      ]
    },
    {
      "cell_type": "markdown",
      "source": [
        "columns TBG has all missing values"
      ],
      "metadata": {
        "id": "mYQUXnVVSBQY"
      }
    },
    {
      "cell_type": "code",
      "source": [
        "df.drop(['TBG'], axis = 1, inplace = True)"
      ],
      "metadata": {
        "id": "8qeNCDVif7F2"
      },
      "execution_count": null,
      "outputs": []
    },
    {
      "cell_type": "markdown",
      "source": [
        "# Descriptive statistics\n",
        "\n",
        "In this section we can see specific data column statistics.\n",
        "\n",
        "mean, median, IQR, outlier detection, standard deviation, variance."
      ],
      "metadata": {
        "id": "JuDPx_QfyMRD"
      }
    },
    {
      "cell_type": "code",
      "source": [
        "print('mean:', df['age'].mean())\n",
        "print('median:', df['age'].median())\n",
        "print('min:', df['age'].min())\n",
        "print(\"max:\", df['age'].max())\n",
        "print(\"max-min:\", df['age'].max()-df['age'].min())"
      ],
      "metadata": {
        "colab": {
          "base_uri": "https://localhost:8080/"
        },
        "id": "rETcOPHi2zGz",
        "outputId": "3e0d3620-efc4-4d00-a458-316fa5a674b6"
      },
      "execution_count": null,
      "outputs": [
        {
          "output_type": "stream",
          "name": "stdout",
          "text": [
            "mean: 51.73587907716786\n",
            "median: 54.0\n",
            "min: 1.0\n",
            "max: 455.0\n",
            "max-min: 454.0\n"
          ]
        }
      ]
    },
    {
      "cell_type": "code",
      "source": [
        "df.drop(df[df.age > 100].index, inplace = True)"
      ],
      "metadata": {
        "id": "-7koGlgzBwyr"
      },
      "execution_count": null,
      "outputs": []
    },
    {
      "cell_type": "code",
      "source": [
        "print('Q1:', df['age'].quantile(0.25))\n",
        "print('Q3:', df['age'].quantile(0.75))\n",
        "# IQR = Q3 - Q1\n",
        "print('IQR:', df['age'].quantile(0.75) - df['age'].quantile(0.25))\n",
        "\n",
        "#Outlier limits\n",
        "#Q3 + 1.5 IQR and Q1 - 1.5 IQR\n",
        "\n",
        "Q1 = df['age'].quantile(0.25)\n",
        "Q3 = df['age'].quantile(0.75)\n",
        "IQR = Q3 - Q1\n",
        "#lower limit:\n",
        "lower_limit = Q1 - 1.5 * IQR\n",
        "print('lower limit:', lower_limit)\n",
        "#upper limit:\n",
        "upper_limit = Q3 + 1.5 * IQR\n",
        "print('upper limit:', Q3 + 1.5 * IQR)\n",
        "\n",
        "#Outliers\n",
        "#Values above median + 1.5 IQR and below median - 1.5 IQR:\n",
        "df['age'][(Q1 - 1.5 * IQR >= df['age']) |  (df['age'] >= Q3 + 1.5 * IQR)]\n",
        "\n",
        "# standard deviation is square root of the variance\n",
        "# variance is measure how spread out values are\n",
        "print('variance:',df['age'].var())\n",
        "print('standard deviation:',df['age'].std())"
      ],
      "metadata": {
        "colab": {
          "base_uri": "https://localhost:8080/"
        },
        "id": "7D_0ViF_3Rrb",
        "outputId": "6665e321-50dc-4ef3-91a3-e7501476cbb7"
      },
      "execution_count": null,
      "outputs": [
        {
          "output_type": "stream",
          "name": "stdout",
          "text": [
            "Q1: 36.0\n",
            "Q3: 67.0\n",
            "IQR: 31.0\n",
            "lower limit: -10.5\n",
            "upper limit: 113.5\n"
          ]
        },
        {
          "output_type": "execute_result",
          "data": {
            "text/plain": [
              "Series([], Name: age, dtype: float64)"
            ]
          },
          "metadata": {},
          "execution_count": 14
        },
        {
          "output_type": "stream",
          "name": "stdout",
          "text": [
            "variance: 360.353899851715\n",
            "standard deviation: 18.982989750081913\n"
          ]
        }
      ]
    },
    {
      "cell_type": "code",
      "source": [
        "# if variance is 0 it means that column has all same value and this columns is usless while computing\n",
        "df.var().sort_values()[:10]"
      ],
      "metadata": {
        "colab": {
          "base_uri": "https://localhost:8080/"
        },
        "id": "sVz5rl7ML-wk",
        "outputId": "d83b601a-4efb-44d6-c1e0-226cbceeac0e"
      },
      "execution_count": null,
      "outputs": [
        {
          "output_type": "execute_result",
          "data": {
            "text/plain": [
              "T4U       0.038209\n",
              "T3        0.684875\n",
              "age     360.353900\n",
              "TSH     601.474638\n",
              "FTI    1095.239188\n",
              "TT4    1267.994157\n",
              "dtype: float64"
            ]
          },
          "metadata": {},
          "execution_count": 15
        }
      ]
    },
    {
      "cell_type": "code",
      "source": [
        "df.var().sort_values()[-5:]"
      ],
      "metadata": {
        "colab": {
          "base_uri": "https://localhost:8080/"
        },
        "id": "CMlHPD4yMizF",
        "outputId": "1fad8153-44d6-4eb2-a9dd-8709d40ee67b"
      },
      "execution_count": null,
      "outputs": [
        {
          "output_type": "execute_result",
          "data": {
            "text/plain": [
              "T3        0.684875\n",
              "age     360.353900\n",
              "TSH     601.474638\n",
              "FTI    1095.239188\n",
              "TT4    1267.994157\n",
              "dtype: float64"
            ]
          },
          "metadata": {},
          "execution_count": 16
        }
      ]
    },
    {
      "cell_type": "code",
      "source": [
        "# check missing data. if missing data percentage is too high like 90% or higher, this column can be deleted\n",
        "\n",
        "total = df.isnull().sum().sort_values(ascending = False)\n",
        "percent = (df.isnull().sum()/df.isnull().count()).sort_values(ascending = False)\n",
        "mis_data = pd.concat([total, percent], axis = 1, keys = ['Total', 'percent'])\n",
        "mis_data.head()"
      ],
      "metadata": {
        "colab": {
          "base_uri": "https://localhost:8080/",
          "height": 206
        },
        "id": "PTaf3yEJM1u7",
        "outputId": "10d98e55-1701-4459-cbb1-ea5cb8d67afc"
      },
      "execution_count": null,
      "outputs": [
        {
          "output_type": "execute_result",
          "data": {
            "text/plain": [
              "     Total   percent\n",
              "T3     769  0.203925\n",
              "T4U    387  0.102625\n",
              "FTI    385  0.102095\n",
              "TSH    369  0.097852\n",
              "TT4    231  0.061257"
            ],
            "text/html": [
              "\n",
              "  <div id=\"df-214a5242-c6f6-49e1-99b9-5a4997faae5e\">\n",
              "    <div class=\"colab-df-container\">\n",
              "      <div>\n",
              "<style scoped>\n",
              "    .dataframe tbody tr th:only-of-type {\n",
              "        vertical-align: middle;\n",
              "    }\n",
              "\n",
              "    .dataframe tbody tr th {\n",
              "        vertical-align: top;\n",
              "    }\n",
              "\n",
              "    .dataframe thead th {\n",
              "        text-align: right;\n",
              "    }\n",
              "</style>\n",
              "<table border=\"1\" class=\"dataframe\">\n",
              "  <thead>\n",
              "    <tr style=\"text-align: right;\">\n",
              "      <th></th>\n",
              "      <th>Total</th>\n",
              "      <th>percent</th>\n",
              "    </tr>\n",
              "  </thead>\n",
              "  <tbody>\n",
              "    <tr>\n",
              "      <th>T3</th>\n",
              "      <td>769</td>\n",
              "      <td>0.203925</td>\n",
              "    </tr>\n",
              "    <tr>\n",
              "      <th>T4U</th>\n",
              "      <td>387</td>\n",
              "      <td>0.102625</td>\n",
              "    </tr>\n",
              "    <tr>\n",
              "      <th>FTI</th>\n",
              "      <td>385</td>\n",
              "      <td>0.102095</td>\n",
              "    </tr>\n",
              "    <tr>\n",
              "      <th>TSH</th>\n",
              "      <td>369</td>\n",
              "      <td>0.097852</td>\n",
              "    </tr>\n",
              "    <tr>\n",
              "      <th>TT4</th>\n",
              "      <td>231</td>\n",
              "      <td>0.061257</td>\n",
              "    </tr>\n",
              "  </tbody>\n",
              "</table>\n",
              "</div>\n",
              "      <button class=\"colab-df-convert\" onclick=\"convertToInteractive('df-214a5242-c6f6-49e1-99b9-5a4997faae5e')\"\n",
              "              title=\"Convert this dataframe to an interactive table.\"\n",
              "              style=\"display:none;\">\n",
              "        \n",
              "  <svg xmlns=\"http://www.w3.org/2000/svg\" height=\"24px\"viewBox=\"0 0 24 24\"\n",
              "       width=\"24px\">\n",
              "    <path d=\"M0 0h24v24H0V0z\" fill=\"none\"/>\n",
              "    <path d=\"M18.56 5.44l.94 2.06.94-2.06 2.06-.94-2.06-.94-.94-2.06-.94 2.06-2.06.94zm-11 1L8.5 8.5l.94-2.06 2.06-.94-2.06-.94L8.5 2.5l-.94 2.06-2.06.94zm10 10l.94 2.06.94-2.06 2.06-.94-2.06-.94-.94-2.06-.94 2.06-2.06.94z\"/><path d=\"M17.41 7.96l-1.37-1.37c-.4-.4-.92-.59-1.43-.59-.52 0-1.04.2-1.43.59L10.3 9.45l-7.72 7.72c-.78.78-.78 2.05 0 2.83L4 21.41c.39.39.9.59 1.41.59.51 0 1.02-.2 1.41-.59l7.78-7.78 2.81-2.81c.8-.78.8-2.07 0-2.86zM5.41 20L4 18.59l7.72-7.72 1.47 1.35L5.41 20z\"/>\n",
              "  </svg>\n",
              "      </button>\n",
              "      \n",
              "  <style>\n",
              "    .colab-df-container {\n",
              "      display:flex;\n",
              "      flex-wrap:wrap;\n",
              "      gap: 12px;\n",
              "    }\n",
              "\n",
              "    .colab-df-convert {\n",
              "      background-color: #E8F0FE;\n",
              "      border: none;\n",
              "      border-radius: 50%;\n",
              "      cursor: pointer;\n",
              "      display: none;\n",
              "      fill: #1967D2;\n",
              "      height: 32px;\n",
              "      padding: 0 0 0 0;\n",
              "      width: 32px;\n",
              "    }\n",
              "\n",
              "    .colab-df-convert:hover {\n",
              "      background-color: #E2EBFA;\n",
              "      box-shadow: 0px 1px 2px rgba(60, 64, 67, 0.3), 0px 1px 3px 1px rgba(60, 64, 67, 0.15);\n",
              "      fill: #174EA6;\n",
              "    }\n",
              "\n",
              "    [theme=dark] .colab-df-convert {\n",
              "      background-color: #3B4455;\n",
              "      fill: #D2E3FC;\n",
              "    }\n",
              "\n",
              "    [theme=dark] .colab-df-convert:hover {\n",
              "      background-color: #434B5C;\n",
              "      box-shadow: 0px 1px 3px 1px rgba(0, 0, 0, 0.15);\n",
              "      filter: drop-shadow(0px 1px 2px rgba(0, 0, 0, 0.3));\n",
              "      fill: #FFFFFF;\n",
              "    }\n",
              "  </style>\n",
              "\n",
              "      <script>\n",
              "        const buttonEl =\n",
              "          document.querySelector('#df-214a5242-c6f6-49e1-99b9-5a4997faae5e button.colab-df-convert');\n",
              "        buttonEl.style.display =\n",
              "          google.colab.kernel.accessAllowed ? 'block' : 'none';\n",
              "\n",
              "        async function convertToInteractive(key) {\n",
              "          const element = document.querySelector('#df-214a5242-c6f6-49e1-99b9-5a4997faae5e');\n",
              "          const dataTable =\n",
              "            await google.colab.kernel.invokeFunction('convertToInteractive',\n",
              "                                                     [key], {});\n",
              "          if (!dataTable) return;\n",
              "\n",
              "          const docLinkHtml = 'Like what you see? Visit the ' +\n",
              "            '<a target=\"_blank\" href=https://colab.research.google.com/notebooks/data_table.ipynb>data table notebook</a>'\n",
              "            + ' to learn more about interactive tables.';\n",
              "          element.innerHTML = '';\n",
              "          dataTable['output_type'] = 'display_data';\n",
              "          await google.colab.output.renderOutput(dataTable, element);\n",
              "          const docLink = document.createElement('div');\n",
              "          docLink.innerHTML = docLinkHtml;\n",
              "          element.appendChild(docLink);\n",
              "        }\n",
              "      </script>\n",
              "    </div>\n",
              "  </div>\n",
              "  "
            ]
          },
          "metadata": {},
          "execution_count": 17
        }
      ]
    },
    {
      "cell_type": "code",
      "source": [
        "df.isna().sum()"
      ],
      "metadata": {
        "colab": {
          "base_uri": "https://localhost:8080/"
        },
        "id": "4rr9WHAaDxOz",
        "outputId": "d1892246-4fbf-49e0-cb5a-941021e7228a"
      },
      "execution_count": null,
      "outputs": [
        {
          "output_type": "execute_result",
          "data": {
            "text/plain": [
              "age                            1\n",
              "sex                          150\n",
              "on_thyroxine                   0\n",
              "query_on_thyroxine             0\n",
              "on_antithyroid_medication      0\n",
              "sick                           0\n",
              "pregnant                       0\n",
              "thyroid_surgery                0\n",
              "I131_treatment                 0\n",
              "query_hypothyroid              0\n",
              "query_hyperthyroid             0\n",
              "lithium                        0\n",
              "goitre                         0\n",
              "tumor                          0\n",
              "hypopituitary                  0\n",
              "psych                          0\n",
              "TSH                          369\n",
              "T3                           769\n",
              "TT4                          231\n",
              "T4U                          387\n",
              "FTI                          385\n",
              "referral_source                0\n",
              "Class                          0\n",
              "dtype: int64"
            ]
          },
          "metadata": {},
          "execution_count": 18
        }
      ]
    },
    {
      "cell_type": "code",
      "source": [
        "# check frequency of unique column values if result is 1 it means unique values are majority of columns\n",
        "(df.nunique()/len(df)).sort_values(ascending = False)"
      ],
      "metadata": {
        "colab": {
          "base_uri": "https://localhost:8080/"
        },
        "id": "zSfwQlehJXv6",
        "outputId": "b7cbeb70-fbf5-4b86-e4c0-5bc810871118"
      },
      "execution_count": null,
      "outputs": [
        {
          "output_type": "execute_result",
          "data": {
            "text/plain": [
              "TSH                          0.076107\n",
              "TT4                          0.063909\n",
              "FTI                          0.062053\n",
              "T4U                          0.038717\n",
              "age                          0.024397\n",
              "T3                           0.018298\n",
              "referral_source              0.001326\n",
              "Class                        0.001061\n",
              "I131_treatment               0.000530\n",
              "query_hypothyroid            0.000530\n",
              "query_hyperthyroid           0.000530\n",
              "sex                          0.000530\n",
              "goitre                       0.000530\n",
              "tumor                        0.000530\n",
              "hypopituitary                0.000530\n",
              "psych                        0.000530\n",
              "thyroid_surgery              0.000530\n",
              "pregnant                     0.000530\n",
              "sick                         0.000530\n",
              "on_antithyroid_medication    0.000530\n",
              "query_on_thyroxine           0.000530\n",
              "on_thyroxine                 0.000530\n",
              "lithium                      0.000530\n",
              "dtype: float64"
            ]
          },
          "metadata": {},
          "execution_count": 19
        }
      ]
    },
    {
      "cell_type": "code",
      "source": [
        "# df.dropna().hist(figsize=(8, 8), bins=15, xlabelsize=8, ylabelsize=8, column = num_features);"
      ],
      "metadata": {
        "id": "9wOkJRiOS2d6"
      },
      "execution_count": null,
      "outputs": []
    },
    {
      "cell_type": "code",
      "source": [
        "# check Target Data column \"Class\"\n",
        "df.Class.value_counts()"
      ],
      "metadata": {
        "colab": {
          "base_uri": "https://localhost:8080/"
        },
        "id": "4cDlmaN9T_V-",
        "outputId": "7c84d493-061c-45c4-f6cb-ea6cbc3aa910"
      },
      "execution_count": null,
      "outputs": [
        {
          "output_type": "execute_result",
          "data": {
            "text/plain": [
              "negative                   3480\n",
              "compensated_hypothyroid     194\n",
              "primary_hypothyroid          95\n",
              "secondary_hypothyroid         2\n",
              "Name: Class, dtype: int64"
            ]
          },
          "metadata": {},
          "execution_count": 21
        }
      ]
    },
    {
      "cell_type": "markdown",
      "source": [
        "here we can see that 'secondary_hypothyroid' has so less data. so we can drob this targest value"
      ],
      "metadata": {
        "id": "EMvCpW8IUT9z"
      }
    },
    {
      "cell_type": "code",
      "source": [
        "df.drop(df[df.Class == \"secondary_hypothyroid\"].index, inplace = True)"
      ],
      "metadata": {
        "id": "c6CeopgtUSxL"
      },
      "execution_count": null,
      "outputs": []
    },
    {
      "cell_type": "markdown",
      "source": [
        "# Data visualization"
      ],
      "metadata": {
        "id": "XYuFgN1pGUbh"
      }
    },
    {
      "cell_type": "markdown",
      "source": [
        "In this section we can see visualization about how much our data are spread,\n",
        "\n",
        "check which columns are more correlated to each other.\n"
      ],
      "metadata": {
        "id": "e1QPXnaKiwEM"
      }
    },
    {
      "cell_type": "code",
      "source": [
        "sns.distplot(df['age'])\n",
        "plt.axvline(df['age'].mean(), linewidth=1 , color = 'red')\n",
        "plt.axvline(df['age'].median(), linewidth=1 , color = 'green')\n",
        "plt.show()"
      ],
      "metadata": {
        "id": "UDVBYkMA4uyz",
        "colab": {
          "base_uri": "https://localhost:8080/",
          "height": 571
        },
        "outputId": "5d2194f5-7e1a-4cf9-e4d6-7d9b7c0e3703"
      },
      "execution_count": null,
      "outputs": [
        {
          "output_type": "execute_result",
          "data": {
            "text/plain": [
              "<Axes: xlabel='age', ylabel='Density'>"
            ]
          },
          "metadata": {},
          "execution_count": 23
        },
        {
          "output_type": "execute_result",
          "data": {
            "text/plain": [
              "<matplotlib.lines.Line2D at 0x7f1f671da6d0>"
            ]
          },
          "metadata": {},
          "execution_count": 23
        },
        {
          "output_type": "execute_result",
          "data": {
            "text/plain": [
              "<matplotlib.lines.Line2D at 0x7f1f671aad60>"
            ]
          },
          "metadata": {},
          "execution_count": 23
        },
        {
          "output_type": "display_data",
          "data": {
            "text/plain": [
              "<Figure size 648x648 with 1 Axes>"
            ],
            "image/png": "[encoded data removed]"
          },
          "metadata": {}
        }
      ]
    },
    {
      "cell_type": "code",
      "source": [
        "df.columns"
      ],
      "metadata": {
        "colab": {
          "base_uri": "https://localhost:8080/"
        },
        "id": "yp1cGLEQ1GNU",
        "outputId": "67c3d300-3713-4c2d-ca7c-70c5b8b519ae"
      },
      "execution_count": null,
      "outputs": [
        {
          "output_type": "execute_result",
          "data": {
            "text/plain": [
              "Index(['age', 'sex', 'on_thyroxine', 'query_on_thyroxine',\n",
              "       'on_antithyroid_medication', 'sick', 'pregnant', 'thyroid_surgery',\n",
              "       'I131_treatment', 'query_hypothyroid', 'query_hyperthyroid', 'lithium',\n",
              "       'goitre', 'tumor', 'hypopituitary', 'psych', 'TSH', 'T3', 'TT4', 'T4U',\n",
              "       'FTI', 'referral_source', 'Class'],\n",
              "      dtype='object')"
            ]
          },
          "metadata": {},
          "execution_count": 24
        }
      ]
    },
    {
      "cell_type": "code",
      "source": [
        "sns.heatmap(df.corr(), cmap=\"coolwarm\", vmin=-1, vmax=1, annot= True)"
      ],
      "metadata": {
        "colab": {
          "base_uri": "https://localhost:8080/",
          "height": 558
        },
        "id": "lyV91CGFGzxp",
        "outputId": "8935dc24-981f-42b8-a75b-0007e92dcb66"
      },
      "execution_count": null,
      "outputs": [
        {
          "output_type": "execute_result",
          "data": {
            "text/plain": [
              "<Axes: >"
            ]
          },
          "metadata": {},
          "execution_count": 25
        },
        {
          "output_type": "display_data",
          "data": {
            "text/plain": [
              "<Figure size 648x648 with 2 Axes>"
            ],
            "image/png": "[encoded data removed]"
          },
          "metadata": {}
        }
      ]
    },
    {
      "cell_type": "markdown",
      "source": [
        "here we can see columns 'TT4' and 'FTI' are more correlated."
      ],
      "metadata": {
        "id": "DrrmkSB0lkHq"
      }
    },
    {
      "cell_type": "code",
      "source": [
        "# correlation of specific columns\n",
        "sns.scatterplot(data=df, x='TT4', y='FTI')"
      ],
      "metadata": {
        "colab": {
          "base_uri": "https://localhost:8080/",
          "height": 571
        },
        "id": "UAOUExZzGmQ0",
        "outputId": "1edfb00b-9c75-4dee-c283-18f2023a46f0"
      },
      "execution_count": null,
      "outputs": [
        {
          "output_type": "execute_result",
          "data": {
            "text/plain": [
              "<Axes: xlabel='TT4', ylabel='FTI'>"
            ]
          },
          "metadata": {},
          "execution_count": 26
        },
        {
          "output_type": "display_data",
          "data": {
            "text/plain": [
              "<Figure size 648x648 with 1 Axes>"
            ],
            "image/png": "[encoded data removed]"
          },
          "metadata": {}
        }
      ]
    },
    {
      "cell_type": "markdown",
      "source": [
        "# Data preparation\n"
      ],
      "metadata": {
        "id": "2Vr0EH166buK"
      }
    },
    {
      "cell_type": "code",
      "source": [
        "new_df = pd.DataFrame(df)"
      ],
      "metadata": {
        "id": "XFu2Upg6lVG8"
      },
      "execution_count": null,
      "outputs": []
    },
    {
      "cell_type": "code",
      "source": [
        "# missing value types == (missing_values = \"np.nan\", \"?\")\n",
        "# impute strategy for numerical features == (strategy= \"mean\", \"median\", \"mode\")\n",
        "# impute strategy for categorical features == (strategy=  \"most_frequent\", ('constant', fill_value='F'))\n",
        "\n",
        "def simple_imputer(inp_data):\n",
        "  num_features = inp_data.select_dtypes('number').columns\n",
        "  cat_features = inp_data.select_dtypes(np.object).columns\n",
        "\n",
        "  for i in inp_data[num_features]:\n",
        "    num_imputer = SimpleImputer(missing_values= np.nan, strategy='mean', verbose = True)\n",
        "    num_imputed = pd.DataFrame(num_imputer.fit_transform(inp_data[num_features]), columns=num_features)\n",
        "\n",
        "  for j in inp_data[cat_features]:\n",
        "    cat_imputer = SimpleImputer(missing_values=np.nan, strategy='most_frequent', verbose = True)\n",
        "    cat_imputed = pd.DataFrame(cat_imputer.fit_transform(inp_data[cat_features]), columns=cat_features)\n",
        "\n",
        "  # concat imputed columns and save into DataFrame\n",
        "  imputed_data = pd.DataFrame(pd.concat([num_imputed, cat_imputed], axis=1))\n",
        "  return imputed_data"
      ],
      "metadata": {
        "id": "3EUaOucavRQK"
      },
      "execution_count": null,
      "outputs": []
    },
    {
      "cell_type": "code",
      "source": [
        "def label_encoder(data):\n",
        "  cols=data.columns\n",
        "  label_encoded_df = pd.DataFrame()\n",
        "  for i in data[cols]:\n",
        "\n",
        "    label_encoder = LabelEncoder()\n",
        "    y_encoded = label_encoder.fit_transform(data[i])\n",
        "\n",
        "    label_encoded_df[i] = y_encoded.tolist()\n",
        "  return label_encoded_df\n",
        "\n",
        "def one_hot_encoder(data):\n",
        "  one_hot_encoder = OneHotEncoder()\n",
        "  one_hot_encoded = one_hot_encoder.fit_transform(data)\n",
        "  one_hot_encoded_df = pd.DataFrame(one_hot_encoded.todense(), columns=one_hot_encoder.get_feature_names_out())\n",
        "\n",
        "  return one_hot_encoded_df"
      ],
      "metadata": {
        "id": "8w-RUDnD9N4e"
      },
      "execution_count": null,
      "outputs": []
    },
    {
      "cell_type": "markdown",
      "source": [
        "In this section: after explore data columns, some columns were numerical but represented as object and passible to convert them to numerical type easily.\n",
        "\n",
        "also there were some columns with majority of missing '?' values, which ones are deleted.\n",
        "\n",
        "Here i used 'SimpleImputer' to fill missing values for numerical columns and also categorical columns seperately.\n",
        "\n",
        "And so there are no missing values and it's possible to make some manipulations without errors."
      ],
      "metadata": {
        "id": "vW9jqmnAd0G2"
      }
    },
    {
      "cell_type": "code",
      "source": [
        "def data_prep(data):\n",
        "  data = simple_imputer(data)\n",
        "\n",
        "  onehot = data[['referral_source']]\n",
        "  label_encode = data[data.select_dtypes(np.object).columns].drop('referral_source', axis=1)\n",
        "\n",
        "  label_encoded_df = label_encoder(label_encode)\n",
        "  one_hot_encoded_df = one_hot_encoder(onehot)\n",
        "\n",
        "  data = data.drop(label_encode.columns, axis=1)\n",
        "  data = data.drop('referral_source', axis=1)\n",
        "\n",
        "  data = pd.concat([data, one_hot_encoded_df, label_encoded_df], axis=1)\n",
        "\n",
        "  standard_scaler = StandardScaler()\n",
        "  standard_scaler.fit_transform(data)\n",
        "\n",
        "  return data"
      ],
      "metadata": {
        "id": "eA2-OFgopefv"
      },
      "execution_count": null,
      "outputs": []
    },
    {
      "cell_type": "code",
      "source": [
        "def label_encoding(data):\n",
        "  # encode class values as integers\n",
        "  encoder = LabelEncoder()\n",
        "  encoder.fit(data)\n",
        "  data = encoder.transform(data)\n",
        "  return data"
      ],
      "metadata": {
        "id": "_a8T7lmLAXv1"
      },
      "execution_count": null,
      "outputs": []
    },
    {
      "cell_type": "markdown",
      "source": [
        "# Train Test split"
      ],
      "metadata": {
        "id": "X1wFSwuuu0Qz"
      }
    },
    {
      "cell_type": "code",
      "source": [
        "# select X y features\n",
        "\n",
        "X = new_df.drop('Class', axis=1)\n",
        "y = new_df['Class']"
      ],
      "metadata": {
        "id": "nwTLb1jSWBtD"
      },
      "execution_count": null,
      "outputs": []
    },
    {
      "cell_type": "code",
      "source": [
        "# Split into train+val and test\n",
        "X_train, X_test, y_train, y_test = train_test_split(X, y, test_size=0.2, stratify=y, random_state=42, shuffle=True)"
      ],
      "metadata": {
        "id": "upgEVyWphoeK"
      },
      "execution_count": null,
      "outputs": []
    },
    {
      "cell_type": "code",
      "source": [
        "X_train = data_prep(X_train)\n",
        "X_test = data_prep(X_test)\n",
        "y_train = label_encoding(y_train)\n",
        "y_test = label_encoding(y_test)"
      ],
      "metadata": {
        "id": "aPiyeBrwiFvt"
      },
      "execution_count": null,
      "outputs": []
    },
    {
      "cell_type": "code",
      "source": [
        "# Split train into train-val\n",
        "X_train, X_val, y_train, y_val = train_test_split(X_train, y_train, test_size=0.1, stratify=y_train, random_state=21, shuffle=True)"
      ],
      "metadata": {
        "id": "QbWrkjFNiTMv"
      },
      "execution_count": null,
      "outputs": []
    },
    {
      "cell_type": "markdown",
      "source": [
        "# PyTorch multi-class classification Model"
      ],
      "metadata": {
        "id": "PrClNpdiKHPz"
      }
    },
    {
      "cell_type": "code",
      "source": [
        "def Min_Max_scaler(data):\n",
        "  scaler = MinMaxScaler()\n",
        "  scaled = scaler.fit_transform(data)\n",
        "  return scaled\n",
        "\n",
        "X_val = Min_Max_scaler(X_val)\n",
        "X_test = Min_Max_scaler(X_test)\n",
        "\n",
        "X_train, y_train = np.array(X_train), np.array(y_train)\n",
        "X_val, y_val = np.array(X_val), np.array(y_val)\n",
        "X_test, y_test = np.array(X_test), np.array(y_test)"
      ],
      "metadata": {
        "id": "PtLD0SGYhuEi"
      },
      "execution_count": null,
      "outputs": []
    },
    {
      "cell_type": "code",
      "source": [
        "class ClassifierDataset(Dataset):\n",
        "\n",
        "    def __init__(self, X_data, y_data):\n",
        "        self.X_data = X_data\n",
        "        self.y_data = y_data\n",
        "\n",
        "    def __getitem__(self, index):\n",
        "        return self.X_data[index], self.y_data[index]\n",
        "\n",
        "    def __len__ (self):\n",
        "        return len(self.X_data)\n",
        "\n",
        "\n",
        "train_dataset = ClassifierDataset(torch.from_numpy(X_train).float(), torch.from_numpy(y_train).long())\n",
        "val_dataset = ClassifierDataset(torch.from_numpy(X_val).float(), torch.from_numpy(y_val).long())\n",
        "test_dataset = ClassifierDataset(torch.from_numpy(X_test).float(), torch.from_numpy(y_test).long())"
      ],
      "metadata": {
        "id": "pDk8kasD-1dg"
      },
      "execution_count": null,
      "outputs": []
    },
    {
      "cell_type": "code",
      "source": [
        "target_list = []\n",
        "for _, t in train_dataset:\n",
        "    target_list.append(t)\n",
        "\n",
        "target_list = torch.tensor(target_list)"
      ],
      "metadata": {
        "id": "rhdYU-IGiqST"
      },
      "execution_count": null,
      "outputs": []
    },
    {
      "cell_type": "code",
      "source": [
        "EPOCHS = 200\n",
        "BATCH_SIZE = 32\n",
        "LEARNING_RATE = 0.0001"
      ],
      "metadata": {
        "id": "nDWTIg_Pix3Z"
      },
      "execution_count": null,
      "outputs": []
    },
    {
      "cell_type": "code",
      "source": [
        "train_loader = DataLoader(dataset=train_dataset,\n",
        "                          batch_size=BATCH_SIZE\n",
        ")\n",
        "val_loader = DataLoader(dataset=val_dataset, batch_size=1)\n",
        "test_loader = DataLoader(dataset=test_dataset, batch_size=1)"
      ],
      "metadata": {
        "id": "3DIxPIz_jUBG"
      },
      "execution_count": null,
      "outputs": []
    },
    {
      "cell_type": "code",
      "source": [
        "class MulticlassClassification(nn.Module):\n",
        "    def __init__(self):\n",
        "        super(MulticlassClassification, self).__init__()\n",
        "\n",
        "        self.layer_1 = nn.Linear(26, 512)\n",
        "        self.layer_2 = nn.Linear(512, 128)\n",
        "        self.layer_3 = nn.Linear(128, 64)\n",
        "        self.layer_out = nn.Linear(64, 3)\n",
        "\n",
        "        self.relu = nn.ReLU()\n",
        "        self.dropout = nn.Dropout(p=0.2)\n",
        "        self.batchnorm1 = nn.BatchNorm1d(512)\n",
        "        self.batchnorm2 = nn.BatchNorm1d(128)\n",
        "        self.batchnorm3 = nn.BatchNorm1d(64)\n",
        "\n",
        "    def forward(self, x):\n",
        "        x = self.layer_1(x)\n",
        "        x = self.batchnorm1(x)\n",
        "        x = self.relu(x)\n",
        "\n",
        "        x = self.layer_2(x)\n",
        "        x = self.batchnorm2(x)\n",
        "        x = self.relu(x)\n",
        "        x = self.dropout(x)\n",
        "\n",
        "        x = self.layer_3(x)\n",
        "        x = self.batchnorm3(x)\n",
        "        x = self.relu(x)\n",
        "        x = self.dropout(x)\n",
        "\n",
        "        x = self.layer_out(x)\n",
        "\n",
        "        return x"
      ],
      "metadata": {
        "id": "UHqQEwnMjUoF"
      },
      "execution_count": null,
      "outputs": []
    },
    {
      "cell_type": "code",
      "source": [
        "device = torch.device(\"cuda:0\" if torch.cuda.is_available() else \"cpu\")\n",
        "model = MulticlassClassification()\n",
        "model.to(device)\n",
        "\n",
        "criterion = nn.CrossEntropyLoss()\n",
        "optimizer = optim.Adam(model.parameters(), lr=LEARNING_RATE)\n",
        "# print(model)"
      ],
      "metadata": {
        "colab": {
          "base_uri": "https://localhost:8080/"
        },
        "id": "c8i2zlEVjmH8",
        "outputId": "4a58b190-3998-462d-e686-b807b53ab587"
      },
      "execution_count": null,
      "outputs": [
        {
          "output_type": "execute_result",
          "data": {
            "text/plain": [
              "MulticlassClassification(\n",
              "  (layer_1): Linear(in_features=26, out_features=512, bias=True)\n",
              "  (layer_2): Linear(in_features=512, out_features=128, bias=True)\n",
              "  (layer_3): Linear(in_features=128, out_features=64, bias=True)\n",
              "  (layer_out): Linear(in_features=64, out_features=3, bias=True)\n",
              "  (relu): ReLU()\n",
              "  (dropout): Dropout(p=0.2, inplace=False)\n",
              "  (batchnorm1): BatchNorm1d(512, eps=1e-05, momentum=0.1, affine=True, track_running_stats=True)\n",
              "  (batchnorm2): BatchNorm1d(128, eps=1e-05, momentum=0.1, affine=True, track_running_stats=True)\n",
              "  (batchnorm3): BatchNorm1d(64, eps=1e-05, momentum=0.1, affine=True, track_running_stats=True)\n",
              ")"
            ]
          },
          "metadata": {},
          "execution_count": 73
        }
      ]
    },
    {
      "cell_type": "code",
      "source": [
        "def multi_acc(y_pred, y_test):\n",
        "    y_pred_softmax = torch.log_softmax(y_pred, dim = 1)\n",
        "    _, y_pred_tags = torch.max(y_pred_softmax, dim = 1)\n",
        "\n",
        "    correct_pred = (y_pred_tags == y_test).float()\n",
        "    acc = correct_pred.sum() / len(correct_pred)\n",
        "\n",
        "    acc = torch.round(acc)\n",
        "\n",
        "    return acc"
      ],
      "metadata": {
        "id": "V6akFWqYjw2c"
      },
      "execution_count": null,
      "outputs": []
    },
    {
      "cell_type": "code",
      "source": [
        "accuracy_stats = {\n",
        "    'train': [],\n",
        "    \"val\": []\n",
        "}\n",
        "loss_stats = {\n",
        "    'train': [],\n",
        "    \"val\": []\n",
        "}"
      ],
      "metadata": {
        "id": "0Wb-GoACEBbZ"
      },
      "execution_count": null,
      "outputs": []
    },
    {
      "cell_type": "code",
      "source": [
        "for e in tqdm(range(1, EPOCHS+1)):\n",
        "\n",
        "    # TRAINING\n",
        "    train_epoch_loss_total = 0.0\n",
        "    train_epoch_acc_total = 0.0\n",
        "    train_samples_total = 0\n",
        "    model.train()\n",
        "    for X_train_batch, y_train_batch in train_loader:\n",
        "        X_train_batch, y_train_batch = X_train_batch.to(device), y_train_batch.to(device)\n",
        "        optimizer.zero_grad()\n",
        "\n",
        "        y_train_pred = model(X_train_batch)\n",
        "\n",
        "        train_loss = criterion(y_train_pred, y_train_batch)\n",
        "        train_acc = multi_acc(y_train_pred, y_train_batch)\n",
        "\n",
        "        train_loss.backward()\n",
        "        optimizer.step()\n",
        "\n",
        "        # loss_stats['train'].append(train_loss.item())\n",
        "        # accuracy_stats['train'].append(train_acc.item())\n",
        "\n",
        "        train_epoch_loss_total += train_loss.item()\n",
        "        train_epoch_acc_total += train_acc.item() #* X_train_batch.size(0)\n",
        "        train_samples_total += X_train_batch.size(0)\n",
        "    # loss_stats['train'].append(train_loss.item())\n",
        "    # accuracy_stats['train'].append(train_acc.item())\n",
        "    # # append results\n",
        "    loss_stats['train'].append(train_epoch_loss_total/len(train_loader))\n",
        "    accuracy_stats['train'].append(train_epoch_acc_total/len(train_loader))\n",
        "\n",
        "    # VALIDATION\n",
        "    with torch.no_grad():\n",
        "\n",
        "        val_epoch_loss_total = 0.0\n",
        "        val_epoch_acc_total = 0.0\n",
        "        val_samples_total = 0\n",
        "\n",
        "        model.eval()\n",
        "        for X_val_batch, y_val_batch in val_loader:\n",
        "            X_val_batch, y_val_batch = X_val_batch.to(device), y_val_batch.to(device)\n",
        "\n",
        "            y_val_pred = model(X_val_batch)\n",
        "\n",
        "            val_loss = criterion(y_val_pred, y_val_batch)\n",
        "            val_acc = multi_acc(y_val_pred, y_val_batch)\n",
        "\n",
        "            # loss_stats['val'].append(val_loss.item())\n",
        "            # accuracy_stats['val'].append(val_acc.item())\n",
        "\n",
        "            val_epoch_loss_total += val_loss.item()\n",
        "            val_epoch_acc_total += val_acc.item() #* X_val_batch.size(0)\n",
        "            val_samples_total += X_val_batch.size(0)\n",
        "        # loss_stats['val'].append(val_loss.item())\n",
        "        # accuracy_stats['val'].append(val_acc.item())\n",
        "        # # append results\n",
        "        loss_stats['val'].append(val_epoch_loss_total/len(val_loader))\n",
        "        accuracy_stats['val'].append(val_epoch_acc_total/len(val_loader))"
      ],
      "metadata": {
        "colab": {
          "base_uri": "https://localhost:8080/",
          "height": 1000,
          "referenced_widgets": [
            "9e1a180f426642aaa0ee97aafd666315",
            "5261d70a916f43c28360493951493165",
            "0308c984daf7455fae0cf7d0e822a4e3",
            "9bf84c7128374190af6ec53ecf94aabb",
            "6b2fe875f6c947dfafa24caa6ade1d3a",
            "14900063d3d147729196b4c945468cc0",
            "2f62482607bf4775a9db2d42b7d62741",
            "f3008946fde149c994778e7505b77709",
            "3641c2e0d5b4441a9e1de8850ea74f5c",
            "94c8684cea594f48bfc309d71c961d68",
            "9a7bd5e02344401ea94fc090f6d1c27d"
          ]
        },
        "id": "ocWwNcguI1qw",
        "outputId": "f1e27d17-eae6-42cf-f1d1-b285cf90c2e7"
      },
      "execution_count": null,
      "outputs": [
        {
          "output_type": "display_data",
          "data": {
            "text/plain": [
              "  0%|          | 0/200 [00:00<?, ?it/s]"
            ],
            "application/vnd.jupyter.widget-view+json": {
              "version_major": 2,
              "version_minor": 0,
              "model_id": "9e1a180f426642aaa0ee97aafd666315"
            }
          },
          "metadata": {}
        },
        {
          "output_type": "execute_result",
          "data": {
            "text/plain": [
              "MulticlassClassification(\n",
              "  (layer_1): Linear(in_features=26, out_features=512, bias=True)\n",
              "  (layer_2): Linear(in_features=512, out_features=128, bias=True)\n",
              "  (layer_3): Linear(in_features=128, out_features=64, bias=True)\n",
              "  (layer_out): Linear(in_features=64, out_features=3, bias=True)\n",
              "  (relu): ReLU()\n",
              "  (dropout): Dropout(p=0.2, inplace=False)\n",
              "  (batchnorm1): BatchNorm1d(512, eps=1e-05, momentum=0.1, affine=True, track_running_stats=True)\n",
              "  (batchnorm2): BatchNorm1d(128, eps=1e-05, momentum=0.1, affine=True, track_running_stats=True)\n",
              "  (batchnorm3): BatchNorm1d(64, eps=1e-05, momentum=0.1, affine=True, track_running_stats=True)\n",
              ")"
            ]
          },
          "metadata": {},
          "execution_count": 98
        },
        {
          "output_type": "execute_result",
          "data": {
            "text/plain": [
              "MulticlassClassification(\n",
              "  (layer_1): Linear(in_features=26, out_features=512, bias=True)\n",
              "  (layer_2): Linear(in_features=512, out_features=128, bias=True)\n",
              "  (layer_3): Linear(in_features=128, out_features=64, bias=True)\n",
              "  (layer_out): Linear(in_features=64, out_features=3, bias=True)\n",
              "  (relu): ReLU()\n",
              "  (dropout): Dropout(p=0.2, inplace=False)\n",
              "  (batchnorm1): BatchNorm1d(512, eps=1e-05, momentum=0.1, affine=True, track_running_stats=True)\n",
              "  (batchnorm2): BatchNorm1d(128, eps=1e-05, momentum=0.1, affine=True, track_running_stats=True)\n",
              "  (batchnorm3): BatchNorm1d(64, eps=1e-05, momentum=0.1, affine=True, track_running_stats=True)\n",
              ")"
            ]
          },
          "metadata": {},
          "execution_count": 98
        },
        {
          "output_type": "execute_result",
          "data": {
            "text/plain": [
              "MulticlassClassification(\n",
              "  (layer_1): Linear(in_features=26, out_features=512, bias=True)\n",
              "  (layer_2): Linear(in_features=512, out_features=128, bias=True)\n",
              "  (layer_3): Linear(in_features=128, out_features=64, bias=True)\n",
              "  (layer_out): Linear(in_features=64, out_features=3, bias=True)\n",
              "  (relu): ReLU()\n",
              "  (dropout): Dropout(p=0.2, inplace=False)\n",
              "  (batchnorm1): BatchNorm1d(512, eps=1e-05, momentum=0.1, affine=True, track_running_stats=True)\n",
              "  (batchnorm2): BatchNorm1d(128, eps=1e-05, momentum=0.1, affine=True, track_running_stats=True)\n",
              "  (batchnorm3): BatchNorm1d(64, eps=1e-05, momentum=0.1, affine=True, track_running_stats=True)\n",
              ")"
            ]
          },
          "metadata": {},
          "execution_count": 98
        },
        {
          "output_type": "execute_result",
          "data": {
            "text/plain": [
              "MulticlassClassification(\n",
              "  (layer_1): Linear(in_features=26, out_features=512, bias=True)\n",
              "  (layer_2): Linear(in_features=512, out_features=128, bias=True)\n",
              "  (layer_3): Linear(in_features=128, out_features=64, bias=True)\n",
              "  (layer_out): Linear(in_features=64, out_features=3, bias=True)\n",
              "  (relu): ReLU()\n",
              "  (dropout): Dropout(p=0.2, inplace=False)\n",
              "  (batchnorm1): BatchNorm1d(512, eps=1e-05, momentum=0.1, affine=True, track_running_stats=True)\n",
              "  (batchnorm2): BatchNorm1d(128, eps=1e-05, momentum=0.1, affine=True, track_running_stats=True)\n",
              "  (batchnorm3): BatchNorm1d(64, eps=1e-05, momentum=0.1, affine=True, track_running_stats=True)\n",
              ")"
            ]
          },
          "metadata": {},
          "execution_count": 98
        },
        {
          "output_type": "execute_result",
          "data": {
            "text/plain": [
              "MulticlassClassification(\n",
              "  (layer_1): Linear(in_features=26, out_features=512, bias=True)\n",
              "  (layer_2): Linear(in_features=512, out_features=128, bias=True)\n",
              "  (layer_3): Linear(in_features=128, out_features=64, bias=True)\n",
              "  (layer_out): Linear(in_features=64, out_features=3, bias=True)\n",
              "  (relu): ReLU()\n",
              "  (dropout): Dropout(p=0.2, inplace=False)\n",
              "  (batchnorm1): BatchNorm1d(512, eps=1e-05, momentum=0.1, affine=True, track_running_stats=True)\n",
              "  (batchnorm2): BatchNorm1d(128, eps=1e-05, momentum=0.1, affine=True, track_running_stats=True)\n",
              "  (batchnorm3): BatchNorm1d(64, eps=1e-05, momentum=0.1, affine=True, track_running_stats=True)\n",
              ")"
            ]
          },
          "metadata": {},
          "execution_count": 98
        },
        {
          "output_type": "execute_result",
          "data": {
            "text/plain": [
              "MulticlassClassification(\n",
              "  (layer_1): Linear(in_features=26, out_features=512, bias=True)\n",
              "  (layer_2): Linear(in_features=512, out_features=128, bias=True)\n",
              "  (layer_3): Linear(in_features=128, out_features=64, bias=True)\n",
              "  (layer_out): Linear(in_features=64, out_features=3, bias=True)\n",
              "  (relu): ReLU()\n",
              "  (dropout): Dropout(p=0.2, inplace=False)\n",
              "  (batchnorm1): BatchNorm1d(512, eps=1e-05, momentum=0.1, affine=True, track_running_stats=True)\n",
              "  (batchnorm2): BatchNorm1d(128, eps=1e-05, momentum=0.1, affine=True, track_running_stats=True)\n",
              "  (batchnorm3): BatchNorm1d(64, eps=1e-05, momentum=0.1, affine=True, track_running_stats=True)\n",
              ")"
            ]
          },
          "metadata": {},
          "execution_count": 98
        },
        {
          "output_type": "execute_result",
          "data": {
            "text/plain": [
              "MulticlassClassification(\n",
              "  (layer_1): Linear(in_features=26, out_features=512, bias=True)\n",
              "  (layer_2): Linear(in_features=512, out_features=128, bias=True)\n",
              "  (layer_3): Linear(in_features=128, out_features=64, bias=True)\n",
              "  (layer_out): Linear(in_features=64, out_features=3, bias=True)\n",
              "  (relu): ReLU()\n",
              "  (dropout): Dropout(p=0.2, inplace=False)\n",
              "  (batchnorm1): BatchNorm1d(512, eps=1e-05, momentum=0.1, affine=True, track_running_stats=True)\n",
              "  (batchnorm2): BatchNorm1d(128, eps=1e-05, momentum=0.1, affine=True, track_running_stats=True)\n",
              "  (batchnorm3): BatchNorm1d(64, eps=1e-05, momentum=0.1, affine=True, track_running_stats=True)\n",
              ")"
            ]
          },
          "metadata": {},
          "execution_count": 98
        },
        {
          "output_type": "execute_result",
          "data": {
            "text/plain": [
              "MulticlassClassification(\n",
              "  (layer_1): Linear(in_features=26, out_features=512, bias=True)\n",
              "  (layer_2): Linear(in_features=512, out_features=128, bias=True)\n",
              "  (layer_3): Linear(in_features=128, out_features=64, bias=True)\n",
              "  (layer_out): Linear(in_features=64, out_features=3, bias=True)\n",
              "  (relu): ReLU()\n",
              "  (dropout): Dropout(p=0.2, inplace=False)\n",
              "  (batchnorm1): BatchNorm1d(512, eps=1e-05, momentum=0.1, affine=True, track_running_stats=True)\n",
              "  (batchnorm2): BatchNorm1d(128, eps=1e-05, momentum=0.1, affine=True, track_running_stats=True)\n",
              "  (batchnorm3): BatchNorm1d(64, eps=1e-05, momentum=0.1, affine=True, track_running_stats=True)\n",
              ")"
            ]
          },
          "metadata": {},
          "execution_count": 98
        },
        {
          "output_type": "execute_result",
          "data": {
            "text/plain": [
              "MulticlassClassification(\n",
              "  (layer_1): Linear(in_features=26, out_features=512, bias=True)\n",
              "  (layer_2): Linear(in_features=512, out_features=128, bias=True)\n",
              "  (layer_3): Linear(in_features=128, out_features=64, bias=True)\n",
              "  (layer_out): Linear(in_features=64, out_features=3, bias=True)\n",
              "  (relu): ReLU()\n",
              "  (dropout): Dropout(p=0.2, inplace=False)\n",
              "  (batchnorm1): BatchNorm1d(512, eps=1e-05, momentum=0.1, affine=True, track_running_stats=True)\n",
              "  (batchnorm2): BatchNorm1d(128, eps=1e-05, momentum=0.1, affine=True, track_running_stats=True)\n",
              "  (batchnorm3): BatchNorm1d(64, eps=1e-05, momentum=0.1, affine=True, track_running_stats=True)\n",
              ")"
            ]
          },
          "metadata": {},
          "execution_count": 98
        },
        {
          "output_type": "execute_result",
          "data": {
            "text/plain": [
              "MulticlassClassification(\n",
              "  (layer_1): Linear(in_features=26, out_features=512, bias=True)\n",
              "  (layer_2): Linear(in_features=512, out_features=128, bias=True)\n",
              "  (layer_3): Linear(in_features=128, out_features=64, bias=True)\n",
              "  (layer_out): Linear(in_features=64, out_features=3, bias=True)\n",
              "  (relu): ReLU()\n",
              "  (dropout): Dropout(p=0.2, inplace=False)\n",
              "  (batchnorm1): BatchNorm1d(512, eps=1e-05, momentum=0.1, affine=True, track_running_stats=True)\n",
              "  (batchnorm2): BatchNorm1d(128, eps=1e-05, momentum=0.1, affine=True, track_running_stats=True)\n",
              "  (batchnorm3): BatchNorm1d(64, eps=1e-05, momentum=0.1, affine=True, track_running_stats=True)\n",
              ")"
            ]
          },
          "metadata": {},
          "execution_count": 98
        },
        {
          "output_type": "execute_result",
          "data": {
            "text/plain": [
              "MulticlassClassification(\n",
              "  (layer_1): Linear(in_features=26, out_features=512, bias=True)\n",
              "  (layer_2): Linear(in_features=512, out_features=128, bias=True)\n",
              "  (layer_3): Linear(in_features=128, out_features=64, bias=True)\n",
              "  (layer_out): Linear(in_features=64, out_features=3, bias=True)\n",
              "  (relu): ReLU()\n",
              "  (dropout): Dropout(p=0.2, inplace=False)\n",
              "  (batchnorm1): BatchNorm1d(512, eps=1e-05, momentum=0.1, affine=True, track_running_stats=True)\n",
              "  (batchnorm2): BatchNorm1d(128, eps=1e-05, momentum=0.1, affine=True, track_running_stats=True)\n",
              "  (batchnorm3): BatchNorm1d(64, eps=1e-05, momentum=0.1, affine=True, track_running_stats=True)\n",
              ")"
            ]
          },
          "metadata": {},
          "execution_count": 98
        },
        {
          "output_type": "execute_result",
          "data": {
            "text/plain": [
              "MulticlassClassification(\n",
              "  (layer_1): Linear(in_features=26, out_features=512, bias=True)\n",
              "  (layer_2): Linear(in_features=512, out_features=128, bias=True)\n",
              "  (layer_3): Linear(in_features=128, out_features=64, bias=True)\n",
              "  (layer_out): Linear(in_features=64, out_features=3, bias=True)\n",
              "  (relu): ReLU()\n",
              "  (dropout): Dropout(p=0.2, inplace=False)\n",
              "  (batchnorm1): BatchNorm1d(512, eps=1e-05, momentum=0.1, affine=True, track_running_stats=True)\n",
              "  (batchnorm2): BatchNorm1d(128, eps=1e-05, momentum=0.1, affine=True, track_running_stats=True)\n",
              "  (batchnorm3): BatchNorm1d(64, eps=1e-05, momentum=0.1, affine=True, track_running_stats=True)\n",
              ")"
            ]
          },
          "metadata": {},
          "execution_count": 98
        },
        {
          "output_type": "execute_result",
          "data": {
            "text/plain": [
              "MulticlassClassification(\n",
              "  (layer_1): Linear(in_features=26, out_features=512, bias=True)\n",
              "  (layer_2): Linear(in_features=512, out_features=128, bias=True)\n",
              "  (layer_3): Linear(in_features=128, out_features=64, bias=True)\n",
              "  (layer_out): Linear(in_features=64, out_features=3, bias=True)\n",
              "  (relu): ReLU()\n",
              "  (dropout): Dropout(p=0.2, inplace=False)\n",
              "  (batchnorm1): BatchNorm1d(512, eps=1e-05, momentum=0.1, affine=True, track_running_stats=True)\n",
              "  (batchnorm2): BatchNorm1d(128, eps=1e-05, momentum=0.1, affine=True, track_running_stats=True)\n",
              "  (batchnorm3): BatchNorm1d(64, eps=1e-05, momentum=0.1, affine=True, track_running_stats=True)\n",
              ")"
            ]
          },
          "metadata": {},
          "execution_count": 98
        },
        {
          "output_type": "execute_result",
          "data": {
            "text/plain": [
              "MulticlassClassification(\n",
              "  (layer_1): Linear(in_features=26, out_features=512, bias=True)\n",
              "  (layer_2): Linear(in_features=512, out_features=128, bias=True)\n",
              "  (layer_3): Linear(in_features=128, out_features=64, bias=True)\n",
              "  (layer_out): Linear(in_features=64, out_features=3, bias=True)\n",
              "  (relu): ReLU()\n",
              "  (dropout): Dropout(p=0.2, inplace=False)\n",
              "  (batchnorm1): BatchNorm1d(512, eps=1e-05, momentum=0.1, affine=True, track_running_stats=True)\n",
              "  (batchnorm2): BatchNorm1d(128, eps=1e-05, momentum=0.1, affine=True, track_running_stats=True)\n",
              "  (batchnorm3): BatchNorm1d(64, eps=1e-05, momentum=0.1, affine=True, track_running_stats=True)\n",
              ")"
            ]
          },
          "metadata": {},
          "execution_count": 98
        },
        {
          "output_type": "execute_result",
          "data": {
            "text/plain": [
              "MulticlassClassification(\n",
              "  (layer_1): Linear(in_features=26, out_features=512, bias=True)\n",
              "  (layer_2): Linear(in_features=512, out_features=128, bias=True)\n",
              "  (layer_3): Linear(in_features=128, out_features=64, bias=True)\n",
              "  (layer_out): Linear(in_features=64, out_features=3, bias=True)\n",
              "  (relu): ReLU()\n",
              "  (dropout): Dropout(p=0.2, inplace=False)\n",
              "  (batchnorm1): BatchNorm1d(512, eps=1e-05, momentum=0.1, affine=True, track_running_stats=True)\n",
              "  (batchnorm2): BatchNorm1d(128, eps=1e-05, momentum=0.1, affine=True, track_running_stats=True)\n",
              "  (batchnorm3): BatchNorm1d(64, eps=1e-05, momentum=0.1, affine=True, track_running_stats=True)\n",
              ")"
            ]
          },
          "metadata": {},
          "execution_count": 98
        },
        {
          "output_type": "execute_result",
          "data": {
            "text/plain": [
              "MulticlassClassification(\n",
              "  (layer_1): Linear(in_features=26, out_features=512, bias=True)\n",
              "  (layer_2): Linear(in_features=512, out_features=128, bias=True)\n",
              "  (layer_3): Linear(in_features=128, out_features=64, bias=True)\n",
              "  (layer_out): Linear(in_features=64, out_features=3, bias=True)\n",
              "  (relu): ReLU()\n",
              "  (dropout): Dropout(p=0.2, inplace=False)\n",
              "  (batchnorm1): BatchNorm1d(512, eps=1e-05, momentum=0.1, affine=True, track_running_stats=True)\n",
              "  (batchnorm2): BatchNorm1d(128, eps=1e-05, momentum=0.1, affine=True, track_running_stats=True)\n",
              "  (batchnorm3): BatchNorm1d(64, eps=1e-05, momentum=0.1, affine=True, track_running_stats=True)\n",
              ")"
            ]
          },
          "metadata": {},
          "execution_count": 98
        },
        {
          "output_type": "execute_result",
          "data": {
            "text/plain": [
              "MulticlassClassification(\n",
              "  (layer_1): Linear(in_features=26, out_features=512, bias=True)\n",
              "  (layer_2): Linear(in_features=512, out_features=128, bias=True)\n",
              "  (layer_3): Linear(in_features=128, out_features=64, bias=True)\n",
              "  (layer_out): Linear(in_features=64, out_features=3, bias=True)\n",
              "  (relu): ReLU()\n",
              "  (dropout): Dropout(p=0.2, inplace=False)\n",
              "  (batchnorm1): BatchNorm1d(512, eps=1e-05, momentum=0.1, affine=True, track_running_stats=True)\n",
              "  (batchnorm2): BatchNorm1d(128, eps=1e-05, momentum=0.1, affine=True, track_running_stats=True)\n",
              "  (batchnorm3): BatchNorm1d(64, eps=1e-05, momentum=0.1, affine=True, track_running_stats=True)\n",
              ")"
            ]
          },
          "metadata": {},
          "execution_count": 98
        },
        {
          "output_type": "execute_result",
          "data": {
            "text/plain": [
              "MulticlassClassification(\n",
              "  (layer_1): Linear(in_features=26, out_features=512, bias=True)\n",
              "  (layer_2): Linear(in_features=512, out_features=128, bias=True)\n",
              "  (layer_3): Linear(in_features=128, out_features=64, bias=True)\n",
              "  (layer_out): Linear(in_features=64, out_features=3, bias=True)\n",
              "  (relu): ReLU()\n",
              "  (dropout): Dropout(p=0.2, inplace=False)\n",
              "  (batchnorm1): BatchNorm1d(512, eps=1e-05, momentum=0.1, affine=True, track_running_stats=True)\n",
              "  (batchnorm2): BatchNorm1d(128, eps=1e-05, momentum=0.1, affine=True, track_running_stats=True)\n",
              "  (batchnorm3): BatchNorm1d(64, eps=1e-05, momentum=0.1, affine=True, track_running_stats=True)\n",
              ")"
            ]
          },
          "metadata": {},
          "execution_count": 98
        },
        {
          "output_type": "execute_result",
          "data": {
            "text/plain": [
              "MulticlassClassification(\n",
              "  (layer_1): Linear(in_features=26, out_features=512, bias=True)\n",
              "  (layer_2): Linear(in_features=512, out_features=128, bias=True)\n",
              "  (layer_3): Linear(in_features=128, out_features=64, bias=True)\n",
              "  (layer_out): Linear(in_features=64, out_features=3, bias=True)\n",
              "  (relu): ReLU()\n",
              "  (dropout): Dropout(p=0.2, inplace=False)\n",
              "  (batchnorm1): BatchNorm1d(512, eps=1e-05, momentum=0.1, affine=True, track_running_stats=True)\n",
              "  (batchnorm2): BatchNorm1d(128, eps=1e-05, momentum=0.1, affine=True, track_running_stats=True)\n",
              "  (batchnorm3): BatchNorm1d(64, eps=1e-05, momentum=0.1, affine=True, track_running_stats=True)\n",
              ")"
            ]
          },
          "metadata": {},
          "execution_count": 98
        },
        {
          "output_type": "execute_result",
          "data": {
            "text/plain": [
              "MulticlassClassification(\n",
              "  (layer_1): Linear(in_features=26, out_features=512, bias=True)\n",
              "  (layer_2): Linear(in_features=512, out_features=128, bias=True)\n",
              "  (layer_3): Linear(in_features=128, out_features=64, bias=True)\n",
              "  (layer_out): Linear(in_features=64, out_features=3, bias=True)\n",
              "  (relu): ReLU()\n",
              "  (dropout): Dropout(p=0.2, inplace=False)\n",
              "  (batchnorm1): BatchNorm1d(512, eps=1e-05, momentum=0.1, affine=True, track_running_stats=True)\n",
              "  (batchnorm2): BatchNorm1d(128, eps=1e-05, momentum=0.1, affine=True, track_running_stats=True)\n",
              "  (batchnorm3): BatchNorm1d(64, eps=1e-05, momentum=0.1, affine=True, track_running_stats=True)\n",
              ")"
            ]
          },
          "metadata": {},
          "execution_count": 98
        },
        {
          "output_type": "execute_result",
          "data": {
            "text/plain": [
              "MulticlassClassification(\n",
              "  (layer_1): Linear(in_features=26, out_features=512, bias=True)\n",
              "  (layer_2): Linear(in_features=512, out_features=128, bias=True)\n",
              "  (layer_3): Linear(in_features=128, out_features=64, bias=True)\n",
              "  (layer_out): Linear(in_features=64, out_features=3, bias=True)\n",
              "  (relu): ReLU()\n",
              "  (dropout): Dropout(p=0.2, inplace=False)\n",
              "  (batchnorm1): BatchNorm1d(512, eps=1e-05, momentum=0.1, affine=True, track_running_stats=True)\n",
              "  (batchnorm2): BatchNorm1d(128, eps=1e-05, momentum=0.1, affine=True, track_running_stats=True)\n",
              "  (batchnorm3): BatchNorm1d(64, eps=1e-05, momentum=0.1, affine=True, track_running_stats=True)\n",
              ")"
            ]
          },
          "metadata": {},
          "execution_count": 98
        },
        {
          "output_type": "execute_result",
          "data": {
            "text/plain": [
              "MulticlassClassification(\n",
              "  (layer_1): Linear(in_features=26, out_features=512, bias=True)\n",
              "  (layer_2): Linear(in_features=512, out_features=128, bias=True)\n",
              "  (layer_3): Linear(in_features=128, out_features=64, bias=True)\n",
              "  (layer_out): Linear(in_features=64, out_features=3, bias=True)\n",
              "  (relu): ReLU()\n",
              "  (dropout): Dropout(p=0.2, inplace=False)\n",
              "  (batchnorm1): BatchNorm1d(512, eps=1e-05, momentum=0.1, affine=True, track_running_stats=True)\n",
              "  (batchnorm2): BatchNorm1d(128, eps=1e-05, momentum=0.1, affine=True, track_running_stats=True)\n",
              "  (batchnorm3): BatchNorm1d(64, eps=1e-05, momentum=0.1, affine=True, track_running_stats=True)\n",
              ")"
            ]
          },
          "metadata": {},
          "execution_count": 98
        },
        {
          "output_type": "execute_result",
          "data": {
            "text/plain": [
              "MulticlassClassification(\n",
              "  (layer_1): Linear(in_features=26, out_features=512, bias=True)\n",
              "  (layer_2): Linear(in_features=512, out_features=128, bias=True)\n",
              "  (layer_3): Linear(in_features=128, out_features=64, bias=True)\n",
              "  (layer_out): Linear(in_features=64, out_features=3, bias=True)\n",
              "  (relu): ReLU()\n",
              "  (dropout): Dropout(p=0.2, inplace=False)\n",
              "  (batchnorm1): BatchNorm1d(512, eps=1e-05, momentum=0.1, affine=True, track_running_stats=True)\n",
              "  (batchnorm2): BatchNorm1d(128, eps=1e-05, momentum=0.1, affine=True, track_running_stats=True)\n",
              "  (batchnorm3): BatchNorm1d(64, eps=1e-05, momentum=0.1, affine=True, track_running_stats=True)\n",
              ")"
            ]
          },
          "metadata": {},
          "execution_count": 98
        },
        {
          "output_type": "execute_result",
          "data": {
            "text/plain": [
              "MulticlassClassification(\n",
              "  (layer_1): Linear(in_features=26, out_features=512, bias=True)\n",
              "  (layer_2): Linear(in_features=512, out_features=128, bias=True)\n",
              "  (layer_3): Linear(in_features=128, out_features=64, bias=True)\n",
              "  (layer_out): Linear(in_features=64, out_features=3, bias=True)\n",
              "  (relu): ReLU()\n",
              "  (dropout): Dropout(p=0.2, inplace=False)\n",
              "  (batchnorm1): BatchNorm1d(512, eps=1e-05, momentum=0.1, affine=True, track_running_stats=True)\n",
              "  (batchnorm2): BatchNorm1d(128, eps=1e-05, momentum=0.1, affine=True, track_running_stats=True)\n",
              "  (batchnorm3): BatchNorm1d(64, eps=1e-05, momentum=0.1, affine=True, track_running_stats=True)\n",
              ")"
            ]
          },
          "metadata": {},
          "execution_count": 98
        },
        {
          "output_type": "execute_result",
          "data": {
            "text/plain": [
              "MulticlassClassification(\n",
              "  (layer_1): Linear(in_features=26, out_features=512, bias=True)\n",
              "  (layer_2): Linear(in_features=512, out_features=128, bias=True)\n",
              "  (layer_3): Linear(in_features=128, out_features=64, bias=True)\n",
              "  (layer_out): Linear(in_features=64, out_features=3, bias=True)\n",
              "  (relu): ReLU()\n",
              "  (dropout): Dropout(p=0.2, inplace=False)\n",
              "  (batchnorm1): BatchNorm1d(512, eps=1e-05, momentum=0.1, affine=True, track_running_stats=True)\n",
              "  (batchnorm2): BatchNorm1d(128, eps=1e-05, momentum=0.1, affine=True, track_running_stats=True)\n",
              "  (batchnorm3): BatchNorm1d(64, eps=1e-05, momentum=0.1, affine=True, track_running_stats=True)\n",
              ")"
            ]
          },
          "metadata": {},
          "execution_count": 98
        },
        {
          "output_type": "execute_result",
          "data": {
            "text/plain": [
              "MulticlassClassification(\n",
              "  (layer_1): Linear(in_features=26, out_features=512, bias=True)\n",
              "  (layer_2): Linear(in_features=512, out_features=128, bias=True)\n",
              "  (layer_3): Linear(in_features=128, out_features=64, bias=True)\n",
              "  (layer_out): Linear(in_features=64, out_features=3, bias=True)\n",
              "  (relu): ReLU()\n",
              "  (dropout): Dropout(p=0.2, inplace=False)\n",
              "  (batchnorm1): BatchNorm1d(512, eps=1e-05, momentum=0.1, affine=True, track_running_stats=True)\n",
              "  (batchnorm2): BatchNorm1d(128, eps=1e-05, momentum=0.1, affine=True, track_running_stats=True)\n",
              "  (batchnorm3): BatchNorm1d(64, eps=1e-05, momentum=0.1, affine=True, track_running_stats=True)\n",
              ")"
            ]
          },
          "metadata": {},
          "execution_count": 98
        },
        {
          "output_type": "execute_result",
          "data": {
            "text/plain": [
              "MulticlassClassification(\n",
              "  (layer_1): Linear(in_features=26, out_features=512, bias=True)\n",
              "  (layer_2): Linear(in_features=512, out_features=128, bias=True)\n",
              "  (layer_3): Linear(in_features=128, out_features=64, bias=True)\n",
              "  (layer_out): Linear(in_features=64, out_features=3, bias=True)\n",
              "  (relu): ReLU()\n",
              "  (dropout): Dropout(p=0.2, inplace=False)\n",
              "  (batchnorm1): BatchNorm1d(512, eps=1e-05, momentum=0.1, affine=True, track_running_stats=True)\n",
              "  (batchnorm2): BatchNorm1d(128, eps=1e-05, momentum=0.1, affine=True, track_running_stats=True)\n",
              "  (batchnorm3): BatchNorm1d(64, eps=1e-05, momentum=0.1, affine=True, track_running_stats=True)\n",
              ")"
            ]
          },
          "metadata": {},
          "execution_count": 98
        },
        {
          "output_type": "execute_result",
          "data": {
            "text/plain": [
              "MulticlassClassification(\n",
              "  (layer_1): Linear(in_features=26, out_features=512, bias=True)\n",
              "  (layer_2): Linear(in_features=512, out_features=128, bias=True)\n",
              "  (layer_3): Linear(in_features=128, out_features=64, bias=True)\n",
              "  (layer_out): Linear(in_features=64, out_features=3, bias=True)\n",
              "  (relu): ReLU()\n",
              "  (dropout): Dropout(p=0.2, inplace=False)\n",
              "  (batchnorm1): BatchNorm1d(512, eps=1e-05, momentum=0.1, affine=True, track_running_stats=True)\n",
              "  (batchnorm2): BatchNorm1d(128, eps=1e-05, momentum=0.1, affine=True, track_running_stats=True)\n",
              "  (batchnorm3): BatchNorm1d(64, eps=1e-05, momentum=0.1, affine=True, track_running_stats=True)\n",
              ")"
            ]
          },
          "metadata": {},
          "execution_count": 98
        },
        {
          "output_type": "execute_result",
          "data": {
            "text/plain": [
              "MulticlassClassification(\n",
              "  (layer_1): Linear(in_features=26, out_features=512, bias=True)\n",
              "  (layer_2): Linear(in_features=512, out_features=128, bias=True)\n",
              "  (layer_3): Linear(in_features=128, out_features=64, bias=True)\n",
              "  (layer_out): Linear(in_features=64, out_features=3, bias=True)\n",
              "  (relu): ReLU()\n",
              "  (dropout): Dropout(p=0.2, inplace=False)\n",
              "  (batchnorm1): BatchNorm1d(512, eps=1e-05, momentum=0.1, affine=True, track_running_stats=True)\n",
              "  (batchnorm2): BatchNorm1d(128, eps=1e-05, momentum=0.1, affine=True, track_running_stats=True)\n",
              "  (batchnorm3): BatchNorm1d(64, eps=1e-05, momentum=0.1, affine=True, track_running_stats=True)\n",
              ")"
            ]
          },
          "metadata": {},
          "execution_count": 98
        },
        {
          "output_type": "execute_result",
          "data": {
            "text/plain": [
              "MulticlassClassification(\n",
              "  (layer_1): Linear(in_features=26, out_features=512, bias=True)\n",
              "  (layer_2): Linear(in_features=512, out_features=128, bias=True)\n",
              "  (layer_3): Linear(in_features=128, out_features=64, bias=True)\n",
              "  (layer_out): Linear(in_features=64, out_features=3, bias=True)\n",
              "  (relu): ReLU()\n",
              "  (dropout): Dropout(p=0.2, inplace=False)\n",
              "  (batchnorm1): BatchNorm1d(512, eps=1e-05, momentum=0.1, affine=True, track_running_stats=True)\n",
              "  (batchnorm2): BatchNorm1d(128, eps=1e-05, momentum=0.1, affine=True, track_running_stats=True)\n",
              "  (batchnorm3): BatchNorm1d(64, eps=1e-05, momentum=0.1, affine=True, track_running_stats=True)\n",
              ")"
            ]
          },
          "metadata": {},
          "execution_count": 98
        },
        {
          "output_type": "execute_result",
          "data": {
            "text/plain": [
              "MulticlassClassification(\n",
              "  (layer_1): Linear(in_features=26, out_features=512, bias=True)\n",
              "  (layer_2): Linear(in_features=512, out_features=128, bias=True)\n",
              "  (layer_3): Linear(in_features=128, out_features=64, bias=True)\n",
              "  (layer_out): Linear(in_features=64, out_features=3, bias=True)\n",
              "  (relu): ReLU()\n",
              "  (dropout): Dropout(p=0.2, inplace=False)\n",
              "  (batchnorm1): BatchNorm1d(512, eps=1e-05, momentum=0.1, affine=True, track_running_stats=True)\n",
              "  (batchnorm2): BatchNorm1d(128, eps=1e-05, momentum=0.1, affine=True, track_running_stats=True)\n",
              "  (batchnorm3): BatchNorm1d(64, eps=1e-05, momentum=0.1, affine=True, track_running_stats=True)\n",
              ")"
            ]
          },
          "metadata": {},
          "execution_count": 98
        },
        {
          "output_type": "execute_result",
          "data": {
            "text/plain": [
              "MulticlassClassification(\n",
              "  (layer_1): Linear(in_features=26, out_features=512, bias=True)\n",
              "  (layer_2): Linear(in_features=512, out_features=128, bias=True)\n",
              "  (layer_3): Linear(in_features=128, out_features=64, bias=True)\n",
              "  (layer_out): Linear(in_features=64, out_features=3, bias=True)\n",
              "  (relu): ReLU()\n",
              "  (dropout): Dropout(p=0.2, inplace=False)\n",
              "  (batchnorm1): BatchNorm1d(512, eps=1e-05, momentum=0.1, affine=True, track_running_stats=True)\n",
              "  (batchnorm2): BatchNorm1d(128, eps=1e-05, momentum=0.1, affine=True, track_running_stats=True)\n",
              "  (batchnorm3): BatchNorm1d(64, eps=1e-05, momentum=0.1, affine=True, track_running_stats=True)\n",
              ")"
            ]
          },
          "metadata": {},
          "execution_count": 98
        },
        {
          "output_type": "execute_result",
          "data": {
            "text/plain": [
              "MulticlassClassification(\n",
              "  (layer_1): Linear(in_features=26, out_features=512, bias=True)\n",
              "  (layer_2): Linear(in_features=512, out_features=128, bias=True)\n",
              "  (layer_3): Linear(in_features=128, out_features=64, bias=True)\n",
              "  (layer_out): Linear(in_features=64, out_features=3, bias=True)\n",
              "  (relu): ReLU()\n",
              "  (dropout): Dropout(p=0.2, inplace=False)\n",
              "  (batchnorm1): BatchNorm1d(512, eps=1e-05, momentum=0.1, affine=True, track_running_stats=True)\n",
              "  (batchnorm2): BatchNorm1d(128, eps=1e-05, momentum=0.1, affine=True, track_running_stats=True)\n",
              "  (batchnorm3): BatchNorm1d(64, eps=1e-05, momentum=0.1, affine=True, track_running_stats=True)\n",
              ")"
            ]
          },
          "metadata": {},
          "execution_count": 98
        },
        {
          "output_type": "execute_result",
          "data": {
            "text/plain": [
              "MulticlassClassification(\n",
              "  (layer_1): Linear(in_features=26, out_features=512, bias=True)\n",
              "  (layer_2): Linear(in_features=512, out_features=128, bias=True)\n",
              "  (layer_3): Linear(in_features=128, out_features=64, bias=True)\n",
              "  (layer_out): Linear(in_features=64, out_features=3, bias=True)\n",
              "  (relu): ReLU()\n",
              "  (dropout): Dropout(p=0.2, inplace=False)\n",
              "  (batchnorm1): BatchNorm1d(512, eps=1e-05, momentum=0.1, affine=True, track_running_stats=True)\n",
              "  (batchnorm2): BatchNorm1d(128, eps=1e-05, momentum=0.1, affine=True, track_running_stats=True)\n",
              "  (batchnorm3): BatchNorm1d(64, eps=1e-05, momentum=0.1, affine=True, track_running_stats=True)\n",
              ")"
            ]
          },
          "metadata": {},
          "execution_count": 98
        },
        {
          "output_type": "execute_result",
          "data": {
            "text/plain": [
              "MulticlassClassification(\n",
              "  (layer_1): Linear(in_features=26, out_features=512, bias=True)\n",
              "  (layer_2): Linear(in_features=512, out_features=128, bias=True)\n",
              "  (layer_3): Linear(in_features=128, out_features=64, bias=True)\n",
              "  (layer_out): Linear(in_features=64, out_features=3, bias=True)\n",
              "  (relu): ReLU()\n",
              "  (dropout): Dropout(p=0.2, inplace=False)\n",
              "  (batchnorm1): BatchNorm1d(512, eps=1e-05, momentum=0.1, affine=True, track_running_stats=True)\n",
              "  (batchnorm2): BatchNorm1d(128, eps=1e-05, momentum=0.1, affine=True, track_running_stats=True)\n",
              "  (batchnorm3): BatchNorm1d(64, eps=1e-05, momentum=0.1, affine=True, track_running_stats=True)\n",
              ")"
            ]
          },
          "metadata": {},
          "execution_count": 98
        },
        {
          "output_type": "execute_result",
          "data": {
            "text/plain": [
              "MulticlassClassification(\n",
              "  (layer_1): Linear(in_features=26, out_features=512, bias=True)\n",
              "  (layer_2): Linear(in_features=512, out_features=128, bias=True)\n",
              "  (layer_3): Linear(in_features=128, out_features=64, bias=True)\n",
              "  (layer_out): Linear(in_features=64, out_features=3, bias=True)\n",
              "  (relu): ReLU()\n",
              "  (dropout): Dropout(p=0.2, inplace=False)\n",
              "  (batchnorm1): BatchNorm1d(512, eps=1e-05, momentum=0.1, affine=True, track_running_stats=True)\n",
              "  (batchnorm2): BatchNorm1d(128, eps=1e-05, momentum=0.1, affine=True, track_running_stats=True)\n",
              "  (batchnorm3): BatchNorm1d(64, eps=1e-05, momentum=0.1, affine=True, track_running_stats=True)\n",
              ")"
            ]
          },
          "metadata": {},
          "execution_count": 98
        },
        {
          "output_type": "execute_result",
          "data": {
            "text/plain": [
              "MulticlassClassification(\n",
              "  (layer_1): Linear(in_features=26, out_features=512, bias=True)\n",
              "  (layer_2): Linear(in_features=512, out_features=128, bias=True)\n",
              "  (layer_3): Linear(in_features=128, out_features=64, bias=True)\n",
              "  (layer_out): Linear(in_features=64, out_features=3, bias=True)\n",
              "  (relu): ReLU()\n",
              "  (dropout): Dropout(p=0.2, inplace=False)\n",
              "  (batchnorm1): BatchNorm1d(512, eps=1e-05, momentum=0.1, affine=True, track_running_stats=True)\n",
              "  (batchnorm2): BatchNorm1d(128, eps=1e-05, momentum=0.1, affine=True, track_running_stats=True)\n",
              "  (batchnorm3): BatchNorm1d(64, eps=1e-05, momentum=0.1, affine=True, track_running_stats=True)\n",
              ")"
            ]
          },
          "metadata": {},
          "execution_count": 98
        },
        {
          "output_type": "execute_result",
          "data": {
            "text/plain": [
              "MulticlassClassification(\n",
              "  (layer_1): Linear(in_features=26, out_features=512, bias=True)\n",
              "  (layer_2): Linear(in_features=512, out_features=128, bias=True)\n",
              "  (layer_3): Linear(in_features=128, out_features=64, bias=True)\n",
              "  (layer_out): Linear(in_features=64, out_features=3, bias=True)\n",
              "  (relu): ReLU()\n",
              "  (dropout): Dropout(p=0.2, inplace=False)\n",
              "  (batchnorm1): BatchNorm1d(512, eps=1e-05, momentum=0.1, affine=True, track_running_stats=True)\n",
              "  (batchnorm2): BatchNorm1d(128, eps=1e-05, momentum=0.1, affine=True, track_running_stats=True)\n",
              "  (batchnorm3): BatchNorm1d(64, eps=1e-05, momentum=0.1, affine=True, track_running_stats=True)\n",
              ")"
            ]
          },
          "metadata": {},
          "execution_count": 98
        },
        {
          "output_type": "execute_result",
          "data": {
            "text/plain": [
              "MulticlassClassification(\n",
              "  (layer_1): Linear(in_features=26, out_features=512, bias=True)\n",
              "  (layer_2): Linear(in_features=512, out_features=128, bias=True)\n",
              "  (layer_3): Linear(in_features=128, out_features=64, bias=True)\n",
              "  (layer_out): Linear(in_features=64, out_features=3, bias=True)\n",
              "  (relu): ReLU()\n",
              "  (dropout): Dropout(p=0.2, inplace=False)\n",
              "  (batchnorm1): BatchNorm1d(512, eps=1e-05, momentum=0.1, affine=True, track_running_stats=True)\n",
              "  (batchnorm2): BatchNorm1d(128, eps=1e-05, momentum=0.1, affine=True, track_running_stats=True)\n",
              "  (batchnorm3): BatchNorm1d(64, eps=1e-05, momentum=0.1, affine=True, track_running_stats=True)\n",
              ")"
            ]
          },
          "metadata": {},
          "execution_count": 98
        },
        {
          "output_type": "execute_result",
          "data": {
            "text/plain": [
              "MulticlassClassification(\n",
              "  (layer_1): Linear(in_features=26, out_features=512, bias=True)\n",
              "  (layer_2): Linear(in_features=512, out_features=128, bias=True)\n",
              "  (layer_3): Linear(in_features=128, out_features=64, bias=True)\n",
              "  (layer_out): Linear(in_features=64, out_features=3, bias=True)\n",
              "  (relu): ReLU()\n",
              "  (dropout): Dropout(p=0.2, inplace=False)\n",
              "  (batchnorm1): BatchNorm1d(512, eps=1e-05, momentum=0.1, affine=True, track_running_stats=True)\n",
              "  (batchnorm2): BatchNorm1d(128, eps=1e-05, momentum=0.1, affine=True, track_running_stats=True)\n",
              "  (batchnorm3): BatchNorm1d(64, eps=1e-05, momentum=0.1, affine=True, track_running_stats=True)\n",
              ")"
            ]
          },
          "metadata": {},
          "execution_count": 98
        },
        {
          "output_type": "execute_result",
          "data": {
            "text/plain": [
              "MulticlassClassification(\n",
              "  (layer_1): Linear(in_features=26, out_features=512, bias=True)\n",
              "  (layer_2): Linear(in_features=512, out_features=128, bias=True)\n",
              "  (layer_3): Linear(in_features=128, out_features=64, bias=True)\n",
              "  (layer_out): Linear(in_features=64, out_features=3, bias=True)\n",
              "  (relu): ReLU()\n",
              "  (dropout): Dropout(p=0.2, inplace=False)\n",
              "  (batchnorm1): BatchNorm1d(512, eps=1e-05, momentum=0.1, affine=True, track_running_stats=True)\n",
              "  (batchnorm2): BatchNorm1d(128, eps=1e-05, momentum=0.1, affine=True, track_running_stats=True)\n",
              "  (batchnorm3): BatchNorm1d(64, eps=1e-05, momentum=0.1, affine=True, track_running_stats=True)\n",
              ")"
            ]
          },
          "metadata": {},
          "execution_count": 98
        },
        {
          "output_type": "execute_result",
          "data": {
            "text/plain": [
              "MulticlassClassification(\n",
              "  (layer_1): Linear(in_features=26, out_features=512, bias=True)\n",
              "  (layer_2): Linear(in_features=512, out_features=128, bias=True)\n",
              "  (layer_3): Linear(in_features=128, out_features=64, bias=True)\n",
              "  (layer_out): Linear(in_features=64, out_features=3, bias=True)\n",
              "  (relu): ReLU()\n",
              "  (dropout): Dropout(p=0.2, inplace=False)\n",
              "  (batchnorm1): BatchNorm1d(512, eps=1e-05, momentum=0.1, affine=True, track_running_stats=True)\n",
              "  (batchnorm2): BatchNorm1d(128, eps=1e-05, momentum=0.1, affine=True, track_running_stats=True)\n",
              "  (batchnorm3): BatchNorm1d(64, eps=1e-05, momentum=0.1, affine=True, track_running_stats=True)\n",
              ")"
            ]
          },
          "metadata": {},
          "execution_count": 98
        },
        {
          "output_type": "execute_result",
          "data": {
            "text/plain": [
              "MulticlassClassification(\n",
              "  (layer_1): Linear(in_features=26, out_features=512, bias=True)\n",
              "  (layer_2): Linear(in_features=512, out_features=128, bias=True)\n",
              "  (layer_3): Linear(in_features=128, out_features=64, bias=True)\n",
              "  (layer_out): Linear(in_features=64, out_features=3, bias=True)\n",
              "  (relu): ReLU()\n",
              "  (dropout): Dropout(p=0.2, inplace=False)\n",
              "  (batchnorm1): BatchNorm1d(512, eps=1e-05, momentum=0.1, affine=True, track_running_stats=True)\n",
              "  (batchnorm2): BatchNorm1d(128, eps=1e-05, momentum=0.1, affine=True, track_running_stats=True)\n",
              "  (batchnorm3): BatchNorm1d(64, eps=1e-05, momentum=0.1, affine=True, track_running_stats=True)\n",
              ")"
            ]
          },
          "metadata": {},
          "execution_count": 98
        },
        {
          "output_type": "execute_result",
          "data": {
            "text/plain": [
              "MulticlassClassification(\n",
              "  (layer_1): Linear(in_features=26, out_features=512, bias=True)\n",
              "  (layer_2): Linear(in_features=512, out_features=128, bias=True)\n",
              "  (layer_3): Linear(in_features=128, out_features=64, bias=True)\n",
              "  (layer_out): Linear(in_features=64, out_features=3, bias=True)\n",
              "  (relu): ReLU()\n",
              "  (dropout): Dropout(p=0.2, inplace=False)\n",
              "  (batchnorm1): BatchNorm1d(512, eps=1e-05, momentum=0.1, affine=True, track_running_stats=True)\n",
              "  (batchnorm2): BatchNorm1d(128, eps=1e-05, momentum=0.1, affine=True, track_running_stats=True)\n",
              "  (batchnorm3): BatchNorm1d(64, eps=1e-05, momentum=0.1, affine=True, track_running_stats=True)\n",
              ")"
            ]
          },
          "metadata": {},
          "execution_count": 98
        },
        {
          "output_type": "execute_result",
          "data": {
            "text/plain": [
              "MulticlassClassification(\n",
              "  (layer_1): Linear(in_features=26, out_features=512, bias=True)\n",
              "  (layer_2): Linear(in_features=512, out_features=128, bias=True)\n",
              "  (layer_3): Linear(in_features=128, out_features=64, bias=True)\n",
              "  (layer_out): Linear(in_features=64, out_features=3, bias=True)\n",
              "  (relu): ReLU()\n",
              "  (dropout): Dropout(p=0.2, inplace=False)\n",
              "  (batchnorm1): BatchNorm1d(512, eps=1e-05, momentum=0.1, affine=True, track_running_stats=True)\n",
              "  (batchnorm2): BatchNorm1d(128, eps=1e-05, momentum=0.1, affine=True, track_running_stats=True)\n",
              "  (batchnorm3): BatchNorm1d(64, eps=1e-05, momentum=0.1, affine=True, track_running_stats=True)\n",
              ")"
            ]
          },
          "metadata": {},
          "execution_count": 98
        },
        {
          "output_type": "execute_result",
          "data": {
            "text/plain": [
              "MulticlassClassification(\n",
              "  (layer_1): Linear(in_features=26, out_features=512, bias=True)\n",
              "  (layer_2): Linear(in_features=512, out_features=128, bias=True)\n",
              "  (layer_3): Linear(in_features=128, out_features=64, bias=True)\n",
              "  (layer_out): Linear(in_features=64, out_features=3, bias=True)\n",
              "  (relu): ReLU()\n",
              "  (dropout): Dropout(p=0.2, inplace=False)\n",
              "  (batchnorm1): BatchNorm1d(512, eps=1e-05, momentum=0.1, affine=True, track_running_stats=True)\n",
              "  (batchnorm2): BatchNorm1d(128, eps=1e-05, momentum=0.1, affine=True, track_running_stats=True)\n",
              "  (batchnorm3): BatchNorm1d(64, eps=1e-05, momentum=0.1, affine=True, track_running_stats=True)\n",
              ")"
            ]
          },
          "metadata": {},
          "execution_count": 98
        },
        {
          "output_type": "execute_result",
          "data": {
            "text/plain": [
              "MulticlassClassification(\n",
              "  (layer_1): Linear(in_features=26, out_features=512, bias=True)\n",
              "  (layer_2): Linear(in_features=512, out_features=128, bias=True)\n",
              "  (layer_3): Linear(in_features=128, out_features=64, bias=True)\n",
              "  (layer_out): Linear(in_features=64, out_features=3, bias=True)\n",
              "  (relu): ReLU()\n",
              "  (dropout): Dropout(p=0.2, inplace=False)\n",
              "  (batchnorm1): BatchNorm1d(512, eps=1e-05, momentum=0.1, affine=True, track_running_stats=True)\n",
              "  (batchnorm2): BatchNorm1d(128, eps=1e-05, momentum=0.1, affine=True, track_running_stats=True)\n",
              "  (batchnorm3): BatchNorm1d(64, eps=1e-05, momentum=0.1, affine=True, track_running_stats=True)\n",
              ")"
            ]
          },
          "metadata": {},
          "execution_count": 98
        },
        {
          "output_type": "execute_result",
          "data": {
            "text/plain": [
              "MulticlassClassification(\n",
              "  (layer_1): Linear(in_features=26, out_features=512, bias=True)\n",
              "  (layer_2): Linear(in_features=512, out_features=128, bias=True)\n",
              "  (layer_3): Linear(in_features=128, out_features=64, bias=True)\n",
              "  (layer_out): Linear(in_features=64, out_features=3, bias=True)\n",
              "  (relu): ReLU()\n",
              "  (dropout): Dropout(p=0.2, inplace=False)\n",
              "  (batchnorm1): BatchNorm1d(512, eps=1e-05, momentum=0.1, affine=True, track_running_stats=True)\n",
              "  (batchnorm2): BatchNorm1d(128, eps=1e-05, momentum=0.1, affine=True, track_running_stats=True)\n",
              "  (batchnorm3): BatchNorm1d(64, eps=1e-05, momentum=0.1, affine=True, track_running_stats=True)\n",
              ")"
            ]
          },
          "metadata": {},
          "execution_count": 98
        },
        {
          "output_type": "execute_result",
          "data": {
            "text/plain": [
              "MulticlassClassification(\n",
              "  (layer_1): Linear(in_features=26, out_features=512, bias=True)\n",
              "  (layer_2): Linear(in_features=512, out_features=128, bias=True)\n",
              "  (layer_3): Linear(in_features=128, out_features=64, bias=True)\n",
              "  (layer_out): Linear(in_features=64, out_features=3, bias=True)\n",
              "  (relu): ReLU()\n",
              "  (dropout): Dropout(p=0.2, inplace=False)\n",
              "  (batchnorm1): BatchNorm1d(512, eps=1e-05, momentum=0.1, affine=True, track_running_stats=True)\n",
              "  (batchnorm2): BatchNorm1d(128, eps=1e-05, momentum=0.1, affine=True, track_running_stats=True)\n",
              "  (batchnorm3): BatchNorm1d(64, eps=1e-05, momentum=0.1, affine=True, track_running_stats=True)\n",
              ")"
            ]
          },
          "metadata": {},
          "execution_count": 98
        },
        {
          "output_type": "execute_result",
          "data": {
            "text/plain": [
              "MulticlassClassification(\n",
              "  (layer_1): Linear(in_features=26, out_features=512, bias=True)\n",
              "  (layer_2): Linear(in_features=512, out_features=128, bias=True)\n",
              "  (layer_3): Linear(in_features=128, out_features=64, bias=True)\n",
              "  (layer_out): Linear(in_features=64, out_features=3, bias=True)\n",
              "  (relu): ReLU()\n",
              "  (dropout): Dropout(p=0.2, inplace=False)\n",
              "  (batchnorm1): BatchNorm1d(512, eps=1e-05, momentum=0.1, affine=True, track_running_stats=True)\n",
              "  (batchnorm2): BatchNorm1d(128, eps=1e-05, momentum=0.1, affine=True, track_running_stats=True)\n",
              "  (batchnorm3): BatchNorm1d(64, eps=1e-05, momentum=0.1, affine=True, track_running_stats=True)\n",
              ")"
            ]
          },
          "metadata": {},
          "execution_count": 98
        },
        {
          "output_type": "execute_result",
          "data": {
            "text/plain": [
              "MulticlassClassification(\n",
              "  (layer_1): Linear(in_features=26, out_features=512, bias=True)\n",
              "  (layer_2): Linear(in_features=512, out_features=128, bias=True)\n",
              "  (layer_3): Linear(in_features=128, out_features=64, bias=True)\n",
              "  (layer_out): Linear(in_features=64, out_features=3, bias=True)\n",
              "  (relu): ReLU()\n",
              "  (dropout): Dropout(p=0.2, inplace=False)\n",
              "  (batchnorm1): BatchNorm1d(512, eps=1e-05, momentum=0.1, affine=True, track_running_stats=True)\n",
              "  (batchnorm2): BatchNorm1d(128, eps=1e-05, momentum=0.1, affine=True, track_running_stats=True)\n",
              "  (batchnorm3): BatchNorm1d(64, eps=1e-05, momentum=0.1, affine=True, track_running_stats=True)\n",
              ")"
            ]
          },
          "metadata": {},
          "execution_count": 98
        },
        {
          "output_type": "execute_result",
          "data": {
            "text/plain": [
              "MulticlassClassification(\n",
              "  (layer_1): Linear(in_features=26, out_features=512, bias=True)\n",
              "  (layer_2): Linear(in_features=512, out_features=128, bias=True)\n",
              "  (layer_3): Linear(in_features=128, out_features=64, bias=True)\n",
              "  (layer_out): Linear(in_features=64, out_features=3, bias=True)\n",
              "  (relu): ReLU()\n",
              "  (dropout): Dropout(p=0.2, inplace=False)\n",
              "  (batchnorm1): BatchNorm1d(512, eps=1e-05, momentum=0.1, affine=True, track_running_stats=True)\n",
              "  (batchnorm2): BatchNorm1d(128, eps=1e-05, momentum=0.1, affine=True, track_running_stats=True)\n",
              "  (batchnorm3): BatchNorm1d(64, eps=1e-05, momentum=0.1, affine=True, track_running_stats=True)\n",
              ")"
            ]
          },
          "metadata": {},
          "execution_count": 98
        },
        {
          "output_type": "execute_result",
          "data": {
            "text/plain": [
              "MulticlassClassification(\n",
              "  (layer_1): Linear(in_features=26, out_features=512, bias=True)\n",
              "  (layer_2): Linear(in_features=512, out_features=128, bias=True)\n",
              "  (layer_3): Linear(in_features=128, out_features=64, bias=True)\n",
              "  (layer_out): Linear(in_features=64, out_features=3, bias=True)\n",
              "  (relu): ReLU()\n",
              "  (dropout): Dropout(p=0.2, inplace=False)\n",
              "  (batchnorm1): BatchNorm1d(512, eps=1e-05, momentum=0.1, affine=True, track_running_stats=True)\n",
              "  (batchnorm2): BatchNorm1d(128, eps=1e-05, momentum=0.1, affine=True, track_running_stats=True)\n",
              "  (batchnorm3): BatchNorm1d(64, eps=1e-05, momentum=0.1, affine=True, track_running_stats=True)\n",
              ")"
            ]
          },
          "metadata": {},
          "execution_count": 98
        },
        {
          "output_type": "execute_result",
          "data": {
            "text/plain": [
              "MulticlassClassification(\n",
              "  (layer_1): Linear(in_features=26, out_features=512, bias=True)\n",
              "  (layer_2): Linear(in_features=512, out_features=128, bias=True)\n",
              "  (layer_3): Linear(in_features=128, out_features=64, bias=True)\n",
              "  (layer_out): Linear(in_features=64, out_features=3, bias=True)\n",
              "  (relu): ReLU()\n",
              "  (dropout): Dropout(p=0.2, inplace=False)\n",
              "  (batchnorm1): BatchNorm1d(512, eps=1e-05, momentum=0.1, affine=True, track_running_stats=True)\n",
              "  (batchnorm2): BatchNorm1d(128, eps=1e-05, momentum=0.1, affine=True, track_running_stats=True)\n",
              "  (batchnorm3): BatchNorm1d(64, eps=1e-05, momentum=0.1, affine=True, track_running_stats=True)\n",
              ")"
            ]
          },
          "metadata": {},
          "execution_count": 98
        },
        {
          "output_type": "execute_result",
          "data": {
            "text/plain": [
              "MulticlassClassification(\n",
              "  (layer_1): Linear(in_features=26, out_features=512, bias=True)\n",
              "  (layer_2): Linear(in_features=512, out_features=128, bias=True)\n",
              "  (layer_3): Linear(in_features=128, out_features=64, bias=True)\n",
              "  (layer_out): Linear(in_features=64, out_features=3, bias=True)\n",
              "  (relu): ReLU()\n",
              "  (dropout): Dropout(p=0.2, inplace=False)\n",
              "  (batchnorm1): BatchNorm1d(512, eps=1e-05, momentum=0.1, affine=True, track_running_stats=True)\n",
              "  (batchnorm2): BatchNorm1d(128, eps=1e-05, momentum=0.1, affine=True, track_running_stats=True)\n",
              "  (batchnorm3): BatchNorm1d(64, eps=1e-05, momentum=0.1, affine=True, track_running_stats=True)\n",
              ")"
            ]
          },
          "metadata": {},
          "execution_count": 98
        },
        {
          "output_type": "execute_result",
          "data": {
            "text/plain": [
              "MulticlassClassification(\n",
              "  (layer_1): Linear(in_features=26, out_features=512, bias=True)\n",
              "  (layer_2): Linear(in_features=512, out_features=128, bias=True)\n",
              "  (layer_3): Linear(in_features=128, out_features=64, bias=True)\n",
              "  (layer_out): Linear(in_features=64, out_features=3, bias=True)\n",
              "  (relu): ReLU()\n",
              "  (dropout): Dropout(p=0.2, inplace=False)\n",
              "  (batchnorm1): BatchNorm1d(512, eps=1e-05, momentum=0.1, affine=True, track_running_stats=True)\n",
              "  (batchnorm2): BatchNorm1d(128, eps=1e-05, momentum=0.1, affine=True, track_running_stats=True)\n",
              "  (batchnorm3): BatchNorm1d(64, eps=1e-05, momentum=0.1, affine=True, track_running_stats=True)\n",
              ")"
            ]
          },
          "metadata": {},
          "execution_count": 98
        },
        {
          "output_type": "execute_result",
          "data": {
            "text/plain": [
              "MulticlassClassification(\n",
              "  (layer_1): Linear(in_features=26, out_features=512, bias=True)\n",
              "  (layer_2): Linear(in_features=512, out_features=128, bias=True)\n",
              "  (layer_3): Linear(in_features=128, out_features=64, bias=True)\n",
              "  (layer_out): Linear(in_features=64, out_features=3, bias=True)\n",
              "  (relu): ReLU()\n",
              "  (dropout): Dropout(p=0.2, inplace=False)\n",
              "  (batchnorm1): BatchNorm1d(512, eps=1e-05, momentum=0.1, affine=True, track_running_stats=True)\n",
              "  (batchnorm2): BatchNorm1d(128, eps=1e-05, momentum=0.1, affine=True, track_running_stats=True)\n",
              "  (batchnorm3): BatchNorm1d(64, eps=1e-05, momentum=0.1, affine=True, track_running_stats=True)\n",
              ")"
            ]
          },
          "metadata": {},
          "execution_count": 98
        },
        {
          "output_type": "execute_result",
          "data": {
            "text/plain": [
              "MulticlassClassification(\n",
              "  (layer_1): Linear(in_features=26, out_features=512, bias=True)\n",
              "  (layer_2): Linear(in_features=512, out_features=128, bias=True)\n",
              "  (layer_3): Linear(in_features=128, out_features=64, bias=True)\n",
              "  (layer_out): Linear(in_features=64, out_features=3, bias=True)\n",
              "  (relu): ReLU()\n",
              "  (dropout): Dropout(p=0.2, inplace=False)\n",
              "  (batchnorm1): BatchNorm1d(512, eps=1e-05, momentum=0.1, affine=True, track_running_stats=True)\n",
              "  (batchnorm2): BatchNorm1d(128, eps=1e-05, momentum=0.1, affine=True, track_running_stats=True)\n",
              "  (batchnorm3): BatchNorm1d(64, eps=1e-05, momentum=0.1, affine=True, track_running_stats=True)\n",
              ")"
            ]
          },
          "metadata": {},
          "execution_count": 98
        },
        {
          "output_type": "execute_result",
          "data": {
            "text/plain": [
              "MulticlassClassification(\n",
              "  (layer_1): Linear(in_features=26, out_features=512, bias=True)\n",
              "  (layer_2): Linear(in_features=512, out_features=128, bias=True)\n",
              "  (layer_3): Linear(in_features=128, out_features=64, bias=True)\n",
              "  (layer_out): Linear(in_features=64, out_features=3, bias=True)\n",
              "  (relu): ReLU()\n",
              "  (dropout): Dropout(p=0.2, inplace=False)\n",
              "  (batchnorm1): BatchNorm1d(512, eps=1e-05, momentum=0.1, affine=True, track_running_stats=True)\n",
              "  (batchnorm2): BatchNorm1d(128, eps=1e-05, momentum=0.1, affine=True, track_running_stats=True)\n",
              "  (batchnorm3): BatchNorm1d(64, eps=1e-05, momentum=0.1, affine=True, track_running_stats=True)\n",
              ")"
            ]
          },
          "metadata": {},
          "execution_count": 98
        },
        {
          "output_type": "execute_result",
          "data": {
            "text/plain": [
              "MulticlassClassification(\n",
              "  (layer_1): Linear(in_features=26, out_features=512, bias=True)\n",
              "  (layer_2): Linear(in_features=512, out_features=128, bias=True)\n",
              "  (layer_3): Linear(in_features=128, out_features=64, bias=True)\n",
              "  (layer_out): Linear(in_features=64, out_features=3, bias=True)\n",
              "  (relu): ReLU()\n",
              "  (dropout): Dropout(p=0.2, inplace=False)\n",
              "  (batchnorm1): BatchNorm1d(512, eps=1e-05, momentum=0.1, affine=True, track_running_stats=True)\n",
              "  (batchnorm2): BatchNorm1d(128, eps=1e-05, momentum=0.1, affine=True, track_running_stats=True)\n",
              "  (batchnorm3): BatchNorm1d(64, eps=1e-05, momentum=0.1, affine=True, track_running_stats=True)\n",
              ")"
            ]
          },
          "metadata": {},
          "execution_count": 98
        },
        {
          "output_type": "execute_result",
          "data": {
            "text/plain": [
              "MulticlassClassification(\n",
              "  (layer_1): Linear(in_features=26, out_features=512, bias=True)\n",
              "  (layer_2): Linear(in_features=512, out_features=128, bias=True)\n",
              "  (layer_3): Linear(in_features=128, out_features=64, bias=True)\n",
              "  (layer_out): Linear(in_features=64, out_features=3, bias=True)\n",
              "  (relu): ReLU()\n",
              "  (dropout): Dropout(p=0.2, inplace=False)\n",
              "  (batchnorm1): BatchNorm1d(512, eps=1e-05, momentum=0.1, affine=True, track_running_stats=True)\n",
              "  (batchnorm2): BatchNorm1d(128, eps=1e-05, momentum=0.1, affine=True, track_running_stats=True)\n",
              "  (batchnorm3): BatchNorm1d(64, eps=1e-05, momentum=0.1, affine=True, track_running_stats=True)\n",
              ")"
            ]
          },
          "metadata": {},
          "execution_count": 98
        },
        {
          "output_type": "execute_result",
          "data": {
            "text/plain": [
              "MulticlassClassification(\n",
              "  (layer_1): Linear(in_features=26, out_features=512, bias=True)\n",
              "  (layer_2): Linear(in_features=512, out_features=128, bias=True)\n",
              "  (layer_3): Linear(in_features=128, out_features=64, bias=True)\n",
              "  (layer_out): Linear(in_features=64, out_features=3, bias=True)\n",
              "  (relu): ReLU()\n",
              "  (dropout): Dropout(p=0.2, inplace=False)\n",
              "  (batchnorm1): BatchNorm1d(512, eps=1e-05, momentum=0.1, affine=True, track_running_stats=True)\n",
              "  (batchnorm2): BatchNorm1d(128, eps=1e-05, momentum=0.1, affine=True, track_running_stats=True)\n",
              "  (batchnorm3): BatchNorm1d(64, eps=1e-05, momentum=0.1, affine=True, track_running_stats=True)\n",
              ")"
            ]
          },
          "metadata": {},
          "execution_count": 98
        },
        {
          "output_type": "execute_result",
          "data": {
            "text/plain": [
              "MulticlassClassification(\n",
              "  (layer_1): Linear(in_features=26, out_features=512, bias=True)\n",
              "  (layer_2): Linear(in_features=512, out_features=128, bias=True)\n",
              "  (layer_3): Linear(in_features=128, out_features=64, bias=True)\n",
              "  (layer_out): Linear(in_features=64, out_features=3, bias=True)\n",
              "  (relu): ReLU()\n",
              "  (dropout): Dropout(p=0.2, inplace=False)\n",
              "  (batchnorm1): BatchNorm1d(512, eps=1e-05, momentum=0.1, affine=True, track_running_stats=True)\n",
              "  (batchnorm2): BatchNorm1d(128, eps=1e-05, momentum=0.1, affine=True, track_running_stats=True)\n",
              "  (batchnorm3): BatchNorm1d(64, eps=1e-05, momentum=0.1, affine=True, track_running_stats=True)\n",
              ")"
            ]
          },
          "metadata": {},
          "execution_count": 98
        },
        {
          "output_type": "execute_result",
          "data": {
            "text/plain": [
              "MulticlassClassification(\n",
              "  (layer_1): Linear(in_features=26, out_features=512, bias=True)\n",
              "  (layer_2): Linear(in_features=512, out_features=128, bias=True)\n",
              "  (layer_3): Linear(in_features=128, out_features=64, bias=True)\n",
              "  (layer_out): Linear(in_features=64, out_features=3, bias=True)\n",
              "  (relu): ReLU()\n",
              "  (dropout): Dropout(p=0.2, inplace=False)\n",
              "  (batchnorm1): BatchNorm1d(512, eps=1e-05, momentum=0.1, affine=True, track_running_stats=True)\n",
              "  (batchnorm2): BatchNorm1d(128, eps=1e-05, momentum=0.1, affine=True, track_running_stats=True)\n",
              "  (batchnorm3): BatchNorm1d(64, eps=1e-05, momentum=0.1, affine=True, track_running_stats=True)\n",
              ")"
            ]
          },
          "metadata": {},
          "execution_count": 98
        },
        {
          "output_type": "execute_result",
          "data": {
            "text/plain": [
              "MulticlassClassification(\n",
              "  (layer_1): Linear(in_features=26, out_features=512, bias=True)\n",
              "  (layer_2): Linear(in_features=512, out_features=128, bias=True)\n",
              "  (layer_3): Linear(in_features=128, out_features=64, bias=True)\n",
              "  (layer_out): Linear(in_features=64, out_features=3, bias=True)\n",
              "  (relu): ReLU()\n",
              "  (dropout): Dropout(p=0.2, inplace=False)\n",
              "  (batchnorm1): BatchNorm1d(512, eps=1e-05, momentum=0.1, affine=True, track_running_stats=True)\n",
              "  (batchnorm2): BatchNorm1d(128, eps=1e-05, momentum=0.1, affine=True, track_running_stats=True)\n",
              "  (batchnorm3): BatchNorm1d(64, eps=1e-05, momentum=0.1, affine=True, track_running_stats=True)\n",
              ")"
            ]
          },
          "metadata": {},
          "execution_count": 98
        },
        {
          "output_type": "execute_result",
          "data": {
            "text/plain": [
              "MulticlassClassification(\n",
              "  (layer_1): Linear(in_features=26, out_features=512, bias=True)\n",
              "  (layer_2): Linear(in_features=512, out_features=128, bias=True)\n",
              "  (layer_3): Linear(in_features=128, out_features=64, bias=True)\n",
              "  (layer_out): Linear(in_features=64, out_features=3, bias=True)\n",
              "  (relu): ReLU()\n",
              "  (dropout): Dropout(p=0.2, inplace=False)\n",
              "  (batchnorm1): BatchNorm1d(512, eps=1e-05, momentum=0.1, affine=True, track_running_stats=True)\n",
              "  (batchnorm2): BatchNorm1d(128, eps=1e-05, momentum=0.1, affine=True, track_running_stats=True)\n",
              "  (batchnorm3): BatchNorm1d(64, eps=1e-05, momentum=0.1, affine=True, track_running_stats=True)\n",
              ")"
            ]
          },
          "metadata": {},
          "execution_count": 98
        },
        {
          "output_type": "execute_result",
          "data": {
            "text/plain": [
              "MulticlassClassification(\n",
              "  (layer_1): Linear(in_features=26, out_features=512, bias=True)\n",
              "  (layer_2): Linear(in_features=512, out_features=128, bias=True)\n",
              "  (layer_3): Linear(in_features=128, out_features=64, bias=True)\n",
              "  (layer_out): Linear(in_features=64, out_features=3, bias=True)\n",
              "  (relu): ReLU()\n",
              "  (dropout): Dropout(p=0.2, inplace=False)\n",
              "  (batchnorm1): BatchNorm1d(512, eps=1e-05, momentum=0.1, affine=True, track_running_stats=True)\n",
              "  (batchnorm2): BatchNorm1d(128, eps=1e-05, momentum=0.1, affine=True, track_running_stats=True)\n",
              "  (batchnorm3): BatchNorm1d(64, eps=1e-05, momentum=0.1, affine=True, track_running_stats=True)\n",
              ")"
            ]
          },
          "metadata": {},
          "execution_count": 98
        },
        {
          "output_type": "execute_result",
          "data": {
            "text/plain": [
              "MulticlassClassification(\n",
              "  (layer_1): Linear(in_features=26, out_features=512, bias=True)\n",
              "  (layer_2): Linear(in_features=512, out_features=128, bias=True)\n",
              "  (layer_3): Linear(in_features=128, out_features=64, bias=True)\n",
              "  (layer_out): Linear(in_features=64, out_features=3, bias=True)\n",
              "  (relu): ReLU()\n",
              "  (dropout): Dropout(p=0.2, inplace=False)\n",
              "  (batchnorm1): BatchNorm1d(512, eps=1e-05, momentum=0.1, affine=True, track_running_stats=True)\n",
              "  (batchnorm2): BatchNorm1d(128, eps=1e-05, momentum=0.1, affine=True, track_running_stats=True)\n",
              "  (batchnorm3): BatchNorm1d(64, eps=1e-05, momentum=0.1, affine=True, track_running_stats=True)\n",
              ")"
            ]
          },
          "metadata": {},
          "execution_count": 98
        },
        {
          "output_type": "execute_result",
          "data": {
            "text/plain": [
              "MulticlassClassification(\n",
              "  (layer_1): Linear(in_features=26, out_features=512, bias=True)\n",
              "  (layer_2): Linear(in_features=512, out_features=128, bias=True)\n",
              "  (layer_3): Linear(in_features=128, out_features=64, bias=True)\n",
              "  (layer_out): Linear(in_features=64, out_features=3, bias=True)\n",
              "  (relu): ReLU()\n",
              "  (dropout): Dropout(p=0.2, inplace=False)\n",
              "  (batchnorm1): BatchNorm1d(512, eps=1e-05, momentum=0.1, affine=True, track_running_stats=True)\n",
              "  (batchnorm2): BatchNorm1d(128, eps=1e-05, momentum=0.1, affine=True, track_running_stats=True)\n",
              "  (batchnorm3): BatchNorm1d(64, eps=1e-05, momentum=0.1, affine=True, track_running_stats=True)\n",
              ")"
            ]
          },
          "metadata": {},
          "execution_count": 98
        },
        {
          "output_type": "execute_result",
          "data": {
            "text/plain": [
              "MulticlassClassification(\n",
              "  (layer_1): Linear(in_features=26, out_features=512, bias=True)\n",
              "  (layer_2): Linear(in_features=512, out_features=128, bias=True)\n",
              "  (layer_3): Linear(in_features=128, out_features=64, bias=True)\n",
              "  (layer_out): Linear(in_features=64, out_features=3, bias=True)\n",
              "  (relu): ReLU()\n",
              "  (dropout): Dropout(p=0.2, inplace=False)\n",
              "  (batchnorm1): BatchNorm1d(512, eps=1e-05, momentum=0.1, affine=True, track_running_stats=True)\n",
              "  (batchnorm2): BatchNorm1d(128, eps=1e-05, momentum=0.1, affine=True, track_running_stats=True)\n",
              "  (batchnorm3): BatchNorm1d(64, eps=1e-05, momentum=0.1, affine=True, track_running_stats=True)\n",
              ")"
            ]
          },
          "metadata": {},
          "execution_count": 98
        },
        {
          "output_type": "execute_result",
          "data": {
            "text/plain": [
              "MulticlassClassification(\n",
              "  (layer_1): Linear(in_features=26, out_features=512, bias=True)\n",
              "  (layer_2): Linear(in_features=512, out_features=128, bias=True)\n",
              "  (layer_3): Linear(in_features=128, out_features=64, bias=True)\n",
              "  (layer_out): Linear(in_features=64, out_features=3, bias=True)\n",
              "  (relu): ReLU()\n",
              "  (dropout): Dropout(p=0.2, inplace=False)\n",
              "  (batchnorm1): BatchNorm1d(512, eps=1e-05, momentum=0.1, affine=True, track_running_stats=True)\n",
              "  (batchnorm2): BatchNorm1d(128, eps=1e-05, momentum=0.1, affine=True, track_running_stats=True)\n",
              "  (batchnorm3): BatchNorm1d(64, eps=1e-05, momentum=0.1, affine=True, track_running_stats=True)\n",
              ")"
            ]
          },
          "metadata": {},
          "execution_count": 98
        },
        {
          "output_type": "execute_result",
          "data": {
            "text/plain": [
              "MulticlassClassification(\n",
              "  (layer_1): Linear(in_features=26, out_features=512, bias=True)\n",
              "  (layer_2): Linear(in_features=512, out_features=128, bias=True)\n",
              "  (layer_3): Linear(in_features=128, out_features=64, bias=True)\n",
              "  (layer_out): Linear(in_features=64, out_features=3, bias=True)\n",
              "  (relu): ReLU()\n",
              "  (dropout): Dropout(p=0.2, inplace=False)\n",
              "  (batchnorm1): BatchNorm1d(512, eps=1e-05, momentum=0.1, affine=True, track_running_stats=True)\n",
              "  (batchnorm2): BatchNorm1d(128, eps=1e-05, momentum=0.1, affine=True, track_running_stats=True)\n",
              "  (batchnorm3): BatchNorm1d(64, eps=1e-05, momentum=0.1, affine=True, track_running_stats=True)\n",
              ")"
            ]
          },
          "metadata": {},
          "execution_count": 98
        },
        {
          "output_type": "execute_result",
          "data": {
            "text/plain": [
              "MulticlassClassification(\n",
              "  (layer_1): Linear(in_features=26, out_features=512, bias=True)\n",
              "  (layer_2): Linear(in_features=512, out_features=128, bias=True)\n",
              "  (layer_3): Linear(in_features=128, out_features=64, bias=True)\n",
              "  (layer_out): Linear(in_features=64, out_features=3, bias=True)\n",
              "  (relu): ReLU()\n",
              "  (dropout): Dropout(p=0.2, inplace=False)\n",
              "  (batchnorm1): BatchNorm1d(512, eps=1e-05, momentum=0.1, affine=True, track_running_stats=True)\n",
              "  (batchnorm2): BatchNorm1d(128, eps=1e-05, momentum=0.1, affine=True, track_running_stats=True)\n",
              "  (batchnorm3): BatchNorm1d(64, eps=1e-05, momentum=0.1, affine=True, track_running_stats=True)\n",
              ")"
            ]
          },
          "metadata": {},
          "execution_count": 98
        },
        {
          "output_type": "execute_result",
          "data": {
            "text/plain": [
              "MulticlassClassification(\n",
              "  (layer_1): Linear(in_features=26, out_features=512, bias=True)\n",
              "  (layer_2): Linear(in_features=512, out_features=128, bias=True)\n",
              "  (layer_3): Linear(in_features=128, out_features=64, bias=True)\n",
              "  (layer_out): Linear(in_features=64, out_features=3, bias=True)\n",
              "  (relu): ReLU()\n",
              "  (dropout): Dropout(p=0.2, inplace=False)\n",
              "  (batchnorm1): BatchNorm1d(512, eps=1e-05, momentum=0.1, affine=True, track_running_stats=True)\n",
              "  (batchnorm2): BatchNorm1d(128, eps=1e-05, momentum=0.1, affine=True, track_running_stats=True)\n",
              "  (batchnorm3): BatchNorm1d(64, eps=1e-05, momentum=0.1, affine=True, track_running_stats=True)\n",
              ")"
            ]
          },
          "metadata": {},
          "execution_count": 98
        },
        {
          "output_type": "execute_result",
          "data": {
            "text/plain": [
              "MulticlassClassification(\n",
              "  (layer_1): Linear(in_features=26, out_features=512, bias=True)\n",
              "  (layer_2): Linear(in_features=512, out_features=128, bias=True)\n",
              "  (layer_3): Linear(in_features=128, out_features=64, bias=True)\n",
              "  (layer_out): Linear(in_features=64, out_features=3, bias=True)\n",
              "  (relu): ReLU()\n",
              "  (dropout): Dropout(p=0.2, inplace=False)\n",
              "  (batchnorm1): BatchNorm1d(512, eps=1e-05, momentum=0.1, affine=True, track_running_stats=True)\n",
              "  (batchnorm2): BatchNorm1d(128, eps=1e-05, momentum=0.1, affine=True, track_running_stats=True)\n",
              "  (batchnorm3): BatchNorm1d(64, eps=1e-05, momentum=0.1, affine=True, track_running_stats=True)\n",
              ")"
            ]
          },
          "metadata": {},
          "execution_count": 98
        },
        {
          "output_type": "execute_result",
          "data": {
            "text/plain": [
              "MulticlassClassification(\n",
              "  (layer_1): Linear(in_features=26, out_features=512, bias=True)\n",
              "  (layer_2): Linear(in_features=512, out_features=128, bias=True)\n",
              "  (layer_3): Linear(in_features=128, out_features=64, bias=True)\n",
              "  (layer_out): Linear(in_features=64, out_features=3, bias=True)\n",
              "  (relu): ReLU()\n",
              "  (dropout): Dropout(p=0.2, inplace=False)\n",
              "  (batchnorm1): BatchNorm1d(512, eps=1e-05, momentum=0.1, affine=True, track_running_stats=True)\n",
              "  (batchnorm2): BatchNorm1d(128, eps=1e-05, momentum=0.1, affine=True, track_running_stats=True)\n",
              "  (batchnorm3): BatchNorm1d(64, eps=1e-05, momentum=0.1, affine=True, track_running_stats=True)\n",
              ")"
            ]
          },
          "metadata": {},
          "execution_count": 98
        },
        {
          "output_type": "execute_result",
          "data": {
            "text/plain": [
              "MulticlassClassification(\n",
              "  (layer_1): Linear(in_features=26, out_features=512, bias=True)\n",
              "  (layer_2): Linear(in_features=512, out_features=128, bias=True)\n",
              "  (layer_3): Linear(in_features=128, out_features=64, bias=True)\n",
              "  (layer_out): Linear(in_features=64, out_features=3, bias=True)\n",
              "  (relu): ReLU()\n",
              "  (dropout): Dropout(p=0.2, inplace=False)\n",
              "  (batchnorm1): BatchNorm1d(512, eps=1e-05, momentum=0.1, affine=True, track_running_stats=True)\n",
              "  (batchnorm2): BatchNorm1d(128, eps=1e-05, momentum=0.1, affine=True, track_running_stats=True)\n",
              "  (batchnorm3): BatchNorm1d(64, eps=1e-05, momentum=0.1, affine=True, track_running_stats=True)\n",
              ")"
            ]
          },
          "metadata": {},
          "execution_count": 98
        },
        {
          "output_type": "execute_result",
          "data": {
            "text/plain": [
              "MulticlassClassification(\n",
              "  (layer_1): Linear(in_features=26, out_features=512, bias=True)\n",
              "  (layer_2): Linear(in_features=512, out_features=128, bias=True)\n",
              "  (layer_3): Linear(in_features=128, out_features=64, bias=True)\n",
              "  (layer_out): Linear(in_features=64, out_features=3, bias=True)\n",
              "  (relu): ReLU()\n",
              "  (dropout): Dropout(p=0.2, inplace=False)\n",
              "  (batchnorm1): BatchNorm1d(512, eps=1e-05, momentum=0.1, affine=True, track_running_stats=True)\n",
              "  (batchnorm2): BatchNorm1d(128, eps=1e-05, momentum=0.1, affine=True, track_running_stats=True)\n",
              "  (batchnorm3): BatchNorm1d(64, eps=1e-05, momentum=0.1, affine=True, track_running_stats=True)\n",
              ")"
            ]
          },
          "metadata": {},
          "execution_count": 98
        },
        {
          "output_type": "execute_result",
          "data": {
            "text/plain": [
              "MulticlassClassification(\n",
              "  (layer_1): Linear(in_features=26, out_features=512, bias=True)\n",
              "  (layer_2): Linear(in_features=512, out_features=128, bias=True)\n",
              "  (layer_3): Linear(in_features=128, out_features=64, bias=True)\n",
              "  (layer_out): Linear(in_features=64, out_features=3, bias=True)\n",
              "  (relu): ReLU()\n",
              "  (dropout): Dropout(p=0.2, inplace=False)\n",
              "  (batchnorm1): BatchNorm1d(512, eps=1e-05, momentum=0.1, affine=True, track_running_stats=True)\n",
              "  (batchnorm2): BatchNorm1d(128, eps=1e-05, momentum=0.1, affine=True, track_running_stats=True)\n",
              "  (batchnorm3): BatchNorm1d(64, eps=1e-05, momentum=0.1, affine=True, track_running_stats=True)\n",
              ")"
            ]
          },
          "metadata": {},
          "execution_count": 98
        },
        {
          "output_type": "execute_result",
          "data": {
            "text/plain": [
              "MulticlassClassification(\n",
              "  (layer_1): Linear(in_features=26, out_features=512, bias=True)\n",
              "  (layer_2): Linear(in_features=512, out_features=128, bias=True)\n",
              "  (layer_3): Linear(in_features=128, out_features=64, bias=True)\n",
              "  (layer_out): Linear(in_features=64, out_features=3, bias=True)\n",
              "  (relu): ReLU()\n",
              "  (dropout): Dropout(p=0.2, inplace=False)\n",
              "  (batchnorm1): BatchNorm1d(512, eps=1e-05, momentum=0.1, affine=True, track_running_stats=True)\n",
              "  (batchnorm2): BatchNorm1d(128, eps=1e-05, momentum=0.1, affine=True, track_running_stats=True)\n",
              "  (batchnorm3): BatchNorm1d(64, eps=1e-05, momentum=0.1, affine=True, track_running_stats=True)\n",
              ")"
            ]
          },
          "metadata": {},
          "execution_count": 98
        },
        {
          "output_type": "execute_result",
          "data": {
            "text/plain": [
              "MulticlassClassification(\n",
              "  (layer_1): Linear(in_features=26, out_features=512, bias=True)\n",
              "  (layer_2): Linear(in_features=512, out_features=128, bias=True)\n",
              "  (layer_3): Linear(in_features=128, out_features=64, bias=True)\n",
              "  (layer_out): Linear(in_features=64, out_features=3, bias=True)\n",
              "  (relu): ReLU()\n",
              "  (dropout): Dropout(p=0.2, inplace=False)\n",
              "  (batchnorm1): BatchNorm1d(512, eps=1e-05, momentum=0.1, affine=True, track_running_stats=True)\n",
              "  (batchnorm2): BatchNorm1d(128, eps=1e-05, momentum=0.1, affine=True, track_running_stats=True)\n",
              "  (batchnorm3): BatchNorm1d(64, eps=1e-05, momentum=0.1, affine=True, track_running_stats=True)\n",
              ")"
            ]
          },
          "metadata": {},
          "execution_count": 98
        },
        {
          "output_type": "execute_result",
          "data": {
            "text/plain": [
              "MulticlassClassification(\n",
              "  (layer_1): Linear(in_features=26, out_features=512, bias=True)\n",
              "  (layer_2): Linear(in_features=512, out_features=128, bias=True)\n",
              "  (layer_3): Linear(in_features=128, out_features=64, bias=True)\n",
              "  (layer_out): Linear(in_features=64, out_features=3, bias=True)\n",
              "  (relu): ReLU()\n",
              "  (dropout): Dropout(p=0.2, inplace=False)\n",
              "  (batchnorm1): BatchNorm1d(512, eps=1e-05, momentum=0.1, affine=True, track_running_stats=True)\n",
              "  (batchnorm2): BatchNorm1d(128, eps=1e-05, momentum=0.1, affine=True, track_running_stats=True)\n",
              "  (batchnorm3): BatchNorm1d(64, eps=1e-05, momentum=0.1, affine=True, track_running_stats=True)\n",
              ")"
            ]
          },
          "metadata": {},
          "execution_count": 98
        },
        {
          "output_type": "execute_result",
          "data": {
            "text/plain": [
              "MulticlassClassification(\n",
              "  (layer_1): Linear(in_features=26, out_features=512, bias=True)\n",
              "  (layer_2): Linear(in_features=512, out_features=128, bias=True)\n",
              "  (layer_3): Linear(in_features=128, out_features=64, bias=True)\n",
              "  (layer_out): Linear(in_features=64, out_features=3, bias=True)\n",
              "  (relu): ReLU()\n",
              "  (dropout): Dropout(p=0.2, inplace=False)\n",
              "  (batchnorm1): BatchNorm1d(512, eps=1e-05, momentum=0.1, affine=True, track_running_stats=True)\n",
              "  (batchnorm2): BatchNorm1d(128, eps=1e-05, momentum=0.1, affine=True, track_running_stats=True)\n",
              "  (batchnorm3): BatchNorm1d(64, eps=1e-05, momentum=0.1, affine=True, track_running_stats=True)\n",
              ")"
            ]
          },
          "metadata": {},
          "execution_count": 98
        },
        {
          "output_type": "execute_result",
          "data": {
            "text/plain": [
              "MulticlassClassification(\n",
              "  (layer_1): Linear(in_features=26, out_features=512, bias=True)\n",
              "  (layer_2): Linear(in_features=512, out_features=128, bias=True)\n",
              "  (layer_3): Linear(in_features=128, out_features=64, bias=True)\n",
              "  (layer_out): Linear(in_features=64, out_features=3, bias=True)\n",
              "  (relu): ReLU()\n",
              "  (dropout): Dropout(p=0.2, inplace=False)\n",
              "  (batchnorm1): BatchNorm1d(512, eps=1e-05, momentum=0.1, affine=True, track_running_stats=True)\n",
              "  (batchnorm2): BatchNorm1d(128, eps=1e-05, momentum=0.1, affine=True, track_running_stats=True)\n",
              "  (batchnorm3): BatchNorm1d(64, eps=1e-05, momentum=0.1, affine=True, track_running_stats=True)\n",
              ")"
            ]
          },
          "metadata": {},
          "execution_count": 98
        },
        {
          "output_type": "execute_result",
          "data": {
            "text/plain": [
              "MulticlassClassification(\n",
              "  (layer_1): Linear(in_features=26, out_features=512, bias=True)\n",
              "  (layer_2): Linear(in_features=512, out_features=128, bias=True)\n",
              "  (layer_3): Linear(in_features=128, out_features=64, bias=True)\n",
              "  (layer_out): Linear(in_features=64, out_features=3, bias=True)\n",
              "  (relu): ReLU()\n",
              "  (dropout): Dropout(p=0.2, inplace=False)\n",
              "  (batchnorm1): BatchNorm1d(512, eps=1e-05, momentum=0.1, affine=True, track_running_stats=True)\n",
              "  (batchnorm2): BatchNorm1d(128, eps=1e-05, momentum=0.1, affine=True, track_running_stats=True)\n",
              "  (batchnorm3): BatchNorm1d(64, eps=1e-05, momentum=0.1, affine=True, track_running_stats=True)\n",
              ")"
            ]
          },
          "metadata": {},
          "execution_count": 98
        },
        {
          "output_type": "execute_result",
          "data": {
            "text/plain": [
              "MulticlassClassification(\n",
              "  (layer_1): Linear(in_features=26, out_features=512, bias=True)\n",
              "  (layer_2): Linear(in_features=512, out_features=128, bias=True)\n",
              "  (layer_3): Linear(in_features=128, out_features=64, bias=True)\n",
              "  (layer_out): Linear(in_features=64, out_features=3, bias=True)\n",
              "  (relu): ReLU()\n",
              "  (dropout): Dropout(p=0.2, inplace=False)\n",
              "  (batchnorm1): BatchNorm1d(512, eps=1e-05, momentum=0.1, affine=True, track_running_stats=True)\n",
              "  (batchnorm2): BatchNorm1d(128, eps=1e-05, momentum=0.1, affine=True, track_running_stats=True)\n",
              "  (batchnorm3): BatchNorm1d(64, eps=1e-05, momentum=0.1, affine=True, track_running_stats=True)\n",
              ")"
            ]
          },
          "metadata": {},
          "execution_count": 98
        },
        {
          "output_type": "execute_result",
          "data": {
            "text/plain": [
              "MulticlassClassification(\n",
              "  (layer_1): Linear(in_features=26, out_features=512, bias=True)\n",
              "  (layer_2): Linear(in_features=512, out_features=128, bias=True)\n",
              "  (layer_3): Linear(in_features=128, out_features=64, bias=True)\n",
              "  (layer_out): Linear(in_features=64, out_features=3, bias=True)\n",
              "  (relu): ReLU()\n",
              "  (dropout): Dropout(p=0.2, inplace=False)\n",
              "  (batchnorm1): BatchNorm1d(512, eps=1e-05, momentum=0.1, affine=True, track_running_stats=True)\n",
              "  (batchnorm2): BatchNorm1d(128, eps=1e-05, momentum=0.1, affine=True, track_running_stats=True)\n",
              "  (batchnorm3): BatchNorm1d(64, eps=1e-05, momentum=0.1, affine=True, track_running_stats=True)\n",
              ")"
            ]
          },
          "metadata": {},
          "execution_count": 98
        },
        {
          "output_type": "execute_result",
          "data": {
            "text/plain": [
              "MulticlassClassification(\n",
              "  (layer_1): Linear(in_features=26, out_features=512, bias=True)\n",
              "  (layer_2): Linear(in_features=512, out_features=128, bias=True)\n",
              "  (layer_3): Linear(in_features=128, out_features=64, bias=True)\n",
              "  (layer_out): Linear(in_features=64, out_features=3, bias=True)\n",
              "  (relu): ReLU()\n",
              "  (dropout): Dropout(p=0.2, inplace=False)\n",
              "  (batchnorm1): BatchNorm1d(512, eps=1e-05, momentum=0.1, affine=True, track_running_stats=True)\n",
              "  (batchnorm2): BatchNorm1d(128, eps=1e-05, momentum=0.1, affine=True, track_running_stats=True)\n",
              "  (batchnorm3): BatchNorm1d(64, eps=1e-05, momentum=0.1, affine=True, track_running_stats=True)\n",
              ")"
            ]
          },
          "metadata": {},
          "execution_count": 98
        },
        {
          "output_type": "execute_result",
          "data": {
            "text/plain": [
              "MulticlassClassification(\n",
              "  (layer_1): Linear(in_features=26, out_features=512, bias=True)\n",
              "  (layer_2): Linear(in_features=512, out_features=128, bias=True)\n",
              "  (layer_3): Linear(in_features=128, out_features=64, bias=True)\n",
              "  (layer_out): Linear(in_features=64, out_features=3, bias=True)\n",
              "  (relu): ReLU()\n",
              "  (dropout): Dropout(p=0.2, inplace=False)\n",
              "  (batchnorm1): BatchNorm1d(512, eps=1e-05, momentum=0.1, affine=True, track_running_stats=True)\n",
              "  (batchnorm2): BatchNorm1d(128, eps=1e-05, momentum=0.1, affine=True, track_running_stats=True)\n",
              "  (batchnorm3): BatchNorm1d(64, eps=1e-05, momentum=0.1, affine=True, track_running_stats=True)\n",
              ")"
            ]
          },
          "metadata": {},
          "execution_count": 98
        },
        {
          "output_type": "execute_result",
          "data": {
            "text/plain": [
              "MulticlassClassification(\n",
              "  (layer_1): Linear(in_features=26, out_features=512, bias=True)\n",
              "  (layer_2): Linear(in_features=512, out_features=128, bias=True)\n",
              "  (layer_3): Linear(in_features=128, out_features=64, bias=True)\n",
              "  (layer_out): Linear(in_features=64, out_features=3, bias=True)\n",
              "  (relu): ReLU()\n",
              "  (dropout): Dropout(p=0.2, inplace=False)\n",
              "  (batchnorm1): BatchNorm1d(512, eps=1e-05, momentum=0.1, affine=True, track_running_stats=True)\n",
              "  (batchnorm2): BatchNorm1d(128, eps=1e-05, momentum=0.1, affine=True, track_running_stats=True)\n",
              "  (batchnorm3): BatchNorm1d(64, eps=1e-05, momentum=0.1, affine=True, track_running_stats=True)\n",
              ")"
            ]
          },
          "metadata": {},
          "execution_count": 98
        },
        {
          "output_type": "execute_result",
          "data": {
            "text/plain": [
              "MulticlassClassification(\n",
              "  (layer_1): Linear(in_features=26, out_features=512, bias=True)\n",
              "  (layer_2): Linear(in_features=512, out_features=128, bias=True)\n",
              "  (layer_3): Linear(in_features=128, out_features=64, bias=True)\n",
              "  (layer_out): Linear(in_features=64, out_features=3, bias=True)\n",
              "  (relu): ReLU()\n",
              "  (dropout): Dropout(p=0.2, inplace=False)\n",
              "  (batchnorm1): BatchNorm1d(512, eps=1e-05, momentum=0.1, affine=True, track_running_stats=True)\n",
              "  (batchnorm2): BatchNorm1d(128, eps=1e-05, momentum=0.1, affine=True, track_running_stats=True)\n",
              "  (batchnorm3): BatchNorm1d(64, eps=1e-05, momentum=0.1, affine=True, track_running_stats=True)\n",
              ")"
            ]
          },
          "metadata": {},
          "execution_count": 98
        },
        {
          "output_type": "execute_result",
          "data": {
            "text/plain": [
              "MulticlassClassification(\n",
              "  (layer_1): Linear(in_features=26, out_features=512, bias=True)\n",
              "  (layer_2): Linear(in_features=512, out_features=128, bias=True)\n",
              "  (layer_3): Linear(in_features=128, out_features=64, bias=True)\n",
              "  (layer_out): Linear(in_features=64, out_features=3, bias=True)\n",
              "  (relu): ReLU()\n",
              "  (dropout): Dropout(p=0.2, inplace=False)\n",
              "  (batchnorm1): BatchNorm1d(512, eps=1e-05, momentum=0.1, affine=True, track_running_stats=True)\n",
              "  (batchnorm2): BatchNorm1d(128, eps=1e-05, momentum=0.1, affine=True, track_running_stats=True)\n",
              "  (batchnorm3): BatchNorm1d(64, eps=1e-05, momentum=0.1, affine=True, track_running_stats=True)\n",
              ")"
            ]
          },
          "metadata": {},
          "execution_count": 98
        },
        {
          "output_type": "execute_result",
          "data": {
            "text/plain": [
              "MulticlassClassification(\n",
              "  (layer_1): Linear(in_features=26, out_features=512, bias=True)\n",
              "  (layer_2): Linear(in_features=512, out_features=128, bias=True)\n",
              "  (layer_3): Linear(in_features=128, out_features=64, bias=True)\n",
              "  (layer_out): Linear(in_features=64, out_features=3, bias=True)\n",
              "  (relu): ReLU()\n",
              "  (dropout): Dropout(p=0.2, inplace=False)\n",
              "  (batchnorm1): BatchNorm1d(512, eps=1e-05, momentum=0.1, affine=True, track_running_stats=True)\n",
              "  (batchnorm2): BatchNorm1d(128, eps=1e-05, momentum=0.1, affine=True, track_running_stats=True)\n",
              "  (batchnorm3): BatchNorm1d(64, eps=1e-05, momentum=0.1, affine=True, track_running_stats=True)\n",
              ")"
            ]
          },
          "metadata": {},
          "execution_count": 98
        },
        {
          "output_type": "execute_result",
          "data": {
            "text/plain": [
              "MulticlassClassification(\n",
              "  (layer_1): Linear(in_features=26, out_features=512, bias=True)\n",
              "  (layer_2): Linear(in_features=512, out_features=128, bias=True)\n",
              "  (layer_3): Linear(in_features=128, out_features=64, bias=True)\n",
              "  (layer_out): Linear(in_features=64, out_features=3, bias=True)\n",
              "  (relu): ReLU()\n",
              "  (dropout): Dropout(p=0.2, inplace=False)\n",
              "  (batchnorm1): BatchNorm1d(512, eps=1e-05, momentum=0.1, affine=True, track_running_stats=True)\n",
              "  (batchnorm2): BatchNorm1d(128, eps=1e-05, momentum=0.1, affine=True, track_running_stats=True)\n",
              "  (batchnorm3): BatchNorm1d(64, eps=1e-05, momentum=0.1, affine=True, track_running_stats=True)\n",
              ")"
            ]
          },
          "metadata": {},
          "execution_count": 98
        },
        {
          "output_type": "execute_result",
          "data": {
            "text/plain": [
              "MulticlassClassification(\n",
              "  (layer_1): Linear(in_features=26, out_features=512, bias=True)\n",
              "  (layer_2): Linear(in_features=512, out_features=128, bias=True)\n",
              "  (layer_3): Linear(in_features=128, out_features=64, bias=True)\n",
              "  (layer_out): Linear(in_features=64, out_features=3, bias=True)\n",
              "  (relu): ReLU()\n",
              "  (dropout): Dropout(p=0.2, inplace=False)\n",
              "  (batchnorm1): BatchNorm1d(512, eps=1e-05, momentum=0.1, affine=True, track_running_stats=True)\n",
              "  (batchnorm2): BatchNorm1d(128, eps=1e-05, momentum=0.1, affine=True, track_running_stats=True)\n",
              "  (batchnorm3): BatchNorm1d(64, eps=1e-05, momentum=0.1, affine=True, track_running_stats=True)\n",
              ")"
            ]
          },
          "metadata": {},
          "execution_count": 98
        },
        {
          "output_type": "execute_result",
          "data": {
            "text/plain": [
              "MulticlassClassification(\n",
              "  (layer_1): Linear(in_features=26, out_features=512, bias=True)\n",
              "  (layer_2): Linear(in_features=512, out_features=128, bias=True)\n",
              "  (layer_3): Linear(in_features=128, out_features=64, bias=True)\n",
              "  (layer_out): Linear(in_features=64, out_features=3, bias=True)\n",
              "  (relu): ReLU()\n",
              "  (dropout): Dropout(p=0.2, inplace=False)\n",
              "  (batchnorm1): BatchNorm1d(512, eps=1e-05, momentum=0.1, affine=True, track_running_stats=True)\n",
              "  (batchnorm2): BatchNorm1d(128, eps=1e-05, momentum=0.1, affine=True, track_running_stats=True)\n",
              "  (batchnorm3): BatchNorm1d(64, eps=1e-05, momentum=0.1, affine=True, track_running_stats=True)\n",
              ")"
            ]
          },
          "metadata": {},
          "execution_count": 98
        },
        {
          "output_type": "execute_result",
          "data": {
            "text/plain": [
              "MulticlassClassification(\n",
              "  (layer_1): Linear(in_features=26, out_features=512, bias=True)\n",
              "  (layer_2): Linear(in_features=512, out_features=128, bias=True)\n",
              "  (layer_3): Linear(in_features=128, out_features=64, bias=True)\n",
              "  (layer_out): Linear(in_features=64, out_features=3, bias=True)\n",
              "  (relu): ReLU()\n",
              "  (dropout): Dropout(p=0.2, inplace=False)\n",
              "  (batchnorm1): BatchNorm1d(512, eps=1e-05, momentum=0.1, affine=True, track_running_stats=True)\n",
              "  (batchnorm2): BatchNorm1d(128, eps=1e-05, momentum=0.1, affine=True, track_running_stats=True)\n",
              "  (batchnorm3): BatchNorm1d(64, eps=1e-05, momentum=0.1, affine=True, track_running_stats=True)\n",
              ")"
            ]
          },
          "metadata": {},
          "execution_count": 98
        },
        {
          "output_type": "execute_result",
          "data": {
            "text/plain": [
              "MulticlassClassification(\n",
              "  (layer_1): Linear(in_features=26, out_features=512, bias=True)\n",
              "  (layer_2): Linear(in_features=512, out_features=128, bias=True)\n",
              "  (layer_3): Linear(in_features=128, out_features=64, bias=True)\n",
              "  (layer_out): Linear(in_features=64, out_features=3, bias=True)\n",
              "  (relu): ReLU()\n",
              "  (dropout): Dropout(p=0.2, inplace=False)\n",
              "  (batchnorm1): BatchNorm1d(512, eps=1e-05, momentum=0.1, affine=True, track_running_stats=True)\n",
              "  (batchnorm2): BatchNorm1d(128, eps=1e-05, momentum=0.1, affine=True, track_running_stats=True)\n",
              "  (batchnorm3): BatchNorm1d(64, eps=1e-05, momentum=0.1, affine=True, track_running_stats=True)\n",
              ")"
            ]
          },
          "metadata": {},
          "execution_count": 98
        },
        {
          "output_type": "execute_result",
          "data": {
            "text/plain": [
              "MulticlassClassification(\n",
              "  (layer_1): Linear(in_features=26, out_features=512, bias=True)\n",
              "  (layer_2): Linear(in_features=512, out_features=128, bias=True)\n",
              "  (layer_3): Linear(in_features=128, out_features=64, bias=True)\n",
              "  (layer_out): Linear(in_features=64, out_features=3, bias=True)\n",
              "  (relu): ReLU()\n",
              "  (dropout): Dropout(p=0.2, inplace=False)\n",
              "  (batchnorm1): BatchNorm1d(512, eps=1e-05, momentum=0.1, affine=True, track_running_stats=True)\n",
              "  (batchnorm2): BatchNorm1d(128, eps=1e-05, momentum=0.1, affine=True, track_running_stats=True)\n",
              "  (batchnorm3): BatchNorm1d(64, eps=1e-05, momentum=0.1, affine=True, track_running_stats=True)\n",
              ")"
            ]
          },
          "metadata": {},
          "execution_count": 98
        },
        {
          "output_type": "execute_result",
          "data": {
            "text/plain": [
              "MulticlassClassification(\n",
              "  (layer_1): Linear(in_features=26, out_features=512, bias=True)\n",
              "  (layer_2): Linear(in_features=512, out_features=128, bias=True)\n",
              "  (layer_3): Linear(in_features=128, out_features=64, bias=True)\n",
              "  (layer_out): Linear(in_features=64, out_features=3, bias=True)\n",
              "  (relu): ReLU()\n",
              "  (dropout): Dropout(p=0.2, inplace=False)\n",
              "  (batchnorm1): BatchNorm1d(512, eps=1e-05, momentum=0.1, affine=True, track_running_stats=True)\n",
              "  (batchnorm2): BatchNorm1d(128, eps=1e-05, momentum=0.1, affine=True, track_running_stats=True)\n",
              "  (batchnorm3): BatchNorm1d(64, eps=1e-05, momentum=0.1, affine=True, track_running_stats=True)\n",
              ")"
            ]
          },
          "metadata": {},
          "execution_count": 98
        },
        {
          "output_type": "execute_result",
          "data": {
            "text/plain": [
              "MulticlassClassification(\n",
              "  (layer_1): Linear(in_features=26, out_features=512, bias=True)\n",
              "  (layer_2): Linear(in_features=512, out_features=128, bias=True)\n",
              "  (layer_3): Linear(in_features=128, out_features=64, bias=True)\n",
              "  (layer_out): Linear(in_features=64, out_features=3, bias=True)\n",
              "  (relu): ReLU()\n",
              "  (dropout): Dropout(p=0.2, inplace=False)\n",
              "  (batchnorm1): BatchNorm1d(512, eps=1e-05, momentum=0.1, affine=True, track_running_stats=True)\n",
              "  (batchnorm2): BatchNorm1d(128, eps=1e-05, momentum=0.1, affine=True, track_running_stats=True)\n",
              "  (batchnorm3): BatchNorm1d(64, eps=1e-05, momentum=0.1, affine=True, track_running_stats=True)\n",
              ")"
            ]
          },
          "metadata": {},
          "execution_count": 98
        },
        {
          "output_type": "execute_result",
          "data": {
            "text/plain": [
              "MulticlassClassification(\n",
              "  (layer_1): Linear(in_features=26, out_features=512, bias=True)\n",
              "  (layer_2): Linear(in_features=512, out_features=128, bias=True)\n",
              "  (layer_3): Linear(in_features=128, out_features=64, bias=True)\n",
              "  (layer_out): Linear(in_features=64, out_features=3, bias=True)\n",
              "  (relu): ReLU()\n",
              "  (dropout): Dropout(p=0.2, inplace=False)\n",
              "  (batchnorm1): BatchNorm1d(512, eps=1e-05, momentum=0.1, affine=True, track_running_stats=True)\n",
              "  (batchnorm2): BatchNorm1d(128, eps=1e-05, momentum=0.1, affine=True, track_running_stats=True)\n",
              "  (batchnorm3): BatchNorm1d(64, eps=1e-05, momentum=0.1, affine=True, track_running_stats=True)\n",
              ")"
            ]
          },
          "metadata": {},
          "execution_count": 98
        },
        {
          "output_type": "execute_result",
          "data": {
            "text/plain": [
              "MulticlassClassification(\n",
              "  (layer_1): Linear(in_features=26, out_features=512, bias=True)\n",
              "  (layer_2): Linear(in_features=512, out_features=128, bias=True)\n",
              "  (layer_3): Linear(in_features=128, out_features=64, bias=True)\n",
              "  (layer_out): Linear(in_features=64, out_features=3, bias=True)\n",
              "  (relu): ReLU()\n",
              "  (dropout): Dropout(p=0.2, inplace=False)\n",
              "  (batchnorm1): BatchNorm1d(512, eps=1e-05, momentum=0.1, affine=True, track_running_stats=True)\n",
              "  (batchnorm2): BatchNorm1d(128, eps=1e-05, momentum=0.1, affine=True, track_running_stats=True)\n",
              "  (batchnorm3): BatchNorm1d(64, eps=1e-05, momentum=0.1, affine=True, track_running_stats=True)\n",
              ")"
            ]
          },
          "metadata": {},
          "execution_count": 98
        },
        {
          "output_type": "execute_result",
          "data": {
            "text/plain": [
              "MulticlassClassification(\n",
              "  (layer_1): Linear(in_features=26, out_features=512, bias=True)\n",
              "  (layer_2): Linear(in_features=512, out_features=128, bias=True)\n",
              "  (layer_3): Linear(in_features=128, out_features=64, bias=True)\n",
              "  (layer_out): Linear(in_features=64, out_features=3, bias=True)\n",
              "  (relu): ReLU()\n",
              "  (dropout): Dropout(p=0.2, inplace=False)\n",
              "  (batchnorm1): BatchNorm1d(512, eps=1e-05, momentum=0.1, affine=True, track_running_stats=True)\n",
              "  (batchnorm2): BatchNorm1d(128, eps=1e-05, momentum=0.1, affine=True, track_running_stats=True)\n",
              "  (batchnorm3): BatchNorm1d(64, eps=1e-05, momentum=0.1, affine=True, track_running_stats=True)\n",
              ")"
            ]
          },
          "metadata": {},
          "execution_count": 98
        },
        {
          "output_type": "execute_result",
          "data": {
            "text/plain": [
              "MulticlassClassification(\n",
              "  (layer_1): Linear(in_features=26, out_features=512, bias=True)\n",
              "  (layer_2): Linear(in_features=512, out_features=128, bias=True)\n",
              "  (layer_3): Linear(in_features=128, out_features=64, bias=True)\n",
              "  (layer_out): Linear(in_features=64, out_features=3, bias=True)\n",
              "  (relu): ReLU()\n",
              "  (dropout): Dropout(p=0.2, inplace=False)\n",
              "  (batchnorm1): BatchNorm1d(512, eps=1e-05, momentum=0.1, affine=True, track_running_stats=True)\n",
              "  (batchnorm2): BatchNorm1d(128, eps=1e-05, momentum=0.1, affine=True, track_running_stats=True)\n",
              "  (batchnorm3): BatchNorm1d(64, eps=1e-05, momentum=0.1, affine=True, track_running_stats=True)\n",
              ")"
            ]
          },
          "metadata": {},
          "execution_count": 98
        },
        {
          "output_type": "execute_result",
          "data": {
            "text/plain": [
              "MulticlassClassification(\n",
              "  (layer_1): Linear(in_features=26, out_features=512, bias=True)\n",
              "  (layer_2): Linear(in_features=512, out_features=128, bias=True)\n",
              "  (layer_3): Linear(in_features=128, out_features=64, bias=True)\n",
              "  (layer_out): Linear(in_features=64, out_features=3, bias=True)\n",
              "  (relu): ReLU()\n",
              "  (dropout): Dropout(p=0.2, inplace=False)\n",
              "  (batchnorm1): BatchNorm1d(512, eps=1e-05, momentum=0.1, affine=True, track_running_stats=True)\n",
              "  (batchnorm2): BatchNorm1d(128, eps=1e-05, momentum=0.1, affine=True, track_running_stats=True)\n",
              "  (batchnorm3): BatchNorm1d(64, eps=1e-05, momentum=0.1, affine=True, track_running_stats=True)\n",
              ")"
            ]
          },
          "metadata": {},
          "execution_count": 98
        },
        {
          "output_type": "execute_result",
          "data": {
            "text/plain": [
              "MulticlassClassification(\n",
              "  (layer_1): Linear(in_features=26, out_features=512, bias=True)\n",
              "  (layer_2): Linear(in_features=512, out_features=128, bias=True)\n",
              "  (layer_3): Linear(in_features=128, out_features=64, bias=True)\n",
              "  (layer_out): Linear(in_features=64, out_features=3, bias=True)\n",
              "  (relu): ReLU()\n",
              "  (dropout): Dropout(p=0.2, inplace=False)\n",
              "  (batchnorm1): BatchNorm1d(512, eps=1e-05, momentum=0.1, affine=True, track_running_stats=True)\n",
              "  (batchnorm2): BatchNorm1d(128, eps=1e-05, momentum=0.1, affine=True, track_running_stats=True)\n",
              "  (batchnorm3): BatchNorm1d(64, eps=1e-05, momentum=0.1, affine=True, track_running_stats=True)\n",
              ")"
            ]
          },
          "metadata": {},
          "execution_count": 98
        },
        {
          "output_type": "execute_result",
          "data": {
            "text/plain": [
              "MulticlassClassification(\n",
              "  (layer_1): Linear(in_features=26, out_features=512, bias=True)\n",
              "  (layer_2): Linear(in_features=512, out_features=128, bias=True)\n",
              "  (layer_3): Linear(in_features=128, out_features=64, bias=True)\n",
              "  (layer_out): Linear(in_features=64, out_features=3, bias=True)\n",
              "  (relu): ReLU()\n",
              "  (dropout): Dropout(p=0.2, inplace=False)\n",
              "  (batchnorm1): BatchNorm1d(512, eps=1e-05, momentum=0.1, affine=True, track_running_stats=True)\n",
              "  (batchnorm2): BatchNorm1d(128, eps=1e-05, momentum=0.1, affine=True, track_running_stats=True)\n",
              "  (batchnorm3): BatchNorm1d(64, eps=1e-05, momentum=0.1, affine=True, track_running_stats=True)\n",
              ")"
            ]
          },
          "metadata": {},
          "execution_count": 98
        },
        {
          "output_type": "execute_result",
          "data": {
            "text/plain": [
              "MulticlassClassification(\n",
              "  (layer_1): Linear(in_features=26, out_features=512, bias=True)\n",
              "  (layer_2): Linear(in_features=512, out_features=128, bias=True)\n",
              "  (layer_3): Linear(in_features=128, out_features=64, bias=True)\n",
              "  (layer_out): Linear(in_features=64, out_features=3, bias=True)\n",
              "  (relu): ReLU()\n",
              "  (dropout): Dropout(p=0.2, inplace=False)\n",
              "  (batchnorm1): BatchNorm1d(512, eps=1e-05, momentum=0.1, affine=True, track_running_stats=True)\n",
              "  (batchnorm2): BatchNorm1d(128, eps=1e-05, momentum=0.1, affine=True, track_running_stats=True)\n",
              "  (batchnorm3): BatchNorm1d(64, eps=1e-05, momentum=0.1, affine=True, track_running_stats=True)\n",
              ")"
            ]
          },
          "metadata": {},
          "execution_count": 98
        },
        {
          "output_type": "execute_result",
          "data": {
            "text/plain": [
              "MulticlassClassification(\n",
              "  (layer_1): Linear(in_features=26, out_features=512, bias=True)\n",
              "  (layer_2): Linear(in_features=512, out_features=128, bias=True)\n",
              "  (layer_3): Linear(in_features=128, out_features=64, bias=True)\n",
              "  (layer_out): Linear(in_features=64, out_features=3, bias=True)\n",
              "  (relu): ReLU()\n",
              "  (dropout): Dropout(p=0.2, inplace=False)\n",
              "  (batchnorm1): BatchNorm1d(512, eps=1e-05, momentum=0.1, affine=True, track_running_stats=True)\n",
              "  (batchnorm2): BatchNorm1d(128, eps=1e-05, momentum=0.1, affine=True, track_running_stats=True)\n",
              "  (batchnorm3): BatchNorm1d(64, eps=1e-05, momentum=0.1, affine=True, track_running_stats=True)\n",
              ")"
            ]
          },
          "metadata": {},
          "execution_count": 98
        },
        {
          "output_type": "execute_result",
          "data": {
            "text/plain": [
              "MulticlassClassification(\n",
              "  (layer_1): Linear(in_features=26, out_features=512, bias=True)\n",
              "  (layer_2): Linear(in_features=512, out_features=128, bias=True)\n",
              "  (layer_3): Linear(in_features=128, out_features=64, bias=True)\n",
              "  (layer_out): Linear(in_features=64, out_features=3, bias=True)\n",
              "  (relu): ReLU()\n",
              "  (dropout): Dropout(p=0.2, inplace=False)\n",
              "  (batchnorm1): BatchNorm1d(512, eps=1e-05, momentum=0.1, affine=True, track_running_stats=True)\n",
              "  (batchnorm2): BatchNorm1d(128, eps=1e-05, momentum=0.1, affine=True, track_running_stats=True)\n",
              "  (batchnorm3): BatchNorm1d(64, eps=1e-05, momentum=0.1, affine=True, track_running_stats=True)\n",
              ")"
            ]
          },
          "metadata": {},
          "execution_count": 98
        },
        {
          "output_type": "execute_result",
          "data": {
            "text/plain": [
              "MulticlassClassification(\n",
              "  (layer_1): Linear(in_features=26, out_features=512, bias=True)\n",
              "  (layer_2): Linear(in_features=512, out_features=128, bias=True)\n",
              "  (layer_3): Linear(in_features=128, out_features=64, bias=True)\n",
              "  (layer_out): Linear(in_features=64, out_features=3, bias=True)\n",
              "  (relu): ReLU()\n",
              "  (dropout): Dropout(p=0.2, inplace=False)\n",
              "  (batchnorm1): BatchNorm1d(512, eps=1e-05, momentum=0.1, affine=True, track_running_stats=True)\n",
              "  (batchnorm2): BatchNorm1d(128, eps=1e-05, momentum=0.1, affine=True, track_running_stats=True)\n",
              "  (batchnorm3): BatchNorm1d(64, eps=1e-05, momentum=0.1, affine=True, track_running_stats=True)\n",
              ")"
            ]
          },
          "metadata": {},
          "execution_count": 98
        },
        {
          "output_type": "execute_result",
          "data": {
            "text/plain": [
              "MulticlassClassification(\n",
              "  (layer_1): Linear(in_features=26, out_features=512, bias=True)\n",
              "  (layer_2): Linear(in_features=512, out_features=128, bias=True)\n",
              "  (layer_3): Linear(in_features=128, out_features=64, bias=True)\n",
              "  (layer_out): Linear(in_features=64, out_features=3, bias=True)\n",
              "  (relu): ReLU()\n",
              "  (dropout): Dropout(p=0.2, inplace=False)\n",
              "  (batchnorm1): BatchNorm1d(512, eps=1e-05, momentum=0.1, affine=True, track_running_stats=True)\n",
              "  (batchnorm2): BatchNorm1d(128, eps=1e-05, momentum=0.1, affine=True, track_running_stats=True)\n",
              "  (batchnorm3): BatchNorm1d(64, eps=1e-05, momentum=0.1, affine=True, track_running_stats=True)\n",
              ")"
            ]
          },
          "metadata": {},
          "execution_count": 98
        },
        {
          "output_type": "execute_result",
          "data": {
            "text/plain": [
              "MulticlassClassification(\n",
              "  (layer_1): Linear(in_features=26, out_features=512, bias=True)\n",
              "  (layer_2): Linear(in_features=512, out_features=128, bias=True)\n",
              "  (layer_3): Linear(in_features=128, out_features=64, bias=True)\n",
              "  (layer_out): Linear(in_features=64, out_features=3, bias=True)\n",
              "  (relu): ReLU()\n",
              "  (dropout): Dropout(p=0.2, inplace=False)\n",
              "  (batchnorm1): BatchNorm1d(512, eps=1e-05, momentum=0.1, affine=True, track_running_stats=True)\n",
              "  (batchnorm2): BatchNorm1d(128, eps=1e-05, momentum=0.1, affine=True, track_running_stats=True)\n",
              "  (batchnorm3): BatchNorm1d(64, eps=1e-05, momentum=0.1, affine=True, track_running_stats=True)\n",
              ")"
            ]
          },
          "metadata": {},
          "execution_count": 98
        },
        {
          "output_type": "execute_result",
          "data": {
            "text/plain": [
              "MulticlassClassification(\n",
              "  (layer_1): Linear(in_features=26, out_features=512, bias=True)\n",
              "  (layer_2): Linear(in_features=512, out_features=128, bias=True)\n",
              "  (layer_3): Linear(in_features=128, out_features=64, bias=True)\n",
              "  (layer_out): Linear(in_features=64, out_features=3, bias=True)\n",
              "  (relu): ReLU()\n",
              "  (dropout): Dropout(p=0.2, inplace=False)\n",
              "  (batchnorm1): BatchNorm1d(512, eps=1e-05, momentum=0.1, affine=True, track_running_stats=True)\n",
              "  (batchnorm2): BatchNorm1d(128, eps=1e-05, momentum=0.1, affine=True, track_running_stats=True)\n",
              "  (batchnorm3): BatchNorm1d(64, eps=1e-05, momentum=0.1, affine=True, track_running_stats=True)\n",
              ")"
            ]
          },
          "metadata": {},
          "execution_count": 98
        },
        {
          "output_type": "execute_result",
          "data": {
            "text/plain": [
              "MulticlassClassification(\n",
              "  (layer_1): Linear(in_features=26, out_features=512, bias=True)\n",
              "  (layer_2): Linear(in_features=512, out_features=128, bias=True)\n",
              "  (layer_3): Linear(in_features=128, out_features=64, bias=True)\n",
              "  (layer_out): Linear(in_features=64, out_features=3, bias=True)\n",
              "  (relu): ReLU()\n",
              "  (dropout): Dropout(p=0.2, inplace=False)\n",
              "  (batchnorm1): BatchNorm1d(512, eps=1e-05, momentum=0.1, affine=True, track_running_stats=True)\n",
              "  (batchnorm2): BatchNorm1d(128, eps=1e-05, momentum=0.1, affine=True, track_running_stats=True)\n",
              "  (batchnorm3): BatchNorm1d(64, eps=1e-05, momentum=0.1, affine=True, track_running_stats=True)\n",
              ")"
            ]
          },
          "metadata": {},
          "execution_count": 98
        },
        {
          "output_type": "execute_result",
          "data": {
            "text/plain": [
              "MulticlassClassification(\n",
              "  (layer_1): Linear(in_features=26, out_features=512, bias=True)\n",
              "  (layer_2): Linear(in_features=512, out_features=128, bias=True)\n",
              "  (layer_3): Linear(in_features=128, out_features=64, bias=True)\n",
              "  (layer_out): Linear(in_features=64, out_features=3, bias=True)\n",
              "  (relu): ReLU()\n",
              "  (dropout): Dropout(p=0.2, inplace=False)\n",
              "  (batchnorm1): BatchNorm1d(512, eps=1e-05, momentum=0.1, affine=True, track_running_stats=True)\n",
              "  (batchnorm2): BatchNorm1d(128, eps=1e-05, momentum=0.1, affine=True, track_running_stats=True)\n",
              "  (batchnorm3): BatchNorm1d(64, eps=1e-05, momentum=0.1, affine=True, track_running_stats=True)\n",
              ")"
            ]
          },
          "metadata": {},
          "execution_count": 98
        },
        {
          "output_type": "execute_result",
          "data": {
            "text/plain": [
              "MulticlassClassification(\n",
              "  (layer_1): Linear(in_features=26, out_features=512, bias=True)\n",
              "  (layer_2): Linear(in_features=512, out_features=128, bias=True)\n",
              "  (layer_3): Linear(in_features=128, out_features=64, bias=True)\n",
              "  (layer_out): Linear(in_features=64, out_features=3, bias=True)\n",
              "  (relu): ReLU()\n",
              "  (dropout): Dropout(p=0.2, inplace=False)\n",
              "  (batchnorm1): BatchNorm1d(512, eps=1e-05, momentum=0.1, affine=True, track_running_stats=True)\n",
              "  (batchnorm2): BatchNorm1d(128, eps=1e-05, momentum=0.1, affine=True, track_running_stats=True)\n",
              "  (batchnorm3): BatchNorm1d(64, eps=1e-05, momentum=0.1, affine=True, track_running_stats=True)\n",
              ")"
            ]
          },
          "metadata": {},
          "execution_count": 98
        },
        {
          "output_type": "execute_result",
          "data": {
            "text/plain": [
              "MulticlassClassification(\n",
              "  (layer_1): Linear(in_features=26, out_features=512, bias=True)\n",
              "  (layer_2): Linear(in_features=512, out_features=128, bias=True)\n",
              "  (layer_3): Linear(in_features=128, out_features=64, bias=True)\n",
              "  (layer_out): Linear(in_features=64, out_features=3, bias=True)\n",
              "  (relu): ReLU()\n",
              "  (dropout): Dropout(p=0.2, inplace=False)\n",
              "  (batchnorm1): BatchNorm1d(512, eps=1e-05, momentum=0.1, affine=True, track_running_stats=True)\n",
              "  (batchnorm2): BatchNorm1d(128, eps=1e-05, momentum=0.1, affine=True, track_running_stats=True)\n",
              "  (batchnorm3): BatchNorm1d(64, eps=1e-05, momentum=0.1, affine=True, track_running_stats=True)\n",
              ")"
            ]
          },
          "metadata": {},
          "execution_count": 98
        },
        {
          "output_type": "execute_result",
          "data": {
            "text/plain": [
              "MulticlassClassification(\n",
              "  (layer_1): Linear(in_features=26, out_features=512, bias=True)\n",
              "  (layer_2): Linear(in_features=512, out_features=128, bias=True)\n",
              "  (layer_3): Linear(in_features=128, out_features=64, bias=True)\n",
              "  (layer_out): Linear(in_features=64, out_features=3, bias=True)\n",
              "  (relu): ReLU()\n",
              "  (dropout): Dropout(p=0.2, inplace=False)\n",
              "  (batchnorm1): BatchNorm1d(512, eps=1e-05, momentum=0.1, affine=True, track_running_stats=True)\n",
              "  (batchnorm2): BatchNorm1d(128, eps=1e-05, momentum=0.1, affine=True, track_running_stats=True)\n",
              "  (batchnorm3): BatchNorm1d(64, eps=1e-05, momentum=0.1, affine=True, track_running_stats=True)\n",
              ")"
            ]
          },
          "metadata": {},
          "execution_count": 98
        },
        {
          "output_type": "execute_result",
          "data": {
            "text/plain": [
              "MulticlassClassification(\n",
              "  (layer_1): Linear(in_features=26, out_features=512, bias=True)\n",
              "  (layer_2): Linear(in_features=512, out_features=128, bias=True)\n",
              "  (layer_3): Linear(in_features=128, out_features=64, bias=True)\n",
              "  (layer_out): Linear(in_features=64, out_features=3, bias=True)\n",
              "  (relu): ReLU()\n",
              "  (dropout): Dropout(p=0.2, inplace=False)\n",
              "  (batchnorm1): BatchNorm1d(512, eps=1e-05, momentum=0.1, affine=True, track_running_stats=True)\n",
              "  (batchnorm2): BatchNorm1d(128, eps=1e-05, momentum=0.1, affine=True, track_running_stats=True)\n",
              "  (batchnorm3): BatchNorm1d(64, eps=1e-05, momentum=0.1, affine=True, track_running_stats=True)\n",
              ")"
            ]
          },
          "metadata": {},
          "execution_count": 98
        },
        {
          "output_type": "execute_result",
          "data": {
            "text/plain": [
              "MulticlassClassification(\n",
              "  (layer_1): Linear(in_features=26, out_features=512, bias=True)\n",
              "  (layer_2): Linear(in_features=512, out_features=128, bias=True)\n",
              "  (layer_3): Linear(in_features=128, out_features=64, bias=True)\n",
              "  (layer_out): Linear(in_features=64, out_features=3, bias=True)\n",
              "  (relu): ReLU()\n",
              "  (dropout): Dropout(p=0.2, inplace=False)\n",
              "  (batchnorm1): BatchNorm1d(512, eps=1e-05, momentum=0.1, affine=True, track_running_stats=True)\n",
              "  (batchnorm2): BatchNorm1d(128, eps=1e-05, momentum=0.1, affine=True, track_running_stats=True)\n",
              "  (batchnorm3): BatchNorm1d(64, eps=1e-05, momentum=0.1, affine=True, track_running_stats=True)\n",
              ")"
            ]
          },
          "metadata": {},
          "execution_count": 98
        },
        {
          "output_type": "execute_result",
          "data": {
            "text/plain": [
              "MulticlassClassification(\n",
              "  (layer_1): Linear(in_features=26, out_features=512, bias=True)\n",
              "  (layer_2): Linear(in_features=512, out_features=128, bias=True)\n",
              "  (layer_3): Linear(in_features=128, out_features=64, bias=True)\n",
              "  (layer_out): Linear(in_features=64, out_features=3, bias=True)\n",
              "  (relu): ReLU()\n",
              "  (dropout): Dropout(p=0.2, inplace=False)\n",
              "  (batchnorm1): BatchNorm1d(512, eps=1e-05, momentum=0.1, affine=True, track_running_stats=True)\n",
              "  (batchnorm2): BatchNorm1d(128, eps=1e-05, momentum=0.1, affine=True, track_running_stats=True)\n",
              "  (batchnorm3): BatchNorm1d(64, eps=1e-05, momentum=0.1, affine=True, track_running_stats=True)\n",
              ")"
            ]
          },
          "metadata": {},
          "execution_count": 98
        },
        {
          "output_type": "execute_result",
          "data": {
            "text/plain": [
              "MulticlassClassification(\n",
              "  (layer_1): Linear(in_features=26, out_features=512, bias=True)\n",
              "  (layer_2): Linear(in_features=512, out_features=128, bias=True)\n",
              "  (layer_3): Linear(in_features=128, out_features=64, bias=True)\n",
              "  (layer_out): Linear(in_features=64, out_features=3, bias=True)\n",
              "  (relu): ReLU()\n",
              "  (dropout): Dropout(p=0.2, inplace=False)\n",
              "  (batchnorm1): BatchNorm1d(512, eps=1e-05, momentum=0.1, affine=True, track_running_stats=True)\n",
              "  (batchnorm2): BatchNorm1d(128, eps=1e-05, momentum=0.1, affine=True, track_running_stats=True)\n",
              "  (batchnorm3): BatchNorm1d(64, eps=1e-05, momentum=0.1, affine=True, track_running_stats=True)\n",
              ")"
            ]
          },
          "metadata": {},
          "execution_count": 98
        },
        {
          "output_type": "execute_result",
          "data": {
            "text/plain": [
              "MulticlassClassification(\n",
              "  (layer_1): Linear(in_features=26, out_features=512, bias=True)\n",
              "  (layer_2): Linear(in_features=512, out_features=128, bias=True)\n",
              "  (layer_3): Linear(in_features=128, out_features=64, bias=True)\n",
              "  (layer_out): Linear(in_features=64, out_features=3, bias=True)\n",
              "  (relu): ReLU()\n",
              "  (dropout): Dropout(p=0.2, inplace=False)\n",
              "  (batchnorm1): BatchNorm1d(512, eps=1e-05, momentum=0.1, affine=True, track_running_stats=True)\n",
              "  (batchnorm2): BatchNorm1d(128, eps=1e-05, momentum=0.1, affine=True, track_running_stats=True)\n",
              "  (batchnorm3): BatchNorm1d(64, eps=1e-05, momentum=0.1, affine=True, track_running_stats=True)\n",
              ")"
            ]
          },
          "metadata": {},
          "execution_count": 98
        },
        {
          "output_type": "execute_result",
          "data": {
            "text/plain": [
              "MulticlassClassification(\n",
              "  (layer_1): Linear(in_features=26, out_features=512, bias=True)\n",
              "  (layer_2): Linear(in_features=512, out_features=128, bias=True)\n",
              "  (layer_3): Linear(in_features=128, out_features=64, bias=True)\n",
              "  (layer_out): Linear(in_features=64, out_features=3, bias=True)\n",
              "  (relu): ReLU()\n",
              "  (dropout): Dropout(p=0.2, inplace=False)\n",
              "  (batchnorm1): BatchNorm1d(512, eps=1e-05, momentum=0.1, affine=True, track_running_stats=True)\n",
              "  (batchnorm2): BatchNorm1d(128, eps=1e-05, momentum=0.1, affine=True, track_running_stats=True)\n",
              "  (batchnorm3): BatchNorm1d(64, eps=1e-05, momentum=0.1, affine=True, track_running_stats=True)\n",
              ")"
            ]
          },
          "metadata": {},
          "execution_count": 98
        },
        {
          "output_type": "execute_result",
          "data": {
            "text/plain": [
              "MulticlassClassification(\n",
              "  (layer_1): Linear(in_features=26, out_features=512, bias=True)\n",
              "  (layer_2): Linear(in_features=512, out_features=128, bias=True)\n",
              "  (layer_3): Linear(in_features=128, out_features=64, bias=True)\n",
              "  (layer_out): Linear(in_features=64, out_features=3, bias=True)\n",
              "  (relu): ReLU()\n",
              "  (dropout): Dropout(p=0.2, inplace=False)\n",
              "  (batchnorm1): BatchNorm1d(512, eps=1e-05, momentum=0.1, affine=True, track_running_stats=True)\n",
              "  (batchnorm2): BatchNorm1d(128, eps=1e-05, momentum=0.1, affine=True, track_running_stats=True)\n",
              "  (batchnorm3): BatchNorm1d(64, eps=1e-05, momentum=0.1, affine=True, track_running_stats=True)\n",
              ")"
            ]
          },
          "metadata": {},
          "execution_count": 98
        },
        {
          "output_type": "execute_result",
          "data": {
            "text/plain": [
              "MulticlassClassification(\n",
              "  (layer_1): Linear(in_features=26, out_features=512, bias=True)\n",
              "  (layer_2): Linear(in_features=512, out_features=128, bias=True)\n",
              "  (layer_3): Linear(in_features=128, out_features=64, bias=True)\n",
              "  (layer_out): Linear(in_features=64, out_features=3, bias=True)\n",
              "  (relu): ReLU()\n",
              "  (dropout): Dropout(p=0.2, inplace=False)\n",
              "  (batchnorm1): BatchNorm1d(512, eps=1e-05, momentum=0.1, affine=True, track_running_stats=True)\n",
              "  (batchnorm2): BatchNorm1d(128, eps=1e-05, momentum=0.1, affine=True, track_running_stats=True)\n",
              "  (batchnorm3): BatchNorm1d(64, eps=1e-05, momentum=0.1, affine=True, track_running_stats=True)\n",
              ")"
            ]
          },
          "metadata": {},
          "execution_count": 98
        },
        {
          "output_type": "execute_result",
          "data": {
            "text/plain": [
              "MulticlassClassification(\n",
              "  (layer_1): Linear(in_features=26, out_features=512, bias=True)\n",
              "  (layer_2): Linear(in_features=512, out_features=128, bias=True)\n",
              "  (layer_3): Linear(in_features=128, out_features=64, bias=True)\n",
              "  (layer_out): Linear(in_features=64, out_features=3, bias=True)\n",
              "  (relu): ReLU()\n",
              "  (dropout): Dropout(p=0.2, inplace=False)\n",
              "  (batchnorm1): BatchNorm1d(512, eps=1e-05, momentum=0.1, affine=True, track_running_stats=True)\n",
              "  (batchnorm2): BatchNorm1d(128, eps=1e-05, momentum=0.1, affine=True, track_running_stats=True)\n",
              "  (batchnorm3): BatchNorm1d(64, eps=1e-05, momentum=0.1, affine=True, track_running_stats=True)\n",
              ")"
            ]
          },
          "metadata": {},
          "execution_count": 98
        },
        {
          "output_type": "execute_result",
          "data": {
            "text/plain": [
              "MulticlassClassification(\n",
              "  (layer_1): Linear(in_features=26, out_features=512, bias=True)\n",
              "  (layer_2): Linear(in_features=512, out_features=128, bias=True)\n",
              "  (layer_3): Linear(in_features=128, out_features=64, bias=True)\n",
              "  (layer_out): Linear(in_features=64, out_features=3, bias=True)\n",
              "  (relu): ReLU()\n",
              "  (dropout): Dropout(p=0.2, inplace=False)\n",
              "  (batchnorm1): BatchNorm1d(512, eps=1e-05, momentum=0.1, affine=True, track_running_stats=True)\n",
              "  (batchnorm2): BatchNorm1d(128, eps=1e-05, momentum=0.1, affine=True, track_running_stats=True)\n",
              "  (batchnorm3): BatchNorm1d(64, eps=1e-05, momentum=0.1, affine=True, track_running_stats=True)\n",
              ")"
            ]
          },
          "metadata": {},
          "execution_count": 98
        },
        {
          "output_type": "execute_result",
          "data": {
            "text/plain": [
              "MulticlassClassification(\n",
              "  (layer_1): Linear(in_features=26, out_features=512, bias=True)\n",
              "  (layer_2): Linear(in_features=512, out_features=128, bias=True)\n",
              "  (layer_3): Linear(in_features=128, out_features=64, bias=True)\n",
              "  (layer_out): Linear(in_features=64, out_features=3, bias=True)\n",
              "  (relu): ReLU()\n",
              "  (dropout): Dropout(p=0.2, inplace=False)\n",
              "  (batchnorm1): BatchNorm1d(512, eps=1e-05, momentum=0.1, affine=True, track_running_stats=True)\n",
              "  (batchnorm2): BatchNorm1d(128, eps=1e-05, momentum=0.1, affine=True, track_running_stats=True)\n",
              "  (batchnorm3): BatchNorm1d(64, eps=1e-05, momentum=0.1, affine=True, track_running_stats=True)\n",
              ")"
            ]
          },
          "metadata": {},
          "execution_count": 98
        },
        {
          "output_type": "execute_result",
          "data": {
            "text/plain": [
              "MulticlassClassification(\n",
              "  (layer_1): Linear(in_features=26, out_features=512, bias=True)\n",
              "  (layer_2): Linear(in_features=512, out_features=128, bias=True)\n",
              "  (layer_3): Linear(in_features=128, out_features=64, bias=True)\n",
              "  (layer_out): Linear(in_features=64, out_features=3, bias=True)\n",
              "  (relu): ReLU()\n",
              "  (dropout): Dropout(p=0.2, inplace=False)\n",
              "  (batchnorm1): BatchNorm1d(512, eps=1e-05, momentum=0.1, affine=True, track_running_stats=True)\n",
              "  (batchnorm2): BatchNorm1d(128, eps=1e-05, momentum=0.1, affine=True, track_running_stats=True)\n",
              "  (batchnorm3): BatchNorm1d(64, eps=1e-05, momentum=0.1, affine=True, track_running_stats=True)\n",
              ")"
            ]
          },
          "metadata": {},
          "execution_count": 98
        },
        {
          "output_type": "execute_result",
          "data": {
            "text/plain": [
              "MulticlassClassification(\n",
              "  (layer_1): Linear(in_features=26, out_features=512, bias=True)\n",
              "  (layer_2): Linear(in_features=512, out_features=128, bias=True)\n",
              "  (layer_3): Linear(in_features=128, out_features=64, bias=True)\n",
              "  (layer_out): Linear(in_features=64, out_features=3, bias=True)\n",
              "  (relu): ReLU()\n",
              "  (dropout): Dropout(p=0.2, inplace=False)\n",
              "  (batchnorm1): BatchNorm1d(512, eps=1e-05, momentum=0.1, affine=True, track_running_stats=True)\n",
              "  (batchnorm2): BatchNorm1d(128, eps=1e-05, momentum=0.1, affine=True, track_running_stats=True)\n",
              "  (batchnorm3): BatchNorm1d(64, eps=1e-05, momentum=0.1, affine=True, track_running_stats=True)\n",
              ")"
            ]
          },
          "metadata": {},
          "execution_count": 98
        },
        {
          "output_type": "execute_result",
          "data": {
            "text/plain": [
              "MulticlassClassification(\n",
              "  (layer_1): Linear(in_features=26, out_features=512, bias=True)\n",
              "  (layer_2): Linear(in_features=512, out_features=128, bias=True)\n",
              "  (layer_3): Linear(in_features=128, out_features=64, bias=True)\n",
              "  (layer_out): Linear(in_features=64, out_features=3, bias=True)\n",
              "  (relu): ReLU()\n",
              "  (dropout): Dropout(p=0.2, inplace=False)\n",
              "  (batchnorm1): BatchNorm1d(512, eps=1e-05, momentum=0.1, affine=True, track_running_stats=True)\n",
              "  (batchnorm2): BatchNorm1d(128, eps=1e-05, momentum=0.1, affine=True, track_running_stats=True)\n",
              "  (batchnorm3): BatchNorm1d(64, eps=1e-05, momentum=0.1, affine=True, track_running_stats=True)\n",
              ")"
            ]
          },
          "metadata": {},
          "execution_count": 98
        },
        {
          "output_type": "execute_result",
          "data": {
            "text/plain": [
              "MulticlassClassification(\n",
              "  (layer_1): Linear(in_features=26, out_features=512, bias=True)\n",
              "  (layer_2): Linear(in_features=512, out_features=128, bias=True)\n",
              "  (layer_3): Linear(in_features=128, out_features=64, bias=True)\n",
              "  (layer_out): Linear(in_features=64, out_features=3, bias=True)\n",
              "  (relu): ReLU()\n",
              "  (dropout): Dropout(p=0.2, inplace=False)\n",
              "  (batchnorm1): BatchNorm1d(512, eps=1e-05, momentum=0.1, affine=True, track_running_stats=True)\n",
              "  (batchnorm2): BatchNorm1d(128, eps=1e-05, momentum=0.1, affine=True, track_running_stats=True)\n",
              "  (batchnorm3): BatchNorm1d(64, eps=1e-05, momentum=0.1, affine=True, track_running_stats=True)\n",
              ")"
            ]
          },
          "metadata": {},
          "execution_count": 98
        },
        {
          "output_type": "execute_result",
          "data": {
            "text/plain": [
              "MulticlassClassification(\n",
              "  (layer_1): Linear(in_features=26, out_features=512, bias=True)\n",
              "  (layer_2): Linear(in_features=512, out_features=128, bias=True)\n",
              "  (layer_3): Linear(in_features=128, out_features=64, bias=True)\n",
              "  (layer_out): Linear(in_features=64, out_features=3, bias=True)\n",
              "  (relu): ReLU()\n",
              "  (dropout): Dropout(p=0.2, inplace=False)\n",
              "  (batchnorm1): BatchNorm1d(512, eps=1e-05, momentum=0.1, affine=True, track_running_stats=True)\n",
              "  (batchnorm2): BatchNorm1d(128, eps=1e-05, momentum=0.1, affine=True, track_running_stats=True)\n",
              "  (batchnorm3): BatchNorm1d(64, eps=1e-05, momentum=0.1, affine=True, track_running_stats=True)\n",
              ")"
            ]
          },
          "metadata": {},
          "execution_count": 98
        },
        {
          "output_type": "execute_result",
          "data": {
            "text/plain": [
              "MulticlassClassification(\n",
              "  (layer_1): Linear(in_features=26, out_features=512, bias=True)\n",
              "  (layer_2): Linear(in_features=512, out_features=128, bias=True)\n",
              "  (layer_3): Linear(in_features=128, out_features=64, bias=True)\n",
              "  (layer_out): Linear(in_features=64, out_features=3, bias=True)\n",
              "  (relu): ReLU()\n",
              "  (dropout): Dropout(p=0.2, inplace=False)\n",
              "  (batchnorm1): BatchNorm1d(512, eps=1e-05, momentum=0.1, affine=True, track_running_stats=True)\n",
              "  (batchnorm2): BatchNorm1d(128, eps=1e-05, momentum=0.1, affine=True, track_running_stats=True)\n",
              "  (batchnorm3): BatchNorm1d(64, eps=1e-05, momentum=0.1, affine=True, track_running_stats=True)\n",
              ")"
            ]
          },
          "metadata": {},
          "execution_count": 98
        },
        {
          "output_type": "execute_result",
          "data": {
            "text/plain": [
              "MulticlassClassification(\n",
              "  (layer_1): Linear(in_features=26, out_features=512, bias=True)\n",
              "  (layer_2): Linear(in_features=512, out_features=128, bias=True)\n",
              "  (layer_3): Linear(in_features=128, out_features=64, bias=True)\n",
              "  (layer_out): Linear(in_features=64, out_features=3, bias=True)\n",
              "  (relu): ReLU()\n",
              "  (dropout): Dropout(p=0.2, inplace=False)\n",
              "  (batchnorm1): BatchNorm1d(512, eps=1e-05, momentum=0.1, affine=True, track_running_stats=True)\n",
              "  (batchnorm2): BatchNorm1d(128, eps=1e-05, momentum=0.1, affine=True, track_running_stats=True)\n",
              "  (batchnorm3): BatchNorm1d(64, eps=1e-05, momentum=0.1, affine=True, track_running_stats=True)\n",
              ")"
            ]
          },
          "metadata": {},
          "execution_count": 98
        },
        {
          "output_type": "execute_result",
          "data": {
            "text/plain": [
              "MulticlassClassification(\n",
              "  (layer_1): Linear(in_features=26, out_features=512, bias=True)\n",
              "  (layer_2): Linear(in_features=512, out_features=128, bias=True)\n",
              "  (layer_3): Linear(in_features=128, out_features=64, bias=True)\n",
              "  (layer_out): Linear(in_features=64, out_features=3, bias=True)\n",
              "  (relu): ReLU()\n",
              "  (dropout): Dropout(p=0.2, inplace=False)\n",
              "  (batchnorm1): BatchNorm1d(512, eps=1e-05, momentum=0.1, affine=True, track_running_stats=True)\n",
              "  (batchnorm2): BatchNorm1d(128, eps=1e-05, momentum=0.1, affine=True, track_running_stats=True)\n",
              "  (batchnorm3): BatchNorm1d(64, eps=1e-05, momentum=0.1, affine=True, track_running_stats=True)\n",
              ")"
            ]
          },
          "metadata": {},
          "execution_count": 98
        },
        {
          "output_type": "execute_result",
          "data": {
            "text/plain": [
              "MulticlassClassification(\n",
              "  (layer_1): Linear(in_features=26, out_features=512, bias=True)\n",
              "  (layer_2): Linear(in_features=512, out_features=128, bias=True)\n",
              "  (layer_3): Linear(in_features=128, out_features=64, bias=True)\n",
              "  (layer_out): Linear(in_features=64, out_features=3, bias=True)\n",
              "  (relu): ReLU()\n",
              "  (dropout): Dropout(p=0.2, inplace=False)\n",
              "  (batchnorm1): BatchNorm1d(512, eps=1e-05, momentum=0.1, affine=True, track_running_stats=True)\n",
              "  (batchnorm2): BatchNorm1d(128, eps=1e-05, momentum=0.1, affine=True, track_running_stats=True)\n",
              "  (batchnorm3): BatchNorm1d(64, eps=1e-05, momentum=0.1, affine=True, track_running_stats=True)\n",
              ")"
            ]
          },
          "metadata": {},
          "execution_count": 98
        },
        {
          "output_type": "execute_result",
          "data": {
            "text/plain": [
              "MulticlassClassification(\n",
              "  (layer_1): Linear(in_features=26, out_features=512, bias=True)\n",
              "  (layer_2): Linear(in_features=512, out_features=128, bias=True)\n",
              "  (layer_3): Linear(in_features=128, out_features=64, bias=True)\n",
              "  (layer_out): Linear(in_features=64, out_features=3, bias=True)\n",
              "  (relu): ReLU()\n",
              "  (dropout): Dropout(p=0.2, inplace=False)\n",
              "  (batchnorm1): BatchNorm1d(512, eps=1e-05, momentum=0.1, affine=True, track_running_stats=True)\n",
              "  (batchnorm2): BatchNorm1d(128, eps=1e-05, momentum=0.1, affine=True, track_running_stats=True)\n",
              "  (batchnorm3): BatchNorm1d(64, eps=1e-05, momentum=0.1, affine=True, track_running_stats=True)\n",
              ")"
            ]
          },
          "metadata": {},
          "execution_count": 98
        },
        {
          "output_type": "execute_result",
          "data": {
            "text/plain": [
              "MulticlassClassification(\n",
              "  (layer_1): Linear(in_features=26, out_features=512, bias=True)\n",
              "  (layer_2): Linear(in_features=512, out_features=128, bias=True)\n",
              "  (layer_3): Linear(in_features=128, out_features=64, bias=True)\n",
              "  (layer_out): Linear(in_features=64, out_features=3, bias=True)\n",
              "  (relu): ReLU()\n",
              "  (dropout): Dropout(p=0.2, inplace=False)\n",
              "  (batchnorm1): BatchNorm1d(512, eps=1e-05, momentum=0.1, affine=True, track_running_stats=True)\n",
              "  (batchnorm2): BatchNorm1d(128, eps=1e-05, momentum=0.1, affine=True, track_running_stats=True)\n",
              "  (batchnorm3): BatchNorm1d(64, eps=1e-05, momentum=0.1, affine=True, track_running_stats=True)\n",
              ")"
            ]
          },
          "metadata": {},
          "execution_count": 98
        },
        {
          "output_type": "execute_result",
          "data": {
            "text/plain": [
              "MulticlassClassification(\n",
              "  (layer_1): Linear(in_features=26, out_features=512, bias=True)\n",
              "  (layer_2): Linear(in_features=512, out_features=128, bias=True)\n",
              "  (layer_3): Linear(in_features=128, out_features=64, bias=True)\n",
              "  (layer_out): Linear(in_features=64, out_features=3, bias=True)\n",
              "  (relu): ReLU()\n",
              "  (dropout): Dropout(p=0.2, inplace=False)\n",
              "  (batchnorm1): BatchNorm1d(512, eps=1e-05, momentum=0.1, affine=True, track_running_stats=True)\n",
              "  (batchnorm2): BatchNorm1d(128, eps=1e-05, momentum=0.1, affine=True, track_running_stats=True)\n",
              "  (batchnorm3): BatchNorm1d(64, eps=1e-05, momentum=0.1, affine=True, track_running_stats=True)\n",
              ")"
            ]
          },
          "metadata": {},
          "execution_count": 98
        },
        {
          "output_type": "execute_result",
          "data": {
            "text/plain": [
              "MulticlassClassification(\n",
              "  (layer_1): Linear(in_features=26, out_features=512, bias=True)\n",
              "  (layer_2): Linear(in_features=512, out_features=128, bias=True)\n",
              "  (layer_3): Linear(in_features=128, out_features=64, bias=True)\n",
              "  (layer_out): Linear(in_features=64, out_features=3, bias=True)\n",
              "  (relu): ReLU()\n",
              "  (dropout): Dropout(p=0.2, inplace=False)\n",
              "  (batchnorm1): BatchNorm1d(512, eps=1e-05, momentum=0.1, affine=True, track_running_stats=True)\n",
              "  (batchnorm2): BatchNorm1d(128, eps=1e-05, momentum=0.1, affine=True, track_running_stats=True)\n",
              "  (batchnorm3): BatchNorm1d(64, eps=1e-05, momentum=0.1, affine=True, track_running_stats=True)\n",
              ")"
            ]
          },
          "metadata": {},
          "execution_count": 98
        },
        {
          "output_type": "execute_result",
          "data": {
            "text/plain": [
              "MulticlassClassification(\n",
              "  (layer_1): Linear(in_features=26, out_features=512, bias=True)\n",
              "  (layer_2): Linear(in_features=512, out_features=128, bias=True)\n",
              "  (layer_3): Linear(in_features=128, out_features=64, bias=True)\n",
              "  (layer_out): Linear(in_features=64, out_features=3, bias=True)\n",
              "  (relu): ReLU()\n",
              "  (dropout): Dropout(p=0.2, inplace=False)\n",
              "  (batchnorm1): BatchNorm1d(512, eps=1e-05, momentum=0.1, affine=True, track_running_stats=True)\n",
              "  (batchnorm2): BatchNorm1d(128, eps=1e-05, momentum=0.1, affine=True, track_running_stats=True)\n",
              "  (batchnorm3): BatchNorm1d(64, eps=1e-05, momentum=0.1, affine=True, track_running_stats=True)\n",
              ")"
            ]
          },
          "metadata": {},
          "execution_count": 98
        },
        {
          "output_type": "execute_result",
          "data": {
            "text/plain": [
              "MulticlassClassification(\n",
              "  (layer_1): Linear(in_features=26, out_features=512, bias=True)\n",
              "  (layer_2): Linear(in_features=512, out_features=128, bias=True)\n",
              "  (layer_3): Linear(in_features=128, out_features=64, bias=True)\n",
              "  (layer_out): Linear(in_features=64, out_features=3, bias=True)\n",
              "  (relu): ReLU()\n",
              "  (dropout): Dropout(p=0.2, inplace=False)\n",
              "  (batchnorm1): BatchNorm1d(512, eps=1e-05, momentum=0.1, affine=True, track_running_stats=True)\n",
              "  (batchnorm2): BatchNorm1d(128, eps=1e-05, momentum=0.1, affine=True, track_running_stats=True)\n",
              "  (batchnorm3): BatchNorm1d(64, eps=1e-05, momentum=0.1, affine=True, track_running_stats=True)\n",
              ")"
            ]
          },
          "metadata": {},
          "execution_count": 98
        },
        {
          "output_type": "execute_result",
          "data": {
            "text/plain": [
              "MulticlassClassification(\n",
              "  (layer_1): Linear(in_features=26, out_features=512, bias=True)\n",
              "  (layer_2): Linear(in_features=512, out_features=128, bias=True)\n",
              "  (layer_3): Linear(in_features=128, out_features=64, bias=True)\n",
              "  (layer_out): Linear(in_features=64, out_features=3, bias=True)\n",
              "  (relu): ReLU()\n",
              "  (dropout): Dropout(p=0.2, inplace=False)\n",
              "  (batchnorm1): BatchNorm1d(512, eps=1e-05, momentum=0.1, affine=True, track_running_stats=True)\n",
              "  (batchnorm2): BatchNorm1d(128, eps=1e-05, momentum=0.1, affine=True, track_running_stats=True)\n",
              "  (batchnorm3): BatchNorm1d(64, eps=1e-05, momentum=0.1, affine=True, track_running_stats=True)\n",
              ")"
            ]
          },
          "metadata": {},
          "execution_count": 98
        },
        {
          "output_type": "execute_result",
          "data": {
            "text/plain": [
              "MulticlassClassification(\n",
              "  (layer_1): Linear(in_features=26, out_features=512, bias=True)\n",
              "  (layer_2): Linear(in_features=512, out_features=128, bias=True)\n",
              "  (layer_3): Linear(in_features=128, out_features=64, bias=True)\n",
              "  (layer_out): Linear(in_features=64, out_features=3, bias=True)\n",
              "  (relu): ReLU()\n",
              "  (dropout): Dropout(p=0.2, inplace=False)\n",
              "  (batchnorm1): BatchNorm1d(512, eps=1e-05, momentum=0.1, affine=True, track_running_stats=True)\n",
              "  (batchnorm2): BatchNorm1d(128, eps=1e-05, momentum=0.1, affine=True, track_running_stats=True)\n",
              "  (batchnorm3): BatchNorm1d(64, eps=1e-05, momentum=0.1, affine=True, track_running_stats=True)\n",
              ")"
            ]
          },
          "metadata": {},
          "execution_count": 98
        },
        {
          "output_type": "execute_result",
          "data": {
            "text/plain": [
              "MulticlassClassification(\n",
              "  (layer_1): Linear(in_features=26, out_features=512, bias=True)\n",
              "  (layer_2): Linear(in_features=512, out_features=128, bias=True)\n",
              "  (layer_3): Linear(in_features=128, out_features=64, bias=True)\n",
              "  (layer_out): Linear(in_features=64, out_features=3, bias=True)\n",
              "  (relu): ReLU()\n",
              "  (dropout): Dropout(p=0.2, inplace=False)\n",
              "  (batchnorm1): BatchNorm1d(512, eps=1e-05, momentum=0.1, affine=True, track_running_stats=True)\n",
              "  (batchnorm2): BatchNorm1d(128, eps=1e-05, momentum=0.1, affine=True, track_running_stats=True)\n",
              "  (batchnorm3): BatchNorm1d(64, eps=1e-05, momentum=0.1, affine=True, track_running_stats=True)\n",
              ")"
            ]
          },
          "metadata": {},
          "execution_count": 98
        },
        {
          "output_type": "execute_result",
          "data": {
            "text/plain": [
              "MulticlassClassification(\n",
              "  (layer_1): Linear(in_features=26, out_features=512, bias=True)\n",
              "  (layer_2): Linear(in_features=512, out_features=128, bias=True)\n",
              "  (layer_3): Linear(in_features=128, out_features=64, bias=True)\n",
              "  (layer_out): Linear(in_features=64, out_features=3, bias=True)\n",
              "  (relu): ReLU()\n",
              "  (dropout): Dropout(p=0.2, inplace=False)\n",
              "  (batchnorm1): BatchNorm1d(512, eps=1e-05, momentum=0.1, affine=True, track_running_stats=True)\n",
              "  (batchnorm2): BatchNorm1d(128, eps=1e-05, momentum=0.1, affine=True, track_running_stats=True)\n",
              "  (batchnorm3): BatchNorm1d(64, eps=1e-05, momentum=0.1, affine=True, track_running_stats=True)\n",
              ")"
            ]
          },
          "metadata": {},
          "execution_count": 98
        },
        {
          "output_type": "execute_result",
          "data": {
            "text/plain": [
              "MulticlassClassification(\n",
              "  (layer_1): Linear(in_features=26, out_features=512, bias=True)\n",
              "  (layer_2): Linear(in_features=512, out_features=128, bias=True)\n",
              "  (layer_3): Linear(in_features=128, out_features=64, bias=True)\n",
              "  (layer_out): Linear(in_features=64, out_features=3, bias=True)\n",
              "  (relu): ReLU()\n",
              "  (dropout): Dropout(p=0.2, inplace=False)\n",
              "  (batchnorm1): BatchNorm1d(512, eps=1e-05, momentum=0.1, affine=True, track_running_stats=True)\n",
              "  (batchnorm2): BatchNorm1d(128, eps=1e-05, momentum=0.1, affine=True, track_running_stats=True)\n",
              "  (batchnorm3): BatchNorm1d(64, eps=1e-05, momentum=0.1, affine=True, track_running_stats=True)\n",
              ")"
            ]
          },
          "metadata": {},
          "execution_count": 98
        },
        {
          "output_type": "execute_result",
          "data": {
            "text/plain": [
              "MulticlassClassification(\n",
              "  (layer_1): Linear(in_features=26, out_features=512, bias=True)\n",
              "  (layer_2): Linear(in_features=512, out_features=128, bias=True)\n",
              "  (layer_3): Linear(in_features=128, out_features=64, bias=True)\n",
              "  (layer_out): Linear(in_features=64, out_features=3, bias=True)\n",
              "  (relu): ReLU()\n",
              "  (dropout): Dropout(p=0.2, inplace=False)\n",
              "  (batchnorm1): BatchNorm1d(512, eps=1e-05, momentum=0.1, affine=True, track_running_stats=True)\n",
              "  (batchnorm2): BatchNorm1d(128, eps=1e-05, momentum=0.1, affine=True, track_running_stats=True)\n",
              "  (batchnorm3): BatchNorm1d(64, eps=1e-05, momentum=0.1, affine=True, track_running_stats=True)\n",
              ")"
            ]
          },
          "metadata": {},
          "execution_count": 98
        },
        {
          "output_type": "execute_result",
          "data": {
            "text/plain": [
              "MulticlassClassification(\n",
              "  (layer_1): Linear(in_features=26, out_features=512, bias=True)\n",
              "  (layer_2): Linear(in_features=512, out_features=128, bias=True)\n",
              "  (layer_3): Linear(in_features=128, out_features=64, bias=True)\n",
              "  (layer_out): Linear(in_features=64, out_features=3, bias=True)\n",
              "  (relu): ReLU()\n",
              "  (dropout): Dropout(p=0.2, inplace=False)\n",
              "  (batchnorm1): BatchNorm1d(512, eps=1e-05, momentum=0.1, affine=True, track_running_stats=True)\n",
              "  (batchnorm2): BatchNorm1d(128, eps=1e-05, momentum=0.1, affine=True, track_running_stats=True)\n",
              "  (batchnorm3): BatchNorm1d(64, eps=1e-05, momentum=0.1, affine=True, track_running_stats=True)\n",
              ")"
            ]
          },
          "metadata": {},
          "execution_count": 98
        },
        {
          "output_type": "execute_result",
          "data": {
            "text/plain": [
              "MulticlassClassification(\n",
              "  (layer_1): Linear(in_features=26, out_features=512, bias=True)\n",
              "  (layer_2): Linear(in_features=512, out_features=128, bias=True)\n",
              "  (layer_3): Linear(in_features=128, out_features=64, bias=True)\n",
              "  (layer_out): Linear(in_features=64, out_features=3, bias=True)\n",
              "  (relu): ReLU()\n",
              "  (dropout): Dropout(p=0.2, inplace=False)\n",
              "  (batchnorm1): BatchNorm1d(512, eps=1e-05, momentum=0.1, affine=True, track_running_stats=True)\n",
              "  (batchnorm2): BatchNorm1d(128, eps=1e-05, momentum=0.1, affine=True, track_running_stats=True)\n",
              "  (batchnorm3): BatchNorm1d(64, eps=1e-05, momentum=0.1, affine=True, track_running_stats=True)\n",
              ")"
            ]
          },
          "metadata": {},
          "execution_count": 98
        },
        {
          "output_type": "execute_result",
          "data": {
            "text/plain": [
              "MulticlassClassification(\n",
              "  (layer_1): Linear(in_features=26, out_features=512, bias=True)\n",
              "  (layer_2): Linear(in_features=512, out_features=128, bias=True)\n",
              "  (layer_3): Linear(in_features=128, out_features=64, bias=True)\n",
              "  (layer_out): Linear(in_features=64, out_features=3, bias=True)\n",
              "  (relu): ReLU()\n",
              "  (dropout): Dropout(p=0.2, inplace=False)\n",
              "  (batchnorm1): BatchNorm1d(512, eps=1e-05, momentum=0.1, affine=True, track_running_stats=True)\n",
              "  (batchnorm2): BatchNorm1d(128, eps=1e-05, momentum=0.1, affine=True, track_running_stats=True)\n",
              "  (batchnorm3): BatchNorm1d(64, eps=1e-05, momentum=0.1, affine=True, track_running_stats=True)\n",
              ")"
            ]
          },
          "metadata": {},
          "execution_count": 98
        },
        {
          "output_type": "execute_result",
          "data": {
            "text/plain": [
              "MulticlassClassification(\n",
              "  (layer_1): Linear(in_features=26, out_features=512, bias=True)\n",
              "  (layer_2): Linear(in_features=512, out_features=128, bias=True)\n",
              "  (layer_3): Linear(in_features=128, out_features=64, bias=True)\n",
              "  (layer_out): Linear(in_features=64, out_features=3, bias=True)\n",
              "  (relu): ReLU()\n",
              "  (dropout): Dropout(p=0.2, inplace=False)\n",
              "  (batchnorm1): BatchNorm1d(512, eps=1e-05, momentum=0.1, affine=True, track_running_stats=True)\n",
              "  (batchnorm2): BatchNorm1d(128, eps=1e-05, momentum=0.1, affine=True, track_running_stats=True)\n",
              "  (batchnorm3): BatchNorm1d(64, eps=1e-05, momentum=0.1, affine=True, track_running_stats=True)\n",
              ")"
            ]
          },
          "metadata": {},
          "execution_count": 98
        },
        {
          "output_type": "execute_result",
          "data": {
            "text/plain": [
              "MulticlassClassification(\n",
              "  (layer_1): Linear(in_features=26, out_features=512, bias=True)\n",
              "  (layer_2): Linear(in_features=512, out_features=128, bias=True)\n",
              "  (layer_3): Linear(in_features=128, out_features=64, bias=True)\n",
              "  (layer_out): Linear(in_features=64, out_features=3, bias=True)\n",
              "  (relu): ReLU()\n",
              "  (dropout): Dropout(p=0.2, inplace=False)\n",
              "  (batchnorm1): BatchNorm1d(512, eps=1e-05, momentum=0.1, affine=True, track_running_stats=True)\n",
              "  (batchnorm2): BatchNorm1d(128, eps=1e-05, momentum=0.1, affine=True, track_running_stats=True)\n",
              "  (batchnorm3): BatchNorm1d(64, eps=1e-05, momentum=0.1, affine=True, track_running_stats=True)\n",
              ")"
            ]
          },
          "metadata": {},
          "execution_count": 98
        },
        {
          "output_type": "execute_result",
          "data": {
            "text/plain": [
              "MulticlassClassification(\n",
              "  (layer_1): Linear(in_features=26, out_features=512, bias=True)\n",
              "  (layer_2): Linear(in_features=512, out_features=128, bias=True)\n",
              "  (layer_3): Linear(in_features=128, out_features=64, bias=True)\n",
              "  (layer_out): Linear(in_features=64, out_features=3, bias=True)\n",
              "  (relu): ReLU()\n",
              "  (dropout): Dropout(p=0.2, inplace=False)\n",
              "  (batchnorm1): BatchNorm1d(512, eps=1e-05, momentum=0.1, affine=True, track_running_stats=True)\n",
              "  (batchnorm2): BatchNorm1d(128, eps=1e-05, momentum=0.1, affine=True, track_running_stats=True)\n",
              "  (batchnorm3): BatchNorm1d(64, eps=1e-05, momentum=0.1, affine=True, track_running_stats=True)\n",
              ")"
            ]
          },
          "metadata": {},
          "execution_count": 98
        },
        {
          "output_type": "execute_result",
          "data": {
            "text/plain": [
              "MulticlassClassification(\n",
              "  (layer_1): Linear(in_features=26, out_features=512, bias=True)\n",
              "  (layer_2): Linear(in_features=512, out_features=128, bias=True)\n",
              "  (layer_3): Linear(in_features=128, out_features=64, bias=True)\n",
              "  (layer_out): Linear(in_features=64, out_features=3, bias=True)\n",
              "  (relu): ReLU()\n",
              "  (dropout): Dropout(p=0.2, inplace=False)\n",
              "  (batchnorm1): BatchNorm1d(512, eps=1e-05, momentum=0.1, affine=True, track_running_stats=True)\n",
              "  (batchnorm2): BatchNorm1d(128, eps=1e-05, momentum=0.1, affine=True, track_running_stats=True)\n",
              "  (batchnorm3): BatchNorm1d(64, eps=1e-05, momentum=0.1, affine=True, track_running_stats=True)\n",
              ")"
            ]
          },
          "metadata": {},
          "execution_count": 98
        },
        {
          "output_type": "execute_result",
          "data": {
            "text/plain": [
              "MulticlassClassification(\n",
              "  (layer_1): Linear(in_features=26, out_features=512, bias=True)\n",
              "  (layer_2): Linear(in_features=512, out_features=128, bias=True)\n",
              "  (layer_3): Linear(in_features=128, out_features=64, bias=True)\n",
              "  (layer_out): Linear(in_features=64, out_features=3, bias=True)\n",
              "  (relu): ReLU()\n",
              "  (dropout): Dropout(p=0.2, inplace=False)\n",
              "  (batchnorm1): BatchNorm1d(512, eps=1e-05, momentum=0.1, affine=True, track_running_stats=True)\n",
              "  (batchnorm2): BatchNorm1d(128, eps=1e-05, momentum=0.1, affine=True, track_running_stats=True)\n",
              "  (batchnorm3): BatchNorm1d(64, eps=1e-05, momentum=0.1, affine=True, track_running_stats=True)\n",
              ")"
            ]
          },
          "metadata": {},
          "execution_count": 98
        },
        {
          "output_type": "execute_result",
          "data": {
            "text/plain": [
              "MulticlassClassification(\n",
              "  (layer_1): Linear(in_features=26, out_features=512, bias=True)\n",
              "  (layer_2): Linear(in_features=512, out_features=128, bias=True)\n",
              "  (layer_3): Linear(in_features=128, out_features=64, bias=True)\n",
              "  (layer_out): Linear(in_features=64, out_features=3, bias=True)\n",
              "  (relu): ReLU()\n",
              "  (dropout): Dropout(p=0.2, inplace=False)\n",
              "  (batchnorm1): BatchNorm1d(512, eps=1e-05, momentum=0.1, affine=True, track_running_stats=True)\n",
              "  (batchnorm2): BatchNorm1d(128, eps=1e-05, momentum=0.1, affine=True, track_running_stats=True)\n",
              "  (batchnorm3): BatchNorm1d(64, eps=1e-05, momentum=0.1, affine=True, track_running_stats=True)\n",
              ")"
            ]
          },
          "metadata": {},
          "execution_count": 98
        },
        {
          "output_type": "execute_result",
          "data": {
            "text/plain": [
              "MulticlassClassification(\n",
              "  (layer_1): Linear(in_features=26, out_features=512, bias=True)\n",
              "  (layer_2): Linear(in_features=512, out_features=128, bias=True)\n",
              "  (layer_3): Linear(in_features=128, out_features=64, bias=True)\n",
              "  (layer_out): Linear(in_features=64, out_features=3, bias=True)\n",
              "  (relu): ReLU()\n",
              "  (dropout): Dropout(p=0.2, inplace=False)\n",
              "  (batchnorm1): BatchNorm1d(512, eps=1e-05, momentum=0.1, affine=True, track_running_stats=True)\n",
              "  (batchnorm2): BatchNorm1d(128, eps=1e-05, momentum=0.1, affine=True, track_running_stats=True)\n",
              "  (batchnorm3): BatchNorm1d(64, eps=1e-05, momentum=0.1, affine=True, track_running_stats=True)\n",
              ")"
            ]
          },
          "metadata": {},
          "execution_count": 98
        },
        {
          "output_type": "execute_result",
          "data": {
            "text/plain": [
              "MulticlassClassification(\n",
              "  (layer_1): Linear(in_features=26, out_features=512, bias=True)\n",
              "  (layer_2): Linear(in_features=512, out_features=128, bias=True)\n",
              "  (layer_3): Linear(in_features=128, out_features=64, bias=True)\n",
              "  (layer_out): Linear(in_features=64, out_features=3, bias=True)\n",
              "  (relu): ReLU()\n",
              "  (dropout): Dropout(p=0.2, inplace=False)\n",
              "  (batchnorm1): BatchNorm1d(512, eps=1e-05, momentum=0.1, affine=True, track_running_stats=True)\n",
              "  (batchnorm2): BatchNorm1d(128, eps=1e-05, momentum=0.1, affine=True, track_running_stats=True)\n",
              "  (batchnorm3): BatchNorm1d(64, eps=1e-05, momentum=0.1, affine=True, track_running_stats=True)\n",
              ")"
            ]
          },
          "metadata": {},
          "execution_count": 98
        },
        {
          "output_type": "execute_result",
          "data": {
            "text/plain": [
              "MulticlassClassification(\n",
              "  (layer_1): Linear(in_features=26, out_features=512, bias=True)\n",
              "  (layer_2): Linear(in_features=512, out_features=128, bias=True)\n",
              "  (layer_3): Linear(in_features=128, out_features=64, bias=True)\n",
              "  (layer_out): Linear(in_features=64, out_features=3, bias=True)\n",
              "  (relu): ReLU()\n",
              "  (dropout): Dropout(p=0.2, inplace=False)\n",
              "  (batchnorm1): BatchNorm1d(512, eps=1e-05, momentum=0.1, affine=True, track_running_stats=True)\n",
              "  (batchnorm2): BatchNorm1d(128, eps=1e-05, momentum=0.1, affine=True, track_running_stats=True)\n",
              "  (batchnorm3): BatchNorm1d(64, eps=1e-05, momentum=0.1, affine=True, track_running_stats=True)\n",
              ")"
            ]
          },
          "metadata": {},
          "execution_count": 98
        },
        {
          "output_type": "execute_result",
          "data": {
            "text/plain": [
              "MulticlassClassification(\n",
              "  (layer_1): Linear(in_features=26, out_features=512, bias=True)\n",
              "  (layer_2): Linear(in_features=512, out_features=128, bias=True)\n",
              "  (layer_3): Linear(in_features=128, out_features=64, bias=True)\n",
              "  (layer_out): Linear(in_features=64, out_features=3, bias=True)\n",
              "  (relu): ReLU()\n",
              "  (dropout): Dropout(p=0.2, inplace=False)\n",
              "  (batchnorm1): BatchNorm1d(512, eps=1e-05, momentum=0.1, affine=True, track_running_stats=True)\n",
              "  (batchnorm2): BatchNorm1d(128, eps=1e-05, momentum=0.1, affine=True, track_running_stats=True)\n",
              "  (batchnorm3): BatchNorm1d(64, eps=1e-05, momentum=0.1, affine=True, track_running_stats=True)\n",
              ")"
            ]
          },
          "metadata": {},
          "execution_count": 98
        },
        {
          "output_type": "execute_result",
          "data": {
            "text/plain": [
              "MulticlassClassification(\n",
              "  (layer_1): Linear(in_features=26, out_features=512, bias=True)\n",
              "  (layer_2): Linear(in_features=512, out_features=128, bias=True)\n",
              "  (layer_3): Linear(in_features=128, out_features=64, bias=True)\n",
              "  (layer_out): Linear(in_features=64, out_features=3, bias=True)\n",
              "  (relu): ReLU()\n",
              "  (dropout): Dropout(p=0.2, inplace=False)\n",
              "  (batchnorm1): BatchNorm1d(512, eps=1e-05, momentum=0.1, affine=True, track_running_stats=True)\n",
              "  (batchnorm2): BatchNorm1d(128, eps=1e-05, momentum=0.1, affine=True, track_running_stats=True)\n",
              "  (batchnorm3): BatchNorm1d(64, eps=1e-05, momentum=0.1, affine=True, track_running_stats=True)\n",
              ")"
            ]
          },
          "metadata": {},
          "execution_count": 98
        },
        {
          "output_type": "execute_result",
          "data": {
            "text/plain": [
              "MulticlassClassification(\n",
              "  (layer_1): Linear(in_features=26, out_features=512, bias=True)\n",
              "  (layer_2): Linear(in_features=512, out_features=128, bias=True)\n",
              "  (layer_3): Linear(in_features=128, out_features=64, bias=True)\n",
              "  (layer_out): Linear(in_features=64, out_features=3, bias=True)\n",
              "  (relu): ReLU()\n",
              "  (dropout): Dropout(p=0.2, inplace=False)\n",
              "  (batchnorm1): BatchNorm1d(512, eps=1e-05, momentum=0.1, affine=True, track_running_stats=True)\n",
              "  (batchnorm2): BatchNorm1d(128, eps=1e-05, momentum=0.1, affine=True, track_running_stats=True)\n",
              "  (batchnorm3): BatchNorm1d(64, eps=1e-05, momentum=0.1, affine=True, track_running_stats=True)\n",
              ")"
            ]
          },
          "metadata": {},
          "execution_count": 98
        },
        {
          "output_type": "execute_result",
          "data": {
            "text/plain": [
              "MulticlassClassification(\n",
              "  (layer_1): Linear(in_features=26, out_features=512, bias=True)\n",
              "  (layer_2): Linear(in_features=512, out_features=128, bias=True)\n",
              "  (layer_3): Linear(in_features=128, out_features=64, bias=True)\n",
              "  (layer_out): Linear(in_features=64, out_features=3, bias=True)\n",
              "  (relu): ReLU()\n",
              "  (dropout): Dropout(p=0.2, inplace=False)\n",
              "  (batchnorm1): BatchNorm1d(512, eps=1e-05, momentum=0.1, affine=True, track_running_stats=True)\n",
              "  (batchnorm2): BatchNorm1d(128, eps=1e-05, momentum=0.1, affine=True, track_running_stats=True)\n",
              "  (batchnorm3): BatchNorm1d(64, eps=1e-05, momentum=0.1, affine=True, track_running_stats=True)\n",
              ")"
            ]
          },
          "metadata": {},
          "execution_count": 98
        },
        {
          "output_type": "execute_result",
          "data": {
            "text/plain": [
              "MulticlassClassification(\n",
              "  (layer_1): Linear(in_features=26, out_features=512, bias=True)\n",
              "  (layer_2): Linear(in_features=512, out_features=128, bias=True)\n",
              "  (layer_3): Linear(in_features=128, out_features=64, bias=True)\n",
              "  (layer_out): Linear(in_features=64, out_features=3, bias=True)\n",
              "  (relu): ReLU()\n",
              "  (dropout): Dropout(p=0.2, inplace=False)\n",
              "  (batchnorm1): BatchNorm1d(512, eps=1e-05, momentum=0.1, affine=True, track_running_stats=True)\n",
              "  (batchnorm2): BatchNorm1d(128, eps=1e-05, momentum=0.1, affine=True, track_running_stats=True)\n",
              "  (batchnorm3): BatchNorm1d(64, eps=1e-05, momentum=0.1, affine=True, track_running_stats=True)\n",
              ")"
            ]
          },
          "metadata": {},
          "execution_count": 98
        },
        {
          "output_type": "execute_result",
          "data": {
            "text/plain": [
              "MulticlassClassification(\n",
              "  (layer_1): Linear(in_features=26, out_features=512, bias=True)\n",
              "  (layer_2): Linear(in_features=512, out_features=128, bias=True)\n",
              "  (layer_3): Linear(in_features=128, out_features=64, bias=True)\n",
              "  (layer_out): Linear(in_features=64, out_features=3, bias=True)\n",
              "  (relu): ReLU()\n",
              "  (dropout): Dropout(p=0.2, inplace=False)\n",
              "  (batchnorm1): BatchNorm1d(512, eps=1e-05, momentum=0.1, affine=True, track_running_stats=True)\n",
              "  (batchnorm2): BatchNorm1d(128, eps=1e-05, momentum=0.1, affine=True, track_running_stats=True)\n",
              "  (batchnorm3): BatchNorm1d(64, eps=1e-05, momentum=0.1, affine=True, track_running_stats=True)\n",
              ")"
            ]
          },
          "metadata": {},
          "execution_count": 98
        },
        {
          "output_type": "execute_result",
          "data": {
            "text/plain": [
              "MulticlassClassification(\n",
              "  (layer_1): Linear(in_features=26, out_features=512, bias=True)\n",
              "  (layer_2): Linear(in_features=512, out_features=128, bias=True)\n",
              "  (layer_3): Linear(in_features=128, out_features=64, bias=True)\n",
              "  (layer_out): Linear(in_features=64, out_features=3, bias=True)\n",
              "  (relu): ReLU()\n",
              "  (dropout): Dropout(p=0.2, inplace=False)\n",
              "  (batchnorm1): BatchNorm1d(512, eps=1e-05, momentum=0.1, affine=True, track_running_stats=True)\n",
              "  (batchnorm2): BatchNorm1d(128, eps=1e-05, momentum=0.1, affine=True, track_running_stats=True)\n",
              "  (batchnorm3): BatchNorm1d(64, eps=1e-05, momentum=0.1, affine=True, track_running_stats=True)\n",
              ")"
            ]
          },
          "metadata": {},
          "execution_count": 98
        },
        {
          "output_type": "execute_result",
          "data": {
            "text/plain": [
              "MulticlassClassification(\n",
              "  (layer_1): Linear(in_features=26, out_features=512, bias=True)\n",
              "  (layer_2): Linear(in_features=512, out_features=128, bias=True)\n",
              "  (layer_3): Linear(in_features=128, out_features=64, bias=True)\n",
              "  (layer_out): Linear(in_features=64, out_features=3, bias=True)\n",
              "  (relu): ReLU()\n",
              "  (dropout): Dropout(p=0.2, inplace=False)\n",
              "  (batchnorm1): BatchNorm1d(512, eps=1e-05, momentum=0.1, affine=True, track_running_stats=True)\n",
              "  (batchnorm2): BatchNorm1d(128, eps=1e-05, momentum=0.1, affine=True, track_running_stats=True)\n",
              "  (batchnorm3): BatchNorm1d(64, eps=1e-05, momentum=0.1, affine=True, track_running_stats=True)\n",
              ")"
            ]
          },
          "metadata": {},
          "execution_count": 98
        },
        {
          "output_type": "execute_result",
          "data": {
            "text/plain": [
              "MulticlassClassification(\n",
              "  (layer_1): Linear(in_features=26, out_features=512, bias=True)\n",
              "  (layer_2): Linear(in_features=512, out_features=128, bias=True)\n",
              "  (layer_3): Linear(in_features=128, out_features=64, bias=True)\n",
              "  (layer_out): Linear(in_features=64, out_features=3, bias=True)\n",
              "  (relu): ReLU()\n",
              "  (dropout): Dropout(p=0.2, inplace=False)\n",
              "  (batchnorm1): BatchNorm1d(512, eps=1e-05, momentum=0.1, affine=True, track_running_stats=True)\n",
              "  (batchnorm2): BatchNorm1d(128, eps=1e-05, momentum=0.1, affine=True, track_running_stats=True)\n",
              "  (batchnorm3): BatchNorm1d(64, eps=1e-05, momentum=0.1, affine=True, track_running_stats=True)\n",
              ")"
            ]
          },
          "metadata": {},
          "execution_count": 98
        },
        {
          "output_type": "execute_result",
          "data": {
            "text/plain": [
              "MulticlassClassification(\n",
              "  (layer_1): Linear(in_features=26, out_features=512, bias=True)\n",
              "  (layer_2): Linear(in_features=512, out_features=128, bias=True)\n",
              "  (layer_3): Linear(in_features=128, out_features=64, bias=True)\n",
              "  (layer_out): Linear(in_features=64, out_features=3, bias=True)\n",
              "  (relu): ReLU()\n",
              "  (dropout): Dropout(p=0.2, inplace=False)\n",
              "  (batchnorm1): BatchNorm1d(512, eps=1e-05, momentum=0.1, affine=True, track_running_stats=True)\n",
              "  (batchnorm2): BatchNorm1d(128, eps=1e-05, momentum=0.1, affine=True, track_running_stats=True)\n",
              "  (batchnorm3): BatchNorm1d(64, eps=1e-05, momentum=0.1, affine=True, track_running_stats=True)\n",
              ")"
            ]
          },
          "metadata": {},
          "execution_count": 98
        },
        {
          "output_type": "execute_result",
          "data": {
            "text/plain": [
              "MulticlassClassification(\n",
              "  (layer_1): Linear(in_features=26, out_features=512, bias=True)\n",
              "  (layer_2): Linear(in_features=512, out_features=128, bias=True)\n",
              "  (layer_3): Linear(in_features=128, out_features=64, bias=True)\n",
              "  (layer_out): Linear(in_features=64, out_features=3, bias=True)\n",
              "  (relu): ReLU()\n",
              "  (dropout): Dropout(p=0.2, inplace=False)\n",
              "  (batchnorm1): BatchNorm1d(512, eps=1e-05, momentum=0.1, affine=True, track_running_stats=True)\n",
              "  (batchnorm2): BatchNorm1d(128, eps=1e-05, momentum=0.1, affine=True, track_running_stats=True)\n",
              "  (batchnorm3): BatchNorm1d(64, eps=1e-05, momentum=0.1, affine=True, track_running_stats=True)\n",
              ")"
            ]
          },
          "metadata": {},
          "execution_count": 98
        },
        {
          "output_type": "execute_result",
          "data": {
            "text/plain": [
              "MulticlassClassification(\n",
              "  (layer_1): Linear(in_features=26, out_features=512, bias=True)\n",
              "  (layer_2): Linear(in_features=512, out_features=128, bias=True)\n",
              "  (layer_3): Linear(in_features=128, out_features=64, bias=True)\n",
              "  (layer_out): Linear(in_features=64, out_features=3, bias=True)\n",
              "  (relu): ReLU()\n",
              "  (dropout): Dropout(p=0.2, inplace=False)\n",
              "  (batchnorm1): BatchNorm1d(512, eps=1e-05, momentum=0.1, affine=True, track_running_stats=True)\n",
              "  (batchnorm2): BatchNorm1d(128, eps=1e-05, momentum=0.1, affine=True, track_running_stats=True)\n",
              "  (batchnorm3): BatchNorm1d(64, eps=1e-05, momentum=0.1, affine=True, track_running_stats=True)\n",
              ")"
            ]
          },
          "metadata": {},
          "execution_count": 98
        },
        {
          "output_type": "execute_result",
          "data": {
            "text/plain": [
              "MulticlassClassification(\n",
              "  (layer_1): Linear(in_features=26, out_features=512, bias=True)\n",
              "  (layer_2): Linear(in_features=512, out_features=128, bias=True)\n",
              "  (layer_3): Linear(in_features=128, out_features=64, bias=True)\n",
              "  (layer_out): Linear(in_features=64, out_features=3, bias=True)\n",
              "  (relu): ReLU()\n",
              "  (dropout): Dropout(p=0.2, inplace=False)\n",
              "  (batchnorm1): BatchNorm1d(512, eps=1e-05, momentum=0.1, affine=True, track_running_stats=True)\n",
              "  (batchnorm2): BatchNorm1d(128, eps=1e-05, momentum=0.1, affine=True, track_running_stats=True)\n",
              "  (batchnorm3): BatchNorm1d(64, eps=1e-05, momentum=0.1, affine=True, track_running_stats=True)\n",
              ")"
            ]
          },
          "metadata": {},
          "execution_count": 98
        },
        {
          "output_type": "execute_result",
          "data": {
            "text/plain": [
              "MulticlassClassification(\n",
              "  (layer_1): Linear(in_features=26, out_features=512, bias=True)\n",
              "  (layer_2): Linear(in_features=512, out_features=128, bias=True)\n",
              "  (layer_3): Linear(in_features=128, out_features=64, bias=True)\n",
              "  (layer_out): Linear(in_features=64, out_features=3, bias=True)\n",
              "  (relu): ReLU()\n",
              "  (dropout): Dropout(p=0.2, inplace=False)\n",
              "  (batchnorm1): BatchNorm1d(512, eps=1e-05, momentum=0.1, affine=True, track_running_stats=True)\n",
              "  (batchnorm2): BatchNorm1d(128, eps=1e-05, momentum=0.1, affine=True, track_running_stats=True)\n",
              "  (batchnorm3): BatchNorm1d(64, eps=1e-05, momentum=0.1, affine=True, track_running_stats=True)\n",
              ")"
            ]
          },
          "metadata": {},
          "execution_count": 98
        },
        {
          "output_type": "execute_result",
          "data": {
            "text/plain": [
              "MulticlassClassification(\n",
              "  (layer_1): Linear(in_features=26, out_features=512, bias=True)\n",
              "  (layer_2): Linear(in_features=512, out_features=128, bias=True)\n",
              "  (layer_3): Linear(in_features=128, out_features=64, bias=True)\n",
              "  (layer_out): Linear(in_features=64, out_features=3, bias=True)\n",
              "  (relu): ReLU()\n",
              "  (dropout): Dropout(p=0.2, inplace=False)\n",
              "  (batchnorm1): BatchNorm1d(512, eps=1e-05, momentum=0.1, affine=True, track_running_stats=True)\n",
              "  (batchnorm2): BatchNorm1d(128, eps=1e-05, momentum=0.1, affine=True, track_running_stats=True)\n",
              "  (batchnorm3): BatchNorm1d(64, eps=1e-05, momentum=0.1, affine=True, track_running_stats=True)\n",
              ")"
            ]
          },
          "metadata": {},
          "execution_count": 98
        },
        {
          "output_type": "execute_result",
          "data": {
            "text/plain": [
              "MulticlassClassification(\n",
              "  (layer_1): Linear(in_features=26, out_features=512, bias=True)\n",
              "  (layer_2): Linear(in_features=512, out_features=128, bias=True)\n",
              "  (layer_3): Linear(in_features=128, out_features=64, bias=True)\n",
              "  (layer_out): Linear(in_features=64, out_features=3, bias=True)\n",
              "  (relu): ReLU()\n",
              "  (dropout): Dropout(p=0.2, inplace=False)\n",
              "  (batchnorm1): BatchNorm1d(512, eps=1e-05, momentum=0.1, affine=True, track_running_stats=True)\n",
              "  (batchnorm2): BatchNorm1d(128, eps=1e-05, momentum=0.1, affine=True, track_running_stats=True)\n",
              "  (batchnorm3): BatchNorm1d(64, eps=1e-05, momentum=0.1, affine=True, track_running_stats=True)\n",
              ")"
            ]
          },
          "metadata": {},
          "execution_count": 98
        },
        {
          "output_type": "execute_result",
          "data": {
            "text/plain": [
              "MulticlassClassification(\n",
              "  (layer_1): Linear(in_features=26, out_features=512, bias=True)\n",
              "  (layer_2): Linear(in_features=512, out_features=128, bias=True)\n",
              "  (layer_3): Linear(in_features=128, out_features=64, bias=True)\n",
              "  (layer_out): Linear(in_features=64, out_features=3, bias=True)\n",
              "  (relu): ReLU()\n",
              "  (dropout): Dropout(p=0.2, inplace=False)\n",
              "  (batchnorm1): BatchNorm1d(512, eps=1e-05, momentum=0.1, affine=True, track_running_stats=True)\n",
              "  (batchnorm2): BatchNorm1d(128, eps=1e-05, momentum=0.1, affine=True, track_running_stats=True)\n",
              "  (batchnorm3): BatchNorm1d(64, eps=1e-05, momentum=0.1, affine=True, track_running_stats=True)\n",
              ")"
            ]
          },
          "metadata": {},
          "execution_count": 98
        },
        {
          "output_type": "execute_result",
          "data": {
            "text/plain": [
              "MulticlassClassification(\n",
              "  (layer_1): Linear(in_features=26, out_features=512, bias=True)\n",
              "  (layer_2): Linear(in_features=512, out_features=128, bias=True)\n",
              "  (layer_3): Linear(in_features=128, out_features=64, bias=True)\n",
              "  (layer_out): Linear(in_features=64, out_features=3, bias=True)\n",
              "  (relu): ReLU()\n",
              "  (dropout): Dropout(p=0.2, inplace=False)\n",
              "  (batchnorm1): BatchNorm1d(512, eps=1e-05, momentum=0.1, affine=True, track_running_stats=True)\n",
              "  (batchnorm2): BatchNorm1d(128, eps=1e-05, momentum=0.1, affine=True, track_running_stats=True)\n",
              "  (batchnorm3): BatchNorm1d(64, eps=1e-05, momentum=0.1, affine=True, track_running_stats=True)\n",
              ")"
            ]
          },
          "metadata": {},
          "execution_count": 98
        },
        {
          "output_type": "execute_result",
          "data": {
            "text/plain": [
              "MulticlassClassification(\n",
              "  (layer_1): Linear(in_features=26, out_features=512, bias=True)\n",
              "  (layer_2): Linear(in_features=512, out_features=128, bias=True)\n",
              "  (layer_3): Linear(in_features=128, out_features=64, bias=True)\n",
              "  (layer_out): Linear(in_features=64, out_features=3, bias=True)\n",
              "  (relu): ReLU()\n",
              "  (dropout): Dropout(p=0.2, inplace=False)\n",
              "  (batchnorm1): BatchNorm1d(512, eps=1e-05, momentum=0.1, affine=True, track_running_stats=True)\n",
              "  (batchnorm2): BatchNorm1d(128, eps=1e-05, momentum=0.1, affine=True, track_running_stats=True)\n",
              "  (batchnorm3): BatchNorm1d(64, eps=1e-05, momentum=0.1, affine=True, track_running_stats=True)\n",
              ")"
            ]
          },
          "metadata": {},
          "execution_count": 98
        },
        {
          "output_type": "execute_result",
          "data": {
            "text/plain": [
              "MulticlassClassification(\n",
              "  (layer_1): Linear(in_features=26, out_features=512, bias=True)\n",
              "  (layer_2): Linear(in_features=512, out_features=128, bias=True)\n",
              "  (layer_3): Linear(in_features=128, out_features=64, bias=True)\n",
              "  (layer_out): Linear(in_features=64, out_features=3, bias=True)\n",
              "  (relu): ReLU()\n",
              "  (dropout): Dropout(p=0.2, inplace=False)\n",
              "  (batchnorm1): BatchNorm1d(512, eps=1e-05, momentum=0.1, affine=True, track_running_stats=True)\n",
              "  (batchnorm2): BatchNorm1d(128, eps=1e-05, momentum=0.1, affine=True, track_running_stats=True)\n",
              "  (batchnorm3): BatchNorm1d(64, eps=1e-05, momentum=0.1, affine=True, track_running_stats=True)\n",
              ")"
            ]
          },
          "metadata": {},
          "execution_count": 98
        },
        {
          "output_type": "execute_result",
          "data": {
            "text/plain": [
              "MulticlassClassification(\n",
              "  (layer_1): Linear(in_features=26, out_features=512, bias=True)\n",
              "  (layer_2): Linear(in_features=512, out_features=128, bias=True)\n",
              "  (layer_3): Linear(in_features=128, out_features=64, bias=True)\n",
              "  (layer_out): Linear(in_features=64, out_features=3, bias=True)\n",
              "  (relu): ReLU()\n",
              "  (dropout): Dropout(p=0.2, inplace=False)\n",
              "  (batchnorm1): BatchNorm1d(512, eps=1e-05, momentum=0.1, affine=True, track_running_stats=True)\n",
              "  (batchnorm2): BatchNorm1d(128, eps=1e-05, momentum=0.1, affine=True, track_running_stats=True)\n",
              "  (batchnorm3): BatchNorm1d(64, eps=1e-05, momentum=0.1, affine=True, track_running_stats=True)\n",
              ")"
            ]
          },
          "metadata": {},
          "execution_count": 98
        },
        {
          "output_type": "execute_result",
          "data": {
            "text/plain": [
              "MulticlassClassification(\n",
              "  (layer_1): Linear(in_features=26, out_features=512, bias=True)\n",
              "  (layer_2): Linear(in_features=512, out_features=128, bias=True)\n",
              "  (layer_3): Linear(in_features=128, out_features=64, bias=True)\n",
              "  (layer_out): Linear(in_features=64, out_features=3, bias=True)\n",
              "  (relu): ReLU()\n",
              "  (dropout): Dropout(p=0.2, inplace=False)\n",
              "  (batchnorm1): BatchNorm1d(512, eps=1e-05, momentum=0.1, affine=True, track_running_stats=True)\n",
              "  (batchnorm2): BatchNorm1d(128, eps=1e-05, momentum=0.1, affine=True, track_running_stats=True)\n",
              "  (batchnorm3): BatchNorm1d(64, eps=1e-05, momentum=0.1, affine=True, track_running_stats=True)\n",
              ")"
            ]
          },
          "metadata": {},
          "execution_count": 98
        },
        {
          "output_type": "execute_result",
          "data": {
            "text/plain": [
              "MulticlassClassification(\n",
              "  (layer_1): Linear(in_features=26, out_features=512, bias=True)\n",
              "  (layer_2): Linear(in_features=512, out_features=128, bias=True)\n",
              "  (layer_3): Linear(in_features=128, out_features=64, bias=True)\n",
              "  (layer_out): Linear(in_features=64, out_features=3, bias=True)\n",
              "  (relu): ReLU()\n",
              "  (dropout): Dropout(p=0.2, inplace=False)\n",
              "  (batchnorm1): BatchNorm1d(512, eps=1e-05, momentum=0.1, affine=True, track_running_stats=True)\n",
              "  (batchnorm2): BatchNorm1d(128, eps=1e-05, momentum=0.1, affine=True, track_running_stats=True)\n",
              "  (batchnorm3): BatchNorm1d(64, eps=1e-05, momentum=0.1, affine=True, track_running_stats=True)\n",
              ")"
            ]
          },
          "metadata": {},
          "execution_count": 98
        },
        {
          "output_type": "execute_result",
          "data": {
            "text/plain": [
              "MulticlassClassification(\n",
              "  (layer_1): Linear(in_features=26, out_features=512, bias=True)\n",
              "  (layer_2): Linear(in_features=512, out_features=128, bias=True)\n",
              "  (layer_3): Linear(in_features=128, out_features=64, bias=True)\n",
              "  (layer_out): Linear(in_features=64, out_features=3, bias=True)\n",
              "  (relu): ReLU()\n",
              "  (dropout): Dropout(p=0.2, inplace=False)\n",
              "  (batchnorm1): BatchNorm1d(512, eps=1e-05, momentum=0.1, affine=True, track_running_stats=True)\n",
              "  (batchnorm2): BatchNorm1d(128, eps=1e-05, momentum=0.1, affine=True, track_running_stats=True)\n",
              "  (batchnorm3): BatchNorm1d(64, eps=1e-05, momentum=0.1, affine=True, track_running_stats=True)\n",
              ")"
            ]
          },
          "metadata": {},
          "execution_count": 98
        },
        {
          "output_type": "execute_result",
          "data": {
            "text/plain": [
              "MulticlassClassification(\n",
              "  (layer_1): Linear(in_features=26, out_features=512, bias=True)\n",
              "  (layer_2): Linear(in_features=512, out_features=128, bias=True)\n",
              "  (layer_3): Linear(in_features=128, out_features=64, bias=True)\n",
              "  (layer_out): Linear(in_features=64, out_features=3, bias=True)\n",
              "  (relu): ReLU()\n",
              "  (dropout): Dropout(p=0.2, inplace=False)\n",
              "  (batchnorm1): BatchNorm1d(512, eps=1e-05, momentum=0.1, affine=True, track_running_stats=True)\n",
              "  (batchnorm2): BatchNorm1d(128, eps=1e-05, momentum=0.1, affine=True, track_running_stats=True)\n",
              "  (batchnorm3): BatchNorm1d(64, eps=1e-05, momentum=0.1, affine=True, track_running_stats=True)\n",
              ")"
            ]
          },
          "metadata": {},
          "execution_count": 98
        },
        {
          "output_type": "execute_result",
          "data": {
            "text/plain": [
              "MulticlassClassification(\n",
              "  (layer_1): Linear(in_features=26, out_features=512, bias=True)\n",
              "  (layer_2): Linear(in_features=512, out_features=128, bias=True)\n",
              "  (layer_3): Linear(in_features=128, out_features=64, bias=True)\n",
              "  (layer_out): Linear(in_features=64, out_features=3, bias=True)\n",
              "  (relu): ReLU()\n",
              "  (dropout): Dropout(p=0.2, inplace=False)\n",
              "  (batchnorm1): BatchNorm1d(512, eps=1e-05, momentum=0.1, affine=True, track_running_stats=True)\n",
              "  (batchnorm2): BatchNorm1d(128, eps=1e-05, momentum=0.1, affine=True, track_running_stats=True)\n",
              "  (batchnorm3): BatchNorm1d(64, eps=1e-05, momentum=0.1, affine=True, track_running_stats=True)\n",
              ")"
            ]
          },
          "metadata": {},
          "execution_count": 98
        },
        {
          "output_type": "execute_result",
          "data": {
            "text/plain": [
              "MulticlassClassification(\n",
              "  (layer_1): Linear(in_features=26, out_features=512, bias=True)\n",
              "  (layer_2): Linear(in_features=512, out_features=128, bias=True)\n",
              "  (layer_3): Linear(in_features=128, out_features=64, bias=True)\n",
              "  (layer_out): Linear(in_features=64, out_features=3, bias=True)\n",
              "  (relu): ReLU()\n",
              "  (dropout): Dropout(p=0.2, inplace=False)\n",
              "  (batchnorm1): BatchNorm1d(512, eps=1e-05, momentum=0.1, affine=True, track_running_stats=True)\n",
              "  (batchnorm2): BatchNorm1d(128, eps=1e-05, momentum=0.1, affine=True, track_running_stats=True)\n",
              "  (batchnorm3): BatchNorm1d(64, eps=1e-05, momentum=0.1, affine=True, track_running_stats=True)\n",
              ")"
            ]
          },
          "metadata": {},
          "execution_count": 98
        },
        {
          "output_type": "execute_result",
          "data": {
            "text/plain": [
              "MulticlassClassification(\n",
              "  (layer_1): Linear(in_features=26, out_features=512, bias=True)\n",
              "  (layer_2): Linear(in_features=512, out_features=128, bias=True)\n",
              "  (layer_3): Linear(in_features=128, out_features=64, bias=True)\n",
              "  (layer_out): Linear(in_features=64, out_features=3, bias=True)\n",
              "  (relu): ReLU()\n",
              "  (dropout): Dropout(p=0.2, inplace=False)\n",
              "  (batchnorm1): BatchNorm1d(512, eps=1e-05, momentum=0.1, affine=True, track_running_stats=True)\n",
              "  (batchnorm2): BatchNorm1d(128, eps=1e-05, momentum=0.1, affine=True, track_running_stats=True)\n",
              "  (batchnorm3): BatchNorm1d(64, eps=1e-05, momentum=0.1, affine=True, track_running_stats=True)\n",
              ")"
            ]
          },
          "metadata": {},
          "execution_count": 98
        },
        {
          "output_type": "execute_result",
          "data": {
            "text/plain": [
              "MulticlassClassification(\n",
              "  (layer_1): Linear(in_features=26, out_features=512, bias=True)\n",
              "  (layer_2): Linear(in_features=512, out_features=128, bias=True)\n",
              "  (layer_3): Linear(in_features=128, out_features=64, bias=True)\n",
              "  (layer_out): Linear(in_features=64, out_features=3, bias=True)\n",
              "  (relu): ReLU()\n",
              "  (dropout): Dropout(p=0.2, inplace=False)\n",
              "  (batchnorm1): BatchNorm1d(512, eps=1e-05, momentum=0.1, affine=True, track_running_stats=True)\n",
              "  (batchnorm2): BatchNorm1d(128, eps=1e-05, momentum=0.1, affine=True, track_running_stats=True)\n",
              "  (batchnorm3): BatchNorm1d(64, eps=1e-05, momentum=0.1, affine=True, track_running_stats=True)\n",
              ")"
            ]
          },
          "metadata": {},
          "execution_count": 98
        },
        {
          "output_type": "execute_result",
          "data": {
            "text/plain": [
              "MulticlassClassification(\n",
              "  (layer_1): Linear(in_features=26, out_features=512, bias=True)\n",
              "  (layer_2): Linear(in_features=512, out_features=128, bias=True)\n",
              "  (layer_3): Linear(in_features=128, out_features=64, bias=True)\n",
              "  (layer_out): Linear(in_features=64, out_features=3, bias=True)\n",
              "  (relu): ReLU()\n",
              "  (dropout): Dropout(p=0.2, inplace=False)\n",
              "  (batchnorm1): BatchNorm1d(512, eps=1e-05, momentum=0.1, affine=True, track_running_stats=True)\n",
              "  (batchnorm2): BatchNorm1d(128, eps=1e-05, momentum=0.1, affine=True, track_running_stats=True)\n",
              "  (batchnorm3): BatchNorm1d(64, eps=1e-05, momentum=0.1, affine=True, track_running_stats=True)\n",
              ")"
            ]
          },
          "metadata": {},
          "execution_count": 98
        },
        {
          "output_type": "execute_result",
          "data": {
            "text/plain": [
              "MulticlassClassification(\n",
              "  (layer_1): Linear(in_features=26, out_features=512, bias=True)\n",
              "  (layer_2): Linear(in_features=512, out_features=128, bias=True)\n",
              "  (layer_3): Linear(in_features=128, out_features=64, bias=True)\n",
              "  (layer_out): Linear(in_features=64, out_features=3, bias=True)\n",
              "  (relu): ReLU()\n",
              "  (dropout): Dropout(p=0.2, inplace=False)\n",
              "  (batchnorm1): BatchNorm1d(512, eps=1e-05, momentum=0.1, affine=True, track_running_stats=True)\n",
              "  (batchnorm2): BatchNorm1d(128, eps=1e-05, momentum=0.1, affine=True, track_running_stats=True)\n",
              "  (batchnorm3): BatchNorm1d(64, eps=1e-05, momentum=0.1, affine=True, track_running_stats=True)\n",
              ")"
            ]
          },
          "metadata": {},
          "execution_count": 98
        },
        {
          "output_type": "execute_result",
          "data": {
            "text/plain": [
              "MulticlassClassification(\n",
              "  (layer_1): Linear(in_features=26, out_features=512, bias=True)\n",
              "  (layer_2): Linear(in_features=512, out_features=128, bias=True)\n",
              "  (layer_3): Linear(in_features=128, out_features=64, bias=True)\n",
              "  (layer_out): Linear(in_features=64, out_features=3, bias=True)\n",
              "  (relu): ReLU()\n",
              "  (dropout): Dropout(p=0.2, inplace=False)\n",
              "  (batchnorm1): BatchNorm1d(512, eps=1e-05, momentum=0.1, affine=True, track_running_stats=True)\n",
              "  (batchnorm2): BatchNorm1d(128, eps=1e-05, momentum=0.1, affine=True, track_running_stats=True)\n",
              "  (batchnorm3): BatchNorm1d(64, eps=1e-05, momentum=0.1, affine=True, track_running_stats=True)\n",
              ")"
            ]
          },
          "metadata": {},
          "execution_count": 98
        },
        {
          "output_type": "execute_result",
          "data": {
            "text/plain": [
              "MulticlassClassification(\n",
              "  (layer_1): Linear(in_features=26, out_features=512, bias=True)\n",
              "  (layer_2): Linear(in_features=512, out_features=128, bias=True)\n",
              "  (layer_3): Linear(in_features=128, out_features=64, bias=True)\n",
              "  (layer_out): Linear(in_features=64, out_features=3, bias=True)\n",
              "  (relu): ReLU()\n",
              "  (dropout): Dropout(p=0.2, inplace=False)\n",
              "  (batchnorm1): BatchNorm1d(512, eps=1e-05, momentum=0.1, affine=True, track_running_stats=True)\n",
              "  (batchnorm2): BatchNorm1d(128, eps=1e-05, momentum=0.1, affine=True, track_running_stats=True)\n",
              "  (batchnorm3): BatchNorm1d(64, eps=1e-05, momentum=0.1, affine=True, track_running_stats=True)\n",
              ")"
            ]
          },
          "metadata": {},
          "execution_count": 98
        },
        {
          "output_type": "execute_result",
          "data": {
            "text/plain": [
              "MulticlassClassification(\n",
              "  (layer_1): Linear(in_features=26, out_features=512, bias=True)\n",
              "  (layer_2): Linear(in_features=512, out_features=128, bias=True)\n",
              "  (layer_3): Linear(in_features=128, out_features=64, bias=True)\n",
              "  (layer_out): Linear(in_features=64, out_features=3, bias=True)\n",
              "  (relu): ReLU()\n",
              "  (dropout): Dropout(p=0.2, inplace=False)\n",
              "  (batchnorm1): BatchNorm1d(512, eps=1e-05, momentum=0.1, affine=True, track_running_stats=True)\n",
              "  (batchnorm2): BatchNorm1d(128, eps=1e-05, momentum=0.1, affine=True, track_running_stats=True)\n",
              "  (batchnorm3): BatchNorm1d(64, eps=1e-05, momentum=0.1, affine=True, track_running_stats=True)\n",
              ")"
            ]
          },
          "metadata": {},
          "execution_count": 98
        },
        {
          "output_type": "execute_result",
          "data": {
            "text/plain": [
              "MulticlassClassification(\n",
              "  (layer_1): Linear(in_features=26, out_features=512, bias=True)\n",
              "  (layer_2): Linear(in_features=512, out_features=128, bias=True)\n",
              "  (layer_3): Linear(in_features=128, out_features=64, bias=True)\n",
              "  (layer_out): Linear(in_features=64, out_features=3, bias=True)\n",
              "  (relu): ReLU()\n",
              "  (dropout): Dropout(p=0.2, inplace=False)\n",
              "  (batchnorm1): BatchNorm1d(512, eps=1e-05, momentum=0.1, affine=True, track_running_stats=True)\n",
              "  (batchnorm2): BatchNorm1d(128, eps=1e-05, momentum=0.1, affine=True, track_running_stats=True)\n",
              "  (batchnorm3): BatchNorm1d(64, eps=1e-05, momentum=0.1, affine=True, track_running_stats=True)\n",
              ")"
            ]
          },
          "metadata": {},
          "execution_count": 98
        },
        {
          "output_type": "execute_result",
          "data": {
            "text/plain": [
              "MulticlassClassification(\n",
              "  (layer_1): Linear(in_features=26, out_features=512, bias=True)\n",
              "  (layer_2): Linear(in_features=512, out_features=128, bias=True)\n",
              "  (layer_3): Linear(in_features=128, out_features=64, bias=True)\n",
              "  (layer_out): Linear(in_features=64, out_features=3, bias=True)\n",
              "  (relu): ReLU()\n",
              "  (dropout): Dropout(p=0.2, inplace=False)\n",
              "  (batchnorm1): BatchNorm1d(512, eps=1e-05, momentum=0.1, affine=True, track_running_stats=True)\n",
              "  (batchnorm2): BatchNorm1d(128, eps=1e-05, momentum=0.1, affine=True, track_running_stats=True)\n",
              "  (batchnorm3): BatchNorm1d(64, eps=1e-05, momentum=0.1, affine=True, track_running_stats=True)\n",
              ")"
            ]
          },
          "metadata": {},
          "execution_count": 98
        },
        {
          "output_type": "execute_result",
          "data": {
            "text/plain": [
              "MulticlassClassification(\n",
              "  (layer_1): Linear(in_features=26, out_features=512, bias=True)\n",
              "  (layer_2): Linear(in_features=512, out_features=128, bias=True)\n",
              "  (layer_3): Linear(in_features=128, out_features=64, bias=True)\n",
              "  (layer_out): Linear(in_features=64, out_features=3, bias=True)\n",
              "  (relu): ReLU()\n",
              "  (dropout): Dropout(p=0.2, inplace=False)\n",
              "  (batchnorm1): BatchNorm1d(512, eps=1e-05, momentum=0.1, affine=True, track_running_stats=True)\n",
              "  (batchnorm2): BatchNorm1d(128, eps=1e-05, momentum=0.1, affine=True, track_running_stats=True)\n",
              "  (batchnorm3): BatchNorm1d(64, eps=1e-05, momentum=0.1, affine=True, track_running_stats=True)\n",
              ")"
            ]
          },
          "metadata": {},
          "execution_count": 98
        },
        {
          "output_type": "execute_result",
          "data": {
            "text/plain": [
              "MulticlassClassification(\n",
              "  (layer_1): Linear(in_features=26, out_features=512, bias=True)\n",
              "  (layer_2): Linear(in_features=512, out_features=128, bias=True)\n",
              "  (layer_3): Linear(in_features=128, out_features=64, bias=True)\n",
              "  (layer_out): Linear(in_features=64, out_features=3, bias=True)\n",
              "  (relu): ReLU()\n",
              "  (dropout): Dropout(p=0.2, inplace=False)\n",
              "  (batchnorm1): BatchNorm1d(512, eps=1e-05, momentum=0.1, affine=True, track_running_stats=True)\n",
              "  (batchnorm2): BatchNorm1d(128, eps=1e-05, momentum=0.1, affine=True, track_running_stats=True)\n",
              "  (batchnorm3): BatchNorm1d(64, eps=1e-05, momentum=0.1, affine=True, track_running_stats=True)\n",
              ")"
            ]
          },
          "metadata": {},
          "execution_count": 98
        },
        {
          "output_type": "execute_result",
          "data": {
            "text/plain": [
              "MulticlassClassification(\n",
              "  (layer_1): Linear(in_features=26, out_features=512, bias=True)\n",
              "  (layer_2): Linear(in_features=512, out_features=128, bias=True)\n",
              "  (layer_3): Linear(in_features=128, out_features=64, bias=True)\n",
              "  (layer_out): Linear(in_features=64, out_features=3, bias=True)\n",
              "  (relu): ReLU()\n",
              "  (dropout): Dropout(p=0.2, inplace=False)\n",
              "  (batchnorm1): BatchNorm1d(512, eps=1e-05, momentum=0.1, affine=True, track_running_stats=True)\n",
              "  (batchnorm2): BatchNorm1d(128, eps=1e-05, momentum=0.1, affine=True, track_running_stats=True)\n",
              "  (batchnorm3): BatchNorm1d(64, eps=1e-05, momentum=0.1, affine=True, track_running_stats=True)\n",
              ")"
            ]
          },
          "metadata": {},
          "execution_count": 98
        },
        {
          "output_type": "execute_result",
          "data": {
            "text/plain": [
              "MulticlassClassification(\n",
              "  (layer_1): Linear(in_features=26, out_features=512, bias=True)\n",
              "  (layer_2): Linear(in_features=512, out_features=128, bias=True)\n",
              "  (layer_3): Linear(in_features=128, out_features=64, bias=True)\n",
              "  (layer_out): Linear(in_features=64, out_features=3, bias=True)\n",
              "  (relu): ReLU()\n",
              "  (dropout): Dropout(p=0.2, inplace=False)\n",
              "  (batchnorm1): BatchNorm1d(512, eps=1e-05, momentum=0.1, affine=True, track_running_stats=True)\n",
              "  (batchnorm2): BatchNorm1d(128, eps=1e-05, momentum=0.1, affine=True, track_running_stats=True)\n",
              "  (batchnorm3): BatchNorm1d(64, eps=1e-05, momentum=0.1, affine=True, track_running_stats=True)\n",
              ")"
            ]
          },
          "metadata": {},
          "execution_count": 98
        },
        {
          "output_type": "execute_result",
          "data": {
            "text/plain": [
              "MulticlassClassification(\n",
              "  (layer_1): Linear(in_features=26, out_features=512, bias=True)\n",
              "  (layer_2): Linear(in_features=512, out_features=128, bias=True)\n",
              "  (layer_3): Linear(in_features=128, out_features=64, bias=True)\n",
              "  (layer_out): Linear(in_features=64, out_features=3, bias=True)\n",
              "  (relu): ReLU()\n",
              "  (dropout): Dropout(p=0.2, inplace=False)\n",
              "  (batchnorm1): BatchNorm1d(512, eps=1e-05, momentum=0.1, affine=True, track_running_stats=True)\n",
              "  (batchnorm2): BatchNorm1d(128, eps=1e-05, momentum=0.1, affine=True, track_running_stats=True)\n",
              "  (batchnorm3): BatchNorm1d(64, eps=1e-05, momentum=0.1, affine=True, track_running_stats=True)\n",
              ")"
            ]
          },
          "metadata": {},
          "execution_count": 98
        },
        {
          "output_type": "execute_result",
          "data": {
            "text/plain": [
              "MulticlassClassification(\n",
              "  (layer_1): Linear(in_features=26, out_features=512, bias=True)\n",
              "  (layer_2): Linear(in_features=512, out_features=128, bias=True)\n",
              "  (layer_3): Linear(in_features=128, out_features=64, bias=True)\n",
              "  (layer_out): Linear(in_features=64, out_features=3, bias=True)\n",
              "  (relu): ReLU()\n",
              "  (dropout): Dropout(p=0.2, inplace=False)\n",
              "  (batchnorm1): BatchNorm1d(512, eps=1e-05, momentum=0.1, affine=True, track_running_stats=True)\n",
              "  (batchnorm2): BatchNorm1d(128, eps=1e-05, momentum=0.1, affine=True, track_running_stats=True)\n",
              "  (batchnorm3): BatchNorm1d(64, eps=1e-05, momentum=0.1, affine=True, track_running_stats=True)\n",
              ")"
            ]
          },
          "metadata": {},
          "execution_count": 98
        },
        {
          "output_type": "execute_result",
          "data": {
            "text/plain": [
              "MulticlassClassification(\n",
              "  (layer_1): Linear(in_features=26, out_features=512, bias=True)\n",
              "  (layer_2): Linear(in_features=512, out_features=128, bias=True)\n",
              "  (layer_3): Linear(in_features=128, out_features=64, bias=True)\n",
              "  (layer_out): Linear(in_features=64, out_features=3, bias=True)\n",
              "  (relu): ReLU()\n",
              "  (dropout): Dropout(p=0.2, inplace=False)\n",
              "  (batchnorm1): BatchNorm1d(512, eps=1e-05, momentum=0.1, affine=True, track_running_stats=True)\n",
              "  (batchnorm2): BatchNorm1d(128, eps=1e-05, momentum=0.1, affine=True, track_running_stats=True)\n",
              "  (batchnorm3): BatchNorm1d(64, eps=1e-05, momentum=0.1, affine=True, track_running_stats=True)\n",
              ")"
            ]
          },
          "metadata": {},
          "execution_count": 98
        },
        {
          "output_type": "execute_result",
          "data": {
            "text/plain": [
              "MulticlassClassification(\n",
              "  (layer_1): Linear(in_features=26, out_features=512, bias=True)\n",
              "  (layer_2): Linear(in_features=512, out_features=128, bias=True)\n",
              "  (layer_3): Linear(in_features=128, out_features=64, bias=True)\n",
              "  (layer_out): Linear(in_features=64, out_features=3, bias=True)\n",
              "  (relu): ReLU()\n",
              "  (dropout): Dropout(p=0.2, inplace=False)\n",
              "  (batchnorm1): BatchNorm1d(512, eps=1e-05, momentum=0.1, affine=True, track_running_stats=True)\n",
              "  (batchnorm2): BatchNorm1d(128, eps=1e-05, momentum=0.1, affine=True, track_running_stats=True)\n",
              "  (batchnorm3): BatchNorm1d(64, eps=1e-05, momentum=0.1, affine=True, track_running_stats=True)\n",
              ")"
            ]
          },
          "metadata": {},
          "execution_count": 98
        },
        {
          "output_type": "execute_result",
          "data": {
            "text/plain": [
              "MulticlassClassification(\n",
              "  (layer_1): Linear(in_features=26, out_features=512, bias=True)\n",
              "  (layer_2): Linear(in_features=512, out_features=128, bias=True)\n",
              "  (layer_3): Linear(in_features=128, out_features=64, bias=True)\n",
              "  (layer_out): Linear(in_features=64, out_features=3, bias=True)\n",
              "  (relu): ReLU()\n",
              "  (dropout): Dropout(p=0.2, inplace=False)\n",
              "  (batchnorm1): BatchNorm1d(512, eps=1e-05, momentum=0.1, affine=True, track_running_stats=True)\n",
              "  (batchnorm2): BatchNorm1d(128, eps=1e-05, momentum=0.1, affine=True, track_running_stats=True)\n",
              "  (batchnorm3): BatchNorm1d(64, eps=1e-05, momentum=0.1, affine=True, track_running_stats=True)\n",
              ")"
            ]
          },
          "metadata": {},
          "execution_count": 98
        },
        {
          "output_type": "execute_result",
          "data": {
            "text/plain": [
              "MulticlassClassification(\n",
              "  (layer_1): Linear(in_features=26, out_features=512, bias=True)\n",
              "  (layer_2): Linear(in_features=512, out_features=128, bias=True)\n",
              "  (layer_3): Linear(in_features=128, out_features=64, bias=True)\n",
              "  (layer_out): Linear(in_features=64, out_features=3, bias=True)\n",
              "  (relu): ReLU()\n",
              "  (dropout): Dropout(p=0.2, inplace=False)\n",
              "  (batchnorm1): BatchNorm1d(512, eps=1e-05, momentum=0.1, affine=True, track_running_stats=True)\n",
              "  (batchnorm2): BatchNorm1d(128, eps=1e-05, momentum=0.1, affine=True, track_running_stats=True)\n",
              "  (batchnorm3): BatchNorm1d(64, eps=1e-05, momentum=0.1, affine=True, track_running_stats=True)\n",
              ")"
            ]
          },
          "metadata": {},
          "execution_count": 98
        },
        {
          "output_type": "execute_result",
          "data": {
            "text/plain": [
              "MulticlassClassification(\n",
              "  (layer_1): Linear(in_features=26, out_features=512, bias=True)\n",
              "  (layer_2): Linear(in_features=512, out_features=128, bias=True)\n",
              "  (layer_3): Linear(in_features=128, out_features=64, bias=True)\n",
              "  (layer_out): Linear(in_features=64, out_features=3, bias=True)\n",
              "  (relu): ReLU()\n",
              "  (dropout): Dropout(p=0.2, inplace=False)\n",
              "  (batchnorm1): BatchNorm1d(512, eps=1e-05, momentum=0.1, affine=True, track_running_stats=True)\n",
              "  (batchnorm2): BatchNorm1d(128, eps=1e-05, momentum=0.1, affine=True, track_running_stats=True)\n",
              "  (batchnorm3): BatchNorm1d(64, eps=1e-05, momentum=0.1, affine=True, track_running_stats=True)\n",
              ")"
            ]
          },
          "metadata": {},
          "execution_count": 98
        },
        {
          "output_type": "execute_result",
          "data": {
            "text/plain": [
              "MulticlassClassification(\n",
              "  (layer_1): Linear(in_features=26, out_features=512, bias=True)\n",
              "  (layer_2): Linear(in_features=512, out_features=128, bias=True)\n",
              "  (layer_3): Linear(in_features=128, out_features=64, bias=True)\n",
              "  (layer_out): Linear(in_features=64, out_features=3, bias=True)\n",
              "  (relu): ReLU()\n",
              "  (dropout): Dropout(p=0.2, inplace=False)\n",
              "  (batchnorm1): BatchNorm1d(512, eps=1e-05, momentum=0.1, affine=True, track_running_stats=True)\n",
              "  (batchnorm2): BatchNorm1d(128, eps=1e-05, momentum=0.1, affine=True, track_running_stats=True)\n",
              "  (batchnorm3): BatchNorm1d(64, eps=1e-05, momentum=0.1, affine=True, track_running_stats=True)\n",
              ")"
            ]
          },
          "metadata": {},
          "execution_count": 98
        },
        {
          "output_type": "execute_result",
          "data": {
            "text/plain": [
              "MulticlassClassification(\n",
              "  (layer_1): Linear(in_features=26, out_features=512, bias=True)\n",
              "  (layer_2): Linear(in_features=512, out_features=128, bias=True)\n",
              "  (layer_3): Linear(in_features=128, out_features=64, bias=True)\n",
              "  (layer_out): Linear(in_features=64, out_features=3, bias=True)\n",
              "  (relu): ReLU()\n",
              "  (dropout): Dropout(p=0.2, inplace=False)\n",
              "  (batchnorm1): BatchNorm1d(512, eps=1e-05, momentum=0.1, affine=True, track_running_stats=True)\n",
              "  (batchnorm2): BatchNorm1d(128, eps=1e-05, momentum=0.1, affine=True, track_running_stats=True)\n",
              "  (batchnorm3): BatchNorm1d(64, eps=1e-05, momentum=0.1, affine=True, track_running_stats=True)\n",
              ")"
            ]
          },
          "metadata": {},
          "execution_count": 98
        },
        {
          "output_type": "execute_result",
          "data": {
            "text/plain": [
              "MulticlassClassification(\n",
              "  (layer_1): Linear(in_features=26, out_features=512, bias=True)\n",
              "  (layer_2): Linear(in_features=512, out_features=128, bias=True)\n",
              "  (layer_3): Linear(in_features=128, out_features=64, bias=True)\n",
              "  (layer_out): Linear(in_features=64, out_features=3, bias=True)\n",
              "  (relu): ReLU()\n",
              "  (dropout): Dropout(p=0.2, inplace=False)\n",
              "  (batchnorm1): BatchNorm1d(512, eps=1e-05, momentum=0.1, affine=True, track_running_stats=True)\n",
              "  (batchnorm2): BatchNorm1d(128, eps=1e-05, momentum=0.1, affine=True, track_running_stats=True)\n",
              "  (batchnorm3): BatchNorm1d(64, eps=1e-05, momentum=0.1, affine=True, track_running_stats=True)\n",
              ")"
            ]
          },
          "metadata": {},
          "execution_count": 98
        },
        {
          "output_type": "execute_result",
          "data": {
            "text/plain": [
              "MulticlassClassification(\n",
              "  (layer_1): Linear(in_features=26, out_features=512, bias=True)\n",
              "  (layer_2): Linear(in_features=512, out_features=128, bias=True)\n",
              "  (layer_3): Linear(in_features=128, out_features=64, bias=True)\n",
              "  (layer_out): Linear(in_features=64, out_features=3, bias=True)\n",
              "  (relu): ReLU()\n",
              "  (dropout): Dropout(p=0.2, inplace=False)\n",
              "  (batchnorm1): BatchNorm1d(512, eps=1e-05, momentum=0.1, affine=True, track_running_stats=True)\n",
              "  (batchnorm2): BatchNorm1d(128, eps=1e-05, momentum=0.1, affine=True, track_running_stats=True)\n",
              "  (batchnorm3): BatchNorm1d(64, eps=1e-05, momentum=0.1, affine=True, track_running_stats=True)\n",
              ")"
            ]
          },
          "metadata": {},
          "execution_count": 98
        },
        {
          "output_type": "execute_result",
          "data": {
            "text/plain": [
              "MulticlassClassification(\n",
              "  (layer_1): Linear(in_features=26, out_features=512, bias=True)\n",
              "  (layer_2): Linear(in_features=512, out_features=128, bias=True)\n",
              "  (layer_3): Linear(in_features=128, out_features=64, bias=True)\n",
              "  (layer_out): Linear(in_features=64, out_features=3, bias=True)\n",
              "  (relu): ReLU()\n",
              "  (dropout): Dropout(p=0.2, inplace=False)\n",
              "  (batchnorm1): BatchNorm1d(512, eps=1e-05, momentum=0.1, affine=True, track_running_stats=True)\n",
              "  (batchnorm2): BatchNorm1d(128, eps=1e-05, momentum=0.1, affine=True, track_running_stats=True)\n",
              "  (batchnorm3): BatchNorm1d(64, eps=1e-05, momentum=0.1, affine=True, track_running_stats=True)\n",
              ")"
            ]
          },
          "metadata": {},
          "execution_count": 98
        },
        {
          "output_type": "execute_result",
          "data": {
            "text/plain": [
              "MulticlassClassification(\n",
              "  (layer_1): Linear(in_features=26, out_features=512, bias=True)\n",
              "  (layer_2): Linear(in_features=512, out_features=128, bias=True)\n",
              "  (layer_3): Linear(in_features=128, out_features=64, bias=True)\n",
              "  (layer_out): Linear(in_features=64, out_features=3, bias=True)\n",
              "  (relu): ReLU()\n",
              "  (dropout): Dropout(p=0.2, inplace=False)\n",
              "  (batchnorm1): BatchNorm1d(512, eps=1e-05, momentum=0.1, affine=True, track_running_stats=True)\n",
              "  (batchnorm2): BatchNorm1d(128, eps=1e-05, momentum=0.1, affine=True, track_running_stats=True)\n",
              "  (batchnorm3): BatchNorm1d(64, eps=1e-05, momentum=0.1, affine=True, track_running_stats=True)\n",
              ")"
            ]
          },
          "metadata": {},
          "execution_count": 98
        },
        {
          "output_type": "execute_result",
          "data": {
            "text/plain": [
              "MulticlassClassification(\n",
              "  (layer_1): Linear(in_features=26, out_features=512, bias=True)\n",
              "  (layer_2): Linear(in_features=512, out_features=128, bias=True)\n",
              "  (layer_3): Linear(in_features=128, out_features=64, bias=True)\n",
              "  (layer_out): Linear(in_features=64, out_features=3, bias=True)\n",
              "  (relu): ReLU()\n",
              "  (dropout): Dropout(p=0.2, inplace=False)\n",
              "  (batchnorm1): BatchNorm1d(512, eps=1e-05, momentum=0.1, affine=True, track_running_stats=True)\n",
              "  (batchnorm2): BatchNorm1d(128, eps=1e-05, momentum=0.1, affine=True, track_running_stats=True)\n",
              "  (batchnorm3): BatchNorm1d(64, eps=1e-05, momentum=0.1, affine=True, track_running_stats=True)\n",
              ")"
            ]
          },
          "metadata": {},
          "execution_count": 98
        },
        {
          "output_type": "execute_result",
          "data": {
            "text/plain": [
              "MulticlassClassification(\n",
              "  (layer_1): Linear(in_features=26, out_features=512, bias=True)\n",
              "  (layer_2): Linear(in_features=512, out_features=128, bias=True)\n",
              "  (layer_3): Linear(in_features=128, out_features=64, bias=True)\n",
              "  (layer_out): Linear(in_features=64, out_features=3, bias=True)\n",
              "  (relu): ReLU()\n",
              "  (dropout): Dropout(p=0.2, inplace=False)\n",
              "  (batchnorm1): BatchNorm1d(512, eps=1e-05, momentum=0.1, affine=True, track_running_stats=True)\n",
              "  (batchnorm2): BatchNorm1d(128, eps=1e-05, momentum=0.1, affine=True, track_running_stats=True)\n",
              "  (batchnorm3): BatchNorm1d(64, eps=1e-05, momentum=0.1, affine=True, track_running_stats=True)\n",
              ")"
            ]
          },
          "metadata": {},
          "execution_count": 98
        },
        {
          "output_type": "execute_result",
          "data": {
            "text/plain": [
              "MulticlassClassification(\n",
              "  (layer_1): Linear(in_features=26, out_features=512, bias=True)\n",
              "  (layer_2): Linear(in_features=512, out_features=128, bias=True)\n",
              "  (layer_3): Linear(in_features=128, out_features=64, bias=True)\n",
              "  (layer_out): Linear(in_features=64, out_features=3, bias=True)\n",
              "  (relu): ReLU()\n",
              "  (dropout): Dropout(p=0.2, inplace=False)\n",
              "  (batchnorm1): BatchNorm1d(512, eps=1e-05, momentum=0.1, affine=True, track_running_stats=True)\n",
              "  (batchnorm2): BatchNorm1d(128, eps=1e-05, momentum=0.1, affine=True, track_running_stats=True)\n",
              "  (batchnorm3): BatchNorm1d(64, eps=1e-05, momentum=0.1, affine=True, track_running_stats=True)\n",
              ")"
            ]
          },
          "metadata": {},
          "execution_count": 98
        },
        {
          "output_type": "execute_result",
          "data": {
            "text/plain": [
              "MulticlassClassification(\n",
              "  (layer_1): Linear(in_features=26, out_features=512, bias=True)\n",
              "  (layer_2): Linear(in_features=512, out_features=128, bias=True)\n",
              "  (layer_3): Linear(in_features=128, out_features=64, bias=True)\n",
              "  (layer_out): Linear(in_features=64, out_features=3, bias=True)\n",
              "  (relu): ReLU()\n",
              "  (dropout): Dropout(p=0.2, inplace=False)\n",
              "  (batchnorm1): BatchNorm1d(512, eps=1e-05, momentum=0.1, affine=True, track_running_stats=True)\n",
              "  (batchnorm2): BatchNorm1d(128, eps=1e-05, momentum=0.1, affine=True, track_running_stats=True)\n",
              "  (batchnorm3): BatchNorm1d(64, eps=1e-05, momentum=0.1, affine=True, track_running_stats=True)\n",
              ")"
            ]
          },
          "metadata": {},
          "execution_count": 98
        },
        {
          "output_type": "execute_result",
          "data": {
            "text/plain": [
              "MulticlassClassification(\n",
              "  (layer_1): Linear(in_features=26, out_features=512, bias=True)\n",
              "  (layer_2): Linear(in_features=512, out_features=128, bias=True)\n",
              "  (layer_3): Linear(in_features=128, out_features=64, bias=True)\n",
              "  (layer_out): Linear(in_features=64, out_features=3, bias=True)\n",
              "  (relu): ReLU()\n",
              "  (dropout): Dropout(p=0.2, inplace=False)\n",
              "  (batchnorm1): BatchNorm1d(512, eps=1e-05, momentum=0.1, affine=True, track_running_stats=True)\n",
              "  (batchnorm2): BatchNorm1d(128, eps=1e-05, momentum=0.1, affine=True, track_running_stats=True)\n",
              "  (batchnorm3): BatchNorm1d(64, eps=1e-05, momentum=0.1, affine=True, track_running_stats=True)\n",
              ")"
            ]
          },
          "metadata": {},
          "execution_count": 98
        },
        {
          "output_type": "execute_result",
          "data": {
            "text/plain": [
              "MulticlassClassification(\n",
              "  (layer_1): Linear(in_features=26, out_features=512, bias=True)\n",
              "  (layer_2): Linear(in_features=512, out_features=128, bias=True)\n",
              "  (layer_3): Linear(in_features=128, out_features=64, bias=True)\n",
              "  (layer_out): Linear(in_features=64, out_features=3, bias=True)\n",
              "  (relu): ReLU()\n",
              "  (dropout): Dropout(p=0.2, inplace=False)\n",
              "  (batchnorm1): BatchNorm1d(512, eps=1e-05, momentum=0.1, affine=True, track_running_stats=True)\n",
              "  (batchnorm2): BatchNorm1d(128, eps=1e-05, momentum=0.1, affine=True, track_running_stats=True)\n",
              "  (batchnorm3): BatchNorm1d(64, eps=1e-05, momentum=0.1, affine=True, track_running_stats=True)\n",
              ")"
            ]
          },
          "metadata": {},
          "execution_count": 98
        },
        {
          "output_type": "execute_result",
          "data": {
            "text/plain": [
              "MulticlassClassification(\n",
              "  (layer_1): Linear(in_features=26, out_features=512, bias=True)\n",
              "  (layer_2): Linear(in_features=512, out_features=128, bias=True)\n",
              "  (layer_3): Linear(in_features=128, out_features=64, bias=True)\n",
              "  (layer_out): Linear(in_features=64, out_features=3, bias=True)\n",
              "  (relu): ReLU()\n",
              "  (dropout): Dropout(p=0.2, inplace=False)\n",
              "  (batchnorm1): BatchNorm1d(512, eps=1e-05, momentum=0.1, affine=True, track_running_stats=True)\n",
              "  (batchnorm2): BatchNorm1d(128, eps=1e-05, momentum=0.1, affine=True, track_running_stats=True)\n",
              "  (batchnorm3): BatchNorm1d(64, eps=1e-05, momentum=0.1, affine=True, track_running_stats=True)\n",
              ")"
            ]
          },
          "metadata": {},
          "execution_count": 98
        },
        {
          "output_type": "execute_result",
          "data": {
            "text/plain": [
              "MulticlassClassification(\n",
              "  (layer_1): Linear(in_features=26, out_features=512, bias=True)\n",
              "  (layer_2): Linear(in_features=512, out_features=128, bias=True)\n",
              "  (layer_3): Linear(in_features=128, out_features=64, bias=True)\n",
              "  (layer_out): Linear(in_features=64, out_features=3, bias=True)\n",
              "  (relu): ReLU()\n",
              "  (dropout): Dropout(p=0.2, inplace=False)\n",
              "  (batchnorm1): BatchNorm1d(512, eps=1e-05, momentum=0.1, affine=True, track_running_stats=True)\n",
              "  (batchnorm2): BatchNorm1d(128, eps=1e-05, momentum=0.1, affine=True, track_running_stats=True)\n",
              "  (batchnorm3): BatchNorm1d(64, eps=1e-05, momentum=0.1, affine=True, track_running_stats=True)\n",
              ")"
            ]
          },
          "metadata": {},
          "execution_count": 98
        },
        {
          "output_type": "execute_result",
          "data": {
            "text/plain": [
              "MulticlassClassification(\n",
              "  (layer_1): Linear(in_features=26, out_features=512, bias=True)\n",
              "  (layer_2): Linear(in_features=512, out_features=128, bias=True)\n",
              "  (layer_3): Linear(in_features=128, out_features=64, bias=True)\n",
              "  (layer_out): Linear(in_features=64, out_features=3, bias=True)\n",
              "  (relu): ReLU()\n",
              "  (dropout): Dropout(p=0.2, inplace=False)\n",
              "  (batchnorm1): BatchNorm1d(512, eps=1e-05, momentum=0.1, affine=True, track_running_stats=True)\n",
              "  (batchnorm2): BatchNorm1d(128, eps=1e-05, momentum=0.1, affine=True, track_running_stats=True)\n",
              "  (batchnorm3): BatchNorm1d(64, eps=1e-05, momentum=0.1, affine=True, track_running_stats=True)\n",
              ")"
            ]
          },
          "metadata": {},
          "execution_count": 98
        },
        {
          "output_type": "execute_result",
          "data": {
            "text/plain": [
              "MulticlassClassification(\n",
              "  (layer_1): Linear(in_features=26, out_features=512, bias=True)\n",
              "  (layer_2): Linear(in_features=512, out_features=128, bias=True)\n",
              "  (layer_3): Linear(in_features=128, out_features=64, bias=True)\n",
              "  (layer_out): Linear(in_features=64, out_features=3, bias=True)\n",
              "  (relu): ReLU()\n",
              "  (dropout): Dropout(p=0.2, inplace=False)\n",
              "  (batchnorm1): BatchNorm1d(512, eps=1e-05, momentum=0.1, affine=True, track_running_stats=True)\n",
              "  (batchnorm2): BatchNorm1d(128, eps=1e-05, momentum=0.1, affine=True, track_running_stats=True)\n",
              "  (batchnorm3): BatchNorm1d(64, eps=1e-05, momentum=0.1, affine=True, track_running_stats=True)\n",
              ")"
            ]
          },
          "metadata": {},
          "execution_count": 98
        },
        {
          "output_type": "execute_result",
          "data": {
            "text/plain": [
              "MulticlassClassification(\n",
              "  (layer_1): Linear(in_features=26, out_features=512, bias=True)\n",
              "  (layer_2): Linear(in_features=512, out_features=128, bias=True)\n",
              "  (layer_3): Linear(in_features=128, out_features=64, bias=True)\n",
              "  (layer_out): Linear(in_features=64, out_features=3, bias=True)\n",
              "  (relu): ReLU()\n",
              "  (dropout): Dropout(p=0.2, inplace=False)\n",
              "  (batchnorm1): BatchNorm1d(512, eps=1e-05, momentum=0.1, affine=True, track_running_stats=True)\n",
              "  (batchnorm2): BatchNorm1d(128, eps=1e-05, momentum=0.1, affine=True, track_running_stats=True)\n",
              "  (batchnorm3): BatchNorm1d(64, eps=1e-05, momentum=0.1, affine=True, track_running_stats=True)\n",
              ")"
            ]
          },
          "metadata": {},
          "execution_count": 98
        },
        {
          "output_type": "execute_result",
          "data": {
            "text/plain": [
              "MulticlassClassification(\n",
              "  (layer_1): Linear(in_features=26, out_features=512, bias=True)\n",
              "  (layer_2): Linear(in_features=512, out_features=128, bias=True)\n",
              "  (layer_3): Linear(in_features=128, out_features=64, bias=True)\n",
              "  (layer_out): Linear(in_features=64, out_features=3, bias=True)\n",
              "  (relu): ReLU()\n",
              "  (dropout): Dropout(p=0.2, inplace=False)\n",
              "  (batchnorm1): BatchNorm1d(512, eps=1e-05, momentum=0.1, affine=True, track_running_stats=True)\n",
              "  (batchnorm2): BatchNorm1d(128, eps=1e-05, momentum=0.1, affine=True, track_running_stats=True)\n",
              "  (batchnorm3): BatchNorm1d(64, eps=1e-05, momentum=0.1, affine=True, track_running_stats=True)\n",
              ")"
            ]
          },
          "metadata": {},
          "execution_count": 98
        },
        {
          "output_type": "execute_result",
          "data": {
            "text/plain": [
              "MulticlassClassification(\n",
              "  (layer_1): Linear(in_features=26, out_features=512, bias=True)\n",
              "  (layer_2): Linear(in_features=512, out_features=128, bias=True)\n",
              "  (layer_3): Linear(in_features=128, out_features=64, bias=True)\n",
              "  (layer_out): Linear(in_features=64, out_features=3, bias=True)\n",
              "  (relu): ReLU()\n",
              "  (dropout): Dropout(p=0.2, inplace=False)\n",
              "  (batchnorm1): BatchNorm1d(512, eps=1e-05, momentum=0.1, affine=True, track_running_stats=True)\n",
              "  (batchnorm2): BatchNorm1d(128, eps=1e-05, momentum=0.1, affine=True, track_running_stats=True)\n",
              "  (batchnorm3): BatchNorm1d(64, eps=1e-05, momentum=0.1, affine=True, track_running_stats=True)\n",
              ")"
            ]
          },
          "metadata": {},
          "execution_count": 98
        },
        {
          "output_type": "execute_result",
          "data": {
            "text/plain": [
              "MulticlassClassification(\n",
              "  (layer_1): Linear(in_features=26, out_features=512, bias=True)\n",
              "  (layer_2): Linear(in_features=512, out_features=128, bias=True)\n",
              "  (layer_3): Linear(in_features=128, out_features=64, bias=True)\n",
              "  (layer_out): Linear(in_features=64, out_features=3, bias=True)\n",
              "  (relu): ReLU()\n",
              "  (dropout): Dropout(p=0.2, inplace=False)\n",
              "  (batchnorm1): BatchNorm1d(512, eps=1e-05, momentum=0.1, affine=True, track_running_stats=True)\n",
              "  (batchnorm2): BatchNorm1d(128, eps=1e-05, momentum=0.1, affine=True, track_running_stats=True)\n",
              "  (batchnorm3): BatchNorm1d(64, eps=1e-05, momentum=0.1, affine=True, track_running_stats=True)\n",
              ")"
            ]
          },
          "metadata": {},
          "execution_count": 98
        },
        {
          "output_type": "execute_result",
          "data": {
            "text/plain": [
              "MulticlassClassification(\n",
              "  (layer_1): Linear(in_features=26, out_features=512, bias=True)\n",
              "  (layer_2): Linear(in_features=512, out_features=128, bias=True)\n",
              "  (layer_3): Linear(in_features=128, out_features=64, bias=True)\n",
              "  (layer_out): Linear(in_features=64, out_features=3, bias=True)\n",
              "  (relu): ReLU()\n",
              "  (dropout): Dropout(p=0.2, inplace=False)\n",
              "  (batchnorm1): BatchNorm1d(512, eps=1e-05, momentum=0.1, affine=True, track_running_stats=True)\n",
              "  (batchnorm2): BatchNorm1d(128, eps=1e-05, momentum=0.1, affine=True, track_running_stats=True)\n",
              "  (batchnorm3): BatchNorm1d(64, eps=1e-05, momentum=0.1, affine=True, track_running_stats=True)\n",
              ")"
            ]
          },
          "metadata": {},
          "execution_count": 98
        },
        {
          "output_type": "execute_result",
          "data": {
            "text/plain": [
              "MulticlassClassification(\n",
              "  (layer_1): Linear(in_features=26, out_features=512, bias=True)\n",
              "  (layer_2): Linear(in_features=512, out_features=128, bias=True)\n",
              "  (layer_3): Linear(in_features=128, out_features=64, bias=True)\n",
              "  (layer_out): Linear(in_features=64, out_features=3, bias=True)\n",
              "  (relu): ReLU()\n",
              "  (dropout): Dropout(p=0.2, inplace=False)\n",
              "  (batchnorm1): BatchNorm1d(512, eps=1e-05, momentum=0.1, affine=True, track_running_stats=True)\n",
              "  (batchnorm2): BatchNorm1d(128, eps=1e-05, momentum=0.1, affine=True, track_running_stats=True)\n",
              "  (batchnorm3): BatchNorm1d(64, eps=1e-05, momentum=0.1, affine=True, track_running_stats=True)\n",
              ")"
            ]
          },
          "metadata": {},
          "execution_count": 98
        },
        {
          "output_type": "execute_result",
          "data": {
            "text/plain": [
              "MulticlassClassification(\n",
              "  (layer_1): Linear(in_features=26, out_features=512, bias=True)\n",
              "  (layer_2): Linear(in_features=512, out_features=128, bias=True)\n",
              "  (layer_3): Linear(in_features=128, out_features=64, bias=True)\n",
              "  (layer_out): Linear(in_features=64, out_features=3, bias=True)\n",
              "  (relu): ReLU()\n",
              "  (dropout): Dropout(p=0.2, inplace=False)\n",
              "  (batchnorm1): BatchNorm1d(512, eps=1e-05, momentum=0.1, affine=True, track_running_stats=True)\n",
              "  (batchnorm2): BatchNorm1d(128, eps=1e-05, momentum=0.1, affine=True, track_running_stats=True)\n",
              "  (batchnorm3): BatchNorm1d(64, eps=1e-05, momentum=0.1, affine=True, track_running_stats=True)\n",
              ")"
            ]
          },
          "metadata": {},
          "execution_count": 98
        },
        {
          "output_type": "execute_result",
          "data": {
            "text/plain": [
              "MulticlassClassification(\n",
              "  (layer_1): Linear(in_features=26, out_features=512, bias=True)\n",
              "  (layer_2): Linear(in_features=512, out_features=128, bias=True)\n",
              "  (layer_3): Linear(in_features=128, out_features=64, bias=True)\n",
              "  (layer_out): Linear(in_features=64, out_features=3, bias=True)\n",
              "  (relu): ReLU()\n",
              "  (dropout): Dropout(p=0.2, inplace=False)\n",
              "  (batchnorm1): BatchNorm1d(512, eps=1e-05, momentum=0.1, affine=True, track_running_stats=True)\n",
              "  (batchnorm2): BatchNorm1d(128, eps=1e-05, momentum=0.1, affine=True, track_running_stats=True)\n",
              "  (batchnorm3): BatchNorm1d(64, eps=1e-05, momentum=0.1, affine=True, track_running_stats=True)\n",
              ")"
            ]
          },
          "metadata": {},
          "execution_count": 98
        },
        {
          "output_type": "execute_result",
          "data": {
            "text/plain": [
              "MulticlassClassification(\n",
              "  (layer_1): Linear(in_features=26, out_features=512, bias=True)\n",
              "  (layer_2): Linear(in_features=512, out_features=128, bias=True)\n",
              "  (layer_3): Linear(in_features=128, out_features=64, bias=True)\n",
              "  (layer_out): Linear(in_features=64, out_features=3, bias=True)\n",
              "  (relu): ReLU()\n",
              "  (dropout): Dropout(p=0.2, inplace=False)\n",
              "  (batchnorm1): BatchNorm1d(512, eps=1e-05, momentum=0.1, affine=True, track_running_stats=True)\n",
              "  (batchnorm2): BatchNorm1d(128, eps=1e-05, momentum=0.1, affine=True, track_running_stats=True)\n",
              "  (batchnorm3): BatchNorm1d(64, eps=1e-05, momentum=0.1, affine=True, track_running_stats=True)\n",
              ")"
            ]
          },
          "metadata": {},
          "execution_count": 98
        },
        {
          "output_type": "execute_result",
          "data": {
            "text/plain": [
              "MulticlassClassification(\n",
              "  (layer_1): Linear(in_features=26, out_features=512, bias=True)\n",
              "  (layer_2): Linear(in_features=512, out_features=128, bias=True)\n",
              "  (layer_3): Linear(in_features=128, out_features=64, bias=True)\n",
              "  (layer_out): Linear(in_features=64, out_features=3, bias=True)\n",
              "  (relu): ReLU()\n",
              "  (dropout): Dropout(p=0.2, inplace=False)\n",
              "  (batchnorm1): BatchNorm1d(512, eps=1e-05, momentum=0.1, affine=True, track_running_stats=True)\n",
              "  (batchnorm2): BatchNorm1d(128, eps=1e-05, momentum=0.1, affine=True, track_running_stats=True)\n",
              "  (batchnorm3): BatchNorm1d(64, eps=1e-05, momentum=0.1, affine=True, track_running_stats=True)\n",
              ")"
            ]
          },
          "metadata": {},
          "execution_count": 98
        },
        {
          "output_type": "execute_result",
          "data": {
            "text/plain": [
              "MulticlassClassification(\n",
              "  (layer_1): Linear(in_features=26, out_features=512, bias=True)\n",
              "  (layer_2): Linear(in_features=512, out_features=128, bias=True)\n",
              "  (layer_3): Linear(in_features=128, out_features=64, bias=True)\n",
              "  (layer_out): Linear(in_features=64, out_features=3, bias=True)\n",
              "  (relu): ReLU()\n",
              "  (dropout): Dropout(p=0.2, inplace=False)\n",
              "  (batchnorm1): BatchNorm1d(512, eps=1e-05, momentum=0.1, affine=True, track_running_stats=True)\n",
              "  (batchnorm2): BatchNorm1d(128, eps=1e-05, momentum=0.1, affine=True, track_running_stats=True)\n",
              "  (batchnorm3): BatchNorm1d(64, eps=1e-05, momentum=0.1, affine=True, track_running_stats=True)\n",
              ")"
            ]
          },
          "metadata": {},
          "execution_count": 98
        },
        {
          "output_type": "execute_result",
          "data": {
            "text/plain": [
              "MulticlassClassification(\n",
              "  (layer_1): Linear(in_features=26, out_features=512, bias=True)\n",
              "  (layer_2): Linear(in_features=512, out_features=128, bias=True)\n",
              "  (layer_3): Linear(in_features=128, out_features=64, bias=True)\n",
              "  (layer_out): Linear(in_features=64, out_features=3, bias=True)\n",
              "  (relu): ReLU()\n",
              "  (dropout): Dropout(p=0.2, inplace=False)\n",
              "  (batchnorm1): BatchNorm1d(512, eps=1e-05, momentum=0.1, affine=True, track_running_stats=True)\n",
              "  (batchnorm2): BatchNorm1d(128, eps=1e-05, momentum=0.1, affine=True, track_running_stats=True)\n",
              "  (batchnorm3): BatchNorm1d(64, eps=1e-05, momentum=0.1, affine=True, track_running_stats=True)\n",
              ")"
            ]
          },
          "metadata": {},
          "execution_count": 98
        },
        {
          "output_type": "execute_result",
          "data": {
            "text/plain": [
              "MulticlassClassification(\n",
              "  (layer_1): Linear(in_features=26, out_features=512, bias=True)\n",
              "  (layer_2): Linear(in_features=512, out_features=128, bias=True)\n",
              "  (layer_3): Linear(in_features=128, out_features=64, bias=True)\n",
              "  (layer_out): Linear(in_features=64, out_features=3, bias=True)\n",
              "  (relu): ReLU()\n",
              "  (dropout): Dropout(p=0.2, inplace=False)\n",
              "  (batchnorm1): BatchNorm1d(512, eps=1e-05, momentum=0.1, affine=True, track_running_stats=True)\n",
              "  (batchnorm2): BatchNorm1d(128, eps=1e-05, momentum=0.1, affine=True, track_running_stats=True)\n",
              "  (batchnorm3): BatchNorm1d(64, eps=1e-05, momentum=0.1, affine=True, track_running_stats=True)\n",
              ")"
            ]
          },
          "metadata": {},
          "execution_count": 98
        },
        {
          "output_type": "execute_result",
          "data": {
            "text/plain": [
              "MulticlassClassification(\n",
              "  (layer_1): Linear(in_features=26, out_features=512, bias=True)\n",
              "  (layer_2): Linear(in_features=512, out_features=128, bias=True)\n",
              "  (layer_3): Linear(in_features=128, out_features=64, bias=True)\n",
              "  (layer_out): Linear(in_features=64, out_features=3, bias=True)\n",
              "  (relu): ReLU()\n",
              "  (dropout): Dropout(p=0.2, inplace=False)\n",
              "  (batchnorm1): BatchNorm1d(512, eps=1e-05, momentum=0.1, affine=True, track_running_stats=True)\n",
              "  (batchnorm2): BatchNorm1d(128, eps=1e-05, momentum=0.1, affine=True, track_running_stats=True)\n",
              "  (batchnorm3): BatchNorm1d(64, eps=1e-05, momentum=0.1, affine=True, track_running_stats=True)\n",
              ")"
            ]
          },
          "metadata": {},
          "execution_count": 98
        },
        {
          "output_type": "execute_result",
          "data": {
            "text/plain": [
              "MulticlassClassification(\n",
              "  (layer_1): Linear(in_features=26, out_features=512, bias=True)\n",
              "  (layer_2): Linear(in_features=512, out_features=128, bias=True)\n",
              "  (layer_3): Linear(in_features=128, out_features=64, bias=True)\n",
              "  (layer_out): Linear(in_features=64, out_features=3, bias=True)\n",
              "  (relu): ReLU()\n",
              "  (dropout): Dropout(p=0.2, inplace=False)\n",
              "  (batchnorm1): BatchNorm1d(512, eps=1e-05, momentum=0.1, affine=True, track_running_stats=True)\n",
              "  (batchnorm2): BatchNorm1d(128, eps=1e-05, momentum=0.1, affine=True, track_running_stats=True)\n",
              "  (batchnorm3): BatchNorm1d(64, eps=1e-05, momentum=0.1, affine=True, track_running_stats=True)\n",
              ")"
            ]
          },
          "metadata": {},
          "execution_count": 98
        },
        {
          "output_type": "execute_result",
          "data": {
            "text/plain": [
              "MulticlassClassification(\n",
              "  (layer_1): Linear(in_features=26, out_features=512, bias=True)\n",
              "  (layer_2): Linear(in_features=512, out_features=128, bias=True)\n",
              "  (layer_3): Linear(in_features=128, out_features=64, bias=True)\n",
              "  (layer_out): Linear(in_features=64, out_features=3, bias=True)\n",
              "  (relu): ReLU()\n",
              "  (dropout): Dropout(p=0.2, inplace=False)\n",
              "  (batchnorm1): BatchNorm1d(512, eps=1e-05, momentum=0.1, affine=True, track_running_stats=True)\n",
              "  (batchnorm2): BatchNorm1d(128, eps=1e-05, momentum=0.1, affine=True, track_running_stats=True)\n",
              "  (batchnorm3): BatchNorm1d(64, eps=1e-05, momentum=0.1, affine=True, track_running_stats=True)\n",
              ")"
            ]
          },
          "metadata": {},
          "execution_count": 98
        },
        {
          "output_type": "execute_result",
          "data": {
            "text/plain": [
              "MulticlassClassification(\n",
              "  (layer_1): Linear(in_features=26, out_features=512, bias=True)\n",
              "  (layer_2): Linear(in_features=512, out_features=128, bias=True)\n",
              "  (layer_3): Linear(in_features=128, out_features=64, bias=True)\n",
              "  (layer_out): Linear(in_features=64, out_features=3, bias=True)\n",
              "  (relu): ReLU()\n",
              "  (dropout): Dropout(p=0.2, inplace=False)\n",
              "  (batchnorm1): BatchNorm1d(512, eps=1e-05, momentum=0.1, affine=True, track_running_stats=True)\n",
              "  (batchnorm2): BatchNorm1d(128, eps=1e-05, momentum=0.1, affine=True, track_running_stats=True)\n",
              "  (batchnorm3): BatchNorm1d(64, eps=1e-05, momentum=0.1, affine=True, track_running_stats=True)\n",
              ")"
            ]
          },
          "metadata": {},
          "execution_count": 98
        },
        {
          "output_type": "execute_result",
          "data": {
            "text/plain": [
              "MulticlassClassification(\n",
              "  (layer_1): Linear(in_features=26, out_features=512, bias=True)\n",
              "  (layer_2): Linear(in_features=512, out_features=128, bias=True)\n",
              "  (layer_3): Linear(in_features=128, out_features=64, bias=True)\n",
              "  (layer_out): Linear(in_features=64, out_features=3, bias=True)\n",
              "  (relu): ReLU()\n",
              "  (dropout): Dropout(p=0.2, inplace=False)\n",
              "  (batchnorm1): BatchNorm1d(512, eps=1e-05, momentum=0.1, affine=True, track_running_stats=True)\n",
              "  (batchnorm2): BatchNorm1d(128, eps=1e-05, momentum=0.1, affine=True, track_running_stats=True)\n",
              "  (batchnorm3): BatchNorm1d(64, eps=1e-05, momentum=0.1, affine=True, track_running_stats=True)\n",
              ")"
            ]
          },
          "metadata": {},
          "execution_count": 98
        },
        {
          "output_type": "execute_result",
          "data": {
            "text/plain": [
              "MulticlassClassification(\n",
              "  (layer_1): Linear(in_features=26, out_features=512, bias=True)\n",
              "  (layer_2): Linear(in_features=512, out_features=128, bias=True)\n",
              "  (layer_3): Linear(in_features=128, out_features=64, bias=True)\n",
              "  (layer_out): Linear(in_features=64, out_features=3, bias=True)\n",
              "  (relu): ReLU()\n",
              "  (dropout): Dropout(p=0.2, inplace=False)\n",
              "  (batchnorm1): BatchNorm1d(512, eps=1e-05, momentum=0.1, affine=True, track_running_stats=True)\n",
              "  (batchnorm2): BatchNorm1d(128, eps=1e-05, momentum=0.1, affine=True, track_running_stats=True)\n",
              "  (batchnorm3): BatchNorm1d(64, eps=1e-05, momentum=0.1, affine=True, track_running_stats=True)\n",
              ")"
            ]
          },
          "metadata": {},
          "execution_count": 98
        },
        {
          "output_type": "execute_result",
          "data": {
            "text/plain": [
              "MulticlassClassification(\n",
              "  (layer_1): Linear(in_features=26, out_features=512, bias=True)\n",
              "  (layer_2): Linear(in_features=512, out_features=128, bias=True)\n",
              "  (layer_3): Linear(in_features=128, out_features=64, bias=True)\n",
              "  (layer_out): Linear(in_features=64, out_features=3, bias=True)\n",
              "  (relu): ReLU()\n",
              "  (dropout): Dropout(p=0.2, inplace=False)\n",
              "  (batchnorm1): BatchNorm1d(512, eps=1e-05, momentum=0.1, affine=True, track_running_stats=True)\n",
              "  (batchnorm2): BatchNorm1d(128, eps=1e-05, momentum=0.1, affine=True, track_running_stats=True)\n",
              "  (batchnorm3): BatchNorm1d(64, eps=1e-05, momentum=0.1, affine=True, track_running_stats=True)\n",
              ")"
            ]
          },
          "metadata": {},
          "execution_count": 98
        },
        {
          "output_type": "execute_result",
          "data": {
            "text/plain": [
              "MulticlassClassification(\n",
              "  (layer_1): Linear(in_features=26, out_features=512, bias=True)\n",
              "  (layer_2): Linear(in_features=512, out_features=128, bias=True)\n",
              "  (layer_3): Linear(in_features=128, out_features=64, bias=True)\n",
              "  (layer_out): Linear(in_features=64, out_features=3, bias=True)\n",
              "  (relu): ReLU()\n",
              "  (dropout): Dropout(p=0.2, inplace=False)\n",
              "  (batchnorm1): BatchNorm1d(512, eps=1e-05, momentum=0.1, affine=True, track_running_stats=True)\n",
              "  (batchnorm2): BatchNorm1d(128, eps=1e-05, momentum=0.1, affine=True, track_running_stats=True)\n",
              "  (batchnorm3): BatchNorm1d(64, eps=1e-05, momentum=0.1, affine=True, track_running_stats=True)\n",
              ")"
            ]
          },
          "metadata": {},
          "execution_count": 98
        },
        {
          "output_type": "execute_result",
          "data": {
            "text/plain": [
              "MulticlassClassification(\n",
              "  (layer_1): Linear(in_features=26, out_features=512, bias=True)\n",
              "  (layer_2): Linear(in_features=512, out_features=128, bias=True)\n",
              "  (layer_3): Linear(in_features=128, out_features=64, bias=True)\n",
              "  (layer_out): Linear(in_features=64, out_features=3, bias=True)\n",
              "  (relu): ReLU()\n",
              "  (dropout): Dropout(p=0.2, inplace=False)\n",
              "  (batchnorm1): BatchNorm1d(512, eps=1e-05, momentum=0.1, affine=True, track_running_stats=True)\n",
              "  (batchnorm2): BatchNorm1d(128, eps=1e-05, momentum=0.1, affine=True, track_running_stats=True)\n",
              "  (batchnorm3): BatchNorm1d(64, eps=1e-05, momentum=0.1, affine=True, track_running_stats=True)\n",
              ")"
            ]
          },
          "metadata": {},
          "execution_count": 98
        },
        {
          "output_type": "execute_result",
          "data": {
            "text/plain": [
              "MulticlassClassification(\n",
              "  (layer_1): Linear(in_features=26, out_features=512, bias=True)\n",
              "  (layer_2): Linear(in_features=512, out_features=128, bias=True)\n",
              "  (layer_3): Linear(in_features=128, out_features=64, bias=True)\n",
              "  (layer_out): Linear(in_features=64, out_features=3, bias=True)\n",
              "  (relu): ReLU()\n",
              "  (dropout): Dropout(p=0.2, inplace=False)\n",
              "  (batchnorm1): BatchNorm1d(512, eps=1e-05, momentum=0.1, affine=True, track_running_stats=True)\n",
              "  (batchnorm2): BatchNorm1d(128, eps=1e-05, momentum=0.1, affine=True, track_running_stats=True)\n",
              "  (batchnorm3): BatchNorm1d(64, eps=1e-05, momentum=0.1, affine=True, track_running_stats=True)\n",
              ")"
            ]
          },
          "metadata": {},
          "execution_count": 98
        },
        {
          "output_type": "execute_result",
          "data": {
            "text/plain": [
              "MulticlassClassification(\n",
              "  (layer_1): Linear(in_features=26, out_features=512, bias=True)\n",
              "  (layer_2): Linear(in_features=512, out_features=128, bias=True)\n",
              "  (layer_3): Linear(in_features=128, out_features=64, bias=True)\n",
              "  (layer_out): Linear(in_features=64, out_features=3, bias=True)\n",
              "  (relu): ReLU()\n",
              "  (dropout): Dropout(p=0.2, inplace=False)\n",
              "  (batchnorm1): BatchNorm1d(512, eps=1e-05, momentum=0.1, affine=True, track_running_stats=True)\n",
              "  (batchnorm2): BatchNorm1d(128, eps=1e-05, momentum=0.1, affine=True, track_running_stats=True)\n",
              "  (batchnorm3): BatchNorm1d(64, eps=1e-05, momentum=0.1, affine=True, track_running_stats=True)\n",
              ")"
            ]
          },
          "metadata": {},
          "execution_count": 98
        },
        {
          "output_type": "execute_result",
          "data": {
            "text/plain": [
              "MulticlassClassification(\n",
              "  (layer_1): Linear(in_features=26, out_features=512, bias=True)\n",
              "  (layer_2): Linear(in_features=512, out_features=128, bias=True)\n",
              "  (layer_3): Linear(in_features=128, out_features=64, bias=True)\n",
              "  (layer_out): Linear(in_features=64, out_features=3, bias=True)\n",
              "  (relu): ReLU()\n",
              "  (dropout): Dropout(p=0.2, inplace=False)\n",
              "  (batchnorm1): BatchNorm1d(512, eps=1e-05, momentum=0.1, affine=True, track_running_stats=True)\n",
              "  (batchnorm2): BatchNorm1d(128, eps=1e-05, momentum=0.1, affine=True, track_running_stats=True)\n",
              "  (batchnorm3): BatchNorm1d(64, eps=1e-05, momentum=0.1, affine=True, track_running_stats=True)\n",
              ")"
            ]
          },
          "metadata": {},
          "execution_count": 98
        },
        {
          "output_type": "execute_result",
          "data": {
            "text/plain": [
              "MulticlassClassification(\n",
              "  (layer_1): Linear(in_features=26, out_features=512, bias=True)\n",
              "  (layer_2): Linear(in_features=512, out_features=128, bias=True)\n",
              "  (layer_3): Linear(in_features=128, out_features=64, bias=True)\n",
              "  (layer_out): Linear(in_features=64, out_features=3, bias=True)\n",
              "  (relu): ReLU()\n",
              "  (dropout): Dropout(p=0.2, inplace=False)\n",
              "  (batchnorm1): BatchNorm1d(512, eps=1e-05, momentum=0.1, affine=True, track_running_stats=True)\n",
              "  (batchnorm2): BatchNorm1d(128, eps=1e-05, momentum=0.1, affine=True, track_running_stats=True)\n",
              "  (batchnorm3): BatchNorm1d(64, eps=1e-05, momentum=0.1, affine=True, track_running_stats=True)\n",
              ")"
            ]
          },
          "metadata": {},
          "execution_count": 98
        },
        {
          "output_type": "execute_result",
          "data": {
            "text/plain": [
              "MulticlassClassification(\n",
              "  (layer_1): Linear(in_features=26, out_features=512, bias=True)\n",
              "  (layer_2): Linear(in_features=512, out_features=128, bias=True)\n",
              "  (layer_3): Linear(in_features=128, out_features=64, bias=True)\n",
              "  (layer_out): Linear(in_features=64, out_features=3, bias=True)\n",
              "  (relu): ReLU()\n",
              "  (dropout): Dropout(p=0.2, inplace=False)\n",
              "  (batchnorm1): BatchNorm1d(512, eps=1e-05, momentum=0.1, affine=True, track_running_stats=True)\n",
              "  (batchnorm2): BatchNorm1d(128, eps=1e-05, momentum=0.1, affine=True, track_running_stats=True)\n",
              "  (batchnorm3): BatchNorm1d(64, eps=1e-05, momentum=0.1, affine=True, track_running_stats=True)\n",
              ")"
            ]
          },
          "metadata": {},
          "execution_count": 98
        },
        {
          "output_type": "execute_result",
          "data": {
            "text/plain": [
              "MulticlassClassification(\n",
              "  (layer_1): Linear(in_features=26, out_features=512, bias=True)\n",
              "  (layer_2): Linear(in_features=512, out_features=128, bias=True)\n",
              "  (layer_3): Linear(in_features=128, out_features=64, bias=True)\n",
              "  (layer_out): Linear(in_features=64, out_features=3, bias=True)\n",
              "  (relu): ReLU()\n",
              "  (dropout): Dropout(p=0.2, inplace=False)\n",
              "  (batchnorm1): BatchNorm1d(512, eps=1e-05, momentum=0.1, affine=True, track_running_stats=True)\n",
              "  (batchnorm2): BatchNorm1d(128, eps=1e-05, momentum=0.1, affine=True, track_running_stats=True)\n",
              "  (batchnorm3): BatchNorm1d(64, eps=1e-05, momentum=0.1, affine=True, track_running_stats=True)\n",
              ")"
            ]
          },
          "metadata": {},
          "execution_count": 98
        },
        {
          "output_type": "execute_result",
          "data": {
            "text/plain": [
              "MulticlassClassification(\n",
              "  (layer_1): Linear(in_features=26, out_features=512, bias=True)\n",
              "  (layer_2): Linear(in_features=512, out_features=128, bias=True)\n",
              "  (layer_3): Linear(in_features=128, out_features=64, bias=True)\n",
              "  (layer_out): Linear(in_features=64, out_features=3, bias=True)\n",
              "  (relu): ReLU()\n",
              "  (dropout): Dropout(p=0.2, inplace=False)\n",
              "  (batchnorm1): BatchNorm1d(512, eps=1e-05, momentum=0.1, affine=True, track_running_stats=True)\n",
              "  (batchnorm2): BatchNorm1d(128, eps=1e-05, momentum=0.1, affine=True, track_running_stats=True)\n",
              "  (batchnorm3): BatchNorm1d(64, eps=1e-05, momentum=0.1, affine=True, track_running_stats=True)\n",
              ")"
            ]
          },
          "metadata": {},
          "execution_count": 98
        },
        {
          "output_type": "execute_result",
          "data": {
            "text/plain": [
              "MulticlassClassification(\n",
              "  (layer_1): Linear(in_features=26, out_features=512, bias=True)\n",
              "  (layer_2): Linear(in_features=512, out_features=128, bias=True)\n",
              "  (layer_3): Linear(in_features=128, out_features=64, bias=True)\n",
              "  (layer_out): Linear(in_features=64, out_features=3, bias=True)\n",
              "  (relu): ReLU()\n",
              "  (dropout): Dropout(p=0.2, inplace=False)\n",
              "  (batchnorm1): BatchNorm1d(512, eps=1e-05, momentum=0.1, affine=True, track_running_stats=True)\n",
              "  (batchnorm2): BatchNorm1d(128, eps=1e-05, momentum=0.1, affine=True, track_running_stats=True)\n",
              "  (batchnorm3): BatchNorm1d(64, eps=1e-05, momentum=0.1, affine=True, track_running_stats=True)\n",
              ")"
            ]
          },
          "metadata": {},
          "execution_count": 98
        },
        {
          "output_type": "execute_result",
          "data": {
            "text/plain": [
              "MulticlassClassification(\n",
              "  (layer_1): Linear(in_features=26, out_features=512, bias=True)\n",
              "  (layer_2): Linear(in_features=512, out_features=128, bias=True)\n",
              "  (layer_3): Linear(in_features=128, out_features=64, bias=True)\n",
              "  (layer_out): Linear(in_features=64, out_features=3, bias=True)\n",
              "  (relu): ReLU()\n",
              "  (dropout): Dropout(p=0.2, inplace=False)\n",
              "  (batchnorm1): BatchNorm1d(512, eps=1e-05, momentum=0.1, affine=True, track_running_stats=True)\n",
              "  (batchnorm2): BatchNorm1d(128, eps=1e-05, momentum=0.1, affine=True, track_running_stats=True)\n",
              "  (batchnorm3): BatchNorm1d(64, eps=1e-05, momentum=0.1, affine=True, track_running_stats=True)\n",
              ")"
            ]
          },
          "metadata": {},
          "execution_count": 98
        },
        {
          "output_type": "execute_result",
          "data": {
            "text/plain": [
              "MulticlassClassification(\n",
              "  (layer_1): Linear(in_features=26, out_features=512, bias=True)\n",
              "  (layer_2): Linear(in_features=512, out_features=128, bias=True)\n",
              "  (layer_3): Linear(in_features=128, out_features=64, bias=True)\n",
              "  (layer_out): Linear(in_features=64, out_features=3, bias=True)\n",
              "  (relu): ReLU()\n",
              "  (dropout): Dropout(p=0.2, inplace=False)\n",
              "  (batchnorm1): BatchNorm1d(512, eps=1e-05, momentum=0.1, affine=True, track_running_stats=True)\n",
              "  (batchnorm2): BatchNorm1d(128, eps=1e-05, momentum=0.1, affine=True, track_running_stats=True)\n",
              "  (batchnorm3): BatchNorm1d(64, eps=1e-05, momentum=0.1, affine=True, track_running_stats=True)\n",
              ")"
            ]
          },
          "metadata": {},
          "execution_count": 98
        },
        {
          "output_type": "execute_result",
          "data": {
            "text/plain": [
              "MulticlassClassification(\n",
              "  (layer_1): Linear(in_features=26, out_features=512, bias=True)\n",
              "  (layer_2): Linear(in_features=512, out_features=128, bias=True)\n",
              "  (layer_3): Linear(in_features=128, out_features=64, bias=True)\n",
              "  (layer_out): Linear(in_features=64, out_features=3, bias=True)\n",
              "  (relu): ReLU()\n",
              "  (dropout): Dropout(p=0.2, inplace=False)\n",
              "  (batchnorm1): BatchNorm1d(512, eps=1e-05, momentum=0.1, affine=True, track_running_stats=True)\n",
              "  (batchnorm2): BatchNorm1d(128, eps=1e-05, momentum=0.1, affine=True, track_running_stats=True)\n",
              "  (batchnorm3): BatchNorm1d(64, eps=1e-05, momentum=0.1, affine=True, track_running_stats=True)\n",
              ")"
            ]
          },
          "metadata": {},
          "execution_count": 98
        },
        {
          "output_type": "execute_result",
          "data": {
            "text/plain": [
              "MulticlassClassification(\n",
              "  (layer_1): Linear(in_features=26, out_features=512, bias=True)\n",
              "  (layer_2): Linear(in_features=512, out_features=128, bias=True)\n",
              "  (layer_3): Linear(in_features=128, out_features=64, bias=True)\n",
              "  (layer_out): Linear(in_features=64, out_features=3, bias=True)\n",
              "  (relu): ReLU()\n",
              "  (dropout): Dropout(p=0.2, inplace=False)\n",
              "  (batchnorm1): BatchNorm1d(512, eps=1e-05, momentum=0.1, affine=True, track_running_stats=True)\n",
              "  (batchnorm2): BatchNorm1d(128, eps=1e-05, momentum=0.1, affine=True, track_running_stats=True)\n",
              "  (batchnorm3): BatchNorm1d(64, eps=1e-05, momentum=0.1, affine=True, track_running_stats=True)\n",
              ")"
            ]
          },
          "metadata": {},
          "execution_count": 98
        },
        {
          "output_type": "execute_result",
          "data": {
            "text/plain": [
              "MulticlassClassification(\n",
              "  (layer_1): Linear(in_features=26, out_features=512, bias=True)\n",
              "  (layer_2): Linear(in_features=512, out_features=128, bias=True)\n",
              "  (layer_3): Linear(in_features=128, out_features=64, bias=True)\n",
              "  (layer_out): Linear(in_features=64, out_features=3, bias=True)\n",
              "  (relu): ReLU()\n",
              "  (dropout): Dropout(p=0.2, inplace=False)\n",
              "  (batchnorm1): BatchNorm1d(512, eps=1e-05, momentum=0.1, affine=True, track_running_stats=True)\n",
              "  (batchnorm2): BatchNorm1d(128, eps=1e-05, momentum=0.1, affine=True, track_running_stats=True)\n",
              "  (batchnorm3): BatchNorm1d(64, eps=1e-05, momentum=0.1, affine=True, track_running_stats=True)\n",
              ")"
            ]
          },
          "metadata": {},
          "execution_count": 98
        },
        {
          "output_type": "execute_result",
          "data": {
            "text/plain": [
              "MulticlassClassification(\n",
              "  (layer_1): Linear(in_features=26, out_features=512, bias=True)\n",
              "  (layer_2): Linear(in_features=512, out_features=128, bias=True)\n",
              "  (layer_3): Linear(in_features=128, out_features=64, bias=True)\n",
              "  (layer_out): Linear(in_features=64, out_features=3, bias=True)\n",
              "  (relu): ReLU()\n",
              "  (dropout): Dropout(p=0.2, inplace=False)\n",
              "  (batchnorm1): BatchNorm1d(512, eps=1e-05, momentum=0.1, affine=True, track_running_stats=True)\n",
              "  (batchnorm2): BatchNorm1d(128, eps=1e-05, momentum=0.1, affine=True, track_running_stats=True)\n",
              "  (batchnorm3): BatchNorm1d(64, eps=1e-05, momentum=0.1, affine=True, track_running_stats=True)\n",
              ")"
            ]
          },
          "metadata": {},
          "execution_count": 98
        },
        {
          "output_type": "execute_result",
          "data": {
            "text/plain": [
              "MulticlassClassification(\n",
              "  (layer_1): Linear(in_features=26, out_features=512, bias=True)\n",
              "  (layer_2): Linear(in_features=512, out_features=128, bias=True)\n",
              "  (layer_3): Linear(in_features=128, out_features=64, bias=True)\n",
              "  (layer_out): Linear(in_features=64, out_features=3, bias=True)\n",
              "  (relu): ReLU()\n",
              "  (dropout): Dropout(p=0.2, inplace=False)\n",
              "  (batchnorm1): BatchNorm1d(512, eps=1e-05, momentum=0.1, affine=True, track_running_stats=True)\n",
              "  (batchnorm2): BatchNorm1d(128, eps=1e-05, momentum=0.1, affine=True, track_running_stats=True)\n",
              "  (batchnorm3): BatchNorm1d(64, eps=1e-05, momentum=0.1, affine=True, track_running_stats=True)\n",
              ")"
            ]
          },
          "metadata": {},
          "execution_count": 98
        },
        {
          "output_type": "execute_result",
          "data": {
            "text/plain": [
              "MulticlassClassification(\n",
              "  (layer_1): Linear(in_features=26, out_features=512, bias=True)\n",
              "  (layer_2): Linear(in_features=512, out_features=128, bias=True)\n",
              "  (layer_3): Linear(in_features=128, out_features=64, bias=True)\n",
              "  (layer_out): Linear(in_features=64, out_features=3, bias=True)\n",
              "  (relu): ReLU()\n",
              "  (dropout): Dropout(p=0.2, inplace=False)\n",
              "  (batchnorm1): BatchNorm1d(512, eps=1e-05, momentum=0.1, affine=True, track_running_stats=True)\n",
              "  (batchnorm2): BatchNorm1d(128, eps=1e-05, momentum=0.1, affine=True, track_running_stats=True)\n",
              "  (batchnorm3): BatchNorm1d(64, eps=1e-05, momentum=0.1, affine=True, track_running_stats=True)\n",
              ")"
            ]
          },
          "metadata": {},
          "execution_count": 98
        },
        {
          "output_type": "execute_result",
          "data": {
            "text/plain": [
              "MulticlassClassification(\n",
              "  (layer_1): Linear(in_features=26, out_features=512, bias=True)\n",
              "  (layer_2): Linear(in_features=512, out_features=128, bias=True)\n",
              "  (layer_3): Linear(in_features=128, out_features=64, bias=True)\n",
              "  (layer_out): Linear(in_features=64, out_features=3, bias=True)\n",
              "  (relu): ReLU()\n",
              "  (dropout): Dropout(p=0.2, inplace=False)\n",
              "  (batchnorm1): BatchNorm1d(512, eps=1e-05, momentum=0.1, affine=True, track_running_stats=True)\n",
              "  (batchnorm2): BatchNorm1d(128, eps=1e-05, momentum=0.1, affine=True, track_running_stats=True)\n",
              "  (batchnorm3): BatchNorm1d(64, eps=1e-05, momentum=0.1, affine=True, track_running_stats=True)\n",
              ")"
            ]
          },
          "metadata": {},
          "execution_count": 98
        },
        {
          "output_type": "execute_result",
          "data": {
            "text/plain": [
              "MulticlassClassification(\n",
              "  (layer_1): Linear(in_features=26, out_features=512, bias=True)\n",
              "  (layer_2): Linear(in_features=512, out_features=128, bias=True)\n",
              "  (layer_3): Linear(in_features=128, out_features=64, bias=True)\n",
              "  (layer_out): Linear(in_features=64, out_features=3, bias=True)\n",
              "  (relu): ReLU()\n",
              "  (dropout): Dropout(p=0.2, inplace=False)\n",
              "  (batchnorm1): BatchNorm1d(512, eps=1e-05, momentum=0.1, affine=True, track_running_stats=True)\n",
              "  (batchnorm2): BatchNorm1d(128, eps=1e-05, momentum=0.1, affine=True, track_running_stats=True)\n",
              "  (batchnorm3): BatchNorm1d(64, eps=1e-05, momentum=0.1, affine=True, track_running_stats=True)\n",
              ")"
            ]
          },
          "metadata": {},
          "execution_count": 98
        },
        {
          "output_type": "execute_result",
          "data": {
            "text/plain": [
              "MulticlassClassification(\n",
              "  (layer_1): Linear(in_features=26, out_features=512, bias=True)\n",
              "  (layer_2): Linear(in_features=512, out_features=128, bias=True)\n",
              "  (layer_3): Linear(in_features=128, out_features=64, bias=True)\n",
              "  (layer_out): Linear(in_features=64, out_features=3, bias=True)\n",
              "  (relu): ReLU()\n",
              "  (dropout): Dropout(p=0.2, inplace=False)\n",
              "  (batchnorm1): BatchNorm1d(512, eps=1e-05, momentum=0.1, affine=True, track_running_stats=True)\n",
              "  (batchnorm2): BatchNorm1d(128, eps=1e-05, momentum=0.1, affine=True, track_running_stats=True)\n",
              "  (batchnorm3): BatchNorm1d(64, eps=1e-05, momentum=0.1, affine=True, track_running_stats=True)\n",
              ")"
            ]
          },
          "metadata": {},
          "execution_count": 98
        },
        {
          "output_type": "execute_result",
          "data": {
            "text/plain": [
              "MulticlassClassification(\n",
              "  (layer_1): Linear(in_features=26, out_features=512, bias=True)\n",
              "  (layer_2): Linear(in_features=512, out_features=128, bias=True)\n",
              "  (layer_3): Linear(in_features=128, out_features=64, bias=True)\n",
              "  (layer_out): Linear(in_features=64, out_features=3, bias=True)\n",
              "  (relu): ReLU()\n",
              "  (dropout): Dropout(p=0.2, inplace=False)\n",
              "  (batchnorm1): BatchNorm1d(512, eps=1e-05, momentum=0.1, affine=True, track_running_stats=True)\n",
              "  (batchnorm2): BatchNorm1d(128, eps=1e-05, momentum=0.1, affine=True, track_running_stats=True)\n",
              "  (batchnorm3): BatchNorm1d(64, eps=1e-05, momentum=0.1, affine=True, track_running_stats=True)\n",
              ")"
            ]
          },
          "metadata": {},
          "execution_count": 98
        },
        {
          "output_type": "execute_result",
          "data": {
            "text/plain": [
              "MulticlassClassification(\n",
              "  (layer_1): Linear(in_features=26, out_features=512, bias=True)\n",
              "  (layer_2): Linear(in_features=512, out_features=128, bias=True)\n",
              "  (layer_3): Linear(in_features=128, out_features=64, bias=True)\n",
              "  (layer_out): Linear(in_features=64, out_features=3, bias=True)\n",
              "  (relu): ReLU()\n",
              "  (dropout): Dropout(p=0.2, inplace=False)\n",
              "  (batchnorm1): BatchNorm1d(512, eps=1e-05, momentum=0.1, affine=True, track_running_stats=True)\n",
              "  (batchnorm2): BatchNorm1d(128, eps=1e-05, momentum=0.1, affine=True, track_running_stats=True)\n",
              "  (batchnorm3): BatchNorm1d(64, eps=1e-05, momentum=0.1, affine=True, track_running_stats=True)\n",
              ")"
            ]
          },
          "metadata": {},
          "execution_count": 98
        },
        {
          "output_type": "execute_result",
          "data": {
            "text/plain": [
              "MulticlassClassification(\n",
              "  (layer_1): Linear(in_features=26, out_features=512, bias=True)\n",
              "  (layer_2): Linear(in_features=512, out_features=128, bias=True)\n",
              "  (layer_3): Linear(in_features=128, out_features=64, bias=True)\n",
              "  (layer_out): Linear(in_features=64, out_features=3, bias=True)\n",
              "  (relu): ReLU()\n",
              "  (dropout): Dropout(p=0.2, inplace=False)\n",
              "  (batchnorm1): BatchNorm1d(512, eps=1e-05, momentum=0.1, affine=True, track_running_stats=True)\n",
              "  (batchnorm2): BatchNorm1d(128, eps=1e-05, momentum=0.1, affine=True, track_running_stats=True)\n",
              "  (batchnorm3): BatchNorm1d(64, eps=1e-05, momentum=0.1, affine=True, track_running_stats=True)\n",
              ")"
            ]
          },
          "metadata": {},
          "execution_count": 98
        },
        {
          "output_type": "execute_result",
          "data": {
            "text/plain": [
              "MulticlassClassification(\n",
              "  (layer_1): Linear(in_features=26, out_features=512, bias=True)\n",
              "  (layer_2): Linear(in_features=512, out_features=128, bias=True)\n",
              "  (layer_3): Linear(in_features=128, out_features=64, bias=True)\n",
              "  (layer_out): Linear(in_features=64, out_features=3, bias=True)\n",
              "  (relu): ReLU()\n",
              "  (dropout): Dropout(p=0.2, inplace=False)\n",
              "  (batchnorm1): BatchNorm1d(512, eps=1e-05, momentum=0.1, affine=True, track_running_stats=True)\n",
              "  (batchnorm2): BatchNorm1d(128, eps=1e-05, momentum=0.1, affine=True, track_running_stats=True)\n",
              "  (batchnorm3): BatchNorm1d(64, eps=1e-05, momentum=0.1, affine=True, track_running_stats=True)\n",
              ")"
            ]
          },
          "metadata": {},
          "execution_count": 98
        },
        {
          "output_type": "execute_result",
          "data": {
            "text/plain": [
              "MulticlassClassification(\n",
              "  (layer_1): Linear(in_features=26, out_features=512, bias=True)\n",
              "  (layer_2): Linear(in_features=512, out_features=128, bias=True)\n",
              "  (layer_3): Linear(in_features=128, out_features=64, bias=True)\n",
              "  (layer_out): Linear(in_features=64, out_features=3, bias=True)\n",
              "  (relu): ReLU()\n",
              "  (dropout): Dropout(p=0.2, inplace=False)\n",
              "  (batchnorm1): BatchNorm1d(512, eps=1e-05, momentum=0.1, affine=True, track_running_stats=True)\n",
              "  (batchnorm2): BatchNorm1d(128, eps=1e-05, momentum=0.1, affine=True, track_running_stats=True)\n",
              "  (batchnorm3): BatchNorm1d(64, eps=1e-05, momentum=0.1, affine=True, track_running_stats=True)\n",
              ")"
            ]
          },
          "metadata": {},
          "execution_count": 98
        },
        {
          "output_type": "execute_result",
          "data": {
            "text/plain": [
              "MulticlassClassification(\n",
              "  (layer_1): Linear(in_features=26, out_features=512, bias=True)\n",
              "  (layer_2): Linear(in_features=512, out_features=128, bias=True)\n",
              "  (layer_3): Linear(in_features=128, out_features=64, bias=True)\n",
              "  (layer_out): Linear(in_features=64, out_features=3, bias=True)\n",
              "  (relu): ReLU()\n",
              "  (dropout): Dropout(p=0.2, inplace=False)\n",
              "  (batchnorm1): BatchNorm1d(512, eps=1e-05, momentum=0.1, affine=True, track_running_stats=True)\n",
              "  (batchnorm2): BatchNorm1d(128, eps=1e-05, momentum=0.1, affine=True, track_running_stats=True)\n",
              "  (batchnorm3): BatchNorm1d(64, eps=1e-05, momentum=0.1, affine=True, track_running_stats=True)\n",
              ")"
            ]
          },
          "metadata": {},
          "execution_count": 98
        },
        {
          "output_type": "execute_result",
          "data": {
            "text/plain": [
              "MulticlassClassification(\n",
              "  (layer_1): Linear(in_features=26, out_features=512, bias=True)\n",
              "  (layer_2): Linear(in_features=512, out_features=128, bias=True)\n",
              "  (layer_3): Linear(in_features=128, out_features=64, bias=True)\n",
              "  (layer_out): Linear(in_features=64, out_features=3, bias=True)\n",
              "  (relu): ReLU()\n",
              "  (dropout): Dropout(p=0.2, inplace=False)\n",
              "  (batchnorm1): BatchNorm1d(512, eps=1e-05, momentum=0.1, affine=True, track_running_stats=True)\n",
              "  (batchnorm2): BatchNorm1d(128, eps=1e-05, momentum=0.1, affine=True, track_running_stats=True)\n",
              "  (batchnorm3): BatchNorm1d(64, eps=1e-05, momentum=0.1, affine=True, track_running_stats=True)\n",
              ")"
            ]
          },
          "metadata": {},
          "execution_count": 98
        },
        {
          "output_type": "execute_result",
          "data": {
            "text/plain": [
              "MulticlassClassification(\n",
              "  (layer_1): Linear(in_features=26, out_features=512, bias=True)\n",
              "  (layer_2): Linear(in_features=512, out_features=128, bias=True)\n",
              "  (layer_3): Linear(in_features=128, out_features=64, bias=True)\n",
              "  (layer_out): Linear(in_features=64, out_features=3, bias=True)\n",
              "  (relu): ReLU()\n",
              "  (dropout): Dropout(p=0.2, inplace=False)\n",
              "  (batchnorm1): BatchNorm1d(512, eps=1e-05, momentum=0.1, affine=True, track_running_stats=True)\n",
              "  (batchnorm2): BatchNorm1d(128, eps=1e-05, momentum=0.1, affine=True, track_running_stats=True)\n",
              "  (batchnorm3): BatchNorm1d(64, eps=1e-05, momentum=0.1, affine=True, track_running_stats=True)\n",
              ")"
            ]
          },
          "metadata": {},
          "execution_count": 98
        },
        {
          "output_type": "execute_result",
          "data": {
            "text/plain": [
              "MulticlassClassification(\n",
              "  (layer_1): Linear(in_features=26, out_features=512, bias=True)\n",
              "  (layer_2): Linear(in_features=512, out_features=128, bias=True)\n",
              "  (layer_3): Linear(in_features=128, out_features=64, bias=True)\n",
              "  (layer_out): Linear(in_features=64, out_features=3, bias=True)\n",
              "  (relu): ReLU()\n",
              "  (dropout): Dropout(p=0.2, inplace=False)\n",
              "  (batchnorm1): BatchNorm1d(512, eps=1e-05, momentum=0.1, affine=True, track_running_stats=True)\n",
              "  (batchnorm2): BatchNorm1d(128, eps=1e-05, momentum=0.1, affine=True, track_running_stats=True)\n",
              "  (batchnorm3): BatchNorm1d(64, eps=1e-05, momentum=0.1, affine=True, track_running_stats=True)\n",
              ")"
            ]
          },
          "metadata": {},
          "execution_count": 98
        },
        {
          "output_type": "execute_result",
          "data": {
            "text/plain": [
              "MulticlassClassification(\n",
              "  (layer_1): Linear(in_features=26, out_features=512, bias=True)\n",
              "  (layer_2): Linear(in_features=512, out_features=128, bias=True)\n",
              "  (layer_3): Linear(in_features=128, out_features=64, bias=True)\n",
              "  (layer_out): Linear(in_features=64, out_features=3, bias=True)\n",
              "  (relu): ReLU()\n",
              "  (dropout): Dropout(p=0.2, inplace=False)\n",
              "  (batchnorm1): BatchNorm1d(512, eps=1e-05, momentum=0.1, affine=True, track_running_stats=True)\n",
              "  (batchnorm2): BatchNorm1d(128, eps=1e-05, momentum=0.1, affine=True, track_running_stats=True)\n",
              "  (batchnorm3): BatchNorm1d(64, eps=1e-05, momentum=0.1, affine=True, track_running_stats=True)\n",
              ")"
            ]
          },
          "metadata": {},
          "execution_count": 98
        },
        {
          "output_type": "execute_result",
          "data": {
            "text/plain": [
              "MulticlassClassification(\n",
              "  (layer_1): Linear(in_features=26, out_features=512, bias=True)\n",
              "  (layer_2): Linear(in_features=512, out_features=128, bias=True)\n",
              "  (layer_3): Linear(in_features=128, out_features=64, bias=True)\n",
              "  (layer_out): Linear(in_features=64, out_features=3, bias=True)\n",
              "  (relu): ReLU()\n",
              "  (dropout): Dropout(p=0.2, inplace=False)\n",
              "  (batchnorm1): BatchNorm1d(512, eps=1e-05, momentum=0.1, affine=True, track_running_stats=True)\n",
              "  (batchnorm2): BatchNorm1d(128, eps=1e-05, momentum=0.1, affine=True, track_running_stats=True)\n",
              "  (batchnorm3): BatchNorm1d(64, eps=1e-05, momentum=0.1, affine=True, track_running_stats=True)\n",
              ")"
            ]
          },
          "metadata": {},
          "execution_count": 98
        },
        {
          "output_type": "execute_result",
          "data": {
            "text/plain": [
              "MulticlassClassification(\n",
              "  (layer_1): Linear(in_features=26, out_features=512, bias=True)\n",
              "  (layer_2): Linear(in_features=512, out_features=128, bias=True)\n",
              "  (layer_3): Linear(in_features=128, out_features=64, bias=True)\n",
              "  (layer_out): Linear(in_features=64, out_features=3, bias=True)\n",
              "  (relu): ReLU()\n",
              "  (dropout): Dropout(p=0.2, inplace=False)\n",
              "  (batchnorm1): BatchNorm1d(512, eps=1e-05, momentum=0.1, affine=True, track_running_stats=True)\n",
              "  (batchnorm2): BatchNorm1d(128, eps=1e-05, momentum=0.1, affine=True, track_running_stats=True)\n",
              "  (batchnorm3): BatchNorm1d(64, eps=1e-05, momentum=0.1, affine=True, track_running_stats=True)\n",
              ")"
            ]
          },
          "metadata": {},
          "execution_count": 98
        },
        {
          "output_type": "execute_result",
          "data": {
            "text/plain": [
              "MulticlassClassification(\n",
              "  (layer_1): Linear(in_features=26, out_features=512, bias=True)\n",
              "  (layer_2): Linear(in_features=512, out_features=128, bias=True)\n",
              "  (layer_3): Linear(in_features=128, out_features=64, bias=True)\n",
              "  (layer_out): Linear(in_features=64, out_features=3, bias=True)\n",
              "  (relu): ReLU()\n",
              "  (dropout): Dropout(p=0.2, inplace=False)\n",
              "  (batchnorm1): BatchNorm1d(512, eps=1e-05, momentum=0.1, affine=True, track_running_stats=True)\n",
              "  (batchnorm2): BatchNorm1d(128, eps=1e-05, momentum=0.1, affine=True, track_running_stats=True)\n",
              "  (batchnorm3): BatchNorm1d(64, eps=1e-05, momentum=0.1, affine=True, track_running_stats=True)\n",
              ")"
            ]
          },
          "metadata": {},
          "execution_count": 98
        },
        {
          "output_type": "execute_result",
          "data": {
            "text/plain": [
              "MulticlassClassification(\n",
              "  (layer_1): Linear(in_features=26, out_features=512, bias=True)\n",
              "  (layer_2): Linear(in_features=512, out_features=128, bias=True)\n",
              "  (layer_3): Linear(in_features=128, out_features=64, bias=True)\n",
              "  (layer_out): Linear(in_features=64, out_features=3, bias=True)\n",
              "  (relu): ReLU()\n",
              "  (dropout): Dropout(p=0.2, inplace=False)\n",
              "  (batchnorm1): BatchNorm1d(512, eps=1e-05, momentum=0.1, affine=True, track_running_stats=True)\n",
              "  (batchnorm2): BatchNorm1d(128, eps=1e-05, momentum=0.1, affine=True, track_running_stats=True)\n",
              "  (batchnorm3): BatchNorm1d(64, eps=1e-05, momentum=0.1, affine=True, track_running_stats=True)\n",
              ")"
            ]
          },
          "metadata": {},
          "execution_count": 98
        },
        {
          "output_type": "execute_result",
          "data": {
            "text/plain": [
              "MulticlassClassification(\n",
              "  (layer_1): Linear(in_features=26, out_features=512, bias=True)\n",
              "  (layer_2): Linear(in_features=512, out_features=128, bias=True)\n",
              "  (layer_3): Linear(in_features=128, out_features=64, bias=True)\n",
              "  (layer_out): Linear(in_features=64, out_features=3, bias=True)\n",
              "  (relu): ReLU()\n",
              "  (dropout): Dropout(p=0.2, inplace=False)\n",
              "  (batchnorm1): BatchNorm1d(512, eps=1e-05, momentum=0.1, affine=True, track_running_stats=True)\n",
              "  (batchnorm2): BatchNorm1d(128, eps=1e-05, momentum=0.1, affine=True, track_running_stats=True)\n",
              "  (batchnorm3): BatchNorm1d(64, eps=1e-05, momentum=0.1, affine=True, track_running_stats=True)\n",
              ")"
            ]
          },
          "metadata": {},
          "execution_count": 98
        },
        {
          "output_type": "execute_result",
          "data": {
            "text/plain": [
              "MulticlassClassification(\n",
              "  (layer_1): Linear(in_features=26, out_features=512, bias=True)\n",
              "  (layer_2): Linear(in_features=512, out_features=128, bias=True)\n",
              "  (layer_3): Linear(in_features=128, out_features=64, bias=True)\n",
              "  (layer_out): Linear(in_features=64, out_features=3, bias=True)\n",
              "  (relu): ReLU()\n",
              "  (dropout): Dropout(p=0.2, inplace=False)\n",
              "  (batchnorm1): BatchNorm1d(512, eps=1e-05, momentum=0.1, affine=True, track_running_stats=True)\n",
              "  (batchnorm2): BatchNorm1d(128, eps=1e-05, momentum=0.1, affine=True, track_running_stats=True)\n",
              "  (batchnorm3): BatchNorm1d(64, eps=1e-05, momentum=0.1, affine=True, track_running_stats=True)\n",
              ")"
            ]
          },
          "metadata": {},
          "execution_count": 98
        },
        {
          "output_type": "execute_result",
          "data": {
            "text/plain": [
              "MulticlassClassification(\n",
              "  (layer_1): Linear(in_features=26, out_features=512, bias=True)\n",
              "  (layer_2): Linear(in_features=512, out_features=128, bias=True)\n",
              "  (layer_3): Linear(in_features=128, out_features=64, bias=True)\n",
              "  (layer_out): Linear(in_features=64, out_features=3, bias=True)\n",
              "  (relu): ReLU()\n",
              "  (dropout): Dropout(p=0.2, inplace=False)\n",
              "  (batchnorm1): BatchNorm1d(512, eps=1e-05, momentum=0.1, affine=True, track_running_stats=True)\n",
              "  (batchnorm2): BatchNorm1d(128, eps=1e-05, momentum=0.1, affine=True, track_running_stats=True)\n",
              "  (batchnorm3): BatchNorm1d(64, eps=1e-05, momentum=0.1, affine=True, track_running_stats=True)\n",
              ")"
            ]
          },
          "metadata": {},
          "execution_count": 98
        },
        {
          "output_type": "execute_result",
          "data": {
            "text/plain": [
              "MulticlassClassification(\n",
              "  (layer_1): Linear(in_features=26, out_features=512, bias=True)\n",
              "  (layer_2): Linear(in_features=512, out_features=128, bias=True)\n",
              "  (layer_3): Linear(in_features=128, out_features=64, bias=True)\n",
              "  (layer_out): Linear(in_features=64, out_features=3, bias=True)\n",
              "  (relu): ReLU()\n",
              "  (dropout): Dropout(p=0.2, inplace=False)\n",
              "  (batchnorm1): BatchNorm1d(512, eps=1e-05, momentum=0.1, affine=True, track_running_stats=True)\n",
              "  (batchnorm2): BatchNorm1d(128, eps=1e-05, momentum=0.1, affine=True, track_running_stats=True)\n",
              "  (batchnorm3): BatchNorm1d(64, eps=1e-05, momentum=0.1, affine=True, track_running_stats=True)\n",
              ")"
            ]
          },
          "metadata": {},
          "execution_count": 98
        },
        {
          "output_type": "execute_result",
          "data": {
            "text/plain": [
              "MulticlassClassification(\n",
              "  (layer_1): Linear(in_features=26, out_features=512, bias=True)\n",
              "  (layer_2): Linear(in_features=512, out_features=128, bias=True)\n",
              "  (layer_3): Linear(in_features=128, out_features=64, bias=True)\n",
              "  (layer_out): Linear(in_features=64, out_features=3, bias=True)\n",
              "  (relu): ReLU()\n",
              "  (dropout): Dropout(p=0.2, inplace=False)\n",
              "  (batchnorm1): BatchNorm1d(512, eps=1e-05, momentum=0.1, affine=True, track_running_stats=True)\n",
              "  (batchnorm2): BatchNorm1d(128, eps=1e-05, momentum=0.1, affine=True, track_running_stats=True)\n",
              "  (batchnorm3): BatchNorm1d(64, eps=1e-05, momentum=0.1, affine=True, track_running_stats=True)\n",
              ")"
            ]
          },
          "metadata": {},
          "execution_count": 98
        },
        {
          "output_type": "execute_result",
          "data": {
            "text/plain": [
              "MulticlassClassification(\n",
              "  (layer_1): Linear(in_features=26, out_features=512, bias=True)\n",
              "  (layer_2): Linear(in_features=512, out_features=128, bias=True)\n",
              "  (layer_3): Linear(in_features=128, out_features=64, bias=True)\n",
              "  (layer_out): Linear(in_features=64, out_features=3, bias=True)\n",
              "  (relu): ReLU()\n",
              "  (dropout): Dropout(p=0.2, inplace=False)\n",
              "  (batchnorm1): BatchNorm1d(512, eps=1e-05, momentum=0.1, affine=True, track_running_stats=True)\n",
              "  (batchnorm2): BatchNorm1d(128, eps=1e-05, momentum=0.1, affine=True, track_running_stats=True)\n",
              "  (batchnorm3): BatchNorm1d(64, eps=1e-05, momentum=0.1, affine=True, track_running_stats=True)\n",
              ")"
            ]
          },
          "metadata": {},
          "execution_count": 98
        },
        {
          "output_type": "execute_result",
          "data": {
            "text/plain": [
              "MulticlassClassification(\n",
              "  (layer_1): Linear(in_features=26, out_features=512, bias=True)\n",
              "  (layer_2): Linear(in_features=512, out_features=128, bias=True)\n",
              "  (layer_3): Linear(in_features=128, out_features=64, bias=True)\n",
              "  (layer_out): Linear(in_features=64, out_features=3, bias=True)\n",
              "  (relu): ReLU()\n",
              "  (dropout): Dropout(p=0.2, inplace=False)\n",
              "  (batchnorm1): BatchNorm1d(512, eps=1e-05, momentum=0.1, affine=True, track_running_stats=True)\n",
              "  (batchnorm2): BatchNorm1d(128, eps=1e-05, momentum=0.1, affine=True, track_running_stats=True)\n",
              "  (batchnorm3): BatchNorm1d(64, eps=1e-05, momentum=0.1, affine=True, track_running_stats=True)\n",
              ")"
            ]
          },
          "metadata": {},
          "execution_count": 98
        },
        {
          "output_type": "execute_result",
          "data": {
            "text/plain": [
              "MulticlassClassification(\n",
              "  (layer_1): Linear(in_features=26, out_features=512, bias=True)\n",
              "  (layer_2): Linear(in_features=512, out_features=128, bias=True)\n",
              "  (layer_3): Linear(in_features=128, out_features=64, bias=True)\n",
              "  (layer_out): Linear(in_features=64, out_features=3, bias=True)\n",
              "  (relu): ReLU()\n",
              "  (dropout): Dropout(p=0.2, inplace=False)\n",
              "  (batchnorm1): BatchNorm1d(512, eps=1e-05, momentum=0.1, affine=True, track_running_stats=True)\n",
              "  (batchnorm2): BatchNorm1d(128, eps=1e-05, momentum=0.1, affine=True, track_running_stats=True)\n",
              "  (batchnorm3): BatchNorm1d(64, eps=1e-05, momentum=0.1, affine=True, track_running_stats=True)\n",
              ")"
            ]
          },
          "metadata": {},
          "execution_count": 98
        },
        {
          "output_type": "execute_result",
          "data": {
            "text/plain": [
              "MulticlassClassification(\n",
              "  (layer_1): Linear(in_features=26, out_features=512, bias=True)\n",
              "  (layer_2): Linear(in_features=512, out_features=128, bias=True)\n",
              "  (layer_3): Linear(in_features=128, out_features=64, bias=True)\n",
              "  (layer_out): Linear(in_features=64, out_features=3, bias=True)\n",
              "  (relu): ReLU()\n",
              "  (dropout): Dropout(p=0.2, inplace=False)\n",
              "  (batchnorm1): BatchNorm1d(512, eps=1e-05, momentum=0.1, affine=True, track_running_stats=True)\n",
              "  (batchnorm2): BatchNorm1d(128, eps=1e-05, momentum=0.1, affine=True, track_running_stats=True)\n",
              "  (batchnorm3): BatchNorm1d(64, eps=1e-05, momentum=0.1, affine=True, track_running_stats=True)\n",
              ")"
            ]
          },
          "metadata": {},
          "execution_count": 98
        },
        {
          "output_type": "execute_result",
          "data": {
            "text/plain": [
              "MulticlassClassification(\n",
              "  (layer_1): Linear(in_features=26, out_features=512, bias=True)\n",
              "  (layer_2): Linear(in_features=512, out_features=128, bias=True)\n",
              "  (layer_3): Linear(in_features=128, out_features=64, bias=True)\n",
              "  (layer_out): Linear(in_features=64, out_features=3, bias=True)\n",
              "  (relu): ReLU()\n",
              "  (dropout): Dropout(p=0.2, inplace=False)\n",
              "  (batchnorm1): BatchNorm1d(512, eps=1e-05, momentum=0.1, affine=True, track_running_stats=True)\n",
              "  (batchnorm2): BatchNorm1d(128, eps=1e-05, momentum=0.1, affine=True, track_running_stats=True)\n",
              "  (batchnorm3): BatchNorm1d(64, eps=1e-05, momentum=0.1, affine=True, track_running_stats=True)\n",
              ")"
            ]
          },
          "metadata": {},
          "execution_count": 98
        },
        {
          "output_type": "execute_result",
          "data": {
            "text/plain": [
              "MulticlassClassification(\n",
              "  (layer_1): Linear(in_features=26, out_features=512, bias=True)\n",
              "  (layer_2): Linear(in_features=512, out_features=128, bias=True)\n",
              "  (layer_3): Linear(in_features=128, out_features=64, bias=True)\n",
              "  (layer_out): Linear(in_features=64, out_features=3, bias=True)\n",
              "  (relu): ReLU()\n",
              "  (dropout): Dropout(p=0.2, inplace=False)\n",
              "  (batchnorm1): BatchNorm1d(512, eps=1e-05, momentum=0.1, affine=True, track_running_stats=True)\n",
              "  (batchnorm2): BatchNorm1d(128, eps=1e-05, momentum=0.1, affine=True, track_running_stats=True)\n",
              "  (batchnorm3): BatchNorm1d(64, eps=1e-05, momentum=0.1, affine=True, track_running_stats=True)\n",
              ")"
            ]
          },
          "metadata": {},
          "execution_count": 98
        },
        {
          "output_type": "execute_result",
          "data": {
            "text/plain": [
              "MulticlassClassification(\n",
              "  (layer_1): Linear(in_features=26, out_features=512, bias=True)\n",
              "  (layer_2): Linear(in_features=512, out_features=128, bias=True)\n",
              "  (layer_3): Linear(in_features=128, out_features=64, bias=True)\n",
              "  (layer_out): Linear(in_features=64, out_features=3, bias=True)\n",
              "  (relu): ReLU()\n",
              "  (dropout): Dropout(p=0.2, inplace=False)\n",
              "  (batchnorm1): BatchNorm1d(512, eps=1e-05, momentum=0.1, affine=True, track_running_stats=True)\n",
              "  (batchnorm2): BatchNorm1d(128, eps=1e-05, momentum=0.1, affine=True, track_running_stats=True)\n",
              "  (batchnorm3): BatchNorm1d(64, eps=1e-05, momentum=0.1, affine=True, track_running_stats=True)\n",
              ")"
            ]
          },
          "metadata": {},
          "execution_count": 98
        },
        {
          "output_type": "execute_result",
          "data": {
            "text/plain": [
              "MulticlassClassification(\n",
              "  (layer_1): Linear(in_features=26, out_features=512, bias=True)\n",
              "  (layer_2): Linear(in_features=512, out_features=128, bias=True)\n",
              "  (layer_3): Linear(in_features=128, out_features=64, bias=True)\n",
              "  (layer_out): Linear(in_features=64, out_features=3, bias=True)\n",
              "  (relu): ReLU()\n",
              "  (dropout): Dropout(p=0.2, inplace=False)\n",
              "  (batchnorm1): BatchNorm1d(512, eps=1e-05, momentum=0.1, affine=True, track_running_stats=True)\n",
              "  (batchnorm2): BatchNorm1d(128, eps=1e-05, momentum=0.1, affine=True, track_running_stats=True)\n",
              "  (batchnorm3): BatchNorm1d(64, eps=1e-05, momentum=0.1, affine=True, track_running_stats=True)\n",
              ")"
            ]
          },
          "metadata": {},
          "execution_count": 98
        },
        {
          "output_type": "execute_result",
          "data": {
            "text/plain": [
              "MulticlassClassification(\n",
              "  (layer_1): Linear(in_features=26, out_features=512, bias=True)\n",
              "  (layer_2): Linear(in_features=512, out_features=128, bias=True)\n",
              "  (layer_3): Linear(in_features=128, out_features=64, bias=True)\n",
              "  (layer_out): Linear(in_features=64, out_features=3, bias=True)\n",
              "  (relu): ReLU()\n",
              "  (dropout): Dropout(p=0.2, inplace=False)\n",
              "  (batchnorm1): BatchNorm1d(512, eps=1e-05, momentum=0.1, affine=True, track_running_stats=True)\n",
              "  (batchnorm2): BatchNorm1d(128, eps=1e-05, momentum=0.1, affine=True, track_running_stats=True)\n",
              "  (batchnorm3): BatchNorm1d(64, eps=1e-05, momentum=0.1, affine=True, track_running_stats=True)\n",
              ")"
            ]
          },
          "metadata": {},
          "execution_count": 98
        },
        {
          "output_type": "execute_result",
          "data": {
            "text/plain": [
              "MulticlassClassification(\n",
              "  (layer_1): Linear(in_features=26, out_features=512, bias=True)\n",
              "  (layer_2): Linear(in_features=512, out_features=128, bias=True)\n",
              "  (layer_3): Linear(in_features=128, out_features=64, bias=True)\n",
              "  (layer_out): Linear(in_features=64, out_features=3, bias=True)\n",
              "  (relu): ReLU()\n",
              "  (dropout): Dropout(p=0.2, inplace=False)\n",
              "  (batchnorm1): BatchNorm1d(512, eps=1e-05, momentum=0.1, affine=True, track_running_stats=True)\n",
              "  (batchnorm2): BatchNorm1d(128, eps=1e-05, momentum=0.1, affine=True, track_running_stats=True)\n",
              "  (batchnorm3): BatchNorm1d(64, eps=1e-05, momentum=0.1, affine=True, track_running_stats=True)\n",
              ")"
            ]
          },
          "metadata": {},
          "execution_count": 98
        },
        {
          "output_type": "execute_result",
          "data": {
            "text/plain": [
              "MulticlassClassification(\n",
              "  (layer_1): Linear(in_features=26, out_features=512, bias=True)\n",
              "  (layer_2): Linear(in_features=512, out_features=128, bias=True)\n",
              "  (layer_3): Linear(in_features=128, out_features=64, bias=True)\n",
              "  (layer_out): Linear(in_features=64, out_features=3, bias=True)\n",
              "  (relu): ReLU()\n",
              "  (dropout): Dropout(p=0.2, inplace=False)\n",
              "  (batchnorm1): BatchNorm1d(512, eps=1e-05, momentum=0.1, affine=True, track_running_stats=True)\n",
              "  (batchnorm2): BatchNorm1d(128, eps=1e-05, momentum=0.1, affine=True, track_running_stats=True)\n",
              "  (batchnorm3): BatchNorm1d(64, eps=1e-05, momentum=0.1, affine=True, track_running_stats=True)\n",
              ")"
            ]
          },
          "metadata": {},
          "execution_count": 98
        },
        {
          "output_type": "execute_result",
          "data": {
            "text/plain": [
              "MulticlassClassification(\n",
              "  (layer_1): Linear(in_features=26, out_features=512, bias=True)\n",
              "  (layer_2): Linear(in_features=512, out_features=128, bias=True)\n",
              "  (layer_3): Linear(in_features=128, out_features=64, bias=True)\n",
              "  (layer_out): Linear(in_features=64, out_features=3, bias=True)\n",
              "  (relu): ReLU()\n",
              "  (dropout): Dropout(p=0.2, inplace=False)\n",
              "  (batchnorm1): BatchNorm1d(512, eps=1e-05, momentum=0.1, affine=True, track_running_stats=True)\n",
              "  (batchnorm2): BatchNorm1d(128, eps=1e-05, momentum=0.1, affine=True, track_running_stats=True)\n",
              "  (batchnorm3): BatchNorm1d(64, eps=1e-05, momentum=0.1, affine=True, track_running_stats=True)\n",
              ")"
            ]
          },
          "metadata": {},
          "execution_count": 98
        },
        {
          "output_type": "execute_result",
          "data": {
            "text/plain": [
              "MulticlassClassification(\n",
              "  (layer_1): Linear(in_features=26, out_features=512, bias=True)\n",
              "  (layer_2): Linear(in_features=512, out_features=128, bias=True)\n",
              "  (layer_3): Linear(in_features=128, out_features=64, bias=True)\n",
              "  (layer_out): Linear(in_features=64, out_features=3, bias=True)\n",
              "  (relu): ReLU()\n",
              "  (dropout): Dropout(p=0.2, inplace=False)\n",
              "  (batchnorm1): BatchNorm1d(512, eps=1e-05, momentum=0.1, affine=True, track_running_stats=True)\n",
              "  (batchnorm2): BatchNorm1d(128, eps=1e-05, momentum=0.1, affine=True, track_running_stats=True)\n",
              "  (batchnorm3): BatchNorm1d(64, eps=1e-05, momentum=0.1, affine=True, track_running_stats=True)\n",
              ")"
            ]
          },
          "metadata": {},
          "execution_count": 98
        },
        {
          "output_type": "execute_result",
          "data": {
            "text/plain": [
              "MulticlassClassification(\n",
              "  (layer_1): Linear(in_features=26, out_features=512, bias=True)\n",
              "  (layer_2): Linear(in_features=512, out_features=128, bias=True)\n",
              "  (layer_3): Linear(in_features=128, out_features=64, bias=True)\n",
              "  (layer_out): Linear(in_features=64, out_features=3, bias=True)\n",
              "  (relu): ReLU()\n",
              "  (dropout): Dropout(p=0.2, inplace=False)\n",
              "  (batchnorm1): BatchNorm1d(512, eps=1e-05, momentum=0.1, affine=True, track_running_stats=True)\n",
              "  (batchnorm2): BatchNorm1d(128, eps=1e-05, momentum=0.1, affine=True, track_running_stats=True)\n",
              "  (batchnorm3): BatchNorm1d(64, eps=1e-05, momentum=0.1, affine=True, track_running_stats=True)\n",
              ")"
            ]
          },
          "metadata": {},
          "execution_count": 98
        },
        {
          "output_type": "execute_result",
          "data": {
            "text/plain": [
              "MulticlassClassification(\n",
              "  (layer_1): Linear(in_features=26, out_features=512, bias=True)\n",
              "  (layer_2): Linear(in_features=512, out_features=128, bias=True)\n",
              "  (layer_3): Linear(in_features=128, out_features=64, bias=True)\n",
              "  (layer_out): Linear(in_features=64, out_features=3, bias=True)\n",
              "  (relu): ReLU()\n",
              "  (dropout): Dropout(p=0.2, inplace=False)\n",
              "  (batchnorm1): BatchNorm1d(512, eps=1e-05, momentum=0.1, affine=True, track_running_stats=True)\n",
              "  (batchnorm2): BatchNorm1d(128, eps=1e-05, momentum=0.1, affine=True, track_running_stats=True)\n",
              "  (batchnorm3): BatchNorm1d(64, eps=1e-05, momentum=0.1, affine=True, track_running_stats=True)\n",
              ")"
            ]
          },
          "metadata": {},
          "execution_count": 98
        },
        {
          "output_type": "execute_result",
          "data": {
            "text/plain": [
              "MulticlassClassification(\n",
              "  (layer_1): Linear(in_features=26, out_features=512, bias=True)\n",
              "  (layer_2): Linear(in_features=512, out_features=128, bias=True)\n",
              "  (layer_3): Linear(in_features=128, out_features=64, bias=True)\n",
              "  (layer_out): Linear(in_features=64, out_features=3, bias=True)\n",
              "  (relu): ReLU()\n",
              "  (dropout): Dropout(p=0.2, inplace=False)\n",
              "  (batchnorm1): BatchNorm1d(512, eps=1e-05, momentum=0.1, affine=True, track_running_stats=True)\n",
              "  (batchnorm2): BatchNorm1d(128, eps=1e-05, momentum=0.1, affine=True, track_running_stats=True)\n",
              "  (batchnorm3): BatchNorm1d(64, eps=1e-05, momentum=0.1, affine=True, track_running_stats=True)\n",
              ")"
            ]
          },
          "metadata": {},
          "execution_count": 98
        },
        {
          "output_type": "execute_result",
          "data": {
            "text/plain": [
              "MulticlassClassification(\n",
              "  (layer_1): Linear(in_features=26, out_features=512, bias=True)\n",
              "  (layer_2): Linear(in_features=512, out_features=128, bias=True)\n",
              "  (layer_3): Linear(in_features=128, out_features=64, bias=True)\n",
              "  (layer_out): Linear(in_features=64, out_features=3, bias=True)\n",
              "  (relu): ReLU()\n",
              "  (dropout): Dropout(p=0.2, inplace=False)\n",
              "  (batchnorm1): BatchNorm1d(512, eps=1e-05, momentum=0.1, affine=True, track_running_stats=True)\n",
              "  (batchnorm2): BatchNorm1d(128, eps=1e-05, momentum=0.1, affine=True, track_running_stats=True)\n",
              "  (batchnorm3): BatchNorm1d(64, eps=1e-05, momentum=0.1, affine=True, track_running_stats=True)\n",
              ")"
            ]
          },
          "metadata": {},
          "execution_count": 98
        },
        {
          "output_type": "execute_result",
          "data": {
            "text/plain": [
              "MulticlassClassification(\n",
              "  (layer_1): Linear(in_features=26, out_features=512, bias=True)\n",
              "  (layer_2): Linear(in_features=512, out_features=128, bias=True)\n",
              "  (layer_3): Linear(in_features=128, out_features=64, bias=True)\n",
              "  (layer_out): Linear(in_features=64, out_features=3, bias=True)\n",
              "  (relu): ReLU()\n",
              "  (dropout): Dropout(p=0.2, inplace=False)\n",
              "  (batchnorm1): BatchNorm1d(512, eps=1e-05, momentum=0.1, affine=True, track_running_stats=True)\n",
              "  (batchnorm2): BatchNorm1d(128, eps=1e-05, momentum=0.1, affine=True, track_running_stats=True)\n",
              "  (batchnorm3): BatchNorm1d(64, eps=1e-05, momentum=0.1, affine=True, track_running_stats=True)\n",
              ")"
            ]
          },
          "metadata": {},
          "execution_count": 98
        },
        {
          "output_type": "execute_result",
          "data": {
            "text/plain": [
              "MulticlassClassification(\n",
              "  (layer_1): Linear(in_features=26, out_features=512, bias=True)\n",
              "  (layer_2): Linear(in_features=512, out_features=128, bias=True)\n",
              "  (layer_3): Linear(in_features=128, out_features=64, bias=True)\n",
              "  (layer_out): Linear(in_features=64, out_features=3, bias=True)\n",
              "  (relu): ReLU()\n",
              "  (dropout): Dropout(p=0.2, inplace=False)\n",
              "  (batchnorm1): BatchNorm1d(512, eps=1e-05, momentum=0.1, affine=True, track_running_stats=True)\n",
              "  (batchnorm2): BatchNorm1d(128, eps=1e-05, momentum=0.1, affine=True, track_running_stats=True)\n",
              "  (batchnorm3): BatchNorm1d(64, eps=1e-05, momentum=0.1, affine=True, track_running_stats=True)\n",
              ")"
            ]
          },
          "metadata": {},
          "execution_count": 98
        },
        {
          "output_type": "execute_result",
          "data": {
            "text/plain": [
              "MulticlassClassification(\n",
              "  (layer_1): Linear(in_features=26, out_features=512, bias=True)\n",
              "  (layer_2): Linear(in_features=512, out_features=128, bias=True)\n",
              "  (layer_3): Linear(in_features=128, out_features=64, bias=True)\n",
              "  (layer_out): Linear(in_features=64, out_features=3, bias=True)\n",
              "  (relu): ReLU()\n",
              "  (dropout): Dropout(p=0.2, inplace=False)\n",
              "  (batchnorm1): BatchNorm1d(512, eps=1e-05, momentum=0.1, affine=True, track_running_stats=True)\n",
              "  (batchnorm2): BatchNorm1d(128, eps=1e-05, momentum=0.1, affine=True, track_running_stats=True)\n",
              "  (batchnorm3): BatchNorm1d(64, eps=1e-05, momentum=0.1, affine=True, track_running_stats=True)\n",
              ")"
            ]
          },
          "metadata": {},
          "execution_count": 98
        },
        {
          "output_type": "execute_result",
          "data": {
            "text/plain": [
              "MulticlassClassification(\n",
              "  (layer_1): Linear(in_features=26, out_features=512, bias=True)\n",
              "  (layer_2): Linear(in_features=512, out_features=128, bias=True)\n",
              "  (layer_3): Linear(in_features=128, out_features=64, bias=True)\n",
              "  (layer_out): Linear(in_features=64, out_features=3, bias=True)\n",
              "  (relu): ReLU()\n",
              "  (dropout): Dropout(p=0.2, inplace=False)\n",
              "  (batchnorm1): BatchNorm1d(512, eps=1e-05, momentum=0.1, affine=True, track_running_stats=True)\n",
              "  (batchnorm2): BatchNorm1d(128, eps=1e-05, momentum=0.1, affine=True, track_running_stats=True)\n",
              "  (batchnorm3): BatchNorm1d(64, eps=1e-05, momentum=0.1, affine=True, track_running_stats=True)\n",
              ")"
            ]
          },
          "metadata": {},
          "execution_count": 98
        },
        {
          "output_type": "execute_result",
          "data": {
            "text/plain": [
              "MulticlassClassification(\n",
              "  (layer_1): Linear(in_features=26, out_features=512, bias=True)\n",
              "  (layer_2): Linear(in_features=512, out_features=128, bias=True)\n",
              "  (layer_3): Linear(in_features=128, out_features=64, bias=True)\n",
              "  (layer_out): Linear(in_features=64, out_features=3, bias=True)\n",
              "  (relu): ReLU()\n",
              "  (dropout): Dropout(p=0.2, inplace=False)\n",
              "  (batchnorm1): BatchNorm1d(512, eps=1e-05, momentum=0.1, affine=True, track_running_stats=True)\n",
              "  (batchnorm2): BatchNorm1d(128, eps=1e-05, momentum=0.1, affine=True, track_running_stats=True)\n",
              "  (batchnorm3): BatchNorm1d(64, eps=1e-05, momentum=0.1, affine=True, track_running_stats=True)\n",
              ")"
            ]
          },
          "metadata": {},
          "execution_count": 98
        },
        {
          "output_type": "execute_result",
          "data": {
            "text/plain": [
              "MulticlassClassification(\n",
              "  (layer_1): Linear(in_features=26, out_features=512, bias=True)\n",
              "  (layer_2): Linear(in_features=512, out_features=128, bias=True)\n",
              "  (layer_3): Linear(in_features=128, out_features=64, bias=True)\n",
              "  (layer_out): Linear(in_features=64, out_features=3, bias=True)\n",
              "  (relu): ReLU()\n",
              "  (dropout): Dropout(p=0.2, inplace=False)\n",
              "  (batchnorm1): BatchNorm1d(512, eps=1e-05, momentum=0.1, affine=True, track_running_stats=True)\n",
              "  (batchnorm2): BatchNorm1d(128, eps=1e-05, momentum=0.1, affine=True, track_running_stats=True)\n",
              "  (batchnorm3): BatchNorm1d(64, eps=1e-05, momentum=0.1, affine=True, track_running_stats=True)\n",
              ")"
            ]
          },
          "metadata": {},
          "execution_count": 98
        },
        {
          "output_type": "execute_result",
          "data": {
            "text/plain": [
              "MulticlassClassification(\n",
              "  (layer_1): Linear(in_features=26, out_features=512, bias=True)\n",
              "  (layer_2): Linear(in_features=512, out_features=128, bias=True)\n",
              "  (layer_3): Linear(in_features=128, out_features=64, bias=True)\n",
              "  (layer_out): Linear(in_features=64, out_features=3, bias=True)\n",
              "  (relu): ReLU()\n",
              "  (dropout): Dropout(p=0.2, inplace=False)\n",
              "  (batchnorm1): BatchNorm1d(512, eps=1e-05, momentum=0.1, affine=True, track_running_stats=True)\n",
              "  (batchnorm2): BatchNorm1d(128, eps=1e-05, momentum=0.1, affine=True, track_running_stats=True)\n",
              "  (batchnorm3): BatchNorm1d(64, eps=1e-05, momentum=0.1, affine=True, track_running_stats=True)\n",
              ")"
            ]
          },
          "metadata": {},
          "execution_count": 98
        },
        {
          "output_type": "execute_result",
          "data": {
            "text/plain": [
              "MulticlassClassification(\n",
              "  (layer_1): Linear(in_features=26, out_features=512, bias=True)\n",
              "  (layer_2): Linear(in_features=512, out_features=128, bias=True)\n",
              "  (layer_3): Linear(in_features=128, out_features=64, bias=True)\n",
              "  (layer_out): Linear(in_features=64, out_features=3, bias=True)\n",
              "  (relu): ReLU()\n",
              "  (dropout): Dropout(p=0.2, inplace=False)\n",
              "  (batchnorm1): BatchNorm1d(512, eps=1e-05, momentum=0.1, affine=True, track_running_stats=True)\n",
              "  (batchnorm2): BatchNorm1d(128, eps=1e-05, momentum=0.1, affine=True, track_running_stats=True)\n",
              "  (batchnorm3): BatchNorm1d(64, eps=1e-05, momentum=0.1, affine=True, track_running_stats=True)\n",
              ")"
            ]
          },
          "metadata": {},
          "execution_count": 98
        },
        {
          "output_type": "execute_result",
          "data": {
            "text/plain": [
              "MulticlassClassification(\n",
              "  (layer_1): Linear(in_features=26, out_features=512, bias=True)\n",
              "  (layer_2): Linear(in_features=512, out_features=128, bias=True)\n",
              "  (layer_3): Linear(in_features=128, out_features=64, bias=True)\n",
              "  (layer_out): Linear(in_features=64, out_features=3, bias=True)\n",
              "  (relu): ReLU()\n",
              "  (dropout): Dropout(p=0.2, inplace=False)\n",
              "  (batchnorm1): BatchNorm1d(512, eps=1e-05, momentum=0.1, affine=True, track_running_stats=True)\n",
              "  (batchnorm2): BatchNorm1d(128, eps=1e-05, momentum=0.1, affine=True, track_running_stats=True)\n",
              "  (batchnorm3): BatchNorm1d(64, eps=1e-05, momentum=0.1, affine=True, track_running_stats=True)\n",
              ")"
            ]
          },
          "metadata": {},
          "execution_count": 98
        },
        {
          "output_type": "execute_result",
          "data": {
            "text/plain": [
              "MulticlassClassification(\n",
              "  (layer_1): Linear(in_features=26, out_features=512, bias=True)\n",
              "  (layer_2): Linear(in_features=512, out_features=128, bias=True)\n",
              "  (layer_3): Linear(in_features=128, out_features=64, bias=True)\n",
              "  (layer_out): Linear(in_features=64, out_features=3, bias=True)\n",
              "  (relu): ReLU()\n",
              "  (dropout): Dropout(p=0.2, inplace=False)\n",
              "  (batchnorm1): BatchNorm1d(512, eps=1e-05, momentum=0.1, affine=True, track_running_stats=True)\n",
              "  (batchnorm2): BatchNorm1d(128, eps=1e-05, momentum=0.1, affine=True, track_running_stats=True)\n",
              "  (batchnorm3): BatchNorm1d(64, eps=1e-05, momentum=0.1, affine=True, track_running_stats=True)\n",
              ")"
            ]
          },
          "metadata": {},
          "execution_count": 98
        },
        {
          "output_type": "execute_result",
          "data": {
            "text/plain": [
              "MulticlassClassification(\n",
              "  (layer_1): Linear(in_features=26, out_features=512, bias=True)\n",
              "  (layer_2): Linear(in_features=512, out_features=128, bias=True)\n",
              "  (layer_3): Linear(in_features=128, out_features=64, bias=True)\n",
              "  (layer_out): Linear(in_features=64, out_features=3, bias=True)\n",
              "  (relu): ReLU()\n",
              "  (dropout): Dropout(p=0.2, inplace=False)\n",
              "  (batchnorm1): BatchNorm1d(512, eps=1e-05, momentum=0.1, affine=True, track_running_stats=True)\n",
              "  (batchnorm2): BatchNorm1d(128, eps=1e-05, momentum=0.1, affine=True, track_running_stats=True)\n",
              "  (batchnorm3): BatchNorm1d(64, eps=1e-05, momentum=0.1, affine=True, track_running_stats=True)\n",
              ")"
            ]
          },
          "metadata": {},
          "execution_count": 98
        },
        {
          "output_type": "execute_result",
          "data": {
            "text/plain": [
              "MulticlassClassification(\n",
              "  (layer_1): Linear(in_features=26, out_features=512, bias=True)\n",
              "  (layer_2): Linear(in_features=512, out_features=128, bias=True)\n",
              "  (layer_3): Linear(in_features=128, out_features=64, bias=True)\n",
              "  (layer_out): Linear(in_features=64, out_features=3, bias=True)\n",
              "  (relu): ReLU()\n",
              "  (dropout): Dropout(p=0.2, inplace=False)\n",
              "  (batchnorm1): BatchNorm1d(512, eps=1e-05, momentum=0.1, affine=True, track_running_stats=True)\n",
              "  (batchnorm2): BatchNorm1d(128, eps=1e-05, momentum=0.1, affine=True, track_running_stats=True)\n",
              "  (batchnorm3): BatchNorm1d(64, eps=1e-05, momentum=0.1, affine=True, track_running_stats=True)\n",
              ")"
            ]
          },
          "metadata": {},
          "execution_count": 98
        },
        {
          "output_type": "execute_result",
          "data": {
            "text/plain": [
              "MulticlassClassification(\n",
              "  (layer_1): Linear(in_features=26, out_features=512, bias=True)\n",
              "  (layer_2): Linear(in_features=512, out_features=128, bias=True)\n",
              "  (layer_3): Linear(in_features=128, out_features=64, bias=True)\n",
              "  (layer_out): Linear(in_features=64, out_features=3, bias=True)\n",
              "  (relu): ReLU()\n",
              "  (dropout): Dropout(p=0.2, inplace=False)\n",
              "  (batchnorm1): BatchNorm1d(512, eps=1e-05, momentum=0.1, affine=True, track_running_stats=True)\n",
              "  (batchnorm2): BatchNorm1d(128, eps=1e-05, momentum=0.1, affine=True, track_running_stats=True)\n",
              "  (batchnorm3): BatchNorm1d(64, eps=1e-05, momentum=0.1, affine=True, track_running_stats=True)\n",
              ")"
            ]
          },
          "metadata": {},
          "execution_count": 98
        },
        {
          "output_type": "execute_result",
          "data": {
            "text/plain": [
              "MulticlassClassification(\n",
              "  (layer_1): Linear(in_features=26, out_features=512, bias=True)\n",
              "  (layer_2): Linear(in_features=512, out_features=128, bias=True)\n",
              "  (layer_3): Linear(in_features=128, out_features=64, bias=True)\n",
              "  (layer_out): Linear(in_features=64, out_features=3, bias=True)\n",
              "  (relu): ReLU()\n",
              "  (dropout): Dropout(p=0.2, inplace=False)\n",
              "  (batchnorm1): BatchNorm1d(512, eps=1e-05, momentum=0.1, affine=True, track_running_stats=True)\n",
              "  (batchnorm2): BatchNorm1d(128, eps=1e-05, momentum=0.1, affine=True, track_running_stats=True)\n",
              "  (batchnorm3): BatchNorm1d(64, eps=1e-05, momentum=0.1, affine=True, track_running_stats=True)\n",
              ")"
            ]
          },
          "metadata": {},
          "execution_count": 98
        },
        {
          "output_type": "execute_result",
          "data": {
            "text/plain": [
              "MulticlassClassification(\n",
              "  (layer_1): Linear(in_features=26, out_features=512, bias=True)\n",
              "  (layer_2): Linear(in_features=512, out_features=128, bias=True)\n",
              "  (layer_3): Linear(in_features=128, out_features=64, bias=True)\n",
              "  (layer_out): Linear(in_features=64, out_features=3, bias=True)\n",
              "  (relu): ReLU()\n",
              "  (dropout): Dropout(p=0.2, inplace=False)\n",
              "  (batchnorm1): BatchNorm1d(512, eps=1e-05, momentum=0.1, affine=True, track_running_stats=True)\n",
              "  (batchnorm2): BatchNorm1d(128, eps=1e-05, momentum=0.1, affine=True, track_running_stats=True)\n",
              "  (batchnorm3): BatchNorm1d(64, eps=1e-05, momentum=0.1, affine=True, track_running_stats=True)\n",
              ")"
            ]
          },
          "metadata": {},
          "execution_count": 98
        },
        {
          "output_type": "execute_result",
          "data": {
            "text/plain": [
              "MulticlassClassification(\n",
              "  (layer_1): Linear(in_features=26, out_features=512, bias=True)\n",
              "  (layer_2): Linear(in_features=512, out_features=128, bias=True)\n",
              "  (layer_3): Linear(in_features=128, out_features=64, bias=True)\n",
              "  (layer_out): Linear(in_features=64, out_features=3, bias=True)\n",
              "  (relu): ReLU()\n",
              "  (dropout): Dropout(p=0.2, inplace=False)\n",
              "  (batchnorm1): BatchNorm1d(512, eps=1e-05, momentum=0.1, affine=True, track_running_stats=True)\n",
              "  (batchnorm2): BatchNorm1d(128, eps=1e-05, momentum=0.1, affine=True, track_running_stats=True)\n",
              "  (batchnorm3): BatchNorm1d(64, eps=1e-05, momentum=0.1, affine=True, track_running_stats=True)\n",
              ")"
            ]
          },
          "metadata": {},
          "execution_count": 98
        },
        {
          "output_type": "execute_result",
          "data": {
            "text/plain": [
              "MulticlassClassification(\n",
              "  (layer_1): Linear(in_features=26, out_features=512, bias=True)\n",
              "  (layer_2): Linear(in_features=512, out_features=128, bias=True)\n",
              "  (layer_3): Linear(in_features=128, out_features=64, bias=True)\n",
              "  (layer_out): Linear(in_features=64, out_features=3, bias=True)\n",
              "  (relu): ReLU()\n",
              "  (dropout): Dropout(p=0.2, inplace=False)\n",
              "  (batchnorm1): BatchNorm1d(512, eps=1e-05, momentum=0.1, affine=True, track_running_stats=True)\n",
              "  (batchnorm2): BatchNorm1d(128, eps=1e-05, momentum=0.1, affine=True, track_running_stats=True)\n",
              "  (batchnorm3): BatchNorm1d(64, eps=1e-05, momentum=0.1, affine=True, track_running_stats=True)\n",
              ")"
            ]
          },
          "metadata": {},
          "execution_count": 98
        },
        {
          "output_type": "execute_result",
          "data": {
            "text/plain": [
              "MulticlassClassification(\n",
              "  (layer_1): Linear(in_features=26, out_features=512, bias=True)\n",
              "  (layer_2): Linear(in_features=512, out_features=128, bias=True)\n",
              "  (layer_3): Linear(in_features=128, out_features=64, bias=True)\n",
              "  (layer_out): Linear(in_features=64, out_features=3, bias=True)\n",
              "  (relu): ReLU()\n",
              "  (dropout): Dropout(p=0.2, inplace=False)\n",
              "  (batchnorm1): BatchNorm1d(512, eps=1e-05, momentum=0.1, affine=True, track_running_stats=True)\n",
              "  (batchnorm2): BatchNorm1d(128, eps=1e-05, momentum=0.1, affine=True, track_running_stats=True)\n",
              "  (batchnorm3): BatchNorm1d(64, eps=1e-05, momentum=0.1, affine=True, track_running_stats=True)\n",
              ")"
            ]
          },
          "metadata": {},
          "execution_count": 98
        },
        {
          "output_type": "execute_result",
          "data": {
            "text/plain": [
              "MulticlassClassification(\n",
              "  (layer_1): Linear(in_features=26, out_features=512, bias=True)\n",
              "  (layer_2): Linear(in_features=512, out_features=128, bias=True)\n",
              "  (layer_3): Linear(in_features=128, out_features=64, bias=True)\n",
              "  (layer_out): Linear(in_features=64, out_features=3, bias=True)\n",
              "  (relu): ReLU()\n",
              "  (dropout): Dropout(p=0.2, inplace=False)\n",
              "  (batchnorm1): BatchNorm1d(512, eps=1e-05, momentum=0.1, affine=True, track_running_stats=True)\n",
              "  (batchnorm2): BatchNorm1d(128, eps=1e-05, momentum=0.1, affine=True, track_running_stats=True)\n",
              "  (batchnorm3): BatchNorm1d(64, eps=1e-05, momentum=0.1, affine=True, track_running_stats=True)\n",
              ")"
            ]
          },
          "metadata": {},
          "execution_count": 98
        },
        {
          "output_type": "execute_result",
          "data": {
            "text/plain": [
              "MulticlassClassification(\n",
              "  (layer_1): Linear(in_features=26, out_features=512, bias=True)\n",
              "  (layer_2): Linear(in_features=512, out_features=128, bias=True)\n",
              "  (layer_3): Linear(in_features=128, out_features=64, bias=True)\n",
              "  (layer_out): Linear(in_features=64, out_features=3, bias=True)\n",
              "  (relu): ReLU()\n",
              "  (dropout): Dropout(p=0.2, inplace=False)\n",
              "  (batchnorm1): BatchNorm1d(512, eps=1e-05, momentum=0.1, affine=True, track_running_stats=True)\n",
              "  (batchnorm2): BatchNorm1d(128, eps=1e-05, momentum=0.1, affine=True, track_running_stats=True)\n",
              "  (batchnorm3): BatchNorm1d(64, eps=1e-05, momentum=0.1, affine=True, track_running_stats=True)\n",
              ")"
            ]
          },
          "metadata": {},
          "execution_count": 98
        },
        {
          "output_type": "execute_result",
          "data": {
            "text/plain": [
              "MulticlassClassification(\n",
              "  (layer_1): Linear(in_features=26, out_features=512, bias=True)\n",
              "  (layer_2): Linear(in_features=512, out_features=128, bias=True)\n",
              "  (layer_3): Linear(in_features=128, out_features=64, bias=True)\n",
              "  (layer_out): Linear(in_features=64, out_features=3, bias=True)\n",
              "  (relu): ReLU()\n",
              "  (dropout): Dropout(p=0.2, inplace=False)\n",
              "  (batchnorm1): BatchNorm1d(512, eps=1e-05, momentum=0.1, affine=True, track_running_stats=True)\n",
              "  (batchnorm2): BatchNorm1d(128, eps=1e-05, momentum=0.1, affine=True, track_running_stats=True)\n",
              "  (batchnorm3): BatchNorm1d(64, eps=1e-05, momentum=0.1, affine=True, track_running_stats=True)\n",
              ")"
            ]
          },
          "metadata": {},
          "execution_count": 98
        },
        {
          "output_type": "execute_result",
          "data": {
            "text/plain": [
              "MulticlassClassification(\n",
              "  (layer_1): Linear(in_features=26, out_features=512, bias=True)\n",
              "  (layer_2): Linear(in_features=512, out_features=128, bias=True)\n",
              "  (layer_3): Linear(in_features=128, out_features=64, bias=True)\n",
              "  (layer_out): Linear(in_features=64, out_features=3, bias=True)\n",
              "  (relu): ReLU()\n",
              "  (dropout): Dropout(p=0.2, inplace=False)\n",
              "  (batchnorm1): BatchNorm1d(512, eps=1e-05, momentum=0.1, affine=True, track_running_stats=True)\n",
              "  (batchnorm2): BatchNorm1d(128, eps=1e-05, momentum=0.1, affine=True, track_running_stats=True)\n",
              "  (batchnorm3): BatchNorm1d(64, eps=1e-05, momentum=0.1, affine=True, track_running_stats=True)\n",
              ")"
            ]
          },
          "metadata": {},
          "execution_count": 98
        },
        {
          "output_type": "execute_result",
          "data": {
            "text/plain": [
              "MulticlassClassification(\n",
              "  (layer_1): Linear(in_features=26, out_features=512, bias=True)\n",
              "  (layer_2): Linear(in_features=512, out_features=128, bias=True)\n",
              "  (layer_3): Linear(in_features=128, out_features=64, bias=True)\n",
              "  (layer_out): Linear(in_features=64, out_features=3, bias=True)\n",
              "  (relu): ReLU()\n",
              "  (dropout): Dropout(p=0.2, inplace=False)\n",
              "  (batchnorm1): BatchNorm1d(512, eps=1e-05, momentum=0.1, affine=True, track_running_stats=True)\n",
              "  (batchnorm2): BatchNorm1d(128, eps=1e-05, momentum=0.1, affine=True, track_running_stats=True)\n",
              "  (batchnorm3): BatchNorm1d(64, eps=1e-05, momentum=0.1, affine=True, track_running_stats=True)\n",
              ")"
            ]
          },
          "metadata": {},
          "execution_count": 98
        },
        {
          "output_type": "execute_result",
          "data": {
            "text/plain": [
              "MulticlassClassification(\n",
              "  (layer_1): Linear(in_features=26, out_features=512, bias=True)\n",
              "  (layer_2): Linear(in_features=512, out_features=128, bias=True)\n",
              "  (layer_3): Linear(in_features=128, out_features=64, bias=True)\n",
              "  (layer_out): Linear(in_features=64, out_features=3, bias=True)\n",
              "  (relu): ReLU()\n",
              "  (dropout): Dropout(p=0.2, inplace=False)\n",
              "  (batchnorm1): BatchNorm1d(512, eps=1e-05, momentum=0.1, affine=True, track_running_stats=True)\n",
              "  (batchnorm2): BatchNorm1d(128, eps=1e-05, momentum=0.1, affine=True, track_running_stats=True)\n",
              "  (batchnorm3): BatchNorm1d(64, eps=1e-05, momentum=0.1, affine=True, track_running_stats=True)\n",
              ")"
            ]
          },
          "metadata": {},
          "execution_count": 98
        },
        {
          "output_type": "execute_result",
          "data": {
            "text/plain": [
              "MulticlassClassification(\n",
              "  (layer_1): Linear(in_features=26, out_features=512, bias=True)\n",
              "  (layer_2): Linear(in_features=512, out_features=128, bias=True)\n",
              "  (layer_3): Linear(in_features=128, out_features=64, bias=True)\n",
              "  (layer_out): Linear(in_features=64, out_features=3, bias=True)\n",
              "  (relu): ReLU()\n",
              "  (dropout): Dropout(p=0.2, inplace=False)\n",
              "  (batchnorm1): BatchNorm1d(512, eps=1e-05, momentum=0.1, affine=True, track_running_stats=True)\n",
              "  (batchnorm2): BatchNorm1d(128, eps=1e-05, momentum=0.1, affine=True, track_running_stats=True)\n",
              "  (batchnorm3): BatchNorm1d(64, eps=1e-05, momentum=0.1, affine=True, track_running_stats=True)\n",
              ")"
            ]
          },
          "metadata": {},
          "execution_count": 98
        },
        {
          "output_type": "execute_result",
          "data": {
            "text/plain": [
              "MulticlassClassification(\n",
              "  (layer_1): Linear(in_features=26, out_features=512, bias=True)\n",
              "  (layer_2): Linear(in_features=512, out_features=128, bias=True)\n",
              "  (layer_3): Linear(in_features=128, out_features=64, bias=True)\n",
              "  (layer_out): Linear(in_features=64, out_features=3, bias=True)\n",
              "  (relu): ReLU()\n",
              "  (dropout): Dropout(p=0.2, inplace=False)\n",
              "  (batchnorm1): BatchNorm1d(512, eps=1e-05, momentum=0.1, affine=True, track_running_stats=True)\n",
              "  (batchnorm2): BatchNorm1d(128, eps=1e-05, momentum=0.1, affine=True, track_running_stats=True)\n",
              "  (batchnorm3): BatchNorm1d(64, eps=1e-05, momentum=0.1, affine=True, track_running_stats=True)\n",
              ")"
            ]
          },
          "metadata": {},
          "execution_count": 98
        },
        {
          "output_type": "execute_result",
          "data": {
            "text/plain": [
              "MulticlassClassification(\n",
              "  (layer_1): Linear(in_features=26, out_features=512, bias=True)\n",
              "  (layer_2): Linear(in_features=512, out_features=128, bias=True)\n",
              "  (layer_3): Linear(in_features=128, out_features=64, bias=True)\n",
              "  (layer_out): Linear(in_features=64, out_features=3, bias=True)\n",
              "  (relu): ReLU()\n",
              "  (dropout): Dropout(p=0.2, inplace=False)\n",
              "  (batchnorm1): BatchNorm1d(512, eps=1e-05, momentum=0.1, affine=True, track_running_stats=True)\n",
              "  (batchnorm2): BatchNorm1d(128, eps=1e-05, momentum=0.1, affine=True, track_running_stats=True)\n",
              "  (batchnorm3): BatchNorm1d(64, eps=1e-05, momentum=0.1, affine=True, track_running_stats=True)\n",
              ")"
            ]
          },
          "metadata": {},
          "execution_count": 98
        },
        {
          "output_type": "execute_result",
          "data": {
            "text/plain": [
              "MulticlassClassification(\n",
              "  (layer_1): Linear(in_features=26, out_features=512, bias=True)\n",
              "  (layer_2): Linear(in_features=512, out_features=128, bias=True)\n",
              "  (layer_3): Linear(in_features=128, out_features=64, bias=True)\n",
              "  (layer_out): Linear(in_features=64, out_features=3, bias=True)\n",
              "  (relu): ReLU()\n",
              "  (dropout): Dropout(p=0.2, inplace=False)\n",
              "  (batchnorm1): BatchNorm1d(512, eps=1e-05, momentum=0.1, affine=True, track_running_stats=True)\n",
              "  (batchnorm2): BatchNorm1d(128, eps=1e-05, momentum=0.1, affine=True, track_running_stats=True)\n",
              "  (batchnorm3): BatchNorm1d(64, eps=1e-05, momentum=0.1, affine=True, track_running_stats=True)\n",
              ")"
            ]
          },
          "metadata": {},
          "execution_count": 98
        },
        {
          "output_type": "execute_result",
          "data": {
            "text/plain": [
              "MulticlassClassification(\n",
              "  (layer_1): Linear(in_features=26, out_features=512, bias=True)\n",
              "  (layer_2): Linear(in_features=512, out_features=128, bias=True)\n",
              "  (layer_3): Linear(in_features=128, out_features=64, bias=True)\n",
              "  (layer_out): Linear(in_features=64, out_features=3, bias=True)\n",
              "  (relu): ReLU()\n",
              "  (dropout): Dropout(p=0.2, inplace=False)\n",
              "  (batchnorm1): BatchNorm1d(512, eps=1e-05, momentum=0.1, affine=True, track_running_stats=True)\n",
              "  (batchnorm2): BatchNorm1d(128, eps=1e-05, momentum=0.1, affine=True, track_running_stats=True)\n",
              "  (batchnorm3): BatchNorm1d(64, eps=1e-05, momentum=0.1, affine=True, track_running_stats=True)\n",
              ")"
            ]
          },
          "metadata": {},
          "execution_count": 98
        },
        {
          "output_type": "execute_result",
          "data": {
            "text/plain": [
              "MulticlassClassification(\n",
              "  (layer_1): Linear(in_features=26, out_features=512, bias=True)\n",
              "  (layer_2): Linear(in_features=512, out_features=128, bias=True)\n",
              "  (layer_3): Linear(in_features=128, out_features=64, bias=True)\n",
              "  (layer_out): Linear(in_features=64, out_features=3, bias=True)\n",
              "  (relu): ReLU()\n",
              "  (dropout): Dropout(p=0.2, inplace=False)\n",
              "  (batchnorm1): BatchNorm1d(512, eps=1e-05, momentum=0.1, affine=True, track_running_stats=True)\n",
              "  (batchnorm2): BatchNorm1d(128, eps=1e-05, momentum=0.1, affine=True, track_running_stats=True)\n",
              "  (batchnorm3): BatchNorm1d(64, eps=1e-05, momentum=0.1, affine=True, track_running_stats=True)\n",
              ")"
            ]
          },
          "metadata": {},
          "execution_count": 98
        },
        {
          "output_type": "execute_result",
          "data": {
            "text/plain": [
              "MulticlassClassification(\n",
              "  (layer_1): Linear(in_features=26, out_features=512, bias=True)\n",
              "  (layer_2): Linear(in_features=512, out_features=128, bias=True)\n",
              "  (layer_3): Linear(in_features=128, out_features=64, bias=True)\n",
              "  (layer_out): Linear(in_features=64, out_features=3, bias=True)\n",
              "  (relu): ReLU()\n",
              "  (dropout): Dropout(p=0.2, inplace=False)\n",
              "  (batchnorm1): BatchNorm1d(512, eps=1e-05, momentum=0.1, affine=True, track_running_stats=True)\n",
              "  (batchnorm2): BatchNorm1d(128, eps=1e-05, momentum=0.1, affine=True, track_running_stats=True)\n",
              "  (batchnorm3): BatchNorm1d(64, eps=1e-05, momentum=0.1, affine=True, track_running_stats=True)\n",
              ")"
            ]
          },
          "metadata": {},
          "execution_count": 98
        },
        {
          "output_type": "execute_result",
          "data": {
            "text/plain": [
              "MulticlassClassification(\n",
              "  (layer_1): Linear(in_features=26, out_features=512, bias=True)\n",
              "  (layer_2): Linear(in_features=512, out_features=128, bias=True)\n",
              "  (layer_3): Linear(in_features=128, out_features=64, bias=True)\n",
              "  (layer_out): Linear(in_features=64, out_features=3, bias=True)\n",
              "  (relu): ReLU()\n",
              "  (dropout): Dropout(p=0.2, inplace=False)\n",
              "  (batchnorm1): BatchNorm1d(512, eps=1e-05, momentum=0.1, affine=True, track_running_stats=True)\n",
              "  (batchnorm2): BatchNorm1d(128, eps=1e-05, momentum=0.1, affine=True, track_running_stats=True)\n",
              "  (batchnorm3): BatchNorm1d(64, eps=1e-05, momentum=0.1, affine=True, track_running_stats=True)\n",
              ")"
            ]
          },
          "metadata": {},
          "execution_count": 98
        },
        {
          "output_type": "execute_result",
          "data": {
            "text/plain": [
              "MulticlassClassification(\n",
              "  (layer_1): Linear(in_features=26, out_features=512, bias=True)\n",
              "  (layer_2): Linear(in_features=512, out_features=128, bias=True)\n",
              "  (layer_3): Linear(in_features=128, out_features=64, bias=True)\n",
              "  (layer_out): Linear(in_features=64, out_features=3, bias=True)\n",
              "  (relu): ReLU()\n",
              "  (dropout): Dropout(p=0.2, inplace=False)\n",
              "  (batchnorm1): BatchNorm1d(512, eps=1e-05, momentum=0.1, affine=True, track_running_stats=True)\n",
              "  (batchnorm2): BatchNorm1d(128, eps=1e-05, momentum=0.1, affine=True, track_running_stats=True)\n",
              "  (batchnorm3): BatchNorm1d(64, eps=1e-05, momentum=0.1, affine=True, track_running_stats=True)\n",
              ")"
            ]
          },
          "metadata": {},
          "execution_count": 98
        },
        {
          "output_type": "execute_result",
          "data": {
            "text/plain": [
              "MulticlassClassification(\n",
              "  (layer_1): Linear(in_features=26, out_features=512, bias=True)\n",
              "  (layer_2): Linear(in_features=512, out_features=128, bias=True)\n",
              "  (layer_3): Linear(in_features=128, out_features=64, bias=True)\n",
              "  (layer_out): Linear(in_features=64, out_features=3, bias=True)\n",
              "  (relu): ReLU()\n",
              "  (dropout): Dropout(p=0.2, inplace=False)\n",
              "  (batchnorm1): BatchNorm1d(512, eps=1e-05, momentum=0.1, affine=True, track_running_stats=True)\n",
              "  (batchnorm2): BatchNorm1d(128, eps=1e-05, momentum=0.1, affine=True, track_running_stats=True)\n",
              "  (batchnorm3): BatchNorm1d(64, eps=1e-05, momentum=0.1, affine=True, track_running_stats=True)\n",
              ")"
            ]
          },
          "metadata": {},
          "execution_count": 98
        },
        {
          "output_type": "execute_result",
          "data": {
            "text/plain": [
              "MulticlassClassification(\n",
              "  (layer_1): Linear(in_features=26, out_features=512, bias=True)\n",
              "  (layer_2): Linear(in_features=512, out_features=128, bias=True)\n",
              "  (layer_3): Linear(in_features=128, out_features=64, bias=True)\n",
              "  (layer_out): Linear(in_features=64, out_features=3, bias=True)\n",
              "  (relu): ReLU()\n",
              "  (dropout): Dropout(p=0.2, inplace=False)\n",
              "  (batchnorm1): BatchNorm1d(512, eps=1e-05, momentum=0.1, affine=True, track_running_stats=True)\n",
              "  (batchnorm2): BatchNorm1d(128, eps=1e-05, momentum=0.1, affine=True, track_running_stats=True)\n",
              "  (batchnorm3): BatchNorm1d(64, eps=1e-05, momentum=0.1, affine=True, track_running_stats=True)\n",
              ")"
            ]
          },
          "metadata": {},
          "execution_count": 98
        },
        {
          "output_type": "execute_result",
          "data": {
            "text/plain": [
              "MulticlassClassification(\n",
              "  (layer_1): Linear(in_features=26, out_features=512, bias=True)\n",
              "  (layer_2): Linear(in_features=512, out_features=128, bias=True)\n",
              "  (layer_3): Linear(in_features=128, out_features=64, bias=True)\n",
              "  (layer_out): Linear(in_features=64, out_features=3, bias=True)\n",
              "  (relu): ReLU()\n",
              "  (dropout): Dropout(p=0.2, inplace=False)\n",
              "  (batchnorm1): BatchNorm1d(512, eps=1e-05, momentum=0.1, affine=True, track_running_stats=True)\n",
              "  (batchnorm2): BatchNorm1d(128, eps=1e-05, momentum=0.1, affine=True, track_running_stats=True)\n",
              "  (batchnorm3): BatchNorm1d(64, eps=1e-05, momentum=0.1, affine=True, track_running_stats=True)\n",
              ")"
            ]
          },
          "metadata": {},
          "execution_count": 98
        },
        {
          "output_type": "execute_result",
          "data": {
            "text/plain": [
              "MulticlassClassification(\n",
              "  (layer_1): Linear(in_features=26, out_features=512, bias=True)\n",
              "  (layer_2): Linear(in_features=512, out_features=128, bias=True)\n",
              "  (layer_3): Linear(in_features=128, out_features=64, bias=True)\n",
              "  (layer_out): Linear(in_features=64, out_features=3, bias=True)\n",
              "  (relu): ReLU()\n",
              "  (dropout): Dropout(p=0.2, inplace=False)\n",
              "  (batchnorm1): BatchNorm1d(512, eps=1e-05, momentum=0.1, affine=True, track_running_stats=True)\n",
              "  (batchnorm2): BatchNorm1d(128, eps=1e-05, momentum=0.1, affine=True, track_running_stats=True)\n",
              "  (batchnorm3): BatchNorm1d(64, eps=1e-05, momentum=0.1, affine=True, track_running_stats=True)\n",
              ")"
            ]
          },
          "metadata": {},
          "execution_count": 98
        },
        {
          "output_type": "execute_result",
          "data": {
            "text/plain": [
              "MulticlassClassification(\n",
              "  (layer_1): Linear(in_features=26, out_features=512, bias=True)\n",
              "  (layer_2): Linear(in_features=512, out_features=128, bias=True)\n",
              "  (layer_3): Linear(in_features=128, out_features=64, bias=True)\n",
              "  (layer_out): Linear(in_features=64, out_features=3, bias=True)\n",
              "  (relu): ReLU()\n",
              "  (dropout): Dropout(p=0.2, inplace=False)\n",
              "  (batchnorm1): BatchNorm1d(512, eps=1e-05, momentum=0.1, affine=True, track_running_stats=True)\n",
              "  (batchnorm2): BatchNorm1d(128, eps=1e-05, momentum=0.1, affine=True, track_running_stats=True)\n",
              "  (batchnorm3): BatchNorm1d(64, eps=1e-05, momentum=0.1, affine=True, track_running_stats=True)\n",
              ")"
            ]
          },
          "metadata": {},
          "execution_count": 98
        },
        {
          "output_type": "execute_result",
          "data": {
            "text/plain": [
              "MulticlassClassification(\n",
              "  (layer_1): Linear(in_features=26, out_features=512, bias=True)\n",
              "  (layer_2): Linear(in_features=512, out_features=128, bias=True)\n",
              "  (layer_3): Linear(in_features=128, out_features=64, bias=True)\n",
              "  (layer_out): Linear(in_features=64, out_features=3, bias=True)\n",
              "  (relu): ReLU()\n",
              "  (dropout): Dropout(p=0.2, inplace=False)\n",
              "  (batchnorm1): BatchNorm1d(512, eps=1e-05, momentum=0.1, affine=True, track_running_stats=True)\n",
              "  (batchnorm2): BatchNorm1d(128, eps=1e-05, momentum=0.1, affine=True, track_running_stats=True)\n",
              "  (batchnorm3): BatchNorm1d(64, eps=1e-05, momentum=0.1, affine=True, track_running_stats=True)\n",
              ")"
            ]
          },
          "metadata": {},
          "execution_count": 98
        },
        {
          "output_type": "execute_result",
          "data": {
            "text/plain": [
              "MulticlassClassification(\n",
              "  (layer_1): Linear(in_features=26, out_features=512, bias=True)\n",
              "  (layer_2): Linear(in_features=512, out_features=128, bias=True)\n",
              "  (layer_3): Linear(in_features=128, out_features=64, bias=True)\n",
              "  (layer_out): Linear(in_features=64, out_features=3, bias=True)\n",
              "  (relu): ReLU()\n",
              "  (dropout): Dropout(p=0.2, inplace=False)\n",
              "  (batchnorm1): BatchNorm1d(512, eps=1e-05, momentum=0.1, affine=True, track_running_stats=True)\n",
              "  (batchnorm2): BatchNorm1d(128, eps=1e-05, momentum=0.1, affine=True, track_running_stats=True)\n",
              "  (batchnorm3): BatchNorm1d(64, eps=1e-05, momentum=0.1, affine=True, track_running_stats=True)\n",
              ")"
            ]
          },
          "metadata": {},
          "execution_count": 98
        },
        {
          "output_type": "execute_result",
          "data": {
            "text/plain": [
              "MulticlassClassification(\n",
              "  (layer_1): Linear(in_features=26, out_features=512, bias=True)\n",
              "  (layer_2): Linear(in_features=512, out_features=128, bias=True)\n",
              "  (layer_3): Linear(in_features=128, out_features=64, bias=True)\n",
              "  (layer_out): Linear(in_features=64, out_features=3, bias=True)\n",
              "  (relu): ReLU()\n",
              "  (dropout): Dropout(p=0.2, inplace=False)\n",
              "  (batchnorm1): BatchNorm1d(512, eps=1e-05, momentum=0.1, affine=True, track_running_stats=True)\n",
              "  (batchnorm2): BatchNorm1d(128, eps=1e-05, momentum=0.1, affine=True, track_running_stats=True)\n",
              "  (batchnorm3): BatchNorm1d(64, eps=1e-05, momentum=0.1, affine=True, track_running_stats=True)\n",
              ")"
            ]
          },
          "metadata": {},
          "execution_count": 98
        },
        {
          "output_type": "execute_result",
          "data": {
            "text/plain": [
              "MulticlassClassification(\n",
              "  (layer_1): Linear(in_features=26, out_features=512, bias=True)\n",
              "  (layer_2): Linear(in_features=512, out_features=128, bias=True)\n",
              "  (layer_3): Linear(in_features=128, out_features=64, bias=True)\n",
              "  (layer_out): Linear(in_features=64, out_features=3, bias=True)\n",
              "  (relu): ReLU()\n",
              "  (dropout): Dropout(p=0.2, inplace=False)\n",
              "  (batchnorm1): BatchNorm1d(512, eps=1e-05, momentum=0.1, affine=True, track_running_stats=True)\n",
              "  (batchnorm2): BatchNorm1d(128, eps=1e-05, momentum=0.1, affine=True, track_running_stats=True)\n",
              "  (batchnorm3): BatchNorm1d(64, eps=1e-05, momentum=0.1, affine=True, track_running_stats=True)\n",
              ")"
            ]
          },
          "metadata": {},
          "execution_count": 98
        },
        {
          "output_type": "execute_result",
          "data": {
            "text/plain": [
              "MulticlassClassification(\n",
              "  (layer_1): Linear(in_features=26, out_features=512, bias=True)\n",
              "  (layer_2): Linear(in_features=512, out_features=128, bias=True)\n",
              "  (layer_3): Linear(in_features=128, out_features=64, bias=True)\n",
              "  (layer_out): Linear(in_features=64, out_features=3, bias=True)\n",
              "  (relu): ReLU()\n",
              "  (dropout): Dropout(p=0.2, inplace=False)\n",
              "  (batchnorm1): BatchNorm1d(512, eps=1e-05, momentum=0.1, affine=True, track_running_stats=True)\n",
              "  (batchnorm2): BatchNorm1d(128, eps=1e-05, momentum=0.1, affine=True, track_running_stats=True)\n",
              "  (batchnorm3): BatchNorm1d(64, eps=1e-05, momentum=0.1, affine=True, track_running_stats=True)\n",
              ")"
            ]
          },
          "metadata": {},
          "execution_count": 98
        },
        {
          "output_type": "execute_result",
          "data": {
            "text/plain": [
              "MulticlassClassification(\n",
              "  (layer_1): Linear(in_features=26, out_features=512, bias=True)\n",
              "  (layer_2): Linear(in_features=512, out_features=128, bias=True)\n",
              "  (layer_3): Linear(in_features=128, out_features=64, bias=True)\n",
              "  (layer_out): Linear(in_features=64, out_features=3, bias=True)\n",
              "  (relu): ReLU()\n",
              "  (dropout): Dropout(p=0.2, inplace=False)\n",
              "  (batchnorm1): BatchNorm1d(512, eps=1e-05, momentum=0.1, affine=True, track_running_stats=True)\n",
              "  (batchnorm2): BatchNorm1d(128, eps=1e-05, momentum=0.1, affine=True, track_running_stats=True)\n",
              "  (batchnorm3): BatchNorm1d(64, eps=1e-05, momentum=0.1, affine=True, track_running_stats=True)\n",
              ")"
            ]
          },
          "metadata": {},
          "execution_count": 98
        },
        {
          "output_type": "execute_result",
          "data": {
            "text/plain": [
              "MulticlassClassification(\n",
              "  (layer_1): Linear(in_features=26, out_features=512, bias=True)\n",
              "  (layer_2): Linear(in_features=512, out_features=128, bias=True)\n",
              "  (layer_3): Linear(in_features=128, out_features=64, bias=True)\n",
              "  (layer_out): Linear(in_features=64, out_features=3, bias=True)\n",
              "  (relu): ReLU()\n",
              "  (dropout): Dropout(p=0.2, inplace=False)\n",
              "  (batchnorm1): BatchNorm1d(512, eps=1e-05, momentum=0.1, affine=True, track_running_stats=True)\n",
              "  (batchnorm2): BatchNorm1d(128, eps=1e-05, momentum=0.1, affine=True, track_running_stats=True)\n",
              "  (batchnorm3): BatchNorm1d(64, eps=1e-05, momentum=0.1, affine=True, track_running_stats=True)\n",
              ")"
            ]
          },
          "metadata": {},
          "execution_count": 98
        },
        {
          "output_type": "execute_result",
          "data": {
            "text/plain": [
              "MulticlassClassification(\n",
              "  (layer_1): Linear(in_features=26, out_features=512, bias=True)\n",
              "  (layer_2): Linear(in_features=512, out_features=128, bias=True)\n",
              "  (layer_3): Linear(in_features=128, out_features=64, bias=True)\n",
              "  (layer_out): Linear(in_features=64, out_features=3, bias=True)\n",
              "  (relu): ReLU()\n",
              "  (dropout): Dropout(p=0.2, inplace=False)\n",
              "  (batchnorm1): BatchNorm1d(512, eps=1e-05, momentum=0.1, affine=True, track_running_stats=True)\n",
              "  (batchnorm2): BatchNorm1d(128, eps=1e-05, momentum=0.1, affine=True, track_running_stats=True)\n",
              "  (batchnorm3): BatchNorm1d(64, eps=1e-05, momentum=0.1, affine=True, track_running_stats=True)\n",
              ")"
            ]
          },
          "metadata": {},
          "execution_count": 98
        },
        {
          "output_type": "execute_result",
          "data": {
            "text/plain": [
              "MulticlassClassification(\n",
              "  (layer_1): Linear(in_features=26, out_features=512, bias=True)\n",
              "  (layer_2): Linear(in_features=512, out_features=128, bias=True)\n",
              "  (layer_3): Linear(in_features=128, out_features=64, bias=True)\n",
              "  (layer_out): Linear(in_features=64, out_features=3, bias=True)\n",
              "  (relu): ReLU()\n",
              "  (dropout): Dropout(p=0.2, inplace=False)\n",
              "  (batchnorm1): BatchNorm1d(512, eps=1e-05, momentum=0.1, affine=True, track_running_stats=True)\n",
              "  (batchnorm2): BatchNorm1d(128, eps=1e-05, momentum=0.1, affine=True, track_running_stats=True)\n",
              "  (batchnorm3): BatchNorm1d(64, eps=1e-05, momentum=0.1, affine=True, track_running_stats=True)\n",
              ")"
            ]
          },
          "metadata": {},
          "execution_count": 98
        },
        {
          "output_type": "execute_result",
          "data": {
            "text/plain": [
              "MulticlassClassification(\n",
              "  (layer_1): Linear(in_features=26, out_features=512, bias=True)\n",
              "  (layer_2): Linear(in_features=512, out_features=128, bias=True)\n",
              "  (layer_3): Linear(in_features=128, out_features=64, bias=True)\n",
              "  (layer_out): Linear(in_features=64, out_features=3, bias=True)\n",
              "  (relu): ReLU()\n",
              "  (dropout): Dropout(p=0.2, inplace=False)\n",
              "  (batchnorm1): BatchNorm1d(512, eps=1e-05, momentum=0.1, affine=True, track_running_stats=True)\n",
              "  (batchnorm2): BatchNorm1d(128, eps=1e-05, momentum=0.1, affine=True, track_running_stats=True)\n",
              "  (batchnorm3): BatchNorm1d(64, eps=1e-05, momentum=0.1, affine=True, track_running_stats=True)\n",
              ")"
            ]
          },
          "metadata": {},
          "execution_count": 98
        },
        {
          "output_type": "execute_result",
          "data": {
            "text/plain": [
              "MulticlassClassification(\n",
              "  (layer_1): Linear(in_features=26, out_features=512, bias=True)\n",
              "  (layer_2): Linear(in_features=512, out_features=128, bias=True)\n",
              "  (layer_3): Linear(in_features=128, out_features=64, bias=True)\n",
              "  (layer_out): Linear(in_features=64, out_features=3, bias=True)\n",
              "  (relu): ReLU()\n",
              "  (dropout): Dropout(p=0.2, inplace=False)\n",
              "  (batchnorm1): BatchNorm1d(512, eps=1e-05, momentum=0.1, affine=True, track_running_stats=True)\n",
              "  (batchnorm2): BatchNorm1d(128, eps=1e-05, momentum=0.1, affine=True, track_running_stats=True)\n",
              "  (batchnorm3): BatchNorm1d(64, eps=1e-05, momentum=0.1, affine=True, track_running_stats=True)\n",
              ")"
            ]
          },
          "metadata": {},
          "execution_count": 98
        },
        {
          "output_type": "execute_result",
          "data": {
            "text/plain": [
              "MulticlassClassification(\n",
              "  (layer_1): Linear(in_features=26, out_features=512, bias=True)\n",
              "  (layer_2): Linear(in_features=512, out_features=128, bias=True)\n",
              "  (layer_3): Linear(in_features=128, out_features=64, bias=True)\n",
              "  (layer_out): Linear(in_features=64, out_features=3, bias=True)\n",
              "  (relu): ReLU()\n",
              "  (dropout): Dropout(p=0.2, inplace=False)\n",
              "  (batchnorm1): BatchNorm1d(512, eps=1e-05, momentum=0.1, affine=True, track_running_stats=True)\n",
              "  (batchnorm2): BatchNorm1d(128, eps=1e-05, momentum=0.1, affine=True, track_running_stats=True)\n",
              "  (batchnorm3): BatchNorm1d(64, eps=1e-05, momentum=0.1, affine=True, track_running_stats=True)\n",
              ")"
            ]
          },
          "metadata": {},
          "execution_count": 98
        },
        {
          "output_type": "execute_result",
          "data": {
            "text/plain": [
              "MulticlassClassification(\n",
              "  (layer_1): Linear(in_features=26, out_features=512, bias=True)\n",
              "  (layer_2): Linear(in_features=512, out_features=128, bias=True)\n",
              "  (layer_3): Linear(in_features=128, out_features=64, bias=True)\n",
              "  (layer_out): Linear(in_features=64, out_features=3, bias=True)\n",
              "  (relu): ReLU()\n",
              "  (dropout): Dropout(p=0.2, inplace=False)\n",
              "  (batchnorm1): BatchNorm1d(512, eps=1e-05, momentum=0.1, affine=True, track_running_stats=True)\n",
              "  (batchnorm2): BatchNorm1d(128, eps=1e-05, momentum=0.1, affine=True, track_running_stats=True)\n",
              "  (batchnorm3): BatchNorm1d(64, eps=1e-05, momentum=0.1, affine=True, track_running_stats=True)\n",
              ")"
            ]
          },
          "metadata": {},
          "execution_count": 98
        },
        {
          "output_type": "execute_result",
          "data": {
            "text/plain": [
              "MulticlassClassification(\n",
              "  (layer_1): Linear(in_features=26, out_features=512, bias=True)\n",
              "  (layer_2): Linear(in_features=512, out_features=128, bias=True)\n",
              "  (layer_3): Linear(in_features=128, out_features=64, bias=True)\n",
              "  (layer_out): Linear(in_features=64, out_features=3, bias=True)\n",
              "  (relu): ReLU()\n",
              "  (dropout): Dropout(p=0.2, inplace=False)\n",
              "  (batchnorm1): BatchNorm1d(512, eps=1e-05, momentum=0.1, affine=True, track_running_stats=True)\n",
              "  (batchnorm2): BatchNorm1d(128, eps=1e-05, momentum=0.1, affine=True, track_running_stats=True)\n",
              "  (batchnorm3): BatchNorm1d(64, eps=1e-05, momentum=0.1, affine=True, track_running_stats=True)\n",
              ")"
            ]
          },
          "metadata": {},
          "execution_count": 98
        },
        {
          "output_type": "execute_result",
          "data": {
            "text/plain": [
              "MulticlassClassification(\n",
              "  (layer_1): Linear(in_features=26, out_features=512, bias=True)\n",
              "  (layer_2): Linear(in_features=512, out_features=128, bias=True)\n",
              "  (layer_3): Linear(in_features=128, out_features=64, bias=True)\n",
              "  (layer_out): Linear(in_features=64, out_features=3, bias=True)\n",
              "  (relu): ReLU()\n",
              "  (dropout): Dropout(p=0.2, inplace=False)\n",
              "  (batchnorm1): BatchNorm1d(512, eps=1e-05, momentum=0.1, affine=True, track_running_stats=True)\n",
              "  (batchnorm2): BatchNorm1d(128, eps=1e-05, momentum=0.1, affine=True, track_running_stats=True)\n",
              "  (batchnorm3): BatchNorm1d(64, eps=1e-05, momentum=0.1, affine=True, track_running_stats=True)\n",
              ")"
            ]
          },
          "metadata": {},
          "execution_count": 98
        },
        {
          "output_type": "execute_result",
          "data": {
            "text/plain": [
              "MulticlassClassification(\n",
              "  (layer_1): Linear(in_features=26, out_features=512, bias=True)\n",
              "  (layer_2): Linear(in_features=512, out_features=128, bias=True)\n",
              "  (layer_3): Linear(in_features=128, out_features=64, bias=True)\n",
              "  (layer_out): Linear(in_features=64, out_features=3, bias=True)\n",
              "  (relu): ReLU()\n",
              "  (dropout): Dropout(p=0.2, inplace=False)\n",
              "  (batchnorm1): BatchNorm1d(512, eps=1e-05, momentum=0.1, affine=True, track_running_stats=True)\n",
              "  (batchnorm2): BatchNorm1d(128, eps=1e-05, momentum=0.1, affine=True, track_running_stats=True)\n",
              "  (batchnorm3): BatchNorm1d(64, eps=1e-05, momentum=0.1, affine=True, track_running_stats=True)\n",
              ")"
            ]
          },
          "metadata": {},
          "execution_count": 98
        },
        {
          "output_type": "execute_result",
          "data": {
            "text/plain": [
              "MulticlassClassification(\n",
              "  (layer_1): Linear(in_features=26, out_features=512, bias=True)\n",
              "  (layer_2): Linear(in_features=512, out_features=128, bias=True)\n",
              "  (layer_3): Linear(in_features=128, out_features=64, bias=True)\n",
              "  (layer_out): Linear(in_features=64, out_features=3, bias=True)\n",
              "  (relu): ReLU()\n",
              "  (dropout): Dropout(p=0.2, inplace=False)\n",
              "  (batchnorm1): BatchNorm1d(512, eps=1e-05, momentum=0.1, affine=True, track_running_stats=True)\n",
              "  (batchnorm2): BatchNorm1d(128, eps=1e-05, momentum=0.1, affine=True, track_running_stats=True)\n",
              "  (batchnorm3): BatchNorm1d(64, eps=1e-05, momentum=0.1, affine=True, track_running_stats=True)\n",
              ")"
            ]
          },
          "metadata": {},
          "execution_count": 98
        },
        {
          "output_type": "execute_result",
          "data": {
            "text/plain": [
              "MulticlassClassification(\n",
              "  (layer_1): Linear(in_features=26, out_features=512, bias=True)\n",
              "  (layer_2): Linear(in_features=512, out_features=128, bias=True)\n",
              "  (layer_3): Linear(in_features=128, out_features=64, bias=True)\n",
              "  (layer_out): Linear(in_features=64, out_features=3, bias=True)\n",
              "  (relu): ReLU()\n",
              "  (dropout): Dropout(p=0.2, inplace=False)\n",
              "  (batchnorm1): BatchNorm1d(512, eps=1e-05, momentum=0.1, affine=True, track_running_stats=True)\n",
              "  (batchnorm2): BatchNorm1d(128, eps=1e-05, momentum=0.1, affine=True, track_running_stats=True)\n",
              "  (batchnorm3): BatchNorm1d(64, eps=1e-05, momentum=0.1, affine=True, track_running_stats=True)\n",
              ")"
            ]
          },
          "metadata": {},
          "execution_count": 98
        },
        {
          "output_type": "execute_result",
          "data": {
            "text/plain": [
              "MulticlassClassification(\n",
              "  (layer_1): Linear(in_features=26, out_features=512, bias=True)\n",
              "  (layer_2): Linear(in_features=512, out_features=128, bias=True)\n",
              "  (layer_3): Linear(in_features=128, out_features=64, bias=True)\n",
              "  (layer_out): Linear(in_features=64, out_features=3, bias=True)\n",
              "  (relu): ReLU()\n",
              "  (dropout): Dropout(p=0.2, inplace=False)\n",
              "  (batchnorm1): BatchNorm1d(512, eps=1e-05, momentum=0.1, affine=True, track_running_stats=True)\n",
              "  (batchnorm2): BatchNorm1d(128, eps=1e-05, momentum=0.1, affine=True, track_running_stats=True)\n",
              "  (batchnorm3): BatchNorm1d(64, eps=1e-05, momentum=0.1, affine=True, track_running_stats=True)\n",
              ")"
            ]
          },
          "metadata": {},
          "execution_count": 98
        },
        {
          "output_type": "execute_result",
          "data": {
            "text/plain": [
              "MulticlassClassification(\n",
              "  (layer_1): Linear(in_features=26, out_features=512, bias=True)\n",
              "  (layer_2): Linear(in_features=512, out_features=128, bias=True)\n",
              "  (layer_3): Linear(in_features=128, out_features=64, bias=True)\n",
              "  (layer_out): Linear(in_features=64, out_features=3, bias=True)\n",
              "  (relu): ReLU()\n",
              "  (dropout): Dropout(p=0.2, inplace=False)\n",
              "  (batchnorm1): BatchNorm1d(512, eps=1e-05, momentum=0.1, affine=True, track_running_stats=True)\n",
              "  (batchnorm2): BatchNorm1d(128, eps=1e-05, momentum=0.1, affine=True, track_running_stats=True)\n",
              "  (batchnorm3): BatchNorm1d(64, eps=1e-05, momentum=0.1, affine=True, track_running_stats=True)\n",
              ")"
            ]
          },
          "metadata": {},
          "execution_count": 98
        },
        {
          "output_type": "execute_result",
          "data": {
            "text/plain": [
              "MulticlassClassification(\n",
              "  (layer_1): Linear(in_features=26, out_features=512, bias=True)\n",
              "  (layer_2): Linear(in_features=512, out_features=128, bias=True)\n",
              "  (layer_3): Linear(in_features=128, out_features=64, bias=True)\n",
              "  (layer_out): Linear(in_features=64, out_features=3, bias=True)\n",
              "  (relu): ReLU()\n",
              "  (dropout): Dropout(p=0.2, inplace=False)\n",
              "  (batchnorm1): BatchNorm1d(512, eps=1e-05, momentum=0.1, affine=True, track_running_stats=True)\n",
              "  (batchnorm2): BatchNorm1d(128, eps=1e-05, momentum=0.1, affine=True, track_running_stats=True)\n",
              "  (batchnorm3): BatchNorm1d(64, eps=1e-05, momentum=0.1, affine=True, track_running_stats=True)\n",
              ")"
            ]
          },
          "metadata": {},
          "execution_count": 98
        },
        {
          "output_type": "execute_result",
          "data": {
            "text/plain": [
              "MulticlassClassification(\n",
              "  (layer_1): Linear(in_features=26, out_features=512, bias=True)\n",
              "  (layer_2): Linear(in_features=512, out_features=128, bias=True)\n",
              "  (layer_3): Linear(in_features=128, out_features=64, bias=True)\n",
              "  (layer_out): Linear(in_features=64, out_features=3, bias=True)\n",
              "  (relu): ReLU()\n",
              "  (dropout): Dropout(p=0.2, inplace=False)\n",
              "  (batchnorm1): BatchNorm1d(512, eps=1e-05, momentum=0.1, affine=True, track_running_stats=True)\n",
              "  (batchnorm2): BatchNorm1d(128, eps=1e-05, momentum=0.1, affine=True, track_running_stats=True)\n",
              "  (batchnorm3): BatchNorm1d(64, eps=1e-05, momentum=0.1, affine=True, track_running_stats=True)\n",
              ")"
            ]
          },
          "metadata": {},
          "execution_count": 98
        },
        {
          "output_type": "execute_result",
          "data": {
            "text/plain": [
              "MulticlassClassification(\n",
              "  (layer_1): Linear(in_features=26, out_features=512, bias=True)\n",
              "  (layer_2): Linear(in_features=512, out_features=128, bias=True)\n",
              "  (layer_3): Linear(in_features=128, out_features=64, bias=True)\n",
              "  (layer_out): Linear(in_features=64, out_features=3, bias=True)\n",
              "  (relu): ReLU()\n",
              "  (dropout): Dropout(p=0.2, inplace=False)\n",
              "  (batchnorm1): BatchNorm1d(512, eps=1e-05, momentum=0.1, affine=True, track_running_stats=True)\n",
              "  (batchnorm2): BatchNorm1d(128, eps=1e-05, momentum=0.1, affine=True, track_running_stats=True)\n",
              "  (batchnorm3): BatchNorm1d(64, eps=1e-05, momentum=0.1, affine=True, track_running_stats=True)\n",
              ")"
            ]
          },
          "metadata": {},
          "execution_count": 98
        },
        {
          "output_type": "execute_result",
          "data": {
            "text/plain": [
              "MulticlassClassification(\n",
              "  (layer_1): Linear(in_features=26, out_features=512, bias=True)\n",
              "  (layer_2): Linear(in_features=512, out_features=128, bias=True)\n",
              "  (layer_3): Linear(in_features=128, out_features=64, bias=True)\n",
              "  (layer_out): Linear(in_features=64, out_features=3, bias=True)\n",
              "  (relu): ReLU()\n",
              "  (dropout): Dropout(p=0.2, inplace=False)\n",
              "  (batchnorm1): BatchNorm1d(512, eps=1e-05, momentum=0.1, affine=True, track_running_stats=True)\n",
              "  (batchnorm2): BatchNorm1d(128, eps=1e-05, momentum=0.1, affine=True, track_running_stats=True)\n",
              "  (batchnorm3): BatchNorm1d(64, eps=1e-05, momentum=0.1, affine=True, track_running_stats=True)\n",
              ")"
            ]
          },
          "metadata": {},
          "execution_count": 98
        },
        {
          "output_type": "execute_result",
          "data": {
            "text/plain": [
              "MulticlassClassification(\n",
              "  (layer_1): Linear(in_features=26, out_features=512, bias=True)\n",
              "  (layer_2): Linear(in_features=512, out_features=128, bias=True)\n",
              "  (layer_3): Linear(in_features=128, out_features=64, bias=True)\n",
              "  (layer_out): Linear(in_features=64, out_features=3, bias=True)\n",
              "  (relu): ReLU()\n",
              "  (dropout): Dropout(p=0.2, inplace=False)\n",
              "  (batchnorm1): BatchNorm1d(512, eps=1e-05, momentum=0.1, affine=True, track_running_stats=True)\n",
              "  (batchnorm2): BatchNorm1d(128, eps=1e-05, momentum=0.1, affine=True, track_running_stats=True)\n",
              "  (batchnorm3): BatchNorm1d(64, eps=1e-05, momentum=0.1, affine=True, track_running_stats=True)\n",
              ")"
            ]
          },
          "metadata": {},
          "execution_count": 98
        },
        {
          "output_type": "execute_result",
          "data": {
            "text/plain": [
              "MulticlassClassification(\n",
              "  (layer_1): Linear(in_features=26, out_features=512, bias=True)\n",
              "  (layer_2): Linear(in_features=512, out_features=128, bias=True)\n",
              "  (layer_3): Linear(in_features=128, out_features=64, bias=True)\n",
              "  (layer_out): Linear(in_features=64, out_features=3, bias=True)\n",
              "  (relu): ReLU()\n",
              "  (dropout): Dropout(p=0.2, inplace=False)\n",
              "  (batchnorm1): BatchNorm1d(512, eps=1e-05, momentum=0.1, affine=True, track_running_stats=True)\n",
              "  (batchnorm2): BatchNorm1d(128, eps=1e-05, momentum=0.1, affine=True, track_running_stats=True)\n",
              "  (batchnorm3): BatchNorm1d(64, eps=1e-05, momentum=0.1, affine=True, track_running_stats=True)\n",
              ")"
            ]
          },
          "metadata": {},
          "execution_count": 98
        },
        {
          "output_type": "execute_result",
          "data": {
            "text/plain": [
              "MulticlassClassification(\n",
              "  (layer_1): Linear(in_features=26, out_features=512, bias=True)\n",
              "  (layer_2): Linear(in_features=512, out_features=128, bias=True)\n",
              "  (layer_3): Linear(in_features=128, out_features=64, bias=True)\n",
              "  (layer_out): Linear(in_features=64, out_features=3, bias=True)\n",
              "  (relu): ReLU()\n",
              "  (dropout): Dropout(p=0.2, inplace=False)\n",
              "  (batchnorm1): BatchNorm1d(512, eps=1e-05, momentum=0.1, affine=True, track_running_stats=True)\n",
              "  (batchnorm2): BatchNorm1d(128, eps=1e-05, momentum=0.1, affine=True, track_running_stats=True)\n",
              "  (batchnorm3): BatchNorm1d(64, eps=1e-05, momentum=0.1, affine=True, track_running_stats=True)\n",
              ")"
            ]
          },
          "metadata": {},
          "execution_count": 98
        },
        {
          "output_type": "execute_result",
          "data": {
            "text/plain": [
              "MulticlassClassification(\n",
              "  (layer_1): Linear(in_features=26, out_features=512, bias=True)\n",
              "  (layer_2): Linear(in_features=512, out_features=128, bias=True)\n",
              "  (layer_3): Linear(in_features=128, out_features=64, bias=True)\n",
              "  (layer_out): Linear(in_features=64, out_features=3, bias=True)\n",
              "  (relu): ReLU()\n",
              "  (dropout): Dropout(p=0.2, inplace=False)\n",
              "  (batchnorm1): BatchNorm1d(512, eps=1e-05, momentum=0.1, affine=True, track_running_stats=True)\n",
              "  (batchnorm2): BatchNorm1d(128, eps=1e-05, momentum=0.1, affine=True, track_running_stats=True)\n",
              "  (batchnorm3): BatchNorm1d(64, eps=1e-05, momentum=0.1, affine=True, track_running_stats=True)\n",
              ")"
            ]
          },
          "metadata": {},
          "execution_count": 98
        },
        {
          "output_type": "execute_result",
          "data": {
            "text/plain": [
              "MulticlassClassification(\n",
              "  (layer_1): Linear(in_features=26, out_features=512, bias=True)\n",
              "  (layer_2): Linear(in_features=512, out_features=128, bias=True)\n",
              "  (layer_3): Linear(in_features=128, out_features=64, bias=True)\n",
              "  (layer_out): Linear(in_features=64, out_features=3, bias=True)\n",
              "  (relu): ReLU()\n",
              "  (dropout): Dropout(p=0.2, inplace=False)\n",
              "  (batchnorm1): BatchNorm1d(512, eps=1e-05, momentum=0.1, affine=True, track_running_stats=True)\n",
              "  (batchnorm2): BatchNorm1d(128, eps=1e-05, momentum=0.1, affine=True, track_running_stats=True)\n",
              "  (batchnorm3): BatchNorm1d(64, eps=1e-05, momentum=0.1, affine=True, track_running_stats=True)\n",
              ")"
            ]
          },
          "metadata": {},
          "execution_count": 98
        },
        {
          "output_type": "execute_result",
          "data": {
            "text/plain": [
              "MulticlassClassification(\n",
              "  (layer_1): Linear(in_features=26, out_features=512, bias=True)\n",
              "  (layer_2): Linear(in_features=512, out_features=128, bias=True)\n",
              "  (layer_3): Linear(in_features=128, out_features=64, bias=True)\n",
              "  (layer_out): Linear(in_features=64, out_features=3, bias=True)\n",
              "  (relu): ReLU()\n",
              "  (dropout): Dropout(p=0.2, inplace=False)\n",
              "  (batchnorm1): BatchNorm1d(512, eps=1e-05, momentum=0.1, affine=True, track_running_stats=True)\n",
              "  (batchnorm2): BatchNorm1d(128, eps=1e-05, momentum=0.1, affine=True, track_running_stats=True)\n",
              "  (batchnorm3): BatchNorm1d(64, eps=1e-05, momentum=0.1, affine=True, track_running_stats=True)\n",
              ")"
            ]
          },
          "metadata": {},
          "execution_count": 98
        },
        {
          "output_type": "execute_result",
          "data": {
            "text/plain": [
              "MulticlassClassification(\n",
              "  (layer_1): Linear(in_features=26, out_features=512, bias=True)\n",
              "  (layer_2): Linear(in_features=512, out_features=128, bias=True)\n",
              "  (layer_3): Linear(in_features=128, out_features=64, bias=True)\n",
              "  (layer_out): Linear(in_features=64, out_features=3, bias=True)\n",
              "  (relu): ReLU()\n",
              "  (dropout): Dropout(p=0.2, inplace=False)\n",
              "  (batchnorm1): BatchNorm1d(512, eps=1e-05, momentum=0.1, affine=True, track_running_stats=True)\n",
              "  (batchnorm2): BatchNorm1d(128, eps=1e-05, momentum=0.1, affine=True, track_running_stats=True)\n",
              "  (batchnorm3): BatchNorm1d(64, eps=1e-05, momentum=0.1, affine=True, track_running_stats=True)\n",
              ")"
            ]
          },
          "metadata": {},
          "execution_count": 98
        },
        {
          "output_type": "execute_result",
          "data": {
            "text/plain": [
              "MulticlassClassification(\n",
              "  (layer_1): Linear(in_features=26, out_features=512, bias=True)\n",
              "  (layer_2): Linear(in_features=512, out_features=128, bias=True)\n",
              "  (layer_3): Linear(in_features=128, out_features=64, bias=True)\n",
              "  (layer_out): Linear(in_features=64, out_features=3, bias=True)\n",
              "  (relu): ReLU()\n",
              "  (dropout): Dropout(p=0.2, inplace=False)\n",
              "  (batchnorm1): BatchNorm1d(512, eps=1e-05, momentum=0.1, affine=True, track_running_stats=True)\n",
              "  (batchnorm2): BatchNorm1d(128, eps=1e-05, momentum=0.1, affine=True, track_running_stats=True)\n",
              "  (batchnorm3): BatchNorm1d(64, eps=1e-05, momentum=0.1, affine=True, track_running_stats=True)\n",
              ")"
            ]
          },
          "metadata": {},
          "execution_count": 98
        },
        {
          "output_type": "execute_result",
          "data": {
            "text/plain": [
              "MulticlassClassification(\n",
              "  (layer_1): Linear(in_features=26, out_features=512, bias=True)\n",
              "  (layer_2): Linear(in_features=512, out_features=128, bias=True)\n",
              "  (layer_3): Linear(in_features=128, out_features=64, bias=True)\n",
              "  (layer_out): Linear(in_features=64, out_features=3, bias=True)\n",
              "  (relu): ReLU()\n",
              "  (dropout): Dropout(p=0.2, inplace=False)\n",
              "  (batchnorm1): BatchNorm1d(512, eps=1e-05, momentum=0.1, affine=True, track_running_stats=True)\n",
              "  (batchnorm2): BatchNorm1d(128, eps=1e-05, momentum=0.1, affine=True, track_running_stats=True)\n",
              "  (batchnorm3): BatchNorm1d(64, eps=1e-05, momentum=0.1, affine=True, track_running_stats=True)\n",
              ")"
            ]
          },
          "metadata": {},
          "execution_count": 98
        },
        {
          "output_type": "execute_result",
          "data": {
            "text/plain": [
              "MulticlassClassification(\n",
              "  (layer_1): Linear(in_features=26, out_features=512, bias=True)\n",
              "  (layer_2): Linear(in_features=512, out_features=128, bias=True)\n",
              "  (layer_3): Linear(in_features=128, out_features=64, bias=True)\n",
              "  (layer_out): Linear(in_features=64, out_features=3, bias=True)\n",
              "  (relu): ReLU()\n",
              "  (dropout): Dropout(p=0.2, inplace=False)\n",
              "  (batchnorm1): BatchNorm1d(512, eps=1e-05, momentum=0.1, affine=True, track_running_stats=True)\n",
              "  (batchnorm2): BatchNorm1d(128, eps=1e-05, momentum=0.1, affine=True, track_running_stats=True)\n",
              "  (batchnorm3): BatchNorm1d(64, eps=1e-05, momentum=0.1, affine=True, track_running_stats=True)\n",
              ")"
            ]
          },
          "metadata": {},
          "execution_count": 98
        },
        {
          "output_type": "execute_result",
          "data": {
            "text/plain": [
              "MulticlassClassification(\n",
              "  (layer_1): Linear(in_features=26, out_features=512, bias=True)\n",
              "  (layer_2): Linear(in_features=512, out_features=128, bias=True)\n",
              "  (layer_3): Linear(in_features=128, out_features=64, bias=True)\n",
              "  (layer_out): Linear(in_features=64, out_features=3, bias=True)\n",
              "  (relu): ReLU()\n",
              "  (dropout): Dropout(p=0.2, inplace=False)\n",
              "  (batchnorm1): BatchNorm1d(512, eps=1e-05, momentum=0.1, affine=True, track_running_stats=True)\n",
              "  (batchnorm2): BatchNorm1d(128, eps=1e-05, momentum=0.1, affine=True, track_running_stats=True)\n",
              "  (batchnorm3): BatchNorm1d(64, eps=1e-05, momentum=0.1, affine=True, track_running_stats=True)\n",
              ")"
            ]
          },
          "metadata": {},
          "execution_count": 98
        },
        {
          "output_type": "execute_result",
          "data": {
            "text/plain": [
              "MulticlassClassification(\n",
              "  (layer_1): Linear(in_features=26, out_features=512, bias=True)\n",
              "  (layer_2): Linear(in_features=512, out_features=128, bias=True)\n",
              "  (layer_3): Linear(in_features=128, out_features=64, bias=True)\n",
              "  (layer_out): Linear(in_features=64, out_features=3, bias=True)\n",
              "  (relu): ReLU()\n",
              "  (dropout): Dropout(p=0.2, inplace=False)\n",
              "  (batchnorm1): BatchNorm1d(512, eps=1e-05, momentum=0.1, affine=True, track_running_stats=True)\n",
              "  (batchnorm2): BatchNorm1d(128, eps=1e-05, momentum=0.1, affine=True, track_running_stats=True)\n",
              "  (batchnorm3): BatchNorm1d(64, eps=1e-05, momentum=0.1, affine=True, track_running_stats=True)\n",
              ")"
            ]
          },
          "metadata": {},
          "execution_count": 98
        },
        {
          "output_type": "execute_result",
          "data": {
            "text/plain": [
              "MulticlassClassification(\n",
              "  (layer_1): Linear(in_features=26, out_features=512, bias=True)\n",
              "  (layer_2): Linear(in_features=512, out_features=128, bias=True)\n",
              "  (layer_3): Linear(in_features=128, out_features=64, bias=True)\n",
              "  (layer_out): Linear(in_features=64, out_features=3, bias=True)\n",
              "  (relu): ReLU()\n",
              "  (dropout): Dropout(p=0.2, inplace=False)\n",
              "  (batchnorm1): BatchNorm1d(512, eps=1e-05, momentum=0.1, affine=True, track_running_stats=True)\n",
              "  (batchnorm2): BatchNorm1d(128, eps=1e-05, momentum=0.1, affine=True, track_running_stats=True)\n",
              "  (batchnorm3): BatchNorm1d(64, eps=1e-05, momentum=0.1, affine=True, track_running_stats=True)\n",
              ")"
            ]
          },
          "metadata": {},
          "execution_count": 98
        },
        {
          "output_type": "execute_result",
          "data": {
            "text/plain": [
              "MulticlassClassification(\n",
              "  (layer_1): Linear(in_features=26, out_features=512, bias=True)\n",
              "  (layer_2): Linear(in_features=512, out_features=128, bias=True)\n",
              "  (layer_3): Linear(in_features=128, out_features=64, bias=True)\n",
              "  (layer_out): Linear(in_features=64, out_features=3, bias=True)\n",
              "  (relu): ReLU()\n",
              "  (dropout): Dropout(p=0.2, inplace=False)\n",
              "  (batchnorm1): BatchNorm1d(512, eps=1e-05, momentum=0.1, affine=True, track_running_stats=True)\n",
              "  (batchnorm2): BatchNorm1d(128, eps=1e-05, momentum=0.1, affine=True, track_running_stats=True)\n",
              "  (batchnorm3): BatchNorm1d(64, eps=1e-05, momentum=0.1, affine=True, track_running_stats=True)\n",
              ")"
            ]
          },
          "metadata": {},
          "execution_count": 98
        },
        {
          "output_type": "execute_result",
          "data": {
            "text/plain": [
              "MulticlassClassification(\n",
              "  (layer_1): Linear(in_features=26, out_features=512, bias=True)\n",
              "  (layer_2): Linear(in_features=512, out_features=128, bias=True)\n",
              "  (layer_3): Linear(in_features=128, out_features=64, bias=True)\n",
              "  (layer_out): Linear(in_features=64, out_features=3, bias=True)\n",
              "  (relu): ReLU()\n",
              "  (dropout): Dropout(p=0.2, inplace=False)\n",
              "  (batchnorm1): BatchNorm1d(512, eps=1e-05, momentum=0.1, affine=True, track_running_stats=True)\n",
              "  (batchnorm2): BatchNorm1d(128, eps=1e-05, momentum=0.1, affine=True, track_running_stats=True)\n",
              "  (batchnorm3): BatchNorm1d(64, eps=1e-05, momentum=0.1, affine=True, track_running_stats=True)\n",
              ")"
            ]
          },
          "metadata": {},
          "execution_count": 98
        },
        {
          "output_type": "execute_result",
          "data": {
            "text/plain": [
              "MulticlassClassification(\n",
              "  (layer_1): Linear(in_features=26, out_features=512, bias=True)\n",
              "  (layer_2): Linear(in_features=512, out_features=128, bias=True)\n",
              "  (layer_3): Linear(in_features=128, out_features=64, bias=True)\n",
              "  (layer_out): Linear(in_features=64, out_features=3, bias=True)\n",
              "  (relu): ReLU()\n",
              "  (dropout): Dropout(p=0.2, inplace=False)\n",
              "  (batchnorm1): BatchNorm1d(512, eps=1e-05, momentum=0.1, affine=True, track_running_stats=True)\n",
              "  (batchnorm2): BatchNorm1d(128, eps=1e-05, momentum=0.1, affine=True, track_running_stats=True)\n",
              "  (batchnorm3): BatchNorm1d(64, eps=1e-05, momentum=0.1, affine=True, track_running_stats=True)\n",
              ")"
            ]
          },
          "metadata": {},
          "execution_count": 98
        },
        {
          "output_type": "execute_result",
          "data": {
            "text/plain": [
              "MulticlassClassification(\n",
              "  (layer_1): Linear(in_features=26, out_features=512, bias=True)\n",
              "  (layer_2): Linear(in_features=512, out_features=128, bias=True)\n",
              "  (layer_3): Linear(in_features=128, out_features=64, bias=True)\n",
              "  (layer_out): Linear(in_features=64, out_features=3, bias=True)\n",
              "  (relu): ReLU()\n",
              "  (dropout): Dropout(p=0.2, inplace=False)\n",
              "  (batchnorm1): BatchNorm1d(512, eps=1e-05, momentum=0.1, affine=True, track_running_stats=True)\n",
              "  (batchnorm2): BatchNorm1d(128, eps=1e-05, momentum=0.1, affine=True, track_running_stats=True)\n",
              "  (batchnorm3): BatchNorm1d(64, eps=1e-05, momentum=0.1, affine=True, track_running_stats=True)\n",
              ")"
            ]
          },
          "metadata": {},
          "execution_count": 98
        },
        {
          "output_type": "execute_result",
          "data": {
            "text/plain": [
              "MulticlassClassification(\n",
              "  (layer_1): Linear(in_features=26, out_features=512, bias=True)\n",
              "  (layer_2): Linear(in_features=512, out_features=128, bias=True)\n",
              "  (layer_3): Linear(in_features=128, out_features=64, bias=True)\n",
              "  (layer_out): Linear(in_features=64, out_features=3, bias=True)\n",
              "  (relu): ReLU()\n",
              "  (dropout): Dropout(p=0.2, inplace=False)\n",
              "  (batchnorm1): BatchNorm1d(512, eps=1e-05, momentum=0.1, affine=True, track_running_stats=True)\n",
              "  (batchnorm2): BatchNorm1d(128, eps=1e-05, momentum=0.1, affine=True, track_running_stats=True)\n",
              "  (batchnorm3): BatchNorm1d(64, eps=1e-05, momentum=0.1, affine=True, track_running_stats=True)\n",
              ")"
            ]
          },
          "metadata": {},
          "execution_count": 98
        },
        {
          "output_type": "execute_result",
          "data": {
            "text/plain": [
              "MulticlassClassification(\n",
              "  (layer_1): Linear(in_features=26, out_features=512, bias=True)\n",
              "  (layer_2): Linear(in_features=512, out_features=128, bias=True)\n",
              "  (layer_3): Linear(in_features=128, out_features=64, bias=True)\n",
              "  (layer_out): Linear(in_features=64, out_features=3, bias=True)\n",
              "  (relu): ReLU()\n",
              "  (dropout): Dropout(p=0.2, inplace=False)\n",
              "  (batchnorm1): BatchNorm1d(512, eps=1e-05, momentum=0.1, affine=True, track_running_stats=True)\n",
              "  (batchnorm2): BatchNorm1d(128, eps=1e-05, momentum=0.1, affine=True, track_running_stats=True)\n",
              "  (batchnorm3): BatchNorm1d(64, eps=1e-05, momentum=0.1, affine=True, track_running_stats=True)\n",
              ")"
            ]
          },
          "metadata": {},
          "execution_count": 98
        },
        {
          "output_type": "execute_result",
          "data": {
            "text/plain": [
              "MulticlassClassification(\n",
              "  (layer_1): Linear(in_features=26, out_features=512, bias=True)\n",
              "  (layer_2): Linear(in_features=512, out_features=128, bias=True)\n",
              "  (layer_3): Linear(in_features=128, out_features=64, bias=True)\n",
              "  (layer_out): Linear(in_features=64, out_features=3, bias=True)\n",
              "  (relu): ReLU()\n",
              "  (dropout): Dropout(p=0.2, inplace=False)\n",
              "  (batchnorm1): BatchNorm1d(512, eps=1e-05, momentum=0.1, affine=True, track_running_stats=True)\n",
              "  (batchnorm2): BatchNorm1d(128, eps=1e-05, momentum=0.1, affine=True, track_running_stats=True)\n",
              "  (batchnorm3): BatchNorm1d(64, eps=1e-05, momentum=0.1, affine=True, track_running_stats=True)\n",
              ")"
            ]
          },
          "metadata": {},
          "execution_count": 98
        },
        {
          "output_type": "execute_result",
          "data": {
            "text/plain": [
              "MulticlassClassification(\n",
              "  (layer_1): Linear(in_features=26, out_features=512, bias=True)\n",
              "  (layer_2): Linear(in_features=512, out_features=128, bias=True)\n",
              "  (layer_3): Linear(in_features=128, out_features=64, bias=True)\n",
              "  (layer_out): Linear(in_features=64, out_features=3, bias=True)\n",
              "  (relu): ReLU()\n",
              "  (dropout): Dropout(p=0.2, inplace=False)\n",
              "  (batchnorm1): BatchNorm1d(512, eps=1e-05, momentum=0.1, affine=True, track_running_stats=True)\n",
              "  (batchnorm2): BatchNorm1d(128, eps=1e-05, momentum=0.1, affine=True, track_running_stats=True)\n",
              "  (batchnorm3): BatchNorm1d(64, eps=1e-05, momentum=0.1, affine=True, track_running_stats=True)\n",
              ")"
            ]
          },
          "metadata": {},
          "execution_count": 98
        },
        {
          "output_type": "execute_result",
          "data": {
            "text/plain": [
              "MulticlassClassification(\n",
              "  (layer_1): Linear(in_features=26, out_features=512, bias=True)\n",
              "  (layer_2): Linear(in_features=512, out_features=128, bias=True)\n",
              "  (layer_3): Linear(in_features=128, out_features=64, bias=True)\n",
              "  (layer_out): Linear(in_features=64, out_features=3, bias=True)\n",
              "  (relu): ReLU()\n",
              "  (dropout): Dropout(p=0.2, inplace=False)\n",
              "  (batchnorm1): BatchNorm1d(512, eps=1e-05, momentum=0.1, affine=True, track_running_stats=True)\n",
              "  (batchnorm2): BatchNorm1d(128, eps=1e-05, momentum=0.1, affine=True, track_running_stats=True)\n",
              "  (batchnorm3): BatchNorm1d(64, eps=1e-05, momentum=0.1, affine=True, track_running_stats=True)\n",
              ")"
            ]
          },
          "metadata": {},
          "execution_count": 98
        },
        {
          "output_type": "execute_result",
          "data": {
            "text/plain": [
              "MulticlassClassification(\n",
              "  (layer_1): Linear(in_features=26, out_features=512, bias=True)\n",
              "  (layer_2): Linear(in_features=512, out_features=128, bias=True)\n",
              "  (layer_3): Linear(in_features=128, out_features=64, bias=True)\n",
              "  (layer_out): Linear(in_features=64, out_features=3, bias=True)\n",
              "  (relu): ReLU()\n",
              "  (dropout): Dropout(p=0.2, inplace=False)\n",
              "  (batchnorm1): BatchNorm1d(512, eps=1e-05, momentum=0.1, affine=True, track_running_stats=True)\n",
              "  (batchnorm2): BatchNorm1d(128, eps=1e-05, momentum=0.1, affine=True, track_running_stats=True)\n",
              "  (batchnorm3): BatchNorm1d(64, eps=1e-05, momentum=0.1, affine=True, track_running_stats=True)\n",
              ")"
            ]
          },
          "metadata": {},
          "execution_count": 98
        },
        {
          "output_type": "execute_result",
          "data": {
            "text/plain": [
              "MulticlassClassification(\n",
              "  (layer_1): Linear(in_features=26, out_features=512, bias=True)\n",
              "  (layer_2): Linear(in_features=512, out_features=128, bias=True)\n",
              "  (layer_3): Linear(in_features=128, out_features=64, bias=True)\n",
              "  (layer_out): Linear(in_features=64, out_features=3, bias=True)\n",
              "  (relu): ReLU()\n",
              "  (dropout): Dropout(p=0.2, inplace=False)\n",
              "  (batchnorm1): BatchNorm1d(512, eps=1e-05, momentum=0.1, affine=True, track_running_stats=True)\n",
              "  (batchnorm2): BatchNorm1d(128, eps=1e-05, momentum=0.1, affine=True, track_running_stats=True)\n",
              "  (batchnorm3): BatchNorm1d(64, eps=1e-05, momentum=0.1, affine=True, track_running_stats=True)\n",
              ")"
            ]
          },
          "metadata": {},
          "execution_count": 98
        },
        {
          "output_type": "execute_result",
          "data": {
            "text/plain": [
              "MulticlassClassification(\n",
              "  (layer_1): Linear(in_features=26, out_features=512, bias=True)\n",
              "  (layer_2): Linear(in_features=512, out_features=128, bias=True)\n",
              "  (layer_3): Linear(in_features=128, out_features=64, bias=True)\n",
              "  (layer_out): Linear(in_features=64, out_features=3, bias=True)\n",
              "  (relu): ReLU()\n",
              "  (dropout): Dropout(p=0.2, inplace=False)\n",
              "  (batchnorm1): BatchNorm1d(512, eps=1e-05, momentum=0.1, affine=True, track_running_stats=True)\n",
              "  (batchnorm2): BatchNorm1d(128, eps=1e-05, momentum=0.1, affine=True, track_running_stats=True)\n",
              "  (batchnorm3): BatchNorm1d(64, eps=1e-05, momentum=0.1, affine=True, track_running_stats=True)\n",
              ")"
            ]
          },
          "metadata": {},
          "execution_count": 98
        },
        {
          "output_type": "execute_result",
          "data": {
            "text/plain": [
              "MulticlassClassification(\n",
              "  (layer_1): Linear(in_features=26, out_features=512, bias=True)\n",
              "  (layer_2): Linear(in_features=512, out_features=128, bias=True)\n",
              "  (layer_3): Linear(in_features=128, out_features=64, bias=True)\n",
              "  (layer_out): Linear(in_features=64, out_features=3, bias=True)\n",
              "  (relu): ReLU()\n",
              "  (dropout): Dropout(p=0.2, inplace=False)\n",
              "  (batchnorm1): BatchNorm1d(512, eps=1e-05, momentum=0.1, affine=True, track_running_stats=True)\n",
              "  (batchnorm2): BatchNorm1d(128, eps=1e-05, momentum=0.1, affine=True, track_running_stats=True)\n",
              "  (batchnorm3): BatchNorm1d(64, eps=1e-05, momentum=0.1, affine=True, track_running_stats=True)\n",
              ")"
            ]
          },
          "metadata": {},
          "execution_count": 98
        },
        {
          "output_type": "execute_result",
          "data": {
            "text/plain": [
              "MulticlassClassification(\n",
              "  (layer_1): Linear(in_features=26, out_features=512, bias=True)\n",
              "  (layer_2): Linear(in_features=512, out_features=128, bias=True)\n",
              "  (layer_3): Linear(in_features=128, out_features=64, bias=True)\n",
              "  (layer_out): Linear(in_features=64, out_features=3, bias=True)\n",
              "  (relu): ReLU()\n",
              "  (dropout): Dropout(p=0.2, inplace=False)\n",
              "  (batchnorm1): BatchNorm1d(512, eps=1e-05, momentum=0.1, affine=True, track_running_stats=True)\n",
              "  (batchnorm2): BatchNorm1d(128, eps=1e-05, momentum=0.1, affine=True, track_running_stats=True)\n",
              "  (batchnorm3): BatchNorm1d(64, eps=1e-05, momentum=0.1, affine=True, track_running_stats=True)\n",
              ")"
            ]
          },
          "metadata": {},
          "execution_count": 98
        },
        {
          "output_type": "execute_result",
          "data": {
            "text/plain": [
              "MulticlassClassification(\n",
              "  (layer_1): Linear(in_features=26, out_features=512, bias=True)\n",
              "  (layer_2): Linear(in_features=512, out_features=128, bias=True)\n",
              "  (layer_3): Linear(in_features=128, out_features=64, bias=True)\n",
              "  (layer_out): Linear(in_features=64, out_features=3, bias=True)\n",
              "  (relu): ReLU()\n",
              "  (dropout): Dropout(p=0.2, inplace=False)\n",
              "  (batchnorm1): BatchNorm1d(512, eps=1e-05, momentum=0.1, affine=True, track_running_stats=True)\n",
              "  (batchnorm2): BatchNorm1d(128, eps=1e-05, momentum=0.1, affine=True, track_running_stats=True)\n",
              "  (batchnorm3): BatchNorm1d(64, eps=1e-05, momentum=0.1, affine=True, track_running_stats=True)\n",
              ")"
            ]
          },
          "metadata": {},
          "execution_count": 98
        },
        {
          "output_type": "execute_result",
          "data": {
            "text/plain": [
              "MulticlassClassification(\n",
              "  (layer_1): Linear(in_features=26, out_features=512, bias=True)\n",
              "  (layer_2): Linear(in_features=512, out_features=128, bias=True)\n",
              "  (layer_3): Linear(in_features=128, out_features=64, bias=True)\n",
              "  (layer_out): Linear(in_features=64, out_features=3, bias=True)\n",
              "  (relu): ReLU()\n",
              "  (dropout): Dropout(p=0.2, inplace=False)\n",
              "  (batchnorm1): BatchNorm1d(512, eps=1e-05, momentum=0.1, affine=True, track_running_stats=True)\n",
              "  (batchnorm2): BatchNorm1d(128, eps=1e-05, momentum=0.1, affine=True, track_running_stats=True)\n",
              "  (batchnorm3): BatchNorm1d(64, eps=1e-05, momentum=0.1, affine=True, track_running_stats=True)\n",
              ")"
            ]
          },
          "metadata": {},
          "execution_count": 98
        },
        {
          "output_type": "execute_result",
          "data": {
            "text/plain": [
              "MulticlassClassification(\n",
              "  (layer_1): Linear(in_features=26, out_features=512, bias=True)\n",
              "  (layer_2): Linear(in_features=512, out_features=128, bias=True)\n",
              "  (layer_3): Linear(in_features=128, out_features=64, bias=True)\n",
              "  (layer_out): Linear(in_features=64, out_features=3, bias=True)\n",
              "  (relu): ReLU()\n",
              "  (dropout): Dropout(p=0.2, inplace=False)\n",
              "  (batchnorm1): BatchNorm1d(512, eps=1e-05, momentum=0.1, affine=True, track_running_stats=True)\n",
              "  (batchnorm2): BatchNorm1d(128, eps=1e-05, momentum=0.1, affine=True, track_running_stats=True)\n",
              "  (batchnorm3): BatchNorm1d(64, eps=1e-05, momentum=0.1, affine=True, track_running_stats=True)\n",
              ")"
            ]
          },
          "metadata": {},
          "execution_count": 98
        },
        {
          "output_type": "execute_result",
          "data": {
            "text/plain": [
              "MulticlassClassification(\n",
              "  (layer_1): Linear(in_features=26, out_features=512, bias=True)\n",
              "  (layer_2): Linear(in_features=512, out_features=128, bias=True)\n",
              "  (layer_3): Linear(in_features=128, out_features=64, bias=True)\n",
              "  (layer_out): Linear(in_features=64, out_features=3, bias=True)\n",
              "  (relu): ReLU()\n",
              "  (dropout): Dropout(p=0.2, inplace=False)\n",
              "  (batchnorm1): BatchNorm1d(512, eps=1e-05, momentum=0.1, affine=True, track_running_stats=True)\n",
              "  (batchnorm2): BatchNorm1d(128, eps=1e-05, momentum=0.1, affine=True, track_running_stats=True)\n",
              "  (batchnorm3): BatchNorm1d(64, eps=1e-05, momentum=0.1, affine=True, track_running_stats=True)\n",
              ")"
            ]
          },
          "metadata": {},
          "execution_count": 98
        },
        {
          "output_type": "execute_result",
          "data": {
            "text/plain": [
              "MulticlassClassification(\n",
              "  (layer_1): Linear(in_features=26, out_features=512, bias=True)\n",
              "  (layer_2): Linear(in_features=512, out_features=128, bias=True)\n",
              "  (layer_3): Linear(in_features=128, out_features=64, bias=True)\n",
              "  (layer_out): Linear(in_features=64, out_features=3, bias=True)\n",
              "  (relu): ReLU()\n",
              "  (dropout): Dropout(p=0.2, inplace=False)\n",
              "  (batchnorm1): BatchNorm1d(512, eps=1e-05, momentum=0.1, affine=True, track_running_stats=True)\n",
              "  (batchnorm2): BatchNorm1d(128, eps=1e-05, momentum=0.1, affine=True, track_running_stats=True)\n",
              "  (batchnorm3): BatchNorm1d(64, eps=1e-05, momentum=0.1, affine=True, track_running_stats=True)\n",
              ")"
            ]
          },
          "metadata": {},
          "execution_count": 98
        },
        {
          "output_type": "execute_result",
          "data": {
            "text/plain": [
              "MulticlassClassification(\n",
              "  (layer_1): Linear(in_features=26, out_features=512, bias=True)\n",
              "  (layer_2): Linear(in_features=512, out_features=128, bias=True)\n",
              "  (layer_3): Linear(in_features=128, out_features=64, bias=True)\n",
              "  (layer_out): Linear(in_features=64, out_features=3, bias=True)\n",
              "  (relu): ReLU()\n",
              "  (dropout): Dropout(p=0.2, inplace=False)\n",
              "  (batchnorm1): BatchNorm1d(512, eps=1e-05, momentum=0.1, affine=True, track_running_stats=True)\n",
              "  (batchnorm2): BatchNorm1d(128, eps=1e-05, momentum=0.1, affine=True, track_running_stats=True)\n",
              "  (batchnorm3): BatchNorm1d(64, eps=1e-05, momentum=0.1, affine=True, track_running_stats=True)\n",
              ")"
            ]
          },
          "metadata": {},
          "execution_count": 98
        },
        {
          "output_type": "execute_result",
          "data": {
            "text/plain": [
              "MulticlassClassification(\n",
              "  (layer_1): Linear(in_features=26, out_features=512, bias=True)\n",
              "  (layer_2): Linear(in_features=512, out_features=128, bias=True)\n",
              "  (layer_3): Linear(in_features=128, out_features=64, bias=True)\n",
              "  (layer_out): Linear(in_features=64, out_features=3, bias=True)\n",
              "  (relu): ReLU()\n",
              "  (dropout): Dropout(p=0.2, inplace=False)\n",
              "  (batchnorm1): BatchNorm1d(512, eps=1e-05, momentum=0.1, affine=True, track_running_stats=True)\n",
              "  (batchnorm2): BatchNorm1d(128, eps=1e-05, momentum=0.1, affine=True, track_running_stats=True)\n",
              "  (batchnorm3): BatchNorm1d(64, eps=1e-05, momentum=0.1, affine=True, track_running_stats=True)\n",
              ")"
            ]
          },
          "metadata": {},
          "execution_count": 98
        }
      ]
    },
    {
      "cell_type": "code",
      "source": [
        "print(f'Epoch {e+0:03}: | Train Loss: {train_epoch_loss_total/len(train_loader):.5f} | Val Loss: {val_epoch_loss_total/len(val_loader):.5f} | Train Acc: {train_epoch_acc_total/len(train_loader):.3f}| Val Acc: {val_epoch_acc_total/len(val_loader):.3f}')"
      ],
      "metadata": {
        "colab": {
          "base_uri": "https://localhost:8080/"
        },
        "id": "q_nQz2pcYZ0j",
        "outputId": "422191c6-d074-49f4-d5d3-b84d4ba5d62c"
      },
      "execution_count": null,
      "outputs": [
        {
          "output_type": "stream",
          "name": "stdout",
          "text": [
            "Epoch 200: | Train Loss: 0.00143 | Val Loss: 0.91051 | Train Acc: 1.000| Val Acc: 0.917\n"
          ]
        }
      ]
    },
    {
      "cell_type": "markdown",
      "source": [
        "in this homework i used PyTorch multiclass classification neural network with\n",
        "\n",
        "2 hidden layers, 3 class outputs and liner Relu activation function.\n",
        "\n",
        "i got accuracy 0.917\n",
        "\n",
        "in classification-1 homework i used different classification models and here\n",
        "\n",
        "i got slightly good results\n",
        "\n"
      ],
      "metadata": {
        "id": "rJ9hUa2OLSsm"
      }
    }
  ]
}